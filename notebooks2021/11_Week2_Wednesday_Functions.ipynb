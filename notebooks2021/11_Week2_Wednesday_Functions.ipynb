{
 "cells": [
  {
   "cell_type": "markdown",
   "metadata": {},
   "source": [
    "# Functions\n",
    "\n",
    "Staff : !!!!!!!!!\n",
    "Support Material : !!!!!!!!\n",
    "Support Sessions : !!!!!!!!"
   ]
  },
  {
   "cell_type": "markdown",
   "metadata": {},
   "source": [
    "## Week 2 Monday Morning\n",
    "### Hammond Chapter 5: Functions (and Subroutines and Modules)"
   ]
  },
  {
   "cell_type": "markdown",
   "metadata": {},
   "source": [
    "### What all programming languages have in common:\n",
    "\n",
    "- Datatypes and procedures operating on them\n",
    "    - int, float, list, str, tuple, bool, dict, ...\n",
    "- Tests and boolean operators combining them\n",
    "    - ==, in, <, >, and, or, not ...\n",
    "- Variables\n",
    "    - _name_ = _expression_\n",
    "- Input and Output\n",
    "    - input(), print(), read(), write(), ...\n",
    "- Control structures for conditions, loops etc.\n",
    "    - if, elif, else, for, while, break, continue, pass, ...\n",
    "- A way of extending the language with your own procedures (and datatypes)\n",
    "    - def"
   ]
  },
  {
   "cell_type": "markdown",
   "metadata": {},
   "source": [
    "### After this session we know now basically all we have to know to write complex Python programs!"
   ]
  },
  {
   "cell_type": "code",
   "execution_count": 1,
   "metadata": {},
   "outputs": [
    {
     "data": {
      "text/plain": [
       "['apple', 'anton', 'almos']"
      ]
     },
     "execution_count": 1,
     "metadata": {},
     "output_type": "execute_result"
    }
   ],
   "source": [
    "# Make a filter that takes a list of words as input and returns a list of all 5-letter words starting with an 'a'.\n",
    "# (loop + test)\n",
    "\n",
    "words = ['abba', 'point', 'madam', 'feline', 'level', 'apple', 'google', 'anton', 'microsoft', 'facebook', 'goggle','amazon', 'oracle', 'almos']\n",
    "\n",
    "result = []\n",
    "for word in words:\n",
    "    if len(word) == 5 and word[0] == 'a':\n",
    "        result.append(word)\n",
    "        \n",
    "result"
   ]
  },
  {
   "cell_type": "code",
   "execution_count": 2,
   "metadata": {},
   "outputs": [],
   "source": [
    "# We can define a new function that is reusable (known to Pyhon) and can be used with different arguments \n",
    "\n",
    "def filter_words (word_list):\n",
    "    result = []\n",
    "    for word in word_list:\n",
    "        if len(word) == 5 and word[0] == 'a':\n",
    "            result.append(word)\n",
    "    return result\n",
    "\n"
   ]
  },
  {
   "cell_type": "code",
   "execution_count": 3,
   "metadata": {},
   "outputs": [
    {
     "data": {
      "text/plain": [
       "['apple', 'anton', 'almos']"
      ]
     },
     "execution_count": 3,
     "metadata": {},
     "output_type": "execute_result"
    }
   ],
   "source": [
    "filter_words(words)"
   ]
  },
  {
   "cell_type": "code",
   "execution_count": 4,
   "metadata": {},
   "outputs": [
    {
     "data": {
      "text/plain": [
       "['apple']"
      ]
     },
     "execution_count": 4,
     "metadata": {},
     "output_type": "execute_result"
    }
   ],
   "source": [
    "# Now we can use this function with any list of words as argument\n",
    "\n",
    "words2 = ['a', 'basket', 'of', 'fruit', 'with', 'one', 'apple', 'and', 'one', 'banana']\n",
    "\n",
    "filter_words(words2)"
   ]
  },
  {
   "cell_type": "code",
   "execution_count": 5,
   "metadata": {},
   "outputs": [
    {
     "data": {
      "text/plain": [
       "['apple']"
      ]
     },
     "execution_count": 5,
     "metadata": {},
     "output_type": "execute_result"
    }
   ],
   "source": [
    "filter_words(['pear', 'banana', 'apple'])"
   ]
  },
  {
   "cell_type": "code",
   "execution_count": 6,
   "metadata": {},
   "outputs": [
    {
     "data": {
      "text/plain": [
       "['google', 'goggle']"
      ]
     },
     "execution_count": 6,
     "metadata": {},
     "output_type": "execute_result"
    }
   ],
   "source": [
    "# We can make it even more flexible and reusable by making arguments \n",
    "# of the start letter and the length, so redefining the functionality\n",
    "\n",
    "def filter_words (w, first_letter, length):\n",
    "    result = []\n",
    "    for word in w:\n",
    "        if len(word) == length and word[0] == first_letter:\n",
    "            result.append(word)\n",
    "    return result\n",
    "\n",
    "filter_words(words, 'g', 6)"
   ]
  },
  {
   "cell_type": "code",
   "execution_count": 7,
   "metadata": {},
   "outputs": [
    {
     "data": {
      "text/plain": [
       "['basket', 'banana']"
      ]
     },
     "execution_count": 7,
     "metadata": {},
     "output_type": "execute_result"
    }
   ],
   "source": [
    "filter_words(words2, 'b', 6 )"
   ]
  },
  {
   "cell_type": "markdown",
   "metadata": {},
   "source": [
    "#### Decomposition and abstraction\n",
    "\n",
    "- Split up a complex piece of code into simpler pieces of code (decomposition, 'factoring')\n",
    "- Abstract a reusable piece of code by giving it a name (e.g. a new function or test)\n",
    "- Improved clarity, ease of change, reusability, ...\n"
   ]
  },
  {
   "cell_type": "code",
   "execution_count": 8,
   "metadata": {},
   "outputs": [
    {
     "data": {
      "text/plain": [
       "['I', 'like', 'the', 'words', 'serendipitous', 'and', 'fictitious']"
      ]
     },
     "execution_count": 8,
     "metadata": {},
     "output_type": "execute_result"
    }
   ],
   "source": [
    "# For each word in a list, check whether it is longer than 5 letters and if so, count the number of vowels\n",
    "\n",
    "sentence = \"I like the words serendipitous and fictitious\"\n",
    "words = sentence.split()\n",
    "words"
   ]
  },
  {
   "cell_type": "code",
   "execution_count": 9,
   "metadata": {},
   "outputs": [
    {
     "data": {
      "text/plain": [
       "[['serendipitous', 6], ['fictitious', 5]]"
      ]
     },
     "execution_count": 9,
     "metadata": {},
     "output_type": "execute_result"
    }
   ],
   "source": [
    "# return a list of vowelcounts\n",
    "result_list = []\n",
    "\n",
    "vowels = \"aeiou\"\n",
    "\n",
    "for word in words: # for each word\n",
    "    if len(word) > 5: # that is longer than 5 letters\n",
    "        vowelcount = 0 # we have to return a count\n",
    "        for letter in word: # for each letter in that word\n",
    "            if letter in vowels: # if a letter is a vowel\n",
    "                vowelcount += 1 # increment vowelcount\n",
    "        result_list.append([word, vowelcount]) # add the count to the list \n",
    "    \n",
    "result_list  "
   ]
  },
  {
   "cell_type": "code",
   "execution_count": 10,
   "metadata": {},
   "outputs": [],
   "source": [
    "### Let's make this clearer, more reusable and more elegant by decomposition\n",
    "\n",
    "def is_vowel (letter):\n",
    "    \"Test to check whether a letter (input of type str, output of type bool) is a vowel\"\n",
    "    return(letter in \"aeiou\")\n"
   ]
  },
  {
   "cell_type": "code",
   "execution_count": 12,
   "metadata": {},
   "outputs": [
    {
     "data": {
      "text/plain": [
       "True"
      ]
     },
     "execution_count": 12,
     "metadata": {},
     "output_type": "execute_result"
    }
   ],
   "source": [
    "x = is_vowel(\"a\")\n",
    "x"
   ]
  },
  {
   "cell_type": "code",
   "execution_count": 14,
   "metadata": {},
   "outputs": [
    {
     "data": {
      "text/plain": [
       "False"
      ]
     },
     "execution_count": 14,
     "metadata": {},
     "output_type": "execute_result"
    }
   ],
   "source": [
    "is_vowel(\"b\")"
   ]
  },
  {
   "cell_type": "code",
   "execution_count": 13,
   "metadata": {},
   "outputs": [],
   "source": [
    "def vowel_count (word):\n",
    "    \"Count the number of vowels in a word (input of type str, output of type int)\"\n",
    "    vowelcount = 0\n",
    "    for letter in word:\n",
    "        if is_vowel(letter):\n",
    "            vowelcount+= 1\n",
    "    return vowelcount"
   ]
  },
  {
   "cell_type": "code",
   "execution_count": 15,
   "metadata": {},
   "outputs": [
    {
     "data": {
      "text/plain": [
       "5"
      ]
     },
     "execution_count": 15,
     "metadata": {},
     "output_type": "execute_result"
    }
   ],
   "source": [
    "vowel_count(\"abracadabra\")"
   ]
  },
  {
   "cell_type": "code",
   "execution_count": 16,
   "metadata": {},
   "outputs": [],
   "source": [
    "# For each word in a list, check whether it is longer than 5 letters and if so, count the number of vowels\n",
    "\n",
    "def long_words_vowelcount (word_list, minimal_length=5):\n",
    "    \"Input a list of words and return a list of pairs of words longer \\\n",
    "    than 'minimal_length' with their number of vowels\"\n",
    "    result = []\n",
    "    for word in word_list:\n",
    "        if len(word) > minimal_length:\n",
    "            result.append([word, vowel_count(word)])\n",
    "    return result"
   ]
  },
  {
   "cell_type": "code",
   "execution_count": 17,
   "metadata": {},
   "outputs": [
    {
     "data": {
      "text/plain": [
       "[['serendipitous', 6], ['fictitious', 5]]"
      ]
     },
     "execution_count": 17,
     "metadata": {},
     "output_type": "execute_result"
    }
   ],
   "source": [
    "long_words_vowelcount(words)"
   ]
  },
  {
   "cell_type": "code",
   "execution_count": 18,
   "metadata": {},
   "outputs": [
    {
     "data": {
      "text/plain": [
       "[['basket', 2], ['fruit', 2], ['apple', 2], ['banana', 3]]"
      ]
     },
     "execution_count": 18,
     "metadata": {},
     "output_type": "execute_result"
    }
   ],
   "source": [
    "long_words_vowelcount(words2, 4)"
   ]
  },
  {
   "cell_type": "markdown",
   "metadata": {},
   "source": [
    "## Summary about function definition\n",
    "\n",
    "- Syntax: def (**arguments**): ... **code** ... return\n",
    "- once defined, they can be invoked\n",
    "- return is optional: functions that do something vs. functions that return something\n",
    "- arguments are optional\n",
    "- return exits the function (whatever follows)"
   ]
  },
  {
   "cell_type": "code",
   "execution_count": 19,
   "metadata": {},
   "outputs": [
    {
     "name": "stdout",
     "output_type": "stream",
     "text": [
      "12 10\n"
     ]
    }
   ],
   "source": [
    "## Global and local variables\n",
    "\n",
    "x = 12\n",
    "y = 10\n",
    "\n",
    "print(x, y)"
   ]
  },
  {
   "cell_type": "code",
   "execution_count": 20,
   "metadata": {},
   "outputs": [],
   "source": [
    "def myfunc (x, y):\n",
    "    print(x, y)\n",
    "    return x + y\n",
    "    print(\"should not appear\")"
   ]
  },
  {
   "cell_type": "code",
   "execution_count": 21,
   "metadata": {},
   "outputs": [
    {
     "name": "stdout",
     "output_type": "stream",
     "text": [
      "4 5\n"
     ]
    },
    {
     "data": {
      "text/plain": [
       "9"
      ]
     },
     "execution_count": 21,
     "metadata": {},
     "output_type": "execute_result"
    }
   ],
   "source": [
    "myfunc(4, 5)"
   ]
  },
  {
   "cell_type": "code",
   "execution_count": 22,
   "metadata": {},
   "outputs": [
    {
     "name": "stdout",
     "output_type": "stream",
     "text": [
      "12 10\n"
     ]
    }
   ],
   "source": [
    "print(x, y)"
   ]
  },
  {
   "cell_type": "code",
   "execution_count": 23,
   "metadata": {},
   "outputs": [
    {
     "data": {
      "text/plain": [
       "'blablablabla'"
      ]
     },
     "execution_count": 23,
     "metadata": {},
     "output_type": "execute_result"
    }
   ],
   "source": [
    "## Default values for arguments, multiple args\n",
    "\n",
    "def myfunc2 (x=2, y='Hi'):\n",
    "    return y*x\n",
    "\n",
    "myfunc2(4, 'bla')"
   ]
  },
  {
   "cell_type": "code",
   "execution_count": 24,
   "metadata": {},
   "outputs": [
    {
     "data": {
      "text/plain": [
       "'HiHi'"
      ]
     },
     "execution_count": 24,
     "metadata": {},
     "output_type": "execute_result"
    }
   ],
   "source": [
    "myfunc2()"
   ]
  },
  {
   "cell_type": "code",
   "execution_count": 26,
   "metadata": {},
   "outputs": [],
   "source": [
    "def myfunc3 (*args):\n",
    "    print(args)\n",
    "    return args[0], args[-1], len(args)"
   ]
  },
  {
   "cell_type": "code",
   "execution_count": 28,
   "metadata": {},
   "outputs": [
    {
     "name": "stdout",
     "output_type": "stream",
     "text": [
      "(1, 2, [1, 2], 'apple')\n"
     ]
    },
    {
     "data": {
      "text/plain": [
       "(1, 'apple', 4)"
      ]
     },
     "execution_count": 28,
     "metadata": {},
     "output_type": "execute_result"
    }
   ],
   "source": [
    "myfunc3(1, 2, [1, 2], 'apple')"
   ]
  },
  {
   "cell_type": "markdown",
   "metadata": {},
   "source": [
    "## Recursive functions\n",
    "\n",
    "- In dictionary: recursion: see recursion\n",
    "- A function that calls itself in its definition (but with different arguments)\n",
    "- Postponed to later:\n",
    "    - Functions can also return functions\n",
    "    - lambda functions can be defined on the fly and have no name (anonymous functions)"
   ]
  },
  {
   "cell_type": "code",
   "execution_count": 31,
   "metadata": {},
   "outputs": [],
   "source": [
    "# Recursive\n",
    "def numbersum (list_of_numbers):\n",
    "    print(list_of_numbers)\n",
    "    if list_of_numbers == []:\n",
    "        return 0\n",
    "    else:\n",
    "        return list_of_numbers[0] + numbersum(list_of_numbers[1:])"
   ]
  },
  {
   "cell_type": "code",
   "execution_count": 32,
   "metadata": {},
   "outputs": [],
   "source": [
    "# Iterative\n",
    "def numbersum2 (list_of_numbers):\n",
    "    result = 0\n",
    "    for number in list_of_numbers:\n",
    "        result += number\n",
    "    return result"
   ]
  },
  {
   "cell_type": "code",
   "execution_count": 33,
   "metadata": {},
   "outputs": [
    {
     "name": "stdout",
     "output_type": "stream",
     "text": [
      "[3, 4, 5, 6]\n",
      "[4, 5, 6]\n",
      "[5, 6]\n",
      "[6]\n",
      "[]\n"
     ]
    },
    {
     "data": {
      "text/plain": [
       "18"
      ]
     },
     "execution_count": 33,
     "metadata": {},
     "output_type": "execute_result"
    }
   ],
   "source": [
    "numbersum([3,4,5,6])"
   ]
  },
  {
   "cell_type": "markdown",
   "metadata": {},
   "source": [
    "## Home Exercise"
   ]
  },
  {
   "cell_type": "markdown",
   "metadata": {},
   "source": [
    "- Read in a text file (given on the google drive as poirot.txt)\n",
    "- Clean up the text to get rid of punctuation \n",
    "    - take a look at the Python methods .strip() and .isalpha()\n",
    "- Make a frequency dictionary of vowel-consonant templates of words: e.g. C, V, CV, CVC, etc.\n",
    "- Print the dictionary out to a file\n",
    "- Make optimal use of decomposition!"
   ]
  },
  {
   "cell_type": "markdown",
   "metadata": {},
   "source": [
    "<img src=\"cv-analysis.png\" width=1000 />"
   ]
  },
  {
   "cell_type": "code",
   "execution_count": 41,
   "metadata": {},
   "outputs": [],
   "source": [
    "# This is a possible function to start from\n",
    "\n",
    "def cv_analysis (infile, outfile):\n",
    "    'main function'\n",
    "    text = read_text(infile) # read the text from file\n",
    "    word_list = make_word_list(text) # make a list of words from the text string, clean words\n",
    "    cv_list = make_cv_list(word_list) # make a cv-structure word list\n",
    "    cv_dict = make_cv_freq_dict(cv_list) # make a freq dict\n",
    "    write_cv_freq_dict(cv_dict, outfile) # write out the result (sorted)\n",
    "    return 'Done!'"
   ]
  },
  {
   "cell_type": "code",
   "execution_count": 46,
   "metadata": {},
   "outputs": [],
   "source": [
    "def read_text (filename):\n",
    "    'Read and return a text file'\n",
    "    with open(filename, 'r') as infile:\n",
    "        return infile.read()"
   ]
  },
  {
   "cell_type": "code",
   "execution_count": 49,
   "metadata": {},
   "outputs": [],
   "source": [
    "text = read_text('poirot.txt')"
   ]
  },
  {
   "cell_type": "code",
   "execution_count": 50,
   "metadata": {},
   "outputs": [
    {
     "data": {
      "text/plain": [
       "295958"
      ]
     },
     "execution_count": 50,
     "metadata": {},
     "output_type": "execute_result"
    }
   ],
   "source": [
    "len(text)"
   ]
  },
  {
   "cell_type": "code",
   "execution_count": 59,
   "metadata": {},
   "outputs": [],
   "source": [
    "text2 = text[:1000]"
   ]
  },
  {
   "cell_type": "code",
   "execution_count": 56,
   "metadata": {},
   "outputs": [],
   "source": [
    "#text2.split()"
   ]
  },
  {
   "cell_type": "code",
   "execution_count": 54,
   "metadata": {},
   "outputs": [],
   "source": [
    "def make_word_list (text):\n",
    "    'Return a cleaned list of words from the input text string'\n",
    "    result = []\n",
    "    word_list = text.split()\n",
    "    for word in word_list:\n",
    "        result.append(clean_word(word))\n",
    "    return result"
   ]
  },
  {
   "cell_type": "code",
   "execution_count": 62,
   "metadata": {},
   "outputs": [],
   "source": [
    "#make_word_list(text2)"
   ]
  },
  {
   "cell_type": "code",
   "execution_count": 57,
   "metadata": {},
   "outputs": [],
   "source": [
    "def clean_word (word):\n",
    "    'Return a word string in lowercase with special characters removed'\n",
    "    word = word.lower()\n",
    "    result = \"\"\n",
    "    for letter in word:\n",
    "        if letter.isalpha():\n",
    "            result += letter\n",
    "    return result"
   ]
  },
  {
   "cell_type": "code",
   "execution_count": 63,
   "metadata": {},
   "outputs": [],
   "source": [
    "def is_vowel (letter):\n",
    "    'Test whether letter is a vowel'\n",
    "    return letter in 'aeiou'\n",
    "\n",
    "def cv_structure (word):\n",
    "    'Give the cv structure of a word'\n",
    "    result = \"\"\n",
    "    for letter in word:\n",
    "        if is_vowel (letter):\n",
    "            result += 'V'\n",
    "        else:\n",
    "            result += 'C'\n",
    "    return result\n",
    "\n",
    "def make_cv_list (word_list):\n",
    "    'provide the cv-structure of a list of words'\n",
    "    result = []\n",
    "    for word in word_list:\n",
    "        result.append(cv_structure(word))\n",
    "    return result"
   ]
  },
  {
   "cell_type": "code",
   "execution_count": 67,
   "metadata": {},
   "outputs": [],
   "source": [
    "#wl = make_word_list(text2)\n",
    "#cvl = make_cv_list(wl)\n",
    "#cvl"
   ]
  },
  {
   "cell_type": "code",
   "execution_count": 84,
   "metadata": {},
   "outputs": [
    {
     "data": {
      "text/plain": [
       "[[2, 'bla'], [3, 'apple'], [1, 'a']]"
      ]
     },
     "execution_count": 84,
     "metadata": {},
     "output_type": "execute_result"
    }
   ],
   "source": [
    "from operator import itemgetter\n",
    "lst = [[1, 'a'], [2, 'bla'], [3,'apple']]\n",
    "sorted(lst, key=itemgetter(1), reverse=True)"
   ]
  },
  {
   "cell_type": "code",
   "execution_count": 95,
   "metadata": {},
   "outputs": [
    {
     "data": {
      "text/plain": [
       "[[2, 'bla'], [3, 'apple'], [1, 'a']]"
      ]
     },
     "execution_count": 95,
     "metadata": {},
     "output_type": "execute_result"
    }
   ],
   "source": [
    "# Alternative solution with lambda\n",
    "sorted([[1, 'a'], [2, 'bla'], [3,'apple']], key= lambda x: x[1], reverse=True)"
   ]
  },
  {
   "cell_type": "code",
   "execution_count": 93,
   "metadata": {},
   "outputs": [],
   "source": [
    "def write_cv_freq_dict (cv_dic, filename):\n",
    "    sorted_keys_onvalue = sorted(cv_dic, key=cv_dic.get, reverse=True)\n",
    "    with open(filename, 'w') as outfile:\n",
    "        for key in sorted_keys_onvalue:\n",
    "            print('{}\\t{}\\n'.format(key, cv_dic[key]), end='')\n",
    "            outfile.write('{}\\t{}\\n'.format(key, cv_dic[key]))"
   ]
  },
  {
   "cell_type": "code",
   "execution_count": 102,
   "metadata": {},
   "outputs": [],
   "source": [
    "#fd = make_cv_freq_dict (cvl)\n",
    "#write_cv_freq_dict (fd, 'poirot-cv-structure.txt')"
   ]
  },
  {
   "cell_type": "code",
   "execution_count": 69,
   "metadata": {},
   "outputs": [],
   "source": [
    "def make_cv_freq_dict (cv_list):\n",
    "    'make a sorted frequency dic'\n",
    "    result = {}\n",
    "    for cv_struc in cv_list:\n",
    "        if cv_struc in result:\n",
    "            result[cv_struc] += 1\n",
    "        else:\n",
    "            result[cv_struc] = 1\n",
    "    return result"
   ]
  },
  {
   "cell_type": "code",
   "execution_count": 103,
   "metadata": {},
   "outputs": [],
   "source": [
    "# cv_analysis('poirot.txt', 'poirot_out.txt')"
   ]
  },
  {
   "cell_type": "markdown",
   "metadata": {},
   "source": [
    "## Modules"
   ]
  },
  {
   "cell_type": "code",
   "execution_count": 34,
   "metadata": {},
   "outputs": [],
   "source": [
    "import random"
   ]
  },
  {
   "cell_type": "code",
   "execution_count": 35,
   "metadata": {},
   "outputs": [
    {
     "name": "stdout",
     "output_type": "stream",
     "text": [
      "Help on method randint in module random:\n",
      "\n",
      "randint(a, b) method of random.Random instance\n",
      "    Return random integer in range [a, b], including both end points.\n",
      "\n"
     ]
    }
   ],
   "source": [
    "help(random.randint)"
   ]
  },
  {
   "cell_type": "code",
   "execution_count": 36,
   "metadata": {},
   "outputs": [
    {
     "data": {
      "text/plain": [
       "8"
      ]
     },
     "execution_count": 36,
     "metadata": {},
     "output_type": "execute_result"
    }
   ],
   "source": [
    "random.randint(0,10)"
   ]
  },
  {
   "cell_type": "code",
   "execution_count": 37,
   "metadata": {},
   "outputs": [],
   "source": [
    "from random import randint"
   ]
  },
  {
   "cell_type": "code",
   "execution_count": 38,
   "metadata": {},
   "outputs": [
    {
     "data": {
      "text/plain": [
       "6"
      ]
     },
     "execution_count": 38,
     "metadata": {},
     "output_type": "execute_result"
    }
   ],
   "source": [
    "randint(5,7)  # no need to specify the module name now"
   ]
  },
  {
   "cell_type": "code",
   "execution_count": 40,
   "metadata": {},
   "outputs": [
    {
     "data": {
      "text/plain": [
       "9"
      ]
     },
     "execution_count": 40,
     "metadata": {},
     "output_type": "execute_result"
    }
   ],
   "source": [
    "import random as r # use the alias name to refer to the module\n",
    "\n",
    "r.randint(0, 10)"
   ]
  }
 ],
 "metadata": {
  "kernelspec": {
   "display_name": "Python 3",
   "language": "python",
   "name": "python3"
  },
  "language_info": {
   "codemirror_mode": {
    "name": "ipython",
    "version": 3
   },
   "file_extension": ".py",
   "mimetype": "text/x-python",
   "name": "python",
   "nbconvert_exporter": "python",
   "pygments_lexer": "ipython3",
   "version": "3.8.5"
  }
 },
 "nbformat": 4,
 "nbformat_minor": 4
}
