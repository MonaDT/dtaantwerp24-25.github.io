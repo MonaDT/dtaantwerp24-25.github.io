{
 "cells": [
  {
   "cell_type": "markdown",
   "metadata": {},
   "source": [
    "# PRACTICAL SESSION on Control Structures: `for` & `while`\n",
    "\n",
    "Staff : !!!!!!!!!"
   ]
  },
  {
   "cell_type": "markdown",
   "metadata": {},
   "source": [
    "# `FOR`"
   ]
  },
  {
   "cell_type": "markdown",
   "metadata": {},
   "source": [
    "Another control structure you've already covered is the notorious `for` loop. Believe it or not, this is something you'll use every day (perhaps every waking hour!) in the coming year. A `for` construction allows to perform a **repetitive action**. A classic example is looping over the contents of a string, element per element."
   ]
  },
  {
   "cell_type": "code",
   "execution_count": 18,
   "metadata": {},
   "outputs": [
    {
     "name": "stdout",
     "output_type": "stream",
     "text": [
      "b\n",
      "e\n",
      "r\n",
      "t\n"
     ]
    }
   ],
   "source": [
    "name = 'bert'\n",
    "for character in name:\n",
    "    print(character)"
   ]
  },
  {
   "cell_type": "markdown",
   "metadata": {},
   "source": [
    "In Python you can loop over any **iterable**, such as the collection types you've already encountered (list, tuple, set, dictionary, etc. but also strings)."
   ]
  },
  {
   "cell_type": "code",
   "execution_count": 2,
   "metadata": {},
   "outputs": [
    {
     "ename": "SyntaxError",
     "evalue": "invalid syntax (<ipython-input-2-d4c98aa2cc05>, line 6)",
     "output_type": "error",
     "traceback": [
      "\u001b[0;36m  File \u001b[0;32m\"<ipython-input-2-d4c98aa2cc05>\"\u001b[0;36m, line \u001b[0;32m6\u001b[0m\n\u001b[0;31m    elif:\u001b[0m\n\u001b[0m        ^\u001b[0m\n\u001b[0;31mSyntaxError\u001b[0m\u001b[0;31m:\u001b[0m invalid syntax\n"
     ]
    }
   ],
   "source": [
    "dictionary = {'a':0,'b':1}\n",
    "\n",
    "for key, item in dictionary.items():\n",
    "    if a > 0:\n",
    "        print('yes')\n",
    "    elif:\n",
    "        pass\n",
    "        # TODO finish this code"
   ]
  },
  {
   "cell_type": "markdown",
   "metadata": {},
   "source": [
    "### Exercises: filters, counters, transformations ###"
   ]
  },
  {
   "cell_type": "code",
   "execution_count": null,
   "metadata": {},
   "outputs": [],
   "source": [
    "# Important programming clichés are the filter, the counter, and the transfomation\n",
    "\n",
    "# Make a filter fo words starting with an 'a'\n",
    "# Input: a list of words, output: the words that start with the letter a\n",
    "\n",
    "words = ['apple', 'google', 'microsoft', 'facebook', 'amazon', 'oracle']\n"
   ]
  },
  {
   "cell_type": "code",
   "execution_count": null,
   "metadata": {},
   "outputs": [],
   "source": [
    "# make a filter for palindromes. Input: list of words, output a list of the input words that are palindromes\n",
    "\n",
    "words = ['abba', 'point', 'madam', 'feline', 'level']\n",
    "\n"
   ]
  },
  {
   "cell_type": "code",
   "execution_count": null,
   "metadata": {},
   "outputs": [],
   "source": [
    "# make a counter for 5-letter words. Input: a list of words, output: the number of words 5 letters long\n",
    "\n",
    "words = ['abba', 'point', 'madam', 'feline', 'level', 'apple', 'google', 'microsoft', 'facebook', 'amazon', 'oracle']\n",
    "\n"
   ]
  },
  {
   "cell_type": "code",
   "execution_count": null,
   "metadata": {},
   "outputs": [],
   "source": [
    "# make a transformer that translates a word string to a list where each letter in a word is represented by its number \n",
    "# in the alphabet (a = 1, .... z = 26)\n",
    "# Input \"bootcamp\"  -> output: [2, 15, 15, 20, 3, 1, 13, 16]\n",
    "\n",
    "alphabet = 'abcdefghijklmnopqrstuvwxyz'\n",
    "word = 'bootcamp'\n",
    "\n"
   ]
  },
  {
   "cell_type": "code",
   "execution_count": null,
   "metadata": {},
   "outputs": [],
   "source": [
    "# what if .index() would not exist?\n",
    "\n"
   ]
  },
  {
   "cell_type": "code",
   "execution_count": null,
   "metadata": {},
   "outputs": [],
   "source": [
    "# Make a filter that takes a word string as input and returns two lists: one with the vowels and one with the consonants.\n",
    "# Input: 'probabilistic', Output: [['p', 'r', 'b'. 'b', 'l', 's', 't', 'c']['o', 'a', 'i', 'i', 'i']]\n",
    "# Adapt the code in such a way that each letter occurs only once in vowels and consonants\n",
    "# Output: [['p', 'r', 'b', 'l', 's', 't', 'c']['o', 'a', 'i']]\n",
    "# Adapt the code in such a way that the letters occur only once and in alphabetic order\n",
    "# Output: [['b', 'c', 'l', 'p', 'r', 's', 't']['a', 'i', 'o']]\n"
   ]
  },
  {
   "cell_type": "code",
   "execution_count": null,
   "metadata": {},
   "outputs": [],
   "source": [
    "# Make a transformation that takes a word string as input\n",
    "# the output consists of the first letter, the consonants in the order in which they occur in the word, and the length of the word.\n",
    "# Input: \"Bootcamp\", Output: \"Btcmp8\""
   ]
  },
  {
   "cell_type": "markdown",
   "metadata": {},
   "source": [
    "# `while`\n",
    "\n",
    "## Excercises from the book (p. 54-55)"
   ]
  },
  {
   "cell_type": "markdown",
   "metadata": {},
   "source": [
    "3.1. Why does this fail? (*Easy: the error is your friend and will tell you!*)"
   ]
  },
  {
   "cell_type": "code",
   "execution_count": 26,
   "metadata": {},
   "outputs": [
    {
     "ename": "IndentationError",
     "evalue": "expected an indented block (<ipython-input-26-7fc6c32bbe58>, line 2)",
     "output_type": "error",
     "traceback": [
      "\u001b[0;36m  File \u001b[0;32m\"<ipython-input-26-7fc6c32bbe58>\"\u001b[0;36m, line \u001b[0;32m2\u001b[0m\n\u001b[0;31m    print('that shouldn't happen')\u001b[0m\n\u001b[0m        ^\u001b[0m\n\u001b[0;31mIndentationError\u001b[0m\u001b[0;31m:\u001b[0m expected an indented block\n"
     ]
    }
   ],
   "source": [
    "if 2 + 2 == 5:\n",
    "print('that shouldn't happen')\n",
    "    print('or this....')"
   ]
  },
  {
   "cell_type": "code",
   "execution_count": 67,
   "metadata": {},
   "outputs": [],
   "source": [
    "# The indentation is wrong"
   ]
  },
  {
   "cell_type": "markdown",
   "metadata": {},
   "source": [
    "3.2 Augment the recursive prefixation example on page 38 to handle three distinct prefixes. Assume that only identical prefixes can cooccur. (*Let us start this as a code reading exercise! What does this do?*)"
   ]
  },
  {
   "cell_type": "code",
   "execution_count": 52,
   "metadata": {},
   "outputs": [
    {
     "name": "stdout",
     "output_type": "stream",
     "text": [
      "missile\n",
      "anti-missile\n",
      "anti-anti-missile\n",
      "anti-anti-anti-missile\n",
      "racism\n",
      "anti-racism\n",
      "anti-anti-racism\n",
      "anti-anti-anti-racism\n",
      "music\n",
      "anti-music\n",
      "anti-anti-music\n",
      "anti-anti-anti-music\n"
     ]
    }
   ],
   "source": [
    "prefix = 'anti'\n",
    "words = ['missile', 'racism', 'music']\n",
    "\n",
    "for word in words:\n",
    "    print(word)\n",
    "    for i in range(3):\n",
    "        word = prefix + '-' + word\n",
    "        print(word)"
   ]
  },
  {
   "cell_type": "markdown",
   "metadata": {},
   "source": [
    "Now, let's make this work for three prefixes at once (instead of one): 'anti-', 'infra-' and 'counter-'."
   ]
  },
  {
   "cell_type": "markdown",
   "metadata": {},
   "source": [
    "3.3. Augment the recursive prefixation example above to handle three distinct\n",
    "prefixes. Assume that all prefixes can cooccur and any word can have up\n",
    "to three prefixes."
   ]
  },
  {
   "cell_type": "code",
   "execution_count": null,
   "metadata": {},
   "outputs": [],
   "source": [
    "# code here"
   ]
  },
  {
   "cell_type": "markdown",
   "metadata": {},
   "source": [
    "3.4. What’s wrong with the following code snippet?"
   ]
  },
  {
   "cell_type": "code",
   "execution_count": null,
   "metadata": {},
   "outputs": [],
   "source": [
    "count = 0\n",
    "while count < 3:\n",
    "    print(count)\n",
    "    count -= 1"
   ]
  },
  {
   "cell_type": "markdown",
   "metadata": {},
   "source": [
    "3.5. Make a chart that shows how the following would work step by step if we define word to be 'cat'."
   ]
  },
  {
   "cell_type": "code",
   "execution_count": 37,
   "metadata": {},
   "outputs": [
    {
     "name": "stdout",
     "output_type": "stream",
     "text": [
      "c\n",
      "a\n",
      "t\n",
      "\t c\n",
      "\t ca\n",
      "\t cat\n"
     ]
    }
   ],
   "source": [
    "word = 'cat'\n",
    "count = 0\n",
    "\n",
    "while count < len(word):\n",
    "    print(word[count])\n",
    "    count += 1\n",
    "\n",
    "othercount = 1 \n",
    "while othercount < (count + 1):\n",
    "    print('\\t', word[0 : othercount]) # the \\t might be new to you?\n",
    "    othercount += 1"
   ]
  },
  {
   "cell_type": "markdown",
   "metadata": {},
   "source": [
    "3.6. Why does the following code fail?"
   ]
  },
  {
   "cell_type": "code",
   "execution_count": 79,
   "metadata": {},
   "outputs": [
    {
     "ename": "KeyboardInterrupt",
     "evalue": "",
     "output_type": "error",
     "traceback": [
      "\u001b[0;31m---------------------------------------------------------------------------\u001b[0m",
      "\u001b[0;31mKeyboardInterrupt\u001b[0m                         Traceback (most recent call last)",
      "\u001b[0;32m<ipython-input-79-d85e3f3042f7>\u001b[0m in \u001b[0;36m<module>\u001b[0;34m\u001b[0m\n\u001b[1;32m      3\u001b[0m \u001b[0mcount\u001b[0m \u001b[0;34m=\u001b[0m \u001b[0;36m0\u001b[0m\u001b[0;34m\u001b[0m\u001b[0;34m\u001b[0m\u001b[0m\n\u001b[1;32m      4\u001b[0m \u001b[0;34m\u001b[0m\u001b[0m\n\u001b[0;32m----> 5\u001b[0;31m \u001b[0;32mwhile\u001b[0m \u001b[0mcount\u001b[0m \u001b[0;34m<\u001b[0m \u001b[0mlen\u001b[0m\u001b[0;34m(\u001b[0m\u001b[0mword\u001b[0m\u001b[0;34m)\u001b[0m\u001b[0;34m:\u001b[0m\u001b[0;34m\u001b[0m\u001b[0;34m\u001b[0m\u001b[0m\n\u001b[0m\u001b[1;32m      6\u001b[0m     \u001b[0mletter\u001b[0m \u001b[0;34m=\u001b[0m \u001b[0mword\u001b[0m\u001b[0;34m[\u001b[0m\u001b[0mcount\u001b[0m\u001b[0;34m]\u001b[0m\u001b[0;34m\u001b[0m\u001b[0;34m\u001b[0m\u001b[0m\n\u001b[1;32m      7\u001b[0m     \u001b[0;32mif\u001b[0m \u001b[0mletter\u001b[0m \u001b[0;32mnot\u001b[0m \u001b[0;32min\u001b[0m \u001b[0mvowels\u001b[0m\u001b[0;34m:\u001b[0m\u001b[0;34m\u001b[0m\u001b[0;34m\u001b[0m\u001b[0m\n",
      "\u001b[0;31mKeyboardInterrupt\u001b[0m: "
     ]
    }
   ],
   "source": [
    "word = 'alphabet'\n",
    "vowels = 'aeiou'\n",
    "count = 0\n",
    "\n",
    "while count < len(word):\n",
    "    letter = word[count]\n",
    "    if letter not in vowels:\n",
    "        print(letter)\n",
    "        count += 1"
   ]
  },
  {
   "cell_type": "markdown",
   "metadata": {},
   "source": [
    "3.7. Consider the snippet below. What happens if the `word` variable has no vowels?"
   ]
  },
  {
   "cell_type": "code",
   "execution_count": 45,
   "metadata": {},
   "outputs": [
    {
     "name": "stdout",
     "output_type": "stream",
     "text": [
      "l\n",
      "p\n",
      "h\n",
      "b\n",
      "t\n"
     ]
    }
   ],
   "source": [
    "word = 'alphabet'\n",
    "vowels = 'aeiou'\n",
    "count = 0\n",
    "\n",
    "while count < len(word):\n",
    "    letter = word[count]\n",
    "    if letter not in vowels:\n",
    "        print(letter)\n",
    "    count += 1"
   ]
  },
  {
   "cell_type": "markdown",
   "metadata": {},
   "source": [
    "# Frequency Distribution"
   ]
  },
  {
   "cell_type": "code",
   "execution_count": 2,
   "metadata": {},
   "outputs": [],
   "source": [
    "s = \"\"\"Alice was beginning to get very tired of sitting by her sister on the\n",
    "bank, and of having nothing to do: once or twice she had peeped into\n",
    "the book her sister was reading, but it had no pictures or\n",
    "conversations in it, “and what is the use of a book,” thought Alice\n",
    "“without pictures or conversations?”\n",
    "\n",
    "So she was considering in her own mind (as well as she could, for the\n",
    "hot day made her feel very sleepy and stupid), whether the pleasure of\n",
    "making a daisy-chain would be worth the trouble of getting up and\n",
    "picking the daisies, when suddenly a White Rabbit with pink eyes ran\n",
    "close by her.\n",
    "\n",
    "There was nothing so _very_ remarkable in that; nor did Alice think it\n",
    "so _very_ much out of the way to hear the Rabbit say to itself, “Oh\n",
    "dear! Oh dear! I shall be late!” (when she thought it over afterwards,\n",
    "it occurred to her that she ought to have wondered at this, but at the\n",
    "time it all seemed quite natural); but when the Rabbit actually _took a\n",
    "watch out of its waistcoat-pocket_, and looked at it, and then hurried\n",
    "on, Alice started to her feet, for it flashed across her mind that she\n",
    "had never before seen a rabbit with either a waistcoat-pocket, or a\n",
    "watch to take out of it, and burning with curiosity, she ran across the\n",
    "field after it, and fortunately was just in time to see it pop down a\n",
    "large rabbit-hole under the hedge.\"\"\""
   ]
  },
  {
   "cell_type": "code",
   "execution_count": 155,
   "metadata": {},
   "outputs": [
    {
     "name": "stdout",
     "output_type": "stream",
     "text": [
      "Alice was \n"
     ]
    }
   ],
   "source": [
    "print(s[:10])"
   ]
  },
  {
   "cell_type": "code",
   "execution_count": 161,
   "metadata": {},
   "outputs": [
    {
     "name": "stdout",
     "output_type": "stream",
     "text": [
      "{'a': 87, 'l': 30, 'i': 78, 'c': 28, 'e': 125, ' ': 232, 'w': 28, 's': 59, 'b': 25, 'g': 19, 'n': 60, 't': 118, 'o': 79, 'v': 10, 'r': 66, 'y': 16, 'd': 44, 'f': 19, 'h': 73, '\\n': 22, 'k': 13, ',': 18, ':': 1, 'p': 14, 'u': 31, '“': 3, '”': 3, '?': 1, 'm': 9, '(': 2, ')': 2, '-': 4, '.': 2, '_': 6, ';': 2, '!': 3, 'q': 1, 'j': 1}\n"
     ]
    }
   ],
   "source": [
    "s = s.lower() \n",
    "\n",
    "d = {}\n",
    "for c in s:\n",
    "    if c in d:\n",
    "        d[c] += 1\n",
    "    else:\n",
    "        d[c] = 1\n",
    "\n",
    "print(d)"
   ]
  },
  {
   "cell_type": "code",
   "execution_count": 162,
   "metadata": {},
   "outputs": [
    {
     "name": "stdout",
     "output_type": "stream",
     "text": [
      "\n",
      " 22\n",
      "  232\n",
      "! 3\n",
      "( 2\n",
      ") 2\n",
      ", 18\n",
      "- 4\n",
      ". 2\n",
      ": 1\n",
      "; 2\n",
      "? 1\n",
      "_ 6\n",
      "a 87\n",
      "b 25\n",
      "c 28\n",
      "d 44\n",
      "e 125\n",
      "f 19\n",
      "g 19\n",
      "h 73\n",
      "i 78\n",
      "j 1\n",
      "k 13\n",
      "l 30\n",
      "m 9\n",
      "n 60\n",
      "o 79\n",
      "p 14\n",
      "q 1\n",
      "r 66\n",
      "s 59\n",
      "t 118\n",
      "u 31\n",
      "v 10\n",
      "w 28\n",
      "y 16\n",
      "“ 3\n",
      "” 3\n"
     ]
    }
   ],
   "source": [
    "for k in sorted(d):\n",
    "    print(k, d[k])"
   ]
  },
  {
   "cell_type": "markdown",
   "metadata": {},
   "source": [
    "3.8. This snippet uses a `continue` statement. Using a `break` instead would be wrong; why?"
   ]
  }
 ],
 "metadata": {
  "kernelspec": {
   "display_name": "Python 3",
   "language": "python",
   "name": "python3"
  },
  "language_info": {
   "codemirror_mode": {
    "name": "ipython",
    "version": 3
   },
   "file_extension": ".py",
   "mimetype": "text/x-python",
   "name": "python",
   "nbconvert_exporter": "python",
   "pygments_lexer": "ipython3",
   "version": "3.8.5"
  }
 },
 "nbformat": 4,
 "nbformat_minor": 4
}
