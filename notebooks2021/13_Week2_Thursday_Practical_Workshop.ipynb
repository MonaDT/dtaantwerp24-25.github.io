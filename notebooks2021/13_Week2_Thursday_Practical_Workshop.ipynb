{
 "cells": [
  {
   "cell_type": "markdown",
   "metadata": {},
   "source": [
    "# Practical Exercises : Text Maniulation & Functions\n",
    "\n",
    "## Text Manipulation\n",
    "\n",
    "Find a regular expression that matches time-of-day strings (such as 9:14 am or 08:20PM). Check that the matching is robust to all sorts of variations, such as:\n",
    "\n",
    "  - 9 : 14 AM\n",
    "  - 09:14 pm\n",
    "  - 9: 14 Am\n",
    "  - 9:14PM\n",
    "  - ..."
   ]
  },
  {
   "cell_type": "code",
   "execution_count": null,
   "metadata": {},
   "outputs": [],
   "source": [
    "re.search('[0-9]?[0-9]\\s*:\\s*[0-9][0-9]\\s*[aApP][mM]', 'Meet me in Starbucks at 9:14 pm')"
   ]
  },
  {
   "cell_type": "markdown",
   "metadata": {},
   "source": [
    "## Replacing and backreferences"
   ]
  },
  {
   "cell_type": "code",
   "execution_count": null,
   "metadata": {},
   "outputs": [],
   "source": [
    "# re.sub takes a pattern, a replacement, and a string as input and returns a string in which \n",
    "# all instances of the pattern are replaced.\n",
    "\n",
    "re.sub('/', '-', '12/10/1990') # replace the / by hyphen in the date"
   ]
  },
  {
   "cell_type": "code",
   "execution_count": null,
   "metadata": {},
   "outputs": [],
   "source": [
    "# By using round brackets, you can define groups in a pattern, these can be accessed by a number preceded \n",
    "# by a slash, which allows you to change the order of the groups.\n",
    "\n",
    "re.sub('([0-9]+)\\/([0-9]+)\\/([0-9]+)', '\\\\3-\\\\2-\\\\1', '12/10/1990') # double \\\\ because \\ has to be 'escaped'"
   ]
  },
  {
   "cell_type": "code",
   "execution_count": null,
   "metadata": {},
   "outputs": [],
   "source": [
    "re.sub('[aiouy]', 'e', 'it was a dark and windy night') # replace all non-e vowels by e"
   ]
  },
  {
   "cell_type": "code",
   "execution_count": null,
   "metadata": {},
   "outputs": [],
   "source": [
    "re.sub('[aiouy]', 'e', 'it was a dark and windy night', count=3) # stop after 3 replacements"
   ]
  },
  {
   "cell_type": "code",
   "execution_count": null,
   "metadata": {},
   "outputs": [],
   "source": [
    "# If you are replacing one character by another character, consider .translate() \n",
    "\n",
    "my_table = str.maketrans('aeiou', '12345')\n",
    "\n",
    "s1 = 'The moon shone bright'\n",
    "s1.translate(my_table)"
   ]
  },
  {
   "cell_type": "code",
   "execution_count": null,
   "metadata": {},
   "outputs": [],
   "source": [
    "# .split() and re.split()\n",
    "# Suppose you get these lines from a csv (comma separated value) file\n",
    "\n",
    "s1 = 'large  , blue'\n",
    "s2 = 'small, red'\n",
    "s3 = 'small  ,orange'\n",
    "s4 = 'large,orange'"
   ]
  },
  {
   "cell_type": "code",
   "execution_count": null,
   "metadata": {},
   "outputs": [],
   "source": [
    "s3.split(',')"
   ]
  },
  {
   "cell_type": "code",
   "execution_count": null,
   "metadata": {},
   "outputs": [],
   "source": [
    "re.split('\\s*,\\s*', s3)"
   ]
  },
  {
   "cell_type": "code",
   "execution_count": null,
   "metadata": {},
   "outputs": [],
   "source": [
    "# .join() concatenates strings into a larger string separated by the string it is used on\n",
    "\n",
    "s = 'How now brown cow'\n",
    "l = s.split()\n",
    "l"
   ]
  },
  {
   "cell_type": "code",
   "execution_count": null,
   "metadata": {},
   "outputs": [],
   "source": [
    "# now concatenate them together again!\n",
    "\n",
    "\" \".join(l)"
   ]
  },
  {
   "cell_type": "code",
   "execution_count": null,
   "metadata": {},
   "outputs": [],
   "source": [
    "# or with a different separator\n",
    "\",\".join(l)"
   ]
  },
  {
   "cell_type": "markdown",
   "metadata": {},
   "source": [
    "# Functions"
   ]
  },
  {
   "cell_type": "code",
   "execution_count": null,
   "metadata": {},
   "outputs": [],
   "source": []
  }
 ],
 "metadata": {
  "kernelspec": {
   "display_name": "Python 3",
   "language": "python",
   "name": "python3"
  },
  "language_info": {
   "codemirror_mode": {
    "name": "ipython",
    "version": 3
   },
   "file_extension": ".py",
   "mimetype": "text/x-python",
   "name": "python",
   "nbconvert_exporter": "python",
   "pygments_lexer": "ipython3",
   "version": "3.8.5"
  }
 },
 "nbformat": 4,
 "nbformat_minor": 4
}
