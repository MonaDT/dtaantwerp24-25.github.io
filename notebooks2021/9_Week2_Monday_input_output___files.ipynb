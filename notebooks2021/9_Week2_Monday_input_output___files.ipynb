{
 "cells": [
  {
   "cell_type": "markdown",
   "metadata": {},
   "source": [
    "# Input / Output\n",
    "\n",
    "Staff : !!!!!!!!!\n",
    "Support Material : !!!!!!!!\n",
    "Support Sessions : !!!!!!!!\n",
    "\n",
    "Programs cannot function on their own: just like people, they need to interact with the outside world and other programs. **I/O** (input-output) is a crucial concept in this respect and refers to how your program can load or read external information (e.g. from a file) and return information outside the script itself. This chapter presents the following ways to work with external data:\n",
    "\n",
    "- **Command line**: pass additional arguments or \"flags\" when executing a script from the command line\n",
    "- **Standard input**: take info from other programs\n",
    "- **Keyboard input**: load information that a user types in\n",
    "- **Files**: reading and writing from and to files\n",
    "\n",
    "## 4.1. Command-line input [*skip for now*]\n",
    "\n",
    "In a previous session, you've learned how you can run programs from the **command line** (in a console or terminal screen) without a **GUI** (Graphical User Interface). Suppose you have a file called `script.py` that looks like this:\n",
    "\n",
    "```python\n",
    "print('Hello world!')\n",
    "```\n",
    "\n",
    "You can execute that on the command line using the following command:\n",
    "\n",
    "> `>>> python script.py`\n",
    "\n",
    "This will print the information to your \"standard output\" and it will be shown in the console:\n",
    "\n",
    "> `>>> Hello world!`"
   ]
  },
  {
   "cell_type": "markdown",
   "metadata": {},
   "source": [
    "Many programs will support the option to add arguments to this command via the use of **arguments**. Such additional arguments can then be loaded by the script. Let's change our file to the code below:\n",
    "\n",
    "```python\n",
    "import sys\n",
    "print(sys.argv)\n",
    "```\n",
    "\n",
    "Let us now run the script, but this time we add an additional argument to the script:\n",
    "\n",
    "> `>>> python script.py nouns`\n",
    "\n",
    "> `>>> ['script.py','nouns']`"
   ]
  },
  {
   "cell_type": "markdown",
   "metadata": {},
   "source": [
    "What happened? In our script we first imported the `sys` package, that contains a lot of useful functionality about your computer system. We then print the property `sys.argv` which, apparently gives us a list: the first item in the list will always be the name of the script and then the additional arguments will follow. You can add as many as you want, separated by spaces:"
   ]
  },
  {
   "cell_type": "markdown",
   "metadata": {},
   "source": [
    "> `>>> python script.py nouns verbs articles`\n",
    "\n",
    "> `>>> ['script.py','nouns', 'verbs', 'articles']`"
   ]
  },
  {
   "cell_type": "markdown",
   "metadata": {},
   "source": [
    "Because `sys.arv` is a list, you can access the individual arguments in your script with integer indexing (e.g. `sys.argv[-1]` or `sys.argv[1:]`, which gives you all the elements excluding the script name)."
   ]
  },
  {
   "cell_type": "markdown",
   "metadata": {},
   "source": [
    "(*Pages 60-64* discuss another way of inputting data into a Python script, via `stdin` and `stout`. Feel free to read this, but this way of working is less important at this stage.)"
   ]
  },
  {
   "cell_type": "markdown",
   "metadata": {},
   "source": [
    "## 4.2. Keyboard input\n",
    "\n",
    "You can also request information from a user at runtime, i.e. when the program in running already. This is a fun way of interacting with your users. The function `input()` is the main workhorse here, and you can also use on the commandline as well as in this notebook. Run the following cell for instance:"
   ]
  },
  {
   "cell_type": "code",
   "execution_count": 106,
   "metadata": {},
   "outputs": [
    {
     "name": "stdout",
     "output_type": "stream",
     "text": [
      "What is your name? Mike\n",
      "Hello, Mike!\n"
     ]
    }
   ],
   "source": [
    "name = input('What is your name? ')\n",
    "print('Hello, ' + name + '!')"
   ]
  },
  {
   "cell_type": "markdown",
   "metadata": {},
   "source": [
    "Input will require the user to type something in -- although it will allow an empty answer. The inputted information will be returned as a string and in this example we store it in the variable `name`. Downstream in our program, we can make use of that variable in the same way as with any other variable."
   ]
  },
  {
   "cell_type": "markdown",
   "metadata": {},
   "source": [
    "In some cases you'll want to be careful with the way you handle this information:"
   ]
  },
  {
   "cell_type": "code",
   "execution_count": 107,
   "metadata": {},
   "outputs": [
    {
     "name": "stdout",
     "output_type": "stream",
     "text": [
      "=== Addition ===\n",
      "Give the first number: 7\n",
      "Give the second number: 8\n",
      "Sum: 78\n"
     ]
    }
   ],
   "source": [
    "print('=== Addition ===')\n",
    "a = input('Give the first number: ')\n",
    "b = input('Give the second number: ')\n",
    "print('Sum:', a + b)"
   ]
  },
  {
   "cell_type": "markdown",
   "metadata": {},
   "source": [
    "In this case, we clearly want to work with numbers instead of strings, so we'll need casting:"
   ]
  },
  {
   "cell_type": "code",
   "execution_count": 108,
   "metadata": {},
   "outputs": [
    {
     "name": "stdout",
     "output_type": "stream",
     "text": [
      "=== Addition ===\n",
      "Give the first number: 7\n",
      "Give the second number: 8\n",
      "Sum: 15\n"
     ]
    }
   ],
   "source": [
    "print('=== Addition ===')\n",
    "a = int(input('Give the first number: '))\n",
    "b = int(input('Give the second number: '))\n",
    "print('Sum:', a + b)"
   ]
  },
  {
   "cell_type": "markdown",
   "metadata": {},
   "source": [
    "Additionally, you might want to check whether the information was inputted correctly. Suppose we would like guard ourselves against empty strings:"
   ]
  },
  {
   "cell_type": "code",
   "execution_count": 109,
   "metadata": {},
   "outputs": [
    {
     "name": "stdout",
     "output_type": "stream",
     "text": [
      "What is your name?\n",
      "Incorrect input\n"
     ]
    }
   ],
   "source": [
    "name = input('What is your name?')\n",
    "if not name:\n",
    "    print('Incorrect input')\n",
    "else:\n",
    "    print('Hello, ' + name + '!')"
   ]
  },
  {
   "cell_type": "markdown",
   "metadata": {},
   "source": [
    "There's one additional new function that might useful in this context, namely `eval()`: you might want to turn an inputted string into a variable name. Suppose we have two variables, `x` and `y` in our script and we would like to print its value depending on the user's input:"
   ]
  },
  {
   "cell_type": "code",
   "execution_count": 110,
   "metadata": {},
   "outputs": [
    {
     "name": "stdout",
     "output_type": "stream",
     "text": [
      "Which variable would you like to print? x\n",
      "Mike\n"
     ]
    }
   ],
   "source": [
    "x = 'Mike'\n",
    "y = 'Tom'\n",
    "\n",
    "v = input('Which variable would you like to print? ')\n",
    "print(eval(v))"
   ]
  },
  {
   "cell_type": "markdown",
   "metadata": {},
   "source": [
    "As you can see, `eval()` allows you to turn a string into code and have Python interpret it as if it were actual code:"
   ]
  },
  {
   "cell_type": "code",
   "execution_count": 111,
   "metadata": {},
   "outputs": [
    {
     "name": "stdout",
     "output_type": "stream",
     "text": [
      "[1, 2, 3] <class 'list'>\n"
     ]
    }
   ],
   "source": [
    "l = [1, 2, 3]\n",
    "print(l, type(l))"
   ]
  },
  {
   "cell_type": "code",
   "execution_count": 112,
   "metadata": {},
   "outputs": [
    {
     "name": "stdout",
     "output_type": "stream",
     "text": [
      "[1, 2, 3] <class 'str'>\n"
     ]
    }
   ],
   "source": [
    "l = '[1, 2, 3]'\n",
    "print(l, type(l))"
   ]
  },
  {
   "cell_type": "code",
   "execution_count": 113,
   "metadata": {},
   "outputs": [
    {
     "name": "stdout",
     "output_type": "stream",
     "text": [
      "[1, 2, 3] <class 'list'>\n"
     ]
    }
   ],
   "source": [
    "l = eval('[1, 2, 3]')\n",
    "print(l, type(l))"
   ]
  },
  {
   "cell_type": "markdown",
   "metadata": {},
   "source": [
    "To be honest, I would recommend against such an approach -- there's often ways to bypass `eval()` and using it is often bad practice. For capturing user input, specifically, there are serious security concerns, because you never know what an inputted string might contain in terms of malicious code. Therefore, you should know what `eval()`does but in general, try to stay away from it."
   ]
  },
  {
   "cell_type": "markdown",
   "metadata": {},
   "source": [
    "*Exercise*: generate a random number with this code:\n",
    "\n",
    "```python\n",
    "import random\n",
    "random_number = random.randint(1, 10)\n",
    "```\n",
    "\n",
    "With a loop, have the user guess what the number is and abort the program with a suitable message of joy when the correct number is guessed. Allow the user a maximum of 5 guesses before aborting."
   ]
  },
  {
   "cell_type": "code",
   "execution_count": 114,
   "metadata": {},
   "outputs": [],
   "source": [
    "# code here"
   ]
  },
  {
   "cell_type": "markdown",
   "metadata": {},
   "source": [
    "## 4.3 File Input-Output"
   ]
  },
  {
   "cell_type": "markdown",
   "metadata": {},
   "source": [
    "Reading and writing to files is crucial when you work with Python. Note that calculations in Python will often depend on external data, since you don't want to manually enter your data all the time. Additionally, you'll want to save or **persist** the results of your calculations in files too, since these are lost whenever you end a Python session."
   ]
  },
  {
   "cell_type": "markdown",
   "metadata": {},
   "source": [
    "### Writing to files"
   ]
  },
  {
   "cell_type": "markdown",
   "metadata": {},
   "source": [
    "This is a magical moment: let's create your first text file. To do so, we'll need to open a **stream** or a connection with a file through which we can communicate with it. That goes as follows:"
   ]
  },
  {
   "cell_type": "code",
   "execution_count": 115,
   "metadata": {},
   "outputs": [
    {
     "name": "stdout",
     "output_type": "stream",
     "text": [
      "<class '_io.TextIOWrapper'>\n"
     ]
    }
   ],
   "source": [
    "outf = open('test.txt', 'w')\n",
    "print(type(outf))"
   ]
  },
  {
   "cell_type": "markdown",
   "metadata": {},
   "source": [
    "As you can see, the type of `outf` is something pretty abstract: it's important you realize that `outf` isn't the file itself, but rather the connection with it. Note that we provide two arguments to `open()`:\n",
    "- the path leading to our file -- this is a \"relative path\", which means that the file `test.txt` will be created in the same directory as your notebook\n",
    "- the `w` argument which stands for \"write\": this means that we'll be streaming to a new file (which is automatically created for us when we call `open()`)."
   ]
  },
  {
   "cell_type": "markdown",
   "metadata": {},
   "source": [
    "Once we've established the connection to this new file, we can start writing to it:"
   ]
  },
  {
   "cell_type": "code",
   "execution_count": 116,
   "metadata": {},
   "outputs": [],
   "source": [
    "outf.write('Here goes some text...');"
   ]
  },
  {
   "cell_type": "markdown",
   "metadata": {},
   "source": [
    "The last bit is crucial: we opened the file and streamed some textual content to it, but we still need to close this. This is extremely important: if Python would crash before we closed the connection, there a chance that we lose control over the file. Never ever forget to close a file! You can do that as follows:"
   ]
  },
  {
   "cell_type": "code",
   "execution_count": 117,
   "metadata": {},
   "outputs": [],
   "source": [
    "outf.close()"
   ]
  },
  {
   "cell_type": "markdown",
   "metadata": {},
   "source": [
    "Once we've closed the file, Python will refuse to write to it:"
   ]
  },
  {
   "cell_type": "code",
   "execution_count": 118,
   "metadata": {},
   "outputs": [
    {
     "ename": "ValueError",
     "evalue": "I/O operation on closed file.",
     "output_type": "error",
     "traceback": [
      "\u001b[0;31m---------------------------------------------------------------------------\u001b[0m",
      "\u001b[0;31mValueError\u001b[0m                                Traceback (most recent call last)",
      "\u001b[0;32m<ipython-input-118-c8d87b57cb21>\u001b[0m in \u001b[0;36m<module>\u001b[0;34m\u001b[0m\n\u001b[0;32m----> 1\u001b[0;31m \u001b[0moutf\u001b[0m\u001b[0;34m.\u001b[0m\u001b[0mwrite\u001b[0m\u001b[0;34m(\u001b[0m\u001b[0;34m'Here goes some text...'\u001b[0m\u001b[0;34m)\u001b[0m\u001b[0;34m;\u001b[0m\u001b[0;34m\u001b[0m\u001b[0;34m\u001b[0m\u001b[0m\n\u001b[0m",
      "\u001b[0;31mValueError\u001b[0m: I/O operation on closed file."
     ]
    }
   ],
   "source": [
    "outf.write('Here goes some text...');"
   ]
  },
  {
   "cell_type": "markdown",
   "metadata": {},
   "source": [
    "Now, we are ready to look at the file: locate it in your Finder/Explorer and open it in a text editor. Did it get properly saved?"
   ]
  },
  {
   "cell_type": "markdown",
   "metadata": {},
   "source": [
    "When working with files, you'll have to be careful. Suppose we would again open the file like this:"
   ]
  },
  {
   "cell_type": "code",
   "execution_count": 119,
   "metadata": {},
   "outputs": [],
   "source": [
    "outf = open('test.txt', 'w')\n",
    "outf.close()"
   ]
  },
  {
   "cell_type": "markdown",
   "metadata": {},
   "source": [
    "You'll see that the contents of the file are completely erased! Because of the `\"w\"` argument, we open the file in the **write** mode, and the contents of the file will be automatically cleared. It's (surprisingly) easy to lose important files and information in this way -- and with Python, they don't get added to your Bin or so, so they'll be gone forever. Watch out!"
   ]
  },
  {
   "cell_type": "markdown",
   "metadata": {},
   "source": [
    "You can write everything to a file that you want, provided it belongs to the `str` type. That means that you'll have to cast everything to a string that isn't a string yet. Additional, if you would like to write information on separate lines, you'll need the special symbol `\"\\n\"`, which stands for a newline. Check this example:"
   ]
  },
  {
   "cell_type": "code",
   "execution_count": 120,
   "metadata": {},
   "outputs": [],
   "source": [
    "outf = open('test.txt', 'w')\n",
    "outf.write('This is the first line')\n",
    "outf.write('This is the second line')\n",
    "outf.write('This is the third line')\n",
    "outf.close()"
   ]
  },
  {
   "cell_type": "markdown",
   "metadata": {},
   "source": [
    "This doesn't yield the expected result, because unlike `print()`, `write()` doesn't automatically add a newline. You'll have to add that yourself (of course, you can automize that in a `for` loop):"
   ]
  },
  {
   "cell_type": "code",
   "execution_count": 121,
   "metadata": {},
   "outputs": [],
   "source": [
    "outf = open('test.txt', 'w')\n",
    "outf.write('This is the first line\\n')\n",
    "outf.write('This is the second line\\n')\n",
    "outf.write('This is the third line\\n')\n",
    "outf.close()"
   ]
  },
  {
   "cell_type": "markdown",
   "metadata": {},
   "source": [
    "Above we opened files in the **write mode**, which will:\n",
    "- create a blank file if it doesn't exist yet\n",
    "- erase the contents of the file if it existed already\n",
    "\n",
    "In some cases, you'll want to add to the existing content in a file. For this, we can open the file stream in the **append mode**, which we signal with an `\"a\"` argument:"
   ]
  },
  {
   "cell_type": "code",
   "execution_count": 122,
   "metadata": {},
   "outputs": [],
   "source": [
    "outf = open('test.txt', 'a')\n",
    "outf.write('This is the fourth line\\n')\n",
    "outf.write('This is the fifth line\\n')\n",
    "outf.close()"
   ]
  },
  {
   "cell_type": "markdown",
   "metadata": {},
   "source": [
    "Open the file: did that work out as expected?"
   ]
  },
  {
   "cell_type": "markdown",
   "metadata": {},
   "source": [
    "### Reading from files"
   ]
  },
  {
   "cell_type": "markdown",
   "metadata": {},
   "source": [
    "Reading from files can be done in a very similar way, but in this case, we should open a file in the **read** mode, meaning that we can't erase or modife the file's content:"
   ]
  },
  {
   "cell_type": "code",
   "execution_count": 123,
   "metadata": {},
   "outputs": [
    {
     "name": "stdout",
     "output_type": "stream",
     "text": [
      "<class '_io.TextIOWrapper'>\n"
     ]
    }
   ],
   "source": [
    "outf = open('test.txt', 'r')\n",
    "print(type(outf))"
   ]
  },
  {
   "cell_type": "markdown",
   "metadata": {},
   "source": [
    "Once we've established the stream, we can read from it:"
   ]
  },
  {
   "cell_type": "code",
   "execution_count": 124,
   "metadata": {},
   "outputs": [
    {
     "data": {
      "text/plain": [
       "'This is the first line\\nThis is the second line\\nThis is the third line\\nThis is the fourth line\\nThis is the fifth line\\n'"
      ]
     },
     "execution_count": 124,
     "metadata": {},
     "output_type": "execute_result"
    }
   ],
   "source": [
    "outf.read()"
   ]
  },
  {
   "cell_type": "markdown",
   "metadata": {},
   "source": [
    "Here, we print the raw cell so that you can notice the linebreaks -- that are obviously still in there, because we put them there ourselved. These are \"hidden\" from us if we print `contents` in the notebook."
   ]
  },
  {
   "cell_type": "code",
   "execution_count": 125,
   "metadata": {},
   "outputs": [
    {
     "name": "stdout",
     "output_type": "stream",
     "text": [
      "This is the first line\n",
      "This is the second line\n",
      "This is the third line\n",
      "This is the fourth line\n",
      "This is the fifth line\n",
      "\n"
     ]
    }
   ],
   "source": [
    "outf = open('test.txt', 'r')\n",
    "contents = outf.read()\n",
    "print(contents)"
   ]
  },
  {
   "cell_type": "markdown",
   "metadata": {},
   "source": [
    "Here too, don't forget to close the file when you're done with it!"
   ]
  },
  {
   "cell_type": "code",
   "execution_count": 126,
   "metadata": {},
   "outputs": [],
   "source": [
    "outf.close()"
   ]
  },
  {
   "cell_type": "markdown",
   "metadata": {},
   "source": [
    "What we get back from `read` is a giant string:"
   ]
  },
  {
   "cell_type": "code",
   "execution_count": 127,
   "metadata": {},
   "outputs": [
    {
     "name": "stdout",
     "output_type": "stream",
     "text": [
      "<class 'str'> 117\n"
     ]
    }
   ],
   "source": [
    "print(type(contents), len(contents))"
   ]
  },
  {
   "cell_type": "markdown",
   "metadata": {},
   "source": [
    "Often, you'll want to iterate over the individual lines however. There's a couple of ways to do that. First, you can hard-code it and split the text yourself:"
   ]
  },
  {
   "cell_type": "code",
   "execution_count": 128,
   "metadata": {},
   "outputs": [
    {
     "name": "stdout",
     "output_type": "stream",
     "text": [
      "['This is the first line', 'This is the second line', 'This is the third line', 'This is the fourth line', 'This is the fifth line', '']\n"
     ]
    }
   ],
   "source": [
    "outf = open('test.txt', 'r')\n",
    "text = outf.read()\n",
    "lines = text.split('\\n')\n",
    "print(lines)"
   ]
  },
  {
   "cell_type": "markdown",
   "metadata": {},
   "source": [
    "Secondly, there's an alternative function `readlines`:"
   ]
  },
  {
   "cell_type": "code",
   "execution_count": 129,
   "metadata": {},
   "outputs": [
    {
     "name": "stdout",
     "output_type": "stream",
     "text": [
      "['This is the first line\\n', 'This is the second line\\n', 'This is the third line\\n', 'This is the fourth line\\n', 'This is the fifth line\\n']\n"
     ]
    }
   ],
   "source": [
    "outf = open('test.txt', 'r')\n",
    "lines = outf.readlines()\n",
    "outf.close()\n",
    "print(lines)"
   ]
  },
  {
   "cell_type": "markdown",
   "metadata": {},
   "source": [
    "(Note that this will give you the linebreak dangling at the end.)"
   ]
  },
  {
   "cell_type": "markdown",
   "metadata": {},
   "source": [
    "The last option is super-cool: file streams are **iterable** in python and when you run a `for` loop over them, you'll find that your iterating over the individual lines:"
   ]
  },
  {
   "cell_type": "code",
   "execution_count": 130,
   "metadata": {},
   "outputs": [
    {
     "name": "stdout",
     "output_type": "stream",
     "text": [
      "This is the first line\n",
      "\n",
      "This is the second line\n",
      "\n",
      "This is the third line\n",
      "\n",
      "This is the fourth line\n",
      "\n",
      "This is the fifth line\n",
      "\n"
     ]
    }
   ],
   "source": [
    "outf = open('test.txt', 'r')\n",
    "for line in outf:\n",
    "    print(line)\n",
    "outf.close()"
   ]
  },
  {
   "cell_type": "markdown",
   "metadata": {},
   "source": [
    "How cool is that?! (Question: where do the empty lines come from?)"
   ]
  },
  {
   "cell_type": "markdown",
   "metadata": {},
   "source": [
    "#### with"
   ]
  },
  {
   "cell_type": "markdown",
   "metadata": {},
   "source": [
    "Above we explained handling files with `open` and `close` so that you know what is going on. However, this is potentially dangerous when you forget to close files. There is a recommended practice to avoid such situations, and that's using the `with` keyword. The syntax is as follows:"
   ]
  },
  {
   "cell_type": "code",
   "execution_count": 131,
   "metadata": {},
   "outputs": [
    {
     "name": "stdout",
     "output_type": "stream",
     "text": [
      "This is the first line\n",
      "This is the second line\n",
      "This is the third line\n",
      "This is the fourth line\n",
      "This is the fifth line\n",
      "\n"
     ]
    }
   ],
   "source": [
    "with open('test.txt') as f:\n",
    "    print(f.read())"
   ]
  },
  {
   "cell_type": "markdown",
   "metadata": {},
   "source": [
    "The syntax is clear: the `with` keyword is followed by the open() function, `as` and then a variable name of your choice. After the colon, an indented block follows, in which you have the file stream available as `f`? The nice thing about this construction is that your file is **automatically closed** once you exit the indented block. We recommend you to work with files in this way because it's less coding work and much safer."
   ]
  },
  {
   "cell_type": "markdown",
   "metadata": {},
   "source": [
    "(We won't cover the other data file types discussed in the book, since we'll cover those in  the classes on `pandas`)."
   ]
  },
  {
   "cell_type": "markdown",
   "metadata": {},
   "source": [
    "##### Exercises"
   ]
  },
  {
   "cell_type": "markdown",
   "metadata": {},
   "source": [
    "Make a script (`count.py`) that can take two arguments: a path leading to a text file and a (single) vowel. The script should count how often the specified character occurs in the file and print it to screen."
   ]
  },
  {
   "cell_type": "code",
   "execution_count": null,
   "metadata": {},
   "outputs": [],
   "source": []
  },
  {
   "cell_type": "markdown",
   "metadata": {},
   "source": [
    "Download your favorite book from Project Gutenberg as plain text (mind the `.txt` extension). Write a code cell and create a frequency dictionary for all the characters occuring in the text. Don't forget to lowercase the text, before you start looping over it.\n",
    "\n",
    "For example, this is the link to Alice in Wonderland: http://www.gutenberg.org/cache/epub/19033/pg19033.txt"
   ]
  },
  {
   "cell_type": "code",
   "execution_count": null,
   "metadata": {},
   "outputs": [],
   "source": []
  },
  {
   "cell_type": "markdown",
   "metadata": {},
   "source": [
    "Same as above, but exclude punctuation marks."
   ]
  },
  {
   "cell_type": "code",
   "execution_count": null,
   "metadata": {},
   "outputs": [],
   "source": []
  },
  {
   "cell_type": "markdown",
   "metadata": {},
   "source": [
    "Same as above, but this time for the words (or tokens) in the text."
   ]
  },
  {
   "cell_type": "code",
   "execution_count": null,
   "metadata": {},
   "outputs": [],
   "source": []
  },
  {
   "cell_type": "markdown",
   "metadata": {},
   "source": [
    "Sort the resulting word frequency dictionary by value to find out which word is the most frequent in the text."
   ]
  },
  {
   "cell_type": "code",
   "execution_count": null,
   "metadata": {},
   "outputs": [],
   "source": []
  },
  {
   "cell_type": "markdown",
   "metadata": {},
   "source": [
    "Write the resulting, ordered frequency dictionary away to a file called `frequencies.txt`. Format it as follows, using a tab character (`\\t`) in between the key and value on each line:\n",
    "    \n",
    "```text\n",
    "the\t808\n",
    "and\t404\n",
    "a\t328\n",
    "to\t327\n",
    "of\t318\n",
    "she\t238\n",
    "in\t227\n",
    "it\t183\n",
    "you\t171\n",
    "alice\t168\n",
    "was\t168\n",
    "said\t144\n",
    "i\t127\n",
    "```"
   ]
  },
  {
   "cell_type": "code",
   "execution_count": null,
   "metadata": {},
   "outputs": [],
   "source": []
  },
  {
   "cell_type": "markdown",
   "metadata": {},
   "source": [
    "Continue working on the file which you just downloaded. Load the file again and replace the protagonist's name with your own name. (Hint: you can use: `replace()` for this. Look up online how to use this function.) Create a new file to save the adapted text, and make sure that the new filename has your name in it (e.g. \", starring Enrique\"). Make sure to keep the right extension!"
   ]
  },
  {
   "cell_type": "code",
   "execution_count": null,
   "metadata": {},
   "outputs": [],
   "source": []
  }
 ],
 "metadata": {
  "kernelspec": {
   "display_name": "",
   "name": ""
  },
  "language_info": {
   "name": ""
  }
 },
 "nbformat": 4,
 "nbformat_minor": 4
}
