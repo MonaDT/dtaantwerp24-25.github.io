{
 "cells": [
  {
   "cell_type": "markdown",
   "metadata": {},
   "source": [
    "\n",
    "\n",
    "<div style=\"background-color:lightgrey;\n",
    "            padding:10px;\n",
    "            color:black;\n",
    "            border:black dash 2px; \n",
    "            border-radius:5px;\n",
    "            margin: 20px 0;\">\n",
    "\n",
    "# Control Structures: if & else\n",
    "\n",
    "### Staff : Ben Burtenshaw\n",
    "### Support Material : !!!!!!!!\n",
    "### Support Sessions : Friday, October 1st\n",
    "</div>\n",
    "\n",
    "## Control Structures\n",
    "\n",
    "This is the first class in a series on **control structures**, which tell the computer how to interpret your code. They are essential to programming, because they allow to control when certain pieces of code get executed (or not).\n",
    "\n",
    "## Logic Structure\n",
    "\n",
    "**Control structures** all represent logic constructions. For example, for `if` and `else`:\n",
    "\n",
    "1. If it is raining, take an umbrella. Else, forget it.\n",
    "\n",
    "2. If the traffic light is red, stop. Else, go. (hang on... what about amber? we'll come to that one). ~\n",
    "\n",
    "<div style=\"background-color: lightyellow;\n",
    "color: black;\n",
    "padding: 10px;\n",
    "border: orange 3px solid;\n",
    "border-radius: 10px;\n",
    "     width:50%\">\n",
    "    \n",
    "<h2> code into prose : </h2>\n",
    "\n",
    "Converting code into prose is a useful way of understanding what a system does. Python was designed to be easily read and as you improve you'll get more proficient at reading it. Eventually, it will feel less like translating.\n",
    "\n",
    "</div>\n",
    "\n",
    "### If, test, do something.\n",
    "\n",
    "All of these examples use a similar structure:\n",
    "\n",
    "**Test something and then do an action** (depending on the outcome of the test) \n",
    "\n",
    "This is an important and recurring approach in programming because it is reliable and predictable.\n",
    "\n",
    "## `if` and `else` in Python\n",
    "\n",
    "All programming languages use control structures and Python has its own way of doing it.\n",
    "\n",
    "To understand control structures, we need to understand three key concepts; **keywords**, **whitespace** (or identation), and **logical expressions**. These are a really big deal in Python, so take your time to practice them and try to figure them out properly. \n",
    "\n",
    "### Keywords\n",
    "\n",
    "Keywords are a limited set of reserved terms that Python uses for specific actions. You encountered a few in your last class, like `is`. This is a handy [list of all Python keywords](https://www.w3schools.com/python/python_ref_keywords.asp).\n",
    "\n",
    "Today we will use three keywords: `if`, `else`, and their weird cousin `elif`.\n",
    "\n",
    "\n",
    "### Logical Expressions\n",
    "\n",
    "A logical expression is a statement that evaluates to `True` or `False`. In short, it is a test or a check. An example in prose could be \"is the traffic light green?\", \"is it raining?\", \"is this number larger then 5\"?.\n",
    "\n",
    "### Whitespace\n",
    "\n",
    "Whitespace is pretty simple. It's the stuff that separate words. That could be tabs, newline symbols or spaces. In Python, a tab signifies an entry into a **block of code**. This kind of whitespace is also called indentation.\n",
    "\n",
    "```python\n",
    "x = True\n",
    "\n",
    "if x:\n",
    "    print('hello')\n",
    "```\n",
    "\n",
    "In the example above, the tab before `print` separates that statement from the rest of the code. That is what we mean by \"whitespace\".\n",
    "\n",
    "The end of the indented block tells the interpreter that the `if` statement has ended. The interpreter will then handle all further code irrespective of the `if` statement.\n",
    "\n",
    "<div style=\"background-color: lightyellow;\n",
    "color: black;\n",
    "padding: 10px;\n",
    "border: orange 3px solid;\n",
    "border-radius: 10px;\n",
    "     width:50%\">\n",
    "<h2> The beauty of Python </h2>\n",
    "Python gives whitespace semantic meaning.\n",
    "    \n",
    "Most other programming languages don't treat whitespace in such a way.\n",
    "    \n",
    "Instead, they use a separate keyword like `endif` or punctuation like `}` to end the if statement. The proponents of those languages (you can call them haters if you want), say that Python is crazy. Python fans say that its crazy beautiful.\n",
    "\n",
    "</div>"
   ]
  },
  {
   "cell_type": "markdown",
   "metadata": {},
   "source": [
    "# Logical Expressions\n",
    "\n",
    "You may have touched on this in your last class, but logical expressions are an important part of `if` and `else` so we will go through it again.\n",
    "\n",
    "A logical expression is a test that resolves to a boolean value.\n",
    "\n",
    "A boolean value is either `True` or `False` and nothing else.\n",
    "\n",
    "In Python, we can test almost anything. Here are some of the main numerical tests that we will try out today:"
   ]
  },
  {
   "cell_type": "markdown",
   "metadata": {},
   "source": [
    "## Greater than and Less than"
   ]
  },
  {
   "cell_type": "code",
   "execution_count": null,
   "metadata": {},
   "outputs": [],
   "source": [
    "2 > 3"
   ]
  },
  {
   "cell_type": "code",
   "execution_count": null,
   "metadata": {},
   "outputs": [],
   "source": [
    "2 < 3"
   ]
  },
  {
   "cell_type": "code",
   "execution_count": null,
   "metadata": {},
   "outputs": [],
   "source": [
    "1 > 2"
   ]
  },
  {
   "cell_type": "code",
   "execution_count": null,
   "metadata": {},
   "outputs": [],
   "source": [
    "1 < 2"
   ]
  },
  {
   "cell_type": "markdown",
   "metadata": {},
   "source": [
    "## Is equal to"
   ]
  },
  {
   "cell_type": "code",
   "execution_count": null,
   "metadata": {},
   "outputs": [],
   "source": [
    "3 == 3"
   ]
  },
  {
   "cell_type": "code",
   "execution_count": null,
   "metadata": {},
   "outputs": [],
   "source": [
    "3 == 4"
   ]
  },
  {
   "cell_type": "markdown",
   "metadata": {},
   "source": [
    "## Is not equal to"
   ]
  },
  {
   "cell_type": "code",
   "execution_count": null,
   "metadata": {},
   "outputs": [],
   "source": [
    "3 != 3"
   ]
  },
  {
   "cell_type": "code",
   "execution_count": null,
   "metadata": {},
   "outputs": [],
   "source": [
    "3 != 4"
   ]
  },
  {
   "cell_type": "markdown",
   "metadata": {},
   "source": [
    "# `if`\n",
    "\n",
    "We will now combine the above logical expressions with an `if` keyword. \n",
    "\n",
    "`if` is a test.\n",
    "\n",
    "`if` is a check. \n",
    "\n",
    "`if` is a switch.\n",
    "\n",
    "`if` the test is true, do an action.\n",
    "\n",
    "In Python, the test is a logical expression, like `3 > 4`, and the action is inside an indented block.\n",
    "\n",
    "<div style=\"background-color: lightyellow;\n",
    "color: black;\n",
    "padding: 10px;\n",
    "border: orange 3px solid;\n",
    "border-radius: 10px;\n",
    "     width:50%\">\n",
    "<h2> Auto-complete </h2>\n",
    "    \n",
    "After the `if` key word and logical expression comes a semicolon `:`.\n",
    "\n",
    "Jupyter will automatically add a tab after that semicolon and return. How handy...\n",
    "\n",
    "If you forget the `:` (it happens to the best of us), no tab will be added. This is a useful way to spot something is not quite right. \n",
    "\n",
    "</div>"
   ]
  },
  {
   "cell_type": "code",
   "execution_count": null,
   "metadata": {},
   "outputs": [],
   "source": [
    "if 2 > 3:"
   ]
  },
  {
   "cell_type": "markdown",
   "metadata": {},
   "source": [
    "We will now need **white space** and something to do!"
   ]
  },
  {
   "cell_type": "code",
   "execution_count": null,
   "metadata": {},
   "outputs": [],
   "source": [
    "if 2 > 3:\n",
    "    print('Grommit?')"
   ]
  },
  {
   "cell_type": "code",
   "execution_count": null,
   "metadata": {},
   "outputs": [],
   "source": [
    "if 2 > 1:\n",
    "    print('Grommit?')"
   ]
  },
  {
   "cell_type": "markdown",
   "metadata": {},
   "source": [
    "- In the first cell nothing was printed because **2 is not greater than 3**\n",
    "- In the second cell \"Grommit?\" was printed because **2 is greater than 1**"
   ]
  },
  {
   "cell_type": "markdown",
   "metadata": {},
   "source": [
    "<div style=\"background-color: lightgreen;\n",
    "color: black;\n",
    "padding: 10px;\n",
    "border: green 3px solid;\n",
    "border-radius: 10px;\n",
    "     width:50%\">\n",
    "\n",
    "<h1>Class Exercise</h1>\n",
    "    \n",
    "Using the numerical logical expression above, like `3 > 4`, make if statements.\n",
    "    \n",
    "</div>"
   ]
  },
  {
   "cell_type": "code",
   "execution_count": null,
   "metadata": {},
   "outputs": [],
   "source": [
    "# if a number is more than 3, print the number\n",
    "\n",
    "x = 5\n",
    "\n",
    "if # code here"
   ]
  },
  {
   "cell_type": "code",
   "execution_count": null,
   "metadata": {},
   "outputs": [],
   "source": [
    "# if two numbers are the same print 'same same'\n",
    "\n",
    "x = 4\n",
    "y = 5\n",
    "\n",
    "# code here\n",
    "print('same same')"
   ]
  },
  {
   "cell_type": "code",
   "execution_count": null,
   "metadata": {},
   "outputs": [],
   "source": [
    "# if two numbers are different print 'derrida'"
   ]
  },
  {
   "cell_type": "code",
   "execution_count": null,
   "metadata": {},
   "outputs": [],
   "source": [
    "# try some of your own ..."
   ]
  },
  {
   "cell_type": "markdown",
   "metadata": {},
   "source": [
    "<div style=\"background-color: lightyellow;\n",
    "color: black;\n",
    "padding: 10px;\n",
    "border: orange 3px solid;\n",
    "border-radius: 10px;\n",
    "     width:50%\">\n",
    "<h2> Strings </h2>\n",
    "    \n",
    "We will now use strings to test our if statements.\n",
    "\n",
    "Remember from your previous class that we signify a string with a `'`. \n",
    "\n",
    "Otherwise, Python will not recognise them.\n",
    "\n",
    "</div>\n",
    "\n",
    "\n",
    "## Nested Conditions\n",
    "\n",
    "We can also combine tests."
   ]
  },
  {
   "cell_type": "code",
   "execution_count": null,
   "metadata": {},
   "outputs": [],
   "source": [
    "age = 19\n",
    "location = 'us'\n",
    "\n",
    "if age > 18:\n",
    "    if location != 'us':\n",
    "        print('you can drink')\n",
    "        \n",
    "# If this is all you wanted to, \n",
    "# there's a more elegant way that we explore below"
   ]
  },
  {
   "cell_type": "markdown",
   "metadata": {},
   "source": [
    "# `else`\n",
    "\n",
    "`else` comes after `if` and cannot occur on its own.\n",
    "\n",
    "`else` is a *catch all* clause that catches any result other than `True` to the `if` statement."
   ]
  },
  {
   "cell_type": "code",
   "execution_count": null,
   "metadata": {},
   "outputs": [],
   "source": [
    "traffic_light = 'green'\n",
    "\n",
    "if traffic_light == 'red':\n",
    "    print('stop')\n",
    "else:\n",
    "    print('go')"
   ]
  },
  {
   "cell_type": "markdown",
   "metadata": {},
   "source": [
    "The `else` block is executed when the `if` block is not."
   ]
  },
  {
   "cell_type": "markdown",
   "metadata": {},
   "source": [
    "<div style=\"background-color: lightgreen;\n",
    "color: black;\n",
    "padding: 10px;\n",
    "border: green 3px solid;\n",
    "border-radius: 10px;\n",
    "     width:50%\">\n",
    "\n",
    "<h1> Class Exercise </h1>\n",
    "\n",
    "Add a nested if statement for the amber light function\n",
    "    </div>"
   ]
  },
  {
   "cell_type": "code",
   "execution_count": null,
   "metadata": {},
   "outputs": [],
   "source": [
    "traffic_light = 'green'\n",
    "\n",
    "if traffic_light == 'red':\n",
    "    print('stop')\n",
    "else:\n",
    "    # something goes here ....\n",
    "    print('go')"
   ]
  },
  {
   "cell_type": "markdown",
   "metadata": {},
   "source": [
    "# `elif`\n",
    "\n",
    "`elif` is a hybrid of both `if` and `else`. \n",
    "\n",
    "`elif` always follows `if`.\n",
    "\n",
    "`elif` performs a further test on the remainder of the `if`.\n",
    "\n",
    "`elif` catches whats left from the first `if` and tests it again.\n",
    "\n",
    "`elif` is a way of implementing the nested `if` statement you added above.\n",
    "\n",
    "`elif` can be used multiple times. Each time testing on the remainder of the previous `if`"
   ]
  },
  {
   "cell_type": "code",
   "execution_count": null,
   "metadata": {},
   "outputs": [],
   "source": [
    "traffic_light = 'red'\n",
    "\n",
    "if traffic_light == 'red':\n",
    "    print('stop')\n",
    "elif traffic_light == 'amber':\n",
    "    print('wait')\n",
    "else:\n",
    "    print('go')"
   ]
  },
  {
   "cell_type": "markdown",
   "metadata": {},
   "source": [
    "We can use an `input` to make things a bit more dynamic"
   ]
  },
  {
   "cell_type": "code",
   "execution_count": null,
   "metadata": {},
   "outputs": [],
   "source": [
    "traffic_light = input('what colour is the traffic light?')\n",
    "\n",
    "if traffic_light == 'red':\n",
    "    print('stop')\n",
    "elif traffic_light == 'amber':\n",
    "    print('wait')\n",
    "else:\n",
    "    print('go')"
   ]
  },
  {
   "cell_type": "markdown",
   "metadata": {},
   "source": [
    "<div style=\"background-color: lightgreen;\n",
    "color: black;\n",
    "padding: 10px;\n",
    "border: green 3px solid;\n",
    "border-radius: 10px;\n",
    "     width:50%\">\n",
    "\n",
    "<h1>Class Exercise</h1>\n",
    "Adapt the code below to deal with unkown answers.\n",
    "</div>"
   ]
  },
  {
   "cell_type": "code",
   "execution_count": null,
   "metadata": {},
   "outputs": [],
   "source": [
    "traffic_light = input('what colour is the traffic light?')\n",
    "\n",
    "if traffic_light == 'red':\n",
    "    print('stop')\n",
    "elif traffic_light == 'amber':\n",
    "    print('wait')\n",
    "else: # this should be another elif that test if the light is green\n",
    "    print('go')\n",
    "# we need an else statement here to catch everything 'else'    \n",
    "print('drive slowly and look both ways.')"
   ]
  },
  {
   "cell_type": "markdown",
   "metadata": {},
   "source": [
    "# Testing, testing, testing.\n",
    "\n",
    "The key to using `if`,`elif`, and `else` is effective testing. Now that you understand the basics of the `if` statement, we will explore some more tests."
   ]
  },
  {
   "cell_type": "markdown",
   "metadata": {},
   "source": [
    "## Logical Operaters\n",
    "\n",
    "Logical operators are mathematical signs to build tests. You've already used `>` , `<`, `==`, and `!=`, but there are more!\n",
    "\n",
    "Two key ones are `|` and `&`, or and and."
   ]
  },
  {
   "cell_type": "markdown",
   "metadata": {},
   "source": [
    "# `or`      `|`"
   ]
  },
  {
   "cell_type": "code",
   "execution_count": null,
   "metadata": {},
   "outputs": [],
   "source": [
    "traffic_light = input('what colour is the traffic light?')\n",
    "\n",
    "if (traffic_light == 'red') | (traffic_light == 'amber'):\n",
    "    print('wait')\n",
    "else: \n",
    "    print('go')"
   ]
  },
  {
   "cell_type": "markdown",
   "metadata": {},
   "source": [
    "There are two main things going on above. \n",
    "\n",
    "1. We have removed the `elif`.\n",
    "2. We have tested two things in one test. If the light is red. If the light is amber.\n",
    "3. We have used `(` and `)` to denote our expressions."
   ]
  },
  {
   "cell_type": "markdown",
   "metadata": {},
   "source": [
    "# `and`      &\n",
    "\n",
    "Like `or`, and allows us to expand our tests to have multiple criteria."
   ]
  },
  {
   "cell_type": "code",
   "execution_count": null,
   "metadata": {},
   "outputs": [],
   "source": [
    "temperature = int(input('Temperature : '))\n",
    "\n",
    "if (temperature > 0) & (temperature < 100):\n",
    "    print(\"that's wet\")\n",
    "else:\n",
    "    print(\"that ain't wet\")\n"
   ]
  },
  {
   "cell_type": "markdown",
   "metadata": {},
   "source": [
    "## More Keywords\n",
    "\n",
    "Some keywords can be used in logical expressions."
   ]
  },
  {
   "cell_type": "code",
   "execution_count": null,
   "metadata": {},
   "outputs": [],
   "source": [
    "traffic_light = input('what colour is the traffic light?')\n",
    "\n",
    "if (traffic_light == 'red') or (traffic_light == 'amber'):\n",
    "    print('wait')\n",
    "else:\n",
    "    print('go')"
   ]
  },
  {
   "cell_type": "code",
   "execution_count": null,
   "metadata": {},
   "outputs": [],
   "source": [
    "temperature = int(input('Temperature : '))\n",
    "\n",
    "if (temperature > 0) and (temperature < 100):\n",
    "    print(\"that's wet\")\n",
    "else:\n",
    "    print(\"that ain't wet\")"
   ]
  },
  {
   "cell_type": "markdown",
   "metadata": {},
   "source": [
    "<div style=\"background-color: lightgreen;\n",
    "color: black;\n",
    "padding: 10px;\n",
    "border: green 3px solid;\n",
    "border-radius: 10px;\n",
    "     width:50%\">\n",
    "\n",
    "<h1>Class Exercise</h1>\n",
    "\n",
    "Use an `or` operator for the problem below.\n",
    "</div>"
   ]
  },
  {
   "cell_type": "code",
   "execution_count": null,
   "metadata": {},
   "outputs": [],
   "source": [
    "distance_home = int(input('Distance Home : '))\n",
    "fuel_range= int(input('Fuel Range : '))\n",
    "distance_to_station = 100\n",
    "\n",
    "if (distance_home < fuel_range) # or the distance_to_station is less than the distance_home:\n",
    "    print(\"We're going home\")\n",
    "else:\n",
    "    print('o no')"
   ]
  },
  {
   "cell_type": "markdown",
   "metadata": {},
   "source": [
    "# References\n",
    "\n",
    "- [list of Python keywords](https://www.w3schools.com/python/python_ref_keywords.asp)"
   ]
  }
 ],
 "metadata": {
  "kernelspec": {
   "display_name": "Python 3",
   "language": "python",
   "name": "python3"
  },
  "language_info": {
   "codemirror_mode": {
    "name": "ipython",
    "version": 3
   },
   "file_extension": ".py",
   "mimetype": "text/x-python",
   "name": "python",
   "nbconvert_exporter": "python",
   "pygments_lexer": "ipython3",
   "version": "3.6.10"
  }
 },
 "nbformat": 4,
 "nbformat_minor": 4
}
