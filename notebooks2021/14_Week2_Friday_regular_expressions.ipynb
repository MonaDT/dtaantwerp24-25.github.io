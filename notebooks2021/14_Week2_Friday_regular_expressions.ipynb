{
 "cells": [
  {
   "cell_type": "markdown",
   "metadata": {},
   "source": [
    "# Regular Expressions (RegEx)\n",
    "\n",
    "Staff : !!!!!!!!!\n",
    "Support Material : !!!!!!!!\n",
    "Support Sessions : !!!!!!!!"
   ]
  },
  {
   "cell_type": "markdown",
   "metadata": {},
   "source": [
    "#### Pattern matching\n",
    "\n",
    "- Check whether a pattern matches a string\n",
    "- Most programming languages have some implementation of this idea\n",
    "\n",
    "Interesting tool for help with constructing and debugging regular expressions: https://regex101.com/\n",
    "\n",
    "Very good tutorial on regex: https://docs.python.org/3.8/howto/regex.html"
   ]
  },
  {
   "cell_type": "code",
   "execution_count": null,
   "metadata": {},
   "outputs": [],
   "source": [
    "# we already saw some pattern matching\n",
    "\n",
    "'ab' in 'table'"
   ]
  },
  {
   "cell_type": "code",
   "execution_count": null,
   "metadata": {},
   "outputs": [],
   "source": [
    "'booking'.find('ing')"
   ]
  },
  {
   "cell_type": "code",
   "execution_count": null,
   "metadata": {},
   "outputs": [],
   "source": [
    "# Does the pattern (a followed by anything followed by b) match a string?\n",
    "\n",
    "def mymatch (x, y, text):\n",
    "    'x followed by y with anything in between'\n",
    "    for letter in text:\n",
    "        if letter == x:\n",
    "            pos = text.index(letter)\n",
    "            for letter in text[pos:]:\n",
    "                if letter == y:\n",
    "                    return True\n",
    "    return False\n"
   ]
  },
  {
   "cell_type": "code",
   "execution_count": null,
   "metadata": {},
   "outputs": [],
   "source": [
    "mymatch('a', 'b', 'zanzibir')"
   ]
  },
  {
   "cell_type": "code",
   "execution_count": null,
   "metadata": {},
   "outputs": [],
   "source": [
    "import re\n",
    "\n",
    "result = re.search('a.*b', 'zanzibar')\n",
    "result"
   ]
  },
  {
   "cell_type": "code",
   "execution_count": null,
   "metadata": {},
   "outputs": [],
   "source": [
    "result.group()  # group, span, start, end are only available if match succeeds!"
   ]
  },
  {
   "cell_type": "code",
   "execution_count": null,
   "metadata": {},
   "outputs": [],
   "source": [
    "result.start()"
   ]
  },
  {
   "cell_type": "code",
   "execution_count": null,
   "metadata": {},
   "outputs": [],
   "source": [
    "result.end() # is character AFTER the final char of the match"
   ]
  },
  {
   "cell_type": "code",
   "execution_count": null,
   "metadata": {},
   "outputs": [],
   "source": [
    "result.span()"
   ]
  },
  {
   "cell_type": "markdown",
   "metadata": {},
   "source": [
    "#### search \n",
    "- stops with first match found (has start, end, span, group)\n",
    "- returns None when there is no match\n",
    "\n",
    "#### findall\n",
    "- returns a list of matches (only the strings)\n",
    "- returns empty list when there is no match\n",
    "\n",
    "#### finditer\n",
    "- can be used to loop through matches\n",
    "- each match has span and what is matched\n",
    "\n",
    "#### match\n",
    "- looks at a match from the start of the string\n",
    "- has a span and a match (like group in search)\n",
    "\n",
    "Matching is greedy."
   ]
  },
  {
   "cell_type": "markdown",
   "metadata": {},
   "source": [
    "### Patterns\n",
    "- single symbols ('a', 'f', ...)\n",
    "- concatenation of symbols ('ab', 'bar', ...)\n",
    "- disjunction ('a|b', '(ab)|c', 'a[bc]')  (either or, any of)\n",
    "- sets\n",
    "    - [abc] a b or c\n",
    "    - [^abc] not a, b or c\n",
    "    - [a-z] a character in the range a-z\n",
    "    - [a-zA-Z] a character in the range a-z or A-Z\n",
    "    - [^a-zA-Z] a character NOT in the range a-z or A-Z\n",
    "- any character (.)\n",
    "- start of string ^ and end of string $\n",
    "- a whitespace character \\s\n",
    "- a non-whitespace character \\S\n",
    "- a digit \\d\n",
    "- a non-digit \\D\n",
    "- a word character \\w\n",
    "- a non word character \\W\n",
    "- a word boundary character \\b\n",
    "- a non word boundary character \\B\n",
    "- quantifiers\n",
    "    - a? zero or one 'a'\n",
    "    - a+ one or more 'a'\n",
    "    - a* zero or more 'a'\n",
    "    - a{5} exactly 5 of 'a'"
   ]
  },
  {
   "cell_type": "code",
   "execution_count": null,
   "metadata": {},
   "outputs": [],
   "source": [
    "result = re.findall('bar', 'barbara')\n",
    "result"
   ]
  },
  {
   "cell_type": "code",
   "execution_count": null,
   "metadata": {},
   "outputs": [],
   "source": [
    "result = re.search('bar', 'barbara')\n",
    "result"
   ]
  },
  {
   "cell_type": "code",
   "execution_count": null,
   "metadata": {},
   "outputs": [],
   "source": [
    "result = re.match('bar', 'barbara')\n",
    "result"
   ]
  },
  {
   "cell_type": "code",
   "execution_count": null,
   "metadata": {},
   "outputs": [],
   "source": [
    "result = re.search('bar', 'rabarbara')\n",
    "result"
   ]
  },
  {
   "cell_type": "code",
   "execution_count": null,
   "metadata": {},
   "outputs": [],
   "source": [
    "result = re.match('bar', 'rabarbara')\n",
    "result"
   ]
  },
  {
   "cell_type": "code",
   "execution_count": null,
   "metadata": {},
   "outputs": [],
   "source": [
    "result = re.findall('ba', 'zanzibarbar')\n",
    "result"
   ]
  },
  {
   "cell_type": "code",
   "execution_count": null,
   "metadata": {},
   "outputs": [],
   "source": [
    "for match in re.finditer('bar', 'zanzibarbar'):\n",
    "    print(match)"
   ]
  },
  {
   "cell_type": "code",
   "execution_count": null,
   "metadata": {},
   "outputs": [],
   "source": [
    "for match in re.finditer('[0-9]+', '12/10/1990'):\n",
    "    print(match)"
   ]
  },
  {
   "cell_type": "code",
   "execution_count": null,
   "metadata": {},
   "outputs": [],
   "source": [
    "re.findall('o', 'www.google.com') # find all o"
   ]
  },
  {
   "cell_type": "code",
   "execution_count": null,
   "metadata": {},
   "outputs": [],
   "source": [
    "re.search('oo', 'www.google.com') # find two consecutive o's"
   ]
  },
  {
   "cell_type": "code",
   "execution_count": null,
   "metadata": {},
   "outputs": [],
   "source": [
    "re.findall('[ow]+', 'www.google.com') # find sequences of 1 or more o or w"
   ]
  },
  {
   "cell_type": "code",
   "execution_count": null,
   "metadata": {},
   "outputs": [],
   "source": [
    "re.findall(r'[a-z]+', 'www.google.com') # find sequences of one or more lowercase alphabetic character"
   ]
  },
  {
   "cell_type": "code",
   "execution_count": null,
   "metadata": {},
   "outputs": [],
   "source": [
    "re.search('o{2}', 'www.google.com') # find sequence of exactly 2 o's"
   ]
  },
  {
   "cell_type": "code",
   "execution_count": null,
   "metadata": {},
   "outputs": [],
   "source": [
    "re.findall('\\.', 'www.google.com') # find dots (escape!)"
   ]
  },
  {
   "cell_type": "code",
   "execution_count": null,
   "metadata": {},
   "outputs": [],
   "source": [
    "re.findall('\\w', 'www.google.com') # find word characters"
   ]
  },
  {
   "cell_type": "code",
   "execution_count": null,
   "metadata": {},
   "outputs": [],
   "source": [
    "re.findall('\\W', 'www.google.com') # find non-word characters"
   ]
  },
  {
   "cell_type": "code",
   "execution_count": null,
   "metadata": {},
   "outputs": [],
   "source": [
    "re.findall('\\s', 'www\\n   google\\tcom') # find whitespace characters"
   ]
  },
  {
   "cell_type": "code",
   "execution_count": null,
   "metadata": {},
   "outputs": [],
   "source": [
    "re.findall('[0-9]+', '12/10/1990') # find numeric characters"
   ]
  },
  {
   "cell_type": "code",
   "execution_count": null,
   "metadata": {},
   "outputs": [],
   "source": [
    "re.findall('\\d+', '12/10/1990') # find numeric characters"
   ]
  },
  {
   "cell_type": "code",
   "execution_count": null,
   "metadata": {},
   "outputs": [],
   "source": [
    "re.findall('[^0-9]+', '12/10/1990') # find non-numeric characters"
   ]
  },
  {
   "cell_type": "markdown",
   "metadata": {},
   "source": [
    "### Gaining a bit more efficiency in pattern matching"
   ]
  },
  {
   "cell_type": "code",
   "execution_count": null,
   "metadata": {},
   "outputs": [],
   "source": [
    "# Compile a regular expression\n",
    "p = re.compile('[0-9]+')\n",
    "p.findall('12/10/1990')"
   ]
  },
  {
   "cell_type": "code",
   "execution_count": null,
   "metadata": {},
   "outputs": [],
   "source": [
    "%time\n",
    "n = 0\n",
    "while n < 1000000:\n",
    "    re.findall('[0-9]+', '12/10/1990')\n",
    "    n += 1"
   ]
  },
  {
   "cell_type": "code",
   "execution_count": null,
   "metadata": {},
   "outputs": [],
   "source": [
    "%time\n",
    "p = re.compile('[0-9]+')\n",
    "n = 0\n",
    "while n < 1000000:\n",
    "    p.findall('12/10/1990')\n",
    "    n += 1\n"
   ]
  }
 ],
 "metadata": {
  "kernelspec": {
   "display_name": "Python 3",
   "language": "python",
   "name": "python3"
  },
  "language_info": {
   "codemirror_mode": {
    "name": "ipython",
    "version": 3
   },
   "file_extension": ".py",
   "mimetype": "text/x-python",
   "name": "python",
   "nbconvert_exporter": "python",
   "pygments_lexer": "ipython3",
   "version": "3.8.5"
  }
 },
 "nbformat": 4,
 "nbformat_minor": 4
}
