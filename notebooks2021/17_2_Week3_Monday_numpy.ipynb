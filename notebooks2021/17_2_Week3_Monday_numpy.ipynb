{
 "cells": [
  {
   "cell_type": "markdown",
   "metadata": {
    "id": "v91huMJkNd3-"
   },
   "source": [
    "Staff : Nikolay Banar\n",
    "\n",
    "Support Material : None\n",
    "\n",
    "Support Sessions : None\n",
    "\n",
    "\n",
    "\n"
   ]
  },
  {
   "cell_type": "markdown",
   "metadata": {
    "id": "WiWVXkuQitDp"
   },
   "source": [
    "This session will cover basic consepts of linear algebra and their implemantation in numpy.\n",
    "\n",
    "We will discuss:\n",
    "\n",
    "- Array creation\n",
    "- Array element access\n",
    "- Array addition\n",
    "- Dot product (matrix multiplication)\n",
    "- Scalar multiplication\n",
    "- Properties of matrix multiplication\n",
    "- Some useful operation in numpy"
   ]
  },
  {
   "cell_type": "markdown",
   "metadata": {
    "id": "GU3x7Gcth7AF"
   },
   "source": [
    "# Introduction\n",
    "\n",
    "Vectors and matrices are one of the most fundamental building blocks of computer science. Their importance can hardly be overstated. Vectors and matrices not only make it easier to train machine learning models, they are also a great means of data representation.\n",
    "\n",
    "## Why do we need matrices and vectors?\n",
    "- Matrix (and vector) is a way to put multiple similar problems into one container or array and, then, to conduct multiple similar manipulations with it.\n",
    "- Modern GPUs (Graphics Processing Units) and TPUs (Tensor Processing Units) are able to conduct efficient parallel calculations.\n",
    "- There are highly optimized linear algebra libraries like numpy, pytorch, tensorflow. \n",
    "- All modern neural networks (and other algorithms) are based on matrices and vectors (tensors)\n",
    "\n",
    "## Where are you going to use them?\n",
    "\n",
    "- Machine Learning \n",
    "- Humanities Data Analysis\n",
    "- Natural Language Processing\n",
    "- Thesis\n",
    "\n",
    "## Matrices and Vectors\n",
    "Matrix is a rectangular (or 2-D) array of numbers:\n",
    "\n",
    ">$A =\n",
    " \\begin{pmatrix}\n",
    "  10 & 19 & 40 & 20 \\\\\n",
    "  20 & 67 & 38 & 91\\\\\n",
    "  40  & 91  & 4 & 51  \\\\\n",
    "  10 & 44 & 59 & 43 \\\\\n",
    "  31 & 45 & 85 & 18\n",
    " \\end{pmatrix}$\n",
    "\n",
    "Matrices usually represent features (weights and many other things) in machine learning. \n",
    "\n",
    "**Example:** Let's say that we would like to investigate behavior of the user Mike, who visits different websites, and find out if it is really him (fraud detection problem). In this matrix, each row corresponds to a session, and each column (except first one) corresponds to a website. The numbers may represent the amount of time spent on websites (or other features).\n",
    ">|Session | Netflix| Google | Youtube| Spotify |\n",
    "|:-:|:-:|:----:|:-------:|:--------:|\n",
    "|0|10 | 19 | 40 | 20|\n",
    "|1|20 | 67 | 38 | 91|\n",
    "|2|40 | 91 | 4  |51|\n",
    "|3|10 | 44 | 59 | 43|\n",
    "|4|31 | 45 | 85 | 18|\n",
    "\n",
    "Vector (1-D array) is a matrix with one column (or one row):\n",
    "\n",
    ">$\\vec{x} =\n",
    " \\begin{pmatrix}\n",
    "  1 \\\\ 19 \\\\ 40 \\\\ 20 \n",
    "  \\end{pmatrix}$\n",
    "\n",
    "Dimension or shape of a matrix: $\\mathbb{R}^{r \\times c}$ or the number of rows $\\times $ the number of columns. **QUESTION** What is dimension of  $A$ and $\\vec{x}$?\n",
    "\n",
    "\n",
    "Essentially, a vector is a list of coordinates that refers to the location of a point in space. The following vector, for instance, refers to the location of a point with $x$-coordinate 1 and $y$-coordinate 2.\n",
    "\n",
    "> $\\begin{pmatrix} 1 \\\\ 2\\end{pmatrix}$\n",
    "\n"
   ]
  },
  {
   "cell_type": "markdown",
   "metadata": {
    "id": "4tsffE5xWb8B"
   },
   "source": [
    "# Array Creation\n",
    "**IMPORTANT**: all elements of an np.array have the same type.\n",
    "\n",
    "We can create a matrix (2-D array) or a vector (1-D array):\n",
    "- from list or tuples\n",
    "- filled with zeros or ones\n",
    "- filled with evenly spaced values within a given interval\n",
    "- reshaping another matrix or vector\n",
    "- randomly\n",
    "- empty\n"
   ]
  },
  {
   "cell_type": "code",
   "execution_count": null,
   "metadata": {
    "id": "qSJEsiwEckdD"
   },
   "outputs": [],
   "source": [
    "import numpy as np"
   ]
  },
  {
   "cell_type": "markdown",
   "metadata": {
    "id": "KbpEImOVauWU"
   },
   "source": [
    "We can create an array using a list of lists. Each list correponds to a row in the new matrix:\n",
    "\n",
    "\n"
   ]
  },
  {
   "cell_type": "code",
   "execution_count": null,
   "metadata": {
    "id": "wWCz6AAGXzwH"
   },
   "outputs": [],
   "source": [
    "a_list = [[1,2,3],[4,5,6]]"
   ]
  },
  {
   "cell_type": "code",
   "execution_count": null,
   "metadata": {
    "colab": {
     "base_uri": "https://localhost:8080/",
     "height": 55
    },
    "id": "VtyLuNiuYK5P",
    "outputId": "bd89542f-3c85-4cc3-b4c2-cc8ddb348fd1"
   },
   "outputs": [
    {
     "data": {
      "text/plain": [
       "[[1, 2, 3], [4, 5, 6]]"
      ]
     },
     "execution_count": 3,
     "metadata": {
      "tags": []
     },
     "output_type": "execute_result"
    }
   ],
   "source": [
    "a_list"
   ]
  },
  {
   "cell_type": "code",
   "execution_count": null,
   "metadata": {
    "colab": {
     "base_uri": "https://localhost:8080/",
     "height": 72
    },
    "id": "kC8hadUia26U",
    "outputId": "45cb112a-1ec0-4268-c873-331265ef09bf"
   },
   "outputs": [
    {
     "data": {
      "text/plain": [
       "array([[1, 2, 3],\n",
       "       [4, 5, 6]])"
      ]
     },
     "execution_count": 4,
     "metadata": {
      "tags": []
     },
     "output_type": "execute_result"
    }
   ],
   "source": [
    "a = np.array(a_list)\n",
    "a"
   ]
  },
  {
   "cell_type": "code",
   "execution_count": null,
   "metadata": {
    "colab": {
     "base_uri": "https://localhost:8080/",
     "height": 72
    },
    "id": "aqkPeIXsioyn",
    "outputId": "074fc9f3-9129-47c8-9955-481c14369e09"
   },
   "outputs": [
    {
     "data": {
      "text/plain": [
       "array([[1, 2, 3],\n",
       "       [4, 5, 6]])"
      ]
     },
     "execution_count": 5,
     "metadata": {
      "tags": []
     },
     "output_type": "execute_result"
    }
   ],
   "source": [
    "np.array([[1,2,3],[4,5,6]])"
   ]
  },
  {
   "cell_type": "markdown",
   "metadata": {
    "id": "Nyk7ErMtb1oy"
   },
   "source": [
    "Let's print out the tuple representing the dimensions of the array:  $\\mathbb{R}^{r \\times c}$"
   ]
  },
  {
   "cell_type": "code",
   "execution_count": null,
   "metadata": {
    "colab": {
     "base_uri": "https://localhost:8080/",
     "height": 55
    },
    "id": "QcBOP6QUhdje",
    "outputId": "eea5f90e-a691-4fec-9ef4-9114fc693766"
   },
   "outputs": [
    {
     "data": {
      "text/plain": [
       "(2, 3)"
      ]
     },
     "execution_count": 6,
     "metadata": {
      "tags": []
     },
     "output_type": "execute_result"
    }
   ],
   "source": [
    "a.shape"
   ]
  },
  {
   "cell_type": "markdown",
   "metadata": {
    "id": "UiXpbKvoa30-"
   },
   "source": [
    "We can also define an array using tuples:\n"
   ]
  },
  {
   "cell_type": "code",
   "execution_count": null,
   "metadata": {
    "id": "XGfYpi_Fa7Qj"
   },
   "outputs": [],
   "source": [
    "a_tuple = ((1,2,3),(4,5,6))"
   ]
  },
  {
   "cell_type": "code",
   "execution_count": null,
   "metadata": {
    "colab": {
     "base_uri": "https://localhost:8080/",
     "height": 34
    },
    "id": "FBFy2RLIbDPR",
    "outputId": "11db00d3-d2d3-4b7f-9475-ff288d5f66eb"
   },
   "outputs": [
    {
     "data": {
      "text/plain": [
       "((1, 2, 3), (4, 5, 6))"
      ]
     },
     "execution_count": 14,
     "metadata": {
      "tags": []
     },
     "output_type": "execute_result"
    }
   ],
   "source": [
    "a_tuple"
   ]
  },
  {
   "cell_type": "code",
   "execution_count": null,
   "metadata": {
    "colab": {
     "base_uri": "https://localhost:8080/",
     "height": 51
    },
    "id": "fl3B9dSL9BCo",
    "outputId": "a19ee2ab-7613-4a73-b5f1-34e686e230f7"
   },
   "outputs": [
    {
     "data": {
      "text/plain": [
       "array([[1, 2, 3],\n",
       "       [4, 5, 6]])"
      ]
     },
     "execution_count": 15,
     "metadata": {
      "tags": []
     },
     "output_type": "execute_result"
    }
   ],
   "source": [
    "np.array(a_tuple)"
   ]
  },
  {
   "cell_type": "markdown",
   "metadata": {
    "id": "N2pthD75kJqA"
   },
   "source": [
    "We can fill all elements with zeros or ones. Shape is defined as int or tuple of ints."
   ]
  },
  {
   "cell_type": "code",
   "execution_count": null,
   "metadata": {
    "colab": {
     "base_uri": "https://localhost:8080/",
     "height": 90
    },
    "id": "lsJOa-gFViZL",
    "outputId": "3175684b-97c6-450b-c3e7-b9d65fdc6846"
   },
   "outputs": [
    {
     "data": {
      "text/plain": [
       "array([[0., 0., 0., 0.],\n",
       "       [0., 0., 0., 0.],\n",
       "       [0., 0., 0., 0.]])"
      ]
     },
     "execution_count": 7,
     "metadata": {
      "tags": []
     },
     "output_type": "execute_result"
    }
   ],
   "source": [
    "np.zeros(shape=(3,4))"
   ]
  },
  {
   "cell_type": "code",
   "execution_count": null,
   "metadata": {
    "colab": {
     "base_uri": "https://localhost:8080/",
     "height": 125
    },
    "id": "QT5Rapv1Vmeo",
    "outputId": "e7b49d78-932e-4a6e-d6ff-57b892e36542"
   },
   "outputs": [
    {
     "data": {
      "text/plain": [
       "array([[1., 1.],\n",
       "       [1., 1.],\n",
       "       [1., 1.],\n",
       "       [1., 1.],\n",
       "       [1., 1.]])"
      ]
     },
     "execution_count": 8,
     "metadata": {
      "tags": []
     },
     "output_type": "execute_result"
    }
   ],
   "source": [
    "np.ones(shape=(5,2))"
   ]
  },
  {
   "cell_type": "markdown",
   "metadata": {
    "id": "o4_0KLGdpQIS"
   },
   "source": [
    "We can create a vector (or 1-D array) filled with evenly spaced values within a given interval."
   ]
  },
  {
   "cell_type": "code",
   "execution_count": null,
   "metadata": {
    "colab": {
     "base_uri": "https://localhost:8080/",
     "height": 55
    },
    "id": "igKqKGy5V9Pq",
    "outputId": "8a58cc43-0bee-43fd-b685-93603a9adaa8"
   },
   "outputs": [
    {
     "data": {
      "text/plain": [
       "array([1. , 1.5, 2. , 2.5, 3. , 3.5, 4. , 4.5, 5. , 5.5, 6. , 6.5])"
      ]
     },
     "execution_count": 9,
     "metadata": {
      "tags": []
     },
     "output_type": "execute_result"
    }
   ],
   "source": [
    "np.arange(start=1, stop=7, step=0.5)"
   ]
  },
  {
   "cell_type": "markdown",
   "metadata": {
    "id": "wSTfrX5neLh3"
   },
   "source": [
    "We can also create a matrix filled with evenly spaced values within a given interval. We will need the reshape method. It maps values from an existing array to an array with the given shape."
   ]
  },
  {
   "cell_type": "code",
   "execution_count": null,
   "metadata": {
    "colab": {
     "base_uri": "https://localhost:8080/",
     "height": 108
    },
    "id": "3PdDTdS0fnuM",
    "outputId": "3d90543b-db5f-4d15-8edb-b1c6f1f08dbb"
   },
   "outputs": [
    {
     "data": {
      "text/plain": [
       "array([[1. , 1.5, 2. ],\n",
       "       [2.5, 3. , 3.5],\n",
       "       [4. , 4.5, 5. ],\n",
       "       [5.5, 6. , 6.5]])"
      ]
     },
     "execution_count": 10,
     "metadata": {
      "tags": []
     },
     "output_type": "execute_result"
    }
   ],
   "source": [
    "np.arange(start=1, stop=7, step=0.5).reshape((4, 3))"
   ]
  },
  {
   "cell_type": "markdown",
   "metadata": {
    "id": "id4Mv16XquK0"
   },
   "source": [
    "Sometimes we need to create arrays filled with random ints or floats."
   ]
  },
  {
   "cell_type": "code",
   "execution_count": null,
   "metadata": {
    "colab": {
     "base_uri": "https://localhost:8080/",
     "height": 102
    },
    "id": "lqUiFjEXV99p",
    "outputId": "0f9dafe3-d7e2-4cd0-b7be-6dffe3971799"
   },
   "outputs": [
    {
     "data": {
      "text/plain": [
       "array([[1, 5, 6],\n",
       "       [4, 6, 2],\n",
       "       [5, 4, 2],\n",
       "       [6, 4, 3],\n",
       "       [3, 5, 3]])"
      ]
     },
     "execution_count": 15,
     "metadata": {
      "tags": []
     },
     "output_type": "execute_result"
    }
   ],
   "source": [
    "np.random.randint(low=1, high=7, size=(5,3))"
   ]
  },
  {
   "cell_type": "code",
   "execution_count": null,
   "metadata": {
    "colab": {
     "base_uri": "https://localhost:8080/",
     "height": 85
    },
    "id": "0_sOIU0qV_uu",
    "outputId": "144e8927-71f2-4edf-fd27-ec0f9233a669"
   },
   "outputs": [
    {
     "data": {
      "text/plain": [
       "array([[0.5487297 , 0.57228974, 0.99971721, 0.36663257],\n",
       "       [0.75718625, 0.33669155, 0.9720018 , 0.43492401],\n",
       "       [0.82280258, 0.09567044, 0.26568577, 0.47907312],\n",
       "       [0.67437993, 0.05189255, 0.10108709, 0.48131474]])"
      ]
     },
     "execution_count": 16,
     "metadata": {
      "tags": []
     },
     "output_type": "execute_result"
    }
   ],
   "source": [
    "np.random.random(size=(4,4))"
   ]
  },
  {
   "cell_type": "markdown",
   "metadata": {
    "id": "UIdmmtCMtxOI"
   },
   "source": [
    "np.random.random return floats in the half-open interval [0.0, 1.0). We can expend this interval by simple mathematical manipulations. **Question**: How to create a matrix filled with floats in the half-open interval [0.0, 100.0)? [-50.0, 50.0)?"
   ]
  },
  {
   "cell_type": "code",
   "execution_count": null,
   "metadata": {
    "colab": {
     "base_uri": "https://localhost:8080/",
     "height": 108
    },
    "id": "0InnpBmTbkMb",
    "outputId": "3939464e-2797-4360-d1b6-78d4270771f0"
   },
   "outputs": [
    {
     "data": {
      "text/plain": [
       "array([[81.27663014, 37.6584597 , 36.52028883, 99.39861461],\n",
       "       [74.71743931, 80.33243002, 60.9393776 ,  3.94692112],\n",
       "       [24.52447717, 36.11535887, 19.5069614 , 23.0834881 ],\n",
       "       [56.75833379,  8.91586468, 58.63453778,  4.96535846]])"
      ]
     },
     "execution_count": 12,
     "metadata": {
      "tags": []
     },
     "output_type": "execute_result"
    }
   ],
   "source": [
    "#@title\n",
    "100*np.random.random(size=(4,4))"
   ]
  },
  {
   "cell_type": "code",
   "execution_count": null,
   "metadata": {
    "colab": {
     "base_uri": "https://localhost:8080/",
     "height": 108
    },
    "id": "gvPZ60ONuptT",
    "outputId": "4de7ae1e-bd0a-4ddb-b320-ecf81864ae62"
   },
   "outputs": [
    {
     "data": {
      "text/plain": [
       "array([[-16.0747202 ,  11.32475119,  36.97260689, -37.50242612],\n",
       "       [-49.86097865,  30.40559299,  30.89822423,  -3.38679897],\n",
       "       [ 28.03623506,  28.92229039,  17.92075643,  36.37889697],\n",
       "       [ 27.90625401,  15.50794405, -20.38226369,   5.01796913]])"
      ]
     },
     "execution_count": 11,
     "metadata": {
      "tags": []
     },
     "output_type": "execute_result"
    }
   ],
   "source": [
    "#@title\n",
    "100*np.random.random(size=(4,4)) - 50"
   ]
  },
  {
   "cell_type": "markdown",
   "metadata": {
    "id": "bxqcY2xZvgmP"
   },
   "source": [
    "We can also create an empty matrix. It does not contain initializing entries. (**IMPORTANT**) However, if we print it out, the matrix will contain some values. These values are already located in memory and, hence, are not random.  Empty, unlike zeros, does not set the array values to zero, and may therefore be marginally faster. On the other hand, it requires the user to manually set all the values in the array, and should be used with caution. "
   ]
  },
  {
   "cell_type": "code",
   "execution_count": null,
   "metadata": {
    "colab": {
     "base_uri": "https://localhost:8080/",
     "height": 72
    },
    "id": "11NZABjLu4dr",
    "outputId": "05574fc6-8561-41ce-c0a4-1ee5b22a1710"
   },
   "outputs": [
    {
     "data": {
      "text/plain": [
       "array([[2.2793746e-316, 0.0000000e+000, 0.0000000e+000],\n",
       "       [0.0000000e+000, 0.0000000e+000, 0.0000000e+000]])"
      ]
     },
     "execution_count": 16,
     "metadata": {
      "tags": []
     },
     "output_type": "execute_result"
    }
   ],
   "source": [
    "np.empty(shape=(2,3))"
   ]
  },
  {
   "cell_type": "markdown",
   "metadata": {
    "id": "LYUs64gpiGNM"
   },
   "source": [
    "# Array element access\n",
    "\n",
    "**IMPORTANT**: in numpy the index starts from 0.\n",
    "\n",
    "Matrix elements or entries of matrix: $A_{i,j} = i, j$ entry in the $i^{th}$ row and $j^{th}$ column. \n",
    "\n",
    ">$A =\n",
    " \\begin{pmatrix}\n",
    "  a_{0,0} & a_{0,1} & \\cdots & a_{0,n} \\\\\n",
    "  a_{1,1} & a_{1, 1} & \\cdots & a_{1,n} \\\\\n",
    "  \\vdots  & \\vdots  & \\ddots & \\vdots  \\\\\n",
    "  a_{m,0} & a_{m,0} & \\cdots & a_{m,n}\n",
    " \\end{pmatrix}$\n",
    "\n",
    "\n",
    "\n",
    "**QUESTION:** What is the entry of $A_{1,2}$ ?\n",
    "\n",
    "\n",
    ">$A =\n",
    " \\begin{pmatrix}\n",
    "  10 & 19 & 40 & 20 \\\\\n",
    "  20 & 67 & 38 & 91\\\\\n",
    "  40  & 91  & 4 & 51  \\\\\n",
    "  10 & 44 & 595 & 43 \\\\\n",
    "  31 & 45 & 85 & 18\n",
    " \\end{pmatrix}$\n"
   ]
  },
  {
   "cell_type": "code",
   "execution_count": null,
   "metadata": {
    "colab": {
     "base_uri": "https://localhost:8080/",
     "height": 90
    },
    "id": "EFFcF9irbo7I",
    "outputId": "1969a6dc-e8c3-4fa5-e022-c4cb33dadd15"
   },
   "outputs": [
    {
     "data": {
      "text/plain": [
       "array([[ 0,  1,  2,  3],\n",
       "       [ 4,  5,  6,  7],\n",
       "       [ 8,  9, 10, 11]])"
      ]
     },
     "execution_count": 17,
     "metadata": {
      "tags": []
     },
     "output_type": "execute_result"
    }
   ],
   "source": [
    "b = np.arange(0,12).reshape((3,4))\n",
    "b"
   ]
  },
  {
   "cell_type": "markdown",
   "metadata": {
    "id": "M8feOe6M2DI5"
   },
   "source": [
    "We can get an element by specifying [row, column]:"
   ]
  },
  {
   "cell_type": "code",
   "execution_count": null,
   "metadata": {
    "colab": {
     "base_uri": "https://localhost:8080/",
     "height": 55
    },
    "id": "dMhYXW6zb38h",
    "outputId": "65b4ad10-3b39-4574-89a0-1bfe1a6790d0"
   },
   "outputs": [
    {
     "data": {
      "text/plain": [
       "7"
      ]
     },
     "execution_count": 18,
     "metadata": {
      "tags": []
     },
     "output_type": "execute_result"
    }
   ],
   "source": [
    "row = 1\n",
    "column = 3\n",
    "b[row, column]"
   ]
  },
  {
   "cell_type": "code",
   "execution_count": null,
   "metadata": {
    "colab": {
     "base_uri": "https://localhost:8080/",
     "height": 55
    },
    "id": "o8lW28Wtb88B",
    "outputId": "ae698e15-6d97-495e-b756-b8e93ce2c5fc"
   },
   "outputs": [
    {
     "data": {
      "text/plain": [
       "10"
      ]
     },
     "execution_count": 19,
     "metadata": {
      "tags": []
     },
     "output_type": "execute_result"
    }
   ],
   "source": [
    "b[2, 2]"
   ]
  },
  {
   "cell_type": "markdown",
   "metadata": {
    "id": "-BHrmCPQpSh6"
   },
   "source": [
    "We can also refer to ranges inside an array. We should define *start:end:step* to specify a range:\n",
    "\n",
    "\n"
   ]
  },
  {
   "cell_type": "code",
   "execution_count": null,
   "metadata": {
    "colab": {
     "base_uri": "https://localhost:8080/",
     "height": 55
    },
    "id": "zlV0VCgHpTnQ",
    "outputId": "294d9b3a-3263-49da-ebca-34e5d4599944"
   },
   "outputs": [
    {
     "data": {
      "text/plain": [
       "array([1, 2])"
      ]
     },
     "execution_count": 20,
     "metadata": {
      "tags": []
     },
     "output_type": "execute_result"
    }
   ],
   "source": [
    "b[0, 1:3:1]"
   ]
  },
  {
   "cell_type": "markdown",
   "metadata": {
    "id": "K5jVBQ_cq1d0"
   },
   "source": [
    "It is not necessary to assign the step. It is set to 1 by default."
   ]
  },
  {
   "cell_type": "code",
   "execution_count": null,
   "metadata": {
    "colab": {
     "base_uri": "https://localhost:8080/",
     "height": 55
    },
    "id": "WgbNp95Iqu0c",
    "outputId": "183c0974-0098-4b5a-ced4-b17a598e6dd3"
   },
   "outputs": [
    {
     "data": {
      "text/plain": [
       "array([1, 2])"
      ]
     },
     "execution_count": 21,
     "metadata": {
      "tags": []
     },
     "output_type": "execute_result"
    }
   ],
   "source": [
    "b[0, 1:3]"
   ]
  },
  {
   "cell_type": "markdown",
   "metadata": {
    "id": "effGRZtZ4Uii"
   },
   "source": [
    "If we do not set start or end indexes, they are automatically assigned to 0 and to the last index, respectively."
   ]
  },
  {
   "cell_type": "code",
   "execution_count": null,
   "metadata": {
    "colab": {
     "base_uri": "https://localhost:8080/",
     "height": 55
    },
    "id": "qKQ8Lmt446le",
    "outputId": "9ea18c45-8588-436b-a182-fb3ae48e6a2d"
   },
   "outputs": [
    {
     "data": {
      "text/plain": [
       "array([1, 2, 3])"
      ]
     },
     "execution_count": 22,
     "metadata": {
      "tags": []
     },
     "output_type": "execute_result"
    }
   ],
   "source": [
    "b[0, 1:]"
   ]
  },
  {
   "cell_type": "code",
   "execution_count": null,
   "metadata": {
    "colab": {
     "base_uri": "https://localhost:8080/",
     "height": 90
    },
    "id": "uo1YBdx1LKcX",
    "outputId": "e5894dab-6f36-47f6-837c-14760da267bf"
   },
   "outputs": [
    {
     "data": {
      "text/plain": [
       "array([[ 0,  1,  2,  3],\n",
       "       [ 4,  5,  6,  7],\n",
       "       [ 8,  9, 10, 11]])"
      ]
     },
     "execution_count": 23,
     "metadata": {
      "tags": []
     },
     "output_type": "execute_result"
    }
   ],
   "source": [
    "b"
   ]
  },
  {
   "cell_type": "code",
   "execution_count": null,
   "metadata": {
    "colab": {
     "base_uri": "https://localhost:8080/",
     "height": 55
    },
    "id": "6ZmBYi7J4_h5",
    "outputId": "922e07d0-77a4-431f-9bfa-c9e0a5a745bd"
   },
   "outputs": [
    {
     "data": {
      "text/plain": [
       "array([0, 1, 2])"
      ]
     },
     "execution_count": 24,
     "metadata": {
      "tags": []
     },
     "output_type": "execute_result"
    }
   ],
   "source": [
    "b[0, :3]"
   ]
  },
  {
   "cell_type": "markdown",
   "metadata": {
    "id": "kVqzr9-V9vZY"
   },
   "source": [
    "If we do not specify start, end or step we are going to refer to all indexes: \n",
    "\n",
    "\n"
   ]
  },
  {
   "cell_type": "code",
   "execution_count": null,
   "metadata": {
    "colab": {
     "base_uri": "https://localhost:8080/",
     "height": 68
    },
    "id": "MWGdGR-59__W",
    "outputId": "78bd8c30-a56f-4c42-ea55-87b321f7e3b8"
   },
   "outputs": [
    {
     "data": {
      "text/plain": [
       "array([[ 1,  2,  3],\n",
       "       [ 5,  6,  7],\n",
       "       [ 9, 10, 11]])"
      ]
     },
     "execution_count": 27,
     "metadata": {
      "tags": []
     },
     "output_type": "execute_result"
    }
   ],
   "source": [
    "b[:,  1:]"
   ]
  },
  {
   "cell_type": "code",
   "execution_count": null,
   "metadata": {
    "colab": {
     "base_uri": "https://localhost:8080/",
     "height": 68
    },
    "id": "-xJfHH_qpjrp",
    "outputId": "5f28f24f-aec4-46ec-c17f-0b78dc8c4f94"
   },
   "outputs": [
    {
     "data": {
      "text/plain": [
       "array([[ 0,  2],\n",
       "       [ 4,  6],\n",
       "       [ 8, 10]])"
      ]
     },
     "execution_count": 28,
     "metadata": {
      "tags": []
     },
     "output_type": "execute_result"
    }
   ],
   "source": [
    "b[:, ::2]"
   ]
  },
  {
   "cell_type": "code",
   "execution_count": null,
   "metadata": {
    "colab": {
     "base_uri": "https://localhost:8080/",
     "height": 55
    },
    "id": "GX3OQxMssGMw",
    "outputId": "17b9c624-49dd-4dfe-c223-31f831821e1e"
   },
   "outputs": [
    {
     "data": {
      "text/plain": [
       "array([ 3,  7, 11])"
      ]
     },
     "execution_count": 25,
     "metadata": {
      "tags": []
     },
     "output_type": "execute_result"
    }
   ],
   "source": [
    "b[:,-1]"
   ]
  },
  {
   "cell_type": "markdown",
   "metadata": {
    "id": "v7PvcJ7Xwp6v"
   },
   "source": [
    "# Addition\n",
    "**IMPORTANT**: Matrices must have the same shape.\n",
    "\n",
    "Addition of two matrices is a sum of their elements one at a time. \n",
    "\n",
    ">$ \\begin{pmatrix}\n",
    "  a_{0,0} & a_{0,1} & \\cdots & a_{0,n} \\\\\n",
    "  a_{1,1} & a_{1, 1} & \\cdots & a_{1,n} \\\\\n",
    "  \\vdots  & \\vdots  & \\ddots & \\vdots  \\\\\n",
    "  a_{m,0} & a_{m,0} & \\cdots & a_{m,n}\n",
    " \\end{pmatrix} +   \\begin{pmatrix} \n",
    " b_{0,0} & b_{0,1} & \\cdots & b_{0,n} \\\\\n",
    " b_{1,1} & b_{1, 1} & \\cdots & b_{1,n} \\\\\n",
    " \\vdots  & \\vdots  & \\ddots & \\vdots  \\\\\n",
    " b_{m,0} & b_{m,0} & \\cdots & b_{m,n} \n",
    " \\end{pmatrix} = \n",
    "  \\begin{pmatrix} \n",
    "  a_{0,0} + b_{0,0} & a_{0,1} + b_{0,1} & \\cdots & a_{0,n} + b_{0,n} \\\\\n",
    " a_{1,1} + b_{1,1} & a_{1, 1} + b_{1, 1} & \\cdots & a_{1,n} + b_{1,n} \\\\\n",
    " \\vdots  & \\vdots  & \\ddots & \\vdots  \\\\\n",
    " a_{m,0} + b_{m,0} & a_{m,0} + b_{m,0} & \\cdots & a_{m,n}  + b_{m,n} \n",
    "  \\end{pmatrix} $ \n",
    "\n",
    "**EXAMPLE:**\n",
    ">$\n",
    " \\begin{pmatrix}\n",
    "  1 & 19 & 40 & 20 \\\\\n",
    "  2 & 67 & 38 & 91\\\\\n",
    "  4  & 91  & 4 & 51 \n",
    " \\end{pmatrix} + \\begin{pmatrix}\n",
    "  10 & 1 & 4 & 5 \\\\\n",
    "  12 & 6 & 8 & 1\\\\\n",
    "  14  & 3 & 7 & 6 \n",
    " \\end{pmatrix} = \\begin{pmatrix}\n",
    "  1 + 10  & 19 + 1 & 40 + 4 & 20 + 5 \\\\\n",
    "  2 + 12 & 67 + 6 & 38 + 8 & 91 + 1 \\\\\n",
    "  4 + 14  & 91 + 3  & 4 +7 & 51  + 6\n",
    " \\end{pmatrix} = \\begin{pmatrix}\n",
    "  11  & 20 & 44 & 25 \\\\\n",
    "  14 & 73 & 46 & 92 \\\\\n",
    "  18  & 94  & 11 & 57\n",
    " \\end{pmatrix} $"
   ]
  },
  {
   "cell_type": "code",
   "execution_count": null,
   "metadata": {
    "id": "T9lV7Zw91X-t"
   },
   "outputs": [],
   "source": [
    "a = np.arange(0,12).reshape((3,4))\n",
    "b = np.arange(12,24).reshape((3,4))"
   ]
  },
  {
   "cell_type": "code",
   "execution_count": null,
   "metadata": {
    "colab": {
     "base_uri": "https://localhost:8080/",
     "height": 90
    },
    "id": "lyHPUc2n1hkO",
    "outputId": "894d8c13-ff50-4ed3-f786-6066a71a15c4"
   },
   "outputs": [
    {
     "data": {
      "text/plain": [
       "array([[ 0,  1,  2,  3],\n",
       "       [ 4,  5,  6,  7],\n",
       "       [ 8,  9, 10, 11]])"
      ]
     },
     "execution_count": 27,
     "metadata": {
      "tags": []
     },
     "output_type": "execute_result"
    }
   ],
   "source": [
    "a"
   ]
  },
  {
   "cell_type": "code",
   "execution_count": null,
   "metadata": {
    "colab": {
     "base_uri": "https://localhost:8080/",
     "height": 90
    },
    "id": "FqVhsBoe1niB",
    "outputId": "27247425-bc1f-4ccb-dd1b-4c2b0d2dc916"
   },
   "outputs": [
    {
     "data": {
      "text/plain": [
       "array([[12, 13, 14, 15],\n",
       "       [16, 17, 18, 19],\n",
       "       [20, 21, 22, 23]])"
      ]
     },
     "execution_count": 28,
     "metadata": {
      "tags": []
     },
     "output_type": "execute_result"
    }
   ],
   "source": [
    "b"
   ]
  },
  {
   "cell_type": "code",
   "execution_count": null,
   "metadata": {
    "colab": {
     "base_uri": "https://localhost:8080/",
     "height": 90
    },
    "id": "rE_wUkid2YUd",
    "outputId": "13572117-7595-45ff-d618-855696032c2f"
   },
   "outputs": [
    {
     "data": {
      "text/plain": [
       "array([[12, 14, 16, 18],\n",
       "       [20, 22, 24, 26],\n",
       "       [28, 30, 32, 34]])"
      ]
     },
     "execution_count": 29,
     "metadata": {
      "tags": []
     },
     "output_type": "execute_result"
    }
   ],
   "source": [
    "a + b"
   ]
  },
  {
   "cell_type": "code",
   "execution_count": null,
   "metadata": {
    "colab": {
     "base_uri": "https://localhost:8080/",
     "height": 90
    },
    "id": "MMg-Iem3xRX3",
    "outputId": "b9d9a059-e3fb-402a-8d75-f20a9bbf755f"
   },
   "outputs": [
    {
     "data": {
      "text/plain": [
       "array([[-12, -12, -12, -12],\n",
       "       [-12, -12, -12, -12],\n",
       "       [-12, -12, -12, -12]])"
      ]
     },
     "execution_count": 30,
     "metadata": {
      "tags": []
     },
     "output_type": "execute_result"
    }
   ],
   "source": [
    "a - b"
   ]
  },
  {
   "cell_type": "markdown",
   "metadata": {
    "id": "8I22ts_W-f0J"
   },
   "source": [
    "As it was mentioned, matrices must have the same shape to get added up. Hence, we can not sum up matrices of different shapes (and vectors).\n",
    "\n",
    "**IMPORTANT:** However, numpy allows some of fobidden operations in linear algebra. It is done for convinience.  **EXAMPLE**: Let's say that we have a feature matrix for the user Mike who visits different websites. Here, each number corresponds to the time when Mike starts to visit a website (it is time in hours):\n",
    ">|Session | Netflix| Google | Youtube| Spotify |\n",
    "|:-:|:-:|:----:|:-------:|:--------:|\n",
    "|0 | 10 | 19 | 4 | 2 |\n",
    "|1 | 12 | 6 | 3 | 9 |\n",
    "|2 | 4  | 9  | 4 | 15  |\n",
    "|3 | 1 | 14 | 5 | 3 |\n",
    "|4 | 3 | 5 | 8 | 11 |\n",
    "\n",
    "However, the websites are located in different timezones and we would like to change this time to the local time of Mike. It means that we should add to each column a number corresponding to the time shift.\n",
    "\n",
    ">|Session | Netflix| Google | Youtube| Spotify |\n",
    "|:-:|:-:|:----:|:-------:|:--------:|\n",
    "|0 | 10 + 1 | 19 + 2| 4 + 3 | 2 + 4|\n",
    "|1 | 12 + 1 | 6 + 2 | 3 + 3 | 9 + 4 |\n",
    "|2 | 4 + 1 | 9 + 2  | 4 + 3 | 15 + 4 |\n",
    "|3 | 1 + 1| 14 + 2 | 5 + 3 | 3 + 4 |\n",
    "|4 | 3 + 1| 5 + 2| 8 + 3 | 11 + 4 |\n"
   ]
  },
  {
   "cell_type": "markdown",
   "metadata": {
    "id": "4JFk_jHN-7MW"
   },
   "source": [
    "For such cases, numpy allows us to add up a matrix and a row vector if they have the same amount of columns."
   ]
  },
  {
   "cell_type": "code",
   "execution_count": null,
   "metadata": {
    "id": "3dA1iuEY9hXZ"
   },
   "outputs": [],
   "source": [
    "a = np.arange(0,12).reshape((3,4))\n",
    "b = np.arange(12,24).reshape((3,4))"
   ]
  },
  {
   "cell_type": "code",
   "execution_count": null,
   "metadata": {
    "colab": {
     "base_uri": "https://localhost:8080/",
     "height": 90
    },
    "id": "E_DsMPy2_b83",
    "outputId": "11c05289-5bb7-4236-b373-268f160a8a93"
   },
   "outputs": [
    {
     "data": {
      "text/plain": [
       "array([[ 0,  1,  2,  3],\n",
       "       [ 4,  5,  6,  7],\n",
       "       [ 8,  9, 10, 11]])"
      ]
     },
     "execution_count": 32,
     "metadata": {
      "tags": []
     },
     "output_type": "execute_result"
    }
   ],
   "source": [
    "a"
   ]
  },
  {
   "cell_type": "code",
   "execution_count": null,
   "metadata": {
    "colab": {
     "base_uri": "https://localhost:8080/",
     "height": 55
    },
    "id": "sjLNXLJB2aM1",
    "outputId": "f98f4611-e8fc-4dad-a85d-f3a182fb3c68"
   },
   "outputs": [
    {
     "data": {
      "text/plain": [
       "array([[0, 1, 2, 3]])"
      ]
     },
     "execution_count": 33,
     "metadata": {
      "tags": []
     },
     "output_type": "execute_result"
    }
   ],
   "source": [
    "a[[0]]"
   ]
  },
  {
   "cell_type": "code",
   "execution_count": null,
   "metadata": {
    "colab": {
     "base_uri": "https://localhost:8080/",
     "height": 90
    },
    "id": "MJlAfMR7_Vm8",
    "outputId": "ca19215a-ff29-4e42-d645-b4e97c0bd989"
   },
   "outputs": [
    {
     "data": {
      "text/plain": [
       "array([[12, 13, 14, 15],\n",
       "       [16, 17, 18, 19],\n",
       "       [20, 21, 22, 23]])"
      ]
     },
     "execution_count": 34,
     "metadata": {
      "tags": []
     },
     "output_type": "execute_result"
    }
   ],
   "source": [
    "b"
   ]
  },
  {
   "cell_type": "code",
   "execution_count": null,
   "metadata": {
    "colab": {
     "base_uri": "https://localhost:8080/",
     "height": 55
    },
    "id": "VKDTlLF9BEnJ",
    "outputId": "d600903b-a37c-4312-f8ca-5445fc309f4b"
   },
   "outputs": [
    {
     "data": {
      "text/plain": [
       "(3, 4)"
      ]
     },
     "execution_count": 35,
     "metadata": {
      "tags": []
     },
     "output_type": "execute_result"
    }
   ],
   "source": [
    " b.shape"
   ]
  },
  {
   "cell_type": "code",
   "execution_count": null,
   "metadata": {
    "colab": {
     "base_uri": "https://localhost:8080/",
     "height": 55
    },
    "id": "pM7XSNLx4Zdq",
    "outputId": "7a1a96d5-5b94-48db-f57c-68bb225d8c93"
   },
   "outputs": [
    {
     "data": {
      "text/plain": [
       "(1, 4)"
      ]
     },
     "execution_count": 36,
     "metadata": {
      "tags": []
     },
     "output_type": "execute_result"
    }
   ],
   "source": [
    "a[[0]].shape"
   ]
  },
  {
   "cell_type": "code",
   "execution_count": null,
   "metadata": {
    "colab": {
     "base_uri": "https://localhost:8080/",
     "height": 90
    },
    "id": "c1knzXd12qUi",
    "outputId": "dd417bf5-7115-4061-9eea-805a3daa412c"
   },
   "outputs": [
    {
     "data": {
      "text/plain": [
       "array([[12, 14, 16, 18],\n",
       "       [16, 18, 20, 22],\n",
       "       [20, 22, 24, 26]])"
      ]
     },
     "execution_count": 37,
     "metadata": {
      "tags": []
     },
     "output_type": "execute_result"
    }
   ],
   "source": [
    "a[[0]] + b"
   ]
  },
  {
   "cell_type": "markdown",
   "metadata": {
    "id": "WWfv5AQ6BSGx"
   },
   "source": [
    "We can also add up a matrix and a column vector if they have the same amount of rows."
   ]
  },
  {
   "cell_type": "code",
   "execution_count": null,
   "metadata": {
    "colab": {
     "base_uri": "https://localhost:8080/",
     "height": 90
    },
    "id": "FdXS2M2W3Cj1",
    "outputId": "b32bd211-d014-43e2-8c9c-af0d15991953"
   },
   "outputs": [
    {
     "data": {
      "text/plain": [
       "array([[12, 13, 14, 15],\n",
       "       [20, 21, 22, 23],\n",
       "       [28, 29, 30, 31]])"
      ]
     },
     "execution_count": 38,
     "metadata": {
      "tags": []
     },
     "output_type": "execute_result"
    }
   ],
   "source": [
    "a[:,[0]] + b"
   ]
  },
  {
   "cell_type": "markdown",
   "metadata": {
    "id": "eKuClZCdEE1W"
   },
   "source": [
    "# Scalar Multiplication\n",
    "Scalar (it is just a number) multiplication is multiplication of a matrix and a number:\n",
    "\n",
    ">$ n \\times \\begin{pmatrix}\n",
    "  a_{0,0} & a_{0,1} & \\cdots & a_{0,n} \\\\\n",
    "  a_{1,1} & a_{1, 1} & \\cdots & a_{1,n} \\\\\n",
    "  \\vdots  & \\vdots  & \\ddots & \\vdots  \\\\\n",
    "  a_{m,0} & a_{m,0} & \\cdots & a_{m,n}\n",
    " \\end{pmatrix} =   \\begin{pmatrix}  \n",
    " n \\times a_{0,0} & n \\times a_{0,1} & \\cdots & n \\times a_{0,n} \\\\\n",
    " n \\times a_{1,1} & n \\times a_{1, 1} & \\cdots & n \\times a_{1,n} \\\\\n",
    " \\vdots  & \\vdots  & \\ddots & \\vdots  \\\\\n",
    " n \\times a_{m,0} & n \\times a_{m,0} & \\cdots & n \\times a_{m,n}\n",
    "  \\end{pmatrix} $ \n",
    "\n",
    "**EXAMPLE**: \n",
    "\n",
    ">$ 2 \\times\n",
    " \\begin{pmatrix}\n",
    "  10 & 1 & 4 & 5 \\\\\n",
    "  12 & 6 & 8 & 1\\\\\n",
    "  14  & 3 & 7 & 6 \n",
    " \\end{pmatrix} = \\begin{pmatrix}\n",
    "  2 \\times 10 & 2 \\times 1 & 2 \\times 4 & 2 \\times 5 \\\\\n",
    "  2 \\times 12 & 2 \\times 6 & 2 \\times 8 & 2 \\times 1\\\\\n",
    "  2 \\times 14  & 2 \\times 3 & 2 \\times 7 & 2 \\times 6 \n",
    " \\end{pmatrix} = \\begin{pmatrix}\n",
    "  20  & 2 & 8 & 50 \\\\\n",
    "  24 & 12 & 16 & 2 \\\\\n",
    "  28  & 6  & 14 & 12\n",
    " \\end{pmatrix} $"
   ]
  },
  {
   "cell_type": "code",
   "execution_count": null,
   "metadata": {
    "id": "WwDgcHl_EXF-"
   },
   "outputs": [],
   "source": [
    "a = np.arange(0,12).reshape((3,4))"
   ]
  },
  {
   "cell_type": "code",
   "execution_count": null,
   "metadata": {
    "colab": {
     "base_uri": "https://localhost:8080/",
     "height": 90
    },
    "id": "HLqbhnXAEZKK",
    "outputId": "d093ca2a-76cc-4e8e-980b-95ee7eaba532"
   },
   "outputs": [
    {
     "data": {
      "text/plain": [
       "array([[ 0,  1,  2,  3],\n",
       "       [ 4,  5,  6,  7],\n",
       "       [ 8,  9, 10, 11]])"
      ]
     },
     "execution_count": 40,
     "metadata": {
      "tags": []
     },
     "output_type": "execute_result"
    }
   ],
   "source": [
    "a"
   ]
  },
  {
   "cell_type": "code",
   "execution_count": null,
   "metadata": {
    "colab": {
     "base_uri": "https://localhost:8080/",
     "height": 90
    },
    "id": "rUh1RfeiEZqK",
    "outputId": "1c734503-42d5-4dec-e4d5-5636ca600f79"
   },
   "outputs": [
    {
     "data": {
      "text/plain": [
       "array([[ 0,  2,  4,  6],\n",
       "       [ 8, 10, 12, 14],\n",
       "       [16, 18, 20, 22]])"
      ]
     },
     "execution_count": 41,
     "metadata": {
      "tags": []
     },
     "output_type": "execute_result"
    }
   ],
   "source": [
    "2*a"
   ]
  },
  {
   "cell_type": "code",
   "execution_count": null,
   "metadata": {
    "colab": {
     "base_uri": "https://localhost:8080/",
     "height": 68
    },
    "id": "eWTY73KZx7i7",
    "outputId": "ccb00dda-d47e-4c03-bc90-9d9c284ef4ca"
   },
   "outputs": [
    {
     "data": {
      "text/plain": [
       "array([[0. , 0.5, 1. , 1.5],\n",
       "       [2. , 2.5, 3. , 3.5],\n",
       "       [4. , 4.5, 5. , 5.5]])"
      ]
     },
     "execution_count": 46,
     "metadata": {
      "tags": []
     },
     "output_type": "execute_result"
    }
   ],
   "source": [
    "a/2"
   ]
  },
  {
   "cell_type": "markdown",
   "metadata": {
    "id": "3Gr1JDl4AGhs"
   },
   "source": [
    "**IMPORTANT:** Similarly to matrix addition, numpy allows us to conduct element-wise (scalar) multiplication of two matrices."
   ]
  },
  {
   "cell_type": "code",
   "execution_count": null,
   "metadata": {
    "colab": {
     "base_uri": "https://localhost:8080/",
     "height": 90
    },
    "id": "4nhyUJEXLIqr",
    "outputId": "c79761f2-1489-48cf-a643-5cf76480201c"
   },
   "outputs": [
    {
     "data": {
      "text/plain": [
       "array([[ 0,  1,  2,  3],\n",
       "       [ 4,  5,  6,  7],\n",
       "       [ 8,  9, 10, 11]])"
      ]
     },
     "execution_count": 42,
     "metadata": {
      "tags": []
     },
     "output_type": "execute_result"
    }
   ],
   "source": [
    "a = np.arange(0,12).reshape((3,4))\n",
    "b = np.arange(12, 24).reshape((3,4))\n",
    "a"
   ]
  },
  {
   "cell_type": "code",
   "execution_count": null,
   "metadata": {
    "colab": {
     "base_uri": "https://localhost:8080/",
     "height": 90
    },
    "id": "21ousJamLM27",
    "outputId": "789d0c53-de22-4a41-d56e-288343159253"
   },
   "outputs": [
    {
     "data": {
      "text/plain": [
       "array([[12, 13, 14, 15],\n",
       "       [16, 17, 18, 19],\n",
       "       [20, 21, 22, 23]])"
      ]
     },
     "execution_count": 43,
     "metadata": {
      "tags": []
     },
     "output_type": "execute_result"
    }
   ],
   "source": [
    "b"
   ]
  },
  {
   "cell_type": "code",
   "execution_count": null,
   "metadata": {
    "colab": {
     "base_uri": "https://localhost:8080/",
     "height": 90
    },
    "id": "Xn9YpKv5LTAU",
    "outputId": "1e8d8507-46b8-4f27-9da3-08740b752f4f"
   },
   "outputs": [
    {
     "data": {
      "text/plain": [
       "array([[  0,  13,  28,  45],\n",
       "       [ 64,  85, 108, 133],\n",
       "       [160, 189, 220, 253]])"
      ]
     },
     "execution_count": 44,
     "metadata": {
      "tags": []
     },
     "output_type": "execute_result"
    }
   ],
   "source": [
    "a*b"
   ]
  },
  {
   "cell_type": "code",
   "execution_count": null,
   "metadata": {
    "colab": {
     "base_uri": "https://localhost:8080/",
     "height": 90
    },
    "id": "AYWnxCRGLW83",
    "outputId": "d5637a7a-61b9-4e9b-89cf-6afe922e09c3"
   },
   "outputs": [
    {
     "data": {
      "text/plain": [
       "array([[0.        , 0.07692308, 0.14285714, 0.2       ],\n",
       "       [0.25      , 0.29411765, 0.33333333, 0.36842105],\n",
       "       [0.4       , 0.42857143, 0.45454545, 0.47826087]])"
      ]
     },
     "execution_count": 45,
     "metadata": {
      "tags": []
     },
     "output_type": "execute_result"
    }
   ],
   "source": [
    "a/b"
   ]
  },
  {
   "cell_type": "markdown",
   "metadata": {
    "id": "putWrf3jMM-N"
   },
   "source": [
    "We can also conduct element-wise (scalar) multiplication of a matrix and a row vector if they have the same amount of columns. It also works for column vectors."
   ]
  },
  {
   "cell_type": "code",
   "execution_count": null,
   "metadata": {
    "id": "YjBq54O0FQyb"
   },
   "outputs": [],
   "source": [
    "b = np.array([[1, 0, 2, 4]])"
   ]
  },
  {
   "cell_type": "code",
   "execution_count": null,
   "metadata": {
    "colab": {
     "base_uri": "https://localhost:8080/",
     "height": 55
    },
    "id": "tLPGZUQRGCak",
    "outputId": "5b141abf-097a-4229-ea47-7652c9e086f7"
   },
   "outputs": [
    {
     "data": {
      "text/plain": [
       "(1, 4)"
      ]
     },
     "execution_count": 47,
     "metadata": {
      "tags": []
     },
     "output_type": "execute_result"
    }
   ],
   "source": [
    "b.shape"
   ]
  },
  {
   "cell_type": "code",
   "execution_count": null,
   "metadata": {
    "colab": {
     "base_uri": "https://localhost:8080/",
     "height": 90
    },
    "id": "ESA1fZjICPky",
    "outputId": "8681a78d-ef97-4e5d-b5b4-81c61760e240"
   },
   "outputs": [
    {
     "data": {
      "text/plain": [
       "array([[ 0,  1,  2,  3],\n",
       "       [ 4,  5,  6,  7],\n",
       "       [ 8,  9, 10, 11]])"
      ]
     },
     "execution_count": 48,
     "metadata": {
      "tags": []
     },
     "output_type": "execute_result"
    }
   ],
   "source": [
    "a"
   ]
  },
  {
   "cell_type": "code",
   "execution_count": null,
   "metadata": {
    "colab": {
     "base_uri": "https://localhost:8080/",
     "height": 90
    },
    "id": "Q00aJn5fFkOE",
    "outputId": "99d43ef1-9316-4725-833f-f889bdafc6a6"
   },
   "outputs": [
    {
     "data": {
      "text/plain": [
       "array([[ 0,  0,  4, 12],\n",
       "       [ 4,  0, 12, 28],\n",
       "       [ 8,  0, 20, 44]])"
      ]
     },
     "execution_count": 49,
     "metadata": {
      "tags": []
     },
     "output_type": "execute_result"
    }
   ],
   "source": [
    "b*a"
   ]
  },
  {
   "cell_type": "code",
   "execution_count": null,
   "metadata": {
    "id": "0o-WHx0-FzTf"
   },
   "outputs": [],
   "source": [
    "b = np.array([[1], [0], [3]])"
   ]
  },
  {
   "cell_type": "code",
   "execution_count": null,
   "metadata": {
    "colab": {
     "base_uri": "https://localhost:8080/",
     "height": 34
    },
    "id": "y8NgvunVGPvf",
    "outputId": "0e95d75c-64b1-4748-f304-42de2b505ac3"
   },
   "outputs": [
    {
     "data": {
      "text/plain": [
       "(3, 1)"
      ]
     },
     "execution_count": 55,
     "metadata": {
      "tags": []
     },
     "output_type": "execute_result"
    }
   ],
   "source": [
    "b.shape"
   ]
  },
  {
   "cell_type": "code",
   "execution_count": null,
   "metadata": {
    "colab": {
     "base_uri": "https://localhost:8080/",
     "height": 68
    },
    "id": "fNQtHqY6F2Qp",
    "outputId": "6ed9cf08-4265-4e78-ec73-521551b4de50"
   },
   "outputs": [
    {
     "data": {
      "text/plain": [
       "array([[ 0,  1,  2,  3],\n",
       "       [ 0,  0,  0,  0],\n",
       "       [24, 27, 30, 33]])"
      ]
     },
     "execution_count": 56,
     "metadata": {
      "tags": []
     },
     "output_type": "execute_result"
    }
   ],
   "source": [
    "a*b"
   ]
  },
  {
   "cell_type": "markdown",
   "metadata": {
    "id": "06o6sCe-Gq3T"
   },
   "source": [
    "# Dot Product (or Matrix Multiplication) of Two Vectors\n",
    "**IMPORTANT**: Vectors must have the same size (or dimension).\n",
    "\n",
    "**IMPORTANT**: We can only multiply a row vector by a column vector.\n",
    "\n",
    "$\\begin{pmatrix}\n",
    "  a_{0,0} & a_{0,1} & \\cdots & a_{0,n} \\\\\n",
    " \\end{pmatrix} \\times \\begin{pmatrix}\n",
    "  b_{0,0}  \\\\\n",
    "  b_{1,0}  \\\\\n",
    "  \\vdots    \\\\\n",
    "  b_{n,0}\n",
    " \\end{pmatrix} = \\sum_{i=0}^n \\ a_{0,i} \\times b_{i,0}$\n",
    "\n",
    "**EXAMPLE**:\n",
    ">$\\begin{pmatrix}\n",
    "  1 & 2 & 3 & 4 \\\\\n",
    " \\end{pmatrix} \\times\n",
    " \\begin{pmatrix}\n",
    "  5 \\\\ 6 \\\\ 7 \\\\8 \n",
    "  \\end{pmatrix} =  \\begin{pmatrix}\n",
    "  1 \\times 5  + 2 \\times 6 +  3 \\times 7 +  4 \\times 8 \\\\\n",
    " \\end{pmatrix} =  \\begin{pmatrix}\n",
    "  5  + 12 +  21 +  32 \\\\\n",
    " \\end{pmatrix} = 70 $\n",
    "\n",
    "**EXAMPLE**: Let's say that we have a real estate agency that rents out apartments and we would like to rent out an unfurnished apartment with a size of 50 $m^2$, located in the city center, with a garden :\n",
    ">$Price(size, center[0 \\, or \\,1], furniture[0 \\, or \\,1]], garden[0 \\, or \\,1])= 10 \\times size + 50 \\times center + 25 \\times furniture + 40 \\times garden = \\begin{pmatrix}\n",
    "  size &  center[yes?] & furniture[yes?] & garden[yes?] \\\\\n",
    " \\end{pmatrix} \\times\n",
    " \\begin{pmatrix}\n",
    "  10 \\\\ 50 \\\\ 25 \\\\40 \n",
    "  \\end{pmatrix} $ \n",
    "\n",
    "\n",
    ">$\\begin{pmatrix}\n",
    "  50 & 1 & 0 & 1 \\\\\n",
    " \\end{pmatrix} \\times\n",
    " \\begin{pmatrix}\n",
    "  10 \\\\ 50 \\\\ 25 \\\\40 \n",
    "  \\end{pmatrix} =  \\begin{pmatrix}\n",
    "  50 \\times 10 + 1 \\times  50 + 0 \\times 25 + 1 \\times  40\\\\\n",
    " \\end{pmatrix} = 590 $\n",
    "\n",
    "\n"
   ]
  },
  {
   "cell_type": "code",
   "execution_count": null,
   "metadata": {
    "id": "EM5Ub_X16Zai"
   },
   "outputs": [],
   "source": [
    "a = np.array([[50, 1, 0 , 1]])\n",
    "b = np.array([[10], [50], [25], [40]])"
   ]
  },
  {
   "cell_type": "code",
   "execution_count": null,
   "metadata": {
    "colab": {
     "base_uri": "https://localhost:8080/",
     "height": 55
    },
    "id": "9lx21jc76f2B",
    "outputId": "c6d7de59-0d86-49d8-fe1f-2927eb40053a"
   },
   "outputs": [
    {
     "data": {
      "text/plain": [
       "(1, 4)"
      ]
     },
     "execution_count": 55,
     "metadata": {
      "tags": []
     },
     "output_type": "execute_result"
    }
   ],
   "source": [
    "a.shape"
   ]
  },
  {
   "cell_type": "code",
   "execution_count": null,
   "metadata": {
    "colab": {
     "base_uri": "https://localhost:8080/",
     "height": 55
    },
    "id": "XacrRc006m4O",
    "outputId": "87a3a782-c616-44b4-87aa-ae7f67d8c022"
   },
   "outputs": [
    {
     "data": {
      "text/plain": [
       "(4, 1)"
      ]
     },
     "execution_count": 56,
     "metadata": {
      "tags": []
     },
     "output_type": "execute_result"
    }
   ],
   "source": [
    "b.shape"
   ]
  },
  {
   "cell_type": "code",
   "execution_count": null,
   "metadata": {
    "colab": {
     "base_uri": "https://localhost:8080/",
     "height": 55
    },
    "id": "6wEcio2q8VG2",
    "outputId": "7623be80-c222-4dca-8123-32fa18989474"
   },
   "outputs": [
    {
     "data": {
      "text/plain": [
       "array([[590]])"
      ]
     },
     "execution_count": 57,
     "metadata": {
      "tags": []
     },
     "output_type": "execute_result"
    }
   ],
   "source": [
    "np.dot(a, b)"
   ]
  },
  {
   "cell_type": "markdown",
   "metadata": {
    "id": "RG_JzRzO9yVx"
   },
   "source": [
    "However, numpy allows us to avoid rotation of the first vector: "
   ]
  },
  {
   "cell_type": "code",
   "execution_count": null,
   "metadata": {
    "id": "z75QceiIcHxl"
   },
   "outputs": [],
   "source": [
    "a = np.array([50, 1, 0 , 1])\n",
    "b = np.array([10, 50, 25, 40])"
   ]
  },
  {
   "cell_type": "code",
   "execution_count": null,
   "metadata": {
    "colab": {
     "base_uri": "https://localhost:8080/",
     "height": 55
    },
    "id": "_ujbQjFR9xfl",
    "outputId": "b41910c0-df84-4567-8eda-2a649f90f003"
   },
   "outputs": [
    {
     "data": {
      "text/plain": [
       "(4,)"
      ]
     },
     "execution_count": 59,
     "metadata": {
      "tags": []
     },
     "output_type": "execute_result"
    }
   ],
   "source": [
    "a.shape"
   ]
  },
  {
   "cell_type": "code",
   "execution_count": null,
   "metadata": {
    "colab": {
     "base_uri": "https://localhost:8080/",
     "height": 34
    },
    "id": "a77T7F09-FVW",
    "outputId": "d0464af9-bd8e-49d1-ff6d-7e2d94c89aa9"
   },
   "outputs": [
    {
     "data": {
      "text/plain": [
       "590"
      ]
     },
     "execution_count": 63,
     "metadata": {
      "tags": []
     },
     "output_type": "execute_result"
    }
   ],
   "source": [
    "np.dot(a, b)"
   ]
  },
  {
   "cell_type": "markdown",
   "metadata": {
    "id": "LHRS5qW5AQQ3"
   },
   "source": [
    "# Dot Product (or Matrix Multiplication) of Matrix and Vector\n",
    "\n",
    "Let's say that we have two apartments to rent out :\n",
    "\n",
    ">$\\begin{pmatrix}\n",
    "  50 & 1 & 0 & 1 \\\\\n",
    "  100 & 1 & 1 & 1 \n",
    " \\end{pmatrix} \\times\n",
    " \\begin{pmatrix}\n",
    "  10 \\\\ 50 \\\\ 25 \\\\40 \n",
    "  \\end{pmatrix} =  \\begin{pmatrix}\n",
    "  50 \\times 10 + 1 \\times  50 + 0 \\times 25 + 1 \\times  40\\\\\n",
    "  100 \\times 10 + 1 \\times  50 + 1 \\times 25 + 1 \\times  40\n",
    " \\end{pmatrix} = \\begin{pmatrix}590 \\\\ 1115 \\end{pmatrix} $\n",
    "\n",
    "\n"
   ]
  },
  {
   "cell_type": "code",
   "execution_count": null,
   "metadata": {
    "id": "tNTx4c9u_1rA"
   },
   "outputs": [],
   "source": [
    "a = np.array([[50, 1, 0 , 1], [100, 1, 1 , 1]])\n",
    "b = np.array([[10], [50], [25], [40]])"
   ]
  },
  {
   "cell_type": "code",
   "execution_count": null,
   "metadata": {
    "colab": {
     "base_uri": "https://localhost:8080/",
     "height": 55
    },
    "id": "ICfEuO2RAYlX",
    "outputId": "2b5a81d1-70c9-4aa4-e7ef-6cf32c39db37"
   },
   "outputs": [
    {
     "data": {
      "text/plain": [
       "(2, 4)"
      ]
     },
     "execution_count": 61,
     "metadata": {
      "tags": []
     },
     "output_type": "execute_result"
    }
   ],
   "source": [
    "a.shape"
   ]
  },
  {
   "cell_type": "code",
   "execution_count": null,
   "metadata": {
    "colab": {
     "base_uri": "https://localhost:8080/",
     "height": 55
    },
    "id": "7z7AQJTH_7oa",
    "outputId": "6769008e-8d5c-4d29-d587-4f34e778ef86"
   },
   "outputs": [
    {
     "data": {
      "text/plain": [
       "(4, 1)"
      ]
     },
     "execution_count": 62,
     "metadata": {
      "tags": []
     },
     "output_type": "execute_result"
    }
   ],
   "source": [
    "b.shape"
   ]
  },
  {
   "cell_type": "code",
   "execution_count": null,
   "metadata": {
    "colab": {
     "base_uri": "https://localhost:8080/",
     "height": 72
    },
    "id": "wCmP9Y6gAapa",
    "outputId": "fffa8d99-bbf7-49b1-9193-e2242f2ee1a1"
   },
   "outputs": [
    {
     "data": {
      "text/plain": [
       "array([[ 590],\n",
       "       [1115]])"
      ]
     },
     "execution_count": 63,
     "metadata": {
      "tags": []
     },
     "output_type": "execute_result"
    }
   ],
   "source": [
    "np.dot(a, b)"
   ]
  },
  {
   "cell_type": "markdown",
   "metadata": {
    "id": "fW5CAOL_HJEZ"
   },
   "source": [
    "# Matrix-Matrix Multiplication (Dot Product)\n",
    "Let's say that we have two real estate agencies:\n",
    "\n",
    ">$\\begin{pmatrix}\n",
    "  50 & 1 & 0 & 1 \\\\\n",
    "  100 & 1 & 1 & 1 \n",
    " \\end{pmatrix} \\times\n",
    " \\begin{pmatrix}\n",
    "  10 & 11 \\\\ 50 & 20 \\\\ 25 & 30 \\\\40 & 35\n",
    "  \\end{pmatrix} =  \\begin{pmatrix}\n",
    "  50 \\times 10 + 1 \\times  50 + 0 \\times 25 + 1 \\times  40 & 50 \\times 11 + 1 \\times  20 + 0 \\times 30 + 1 \\times  35\\\\\n",
    "  100 \\times 10 + 1 \\times  50 + 1 \\times 25 + 1 \\times  40 & 100 \\times 11 + 1 \\times  20 + 1 \\times 30 + 1 \\times 35\n",
    " \\end{pmatrix} = \\begin{pmatrix} 590 & 605  \\\\ 1115 & 1185 \\end{pmatrix} $\n",
    "\n",
    "**General rule**:\n",
    ">$ \\begin{pmatrix}\n",
    "  a_{0,0} & a_{0,1} & \\cdots & a_{0,n} \\\\\n",
    "  a_{1,1} & a_{1, 1} & \\cdots & a_{1,n} \\\\\n",
    "  \\vdots  & \\vdots  & \\ddots & \\vdots  \\\\\n",
    "  a_{m,0} & a_{m,0} & \\cdots & a_{m,n}\n",
    " \\end{pmatrix} \\times   \\begin{pmatrix} \n",
    " b_{0,0} & b_{0,1} & \\cdots & b_{0,k} \\\\\n",
    " b_{1,1} & b_{1, 1} & \\cdots & b_{1,k} \\\\\n",
    " \\vdots  & \\vdots  & \\ddots & \\vdots  \\\\\n",
    " b_{n,0} & b_{n,0} & \\cdots & b_{n,k} \n",
    " \\end{pmatrix} = \\begin{pmatrix} \n",
    "   \\sum_{i=0}^n \\ a_{0,i} \\times b_{i,0} & \\sum_{i=0}^n \\ a_{0,i} \\times b_{i,1} & \\cdots & \\sum_{i=0}^n \\ a_{0,i} \\times b_{i,k} \\\\\n",
    " \\sum_{i=0}^n \\ a_{1,i} \\times b_{i,0} & \\sum_{i=0}^n \\ a_{1,i} \\times b_{i,1} & \\cdots & \\sum_{i=0}^n \\ a_{1,i} \\times b_{i,k} \\\\\n",
    " \\vdots  & \\vdots  & \\ddots & \\vdots  \\\\\n",
    "  \\sum_{i=0}^n \\ a_{m,i} \\times b_{i,0} & \\sum_{i=0}^n \\ a_{m,i} \\times b_{i,1} & \\cdots & \\sum_{i=0}^n \\ a_{m,i} \\times b_{i,k}\n",
    "  \\end{pmatrix}$ \n",
    "\n",
    "**IMPORTANT**: The first matrix must have a number of columns to a number of rows in the second matrix.\n",
    "\n",
    "Shape(A) = (m , n)\n",
    "\n",
    "Shape(B) = (n , k) \n",
    "\n",
    "Shape(AB) = (m, k)\n",
    "\n",
    "\n"
   ]
  },
  {
   "cell_type": "code",
   "execution_count": null,
   "metadata": {
    "id": "_AlJ7dea6X8L"
   },
   "outputs": [],
   "source": [
    "a = np.array([[50, 1, 0 , 1], [100, 1, 1 , 1]])\n",
    "b = np.array([[10 , 11], [50, 20], [25, 30], [40, 35]])"
   ]
  },
  {
   "cell_type": "code",
   "execution_count": null,
   "metadata": {
    "colab": {
     "base_uri": "https://localhost:8080/",
     "height": 55
    },
    "id": "jVl3j91TC0qi",
    "outputId": "8818f6be-0fc9-463b-d8f0-0045916f48d6"
   },
   "outputs": [
    {
     "data": {
      "text/plain": [
       "(2, 4)"
      ]
     },
     "execution_count": 65,
     "metadata": {
      "tags": []
     },
     "output_type": "execute_result"
    }
   ],
   "source": [
    "a.shape"
   ]
  },
  {
   "cell_type": "code",
   "execution_count": null,
   "metadata": {
    "colab": {
     "base_uri": "https://localhost:8080/",
     "height": 55
    },
    "id": "3tzOlELsC18P",
    "outputId": "1936b508-7420-40de-b2e8-645ac86516f1"
   },
   "outputs": [
    {
     "data": {
      "text/plain": [
       "(4, 2)"
      ]
     },
     "execution_count": 66,
     "metadata": {
      "tags": []
     },
     "output_type": "execute_result"
    }
   ],
   "source": [
    "b.shape"
   ]
  },
  {
   "cell_type": "code",
   "execution_count": null,
   "metadata": {
    "colab": {
     "base_uri": "https://localhost:8080/",
     "height": 51
    },
    "id": "Y-8M48QKC5GE",
    "outputId": "e44e36a6-5e9a-4df1-808d-83e8ee077b52"
   },
   "outputs": [
    {
     "data": {
      "text/plain": [
       "array([[ 590,  605],\n",
       "       [1115, 1185]])"
      ]
     },
     "execution_count": 71,
     "metadata": {
      "tags": []
     },
     "output_type": "execute_result"
    }
   ],
   "source": [
    "np.dot(a, b)"
   ]
  },
  {
   "cell_type": "markdown",
   "metadata": {
    "id": "ZceYZbvXIMAV"
   },
   "source": [
    "# Properties of Matrix Multiplication"
   ]
  },
  {
   "cell_type": "markdown",
   "metadata": {
    "id": "Z0lplC5MIgrT"
   },
   "source": [
    "- Matrix multiplication is not commutative:\n",
    "$A\\times B \\neq B \\times A$\n",
    "- Matrix multiplication is assosiative: $(A\\times B) \\times C = A\\times (B \\times C)$\n",
    "- Identity Matrix ($n \\times n $ matrix with diagonal elements consisting of ones): $I\\times B = B$\n",
    "- Inverse Matrix ($n \\times n $ matrix): $B\\times B^{-1} = I$\n",
    "\n",
    "\n"
   ]
  },
  {
   "cell_type": "code",
   "execution_count": null,
   "metadata": {
    "id": "Bpi5iYDuIcQH"
   },
   "outputs": [],
   "source": [
    "a = np.arange(0, 9).reshape((3, 3))\n",
    "b = np.arange(9, 18).reshape((3, 3))\n",
    "c = np.arange(18, 27).reshape((3, 3))"
   ]
  },
  {
   "cell_type": "code",
   "execution_count": null,
   "metadata": {
    "colab": {
     "base_uri": "https://localhost:8080/",
     "height": 90
    },
    "id": "B7bK42zDJKub",
    "outputId": "9eeed9ee-8a5e-4a58-c6f3-4bad3244b968"
   },
   "outputs": [
    {
     "data": {
      "text/plain": [
       "array([[0, 1, 2],\n",
       "       [3, 4, 5],\n",
       "       [6, 7, 8]])"
      ]
     },
     "execution_count": 68,
     "metadata": {
      "tags": []
     },
     "output_type": "execute_result"
    }
   ],
   "source": [
    "a"
   ]
  },
  {
   "cell_type": "code",
   "execution_count": null,
   "metadata": {
    "colab": {
     "base_uri": "https://localhost:8080/",
     "height": 90
    },
    "id": "ILk4jFLPJN3H",
    "outputId": "fbda94d3-28e0-4e44-8d32-024b05de9cfa"
   },
   "outputs": [
    {
     "data": {
      "text/plain": [
       "array([[ 9, 10, 11],\n",
       "       [12, 13, 14],\n",
       "       [15, 16, 17]])"
      ]
     },
     "execution_count": 69,
     "metadata": {
      "tags": []
     },
     "output_type": "execute_result"
    }
   ],
   "source": [
    "b"
   ]
  },
  {
   "cell_type": "code",
   "execution_count": null,
   "metadata": {
    "colab": {
     "base_uri": "https://localhost:8080/",
     "height": 90
    },
    "id": "u6hPZ5LXgbCR",
    "outputId": "0851f11d-b99b-46ba-b157-0576b002101d"
   },
   "outputs": [
    {
     "data": {
      "text/plain": [
       "array([[18, 19, 20],\n",
       "       [21, 22, 23],\n",
       "       [24, 25, 26]])"
      ]
     },
     "execution_count": 70,
     "metadata": {
      "tags": []
     },
     "output_type": "execute_result"
    }
   ],
   "source": [
    "c"
   ]
  },
  {
   "cell_type": "markdown",
   "metadata": {
    "id": "CCZ8kTlQgKTx"
   },
   "source": [
    "Matrix multiplication is not commutative:\n",
    "$A\\times B \\neq B \\times A$:"
   ]
  },
  {
   "cell_type": "code",
   "execution_count": null,
   "metadata": {
    "colab": {
     "base_uri": "https://localhost:8080/",
     "height": 68
    },
    "id": "hKLu2u01JcIJ",
    "outputId": "9644417e-5e45-4d32-bc32-67f3dce12e1f"
   },
   "outputs": [
    {
     "data": {
      "text/plain": [
       "array([[ 42,  45,  48],\n",
       "       [150, 162, 174],\n",
       "       [258, 279, 300]])"
      ]
     },
     "execution_count": 76,
     "metadata": {
      "tags": []
     },
     "output_type": "execute_result"
    }
   ],
   "source": [
    "np.dot(a, b)"
   ]
  },
  {
   "cell_type": "code",
   "execution_count": null,
   "metadata": {
    "colab": {
     "base_uri": "https://localhost:8080/",
     "height": 68
    },
    "id": "X5DLYeG6JlRL",
    "outputId": "b47aed2c-0fcb-41fc-a7ba-027f0e1ce4e3"
   },
   "outputs": [
    {
     "data": {
      "text/plain": [
       "array([[ 96, 126, 156],\n",
       "       [123, 162, 201],\n",
       "       [150, 198, 246]])"
      ]
     },
     "execution_count": 77,
     "metadata": {
      "tags": []
     },
     "output_type": "execute_result"
    }
   ],
   "source": [
    "np.dot(b, a)"
   ]
  },
  {
   "cell_type": "markdown",
   "metadata": {
    "id": "bOHvKNC0KHms"
   },
   "source": [
    "Matrix multiplication is assosiative:\n",
    "$(A\\times B) \\times C = A\\times (B \\times C)$\n"
   ]
  },
  {
   "cell_type": "code",
   "execution_count": null,
   "metadata": {
    "id": "9RVAybZGKGya"
   },
   "outputs": [],
   "source": [
    "ab = np.dot(a, b)\n",
    "bc = np.dot(b, c)"
   ]
  },
  {
   "cell_type": "code",
   "execution_count": null,
   "metadata": {
    "colab": {
     "base_uri": "https://localhost:8080/",
     "height": 90
    },
    "id": "vcNgG-0bgOqt",
    "outputId": "3d92f988-7aa9-453b-c2bc-a3e2d8c039dd"
   },
   "outputs": [
    {
     "data": {
      "text/plain": [
       "array([[ 2853,  2988,  3123],\n",
       "       [10278, 10764, 11250],\n",
       "       [17703, 18540, 19377]])"
      ]
     },
     "execution_count": 72,
     "metadata": {
      "tags": []
     },
     "output_type": "execute_result"
    }
   ],
   "source": [
    "np.dot(ab, c)"
   ]
  },
  {
   "cell_type": "code",
   "execution_count": null,
   "metadata": {
    "colab": {
     "base_uri": "https://localhost:8080/",
     "height": 90
    },
    "id": "yJg7y38WgQCQ",
    "outputId": "3cda3a6e-4e4a-41cb-b430-9cc97e488c38"
   },
   "outputs": [
    {
     "data": {
      "text/plain": [
       "array([[ 2853,  2988,  3123],\n",
       "       [10278, 10764, 11250],\n",
       "       [17703, 18540, 19377]])"
      ]
     },
     "execution_count": 73,
     "metadata": {
      "tags": []
     },
     "output_type": "execute_result"
    }
   ],
   "source": [
    "np.dot(a, bc)"
   ]
  },
  {
   "cell_type": "markdown",
   "metadata": {
    "id": "XYxQUoUthueS"
   },
   "source": [
    "Identity Matrix ($n \\times n $ matrix with diagonal elements consisting of ones): $I\\times B = B$"
   ]
  },
  {
   "cell_type": "code",
   "execution_count": null,
   "metadata": {
    "colab": {
     "base_uri": "https://localhost:8080/",
     "height": 90
    },
    "id": "ZZxq1Ws_hsw7",
    "outputId": "bb455d59-b97d-47bd-8f0b-e833629d4091"
   },
   "outputs": [
    {
     "data": {
      "text/plain": [
       "array([[1., 0., 0.],\n",
       "       [0., 1., 0.],\n",
       "       [0., 0., 1.]])"
      ]
     },
     "execution_count": 74,
     "metadata": {
      "tags": []
     },
     "output_type": "execute_result"
    }
   ],
   "source": [
    " np.identity(3)"
   ]
  },
  {
   "cell_type": "code",
   "execution_count": null,
   "metadata": {
    "colab": {
     "base_uri": "https://localhost:8080/",
     "height": 90
    },
    "id": "Id3XH9pTh3m9",
    "outputId": "d8b6b534-9169-434e-ec29-4c5dc56dd227"
   },
   "outputs": [
    {
     "data": {
      "text/plain": [
       "array([[0., 1., 2.],\n",
       "       [3., 4., 5.],\n",
       "       [6., 7., 8.]])"
      ]
     },
     "execution_count": 75,
     "metadata": {
      "tags": []
     },
     "output_type": "execute_result"
    }
   ],
   "source": [
    "np.dot(np.identity(3), a)"
   ]
  },
  {
   "cell_type": "code",
   "execution_count": null,
   "metadata": {
    "colab": {
     "base_uri": "https://localhost:8080/",
     "height": 90
    },
    "id": "QxDMlzUVcB7O",
    "outputId": "eea8247d-60fa-4db0-dc23-d94a355603d8"
   },
   "outputs": [
    {
     "data": {
      "text/plain": [
       "array([[0, 1, 2],\n",
       "       [3, 4, 5],\n",
       "       [6, 7, 8]])"
      ]
     },
     "execution_count": 76,
     "metadata": {
      "tags": []
     },
     "output_type": "execute_result"
    }
   ],
   "source": [
    "a"
   ]
  },
  {
   "cell_type": "markdown",
   "metadata": {
    "id": "fp4DMRUqKB5y"
   },
   "source": [
    "Inverse Matrix ($n \\times n $ matrix): $B\\times B^{-1} = I$"
   ]
  },
  {
   "cell_type": "code",
   "execution_count": null,
   "metadata": {
    "colab": {
     "base_uri": "https://localhost:8080/",
     "height": 34
    },
    "id": "inndNTR0KAye",
    "outputId": "aaa99ed6-9970-48cc-983c-d875d88e1c9c"
   },
   "outputs": [
    {
     "data": {
      "text/plain": [
       "1.0"
      ]
     },
     "execution_count": 53,
     "metadata": {
      "tags": []
     },
     "output_type": "execute_result"
    }
   ],
   "source": [
    "6*(1/6)"
   ]
  },
  {
   "cell_type": "code",
   "execution_count": null,
   "metadata": {
    "colab": {
     "base_uri": "https://localhost:8080/",
     "height": 85
    },
    "id": "CMDrDkk4KQEp",
    "outputId": "3188e5dc-bae8-46c3-e1da-6bab1167694c"
   },
   "outputs": [
    {
     "data": {
      "text/plain": [
       "array([[0.53806154, 0.65666966, 0.69788143, 0.30014312],\n",
       "       [0.94292118, 0.91355476, 0.05574779, 0.722668  ],\n",
       "       [0.7559682 , 0.5231321 , 0.43138649, 0.02668356],\n",
       "       [0.4593889 , 0.90934971, 0.05047885, 0.72649586]])"
      ]
     },
     "execution_count": 49,
     "metadata": {
      "tags": []
     },
     "output_type": "execute_result"
    }
   ],
   "source": [
    "a_random = np.random.random(size=(4,4))\n",
    "a_random"
   ]
  },
  {
   "cell_type": "code",
   "execution_count": null,
   "metadata": {
    "colab": {
     "base_uri": "https://localhost:8080/",
     "height": 85
    },
    "id": "uPATGgVKKXnu",
    "outputId": "8f911210-769d-4067-a403-65374b2fde30"
   },
   "outputs": [
    {
     "data": {
      "text/plain": [
       "array([[ 0.01159134,  2.11881894, -0.04557308, -2.11076999],\n",
       "       [-2.05622892, -3.52475753,  3.2864364 ,  4.23498435],\n",
       "       [ 2.32446924,  0.3729153 , -1.34050823, -1.28204152],\n",
       "       [ 2.40492726,  3.04619904, -3.9916496 , -2.50063572]])"
      ]
     },
     "execution_count": 50,
     "metadata": {
      "tags": []
     },
     "output_type": "execute_result"
    }
   ],
   "source": [
    "a_random_inv = np.linalg.inv(a_random)\n",
    "a_random_inv"
   ]
  },
  {
   "cell_type": "code",
   "execution_count": null,
   "metadata": {
    "colab": {
     "base_uri": "https://localhost:8080/",
     "height": 153
    },
    "id": "pOLgyq48KeCp",
    "outputId": "05319761-0ae9-41a2-c8ac-7c56072e01fd"
   },
   "outputs": [
    {
     "data": {
      "text/plain": [
       "array([[ 1.00000000e+00,  2.41288149e-16, -1.71850876e-16,\n",
       "         1.57604874e-16],\n",
       "       [-1.02814822e-16,  1.00000000e+00,  3.58451142e-17,\n",
       "        -3.13161619e-17],\n",
       "       [-3.82956515e-16, -1.10597861e-16,  1.00000000e+00,\n",
       "        -5.15685968e-17],\n",
       "       [ 1.93443913e-16, -1.53176715e-16, -2.83446459e-16,\n",
       "         1.00000000e+00]])"
      ]
     },
     "execution_count": 51,
     "metadata": {
      "tags": []
     },
     "output_type": "execute_result"
    }
   ],
   "source": [
    "np.dot(a_random, a_random_inv)"
   ]
  },
  {
   "cell_type": "code",
   "execution_count": null,
   "metadata": {
    "colab": {
     "base_uri": "https://localhost:8080/",
     "height": 85
    },
    "id": "LuQxH6wYKic1",
    "outputId": "43a1d9d9-5362-4c19-fd40-8dc331be22ef"
   },
   "outputs": [
    {
     "data": {
      "text/plain": [
       "array([[1, 0, 0, 0],\n",
       "       [0, 1, 0, 0],\n",
       "       [0, 0, 1, 0],\n",
       "       [0, 0, 0, 1]])"
      ]
     },
     "execution_count": 52,
     "metadata": {
      "tags": []
     },
     "output_type": "execute_result"
    }
   ],
   "source": [
    "np.around(np.dot(a_random, a_random_inv)).astype(int)"
   ]
  },
  {
   "cell_type": "markdown",
   "metadata": {
    "id": "ftjFQO_IvifU"
   },
   "source": [
    "# Useful operations"
   ]
  },
  {
   "cell_type": "code",
   "execution_count": null,
   "metadata": {
    "id": "dM5O3qzPaf3o"
   },
   "outputs": [],
   "source": [
    "a = np.arange(0, 9).reshape((3, 3))\n",
    "b = np.arange(9, 18).reshape((3, 3))"
   ]
  },
  {
   "cell_type": "code",
   "execution_count": null,
   "metadata": {
    "colab": {
     "base_uri": "https://localhost:8080/",
     "height": 90
    },
    "id": "hy_Gu1Zja9NA",
    "outputId": "eea25f54-d84b-4746-e920-74bd4febf6a5"
   },
   "outputs": [
    {
     "data": {
      "text/plain": [
       "array([[0, 1, 2],\n",
       "       [3, 4, 5],\n",
       "       [6, 7, 8]])"
      ]
     },
     "execution_count": 78,
     "metadata": {
      "tags": []
     },
     "output_type": "execute_result"
    }
   ],
   "source": [
    "a"
   ]
  },
  {
   "cell_type": "code",
   "execution_count": null,
   "metadata": {
    "colab": {
     "base_uri": "https://localhost:8080/",
     "height": 90
    },
    "id": "X_el580oa-UA",
    "outputId": "582a9e86-5d7d-47c3-a224-6ca03687545e"
   },
   "outputs": [
    {
     "data": {
      "text/plain": [
       "array([[ 9, 10, 11],\n",
       "       [12, 13, 14],\n",
       "       [15, 16, 17]])"
      ]
     },
     "execution_count": 79,
     "metadata": {
      "tags": []
     },
     "output_type": "execute_result"
    }
   ],
   "source": [
    "b"
   ]
  },
  {
   "cell_type": "markdown",
   "metadata": {
    "id": "LC_Jruged9Qg"
   },
   "source": [
    "Sum of all elements in a matrix:"
   ]
  },
  {
   "cell_type": "code",
   "execution_count": null,
   "metadata": {
    "colab": {
     "base_uri": "https://localhost:8080/",
     "height": 55
    },
    "id": "tXIRhj7NeJzK",
    "outputId": "c0603e59-7269-4f9c-825b-bf31d0ebfdf3"
   },
   "outputs": [
    {
     "data": {
      "text/plain": [
       "36"
      ]
     },
     "execution_count": 80,
     "metadata": {
      "tags": []
     },
     "output_type": "execute_result"
    }
   ],
   "source": [
    "np.sum(a)"
   ]
  },
  {
   "cell_type": "markdown",
   "metadata": {
    "id": "SsmIyaxCeTb5"
   },
   "source": [
    "Sum of all elements in each column\n",
    "\n"
   ]
  },
  {
   "cell_type": "code",
   "execution_count": null,
   "metadata": {
    "colab": {
     "base_uri": "https://localhost:8080/",
     "height": 55
    },
    "id": "eoAJVpwfeYxY",
    "outputId": "9a709d08-efe3-4f02-8f28-5970b405f1b4"
   },
   "outputs": [
    {
     "data": {
      "text/plain": [
       "array([ 9, 12, 15])"
      ]
     },
     "execution_count": 82,
     "metadata": {
      "tags": []
     },
     "output_type": "execute_result"
    }
   ],
   "source": [
    "np.sum(a, axis=0)"
   ]
  },
  {
   "cell_type": "markdown",
   "metadata": {
    "id": "qogJ8jxxewVF"
   },
   "source": [
    "Sum of all elements in each row:\n"
   ]
  },
  {
   "cell_type": "code",
   "execution_count": null,
   "metadata": {
    "colab": {
     "base_uri": "https://localhost:8080/",
     "height": 55
    },
    "id": "3yPcYF3UezXP",
    "outputId": "5f6f0bc3-9205-48d6-9136-92240f6c8ec3"
   },
   "outputs": [
    {
     "data": {
      "text/plain": [
       "array([ 3, 12, 21])"
      ]
     },
     "execution_count": 83,
     "metadata": {
      "tags": []
     },
     "output_type": "execute_result"
    }
   ],
   "source": [
    "np.sum(a, axis=1)"
   ]
  },
  {
   "cell_type": "markdown",
   "metadata": {
    "id": "1SAUlzBtb7z1"
   },
   "source": [
    "We can concatenate 2 matrices (or tables) with the same features (columns):"
   ]
  },
  {
   "cell_type": "code",
   "execution_count": null,
   "metadata": {
    "colab": {
     "base_uri": "https://localhost:8080/",
     "height": 119
    },
    "id": "sa89YyZ2swap",
    "outputId": "74430ffa-ec51-43d8-fce0-afbd5a49a3dd"
   },
   "outputs": [
    {
     "data": {
      "text/plain": [
       "array([[ 0,  1,  2],\n",
       "       [ 3,  4,  5],\n",
       "       [ 6,  7,  8],\n",
       "       [ 9, 10, 11],\n",
       "       [12, 13, 14],\n",
       "       [15, 16, 17]])"
      ]
     },
     "execution_count": 86,
     "metadata": {
      "tags": []
     },
     "output_type": "execute_result"
    }
   ],
   "source": [
    "np.concatenate((a, b), axis=0)"
   ]
  },
  {
   "cell_type": "markdown",
   "metadata": {
    "id": "XV1fGPSybamx"
   },
   "source": [
    "We can also concatenate 2 matrices (or tables) with the same number of observations (rows):"
   ]
  },
  {
   "cell_type": "code",
   "execution_count": null,
   "metadata": {
    "colab": {
     "base_uri": "https://localhost:8080/",
     "height": 68
    },
    "id": "s78eSeehvSFO",
    "outputId": "7a2caf0a-a8de-4504-8bbf-8099ded6eb82"
   },
   "outputs": [
    {
     "data": {
      "text/plain": [
       "array([[ 0,  1,  2,  9, 10, 11],\n",
       "       [ 3,  4,  5, 12, 13, 14],\n",
       "       [ 6,  7,  8, 15, 16, 17]])"
      ]
     },
     "execution_count": 87,
     "metadata": {
      "tags": []
     },
     "output_type": "execute_result"
    }
   ],
   "source": [
    "np.concatenate((a, b), axis=1)"
   ]
  },
  {
   "cell_type": "markdown",
   "metadata": {
    "id": "Um_Jgvcvem-h"
   },
   "source": [
    "The transpose of a matrix is an operator which flips a matrix over its diagonal  (rotation on 90 degrees). It is usually denoted by $A^T$ for a matrix $A$."
   ]
  },
  {
   "cell_type": "code",
   "execution_count": null,
   "metadata": {
    "colab": {
     "base_uri": "https://localhost:8080/",
     "height": 90
    },
    "id": "USaIK4OQvXLH",
    "outputId": "eb131ba6-3b2a-4326-f2bd-ee41fdb42f93"
   },
   "outputs": [
    {
     "data": {
      "text/plain": [
       "array([[ 9, 12, 15],\n",
       "       [10, 13, 16],\n",
       "       [11, 14, 17]])"
      ]
     },
     "execution_count": 85,
     "metadata": {
      "tags": []
     },
     "output_type": "execute_result"
    }
   ],
   "source": [
    "b.T"
   ]
  },
  {
   "cell_type": "code",
   "execution_count": null,
   "metadata": {
    "colab": {
     "base_uri": "https://localhost:8080/",
     "height": 90
    },
    "id": "FBwbZdp-dLTE",
    "outputId": "b770ce8c-29b7-4aa3-e81c-47d838a43a70"
   },
   "outputs": [
    {
     "data": {
      "text/plain": [
       "array([[ 9, 10, 11],\n",
       "       [12, 13, 14],\n",
       "       [15, 16, 17]])"
      ]
     },
     "execution_count": 84,
     "metadata": {
      "tags": []
     },
     "output_type": "execute_result"
    }
   ],
   "source": [
    "b"
   ]
  },
  {
   "cell_type": "markdown",
   "metadata": {
    "id": "5SSLxOXgThSL"
   },
   "source": [
    "# Exercises\n",
    "\n",
    "*  Matrix A[3x3]; Matrix B[3x3]\n",
    "*  create both matrices in numpy\n",
    "*  vector c [3]; vector d [3]\n",
    "*  create vector c in numpy\n",
    "*  work out A + B\n",
    "*  work out 2 * A\n",
    "*  work out c * A\n",
    "*  work out the dot product of c and d\n",
    "*  work out A*B (by hand and in numpy; compare the results)\n",
    "*  work out B*A (by hand and in numpy; compare the results)\n",
    "*  Is $A \\times B $ equal to $ B \\times A$? Why (not)?\n",
    "*  Is $(A\\times B) \\times C$  equal to $A\\times (B \\times C)$ Why (not)?\n",
    "\n",
    "\n",
    "\n",
    "\n"
   ]
  },
  {
   "cell_type": "code",
   "execution_count": null,
   "metadata": {
    "id": "a9DYIfW6iA3q"
   },
   "outputs": [],
   "source": []
  }
 ],
 "metadata": {
  "colab": {
   "collapsed_sections": [],
   "name": "17-2-Week3-Monday-numpy.ipynb",
   "provenance": []
  },
  "kernelspec": {
   "display_name": "Python 3",
   "language": "python",
   "name": "python3"
  },
  "language_info": {
   "codemirror_mode": {
    "name": "ipython",
    "version": 3
   },
   "file_extension": ".py",
   "mimetype": "text/x-python",
   "name": "python",
   "nbconvert_exporter": "python",
   "pygments_lexer": "ipython3",
   "version": "3.7.4"
  }
 },
 "nbformat": 4,
 "nbformat_minor": 4
}
