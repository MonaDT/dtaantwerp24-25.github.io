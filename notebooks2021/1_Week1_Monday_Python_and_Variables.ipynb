{
 "cells": [
  {
   "cell_type": "markdown",
   "metadata": {},
   "source": [
    "# Python and Variables\n",
    "Why Python; What is a Variable? Practical on variables (print, int, floats, strings, booleans)\n",
    "\n",
    "Staff : !!!!!!!!!\n",
    "Support Material : !!!!!!!!\n",
    "Support Sessions : !!!!!!!!"
   ]
  },
  {
   "cell_type": "markdown",
   "metadata": {},
   "source": [
    "<font size=\"4\">\n",
    "    \n",
    "### Programming Languages ###\n",
    "    \n",
    "- A programming language is similar to a natural language, it has form and meaning, it even has idioms (programming clichés) and paraphrases (there are many ways to implement the same algorithm). \n",
    "\n",
    "- Fluency in programming requires being able to translate ideas into algorithms and formulating the algorithms as efficient code, understanding code by others and using appropriate programming clichés. However, ambiguity and incompleteness are *not* allowed! Computers take everything literally.\n",
    "    </font>"
   ]
  },
  {
   "cell_type": "markdown",
   "metadata": {},
   "source": [
    "<img src=\"bootcamp_python_1.png\" alt=\"Programming vs. Natural Languages\" title=\"Programming vs. Natural Languages\" width=500 />"
   ]
  },
  {
   "cell_type": "markdown",
   "metadata": {},
   "source": [
    "<font size=\"4\">\n",
    "    \n",
    "### Algorithms ###\n",
    "    \n",
    "- An algorithm (informally) is a finite series of steps computing an output from a (possibly empty) input in a reasonable time (= computing a function)\n",
    "- Examples\n",
    "    - Compute the number of five-letter words in a text\n",
    "    - Translate a text in Dutch to Swahili\n",
    "    - ...\n",
    "    \n",
    "    \n"
   ]
  },
  {
   "cell_type": "markdown",
   "metadata": {},
   "source": [
    "<font size=\"4\">\n",
    "    \n",
    "### Programming ###\n",
    "    \n",
    "- The process of programming entails:\n",
    "\n",
    "    1. Finding an algorithm for solving a problem (the semantics of the program) \n",
    "    2. Implement it in correct, efficient code (the syntax)\n",
    "    3. This process often entails decomposition: split up a complex problem into less complex subproblems until they are simple enough to be easily implemented\n",
    "\n",
    "    </font>"
   ]
  },
  {
   "cell_type": "markdown",
   "metadata": {},
   "source": [
    "<font size=\"4\">\n",
    "\n",
    "### Example programming task ###\n",
    "    \n",
    "- Input: a word (e.g. 'Bootcamp')\n",
    "- Output: a representation of the word as a pattern of consonants and vowels (in this case: 'CVVCCVCC')\n",
    "\n",
    "How would you handle this?\n",
    "    \n",
    "<font>\n"
   ]
  },
  {
   "cell_type": "markdown",
   "metadata": {},
   "source": [
    "<font size=\"4\">\n",
    "\n",
    "### Some Ideas for a Solution ###\n",
    "Semantics / algorithm:\n",
    "\n",
    "- I have to know which letters are vowels and which ones are consonants (a **test**)\n",
    "- I have to do this test for each letter in the algorithm (a **loop**)\n",
    "- I have to produce a 'C' or 'V' in the output for each letter in the input (**input** and **output**)\n",
    " \n",
    "    \n",
    "Syntax / Code:    \n",
    "    \n",
    "(don't worry about understanding the details yet)\n",
    "</font>"
   ]
  },
  {
   "cell_type": "code",
   "execution_count": null,
   "metadata": {},
   "outputs": [],
   "source": [
    "def is_vowel (letter):\n",
    "    \"A test to check whether a letter is a vowel or not\"\n",
    "    return letter in 'aeiou'\n",
    "\n",
    "def CV_convert (word): \n",
    "    \"A function that loops through the letters of a word, \\\n",
    "    checks whether the letter is a vowel and concatenates 'C' or 'V' to the result according \\\n",
    "    to the result of the test.\"\n",
    "    result = ''\n",
    "    for letter in word:\n",
    "        if is_vowel(letter):\n",
    "            result += 'V'\n",
    "        else:\n",
    "            result += 'C'\n",
    "    return result\n",
    "        "
   ]
  },
  {
   "cell_type": "code",
   "execution_count": null,
   "metadata": {},
   "outputs": [],
   "source": [
    "CV_convert('Bootcamp')"
   ]
  },
  {
   "cell_type": "markdown",
   "metadata": {},
   "source": [
    "<font size=\"4\">\n",
    "\n",
    "Notice:\n",
    "    \n",
    "- Syntax: punctuation (: brackets, ...), indentation, keywords\n",
    "- Semantics: test, loop, ...\n",
    "- Idiom: loop over a sequence and perform a test on each element of the sequence\n",
    "\n",
    "</font>"
   ]
  },
  {
   "cell_type": "markdown",
   "metadata": {},
   "source": [
    "### Things can go wrong in programming: debugging ###\n",
    "    \n",
    "- The algorithm is wrong (semantic errors)\n",
    "   - Forgot that y can be a vowel as well \n",
    "   - What about capital letters? \n",
    "   - What about spaces?\n",
    "- The code is wrong (syntactic errors)\n",
    "   - Missing colon, wrong indentation, …\n"
   ]
  },
  {
   "cell_type": "markdown",
   "metadata": {},
   "source": [
    "<font size=\"4\">\n",
    "\n",
    "### Variables ###\n",
    "\n",
    "- Syntax: *name = value*\n",
    "- Value is bound to name\n",
    "- Value is assigned to name\n",
    "- Variable links a name with a value\n",
    "- Using an unbound variable leads to an error\n",
    "\n",
    "<font>\n"
   ]
  },
  {
   "cell_type": "code",
   "execution_count": null,
   "metadata": {},
   "outputs": [],
   "source": [
    "age = 2020 - 2000\n",
    "age"
   ]
  },
  {
   "cell_type": "code",
   "execution_count": null,
   "metadata": {},
   "outputs": [],
   "source": [
    "age + 1"
   ]
  },
  {
   "cell_type": "markdown",
   "metadata": {},
   "source": [
    "<font size=\"4\">\n",
    "Variables keep their values until reassigned\n",
    "</font>"
   ]
  },
  {
   "cell_type": "code",
   "execution_count": null,
   "metadata": {},
   "outputs": [],
   "source": [
    "age"
   ]
  },
  {
   "cell_type": "code",
   "execution_count": null,
   "metadata": {},
   "outputs": [],
   "source": [
    "age = age - 1\n",
    "age"
   ]
  },
  {
   "cell_type": "markdown",
   "metadata": {},
   "source": [
    "<font size=\"4\">\n",
    "Undefined variables throw an error\n",
    "</font>"
   ]
  },
  {
   "cell_type": "code",
   "execution_count": null,
   "metadata": {},
   "outputs": [],
   "source": [
    "birthear"
   ]
  },
  {
   "cell_type": "markdown",
   "metadata": {},
   "source": [
    "<font size=\"4\">\n",
    "    \n",
    "Variable assignment is not the same as **equality testing** (use ==)\n",
    "</font>\n"
   ]
  },
  {
   "cell_type": "code",
   "execution_count": null,
   "metadata": {},
   "outputs": [],
   "source": [
    "x = 3 + 5\n",
    "x"
   ]
  },
  {
   "cell_type": "code",
   "execution_count": null,
   "metadata": {},
   "outputs": [],
   "source": [
    "x == 7"
   ]
  },
  {
   "cell_type": "code",
   "execution_count": null,
   "metadata": {},
   "outputs": [],
   "source": [
    "x == 8"
   ]
  },
  {
   "cell_type": "markdown",
   "metadata": {},
   "source": [
    "<font size = \"4\">\n",
    "\n",
    "### Restrictions on names ###\n",
    "\n",
    "- All letters can be used and the underscore (_), NOT spaces\n",
    "    - Strings (starting with \" or ') can therefore not be used as names\n",
    "- Python is case-sensitive\n",
    "    - Uppercase and lowercase versions of letters are interpreted by Python as different\n",
    "- Digits can be used but not as the first character in a name\n",
    "    - Numbers can therefore not be used as names\n",
    "- Python reserved words cannot be used (if, not, else, and etc.)\n",
    "    - See list on Hammond page 10\n",
    "    - Color-coded in most editors\n",
    "\n",
    "\n",
    "</font>"
   ]
  },
  {
   "cell_type": "markdown",
   "metadata": {},
   "source": [
    "<font size = \"4\">\n",
    "\n",
    "### Programming Style: Variable names ###\n",
    "\n",
    "- Use names that make clear what kind of value it is associated with\n",
    "    - age, birthyear, publication_date, name, location, ...\n",
    "- Use names that are not ambiguous\n",
    "    - first_name, family_name, ...\n",
    "\n",
    "</font>"
   ]
  },
  {
   "cell_type": "markdown",
   "metadata": {},
   "source": [
    "### Exercises: guess what the output will be: ###"
   ]
  },
  {
   "cell_type": "code",
   "execution_count": null,
   "metadata": {},
   "outputs": [],
   "source": [
    "print(2+3)"
   ]
  },
  {
   "cell_type": "code",
   "execution_count": null,
   "metadata": {},
   "outputs": [],
   "source": [
    "a = 12\n",
    "b = -4\n",
    "\n",
    "b = a + 7\n",
    "\n",
    "print(a)\n",
    "print(b)"
   ]
  },
  {
   "cell_type": "code",
   "execution_count": null,
   "metadata": {},
   "outputs": [],
   "source": [
    "a = b\n",
    "\n",
    "print(a)\n",
    "print(b)"
   ]
  },
  {
   "cell_type": "code",
   "execution_count": null,
   "metadata": {},
   "outputs": [],
   "source": [
    "c = \"apple\"\n",
    "d = \"pear\"\n",
    "\n",
    "print(c+d*3)"
   ]
  },
  {
   "cell_type": "code",
   "execution_count": null,
   "metadata": {},
   "outputs": [],
   "source": [
    "\"appel\" = 12"
   ]
  },
  {
   "cell_type": "code",
   "execution_count": null,
   "metadata": {},
   "outputs": [],
   "source": [
    "1 = 2"
   ]
  },
  {
   "cell_type": "code",
   "execution_count": null,
   "metadata": {},
   "outputs": [],
   "source": [
    "crazy_laugh = 'ha' * 100\n",
    "crazy_laugh"
   ]
  }
 ],
 "metadata": {
  "kernelspec": {
   "display_name": "Python 3",
   "language": "python",
   "name": "python3"
  },
  "language_info": {
   "codemirror_mode": {
    "name": "ipython",
    "version": 3
   },
   "file_extension": ".py",
   "mimetype": "text/x-python",
   "name": "python",
   "nbconvert_exporter": "python",
   "pygments_lexer": "ipython3",
   "version": "3.8.5"
  }
 },
 "nbformat": 4,
 "nbformat_minor": 4
}
