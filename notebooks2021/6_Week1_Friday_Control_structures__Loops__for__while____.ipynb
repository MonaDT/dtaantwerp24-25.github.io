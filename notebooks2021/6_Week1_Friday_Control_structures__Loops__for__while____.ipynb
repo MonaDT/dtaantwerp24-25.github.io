{
 "cells": [
  {
   "cell_type": "markdown",
   "metadata": {},
   "source": [
    "# Control Structures: `for` & `while`\n",
    "\n",
    "Staff : !!!!!!!!!\n",
    "Support Material : !!!!!!!!\n",
    "Support Sessions : !!!!!!!!"
   ]
  },
  {
   "cell_type": "markdown",
   "metadata": {},
   "source": [
    "# `for`\n",
    "\n",
    "#### for *each element* in *a sequence* *do something* ####"
   ]
  },
  {
   "cell_type": "code",
   "execution_count": null,
   "metadata": {},
   "outputs": [],
   "source": [
    "for letter in \"Wolf\":\n",
    "    print(letter)"
   ]
  },
  {
   "cell_type": "code",
   "execution_count": null,
   "metadata": {},
   "outputs": [],
   "source": [
    "for letter in \"Wolf\":\n",
    "    print(letter, sep=',', end=' ')"
   ]
  },
  {
   "cell_type": "code",
   "execution_count": null,
   "metadata": {},
   "outputs": [],
   "source": [
    "for x in ['a', 'b', 'c']:\n",
    "    print(x)"
   ]
  },
  {
   "cell_type": "code",
   "execution_count": null,
   "metadata": {},
   "outputs": [],
   "source": [
    "list_of_numbers = range(4, 10, 2)\n",
    "for number in list_of_numbers:\n",
    "    print(number)"
   ]
  },
  {
   "cell_type": "code",
   "execution_count": null,
   "metadata": {},
   "outputs": [],
   "source": [
    "# Sum all the numbers from 1 to 100\n",
    "\n",
    "result = 0\n",
    "for number in range(1,101):\n",
    "    #print(number, result)\n",
    "    result += number\n",
    "print(result)"
   ]
  },
  {
   "cell_type": "code",
   "execution_count": null,
   "metadata": {},
   "outputs": [],
   "source": [
    "### Note\n",
    "\n",
    "a = 0\n",
    "a += 1 # a = a + 1\n",
    "a\n"
   ]
  },
  {
   "cell_type": "code",
   "execution_count": null,
   "metadata": {},
   "outputs": [],
   "source": [
    "# Similarly for -= *= /= for numbers and strings\n",
    "\n",
    "s1 = \"banana\"\n",
    "s1 += \"pear\"\n",
    "\n",
    "s1"
   ]
  },
  {
   "cell_type": "markdown",
   "metadata": {},
   "source": [
    "### Strong programming pattern: loop + test ###"
   ]
  },
  {
   "cell_type": "code",
   "execution_count": null,
   "metadata": {},
   "outputs": [],
   "source": [
    "# Count the number of vowels in a word string\n",
    "\n",
    "vowels = \"aeiou\"\n",
    "word = \"fictitious\"\n",
    "\n"
   ]
  },
  {
   "cell_type": "code",
   "execution_count": null,
   "metadata": {},
   "outputs": [],
   "source": [
    "# Embedded loops and ifs\n",
    "\n",
    "# For each word in a list, check whether it is longer than 5 letters and if so, count the number of vowels\n",
    "\n",
    "words = ['I', 'like', 'the', 'words', 'serendipitous', 'and', 'fictitious']\n"
   ]
  },
  {
   "cell_type": "markdown",
   "metadata": {},
   "source": [
    "## `while`"
   ]
  },
  {
   "cell_type": "markdown",
   "metadata": {},
   "source": [
    "In this session, we'll cover the `while` loop which, conceptually, is a combination of an `if` construction and a `for` loop, so to speak. The syntax is very similar to an `if` block: a Python keyword (`while`) is followed by a logical expression that will again be evaluated into a **boolean**. After that, a colon follows and an indented code block:\n",
    "\n",
    "```python\n",
    "while a < 6:\n",
    "    print(a)\n",
    "```\n",
    "\n",
    "Like with `if`, the associated code block will be executed *if and only if* the expression holds true. The catch, however, is that the block will keep on getting executed **indefinitely** or at least until the logical expression no longer holds `True`. In this, `while` constructions resemble `for` constructions, which are also repetitive."
   ]
  },
  {
   "cell_type": "markdown",
   "metadata": {},
   "source": [
    "![while flow chart](https://cdn.programiz.com/sites/tutorial2program/files/whileLoopFlowchart.jpg)"
   ]
  },
  {
   "cell_type": "markdown",
   "metadata": {},
   "source": [
    "## Analogy\n",
    "\n",
    "- Filling a bucket\n",
    "- Driving home\n",
    "- Boiling water"
   ]
  },
  {
   "cell_type": "markdown",
   "metadata": {},
   "source": [
    "Watch out: `while` loops can be a nightmare to coders (both novice and experienced): you yourself have to make sure that the `while` loop is stopped at some point (or you will have to buy a new computer...). On the other hand, you also have to ensure that the `while` starts at a given point, and typically you also want the initial condition to be met (at least once). In our experience, `while` loops are therefore used much less often than `for` loops (which should always be preferred, if you have the choice).\n",
    "\n",
    "Here goes a concrete example:"
   ]
  },
  {
   "cell_type": "code",
   "execution_count": 37,
   "metadata": {},
   "outputs": [
    {
     "name": "stdout",
     "output_type": "stream",
     "text": [
      "1\n",
      "2\n",
      "3\n",
      "4\n",
      "5\n",
      "6\n",
      "7\n",
      "8\n",
      "9\n",
      "10\n"
     ]
    }
   ],
   "source": [
    "idx = 1 # a counter\n",
    "while idx < 11:\n",
    "    print(idx)\n",
    "    idx += 1 # this shortcut might be new?"
   ]
  },
  {
   "cell_type": "markdown",
   "metadata": {},
   "source": [
    "> (*Try to figure out for yourself first what this does exactly.*)\n",
    "\n",
    "We declare an integer variable that we set to one. Initially, the condition (`idx < 11`) will be met, since the original value of `idx` will indeed be smaller than 11, so the `while` loop will start up and the indented code block gets executed. In this block, we print `idx`, before augmenting it, in each iteration, with one. The last bit is crucial, since we have to make sure that something changes each time, so that ultimately, the logical expression will no longer hold `True`. At a certain point, our `idx` will reach the value 11 and the condition will no longer be met, so that we jump out of the `while` loop.\n",
    "> *Question: will `idx` ever have the value 12*?"
   ]
  },
  {
   "cell_type": "markdown",
   "metadata": {},
   "source": [
    "### `while` vs `for`"
   ]
  },
  {
   "cell_type": "markdown",
   "metadata": {},
   "source": [
    "Note that all `for` loops can be expressed as a `while` loop. The reverse, however, is not true, and is some specific situation, a `while` loop might actually be unavoidable."
   ]
  },
  {
   "cell_type": "markdown",
   "metadata": {},
   "source": [
    "Let's first have a look at our previous example of a `for` loop, in which we iterated over the characters in a name:"
   ]
  },
  {
   "cell_type": "code",
   "execution_count": 38,
   "metadata": {},
   "outputs": [
    {
     "name": "stdout",
     "output_type": "stream",
     "text": [
      "b\n",
      "e\n",
      "r\n",
      "t\n"
     ]
    }
   ],
   "source": [
    "name = 'bert'\n",
    "for character in name:\n",
    "    print(character)"
   ]
  },
  {
   "cell_type": "markdown",
   "metadata": {},
   "source": [
    "We know that we can also access the characters in a string via an **index**:"
   ]
  },
  {
   "cell_type": "code",
   "execution_count": 39,
   "metadata": {},
   "outputs": [
    {
     "name": "stdout",
     "output_type": "stream",
     "text": [
      "b\n",
      "e\n",
      "r\n",
      "t\n"
     ]
    }
   ],
   "source": [
    "print(name[0]) # zero-indexed!\n",
    "print(name[1])\n",
    "print(name[2])\n",
    "print(name[3])"
   ]
  },
  {
   "cell_type": "markdown",
   "metadata": {},
   "source": [
    "So to mimic the behavior of a `for` loop, we can also work with an index variable that we initialize to zero. After we've retrieved the corresponding character, we augment the index by one and we move on to the next character. The tricky bit is that we have to make sure that we stop at some point..."
   ]
  },
  {
   "cell_type": "markdown",
   "metadata": {},
   "source": [
    "> *Question 2: Any idea what will happen? A infinite loop? Look at the code below*"
   ]
  },
  {
   "cell_type": "code",
   "execution_count": 42,
   "metadata": {},
   "outputs": [
    {
     "name": "stdout",
     "output_type": "stream",
     "text": [
      "b\n",
      "e\n",
      "r\n",
      "t\n"
     ]
    }
   ],
   "source": [
    "name = 'bert'\n",
    "counter = 0\n",
    "\n",
    "while counter = len(name):\n",
    "    print(name[counter])\n",
    "    counter += 1"
   ]
  },
  {
   "cell_type": "code",
   "execution_count": 45,
   "metadata": {},
   "outputs": [
    {
     "data": {
      "text/plain": [
       "True"
      ]
     },
     "execution_count": 45,
     "metadata": {},
     "output_type": "execute_result"
    }
   ],
   "source": [
    "0 != 1"
   ]
  },
  {
   "cell_type": "markdown",
   "metadata": {},
   "source": [
    "> *Question: Any ideas on how to achieve this? \n",
    "\n",
    "(In a future session, we'll actually see how to exploit the fact that such errors are thrown. \"Oops, I encounter an error: get me out of here!\")*\n",
    "\n",
    "The more obvious solution is to check `idx` against the length of `name`, which is the thing that we are iterating over.\n",
    "\n",
    "> *Question: how can we access the length of a list in Python?*"
   ]
  },
  {
   "cell_type": "code",
   "execution_count": 13,
   "metadata": {},
   "outputs": [
    {
     "name": "stdout",
     "output_type": "stream",
     "text": [
      "b\n",
      "e\n",
      "r\n",
      "t\n"
     ]
    },
    {
     "ename": "IndexError",
     "evalue": "string index out of range",
     "output_type": "error",
     "traceback": [
      "\u001b[0;31m---------------------------------------------------------------------------\u001b[0m",
      "\u001b[0;31mIndexError\u001b[0m                                Traceback (most recent call last)",
      "\u001b[0;32m<ipython-input-13-b336cfd5176b>\u001b[0m in \u001b[0;36m<module>\u001b[0;34m\u001b[0m\n\u001b[1;32m      1\u001b[0m \u001b[0midx\u001b[0m \u001b[0;34m=\u001b[0m \u001b[0;36m0\u001b[0m\u001b[0;34m\u001b[0m\u001b[0;34m\u001b[0m\u001b[0m\n\u001b[1;32m      2\u001b[0m \u001b[0;32mwhile\u001b[0m \u001b[0midx\u001b[0m \u001b[0;34m<=\u001b[0m \u001b[0mlen\u001b[0m\u001b[0;34m(\u001b[0m\u001b[0mname\u001b[0m\u001b[0;34m)\u001b[0m\u001b[0;34m:\u001b[0m \u001b[0;31m# smaller than or equal true\u001b[0m\u001b[0;34m\u001b[0m\u001b[0;34m\u001b[0m\u001b[0m\n\u001b[0;32m----> 3\u001b[0;31m     \u001b[0mprint\u001b[0m\u001b[0;34m(\u001b[0m\u001b[0mname\u001b[0m\u001b[0;34m[\u001b[0m\u001b[0midx\u001b[0m\u001b[0;34m]\u001b[0m\u001b[0;34m)\u001b[0m\u001b[0;34m\u001b[0m\u001b[0;34m\u001b[0m\u001b[0m\n\u001b[0m\u001b[1;32m      4\u001b[0m     \u001b[0midx\u001b[0m \u001b[0;34m+=\u001b[0m \u001b[0;36m1\u001b[0m\u001b[0;34m\u001b[0m\u001b[0;34m\u001b[0m\u001b[0m\n",
      "\u001b[0;31mIndexError\u001b[0m: string index out of range"
     ]
    }
   ],
   "source": [
    "idx = 0\n",
    "while idx <= len(name): # smaller than or equal true\n",
    "    print(name[idx])\n",
    "    idx += 1"
   ]
  },
  {
   "cell_type": "markdown",
   "metadata": {},
   "source": [
    "That works but we still hit an error at the end...\n",
    "\n",
    "> *Question: What is conceptually wrong with this code?*"
   ]
  },
  {
   "cell_type": "markdown",
   "metadata": {},
   "source": [
    "Indeed, the index of this list's last element is equal to its length *minus one*:"
   ]
  },
  {
   "cell_type": "code",
   "execution_count": 116,
   "metadata": {},
   "outputs": [
    {
     "name": "stdout",
     "output_type": "stream",
     "text": [
      "4\n",
      "t\n"
     ]
    }
   ],
   "source": [
    "print(len(name))\n",
    "print(name[len(name) - 1])"
   ]
  },
  {
   "cell_type": "code",
   "execution_count": null,
   "metadata": {},
   "outputs": [],
   "source": []
  },
  {
   "cell_type": "markdown",
   "metadata": {},
   "source": [
    "That's why the correct version should read:"
   ]
  },
  {
   "cell_type": "code",
   "execution_count": 117,
   "metadata": {},
   "outputs": [
    {
     "name": "stdout",
     "output_type": "stream",
     "text": [
      "b\n",
      "e\n",
      "r\n",
      "t\n"
     ]
    }
   ],
   "source": [
    "idx = 0\n",
    "while idx < len(name): # smaller than\n",
    "    print(name[idx])\n",
    "    idx += 1"
   ]
  },
  {
   "cell_type": "markdown",
   "metadata": {},
   "source": [
    "So you get it: simple `for` loops can always be reformulated as `while` loops, but they will involve the careful manipulation of an index variable, which can get complicated."
   ]
  },
  {
   "cell_type": "code",
   "execution_count": 56,
   "metadata": {},
   "outputs": [
    {
     "name": "stdout",
     "output_type": "stream",
     "text": [
      "boiling...\n",
      "still boiling..\n",
      "still boiling..\n",
      "still boiling..\n",
      "still boiling..\n",
      "still boiling..\n",
      "water is boiled\n"
     ]
    }
   ],
   "source": [
    "print('boiling...')\n",
    "\n",
    "water_temp = 0\n",
    "\n",
    "while True:\n",
    "    print('still boiling..')\n",
    "    water_temp += 20\n",
    "    if water_temp == 100:\n",
    "        print('water is boiled')\n",
    "        break"
   ]
  },
  {
   "cell_type": "markdown",
   "metadata": {},
   "source": [
    "Build a program  that prints water is boiling, up until 100 degrees, then it say 'water is boiled'."
   ]
  },
  {
   "cell_type": "code",
   "execution_count": 73,
   "metadata": {},
   "outputs": [
    {
     "name": "stdout",
     "output_type": "stream",
     "text": [
      "water is boiling\n",
      "water is boiling\n",
      "water is boiling\n",
      "water is boiling\n",
      "water is boiling\n",
      "water is boiled\n"
     ]
    }
   ],
   "source": [
    "# current temp\n",
    "\n",
    "water_temp = 0\n",
    "\n",
    "# starts a loop\n",
    "\n",
    "while True:\n",
    "    water_temp += 20\n",
    "    # prints water is boiling\n",
    "    print('water is boiling')\n",
    "    # up until 100 degrees\n",
    "    if water_temp == 100:\n",
    "        print('water is boiled')\n",
    "        break\n",
    "        # then it say 'water is boiled'.\n",
    "        "
   ]
  },
  {
   "cell_type": "markdown",
   "metadata": {},
   "source": [
    "\n",
    "## `break`"
   ]
  },
  {
   "cell_type": "markdown",
   "metadata": {},
   "source": [
    "Above we said that, if your program gets stuck in an infinite loop, you'll have to buy a new computer. That was a manifest example of my excellent humor. Of course there are ways to salvage your computer.\n",
    "\n",
    "(1) First of all, there a real chance you'll end up hitting a specific kind of **error**, because Python will realize that you're stuck in an infinite loop. This is a useful safety mechanism to protect yourself against your own mistakes.\n",
    "\n",
    "*Example: Python doesn't put a cap on the size of integers: you can grow numbers as large as you need them to be. You can actually fill up your entire memory like this...*\n",
    "\n",
    "```python\n",
    "idx = 0\n",
    "while idx > -1:\n",
    "    idx += 1\n",
    "```"
   ]
  },
  {
   "cell_type": "markdown",
   "metadata": {},
   "source": [
    "(2) You can always stop the execution of a Python program: in a Terminal, you can use `Ctrl + C`, in a notebook you can \"kill the kernel\" using the stop icon."
   ]
  },
  {
   "cell_type": "markdown",
   "metadata": {},
   "source": [
    "(3) The most elegant way to end a `while` loop is to take care of that yourself in the code. A very useful keyword in this respect is `break`, another Python keyword. You can insert it inside the indented block of a `while` loop and it will have the effect that the current loop gets halted immediately.\n",
    "\n",
    "Let's work from an example. Let's us assume that our task is to print out the integer ranging from 1 to 10:"
   ]
  },
  {
   "cell_type": "code",
   "execution_count": 51,
   "metadata": {},
   "outputs": [
    {
     "name": "stdout",
     "output_type": "stream",
     "text": [
      "1\n",
      "2\n",
      "3\n",
      "4\n",
      "5\n",
      "6\n",
      "7\n",
      "8\n",
      "9\n",
      "10\n"
     ]
    }
   ],
   "source": [
    "idx = 0\n",
    "\n",
    "while True: # what's this?!\n",
    "    idx += 1\n",
    "    print(idx)\n",
    "    if idx == 10:\n",
    "        break"
   ]
  },
  {
   "cell_type": "markdown",
   "metadata": {},
   "source": [
    "This block introduces two novelties: \n",
    "- the `break` keyword is nested inside an `if` statement that is itself part of a `while` loop. In such cases, the `while` loop is called the **outer** control structure and the `if` the **inner** control structure. In spite of this **nesting**, Python knows that it has to look for the \"nearest loop\" and kill that, which happens indeed when `idx` reaches the value of 10. Here, \"nearest\" technically means: the \"smallest enclosing loop\".\n",
    "- this particular `while` is intentionally set up to run forever (in principle), using the line `while True:`. This is a construction you will often see: `True` in this case is a boolean **constant** (not a variable!) that cannot be changed once the program has started. This will effectively result in a statement that is always `True`, meaning that your loop will continue until something unexpected would happen (i.e. encountering the `break` keyword). This is commonly used because you can set up a simple iterator in this way, that will incessantly perform a certain action -- it's an indefinite loop that you set up *on purpose*."
   ]
  },
  {
   "cell_type": "markdown",
   "metadata": {},
   "source": [
    "Interestingly, `break` can also be used in `for`-loops and there it has the same effect: it will terminate the `for` loop immediately. Havea look at this example, in which we search through a sentence until we find the first occurence of the word \"sleep\" (which is my favorite word):"
   ]
  },
  {
   "cell_type": "code",
   "execution_count": 58,
   "metadata": {},
   "outputs": [
    {
     "name": "stdout",
     "output_type": "stream",
     "text": [
      "colourless\n",
      "green\n",
      "ideas\n",
      "sleep\n",
      "Found!\n"
     ]
    }
   ],
   "source": [
    "sentence = ['colourless', 'green', 'ideas', 'sleep', 'furiously']\n",
    "for word in sentence:\n",
    "    print(word)\n",
    "    if word == 'sleep':\n",
    "        print('Found!')\n",
    "        break"
   ]
  },
  {
   "cell_type": "markdown",
   "metadata": {},
   "source": [
    "We iterate over each word in the sentence and when we come across \"sleep\", we halt the `for`-loop. Note that the last word in the sentence doesn't get printed anymore: we can effectively skip the rest of the loop because we've already found what we were looking for. This is a classic use of `break`: in many cases you'll want to avoid unnecessary computations."
   ]
  },
  {
   "cell_type": "markdown",
   "metadata": {},
   "source": [
    "However, watch out with nesting: the `break` keyword will always also kill a single loop, that is: the nearest or latest loop that Python starting when hitting the `break` keyword."
   ]
  },
  {
   "cell_type": "markdown",
   "metadata": {},
   "source": [
    "Suppose that we want to search our sentence for the first occurence of the letter \"d\":"
   ]
  },
  {
   "cell_type": "code",
   "execution_count": 61,
   "metadata": {},
   "outputs": [
    {
     "name": "stdout",
     "output_type": "stream",
     "text": [
      " \n",
      "c\n",
      "o\n",
      "l\n",
      "o\n",
      "u\n",
      "r\n",
      "l\n",
      "e\n",
      "s\n",
      "s\n",
      " \n",
      "g\n",
      "r\n",
      "e\n",
      "e\n",
      "n\n",
      " \n",
      "i\n",
      "d\n",
      "Found a 'd'!\n",
      " \n",
      "s\n",
      "l\n",
      "e\n",
      "e\n",
      "p\n",
      " \n",
      "f\n",
      "u\n",
      "r\n",
      "i\n",
      "o\n",
      "u\n",
      "s\n",
      "l\n",
      "y\n"
     ]
    }
   ],
   "source": [
    "for word in sentence: # outer, sentence-level for-loop\n",
    "    print(' ')\n",
    "    for letter in word: # inner, word-level for-loop\n",
    "        print(letter)\n",
    "        if letter == 'd':\n",
    "            print(\"Found a 'd'!\")\n",
    "            break"
   ]
  },
  {
   "cell_type": "markdown",
   "metadata": {},
   "source": [
    "Note that this method would only kill the last for-loop that we started (so that the rest of the current word, \"idea\", isn't searched anymore after finding the \"d\"). Note that the outer `for` loop happily keeps on running however. Solving this would require a more complicated hack, where you keep track of an additional variable. For instance, with this clumsy solution:"
   ]
  },
  {
   "cell_type": "markdown",
   "metadata": {},
   "source": [
    "Do not spend too much time on this, as it's a clumsy solution, which would be better served by a `while` loop."
   ]
  },
  {
   "cell_type": "code",
   "execution_count": 63,
   "metadata": {},
   "outputs": [
    {
     "name": "stdout",
     "output_type": "stream",
     "text": [
      " \n",
      "c\n",
      "o\n",
      "l\n",
      "o\n",
      "u\n",
      "r\n",
      "l\n",
      "e\n",
      "s\n",
      "s\n"
     ]
    }
   ],
   "source": [
    "d_found = False\n",
    "for word in sentence: # outer, sentence-level for-loop\n",
    "    print(' ')\n",
    "    if d_found:\n",
    "        break\n",
    "    for letter in word: # inner, word-level for-loop\n",
    "        print(letter)\n",
    "        if letter == 'd':\n",
    "            print(\"Found a 'd'!\")\n",
    "            d_found = True\n"
   ]
  },
  {
   "cell_type": "markdown",
   "metadata": {},
   "source": [
    "As you can see, you will typically need a break per loop in such situations."
   ]
  },
  {
   "cell_type": "markdown",
   "metadata": {},
   "source": [
    "### `while` plus `else`\n",
    "\n",
    "In passing, we note that you can also have an `else`-statement, wrapping up a `while` loop. The syntax is as follows:"
   ]
  },
  {
   "cell_type": "code",
   "execution_count": null,
   "metadata": {},
   "outputs": [],
   "source": [
    "x = 0\n",
    "w"
   ]
  },
  {
   "cell_type": "code",
   "execution_count": 64,
   "metadata": {},
   "outputs": [
    {
     "name": "stdout",
     "output_type": "stream",
     "text": [
      "1\n",
      "2\n",
      "3\n",
      "4\n",
      "5\n",
      "6\n",
      "7\n",
      "8\n",
      "9\n",
      "10\n",
      "11\n",
      "End of the `while` block\n"
     ]
    }
   ],
   "source": [
    "idx = 0\n",
    "while idx < 11:\n",
    "    idx += 1\n",
    "    print(idx)\n",
    "else:\n",
    "    print('End of the `while` block')"
   ]
  },
  {
   "cell_type": "markdown",
   "metadata": {},
   "source": [
    "*Think: why might it seem utterly useless to have this construction in Python at all?*"
   ]
  },
  {
   "cell_type": "markdown",
   "metadata": {},
   "source": [
    "Well, this seems perfectly equivalent to:"
   ]
  },
  {
   "cell_type": "code",
   "execution_count": 123,
   "metadata": {},
   "outputs": [
    {
     "name": "stdout",
     "output_type": "stream",
     "text": [
      "1\n",
      "2\n",
      "3\n",
      "4\n",
      "5\n",
      "6\n",
      "7\n",
      "8\n",
      "9\n",
      "10\n",
      "11\n",
      "End of the `while` block\n"
     ]
    }
   ],
   "source": [
    "idx = 0\n",
    "while idx < 11:\n",
    "    idx += 1\n",
    "    print(idx)\n",
    "print('End of the `while` block')"
   ]
  },
  {
   "cell_type": "markdown",
   "metadata": {},
   "source": [
    "There is one subtlety, however, namely that the `else`-block only gets executed if the conditional clause becomes `False`. In the case of a `break`, the `else`-block also doesn't get executed (this is called an \"abnormal exit\" from the loop.) This is considered useful in the context of searching and you might fail to find something:"
   ]
  },
  {
   "cell_type": "code",
   "execution_count": 66,
   "metadata": {},
   "outputs": [
    {
     "name": "stdout",
     "output_type": "stream",
     "text": [
      "Found one!\n",
      "No results found.\n"
     ]
    }
   ],
   "source": [
    "word = 'colourless'\n",
    "query = 'l' # also try 'x'\n",
    "idx = 0\n",
    "\n",
    "while idx < len(word):\n",
    "    letter = word[idx]\n",
    "    if letter == query:\n",
    "        print('Found one!')\n",
    "        break\n",
    "    idx += 1\n",
    "else:\n",
    "    print('No results found.')"
   ]
  },
  {
   "cell_type": "markdown",
   "metadata": {},
   "source": [
    "## `continue`"
   ]
  },
  {
   "cell_type": "markdown",
   "metadata": {},
   "source": [
    "The keyword `break` is tightly linked to another keyword: `continue`. This keyword works also works for `for`-loops as well as `while`-loops: when the Python interpreter encounters it in a loop it will read it as an instruction \"to skip the rest of the current loop\" (but keep looping after that). It means: \"move on to the next iteration\". A simple illustration:"
   ]
  },
  {
   "cell_type": "code",
   "execution_count": 70,
   "metadata": {},
   "outputs": [
    {
     "name": "stdout",
     "output_type": "stream",
     "text": [
      "-\n",
      "-\n",
      "l\n",
      "-\n",
      "p\n",
      "-\n",
      "h\n",
      "-\n",
      "-\n",
      "b\n",
      "-\n",
      "e\n",
      "-\n",
      "t\n"
     ]
    }
   ],
   "source": [
    "word = 'alphabet'\n",
    "for letter in word:\n",
    "    print('-')\n",
    "    if letter == 'a':\n",
    "        continue # move on to the next iteration\n",
    "    print(letter)"
   ]
  },
  {
   "cell_type": "markdown",
   "metadata": {},
   "source": [
    "All letters are printed, but the a is skipped: this is because encountering the `continue` will take you right back again to the start of the *next* iteration. To make this more concrete, let's look at a more complex application that is discussed in the book."
   ]
  },
  {
   "cell_type": "markdown",
   "metadata": {},
   "source": [
    "Suppose that we have the following consonants and vowels:"
   ]
  },
  {
   "cell_type": "code",
   "execution_count": 131,
   "metadata": {},
   "outputs": [],
   "source": [
    "vowels = 'aeiou'\n",
    "consonants = 'ptkbdg'"
   ]
  },
  {
   "cell_type": "markdown",
   "metadata": {},
   "source": [
    "How could we combine all of these into plain CV-combinations of just one C and one V?"
   ]
  },
  {
   "cell_type": "code",
   "execution_count": 132,
   "metadata": {},
   "outputs": [
    {
     "name": "stdout",
     "output_type": "stream",
     "text": [
      "pa\n",
      "ta\n",
      "ka\n",
      "ba\n",
      "da\n",
      "ga\n",
      "pe\n",
      "te\n",
      "ke\n",
      "be\n",
      "de\n",
      "ge\n",
      "pi\n",
      "ti\n",
      "ki\n",
      "bi\n",
      "di\n",
      "gi\n",
      "po\n",
      "to\n",
      "ko\n",
      "bo\n",
      "do\n",
      "go\n",
      "pu\n",
      "tu\n",
      "ku\n",
      "bu\n",
      "du\n",
      "gu\n"
     ]
    }
   ],
   "source": [
    "for v in vowels:\n",
    "    for c in consonants:\n",
    "        print(c, v, sep='') # did you see this kind of printing already?"
   ]
  },
  {
   "cell_type": "markdown",
   "metadata": {},
   "source": [
    "How could we extend this to a CVC skeleton?"
   ]
  },
  {
   "cell_type": "code",
   "execution_count": null,
   "metadata": {},
   "outputs": [],
   "source": [
    "for v in vowels:\n",
    "    for o in consonants: # o for onset\n",
    "        for c in consonants: # c for coda\n",
    "            print(o, v, c, sep='')"
   ]
  },
  {
   "cell_type": "markdown",
   "metadata": {},
   "source": [
    "Now, let's exclude cases where the two consonants are the same (e.g. \"dod\" or \"bab\"). Can we use `continue` for this?"
   ]
  },
  {
   "cell_type": "code",
   "execution_count": null,
   "metadata": {},
   "outputs": [],
   "source": [
    "for v in vowels:\n",
    "    for o in consonants:\n",
    "        for c in consonants:\n",
    "            if o == c:\n",
    "                continue\n",
    "            print(o, v, c, sep='')"
   ]
  },
  {
   "cell_type": "markdown",
   "metadata": {},
   "source": [
    "*Million dollar question*: would it be wrong to use **break** here, instead of continue? Yes? No? Why?"
   ]
  }
 ],
 "metadata": {
  "kernelspec": {
   "display_name": "Python 3",
   "language": "python",
   "name": "python3"
  },
  "language_info": {
   "codemirror_mode": {
    "name": "ipython",
    "version": 3
   },
   "file_extension": ".py",
   "mimetype": "text/x-python",
   "name": "python",
   "nbconvert_exporter": "python",
   "pygments_lexer": "ipython3",
   "version": "3.8.5"
  }
 },
 "nbformat": 4,
 "nbformat_minor": 4
}
