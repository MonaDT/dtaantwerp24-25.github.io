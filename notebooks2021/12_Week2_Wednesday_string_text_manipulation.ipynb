{
 "cells": [
  {
   "cell_type": "markdown",
   "metadata": {},
   "source": [
    "# String Manipulation\n",
    "\n",
    "Staff : Joshua Schäuble <br>\n",
    "Support Material : [08_text_manipulation.ipynb](https://github.com/dtaantwerp/dtaantwerp.github.io/blob/master/exercises2021/08_text_manipulation.ipynb) <br/>\n",
    "Support Sessions :  Thursday October 7 <br>\n",
    "\n",
    "\n",
    "## 1. Introduction\n",
    "As we learned before, strings are a *data type* (other data types we looked at: `bool`, `int`, `float`, `tuple`, `list`, `dict`, ...). In this session we will learn how to manipulate strings by looking at two of their main characteristics: (1) Strings are ordered sequences of characters and (2) strings are so-called objects. The latter will be explained in detail only in week 3. However, we can already attempt to understand what it means in practice today.\n",
    "\n",
    "## 2. Strings as Sequences / Sequence Operations on Strings\n",
    "\n",
    "Strings are a sequential data type. A string is an ordered sequence of characters. We can use this characteristic to manipulate strings with **sequence operations**, some of which we have already used in previous sessions. For example, we can add strings together or multiply them. The most important sequence operations will be introduced here:\n",
    "\n",
    "### 2.1 Concatenating strings with `+`\n",
    "When applied to numbers (integer or float) the plus operator (`+`) processes a mathematical addition. When used on strings, the `+` operator concatenates two or more strings into a new one."
   ]
  },
  {
   "cell_type": "code",
   "execution_count": 2,
   "metadata": {},
   "outputs": [
    {
     "name": "stdout",
     "output_type": "stream",
     "text": [
      "Welcome Jane. How are you doing?\n"
     ]
    }
   ],
   "source": [
    "greeting = \"Welcome \"\n",
    "name = \"Jane\"\n",
    "sentence = \"How are you doing?\"\n",
    "\n",
    "all_together = greeting + name + \". \" + sentence\n",
    "print(all_together)"
   ]
  },
  {
   "cell_type": "markdown",
   "metadata": {},
   "source": [
    "### 2.2 Multiplying strings with `*` \n",
    "Although this is not used very often, strings can also be multiplied with the multiplication operator, which we also know from numerical data types:"
   ]
  },
  {
   "cell_type": "code",
   "execution_count": 3,
   "metadata": {},
   "outputs": [
    {
     "name": "stdout",
     "output_type": "stream",
     "text": [
      "Pete and Repeat are sitting in a room. Pete leaves. Who is left? Repeat. \n",
      "Pete and Repeat are sitting in a room. Pete leaves. Who is left? Repeat. \n",
      "Pete and Repeat are sitting in a room. Pete leaves. Who is left? Repeat. \n",
      "Pete and Repeat are sitting in a room. Pete leaves. Who is left? Repeat. \n",
      "Pete and Repeat are sitting in a room. Pete leaves. Who is left? Repeat. \n",
      "Pete and Repeat are sitting in a room. Pete leaves. Who is left? Repeat. \n",
      "Pete and Repeat are sitting in a room. Pete leaves. Who is left? Repeat. \n",
      "Pete and Repeat are sitting in a room. Pete leaves. Who is left? Repeat. \n",
      "Pete and Repeat are sitting in a room. Pete leaves. Who is left? Repeat. \n",
      "Pete and Repeat are sitting in a room. Pete leaves. Who is left? Repeat. \n",
      "Pete and Repeat are sitting in a room. Pete leaves. Who is left? Repeat. \n",
      "Pete and Repeat are sitting in a room. Pete leaves. Who is left? Repeat. \n",
      "Pete and Repeat are sitting in a room. Pete leaves. Who is left? Repeat. \n",
      "Pete and Repeat are sitting in a room. Pete leaves. Who is left? Repeat. \n",
      "Pete and Repeat are sitting in a room. Pete leaves. Who is left? Repeat. \n",
      "Pete and Repeat are sitting in a room. Pete leaves. Who is left? Repeat. \n",
      "Pete and Repeat are sitting in a room. Pete leaves. Who is left? Repeat. \n",
      "Pete and Repeat are sitting in a room. Pete leaves. Who is left? Repeat. \n",
      "Pete and Repeat are sitting in a room. Pete leaves. Who is left? Repeat. \n",
      "Pete and Repeat are sitting in a room. Pete leaves. Who is left? Repeat. \n",
      "\n"
     ]
    }
   ],
   "source": [
    "pete_and_repeat = \"Pete and Repeat are sitting in a room. Pete leaves. Who is left? Repeat. \\n\"\n",
    "eternity = 20 * pete_and_repeat\n",
    "print (eternity)"
   ]
  },
  {
   "cell_type": "markdown",
   "metadata": {},
   "source": [
    "Can you guess what will be printed by executing the block below?"
   ]
  },
  {
   "cell_type": "code",
   "execution_count": 6,
   "metadata": {},
   "outputs": [
    {
     "name": "stdout",
     "output_type": "stream",
     "text": [
      "ababcababcababc\n"
     ]
    }
   ],
   "source": [
    "char1 = \"a\"\n",
    "char2 = \"b\"\n",
    "char3 = \"c\"\n",
    "print(3*(2*(char1+char2)+char3))"
   ]
  },
  {
   "cell_type": "markdown",
   "metadata": {},
   "source": [
    "### 2.3 Slicing Strings via the Character Index\n",
    "\n",
    "Strings are ordered sequences of characters. This means, every character of the sequence has a position or index. The index starts at 0 and increases from left to right.\n",
    "\n",
    "| mytext =  | \" | H | e | l | l | o |   | W | o | r | l | d  | \" |\n",
    "|-----------|---|---|---|---|---|---|---|---|---|---|---|----|---|\n",
    "| Index     |   | 0 | 1 | 2 | 3 | 4 | 5 | 6 | 7 | 8 | 9 | 10 |   |\n",
    "\n",
    "The following examples will show how we can cut out slices of a string by using the index."
   ]
  },
  {
   "cell_type": "code",
   "execution_count": 7,
   "metadata": {},
   "outputs": [
    {
     "name": "stdout",
     "output_type": "stream",
     "text": [
      "H\n",
      "Hello\n",
      "World\n",
      "Wrd\n",
      "llo World\n"
     ]
    }
   ],
   "source": [
    "mytext = \"Hello World\"\n",
    "print (mytext[0]) # H\n",
    "print (mytext[0:5]) # Hello       note: the last character that is printed is the index 4 (not 5!)\n",
    "print (mytext[6:11]) # World      note: the last character that is printed is the index 10 (there is no 11!)\n",
    "print (mytext[6:11:2]) # character 6 to 11, but only every second character: Wrd\n",
    "print (mytext[2:]) # read 2 until end"
   ]
  },
  {
   "cell_type": "markdown",
   "metadata": {},
   "source": [
    "We can also access the index from right to left. The last index position is always [-1].\n",
    "\n",
    "| mytext =  | \" | H   | e   | l  | l  | o  |    | W  | o  | r  | l  | d  | \" |\n",
    "|-----------|---|-----|-----|----|----|----|----|----|----|----|----|----|---|\n",
    "| Index     |   | -11 | -10 | -9 | -8 | -7 | -6 | -5 | -4 | -3 | -2 | -1 |   |"
   ]
  },
  {
   "cell_type": "code",
   "execution_count": 8,
   "metadata": {},
   "outputs": [
    {
     "name": "stdout",
     "output_type": "stream",
     "text": [
      "d\n",
      "Worl\n",
      "World\n"
     ]
    }
   ],
   "source": [
    "print (mytext[-1])\n",
    "print (mytext[-5:-1]) # note: the last character printed is the index -2!\n",
    "print (mytext[-5:])"
   ]
  },
  {
   "cell_type": "markdown",
   "metadata": {},
   "source": [
    "Note:\n",
    "- Take care! Don't access none-existing negative indexes.  `print (mytext[-15])` will cause an error!\n",
    "- We can only use the index to access the sequence, but not to alter it directly:"
   ]
  },
  {
   "cell_type": "code",
   "execution_count": 9,
   "metadata": {},
   "outputs": [
    {
     "ename": "TypeError",
     "evalue": "'str' object does not support item assignment",
     "output_type": "error",
     "traceback": [
      "\u001b[0;31m---------------------------------------------------------------------------\u001b[0m",
      "\u001b[0;31mTypeError\u001b[0m                                 Traceback (most recent call last)",
      "\u001b[0;32m<ipython-input-9-f9f9dc7a61f7>\u001b[0m in \u001b[0;36m<module>\u001b[0;34m\u001b[0m\n\u001b[1;32m      1\u001b[0m \u001b[0mmyword\u001b[0m \u001b[0;34m=\u001b[0m \u001b[0;34m\"mouse\"\u001b[0m\u001b[0;34m\u001b[0m\u001b[0;34m\u001b[0m\u001b[0m\n\u001b[0;32m----> 2\u001b[0;31m \u001b[0mmyword\u001b[0m\u001b[0;34m[\u001b[0m\u001b[0;36m0\u001b[0m\u001b[0;34m]\u001b[0m \u001b[0;34m=\u001b[0m \u001b[0;34m\"h\"\u001b[0m\u001b[0;34m\u001b[0m\u001b[0;34m\u001b[0m\u001b[0m\n\u001b[0m\u001b[1;32m      3\u001b[0m \u001b[0mprint\u001b[0m \u001b[0;34m(\u001b[0m\u001b[0mmyword\u001b[0m\u001b[0;34m)\u001b[0m  \u001b[0;31m# error! to replace the m with an h, use a string method (see below, e.g. str.replace())\u001b[0m\u001b[0;34m\u001b[0m\u001b[0;34m\u001b[0m\u001b[0m\n",
      "\u001b[0;31mTypeError\u001b[0m: 'str' object does not support item assignment"
     ]
    }
   ],
   "source": [
    "myword = \"mouse\"\n",
    "myword[0] = \"h\"\n",
    "print (myword)  # error! to replace the m with an h, use a string method (see below, e.g. str.replace())"
   ]
  },
  {
   "cell_type": "markdown",
   "metadata": {},
   "source": [
    "### 2.4 The functions `len(string)`, `min(string)` and `max(string)`\n",
    "The function `len(string)` takes a string as an argument and returns the length (= number of characters) of the string as an integer:"
   ]
  },
  {
   "cell_type": "code",
   "execution_count": 11,
   "metadata": {},
   "outputs": [
    {
     "data": {
      "text/plain": [
       "11"
      ]
     },
     "execution_count": 11,
     "metadata": {},
     "output_type": "execute_result"
    }
   ],
   "source": [
    "catbreed = \"Siamese Cat\"\n",
    "len(catbreed) # note: the whitespace is also counted! "
   ]
  },
  {
   "cell_type": "markdown",
   "metadata": {},
   "source": [
    "The function min(string) returns the smallest character of the string. Correspondingly, the function max(string) returns the largest character in the string. \n",
    "\n",
    "The order (small to large) is: special characters --> numbers --> capital letters A-Z -> lowercase letters a-z"
   ]
  },
  {
   "cell_type": "code",
   "execution_count": 12,
   "metadata": {},
   "outputs": [
    {
     "name": "stdout",
     "output_type": "stream",
     "text": [
      "B\n",
      "y\n",
      "!\n",
      " \n",
      "w\n"
     ]
    }
   ],
   "source": [
    "word1 = \"Baby\"\n",
    "print (min(word1)) # B\n",
    "print (max(word1)) # y\n",
    "word1 += \"!\"\n",
    "print (min(word1)) # !\n",
    "\n",
    "mysentence = \"These 11 apes ran down the street!\"\n",
    "print( min(mysentence) ) # whitespace!\n",
    "print( max(mysentence) ) # w\n"
   ]
  },
  {
   "cell_type": "markdown",
   "metadata": {},
   "source": [
    "### 2.5 The comparison operators `in` and `not in`\n",
    "\n",
    "With the operators `in` and `not in` we can test if a character or string is (not) included in another string. The comparison returns a boolean value (*True* or *False*)"
   ]
  },
  {
   "cell_type": "code",
   "execution_count": 13,
   "metadata": {},
   "outputs": [
    {
     "name": "stdout",
     "output_type": "stream",
     "text": [
      "True\n",
      "False\n",
      "False\n",
      "True\n"
     ]
    }
   ],
   "source": [
    "word = \"death\"\n",
    "print (\"eat\" in word)      #True\n",
    "print (\"eat\" not in word)  #False\n",
    "print (\"cat\" in word)      #False\n",
    "print (\"cat\" not in word)  #True"
   ]
  },
  {
   "cell_type": "markdown",
   "metadata": {},
   "source": [
    "## 3. Strings as Objects: Manipulating Strings with *Object-Methods*"
   ]
  },
  {
   "cell_type": "markdown",
   "metadata": {},
   "source": [
    "Strings are *objects*. To understand objects, we need more concepts than we currently know. Hence, we will only learn in week 3 what precisely objects are. However, in this lecture we can already try to understand string objects simply by using them.  \n",
    "\n",
    "Each instance of an object (here: each *string*) has predefined object functions (so-called *methods*) attached to it. These methods can be used to get information about the object and to manipulate the object. \n",
    "\n",
    "In comparison to normal functions (such as `print(string)` and `len(string)`), methods are always attached to a specific instance of the object. Therefore, the object does not need to be passed into the function as a parameter (as we would do in `print(string)`). Instead, it is called for a specific instance (this will get clear in a moment).\n",
    "\n",
    "To explain the difference between a normal function and a method, we can use the following methaphor. A normal function is like a speed camera at the side of the road. It detects the speed of any car with speed sensors. It generally works on all cars, but not on animals that pass the camera. A method on the other hand is like the speedometer of a specific car. It also measures the speed, but only of the specific car (= object) it is connected to. Every car object has its own speedometer attached to it.\n",
    "\n",
    "Following the same logic, string objects have specific methods attached to them. A selection of these methods will be introduced here.\n"
   ]
  },
  {
   "cell_type": "markdown",
   "metadata": {},
   "source": [
    "### 3.1 String.format()\n",
    "The method `string.format()` allows to add placeholders to a string and fill them on demand."
   ]
  },
  {
   "cell_type": "code",
   "execution_count": 14,
   "metadata": {},
   "outputs": [
    {
     "name": "stdout",
     "output_type": "stream",
     "text": [
      "please enter your name: m\n",
      "Hello m, welcome to my website!\n"
     ]
    }
   ],
   "source": [
    "name = input(\"please enter your name: \")\n",
    "welcome = \"Hello {0}, welcome to my website!\".format(name)\n",
    "print(welcome)"
   ]
  },
  {
   "cell_type": "code",
   "execution_count": 15,
   "metadata": {},
   "outputs": [
    {
     "name": "stdout",
     "output_type": "stream",
     "text": [
      "Please enter your name: d\n",
      "Please enter your age: d\n",
      "Hello d. You are d years old, right? You are the only d I know, who is d years old\n"
     ]
    }
   ],
   "source": [
    "name = input(\"Please enter your name: \")\n",
    "age = input(\"Please enter your age: \")\n",
    "welcome = \"Hello {0}. You are {1} years old, right? You are the only {0} I know, who is {1} years old\".format(name,age)\n",
    "\n",
    "print(welcome)"
   ]
  },
  {
   "cell_type": "markdown",
   "metadata": {},
   "source": [
    "Note: `string.format()` accepts integers and automatically transforms them into strings (= type casting). This does not work with the plus operator we learned above:"
   ]
  },
  {
   "cell_type": "code",
   "execution_count": 20,
   "metadata": {},
   "outputs": [],
   "source": [
    "my_name = \"Peter\"  # type: string\n",
    "my_age = 65  # type: integer"
   ]
  },
  {
   "cell_type": "code",
   "execution_count": 21,
   "metadata": {},
   "outputs": [
    {
     "ename": "NameError",
     "evalue": "name 'myName' is not defined",
     "output_type": "error",
     "traceback": [
      "\u001b[0;31m---------------------------------------------------------------------------\u001b[0m",
      "\u001b[0;31mNameError\u001b[0m                                 Traceback (most recent call last)",
      "\u001b[0;32m<ipython-input-21-bff698fc019b>\u001b[0m in \u001b[0;36m<module>\u001b[0;34m\u001b[0m\n\u001b[1;32m      1\u001b[0m \u001b[0;31m# this does not work! we need to explicitely transform the integer myAge to string with str(myAge)\u001b[0m\u001b[0;34m\u001b[0m\u001b[0;34m\u001b[0m\u001b[0;34m\u001b[0m\u001b[0m\n\u001b[0;32m----> 2\u001b[0;31m \u001b[0mwelcome\u001b[0m \u001b[0;34m=\u001b[0m \u001b[0;34m\"Hallo \"\u001b[0m \u001b[0;34m+\u001b[0m \u001b[0mmyName\u001b[0m \u001b[0;34m+\u001b[0m \u001b[0;34m\". You are \"\u001b[0m \u001b[0;34m+\u001b[0m \u001b[0mmyAge\u001b[0m \u001b[0;34m+\u001b[0m \u001b[0;34m\" years old.\"\u001b[0m\u001b[0;34m\u001b[0m\u001b[0;34m\u001b[0m\u001b[0m\n\u001b[0m",
      "\u001b[0;31mNameError\u001b[0m: name 'myName' is not defined"
     ]
    }
   ],
   "source": [
    "# this does not work! we need to explicitely transform the integer myAge to string with str(myAge)\n",
    "welcome = \"Hallo \" + myName + \". You are \" + myAge + \" years old.\" "
   ]
  },
  {
   "cell_type": "code",
   "execution_count": 22,
   "metadata": {},
   "outputs": [
    {
     "ename": "NameError",
     "evalue": "name 'myName' is not defined",
     "output_type": "error",
     "traceback": [
      "\u001b[0;31m---------------------------------------------------------------------------\u001b[0m",
      "\u001b[0;31mNameError\u001b[0m                                 Traceback (most recent call last)",
      "\u001b[0;32m<ipython-input-22-df9c7e1b624a>\u001b[0m in \u001b[0;36m<module>\u001b[0;34m\u001b[0m\n\u001b[1;32m      1\u001b[0m \u001b[0;31m# this however works without explicitly casting the integer to a string:\u001b[0m\u001b[0;34m\u001b[0m\u001b[0;34m\u001b[0m\u001b[0;34m\u001b[0m\u001b[0m\n\u001b[0;32m----> 2\u001b[0;31m \u001b[0mwelcome2\u001b[0m \u001b[0;34m=\u001b[0m \u001b[0;34m\"Hally {0}. You are {1} years old\"\u001b[0m\u001b[0;34m.\u001b[0m\u001b[0mformat\u001b[0m\u001b[0;34m(\u001b[0m\u001b[0mmyName\u001b[0m\u001b[0;34m,\u001b[0m \u001b[0mmyAge\u001b[0m\u001b[0;34m)\u001b[0m\u001b[0;34m\u001b[0m\u001b[0;34m\u001b[0m\u001b[0m\n\u001b[0m\u001b[1;32m      3\u001b[0m \u001b[0mprint\u001b[0m\u001b[0;34m(\u001b[0m\u001b[0mwelcome2\u001b[0m\u001b[0;34m)\u001b[0m\u001b[0;34m\u001b[0m\u001b[0;34m\u001b[0m\u001b[0m\n",
      "\u001b[0;31mNameError\u001b[0m: name 'myName' is not defined"
     ]
    }
   ],
   "source": [
    "# this however works without explicitly casting the integer to a string:\n",
    "welcome2 = \"Hally {0}. You are {1} years old\".format(myName, myAge)\n",
    "print(welcome2)"
   ]
  },
  {
   "cell_type": "markdown",
   "metadata": {},
   "source": [
    "### 3.2 string.count(substring)\n",
    "`string.count(substring)` allows us to count how often a given substring occurs in the string:"
   ]
  },
  {
   "cell_type": "code",
   "execution_count": 23,
   "metadata": {},
   "outputs": [
    {
     "name": "stdout",
     "output_type": "stream",
     "text": [
      "The word butterpot contains 3 times 't' and 1 times 'tt'.\n"
     ]
    }
   ],
   "source": [
    "myword = \"butterpot\"\n",
    "countTs = myword.count(\"t\")\n",
    "countTTs = myword.count(\"tt\")\n",
    "print (\"The word {0} contains {1} times 't' and {2} times 'tt'.\".format(myword,countTs, countTTs))"
   ]
  },
  {
   "cell_type": "code",
   "execution_count": 24,
   "metadata": {},
   "outputs": [
    {
     "name": "stdout",
     "output_type": "stream",
     "text": [
      "3\n"
     ]
    }
   ],
   "source": [
    "myText = \"Paranoids are not paranoid because they’re paranoid, but because they keep putting themselves deliberately into paranoid situations.\"\n",
    "print (myText.count(\"paranoid\"))"
   ]
  },
  {
   "cell_type": "markdown",
   "metadata": {},
   "source": [
    "### 3.3 `String.replace(what, with)` and `String.replace(what, with, count)`\n",
    "`string.replace()` allows us to replace selected parts of a string with another string. We can either replace all occurances or a define a maximum number."
   ]
  },
  {
   "cell_type": "code",
   "execution_count": 25,
   "metadata": {},
   "outputs": [
    {
     "name": "stdout",
     "output_type": "stream",
     "text": [
      "Darth\n"
     ]
    }
   ],
   "source": [
    "my_text = \"Death\"\n",
    "new_text = my_text.replace(\"eat\", \"art\")\n",
    "print (new_text)"
   ]
  },
  {
   "cell_type": "code",
   "execution_count": 26,
   "metadata": {},
   "outputs": [
    {
     "name": "stdout",
     "output_type": "stream",
     "text": [
      "Humphmphy Hamphry! We are late\n"
     ]
    }
   ],
   "source": [
    "my_text = \"Hurry Harry! We are late\"\n",
    "print(my_text.replace(\"r\",\"mph\",3))  # the first 3 r's are replaced by mph"
   ]
  },
  {
   "cell_type": "markdown",
   "metadata": {},
   "source": [
    "### 3.4 Find the index of a substring:  `string.find()`, `string.rfind()` (and `string.index()`)\n",
    "Sometimes it is useful to identify where within a string we find a given substring. To identify the index (= position), we can use the methods `string.find(what)` and `string.rfind(what)`. \n",
    "\n",
    "- `string.find(what)` returns the lowest index of the string *what* in the *string*. If *what* is not found, it returns -1.\n",
    "\n",
    "- `string.rfind(what)` returns the highest index of the string *what* in the *string*. If *what* is not found, it returns -1."
   ]
  },
  {
   "cell_type": "code",
   "execution_count": 28,
   "metadata": {},
   "outputs": [
    {
     "name": "stdout",
     "output_type": "stream",
     "text": [
      "4\n",
      "8\n",
      "-1\n"
     ]
    }
   ],
   "source": [
    "my_word = \"Butterbeer\"\n",
    "print (my_word.find(\"e\"))  # index of first e in myWord\n",
    "print (my_word.rfind(\"e\")) # index of last e in myWord\n",
    "print (my_word.find(\"q\"))  # there is no q in my butterbeer!"
   ]
  },
  {
   "cell_type": "markdown",
   "metadata": {},
   "source": [
    "Equally, we can use `string.index(what)` and `string.rindex(what)`. However,these two functions return an error if the searched substring is not found.\n",
    "\n",
    "> *Tip*: Only use these two, if you are certain that the substring occurs in the string, or if you add error-handling (`try`-`except` - covered later in the course)."
   ]
  },
  {
   "cell_type": "markdown",
   "metadata": {},
   "source": [
    "### 3.5 Cases: Switch from uppercase to lowercase\n",
    "\n",
    "Python provides a serious of methods for strings to change cases:\n",
    "\n",
    "- `string:capitalize()`: changes the first character of the string to uppercase\n",
    "- `string:title()`: changes the first character of **each word** to uppercase\n",
    "- `string:upper()`: changes all characters of the string to uppercase\n",
    "- `string:lower()`: changes all characters of the string to lowercase\n",
    "- `string:swapcase()`: changes the case of all characters - uppercase to lowercase and vice versa\n",
    "- `string:casefold()`: more aggressive lowercase-transformation for special characters, e.g. German ß --> ss. This function is useful to test if two strings differ only in their cases."
   ]
  },
  {
   "cell_type": "code",
   "execution_count": 29,
   "metadata": {},
   "outputs": [
    {
     "name": "stdout",
     "output_type": "stream",
     "text": [
      "These 11 apes ran down the street!\n",
      "These 11 Apes Ran Down The Street!\n",
      "These 11 apes ran down the street!\n",
      "these 11 apes ran down the street!\n",
      "These 11 apes ran down the street!\n",
      "tHESE 11 APES RAN DOWN THE STREET!\n",
      "Fluß and fluss are basically the same.\n"
     ]
    }
   ],
   "source": [
    "my_sentence = \"this is a sentence.\"\n",
    "print(mysentence.capitalize())  # This is a sentence.\n",
    "print(mysentence.title())       # This Is A Sentence.\n",
    "\n",
    "my_sentence = my_sentence.upper()\n",
    "print(mysentence) # THIS IS A SENTENCE.\n",
    "print(mysentence.lower()) # this is a sentence.\n",
    "\n",
    "my_sentence = my_sentence.title() # This Is A Sentence.\n",
    "print (mysentence) # This Is A Sentence.\n",
    "print(mysentence.swapcase()) #tHIS iS a sENTENCE.\n",
    "\n",
    "german_word = \"Fluß\"\n",
    "german_word2 = \"fluss\"\n",
    "print (\"{0} and {1} are basically the same.\".format(german_word, german_word2)) if german_word.casefold() == german_word2.casefold() else print(\"the two words are different.\")"
   ]
  },
  {
   "cell_type": "markdown",
   "metadata": {},
   "source": [
    "***Additionally***, there are some methods to check what case the string is in. These methods return `True` or `False`, i.e. a boolean:\n",
    "\n",
    "- `string.islower()`: returns `True` if all characters are lowercase.\n",
    "- `string.isupper()`: returns `True` if all characters are uppercase.\n",
    "- `string.isTitle()`: returns `True` if the first character of each word is uppercase and all other characters are lowercase."
   ]
  },
  {
   "cell_type": "code",
   "execution_count": 31,
   "metadata": {},
   "outputs": [
    {
     "name": "stdout",
     "output_type": "stream",
     "text": [
      "True\n",
      "False\n",
      "False\n"
     ]
    }
   ],
   "source": [
    "print( \"this is a sentence\".islower()) #True\n",
    "print( \"this is A sentence\".islower()) #False\n",
    "print( \"this is a sentEnce\".islower()) #False"
   ]
  },
  {
   "cell_type": "code",
   "execution_count": 32,
   "metadata": {},
   "outputs": [
    {
     "name": "stdout",
     "output_type": "stream",
     "text": [
      "True\n",
      "False\n",
      "False\n"
     ]
    }
   ],
   "source": [
    "print( \"THIS IS A SENTENCE\".isupper()) #True\n",
    "print( \"This Is A Sentence\".islower()) #False\n",
    "print( \"THIS IS A FLUß\".islower()) #False  --> ß is considered lower-case, but there is no uppercase ß"
   ]
  },
  {
   "cell_type": "code",
   "execution_count": 33,
   "metadata": {},
   "outputs": [
    {
     "name": "stdout",
     "output_type": "stream",
     "text": [
      "True\n",
      "False\n",
      "False\n"
     ]
    }
   ],
   "source": [
    "print( \"This Is A Sentence\".istitle()) #True\n",
    "print( \"This Is a Sentence\".istitle()) #False\n",
    "print( \"THIS IS A SENTENCE\".istitle()) #False"
   ]
  },
  {
   "cell_type": "markdown",
   "metadata": {},
   "source": [
    "### 3.6 Handling Whitespaces\n",
    "Whitespaces are often a problem. For example, if we want to compare if two strings are the same - except for double whitespaces and linebreaks. To handle such whitespace problems, Python provides a series of string methods.\n",
    "\n",
    "- `string.strip()`: removes whitespaces at the beginning AND end of a string\n",
    "- `string.lstrip()`: removes whitespaces at the beginning (l for left) of the string\n",
    "- `string.rstrip()`: removes whitespaces at the end (r for right) ot the string"
   ]
  },
  {
   "cell_type": "code",
   "execution_count": 34,
   "metadata": {},
   "outputs": [
    {
     "name": "stdout",
     "output_type": "stream",
     "text": [
      " This is a string. And another one.\n",
      "This is a string.And another one.\n",
      "This is a string. And another one.\n",
      " This is a string.And another one.\n"
     ]
    }
   ],
   "source": [
    "print (\" This is a string. \"           + \"And another one.\") \n",
    "print (\" This is a string. \".strip()   + \"And another one.\")\n",
    "print (\" This is a string. \".lstrip()  + \"And another one.\")\n",
    "print (\" This is a string. \".rstrip()  + \"And another one.\")"
   ]
  },
  {
   "cell_type": "markdown",
   "metadata": {},
   "source": [
    "Equally, we can add whitespaces at the beginning and/or end of a string, until it has a desired length. This can be useful to format our output.\n",
    "\n",
    "- `string.center(length)`: adds whitespaces at the beginning AND end of a string, until the string has stringLength\n",
    "- `string.ljust(length)`: adds (howmany) whitespace at the beginning (l for left) of the string\n",
    "- `string.rjust(length)`: adds (howmany) whitespace at the end (r for right) ot the string\n",
    "\n",
    "In the following example 2 sentences are printed several times. Note how the first sentence is extended with whitespaces and how this indents the second sentence neatly to always start at the same position. "
   ]
  },
  {
   "cell_type": "code",
   "execution_count": 35,
   "metadata": {},
   "outputs": [
    {
     "name": "stdout",
     "output_type": "stream",
     "text": [
      "This is a string. And another one.\n",
      "    This is a string.     And another one.\n",
      "This is a string.         And another one.\n",
      "        This is a string. And another one.\n"
     ]
    }
   ],
   "source": [
    "print (\"This is a string.\"             + \" And another one.\") # The first part \"This is a string.\" has 17 characters!\n",
    "print (\"This is a string.\".center(25)  + \" And another one.\") # add 8 whitespaces (25-17=4). 4 at the beginning, 4 at the end\n",
    "print (\"This is a string.\".ljust(25)   + \" And another one.\") # add 8 whitespaces (25-17=4). All 8 at the end.\n",
    "print (\"This is a string.\".rjust(25)   + \" And another one.\") # add 8 whitespaces (25-17=4). All 8 at the beginning."
   ]
  },
  {
   "cell_type": "markdown",
   "metadata": {},
   "source": [
    "Optionally, we can give a second parameter on these 3 functions, to customize which character is added (instead of a whitespace). Here are the same 4 prints again, but with an underscore \"_\" as a delimiter:"
   ]
  },
  {
   "cell_type": "code",
   "execution_count": 36,
   "metadata": {},
   "outputs": [
    {
     "name": "stdout",
     "output_type": "stream",
     "text": [
      "This is a string. And another one.\n",
      "____This is a string.____ And another one.\n",
      "This is a string.________ And another one.\n",
      "________This is a string. And another one.\n"
     ]
    }
   ],
   "source": [
    "print (\"This is a string.\"                  + \" And another one.\") # The first part \"This is a string.\" has 17 characters!\n",
    "print (\"This is a string.\".center(25, \"_\")  + \" And another one.\") # add 8 _ (25-17=4). 4 at the beginning, 4 at the end\n",
    "print (\"This is a string.\".ljust(25, \"_\")   + \" And another one.\") # add 8 _ (25-17=4). All 8 at the end.\n",
    "print (\"This is a string.\".rjust(25, \"_\")   + \" And another one.\") # add 8 _ (25-17=4). All 8 at the beginning."
   ]
  },
  {
   "cell_type": "markdown",
   "metadata": {},
   "source": [
    "### 3.7 Leading Zeros when Printing Numbers as Strings:\n",
    "To print numbers, we must convert them into strings. Often we want to add leading zeros for a better looking format. This can be achieved with the method `string.zfill(width)`"
   ]
  },
  {
   "cell_type": "code",
   "execution_count": 37,
   "metadata": {},
   "outputs": [
    {
     "name": "stdout",
     "output_type": "stream",
     "text": [
      "enter a number: k\n",
      "enter another number:j9\n",
      "0000000k\n",
      "000000j9\n"
     ]
    }
   ],
   "source": [
    "number1 = input(\"enter a number: \").strip()\n",
    "number2 = input(\"enter another number:\").strip()\n",
    "\n",
    "print(number1.zfill(8))\n",
    "print(number2.zfill(8))"
   ]
  },
  {
   "cell_type": "markdown",
   "metadata": {},
   "source": [
    "A common way of using this, is to first identify the length of the highest number of a set (tuple, list or dictionary), and then to add leading zeros to all numbers according to the highest number's length."
   ]
  },
  {
   "cell_type": "code",
   "execution_count": 38,
   "metadata": {},
   "outputs": [
    {
     "name": "stdout",
     "output_type": "stream",
     "text": [
      "The highest number is: 923681233\n",
      "000012312\n",
      "000000765\n",
      "001233212\n",
      "000000023\n",
      "923681233\n",
      "015613183\n",
      "000000008\n",
      "000345345\n",
      "000000043\n"
     ]
    }
   ],
   "source": [
    "#a list of random numbers (feel free to add more)\n",
    "list_of_numbers = [12312,765,1233212,23,923681233,15613183,8,345345,43]\n",
    "\n",
    "#identify the highest number in the list with the function max(integer)\n",
    "highest_number = max(list_of_numbers)\n",
    "print(\"The highest number is: \" + str(highest_number)) # highestNumber must be converted into string!\n",
    "\n",
    "#identify the length (number of characters) of this number\n",
    "length_of_highest_number = len(str(highest_number)) # length of highestNumber as a string\n",
    "\n",
    "# run over all numbers in the list:\n",
    "for number in list_of_numbers:\n",
    "    # turn them into a string, fill them with leading 0s until they reach the length of the highest number:\n",
    "    print(str(number).zfill(length_of_highest_number))"
   ]
  },
  {
   "cell_type": "markdown",
   "metadata": {},
   "source": [
    "### 3.8 What's in the String? Inspecting Numeric and Alphabetical Strings\n",
    "\n",
    "With the following functions we can inspect our strings to a certain degree. For more complex tests we will learn so-called regular expressions at a later stage.\n",
    "\n",
    "- `string.isdigit()`: returns `True` if the string contains only the digits 0,1,2,3,4,5,6,7,8 and 9 (but also in supscript)"
   ]
  },
  {
   "cell_type": "code",
   "execution_count": 40,
   "metadata": {},
   "outputs": [
    {
     "name": "stdout",
     "output_type": "stream",
     "text": [
      "False\n",
      "False\n",
      "False\n",
      "False\n",
      "False\n",
      "False\n",
      "True\n",
      "True\n",
      "True\n"
     ]
    }
   ],
   "source": [
    "print(\"5 apples\".isdigit()) # False\n",
    "print(\"5 32 34\".isdigit())  # False\n",
    "print(\"532.34\".isdigit())   # False\n",
    "print(\"532,34\".isdigit())   # False\n",
    "print(\" 53234 \".isdigit())  # False --> leading whitespaces!\n",
    "\n",
    "print(\"一二三四五\".isdigit()) # False --> these are Chinese numbers\n",
    "\n",
    "print(\"53234\".isdigit())    # True\n",
    "print(\"053234\".isdigit())   # True\n",
    "\n",
    "print(\"2²\".isdigit())       # True --> 2nd power of 2 (the subscript 2) is considered a digit!"
   ]
  },
  {
   "cell_type": "markdown",
   "metadata": {},
   "source": [
    "- `string.isnumeric()`: very similar to `string.isdigit()`, but it also considers numeric characters in other languages, such as the Chinese characters 一，二，三，四， 五...  Note: for English/Dutch writing `string.isdigit()` usually does the trick!"
   ]
  },
  {
   "cell_type": "code",
   "execution_count": 41,
   "metadata": {},
   "outputs": [
    {
     "name": "stdout",
     "output_type": "stream",
     "text": [
      "False\n",
      "False\n",
      "False\n",
      "False\n",
      "False\n",
      "True\n",
      "True\n",
      "True\n",
      "True\n"
     ]
    }
   ],
   "source": [
    "print(\"5 apples\".isnumeric())    #False\n",
    "print(\"5 32 34\".isnumeric())     #False\n",
    "print(\"532.34\".isnumeric())      #False\n",
    "print(\"532,34\".isnumeric())      #False\n",
    "print(\" 53234 \".isnumeric())     #False --> leading whitespaces!\n",
    "\n",
    "print(\"53234\".isnumeric())       #True\n",
    "\n",
    "print(\"一二三四五\".isnumeric())   #True\n",
    "print(\"一二三四五23\".isnumeric()) #True --> Take care, this number is dubious, but the method does not care!\n",
    "\n",
    "print(\"2²\".isnumeric())         #True --> 2nd power of 2 (the subscript 2) is considered numeric!"
   ]
  },
  {
   "cell_type": "markdown",
   "metadata": {},
   "source": [
    "To make the confusion complete, there is a third method to check if a string contains numbers:\n",
    "- `string.isdecimal()`: Returns true ONLY for the digits 0,1,2,3,4,5,6,7,8 and 9 and NO subscritps!"
   ]
  },
  {
   "cell_type": "code",
   "execution_count": 100,
   "metadata": {},
   "outputs": [
    {
     "name": "stdout",
     "output_type": "stream",
     "text": [
      "True\n",
      "False\n",
      "False\n"
     ]
    }
   ],
   "source": [
    "print(\"22\".isdecimal())   #True\n",
    "print(\"2²\".isdecimal())   #False  (string.isnumeric() and string.isdigit are True here!)\n",
    "print(\"三四\".isdecimal()) #False  (string.isnumeric() is True here, string.isDigit() is also false here!)"
   ]
  },
  {
   "cell_type": "markdown",
   "metadata": {},
   "source": [
    "- `string.isalnum()`: Returns true if the string contains only alphabetical characters and/or numbers\n",
    "- `string.isalpha()`: Returns true if the string contains only alphabetical characters"
   ]
  },
  {
   "cell_type": "code",
   "execution_count": 90,
   "metadata": {},
   "outputs": [
    {
     "name": "stdout",
     "output_type": "stream",
     "text": [
      "False\n",
      "True\n"
     ]
    }
   ],
   "source": [
    "print(\"7 eagles flew over the 3 mountains\".isalnum()) # False --> whitespace is neither alphabetical nor numeric\n",
    "print(\"7eaglesflewoverthe3mountains\".isalnum())       # True"
   ]
  },
  {
   "cell_type": "code",
   "execution_count": 42,
   "metadata": {},
   "outputs": [
    {
     "name": "stdout",
     "output_type": "stream",
     "text": [
      "False\n",
      "False\n",
      "True\n"
     ]
    }
   ],
   "source": [
    "print(\"7 eagles flew over the 3 mountains\".isalpha())   # False --> whitespace is not alphabetical\n",
    "print(\"7eaglesflewoverthe3mountains\".isalpha())         # False --> 7 and 3 are not alphabetical\n",
    "print(\"seveneaglesflewoverthethreemountains\".isalpha()) # True"
   ]
  },
  {
   "cell_type": "markdown",
   "metadata": {},
   "source": [
    "### 3.9 Splitting Strings into Lists\n",
    "\n",
    "Often we want to split a string into a list (and process them e.g. into dictionaries or dataframes). This is the basis to tokenize texts, e.g. to count all words, to normalize them, find word stems, and word frequency distributions (most/least common words). The simplest way to turn a string into a list of word tokens is by splitting the string at all whitespace characters (not a perfect solution!):\n",
    "\n",
    "- `string.split()`: Splits a string into a list, with whitespace as a default delimiter\n",
    "- `string.split(\",\")`: Use the comma as a delimiter to split the string"
   ]
  },
  {
   "cell_type": "code",
   "execution_count": 43,
   "metadata": {},
   "outputs": [
    {
     "name": "stdout",
     "output_type": "stream",
     "text": [
      "['However,', 'the', 'cat', 'was', 'sad.']\n",
      "However,\n"
     ]
    }
   ],
   "source": [
    "my_sentence = \"However, the cat was sad.\"\n",
    "word_list = my_sentence.split()\n",
    "print(word_list)\n",
    "print(word_list[0]) # note: the word contains the comma!\n"
   ]
  },
  {
   "cell_type": "code",
   "execution_count": 44,
   "metadata": {},
   "outputs": [
    {
     "name": "stdout",
     "output_type": "stream",
     "text": [
      "['However', ' the cat was sad.']\n",
      "However\n",
      " the cat was sad.\n"
     ]
    }
   ],
   "source": [
    "my_sentence = \"However, the cat was sad.\"\n",
    "word_list = my_sentence.split(\",\")\n",
    "print(word_list)\n",
    "print(word_list[0]) # note: The list has only 2 elements.\n",
    "print(word_list[1]) #      The second element has a leading whitespace!"
   ]
  },
  {
   "cell_type": "markdown",
   "metadata": {},
   "source": [
    "Sometimes we want to split a string into 3 parts: a part *before* a certain word/phrase, the phrase, and the part: *after* the phrase. This can be achieved with \n",
    "\n",
    "- `string.partition(separatingString)`: splits a string into a 3-item tuple at the first occurence of the separatingString\n",
    "- `string.rpartition(separatingString)`: splits a string into a 3-item tuple at the last occurence of the separatingString"
   ]
  },
  {
   "cell_type": "code",
   "execution_count": 45,
   "metadata": {},
   "outputs": [
    {
     "name": "stdout",
     "output_type": "stream",
     "text": [
      "('My ', 'cat', ' is the most beautiful cat in the world.')\n",
      "('My cat is the most beautiful ', 'cat', ' in the world.')\n"
     ]
    }
   ],
   "source": [
    "sentence = \"My cat is the most beautiful cat in the world.\"\n",
    "print(sentence.partition(\"cat\"))  # Split at first cat. note: 3-item tuple, not a list!\n",
    "\n",
    "print(sentence.rpartition(\"cat\"))  # Split at last cat. "
   ]
  },
  {
   "cell_type": "markdown",
   "metadata": {},
   "source": [
    "Often we need to split a multi-line string into a list of lines. This is achieved with the method `string.splitlines()`.\n",
    "- `string.splitlines()`: Splits string into list of lines with all linebreak characters as a delimiter"
   ]
  },
  {
   "cell_type": "code",
   "execution_count": 46,
   "metadata": {},
   "outputs": [
    {
     "name": "stdout",
     "output_type": "stream",
     "text": [
      "['This is one way', 'of writing a multiline string', 'in Python. Simply use', 'three quotation marks at', 'the beginning and the', 'end.']\n"
     ]
    }
   ],
   "source": [
    "multiline = \"\"\"This is one way\n",
    "of writing a multiline string\n",
    "in Python. Simply use\n",
    "three quotation marks at\n",
    "the beginning and the\n",
    "end.\"\"\"\n",
    "\n",
    "print (multiline.splitlines())"
   ]
  },
  {
   "cell_type": "code",
   "execution_count": 47,
   "metadata": {},
   "outputs": [
    {
     "name": "stdout",
     "output_type": "stream",
     "text": [
      "['This is another', 'way of doing the same,', 'but this time I use backslash-n to start a new', 'line']\n"
     ]
    }
   ],
   "source": [
    "multiline2 =  \"This is another\\nway of doing the same,\\nbut this time I use backslash-n to start a new\\nline\"\n",
    "print (multiline2.splitlines())"
   ]
  },
  {
   "cell_type": "code",
   "execution_count": null,
   "metadata": {},
   "outputs": [],
   "source": []
  }
 ],
 "metadata": {
  "kernelspec": {
   "display_name": "Python 3 (ipykernel)",
   "language": "python",
   "name": "python3"
  },
  "language_info": {
   "codemirror_mode": {
    "name": "ipython",
    "version": 3
   },
   "file_extension": ".py",
   "mimetype": "text/x-python",
   "name": "python",
   "nbconvert_exporter": "python",
   "pygments_lexer": "ipython3",
   "version": "3.6.10"
  }
 },
 "nbformat": 4,
 "nbformat_minor": 4
}
