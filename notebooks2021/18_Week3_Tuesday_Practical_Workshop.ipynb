{
 "cells": [
  {
   "cell_type": "markdown",
   "metadata": {},
   "source": [
    "# Practical Session : Functional Programming & Numpy\n",
    "\n",
    "Staff : !!!!!!!!!"
   ]
  },
  {
   "cell_type": "markdown",
   "metadata": {},
   "source": [
    "# Functional Programming\n",
    "\n",
    "*  "
   ]
  },
  {
   "cell_type": "markdown",
   "metadata": {
    "id": "5SSLxOXgThSL"
   },
   "source": [
    "# Numpy Exercises\n",
    "\n",
    "*  Matrix A[3x3]; Matrix B[3x3]\n",
    "*  create both matrices in numpy\n",
    "*  vector c [3]; vector d [3]\n",
    "*  create vector c in numpy\n",
    "*  work out A + B\n",
    "*  work out 2 * A\n",
    "*  work out c * A\n",
    "*  work out the dot product of c and d\n",
    "*  work out A*B (by hand and in numpy; compare the results)\n",
    "*  work out B*A (by hand and in numpy; compare the results)\n",
    "*  Is $A \\times B $ equal to $ B \\times A$? Why (not)?\n",
    "*  Is $(A\\times B) \\times C$  equal to $A\\times (B \\times C)$ Why (not)?\n",
    "\n",
    "\n",
    "\n",
    "\n"
   ]
  },
  {
   "cell_type": "code",
   "execution_count": null,
   "metadata": {},
   "outputs": [],
   "source": []
  }
 ],
 "metadata": {
  "kernelspec": {
   "display_name": "Python 3",
   "language": "python",
   "name": "python3"
  },
  "language_info": {
   "codemirror_mode": {
    "name": "ipython",
    "version": 3
   },
   "file_extension": ".py",
   "mimetype": "text/x-python",
   "name": "python",
   "nbconvert_exporter": "python",
   "pygments_lexer": "ipython3",
   "version": "3.8.5"
  }
 },
 "nbformat": 4,
 "nbformat_minor": 4
}
