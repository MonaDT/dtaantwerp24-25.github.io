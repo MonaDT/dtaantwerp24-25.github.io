{
 "cells": [
  {
   "cell_type": "markdown",
   "metadata": {},
   "source": [
    "<div style=\"background-color:lightgrey;\n",
    "            padding:10px;\n",
    "            color:black;\n",
    "            border:black dashed 2px; \n",
    "            border-radius:5px;\n",
    "            margin: 20px 0;\">\n",
    "            \n",
    "            \n",
    "# Object Orientation (Case Study)\n",
    "\n",
    "\n",
    "\n",
    "**Staff:** Ine Gevers <br/>\n",
    "**Support Material:** None <br/>\n",
    "**Support Sessions:**  None\n",
    "\n",
    "</div>"
   ]
  },
  {
   "cell_type": "markdown",
   "metadata": {},
   "source": [
    "## Objects, Plato and Cookies"
   ]
  },
  {
   "cell_type": "markdown",
   "metadata": {},
   "source": [
    "Python is what people call an **object-oriented** programming language nowadays, meaning that **objects** are key to the way you program in it. In fact, you have worked a lot with objects already in Python, because *everthing* in Python is an object, including the most primitive stuff like integers or strings. To understand what objects are, it useful to turn to Plato's **Allegory of the Cave**.\n",
    "\n",
    "> Question: Can you remember what was the deal with Plato's ideas?\n",
    "\n",
    "<img src=\"https://faculty.washington.edu/smcohen/320/platoscave.gif\"/>"
   ]
  },
  {
   "cell_type": "markdown",
   "metadata": {},
   "source": [
    "Whenever I think of Plato, I always think of cookies:"
   ]
  },
  {
   "cell_type": "markdown",
   "metadata": {},
   "source": [
    "<img src='https://images.kitchenstories.io/wagtailOriginalImages/A1050-lisa-final/A1050-lisa-final-large-landscape-150.jpg'/>"
   ]
  },
  {
   "cell_type": "markdown",
   "metadata": {},
   "source": [
    "In Plato's philosophy, there something like the \"ideal chocolate chip cookie\": the ideal or \"mould\" from which all cookies are made or copied. The ideal is a very abstract cookie that is never actually observed: that is because no copy is perfect and since all the actual cookies are slightly different from another, and from the ideal.\n",
    "\n",
    "Now, when working with object in Python, I want you to think of baking cookies with Plato. Execute this line:"
   ]
  },
  {
   "cell_type": "code",
   "execution_count": 1,
   "metadata": {},
   "outputs": [],
   "source": [
    "from collections import Counter\n",
    "cnt = Counter()"
   ]
  },
  {
   "cell_type": "markdown",
   "metadata": {},
   "source": [
    "Executing this line, or calling the **constructor**, is like baking (or \"constructing\") a single cookie using the `Counter` mould. The  constructor returns you an actual copy/cookie, constructed/baked on the basis of the abstract `Counter` **object** that lives as a blueprint, somewhere in the `collections` module that we imported it from."
   ]
  },
  {
   "cell_type": "markdown",
   "metadata": {},
   "source": [
    "<img src=\"https://i.etsystatic.com/22388311/r/il/32b3e5/2322918611/il_1588xN.2322918611_8o8l.jpg\"/>"
   ]
  },
  {
   "cell_type": "markdown",
   "metadata": {},
   "source": [
    "Just like with real cookies, it's perfectly possible to instantiate multiple, independent cookies from the same mould (the mould always stays the same!)."
   ]
  },
  {
   "cell_type": "code",
   "execution_count": 2,
   "metadata": {},
   "outputs": [],
   "source": [
    "cnt1 = Counter()\n",
    "cnt2 = Counter()\n",
    "cnt3 = Counter()"
   ]
  },
  {
   "cell_type": "markdown",
   "metadata": {},
   "source": [
    "> **Note:** constructors are often written with a capital letter by convention, and the actual instances, with a lowercase character."
   ]
  },
  {
   "cell_type": "markdown",
   "metadata": {},
   "source": [
    "Do you get the similarity between a `Counter` and a Platonic ideal, blueprint, or template? Only, in Python, such an abstract template is called a **class**. When you ask for the `type()` of any object in Python, you're really asking: *from which mould was this cookie made*? What was the **class** that you used to instantiate this object?"
   ]
  },
  {
   "cell_type": "code",
   "execution_count": 3,
   "metadata": {},
   "outputs": [
    {
     "data": {
      "text/plain": [
       "collections.Counter"
      ]
     },
     "execution_count": 3,
     "metadata": {},
     "output_type": "execute_result"
    }
   ],
   "source": [
    "type(cnt3)"
   ]
  },
  {
   "cell_type": "markdown",
   "metadata": {},
   "source": [
    "Constructors can do more than just construe objects. Depending on the class definition, you can pass parameters to it to initialize certain aspects and parameters of the object. In the case of the `Counter` class, for instance, you can pass an **iterable** to the constructor: the newly created object returned will automatically hold the correct counts:"
   ]
  },
  {
   "cell_type": "code",
   "execution_count": 4,
   "metadata": {},
   "outputs": [
    {
     "name": "stdout",
     "output_type": "stream",
     "text": [
      "Counter({' ': 114, 'e': 31, 'a': 27, 'u': 25, 'i': 21, 't': 20, 'r': 17, 'm': 17, 'o': 17, 's': 14, 'n': 12, 'l': 11, ',': 9, 'q': 8, '\\n': 6, 'v': 5, 'p': 5, 'b': 5, 'd': 4, 'c': 3, 'f': 3, 'L': 3, 'A': 2, 'I': 2, 'g': 2, 'T': 1, ';': 1, 'R': 1, '.': 1})\n"
     ]
    }
   ],
   "source": [
    "aeneid = \"\"\"Arma virumque cano, Troiae qui primus ab oris\n",
    "            Italiam, fato profugus, Laviniaque venit\n",
    "            litora, multum ille et terris iactatus et alto\n",
    "            vi superum saevae memorem Iunonis ob iram;\n",
    "            multa quoque et bello passus, dum conderet urbem,\n",
    "            inferretque deos Latio, genus unde Latinum, \n",
    "            Albanique patres, atque altae moenia Romae.\"\"\"\n",
    "\n",
    "freqs = Counter(aeneid)\n",
    "print(freqs)"
   ]
  },
  {
   "cell_type": "markdown",
   "metadata": {},
   "source": [
    "> **Question:** With `Counter`, you can extract crucial frequency information with compact **oneliners**. Can you figure out what the following block does? (We won't win a beauty context with it, but still.) Unpack the oneliner, step by step, and start with the innermost part."
   ]
  },
  {
   "cell_type": "code",
   "execution_count": 17,
   "metadata": {},
   "outputs": [
    {
     "data": {
      "text/plain": [
       "[('et', 3)]"
      ]
     },
     "execution_count": 17,
     "metadata": {},
     "output_type": "execute_result"
    }
   ],
   "source": [
    "virgils_favorite = Counter(aeneid.split()).most_common(1)#[0][0]\n",
    "virgils_favorite"
   ]
  },
  {
   "cell_type": "markdown",
   "metadata": {},
   "source": [
    "If we return to our cookies, then we already established that the class is the blueprint - or the mould - of our cookies. This mould can then be used to instantiate individual cookies. \n",
    "\n",
    "The cookies which we make in this way have certain characteristics (e.g. a cookie is sweet) and certain behaviors (e.g. the cookies can be baked). In coding language we would call these **attributes** and **methods** respectively. \n",
    "\n"
   ]
  },
  {
   "cell_type": "markdown",
   "metadata": {},
   "source": [
    "> **Question:** Try to think of things that you encounter in real life, which of these concepts could we convert into specific classes? What would their attributes and methods be?"
   ]
  },
  {
   "cell_type": "markdown",
   "metadata": {},
   "source": [
    "During the rest of your coding life, you will continue to work with many objects. Some of these can be very abstract. "
   ]
  },
  {
   "cell_type": "markdown",
   "metadata": {},
   "source": [
    "## Methods versus functions"
   ]
  },
  {
   "cell_type": "markdown",
   "metadata": {},
   "source": [
    "When we want to apply the behaviors which we have specified earlier, then we will call functions on our instances to make something happen. Pay attention to the language here: we say that we call functions *on* an instance. We don't just pass the instance to any function. To appreciate this distinction, let's work with an example:"
   ]
  },
  {
   "cell_type": "code",
   "execution_count": 18,
   "metadata": {
    "scrolled": true
   },
   "outputs": [
    {
     "name": "stdout",
     "output_type": "stream",
     "text": [
      "['A', 'r', 'm', 'a', ' ', 'v', 'i', 'r', 'u', 'm', 'q', 'u', 'e', ' ', 'c', 'a', 'n', 'o', ',', ' ']\n",
      "<class 'list'>\n"
     ]
    }
   ],
   "source": [
    "l = list(aeneid) # constructor\n",
    "print(l[:20])\n",
    "print(type(l))"
   ]
  },
  {
   "cell_type": "markdown",
   "metadata": {},
   "source": [
    "By now, you should understand better what we're doing here: we're creating an instance of the class `List` by calling the constructor function `list()` and passing it an iterable (`aeneid`, a string) to initialize it."
   ]
  },
  {
   "cell_type": "markdown",
   "metadata": {},
   "source": [
    "To sort the list, we now have two options. There exist subtle differences between them. The first option is to pass `l` to the general function `sorted`:"
   ]
  },
  {
   "cell_type": "code",
   "execution_count": 19,
   "metadata": {},
   "outputs": [
    {
     "name": "stdout",
     "output_type": "stream",
     "text": [
      "['\\n', '\\n', '\\n', '\\n', '\\n', '\\n', ' ', ' ', ' ', ' ', ' ', ' ', ' ', ' ', ' ', ' ', ' ', ' ', ' ', ' ', ' ', ' ', ' ', ' ', ' ', ' ', ' ', ' ', ' ', ' ', ' ', ' ', ' ', ' ', ' ', ' ', ' ', ' ', ' ', ' ', ' ', ' ', ' ', ' ', ' ', ' ', ' ', ' ', ' ', ' ', ' ', ' ', ' ', ' ', ' ', ' ', ' ', ' ', ' ', ' ', ' ', ' ', ' ', ' ', ' ', ' ', ' ', ' ', ' ', ' ', ' ', ' ', ' ', ' ', ' ', ' ', ' ', ' ', ' ', ' ', ' ', ' ', ' ', ' ', ' ', ' ', ' ', ' ', ' ', ' ', ' ', ' ', ' ', ' ', ' ', ' ', ' ', ' ', ' ', ' ', ' ', ' ', ' ', ' ', ' ', ' ', ' ', ' ', ' ', ' ', ' ', ' ', ' ', ' ', ' ', ' ', ' ', ' ', ' ', ' ', ',', ',', ',', ',', ',', ',', ',', ',', ',', '.', ';', 'A', 'A', 'I', 'I', 'L', 'L', 'L', 'R', 'T', 'a', 'a', 'a', 'a', 'a', 'a', 'a', 'a', 'a', 'a', 'a', 'a', 'a', 'a', 'a', 'a', 'a', 'a', 'a', 'a', 'a', 'a', 'a', 'a', 'a', 'a', 'a', 'b', 'b', 'b', 'b', 'b', 'c', 'c', 'c', 'd', 'd', 'd', 'd', 'e', 'e', 'e', 'e', 'e', 'e', 'e', 'e', 'e', 'e', 'e', 'e', 'e', 'e', 'e', 'e', 'e', 'e', 'e', 'e', 'e', 'e', 'e', 'e', 'e', 'e', 'e', 'e', 'e', 'e', 'e', 'f', 'f', 'f', 'g', 'g', 'i', 'i', 'i', 'i', 'i', 'i', 'i', 'i', 'i', 'i', 'i', 'i', 'i', 'i', 'i', 'i', 'i', 'i', 'i', 'i', 'i', 'l', 'l', 'l', 'l', 'l', 'l', 'l', 'l', 'l', 'l', 'l', 'm', 'm', 'm', 'm', 'm', 'm', 'm', 'm', 'm', 'm', 'm', 'm', 'm', 'm', 'm', 'm', 'm', 'n', 'n', 'n', 'n', 'n', 'n', 'n', 'n', 'n', 'n', 'n', 'n', 'o', 'o', 'o', 'o', 'o', 'o', 'o', 'o', 'o', 'o', 'o', 'o', 'o', 'o', 'o', 'o', 'o', 'p', 'p', 'p', 'p', 'p', 'q', 'q', 'q', 'q', 'q', 'q', 'q', 'q', 'r', 'r', 'r', 'r', 'r', 'r', 'r', 'r', 'r', 'r', 'r', 'r', 'r', 'r', 'r', 'r', 'r', 's', 's', 's', 's', 's', 's', 's', 's', 's', 's', 's', 's', 's', 's', 't', 't', 't', 't', 't', 't', 't', 't', 't', 't', 't', 't', 't', 't', 't', 't', 't', 't', 't', 't', 'u', 'u', 'u', 'u', 'u', 'u', 'u', 'u', 'u', 'u', 'u', 'u', 'u', 'u', 'u', 'u', 'u', 'u', 'u', 'u', 'u', 'u', 'u', 'u', 'u', 'v', 'v', 'v', 'v', 'v']\n"
     ]
    }
   ],
   "source": [
    "sorted_list = sorted(l)\n",
    "print(sorted_list)"
   ]
  },
  {
   "cell_type": "markdown",
   "metadata": {},
   "source": [
    "Thus, `sorted(l)` takes the original list and returns a sorted version of it. What it returns is a sorted **copy** of the original `l`; this is crucial: `sorted` leaves the original `l` intact:"
   ]
  },
  {
   "cell_type": "code",
   "execution_count": 20,
   "metadata": {},
   "outputs": [
    {
     "name": "stdout",
     "output_type": "stream",
     "text": [
      "['A', 'r', 'm', 'a', ' ', 'v', 'i', 'r', 'u', 'm', 'q', 'u', 'e', ' ', 'c', 'a', 'n', 'o', ',', ' ']\n"
     ]
    }
   ],
   "source": [
    "print(l[:20])"
   ]
  },
  {
   "cell_type": "markdown",
   "metadata": {},
   "source": [
    "Note that we can call `sorted()` on many more iterables (like strings). It's a general function, not tied specifically to lists."
   ]
  },
  {
   "cell_type": "code",
   "execution_count": 21,
   "metadata": {},
   "outputs": [
    {
     "data": {
      "text/plain": [
       "['a', 'b', 'l']"
      ]
     },
     "execution_count": 21,
     "metadata": {},
     "output_type": "execute_result"
    }
   ],
   "source": [
    "sorted('bla')"
   ]
  },
  {
   "cell_type": "markdown",
   "metadata": {},
   "source": [
    "The second alternative is to call `sort()` **on** the original list itself:"
   ]
  },
  {
   "cell_type": "code",
   "execution_count": 22,
   "metadata": {},
   "outputs": [],
   "source": [
    "l.sort()"
   ]
  },
  {
   "cell_type": "markdown",
   "metadata": {},
   "source": [
    "Nothing was printed above... That's normal and comes from the fact that `sort()` will (tacitly) sort the original string on which it was called, but it *doesn't return anything afterwards*:"
   ]
  },
  {
   "cell_type": "code",
   "execution_count": 23,
   "metadata": {},
   "outputs": [
    {
     "name": "stdout",
     "output_type": "stream",
     "text": [
      "None\n",
      "['\\n', '\\n', '\\n', '\\n', '\\n', '\\n', ' ', ' ', ' ', ' ', ' ', ' ', ' ', ' ', ' ', ' ', ' ', ' ', ' ', ' ', ' ', ' ', ' ', ' ', ' ', ' ', ' ', ' ', ' ', ' ', ' ', ' ', ' ', ' ', ' ', ' ', ' ', ' ', ' ', ' ', ' ', ' ', ' ', ' ', ' ', ' ', ' ', ' ', ' ', ' ', ' ', ' ', ' ', ' ', ' ', ' ', ' ', ' ', ' ', ' ', ' ', ' ', ' ', ' ', ' ', ' ', ' ', ' ', ' ', ' ', ' ', ' ', ' ', ' ', ' ', ' ', ' ', ' ', ' ', ' ', ' ', ' ', ' ', ' ', ' ', ' ', ' ', ' ', ' ', ' ', ' ', ' ', ' ', ' ', ' ', ' ', ' ', ' ', ' ', ' ', ' ', ' ', ' ', ' ', ' ', ' ', ' ', ' ', ' ', ' ', ' ', ' ', ' ', ' ', ' ', ' ', ' ', ' ', ' ', ' ', ',', ',', ',', ',', ',', ',', ',', ',', ',', '.', ';', 'A', 'A', 'I', 'I', 'L', 'L', 'L', 'R', 'T', 'a', 'a', 'a', 'a', 'a', 'a', 'a', 'a', 'a', 'a', 'a', 'a', 'a', 'a', 'a', 'a', 'a', 'a', 'a', 'a', 'a', 'a', 'a', 'a', 'a', 'a', 'a', 'b', 'b', 'b', 'b', 'b', 'c', 'c', 'c', 'd', 'd', 'd', 'd', 'e', 'e', 'e', 'e', 'e', 'e', 'e', 'e', 'e', 'e', 'e', 'e', 'e', 'e', 'e', 'e', 'e', 'e', 'e', 'e', 'e', 'e', 'e', 'e', 'e', 'e', 'e', 'e', 'e', 'e', 'e', 'f', 'f', 'f', 'g', 'g', 'i', 'i', 'i', 'i', 'i', 'i', 'i', 'i', 'i', 'i', 'i', 'i', 'i', 'i', 'i', 'i', 'i', 'i', 'i', 'i', 'i', 'l', 'l', 'l', 'l', 'l', 'l', 'l', 'l', 'l', 'l', 'l', 'm', 'm', 'm', 'm', 'm', 'm', 'm', 'm', 'm', 'm', 'm', 'm', 'm', 'm', 'm', 'm', 'm', 'n', 'n', 'n', 'n', 'n', 'n', 'n', 'n', 'n', 'n', 'n', 'n', 'o', 'o', 'o', 'o', 'o', 'o', 'o', 'o', 'o', 'o', 'o', 'o', 'o', 'o', 'o', 'o', 'o', 'p', 'p', 'p', 'p', 'p', 'q', 'q', 'q', 'q', 'q', 'q', 'q', 'q', 'r', 'r', 'r', 'r', 'r', 'r', 'r', 'r', 'r', 'r', 'r', 'r', 'r', 'r', 'r', 'r', 'r', 's', 's', 's', 's', 's', 's', 's', 's', 's', 's', 's', 's', 's', 's', 't', 't', 't', 't', 't', 't', 't', 't', 't', 't', 't', 't', 't', 't', 't', 't', 't', 't', 't', 't', 'u', 'u', 'u', 'u', 'u', 'u', 'u', 'u', 'u', 'u', 'u', 'u', 'u', 'u', 'u', 'u', 'u', 'u', 'u', 'u', 'u', 'u', 'u', 'u', 'u', 'v', 'v', 'v', 'v', 'v']\n"
     ]
    }
   ],
   "source": [
    "print(l.sort())\n",
    "print(l)"
   ]
  },
  {
   "cell_type": "markdown",
   "metadata": {},
   "source": [
    "This kind of sorting is called **in-place** sorting. This is because `sort()` isn't just any function: it is a function that is bound to this specific list (i.e. it was part of the cookie mould that we used to construct the object). It has privileged access to the object, which is why it can sort the string directly. Functions are called **methods** in Python, when they are tied to a special object, instead of just floating around. This is an important distinction:\n",
    "\n",
    "- all methods are functions, but not all functions are methods\n",
    "- methods can only be called on the objects of a specific class (note that we cannot call `.sort()` on a string)"
   ]
  },
  {
   "cell_type": "markdown",
   "metadata": {},
   "source": [
    "## Home-Baked Cookies"
   ]
  },
  {
   "cell_type": "markdown",
   "metadata": {},
   "source": [
    "We should stress that this last section isn't crucial in your learning trajectory at this stage. What we want to demonstrate is how you yourself can fairly easily implement your own classes in Python. It will probably take a while, before you will start doing this, simply because you won't feel the need: there's a whole range of classes out there already that you can just import from external packages. Nevertheless, working through a simple example will enhance your grasp of what \"object orientation\" really means.\n",
    "\n",
    "As an example, we will re-implement, or **reverse engineer**, a lightweight, stripped down version of the `Counter` class. The first thing that we will need is a name for our class and a constructor function. The syntax for this is as follows:"
   ]
  },
  {
   "cell_type": "code",
   "execution_count": 28,
   "metadata": {},
   "outputs": [],
   "source": [
    "class OurCounter:\n",
    "    \n",
    "    def __init__(self): # dunder\n",
    "        #print(\"congrats\")\n",
    "        pass"
   ]
  },
  {
   "cell_type": "code",
   "execution_count": 29,
   "metadata": {},
   "outputs": [],
   "source": [
    "cnt = OurCounter()"
   ]
  },
  {
   "cell_type": "markdown",
   "metadata": {},
   "source": [
    "This is a super-minimalistic example, since we don't do more than:\n",
    "- declaring a name for our class (`class OurCounter:`)\n",
    "- specify what should happen when somebody calls the constructor method, inside the `__init__()` function\n",
    "\n",
    "Note that the constructor looks like a normal function definition, but:\n",
    "- it is indented to make clear that it is a **method** that is tied to the OurCounter Class\n",
    "- it takes a special, dedicated name (`__init__`) -- so that Python can properly identify it as being the constructor\n",
    "- it requires a special input argument, **self**: this is a pointer to the object itself\n",
    "- it is a **stub** currently -- note the use of `pass` **keyword** that we throw in as a placeholder (and which doesn't do anything)\n",
    "\n",
    "Nevertheless, we can already use this class definition to initialize an instance, and check its type:"
   ]
  },
  {
   "cell_type": "code",
   "execution_count": 30,
   "metadata": {},
   "outputs": [
    {
     "name": "stdout",
     "output_type": "stream",
     "text": [
      "<class '__main__.OurCounter'>\n"
     ]
    }
   ],
   "source": [
    "cnt = OurCounter()\n",
    "print(type(cnt))"
   ]
  },
  {
   "cell_type": "markdown",
   "metadata": {},
   "source": [
    "Above you could see that `Counter` acts as a kind of wrapper around the conventional `dict` class. It basically inherits much of the functionality of a `dict` but adds much additional stuff. For our purposes, it would make sense to add a dict to the `OurCounter` object. We can achieve that as follows:"
   ]
  },
  {
   "cell_type": "code",
   "execution_count": 31,
   "metadata": {},
   "outputs": [],
   "source": [
    "class OurCounter:\n",
    "    \n",
    "    def __init__(self):\n",
    "        self.d = {}"
   ]
  },
  {
   "cell_type": "markdown",
   "metadata": {},
   "source": [
    "This is where the `self` keyword comes in handy: we use it to assign a dictionary to the object. That means that we can actually access the `dict` from the `OurCounter`, after we've instantiated it, using the following **dot syntax** that you can apply to access all sort of stuff that is tied to your object:"
   ]
  },
  {
   "cell_type": "code",
   "execution_count": 32,
   "metadata": {},
   "outputs": [
    {
     "name": "stdout",
     "output_type": "stream",
     "text": [
      "{}\n"
     ]
    }
   ],
   "source": [
    "cnt = OurCounter()\n",
    "print(cnt.d)"
   ]
  },
  {
   "cell_type": "markdown",
   "metadata": {},
   "source": [
    "However, the goal of working with object orientation is **abstraction**: our goal is to make sure that the user doesn't have to care about the dictionary. Let us now create an `add` function, that takes a key and the value (an `int`) by which the value for that key should be incremented. "
   ]
  },
  {
   "cell_type": "code",
   "execution_count": 33,
   "metadata": {},
   "outputs": [],
   "source": [
    "class OurCounter:\n",
    "    \n",
    "    def __init__(self):\n",
    "        self.d = {}\n",
    "        \n",
    "    def add(self, key, value=1):\n",
    "        try:\n",
    "            self.d[key] += value\n",
    "        except KeyError:\n",
    "            self.d[key] = value"
   ]
  },
  {
   "cell_type": "markdown",
   "metadata": {},
   "source": [
    "There are several important aspects here to be discussed:\n",
    "- we still need to add that weird `self` thingy as the  first argument to the method definition\n",
    "- we assign a default value of 1 for the increment value\n",
    "- we abstract over the default behaviour of a dictionary and take care of checking whether they  key is already present in the dictionary. (The user shouldn't have to care about this: this is the essence of **abstraction** in programming)\n",
    "- inside the method, we access the `dict` associated with our object as `self.d`, because it's a property stored with the object itself. Pay attention to the **inside view** that we take here: the object uses the keyword `self` to refer to itself."
   ]
  },
  {
   "cell_type": "markdown",
   "metadata": {},
   "source": [
    "We can now use and test that method as follows:"
   ]
  },
  {
   "cell_type": "code",
   "execution_count": 36,
   "metadata": {},
   "outputs": [
    {
     "name": "stdout",
     "output_type": "stream",
     "text": [
      "{'a': 7, 'b': 3, 'z': 14}\n"
     ]
    }
   ],
   "source": [
    "cnt = OurCounter()\n",
    "cnt.add('a', 2)\n",
    "cnt.add('b', 3)\n",
    "cnt.add('a', 5)\n",
    "cnt.add('z', 14)\n",
    "print(cnt.d)"
   ]
  },
  {
   "cell_type": "markdown",
   "metadata": {},
   "source": [
    "Adding a `most_common` method uses the same logic:"
   ]
  },
  {
   "cell_type": "code",
   "execution_count": 37,
   "metadata": {},
   "outputs": [],
   "source": [
    "from operator import itemgetter\n",
    "\n",
    "class OurCounter:\n",
    "    \n",
    "    def __init__(self):\n",
    "        self.d = {}\n",
    "        \n",
    "    def add(self, key, value=1):\n",
    "        try:\n",
    "            self.d[key] += value\n",
    "        except KeyError:\n",
    "            self.d[key] = value\n",
    "            \n",
    "    def most_common(self, topn=None):\n",
    "        items = self.d.items()                   # extract key-value pairs\n",
    "        items = sorted(items, key=itemgetter(1)) # sort by value\n",
    "        items = items[::-1]                      # decreasing instead of increasing order\n",
    "        return items[:topn]                      # chop off the top using topn argument"
   ]
  },
  {
   "cell_type": "code",
   "execution_count": 41,
   "metadata": {},
   "outputs": [
    {
     "data": {
      "text/plain": [
       "[('c', 15)]"
      ]
     },
     "execution_count": 41,
     "metadata": {},
     "output_type": "execute_result"
    }
   ],
   "source": [
    "cnt = OurCounter()\n",
    "cnt.add('a', 1)\n",
    "cnt.add('b', 3)\n",
    "cnt.add('c', 15)\n",
    "cnt.add('d', 4)\n",
    "cnt.add('e', 9)\n",
    "cnt.most_common(1)"
   ]
  },
  {
   "cell_type": "markdown",
   "metadata": {},
   "source": [
    "Do you see how we hide all of the ugly code from the user? From here on onwards, the options are endless. We can adapt the constructor of our class for instance, to allow users to fill the dictionary immediately upon construction:"
   ]
  },
  {
   "cell_type": "code",
   "execution_count": 43,
   "metadata": {},
   "outputs": [],
   "source": [
    "class OurCounter:\n",
    "    \n",
    "    def __init__(self, iterable=None):\n",
    "        self.d = {}\n",
    "        if iterable:\n",
    "            for value in iterable:\n",
    "                self.add(value)\n",
    "        \n",
    "    def add(self, key, value=1):\n",
    "        try:\n",
    "            self.d[key] += value\n",
    "        except KeyError:\n",
    "            self.d[key] = value\n",
    "            \n",
    "    def most_common(self, topn=None):\n",
    "        items = self.d.items()                   # extract key-value pairs\n",
    "        items = sorted(items, key=itemgetter(1)) # sort by value\n",
    "        items = items[::-1]                      # decreasing instead of increasing order\n",
    "        return items[:topn]                      # chop off the top using topn argument"
   ]
  },
  {
   "cell_type": "markdown",
   "metadata": {},
   "source": [
    "This is probably a lot to take in, but notice how cool it is that inside the constructor, we can actually already use the methods that are defined further down (`self.add(value)`, with a default of `1` for the increment)! Now, we are getting really close to a full-blown counter:"
   ]
  },
  {
   "cell_type": "code",
   "execution_count": 46,
   "metadata": {},
   "outputs": [
    {
     "data": {
      "text/plain": [
       "[(' ', 114), ('e', 31), ('a', 27), ('u', 25), ('i', 21)]"
      ]
     },
     "execution_count": 46,
     "metadata": {},
     "output_type": "execute_result"
    }
   ],
   "source": [
    "cnt = OurCounter(aeneid)\n",
    "cnt.most_common(5)"
   ]
  },
  {
   "cell_type": "markdown",
   "metadata": {},
   "source": [
    "One final gimmick is that we can gain control over how our object gets printed. Note how the standard Counter returns the underlying `dict` as follows:"
   ]
  },
  {
   "cell_type": "code",
   "execution_count": 47,
   "metadata": {},
   "outputs": [
    {
     "name": "stdout",
     "output_type": "stream",
     "text": [
      "Counter({' ': 114, 'e': 31, 'a': 27, 'u': 25, 'i': 21, 't': 20, 'r': 17, 'm': 17, 'o': 17, 's': 14, 'n': 12, 'l': 11, ',': 9, 'q': 8, '\\n': 6, 'v': 5, 'p': 5, 'b': 5, 'd': 4, 'c': 3, 'f': 3, 'L': 3, 'A': 2, 'I': 2, 'g': 2, 'T': 1, ';': 1, 'R': 1, '.': 1})\n"
     ]
    }
   ],
   "source": [
    "cnt = Counter(aeneid) # standard counter!\n",
    "print(cnt)"
   ]
  },
  {
   "cell_type": "markdown",
   "metadata": {},
   "source": [
    "We can easily tweak our class definition to do the same, by **overriding** the standard string representation methods that all objects in Python have:"
   ]
  },
  {
   "cell_type": "code",
   "execution_count": 48,
   "metadata": {},
   "outputs": [],
   "source": [
    "class OurCounter:\n",
    "    \n",
    "    def __init__(self, iterable=None):\n",
    "        self.d = {}\n",
    "        if iterable:\n",
    "            for value in iterable:\n",
    "                self.add(value, 1)\n",
    "        \n",
    "    def add(self, key, value=1):\n",
    "        try:\n",
    "            self.d[key] += value\n",
    "        except KeyError:\n",
    "            self.d[key] = value\n",
    "            \n",
    "    def most_common(self, topn=None):\n",
    "        items = self.d.items()                   # extract key-value pairs\n",
    "        items = sorted(items, key=itemgetter(1)) # sort by value\n",
    "        items = items[::-1]                      # decreasing instead of increasing order\n",
    "        return items[:topn]                      # chop off the top using topn argument\n",
    "    \n",
    "    def __str__(self):\n",
    "        info = str(self.d)\n",
    "        info = 'OurCounter(' + info +')'\n",
    "        return info"
   ]
  },
  {
   "cell_type": "markdown",
   "metadata": {},
   "source": [
    "Note the fancy underscores surrounding the method name (`__str__(self)`). This indicates that we overriding some pretty basic, **low-level** functionaliy  of the Python object. Check out what happens when we now print our object:"
   ]
  },
  {
   "cell_type": "code",
   "execution_count": 49,
   "metadata": {},
   "outputs": [
    {
     "name": "stdout",
     "output_type": "stream",
     "text": [
      "OurCounter({'A': 2, 'r': 17, 'm': 17, 'a': 27, ' ': 114, 'v': 5, 'i': 21, 'u': 25, 'q': 8, 'e': 31, 'c': 3, 'n': 12, 'o': 17, ',': 9, 'T': 1, 'p': 5, 's': 14, 'b': 5, '\\n': 6, 'I': 2, 't': 20, 'l': 11, 'f': 3, 'g': 2, 'L': 3, ';': 1, 'd': 4, 'R': 1, '.': 1})\n"
     ]
    }
   ],
   "source": [
    "cnt = OurCounter(aeneid)\n",
    "print(cnt)"
   ]
  },
  {
   "cell_type": "markdown",
   "metadata": {},
   "source": [
    "Finally, remember, this section is for illustration purposes only: we don't expect you to be able to define your own classes in the near future. (Just working with existing ones can be challenging enough!). Nevertheless, we do think that reading through this section might help you to understand what a class does and how to interact with such objects."
   ]
  },
  {
   "cell_type": "markdown",
   "metadata": {},
   "source": [
    "#### Exercise (easy)\n",
    "\n",
    "Download a plain text novel from Gutenberg. Work on your `Counter` skills and use an instance of the class to:\n",
    "- make a character-level frequency dictionary: what are the three most frequent characters?\n",
    "- make a word-level frequency dictionary: what are the three most frequent word tokens?\n",
    "- make a list of `Counter` objects, containing a character-level frequency dictionary for each line."
   ]
  },
  {
   "cell_type": "code",
   "execution_count": 85,
   "metadata": {},
   "outputs": [
    {
     "name": "stdout",
     "output_type": "stream",
     "text": [
      "{' ': 1312, 'e': 748, 't': 456}\n"
     ]
    }
   ],
   "source": [
    "with open(\"/Users/inegevers/Documents/bootcamp2023-2024/30.txt\", 'r') as f:\n",
    "        novel_text = f.read()\n",
    "        \n",
    "    \n",
    "cnt = OurCounter(novel_text)\n",
    "print(dict(cnt.most_common(3)))\n"
   ]
  },
  {
   "cell_type": "code",
   "execution_count": 84,
   "metadata": {},
   "outputs": [
    {
     "name": "stdout",
     "output_type": "stream",
     "text": [
      "{'the': 77, 'and': 69, 'a': 37}\n"
     ]
    }
   ],
   "source": [
    "cnt = OurCounter(novel_text.split())\n",
    "print(dict(cnt.most_common(3)))\n"
   ]
  },
  {
   "cell_type": "code",
   "execution_count": 88,
   "metadata": {},
   "outputs": [
    {
     "name": "stdout",
     "output_type": "stream",
     "text": [
      "[Counter({' ': 11, 'e': 6, 'a': 6, 'h': 3, 'o': 3, 'u': 3, 'i': 3, 'l': 3, 'r': 2, 'w': 2, 'n': 2, 't': 2, 'm': 2, 'T': 1, 's': 1, 'c': 1, 'p': 1, ',': 1, 'd': 1, 'b': 1, 'f': 1}), Counter({' ': 11, 'a': 6, 'h': 6, 's': 6, 'e': 5, 'w': 4, 'd': 3, 't': 3, 'u': 2, 'g': 2, 'r': 2, ',': 2, 'n': 2, 'o': 1, 'p': 1, 'i': 1}), Counter({' ': 11, 'o': 6, 'r': 5, 'd': 5, 'i': 4, 'e': 4, 'a': 3, 't': 3, 'f': 2, ',': 2, 'n': 2, 'l': 2, 'h': 2, 'u': 2, 'g': 2, 'p': 1, 'v': 1, 'w': 1, 'm': 1, '.': 1, 'H': 1, 'y': 1, 's': 1}), Counter({' ': 13, 'o': 5, 'e': 4, 's': 3, 'r': 3, 'h': 3, 'i': 3, 'l': 3, 'm': 2, 'a': 2, 'n': 2, 'g': 2, 't': 2, 'c': 1, 'd': 1, 'k': 1, 'f': 1, ',': 1, 'I': 1, 'w': 1, 'v': 1, '.': 1, 'N': 1}), Counter({' ': 11, 'a': 8, 'e': 6, 'r': 6, 't': 3, 'd': 3, 's': 3, ',': 3, 'o': 3, 'w': 2, 'i': 2, 'c': 2, 'h': 2, 'p': 2, 'f': 1, 'u': 1, 'm': 1, 'b': 1, 'v': 1, 'y': 1, 'n': 1}), Counter({' ': 11, 'h': 6, 'i': 6, 't': 4, 'e': 4, 'm': 3, 'l': 3, 'd': 3, 'o': 3, 'r': 2, 'a': 2, 'n': 2, 'f': 2, 's': 2, 'u': 1, 'w': 1, ',': 1, 'p': 1}), Counter({' ': 11, 'e': 7, 'i': 6, 'h': 5, 'd': 4, 't': 4, 'o': 3, 'm': 3, 'a': 2, 'u': 2, 'r': 2, 'n': 2, ',': 2, 'g': 1, '.': 1, 'T': 1, 'w': 1, 'v': 1, 'l': 1, 'k': 1, 'q': 1}), Counter({' ': 14, 's': 5, 'h': 5, 'a': 5, 'e': 5, 'o': 4, 'm': 3, 'g': 3, 'i': 3, 'l': 3, 'd': 3, 'n': 3, 'u': 2, 't': 2, 'c': 1, 'r': 1, 'k': 1, 'w': 1, ',': 1}), Counter({' ': 12, 'h': 7, 'e': 6, 'n': 5, 'o': 5, 'i': 4, 'a': 2, 'd': 2, 'c': 2, 'f': 2, 'm': 2, 'r': 2, 's': 2, ',': 2, 't': 2, '.': 1, 'W': 1, 'v': 1, 'w': 1, 'u': 1, 'g': 1}), Counter({' ': 13, 'e': 8, 'r': 6, 'h': 4, 'o': 4, 's': 3, 't': 3, 'a': 3, 'c': 2, 'y': 2, 'f': 1, 'l': 1, '.': 1, 'O': 1, 'n': 1, 'i': 1, 'd': 1, ',': 1, 'u': 1, 'm': 1}), Counter({' ': 11, 'e': 9, 't': 4, 'a': 4, 'o': 3, 'h': 3, 'd': 3, 'n': 3, 'v': 3, 'i': 3, 'r': 2, 'y': 2, 'b': 1, ',': 1, 'u': 1, 'c': 1, 'p': 1, 'm': 1, 's': 1, '.': 1, 'T': 1}), Counter({' ': 11, 'e': 8, 'i': 4, 'n': 4, 'o': 4, 'h': 4, 'd': 3, 'r': 3, 's': 3, 'a': 2, 'w': 2, 't': 2, 'u': 2, 'm': 1, 'p': 1, 'l': 1, ',': 1, 'I': 1, 'k': 1, 'y': 1, '.': 1, 'T': 1}), Counter({' ': 11, 'e': 7, 'r': 5, 'o': 5, 'h': 4, 't': 4, 'i': 3, 's': 3, 'd': 2, 'm': 2, 'u': 2, 'b': 1, 'g': 1, ',': 1, 'y': 1, 'n': 1, 'a': 1, 'k': 1, 'f': 1, '.': 1, 'S': 1}), Counter({'e': 5, ' ': 3, 't': 2, 'r': 2, 's': 2, 'i': 1, 'd': 1, 'o': 1, 'x': 1, 'c': 1, 'u': 1, 'h': 1, 'l': 1, 'f': 1}), Counter({' ': 12, 'd': 6, 'e': 6, 'a': 4, 'i': 4, 'h': 4, 'o': 4, 'n': 3, 's': 3, 't': 3, 'r': 3, 'c': 1, 'u': 1, 'l': 1, 'f': 1, 'w': 1, 'y': 1, '.': 1, 'T': 1, 'b': 1, 'g': 1, 'm': 1, ',': 1}), Counter({' ': 11, 'e': 7, 't': 5, 'u': 4, 'a': 4, 'o': 4, 'y': 3, 'm': 3, 'n': 2, 's': 2, 'd': 2, 'h': 2, 'r': 2, 'x': 1, 'c': 1, ',': 1, 'I': 1, 'v': 1, 'l': 1}), Counter({' ': 12, 't': 6, 'e': 6, 's': 5, 'i': 4, 'a': 4, 'n': 3, 'd': 3, 'h': 3, 'r': 3, 'u': 2, 'w': 2, 'l': 2, 'o': 2, 'y': 2, 'v': 1, 'g': 1, ',': 1, 'I': 1, 'm': 1}), Counter({' ': 11, 'h': 5, 'e': 5, 'n': 4, 'a': 4, 't': 4, 'd': 3, 'y': 3, 'o': 3, 'u': 3, 'r': 3, 'f': 2, 's': 2, 'i': 1, 'w': 1, 'g': 1, '.': 1, 'W': 1, 'c': 1, 'm': 1, ',': 1}), Counter({' ': 12, 'e': 9, 'a': 5, 'h': 4, 's': 4, 'n': 3, 't': 3, 'o': 3, 'y': 3, 'm': 2, 'd': 2, 'u': 2, 'r': 2, ',': 2, 'i': 1, 'w': 1, 'b': 1, 'c': 1, 'v': 1}), Counter({' ': 12, 'e': 7, 'h': 5, 'l': 4, 't': 4, 'a': 4, 'r': 3, 'n': 3, 'w': 3, 'o': 3, 'y': 3, 's': 2, 'f': 2, 'k': 2, 'd': 2, 'x': 1, 'c': 1, ',': 1, 'm': 1, 'i': 1, 'b': 1}), Counter({' ': 12, 'e': 9, 's': 6, 't': 5, 'l': 4, 'h': 3, 'r': 3, 'a': 3, 'n': 3, 'p': 2, 'o': 2, 'f': 2, 'w': 2, 'c': 1, 'k': 1, 'u': 1, 'd': 1, 'i': 1, '.': 1, 'A': 1}), Counter({'e': 11, ' ': 11, 't': 7, 'o': 4, 's': 4, 'n': 3, 'r': 3, 'a': 3, 'f': 3, 'h': 3, ',': 2, 'd': 2, 'l': 2, 'c': 1, 'w': 1, 'b': 1, 'u': 1, 'v': 1, 'y': 1, 'p': 1}), Counter({' ': 13, 'e': 8, 'h': 5, 'o': 5, 't': 4, 'a': 4, 's': 3, 'l': 3, 'r': 2, 'w': 2, 'u': 2, 'p': 2, 'n': 2, 'd': 2, 'c': 1, 'f': 1, 'g': 1, '.': 1, 'S': 1, 'k': 1, 'm': 1}), Counter({' ': 11, 'e': 10, 'h': 6, 't': 5, 'd': 4, 'o': 3, 'l': 3, 'i': 3, 'r': 3, 'w': 2, 'a': 2, 's': 2, 'f': 2, 'y': 1, 'u': 1, 'n': 1, 'c': 1, 'm': 1, ',': 1}), Counter({' ': 11, 's': 6, 'h': 6, 'e': 6, 'a': 5, 't': 5, 'd': 5, 'o': 4, 'r': 3, 'i': 3, 'w': 2, ',': 2, 'k': 1, 'n': 1, 'l': 1, 'y': 1, 'u': 1, 'c': 1}), Counter({' ': 13, 'i': 6, 'o': 5, 'e': 5, 'd': 5, 'n': 4, 't': 4, 'l': 3, 'k': 3, 's': 3, 'a': 3, ',': 2, 'r': 2, 'f': 1, 'm': 1, '.': 1, 'S': 1, 'h': 1, 'w': 1}), Counter({' ': 10, 't': 6, 'n': 6, 'e': 6, 's': 6, 'o': 4, 'i': 4, 'a': 3, 'l': 3, 'b': 2, 'u': 2, 'w': 2, 'h': 2, 'd': 2, ',': 1, 'm': 1, 'r': 1, 'g': 1, '.': 1}), Counter(), Counter({'d': 3, 'e': 3, ' ': 3, 'i': 2, 'c': 2, 'S': 1, 'u': 1, 'n': 1, 'l': 1, 'y': 1, 'a': 1, 'v': 1, 'o': 1, 'r': 1, ',': 1}), Counter({' ': 6, 'n': 4, 'a': 4, 'u': 3, 'r': 3, ',': 3, 't': 2, 'b': 2, 'c': 2, 'k': 2, 'd': 2, 'e': 2, '\\t': 1, 'y': 1, 'o': 1, 'g': 1, 'm': 1, 'i': 1}), Counter({'e': 7, ' ': 6, 'r': 5, 's': 3, 'u': 3, \"'\": 2, 't': 2, 'h': 2, 'o': 2, '\\t': 1, 'i': 1, 'a': 1, 'm': 1, 'd': 1, 'y': 1, 'n': 1, '.': 1}), Counter({' ': 12, 'e': 6, 'a': 6, 'd': 4, 'o': 4, 'h': 3, 'm': 3, 'i': 3, 't': 3, 'n': 2, ',': 2, 'c': 2, 'r': 2, 'T': 1, 'l': 1, 'k': 1, 'u': 1, 'p': 1, 's': 1, 'w': 1, 'v': 1, 'f': 1, 'b': 1}), Counter({' ': 13, 'i': 6, 'a': 6, 'n': 5, 'h': 4, 'g': 4, 'w': 3, 'c': 3, 'e': 3, 't': 2, 'l': 2, 's': 1, 'o': 1, '.': 1, 'A': 1, 'r': 1, 'd': 1, ',': 1}), Counter({' ': 6, 'n': 4, 'a': 4, 'u': 3, 'r': 3, ',': 3, 't': 2, 'b': 2, 'c': 2, 'k': 2, 'd': 2, 'e': 2, '\\t': 1, 'y': 1, 'o': 1, 'g': 1, 'm': 1, 'i': 1}), Counter({'e': 7, ' ': 6, 'r': 5, 's': 3, 'u': 3, \"'\": 2, 't': 2, 'h': 2, 'o': 2, '\\t': 1, 'i': 1, 'a': 1, 'm': 1, 'd': 1, 'y': 1, 'n': 1, '.': 1}), Counter(), Counter({' ': 11, 'o': 8, 'e': 7, 'n': 7, 't': 5, 'r': 5, 'h': 4, 'm': 3, 'a': 3, 'f': 2, 'T': 1, 'y': 1, 'u': 1, 'g': 1, 'i': 1, 'd': 1, 'w': 1, ',': 1}), Counter({' ': 10, 'e': 7, 't': 6, 'h': 5, 'a': 3, 'w': 3, 'l': 3, 'o': 3, 'u': 3, 'n': 2, 'd': 2, 'r': 2, 's': 2, 'i': 2, 'y': 2, 'k': 1, 'g': 1, ',': 1, 'b': 1, 'm': 1, 'p': 1}), Counter({' ': 15, 'n': 6, 't': 6, 'e': 6, 'a': 5, 'o': 5, 'h': 3, 's': 3, 'd': 2, 'u': 2, 'm': 2, 'b': 2, 'i': 1, 'g': 1, 'w': 1, 'f': 1, '.': 1, 'A': 1, 'l': 1, 'c': 1}), Counter({'e': 10, ' ': 10, 'a': 7, 't': 4, 'h': 4, 'l': 3, 'r': 3, 'n': 3, 'd': 3, ',': 2, 's': 2, 'm': 2, 'w': 2, 'o': 2, 'c': 1, 'x': 1, 'y': 1, 'g': 1}), Counter({' ': 12, 'o': 5, 'n': 5, 't': 5, 'a': 4, 'e': 4, 's': 3, 'l': 3, 'y': 3, 'm': 3, 'i': 3, 'h': 2, ',': 2, 'd': 2, 'k': 1, 'c': 1, '.': 1, 'C': 1, 'u': 1, 'f': 1}), Counter({'e': 5, 't': 2, 'r': 2, 'h': 2, ' ': 2, 'b': 1, 'o': 1, 'd': 1, 'l': 1, 'i': 1, 'v': 1, 's': 1, '.': 1}), Counter(), Counter({' ': 10, 'o': 6, 'e': 6, 'h': 5, 'l': 4, 'a': 3, ',': 3, 'r': 3, 'i': 3, 'd': 3, 'p': 2, 'c': 2, 't': 2, 'w': 2, 'm': 2, 'A': 1, 's': 1, 'n': 1, 'v': 1, 'y': 1, 'u': 1, '.': 1}), Counter({' ': 15, 'e': 7, 'o': 6, 'r': 6, 'u': 4, 'a': 4, 'n': 4, 'i': 3, 'd': 3, 'Y': 2, 's': 2, 't': 2, 'b': 2, 'm': 1, \"'\": 1, '.': 1, 'h': 1, 'k': 1, 'y': 1}), Counter({' ': 11, 'e': 5, 'i': 4, 'd': 4, 'o': 4, 'r': 3, 'u': 3, 't': 3, 'w': 3, 'a': 2, ',': 2, 'y': 2, 'l': 2, 'k': 2, 'h': 2, 'm': 1, 'b': 1, 'p': 1, 'n': 1, 'g': 1, '.': 1, 'L': 1, 'I': 1}), Counter({' ': 13, 'e': 10, 't': 9, 'a': 4, 'r': 4, 'h': 3, 'n': 3, 'o': 3, 'i': 3, ',': 2, 'w': 2, 'v': 1, 'b': 1, 'f': 1, 'c': 1, 'd': 1, 'p': 1, 'u': 1, 'g': 1, 'k': 1, 'l': 1}), Counter({' ': 12, 'e': 6, 'h': 5, 't': 5, 'y': 4, 'o': 4, 'n': 3, 'w': 3, 'u': 3, 'i': 3, 'a': 2, 'r': 2, 'l': 2, 'd': 1, 'v': 1, 'p': 1, ',': 1, 'c': 1}), Counter({' ': 11, 'e': 6, 'o': 6, 't': 4, 'y': 4, 'i': 3, 'c': 3, 'u': 3, 'r': 3, ',': 3, 'a': 3, 'w': 2, 'h': 2, 'l': 2, 'p': 1, 's': 1, 'm': 1, 'k': 1, 'n': 1, 'd': 1, 'f': 1}), Counter({' ': 13, 'o': 7, 'a': 5, 'n': 5, 'e': 4, 's': 4, 'f': 3, 'h': 3, 't': 2, 'u': 2, 'm': 2, 'I': 2, 'd': 2, 'r': 1, 'l': 1, '.': 1, 'v': 1, 'c': 1, 'p': 1, 'i': 1, 'y': 1, ',': 1}), Counter({' ': 4, 'o': 3, 's': 2, 'a': 2, 'e': 2, 'y': 2, 'u': 2, 'v': 1, ',': 1, 'r': 1, 'l': 1, 't': 1, '.': 1}), Counter(), Counter({' ': 9, 'e': 8, 'h': 6, 'o': 4, 'd': 4, 'a': 4, 'r': 3, 'n': 3, 't': 2, 'l': 2, 'g': 2, 'T': 1, 'u': 1, 'p': 1, 'w': 1, 'm': 1, 'b': 1, 'i': 1, 's': 1}), Counter({' ': 14, 'e': 9, 's': 7, 'o': 4, 'h': 3, 'l': 3, 'd': 3, 'a': 3, 'u': 2, 'n': 2, 't': 2, 'i': 2, ',': 2, 'w': 1, 'r': 1, 'c': 1, 'b': 1, '.': 1, 'B': 1, 'm': 1}), Counter({' ': 14, 'o': 7, 'e': 4, 'l': 4, 't': 3, 'a': 3, 'r': 3, 'n': 2, 'm': 2, 'u': 2, ',': 2, 'v': 2, 'w': 2, 'i': 2, 'k': 1, 's': 1, 'd': 1, 'b': 1, 'h': 1, 'y': 1, '.': 1, 'A': 1}), Counter({' ': 11, 'e': 10, 'h': 4, 'a': 4, 'l': 4, 'n': 3, ',': 3, 'w': 3, 'r': 3, 's': 3, 'i': 2, 'g': 2, 't': 2, 'o': 2, 'b': 2, 'p': 2, 'c': 1, 'I': 1, 'v': 1}), Counter({' ': 11, 't': 6, 'a': 5, 'o': 5, 'e': 4, 'd': 4, 'n': 4, 's': 4, 'i': 3, 'r': 3, 'h': 3, 'w': 2, 'p': 2, 'y': 2, 'l': 2, 'f': 1, 'u': 1, '.': 1, 'H': 1, ',': 1, 'g': 1}), Counter({' ': 12, 'e': 8, 'h': 6, 'r': 4, 'g': 4, 'a': 3, 'm': 3, 'o': 3, 'y': 3, 't': 3, 'c': 2, 'w': 2, '.': 2, 'T': 2, 'd': 2, 'i': 2, 'n': 2, 'u': 1, 'l': 1}), Counter({' ': 10, 'e': 7, 'n': 6, 'a': 6, 'd': 5, 'r': 4, 'o': 3, 't': 3, 's': 3, 'i': 2, 'h': 2, 'm': 2, 'w': 1, 'u': 1, 'k': 1, ',': 1, 'p': 1, 'c': 1, 'l': 1, '.': 1}), Counter(), Counter({' ': 11, 'e': 8, 's': 5, 'l': 4, 'h': 3, 'g': 3, 'a': 3, 'r': 3, 'n': 3, 'o': 3, 'i': 2, 't': 2, ',': 2, 'f': 2, 'T': 1, 'y': 1, 'v': 1, 'w': 1, 'd': 1, 'k': 1, 'u': 1}), Counter({' ': 12, 'e': 5, 'a': 5, 'w': 4, 'n': 4, 'o': 4, 'l': 4, 's': 4, 'i': 3, ',': 3, 'd': 3, 'h': 2, 't': 2, 'g': 2, 'f': 2, 'r': 1, 'y': 1}), Counter({' ': 11, 'e': 7, 't': 6, 'h': 6, 'r': 6, 'i': 3, 'n': 3, 'o': 3, 's': 2, 'a': 2, 'u': 2, 'f': 2, 'b': 1, 'w': 1, '.': 1, 'T': 1, 'p': 1, 'y': 1}), Counter({' ': 10, 'e': 7, 'a': 6, 't': 5, 'l': 4, 'i': 4, 'd': 3, 'r': 3, 'b': 3, 'u': 3, 'c': 2, 'n': 2, ',': 2, 'h': 2, 'o': 2, 'm': 1, 'f': 1, 'y': 1}), Counter({' ': 11, 'e': 10, 'i': 4, 'n': 4, 'd': 4, 't': 4, 'r': 4, 'h': 4, 's': 3, 'o': 3, 'p': 2, 'a': 2, 'b': 2, 'c': 1, 'w': 1, 'l': 1, '.': 1, 'T': 1}), Counter({' ': 11, 'e': 6, 'a': 5, 't': 5, 'h': 5, 's': 4, 'r': 3, 'l': 3, 'o': 3, 'w': 3, 'k': 2, 'd': 2, 'f': 2, 'c': 1, 'm': 1, 'b': 1, 'n': 1, ',': 1, 'i': 1, 'g': 1}), Counter({' ': 13, 'e': 7, 'o': 6, 'r': 5, 'd': 5, 'n': 5, 'h': 3, 't': 3, 'i': 3, 'b': 2, 's': 2, 'a': 2, 'f': 2, 'g': 2, '.': 1, 'O': 1, 'm': 1, 'c': 1, 'l': 1}), Counter({' ': 13, 'e': 6, 't': 5, 'o': 5, 'f': 4, 'r': 4, 'd': 4, 'i': 3, 'n': 3, 'a': 3, 'h': 2, 'g': 2, 'm': 2, 'u': 2, 'l': 2, ',': 1, 's': 1, 'w': 1, 'c': 1}), Counter({' ': 14, 'n': 6, 'e': 5, 't': 5, 'o': 4, 'a': 4, 'u': 3, 'f': 3, 'i': 3, 'c': 2, ',': 2, 'h': 2, 'g': 2, 'r': 2, 'p': 2, 'k': 1, 'x': 1, 'd': 1, 'b': 1, 's': 1}), Counter({' ': 11, 't': 6, 'e': 6, 'a': 6, 'h': 4, 'i': 4, 'r': 4, 's': 3, 'o': 2, 'n': 2, 'd': 2, 'l': 2, ',': 1, 'w': 1, 'y': 1, 'v': 1, 'c': 1, 'k': 1, 'f': 1, 'g': 1, 'b': 1, \"'\": 1}), Counter({' ': 13, 'o': 9, 't': 5, 'b': 4, 'e': 4, 'a': 4, 'r': 3, 'n': 3, 'd': 3, 'k': 2, 'l': 2, 's': 1, 'm': 1, '.': 1, 'T': 1, 'h': 1, 'c': 1, 'w': 1, 'f': 1, 'i': 1, ',': 1, 'u': 1}), Counter({' ': 11, 'o': 5, 'n': 4, 't': 4, 'h': 4, 'e': 4, 'd': 3, 'i': 3, 'a': 3, 'u': 2, 'f': 2, 'c': 1, 'l': 1, '.': 1, 'T': 1, 'r': 1, 'm': 1, 's': 1, ',': 1, 'v': 1, 'y': 1}), Counter({' ': 10, 'e': 7, 'o': 5, 'd': 5, 'h': 5, 't': 4, 'a': 3, 'l': 2, 'i': 2, 'n': 2, 'g': 2, 'r': 2, 'k': 1, 'b': 1, 's': 1, '.': 1, 'B': 1, 'u': 1, 'w': 1, 'm': 1, 'c': 1, ',': 1}), Counter({' ': 11, 'e': 7, 'o': 6, 't': 6, 'a': 4, 'n': 4, 'l': 4, 'g': 3, 'i': 3, 'm': 2, 'd': 2, 'h': 2, 'f': 2, 'c': 1, 's': 1, ',': 1, 'v': 1, 'k': 1}), Counter({' ': 7, 'n': 5, 'o': 4, 'r': 4, 'm': 2, 'i': 2, 'g': 2, 't': 2, 'e': 2, 'f': 2, 'w': 2, 'u': 2, 'a': 2, 'y': 2, ',': 1, 'h': 1, \"'\": 1, '.': 1}), Counter(), Counter({' ': 12, 'e': 6, 'h': 5, 't': 4, 'r': 4, 'a': 4, 'i': 4, 'n': 3, 'o': 3, 's': 3, 'd': 3, 'b': 2, ',': 2, 'g': 2, 'T': 1, 'l': 1, 'w': 1, 'm': 1, 'v': 1, 'u': 1, 'p': 1}), Counter({' ': 11, 'a': 7, 'd': 5, 'o': 5, 'e': 4, 'n': 4, 't': 4, 's': 2, 'r': 2, 'h': 2, ',': 2, 'w': 2, 'c': 1, 'l': 1, 'm': 1, 'p': 1, 'u': 1}), Counter({' ': 9, 'e': 5, 'n': 5, 't': 5, 'i': 4, 'h': 4, 'o': 4, 's': 3, 'a': 3, 'l': 2, 'g': 2, 'd': 2, 'r': 2, 'w': 2, 'y': 2, 'p': 1, '-': 1, 'u': 1, ',': 1}), Counter({' ': 11, 'e': 8, 'n': 5, 'd': 5, 'h': 4, 'a': 4, 'r': 4, 't': 3, 'l': 3, 'i': 2, 's': 2, 'c': 1, ',': 1, 'p': 1, 'o': 1, '.': 1, 'W': 1, 'b': 1}), Counter({' ': 11, 'h': 7, 't': 6, 'e': 6, 'a': 5, 'o': 4, 'd': 4, 's': 3, ',': 2, 'm': 2, 'n': 2, 'c': 1, 'u': 1, 'f': 1, 'r': 1, 'b': 1, 'i': 1, 'g': 1, 'p': 1}), Counter({' ': 12, 'e': 8, 'r': 6, 'o': 5, 't': 4, 'n': 4, 'h': 3, 's': 3, 'a': 3, 'l': 2, ',': 2, 'y': 2, 'g': 2, 'd': 2, 'v': 1, 'p': 1, 'f': 1, 'i': 1, 'w': 1, 'u': 1}), Counter({' ': 12, 'e': 7, 'o': 5, 's': 4, 'h': 4, 'r': 4, 't': 4, 'w': 2, 'a': 2, 'l': 2, 'u': 2, 'd': 2, 'n': 2, 'k': 1, 'f': 1, 'm': 1, '.': 1, 'B': 1, 'G': 1}), Counter({' ': 13, 'e': 8, 'h': 5, 'o': 4, 'l': 3, 'd': 3, 'a': 3, 'n': 3, 't': 3, 'w': 3, 'p': 2, 'r': 2, 's': 2, ',': 1, 'g': 1, 'f': 1, 'y': 1, 'v': 1, '.': 1, 'T': 1, 'm': 1, 'u': 1, 'i': 1}), Counter({' ': 11, 'e': 10, 'r': 7, 'd': 6, 'h': 5, 'o': 5, 't': 4, 'n': 3, 'u': 3, ',': 2, 's': 2, 'p': 1, 'a': 1, 'y': 1, 'i': 1, 'f': 1, 'm': 1, \"'\": 1}), Counter({' ': 13, 'e': 7, 'h': 6, 'w': 5, 'i': 4, 't': 4, 'a': 4, 'l': 3, 'd': 3, 'n': 3, 'p': 2, 'r': 2, 'o': 2, 's': 1, '.': 1, 'T': 1, 'b': 1, 'y': 1}), Counter({' ': 11, 's': 6, 'e': 6, 't': 5, 'n': 5, 'a': 5, 'd': 4, 'r': 3, 'h': 3, 'u': 3, 'p': 3, 'w': 2, ',': 2, 'l': 2, 'o': 2, 'b': 1, 'i': 1, 'g': 1}), Counter({' ': 11, 'h': 8, 'e': 8, 't': 5, 'o': 4, 'w': 4, 'a': 3, 'n': 3, 'd': 3, 'l': 3, 'm': 2, 'y': 2, 'i': 2, 's': 1, 'g': 1, '.': 1, 'T': 1, 'k': 1}), Counter({' ': 12, 't': 8, 'n': 7, 'i': 6, 'h': 6, 'e': 6, 'l': 3, 'r': 3, 'a': 3, 'g': 2, ',': 2, 'm': 2, 'd': 2, 'u': 1, 'o': 1, 'y': 1, 'v': 1}), Counter({' ': 9, 'e': 8, 'a': 6, 't': 5, 'h': 5, 'd': 4, 'i': 3, 'n': 3, 'r': 3, 'l': 2, 'y': 2, 'p': 2, 'm': 1, 'o': 1, 'f': 1, 'v': 1, 'g': 1, 'x': 1, 'c': 1, 's': 1, '.': 1}), Counter(), Counter({'e': 11, ' ': 11, 't': 5, 'd': 5, 'h': 4, 'o': 4, 'r': 4, 'a': 3, 'b': 3, 'n': 2, 'c': 2, 'm': 2, 'i': 2, 'g': 2, 'W': 1, 'y': 1, 'f': 1, 'w': 1, 'l': 1, ',': 1}), Counter({' ': 9, 'a': 7, 'e': 6, 'd': 5, 'i': 5, 'l': 5, 'n': 4, 'r': 3, 't': 3, 'h': 3, 'p': 2, 's': 2, ',': 1, 'm': 1, 'v': 1, 'o': 1}), Counter({' ': 11, 'e': 7, 't': 6, 'a': 6, 's': 4, 'd': 3, 'r': 2, 'i': 2, 'n': 2, 'h': 2, 'b': 2, 'l': 2, 'f': 1, '.': 1, 'A': 1, 'y': 1, ',': 1, 'c': 1, 'w': 1, 'o': 1}), Counter({' ': 12, 'i': 6, 's': 5, 'e': 5, 't': 5, 'h': 5, 'n': 5, 'd': 4, 'a': 4, 'o': 2, 'g': 2, '.': 2, 'T': 2, 'l': 2, 'm': 1, 'b': 1, 'r': 1, ',': 1}), Counter({' ': 10, 'o': 8, 'r': 4, 'i': 4, 'd': 4, 'e': 4, 'n': 4, 'g': 3, 'm': 3, 't': 3, ',': 3, 'b': 2, 'h': 2, 'y': 2, 'c': 1, 'a': 1, 'l': 1, 'u': 1, 'k': 1, 'w': 1, '.': 1}), Counter({' ': 12, 'e': 10, 't': 6, 'l': 5, 'h': 4, 'i': 4, 's': 3, 'o': 2, 'n': 2, 'r': 2, 'R': 1, 'a': 1, 'm': 1, 'g': 1, 'u': 1, 'k': 1, '.': 1, 'S': 1, 'p': 1, 'd': 1, ',': 1, 'I': 1, 'w': 1}), Counter({' ': 13, 'a': 10, 'e': 4, 'l': 4, 't': 4, 'o': 4, 'r': 3, 'd': 3, 'w': 3, 'n': 3, 's': 2, 'g': 2, 'h': 2, 'm': 1, '.': 1, 'I': 1, 'k': 1, 'i': 1, 'u': 1, ',': 1}), Counter({' ': 14, 'o': 5, 'a': 4, 'h': 4, 'i': 4, 'n': 4, 'l': 4, 'e': 3, 't': 3, 'u': 3, 's': 3, 'w': 3, 'c': 2, ',': 2, 'I': 1, 'm': 1, 'v': 1, 'g': 1, 'b': 1}), Counter({' ': 8, 'e': 4, 'a': 4, 'i': 4, 'h': 3, 'r': 3, 'c': 3, 'w': 2, 'd': 2, 't': 1, 's': 1, 'b': 1, 'n': 1, 'g': 1, ',': 1}), Counter({' ': 6, 'n': 4, 'a': 4, 'u': 3, 'r': 3, ',': 3, 't': 2, 'b': 2, 'c': 2, 'k': 2, 'd': 2, 'e': 2, '\\t': 1, 'y': 1, 'o': 1, 'g': 1, 'm': 1, 'i': 1}), Counter({'e': 7, ' ': 6, 'r': 5, 's': 3, 'u': 3, \"'\": 2, 't': 2, 'h': 2, 'o': 2, '\\t': 1, 'i': 1, 'a': 1, 'm': 1, 'd': 1, 'y': 1, 'n': 1, '.': 1}), Counter({' ': 12, 'i': 5, 'n': 4, 'd': 4, 't': 4, 'r': 4, 'e': 4, 'o': 3, 'h': 2, 's': 2, 'c': 2, 'm': 2, '.': 2, 'y': 2, 'a': 2, 'l': 2, 'A': 1, 'M': 1, 'g': 1, ',': 1, 'I': 1}), Counter(), Counter({' ': 12, 'e': 7, 'h': 5, 't': 5, 'n': 4, 'a': 4, 'l': 4, 'r': 3, 'o': 3, 'w': 2, 'm': 2, ',': 2, 'd': 2, 'y': 2, 'T': 1, 'I': 1, 'u': 1, 'g': 1, 's': 1, 'p': 1}), Counter({' ': 12, 't': 7, 'e': 6, 'o': 5, 'h': 4, 's': 4, 'r': 3, 'w': 3, 'a': 3, 'n': 3, 'm': 2, 'i': 2, 'b': 2, 'l': 2, 'g': 1, 'u': 1, '.': 1, 'A': 1, 'I': 1, 'd': 1}), Counter({' ': 12, 'e': 8, 'a': 6, 't': 4, 'o': 4, 'h': 4, 'r': 4, 'n': 3, 'l': 3, 'd': 3, ',': 2, 's': 2, 'v': 2, 'y': 2, 'w': 2, 'i': 1, 'c': 1, 'm': 1}), Counter({' ': 13, 'e': 7, 'o': 6, 's': 5, 'h': 5, 'i': 4, 'd': 3, 'r': 3, 'k': 2, '.': 2, 'm': 2, 'I': 1, 'a': 1, ',': 1, 'y': 1, 'b': 1, 'g': 1, 'l': 1, 'v': 1, 'n': 1, 't': 1, 'u': 1, 'S': 1}), Counter({' ': 10, 'e': 6, 'a': 5, 'r': 5, 'o': 5, 'd': 4, 'n': 3, 's': 3, ',': 3, 'l': 2, 'h': 2, 'i': 2, 'u': 2, 't': 2, 'w': 1, 'p': 1, 'c': 1, 'y': 1, 'v': 1, 'g': 1, 'm': 1, \"'\": 1}), Counter({' ': 11, 'e': 9, 'o': 5, 'i': 5, 'r': 4, 'u': 3, 'l': 3, 'h': 3, 'y': 2, 'b': 2, 'd': 2, 's': 2, ',': 2, 'w': 2, 'g': 1, 'm': 1, 'v': 1, 't': 1, 'n': 1, 'p': 1, 'c': 1}), Counter({' ': 14, 'a': 5, 'n': 5, 'l': 5, 'o': 5, 'd': 4, 'y': 4, 'i': 3, 'u': 3, 'e': 3, 'k': 2, ',': 2, 't': 2, 'h': 2, 'w': 1, 'c': 1, '.': 1, 'M': 1, 'r': 1, 'g': 1}), Counter({' ': 13, 'e': 5, 't': 5, 'd': 4, 'a': 4, 'h': 4, 'o': 3, 'n': 3, 'm': 3, 'i': 3, 'l': 2, 'r': 2, 'I': 1, 'y': 1, 's': 1, '.': 1, 'B': 1, 'u': 1, 'w': 1, 'b': 1, 'g': 1}), Counter({' ': 10, 'e': 8, 'h': 6, 'a': 5, 's': 4, 'd': 4, 'o': 3, ',': 3, 'n': 3, 'c': 3, 'r': 3, 'w': 2, 'b': 2, 'm': 2, 'g': 1, 'l': 1, 'y': 1, 'I': 1, 'i': 1, 't': 1}), Counter({' ': 11, 'e': 6, 't': 5, 'h': 5, 'a': 4, 'g': 4, 'i': 4, 'd': 3, 'n': 3, 'm': 3, 'o': 3, 'r': 2, 'w': 2, ',': 1, 'y': 1, 'v': 1, 'k': 1, 's': 1, 'f': 1}), Counter({' ': 11, 'e': 7, 'h': 6, 'w': 5, 'i': 5, 'r': 5, 't': 4, ',': 4, 'n': 3, 'o': 3, 'd': 3, 'k': 2, 'a': 2, 'l': 2, 'y': 1, 'c': 1, 'b': 1}), Counter({' ': 12, 'n': 5, 'e': 5, 'i': 4, 't': 4, 'l': 4, 'a': 3, 'y': 3, 'd': 3, 'r': 3, 'h': 3, '.': 2, 'o': 2, 'u': 2, 'p': 2, 'w': 1, 'M': 1, 'g': 1, ',': 1, 'I': 1, 'm': 1, 's': 1, 'T': 1}), Counter({' ': 12, 'e': 8, 'o': 4, 'h': 4, 'r': 4, 'f': 3, 't': 3, 'a': 3, 'n': 3, 'd': 3, 'i': 3, 'p': 2, 'y': 2, 'c': 2, 's': 2, 'l': 1, ',': 1, 'w': 1, 'b': 1}), Counter({' ': 11, 't': 5, 'a': 5, 'l': 5, 'e': 4, 'n': 4, 'd': 4, 'r': 3, 'i': 3, ',': 2, 's': 2, 'h': 2, 'm': 2, 'y': 2, 'b': 1, 'p': 1, 'k': 1, 'w': 1, '.': 1, 'M': 1, 'g': 1, 'I': 1, 'o': 1}), Counter({' ': 14, 't': 6, 's': 5, 'e': 5, 'h': 4, 'n': 4, 'o': 4, 'r': 4, 'a': 4, 'i': 3, 'b': 2, 'w': 2, 'l': 2, '.': 1, 'A': 1, 'd': 1, 'f': 1, 'g': 1}), Counter({' ': 14, 'a': 7, 'e': 5, 't': 5, 'r': 4, 'o': 4, 'h': 3, 'i': 3, 'f': 3, 'n': 3, 'd': 3, 'l': 2, ',': 2, 's': 2, 'w': 2, 'g': 1, 'k': 1, 'x': 1}), Counter({' ': 13, 'n': 6, 'a': 5, 't': 5, 'i': 4, 'r': 4, 'u': 3, 'f': 3, 'e': 3, 'g': 3, 'p': 3, 'd': 2, ',': 2, 'h': 2, 's': 2, 'c': 1, 'o': 1, 'b': 1}), Counter({' ': 13, 'e': 8, 'h': 6, 'n': 4, 'd': 4, 't': 4, 'i': 3, 'a': 3, 'o': 3, 's': 3, 'b': 2, 'g': 2, 'r': 2, 'l': 2, 'm': 2, ',': 1, 'f': 1, 'y': 1, '.': 1, 'A': 1}), Counter({' ': 13, 'e': 6, 't': 6, 'h': 6, 'i': 5, 'r': 5, 'n': 4, 'w': 4, 'd': 4, 's': 3, 'f': 2, 'g': 2, 'o': 2, '.': 1, 'A': 1, ',': 1, 'a': 1}), Counter({'e': 4, ' ': 4, 't': 4, 's': 3, 'o': 3, 'h': 2, 'w': 1, 'd': 1, 'i': 1, 'p': 1, 'r': 1, 'n': 1, '.': 1}), Counter(), Counter({' ': 11, 'e': 6, 's': 6, 'h': 5, 'a': 5, 'r': 4, 'o': 4, 'b': 3, ',': 2, 'd': 2, 'i': 2, 't': 2, 'T': 1, 'w': 1, 'u': 1, 'n': 1, 'g': 1, 'y': 1, 'c': 1, 'm': 1, 'p': 1, 'l': 1}), Counter({' ': 12, 'e': 7, 't': 7, 'a': 6, 'd': 4, 's': 4, 'p': 3, 'u': 3, 'n': 3, 'h': 3, 'l': 2, ',': 2, 'w': 1, 'o': 1, 'c': 1, 'b': 1, 'g': 1, 'i': 1, 'm': 1, 'f': 1}), Counter({' ': 12, 'e': 10, 'h': 5, 'o': 5, 'i': 4, 'r': 4, 'd': 3, 't': 3, 'l': 2, 'v': 2, 's': 2, 'n': 2, 'w': 2, 'm': 1, 'j': 1, 'u': 1, 'c': 1, '.': 1, 'T': 1, 'a': 1, 'p': 1}), Counter({'e': 6, ' ': 4, 'd': 3, 'u': 2, 't': 2, 'f': 2, 'o': 2, 'r': 2, 'i': 2, 's': 2, 'x': 1, 'c': 1, 'h': 1, 'n': 1, 'a': 1, 'm': 1, '.': 1}), Counter()]\n"
     ]
    }
   ],
   "source": [
    "split_line= []\n",
    "for line in novel_text.split('\\n'):\n",
    "    split_line.append(Counter(line))\n",
    "print(split_line)"
   ]
  },
  {
   "cell_type": "code",
   "execution_count": null,
   "metadata": {},
   "outputs": [],
   "source": []
  },
  {
   "cell_type": "code",
   "execution_count": 56,
   "metadata": {},
   "outputs": [
    {
     "name": "stdout",
     "output_type": "stream",
     "text": [
      "Three most frequent characters:\n",
      "[(' ', 1312), ('e', 748), ('t', 456)]\n",
      "\n",
      "Three most frequent word tokens:\n",
      "[('the', 77), ('and', 69), ('a', 37)]\n",
      "\n",
      "List of Counter objects for character-level frequency dictionaries for each line:\n",
      "[Counter({' ': 11, 'e': 6, 'a': 6, 'h': 3, 'o': 3, 'u': 3, 'i': 3, 'l': 3, 'r': 2, 'w': 2, 'n': 2, 't': 2, 'm': 2, 'T': 1, 's': 1, 'c': 1, 'p': 1, ',': 1, 'd': 1, 'b': 1, 'f': 1}), Counter({' ': 11, 'a': 6, 'h': 6, 's': 6, 'e': 5, 'w': 4, 'd': 3, 't': 3, 'u': 2, 'g': 2, 'r': 2, ',': 2, 'n': 2, 'o': 1, 'p': 1, 'i': 1}), Counter({' ': 11, 'o': 6, 'r': 5, 'd': 5, 'i': 4, 'e': 4, 'a': 3, 't': 3, 'f': 2, ',': 2, 'n': 2, 'l': 2, 'h': 2, 'u': 2, 'g': 2, 'p': 1, 'v': 1, 'w': 1, 'm': 1, '.': 1, 'H': 1, 'y': 1, 's': 1}), Counter({' ': 13, 'o': 5, 'e': 4, 's': 3, 'r': 3, 'h': 3, 'i': 3, 'l': 3, 'm': 2, 'a': 2, 'n': 2, 'g': 2, 't': 2, 'c': 1, 'd': 1, 'k': 1, 'f': 1, ',': 1, 'I': 1, 'w': 1, 'v': 1, '.': 1, 'N': 1}), Counter({' ': 11, 'a': 8, 'e': 6, 'r': 6, 't': 3, 'd': 3, 's': 3, ',': 3, 'o': 3, 'w': 2, 'i': 2, 'c': 2, 'h': 2, 'p': 2, 'f': 1, 'u': 1, 'm': 1, 'b': 1, 'v': 1, 'y': 1, 'n': 1}), Counter({' ': 11, 'h': 6, 'i': 6, 't': 4, 'e': 4, 'm': 3, 'l': 3, 'd': 3, 'o': 3, 'r': 2, 'a': 2, 'n': 2, 'f': 2, 's': 2, 'u': 1, 'w': 1, ',': 1, 'p': 1}), Counter({' ': 11, 'e': 7, 'i': 6, 'h': 5, 'd': 4, 't': 4, 'o': 3, 'm': 3, 'a': 2, 'u': 2, 'r': 2, 'n': 2, ',': 2, 'g': 1, '.': 1, 'T': 1, 'w': 1, 'v': 1, 'l': 1, 'k': 1, 'q': 1}), Counter({' ': 14, 's': 5, 'h': 5, 'a': 5, 'e': 5, 'o': 4, 'm': 3, 'g': 3, 'i': 3, 'l': 3, 'd': 3, 'n': 3, 'u': 2, 't': 2, 'c': 1, 'r': 1, 'k': 1, 'w': 1, ',': 1}), Counter({' ': 12, 'h': 7, 'e': 6, 'n': 5, 'o': 5, 'i': 4, 'a': 2, 'd': 2, 'c': 2, 'f': 2, 'm': 2, 'r': 2, 's': 2, ',': 2, 't': 2, '.': 1, 'W': 1, 'v': 1, 'w': 1, 'u': 1, 'g': 1}), Counter({' ': 13, 'e': 8, 'r': 6, 'h': 4, 'o': 4, 's': 3, 't': 3, 'a': 3, 'c': 2, 'y': 2, 'f': 1, 'l': 1, '.': 1, 'O': 1, 'n': 1, 'i': 1, 'd': 1, ',': 1, 'u': 1, 'm': 1}), Counter({' ': 11, 'e': 9, 't': 4, 'a': 4, 'o': 3, 'h': 3, 'd': 3, 'n': 3, 'v': 3, 'i': 3, 'r': 2, 'y': 2, 'b': 1, ',': 1, 'u': 1, 'c': 1, 'p': 1, 'm': 1, 's': 1, '.': 1, 'T': 1}), Counter({' ': 11, 'e': 8, 'i': 4, 'n': 4, 'o': 4, 'h': 4, 'd': 3, 'r': 3, 's': 3, 'a': 2, 'w': 2, 't': 2, 'u': 2, 'm': 1, 'p': 1, 'l': 1, ',': 1, 'I': 1, 'k': 1, 'y': 1, '.': 1, 'T': 1}), Counter({' ': 11, 'e': 7, 'r': 5, 'o': 5, 'h': 4, 't': 4, 'i': 3, 's': 3, 'd': 2, 'm': 2, 'u': 2, 'b': 1, 'g': 1, ',': 1, 'y': 1, 'n': 1, 'a': 1, 'k': 1, 'f': 1, '.': 1, 'S': 1}), Counter({'e': 5, ' ': 3, 't': 2, 'r': 2, 's': 2, 'i': 1, 'd': 1, 'o': 1, 'x': 1, 'c': 1, 'u': 1, 'h': 1, 'l': 1, 'f': 1}), Counter({' ': 12, 'd': 6, 'e': 6, 'a': 4, 'i': 4, 'h': 4, 'o': 4, 'n': 3, 's': 3, 't': 3, 'r': 3, 'c': 1, 'u': 1, 'l': 1, 'f': 1, 'w': 1, 'y': 1, '.': 1, 'T': 1, 'b': 1, 'g': 1, 'm': 1, ',': 1}), Counter({' ': 11, 'e': 7, 't': 5, 'u': 4, 'a': 4, 'o': 4, 'y': 3, 'm': 3, 'n': 2, 's': 2, 'd': 2, 'h': 2, 'r': 2, 'x': 1, 'c': 1, ',': 1, 'I': 1, 'v': 1, 'l': 1}), Counter({' ': 12, 't': 6, 'e': 6, 's': 5, 'i': 4, 'a': 4, 'n': 3, 'd': 3, 'h': 3, 'r': 3, 'u': 2, 'w': 2, 'l': 2, 'o': 2, 'y': 2, 'v': 1, 'g': 1, ',': 1, 'I': 1, 'm': 1}), Counter({' ': 11, 'h': 5, 'e': 5, 'n': 4, 'a': 4, 't': 4, 'd': 3, 'y': 3, 'o': 3, 'u': 3, 'r': 3, 'f': 2, 's': 2, 'i': 1, 'w': 1, 'g': 1, '.': 1, 'W': 1, 'c': 1, 'm': 1, ',': 1}), Counter({' ': 12, 'e': 9, 'a': 5, 'h': 4, 's': 4, 'n': 3, 't': 3, 'o': 3, 'y': 3, 'm': 2, 'd': 2, 'u': 2, 'r': 2, ',': 2, 'i': 1, 'w': 1, 'b': 1, 'c': 1, 'v': 1}), Counter({' ': 12, 'e': 7, 'h': 5, 'l': 4, 't': 4, 'a': 4, 'r': 3, 'n': 3, 'w': 3, 'o': 3, 'y': 3, 's': 2, 'f': 2, 'k': 2, 'd': 2, 'x': 1, 'c': 1, ',': 1, 'm': 1, 'i': 1, 'b': 1}), Counter({' ': 12, 'e': 9, 's': 6, 't': 5, 'l': 4, 'h': 3, 'r': 3, 'a': 3, 'n': 3, 'p': 2, 'o': 2, 'f': 2, 'w': 2, 'c': 1, 'k': 1, 'u': 1, 'd': 1, 'i': 1, '.': 1, 'A': 1}), Counter({'e': 11, ' ': 11, 't': 7, 'o': 4, 's': 4, 'n': 3, 'r': 3, 'a': 3, 'f': 3, 'h': 3, ',': 2, 'd': 2, 'l': 2, 'c': 1, 'w': 1, 'b': 1, 'u': 1, 'v': 1, 'y': 1, 'p': 1}), Counter({' ': 13, 'e': 8, 'h': 5, 'o': 5, 't': 4, 'a': 4, 's': 3, 'l': 3, 'r': 2, 'w': 2, 'u': 2, 'p': 2, 'n': 2, 'd': 2, 'c': 1, 'f': 1, 'g': 1, '.': 1, 'S': 1, 'k': 1, 'm': 1}), Counter({' ': 11, 'e': 10, 'h': 6, 't': 5, 'd': 4, 'o': 3, 'l': 3, 'i': 3, 'r': 3, 'w': 2, 'a': 2, 's': 2, 'f': 2, 'y': 1, 'u': 1, 'n': 1, 'c': 1, 'm': 1, ',': 1}), Counter({' ': 11, 's': 6, 'h': 6, 'e': 6, 'a': 5, 't': 5, 'd': 5, 'o': 4, 'r': 3, 'i': 3, 'w': 2, ',': 2, 'k': 1, 'n': 1, 'l': 1, 'y': 1, 'u': 1, 'c': 1}), Counter({' ': 13, 'i': 6, 'o': 5, 'e': 5, 'd': 5, 'n': 4, 't': 4, 'l': 3, 'k': 3, 's': 3, 'a': 3, ',': 2, 'r': 2, 'f': 1, 'm': 1, '.': 1, 'S': 1, 'h': 1, 'w': 1}), Counter({' ': 10, 't': 6, 'n': 6, 'e': 6, 's': 6, 'o': 4, 'i': 4, 'a': 3, 'l': 3, 'b': 2, 'u': 2, 'w': 2, 'h': 2, 'd': 2, ',': 1, 'm': 1, 'r': 1, 'g': 1, '.': 1}), Counter(), Counter({'d': 3, 'e': 3, ' ': 3, 'i': 2, 'c': 2, 'S': 1, 'u': 1, 'n': 1, 'l': 1, 'y': 1, 'a': 1, 'v': 1, 'o': 1, 'r': 1, ',': 1}), Counter({' ': 6, 'n': 4, 'a': 4, 'u': 3, 'r': 3, ',': 3, 't': 2, 'b': 2, 'c': 2, 'k': 2, 'd': 2, 'e': 2, '\\t': 1, 'y': 1, 'o': 1, 'g': 1, 'm': 1, 'i': 1}), Counter({'e': 7, ' ': 6, 'r': 5, 's': 3, 'u': 3, \"'\": 2, 't': 2, 'h': 2, 'o': 2, '\\t': 1, 'i': 1, 'a': 1, 'm': 1, 'd': 1, 'y': 1, 'n': 1, '.': 1}), Counter({' ': 12, 'e': 6, 'a': 6, 'd': 4, 'o': 4, 'h': 3, 'm': 3, 'i': 3, 't': 3, 'n': 2, ',': 2, 'c': 2, 'r': 2, 'T': 1, 'l': 1, 'k': 1, 'u': 1, 'p': 1, 's': 1, 'w': 1, 'v': 1, 'f': 1, 'b': 1}), Counter({' ': 13, 'i': 6, 'a': 6, 'n': 5, 'h': 4, 'g': 4, 'w': 3, 'c': 3, 'e': 3, 't': 2, 'l': 2, 's': 1, 'o': 1, '.': 1, 'A': 1, 'r': 1, 'd': 1, ',': 1}), Counter({' ': 6, 'n': 4, 'a': 4, 'u': 3, 'r': 3, ',': 3, 't': 2, 'b': 2, 'c': 2, 'k': 2, 'd': 2, 'e': 2, '\\t': 1, 'y': 1, 'o': 1, 'g': 1, 'm': 1, 'i': 1}), Counter({'e': 7, ' ': 6, 'r': 5, 's': 3, 'u': 3, \"'\": 2, 't': 2, 'h': 2, 'o': 2, '\\t': 1, 'i': 1, 'a': 1, 'm': 1, 'd': 1, 'y': 1, 'n': 1, '.': 1}), Counter(), Counter({' ': 11, 'o': 8, 'e': 7, 'n': 7, 't': 5, 'r': 5, 'h': 4, 'm': 3, 'a': 3, 'f': 2, 'T': 1, 'y': 1, 'u': 1, 'g': 1, 'i': 1, 'd': 1, 'w': 1, ',': 1}), Counter({' ': 10, 'e': 7, 't': 6, 'h': 5, 'a': 3, 'w': 3, 'l': 3, 'o': 3, 'u': 3, 'n': 2, 'd': 2, 'r': 2, 's': 2, 'i': 2, 'y': 2, 'k': 1, 'g': 1, ',': 1, 'b': 1, 'm': 1, 'p': 1}), Counter({' ': 15, 'n': 6, 't': 6, 'e': 6, 'a': 5, 'o': 5, 'h': 3, 's': 3, 'd': 2, 'u': 2, 'm': 2, 'b': 2, 'i': 1, 'g': 1, 'w': 1, 'f': 1, '.': 1, 'A': 1, 'l': 1, 'c': 1}), Counter({'e': 10, ' ': 10, 'a': 7, 't': 4, 'h': 4, 'l': 3, 'r': 3, 'n': 3, 'd': 3, ',': 2, 's': 2, 'm': 2, 'w': 2, 'o': 2, 'c': 1, 'x': 1, 'y': 1, 'g': 1}), Counter({' ': 12, 'o': 5, 'n': 5, 't': 5, 'a': 4, 'e': 4, 's': 3, 'l': 3, 'y': 3, 'm': 3, 'i': 3, 'h': 2, ',': 2, 'd': 2, 'k': 1, 'c': 1, '.': 1, 'C': 1, 'u': 1, 'f': 1}), Counter({'e': 5, 't': 2, 'r': 2, 'h': 2, ' ': 2, 'b': 1, 'o': 1, 'd': 1, 'l': 1, 'i': 1, 'v': 1, 's': 1, '.': 1}), Counter(), Counter({' ': 10, 'o': 6, 'e': 6, 'h': 5, 'l': 4, 'a': 3, ',': 3, 'r': 3, 'i': 3, 'd': 3, 'p': 2, 'c': 2, 't': 2, 'w': 2, 'm': 2, 'A': 1, 's': 1, 'n': 1, 'v': 1, 'y': 1, 'u': 1, '.': 1}), Counter({' ': 15, 'e': 7, 'o': 6, 'r': 6, 'u': 4, 'a': 4, 'n': 4, 'i': 3, 'd': 3, 'Y': 2, 's': 2, 't': 2, 'b': 2, 'm': 1, \"'\": 1, '.': 1, 'h': 1, 'k': 1, 'y': 1}), Counter({' ': 11, 'e': 5, 'i': 4, 'd': 4, 'o': 4, 'r': 3, 'u': 3, 't': 3, 'w': 3, 'a': 2, ',': 2, 'y': 2, 'l': 2, 'k': 2, 'h': 2, 'm': 1, 'b': 1, 'p': 1, 'n': 1, 'g': 1, '.': 1, 'L': 1, 'I': 1}), Counter({' ': 13, 'e': 10, 't': 9, 'a': 4, 'r': 4, 'h': 3, 'n': 3, 'o': 3, 'i': 3, ',': 2, 'w': 2, 'v': 1, 'b': 1, 'f': 1, 'c': 1, 'd': 1, 'p': 1, 'u': 1, 'g': 1, 'k': 1, 'l': 1}), Counter({' ': 12, 'e': 6, 'h': 5, 't': 5, 'y': 4, 'o': 4, 'n': 3, 'w': 3, 'u': 3, 'i': 3, 'a': 2, 'r': 2, 'l': 2, 'd': 1, 'v': 1, 'p': 1, ',': 1, 'c': 1}), Counter({' ': 11, 'e': 6, 'o': 6, 't': 4, 'y': 4, 'i': 3, 'c': 3, 'u': 3, 'r': 3, ',': 3, 'a': 3, 'w': 2, 'h': 2, 'l': 2, 'p': 1, 's': 1, 'm': 1, 'k': 1, 'n': 1, 'd': 1, 'f': 1}), Counter({' ': 13, 'o': 7, 'a': 5, 'n': 5, 'e': 4, 's': 4, 'f': 3, 'h': 3, 't': 2, 'u': 2, 'm': 2, 'I': 2, 'd': 2, 'r': 1, 'l': 1, '.': 1, 'v': 1, 'c': 1, 'p': 1, 'i': 1, 'y': 1, ',': 1}), Counter({' ': 4, 'o': 3, 's': 2, 'a': 2, 'e': 2, 'y': 2, 'u': 2, 'v': 1, ',': 1, 'r': 1, 'l': 1, 't': 1, '.': 1}), Counter(), Counter({' ': 9, 'e': 8, 'h': 6, 'o': 4, 'd': 4, 'a': 4, 'r': 3, 'n': 3, 't': 2, 'l': 2, 'g': 2, 'T': 1, 'u': 1, 'p': 1, 'w': 1, 'm': 1, 'b': 1, 'i': 1, 's': 1}), Counter({' ': 14, 'e': 9, 's': 7, 'o': 4, 'h': 3, 'l': 3, 'd': 3, 'a': 3, 'u': 2, 'n': 2, 't': 2, 'i': 2, ',': 2, 'w': 1, 'r': 1, 'c': 1, 'b': 1, '.': 1, 'B': 1, 'm': 1}), Counter({' ': 14, 'o': 7, 'e': 4, 'l': 4, 't': 3, 'a': 3, 'r': 3, 'n': 2, 'm': 2, 'u': 2, ',': 2, 'v': 2, 'w': 2, 'i': 2, 'k': 1, 's': 1, 'd': 1, 'b': 1, 'h': 1, 'y': 1, '.': 1, 'A': 1}), Counter({' ': 11, 'e': 10, 'h': 4, 'a': 4, 'l': 4, 'n': 3, ',': 3, 'w': 3, 'r': 3, 's': 3, 'i': 2, 'g': 2, 't': 2, 'o': 2, 'b': 2, 'p': 2, 'c': 1, 'I': 1, 'v': 1}), Counter({' ': 11, 't': 6, 'a': 5, 'o': 5, 'e': 4, 'd': 4, 'n': 4, 's': 4, 'i': 3, 'r': 3, 'h': 3, 'w': 2, 'p': 2, 'y': 2, 'l': 2, 'f': 1, 'u': 1, '.': 1, 'H': 1, ',': 1, 'g': 1}), Counter({' ': 12, 'e': 8, 'h': 6, 'r': 4, 'g': 4, 'a': 3, 'm': 3, 'o': 3, 'y': 3, 't': 3, 'c': 2, 'w': 2, '.': 2, 'T': 2, 'd': 2, 'i': 2, 'n': 2, 'u': 1, 'l': 1}), Counter({' ': 10, 'e': 7, 'n': 6, 'a': 6, 'd': 5, 'r': 4, 'o': 3, 't': 3, 's': 3, 'i': 2, 'h': 2, 'm': 2, 'w': 1, 'u': 1, 'k': 1, ',': 1, 'p': 1, 'c': 1, 'l': 1, '.': 1}), Counter(), Counter({' ': 11, 'e': 8, 's': 5, 'l': 4, 'h': 3, 'g': 3, 'a': 3, 'r': 3, 'n': 3, 'o': 3, 'i': 2, 't': 2, ',': 2, 'f': 2, 'T': 1, 'y': 1, 'v': 1, 'w': 1, 'd': 1, 'k': 1, 'u': 1}), Counter({' ': 12, 'e': 5, 'a': 5, 'w': 4, 'n': 4, 'o': 4, 'l': 4, 's': 4, 'i': 3, ',': 3, 'd': 3, 'h': 2, 't': 2, 'g': 2, 'f': 2, 'r': 1, 'y': 1}), Counter({' ': 11, 'e': 7, 't': 6, 'h': 6, 'r': 6, 'i': 3, 'n': 3, 'o': 3, 's': 2, 'a': 2, 'u': 2, 'f': 2, 'b': 1, 'w': 1, '.': 1, 'T': 1, 'p': 1, 'y': 1}), Counter({' ': 10, 'e': 7, 'a': 6, 't': 5, 'l': 4, 'i': 4, 'd': 3, 'r': 3, 'b': 3, 'u': 3, 'c': 2, 'n': 2, ',': 2, 'h': 2, 'o': 2, 'm': 1, 'f': 1, 'y': 1}), Counter({' ': 11, 'e': 10, 'i': 4, 'n': 4, 'd': 4, 't': 4, 'r': 4, 'h': 4, 's': 3, 'o': 3, 'p': 2, 'a': 2, 'b': 2, 'c': 1, 'w': 1, 'l': 1, '.': 1, 'T': 1}), Counter({' ': 11, 'e': 6, 'a': 5, 't': 5, 'h': 5, 's': 4, 'r': 3, 'l': 3, 'o': 3, 'w': 3, 'k': 2, 'd': 2, 'f': 2, 'c': 1, 'm': 1, 'b': 1, 'n': 1, ',': 1, 'i': 1, 'g': 1}), Counter({' ': 13, 'e': 7, 'o': 6, 'r': 5, 'd': 5, 'n': 5, 'h': 3, 't': 3, 'i': 3, 'b': 2, 's': 2, 'a': 2, 'f': 2, 'g': 2, '.': 1, 'O': 1, 'm': 1, 'c': 1, 'l': 1}), Counter({' ': 13, 'e': 6, 't': 5, 'o': 5, 'f': 4, 'r': 4, 'd': 4, 'i': 3, 'n': 3, 'a': 3, 'h': 2, 'g': 2, 'm': 2, 'u': 2, 'l': 2, ',': 1, 's': 1, 'w': 1, 'c': 1}), Counter({' ': 14, 'n': 6, 'e': 5, 't': 5, 'o': 4, 'a': 4, 'u': 3, 'f': 3, 'i': 3, 'c': 2, ',': 2, 'h': 2, 'g': 2, 'r': 2, 'p': 2, 'k': 1, 'x': 1, 'd': 1, 'b': 1, 's': 1}), Counter({' ': 11, 't': 6, 'e': 6, 'a': 6, 'h': 4, 'i': 4, 'r': 4, 's': 3, 'o': 2, 'n': 2, 'd': 2, 'l': 2, ',': 1, 'w': 1, 'y': 1, 'v': 1, 'c': 1, 'k': 1, 'f': 1, 'g': 1, 'b': 1, \"'\": 1}), Counter({' ': 13, 'o': 9, 't': 5, 'b': 4, 'e': 4, 'a': 4, 'r': 3, 'n': 3, 'd': 3, 'k': 2, 'l': 2, 's': 1, 'm': 1, '.': 1, 'T': 1, 'h': 1, 'c': 1, 'w': 1, 'f': 1, 'i': 1, ',': 1, 'u': 1}), Counter({' ': 11, 'o': 5, 'n': 4, 't': 4, 'h': 4, 'e': 4, 'd': 3, 'i': 3, 'a': 3, 'u': 2, 'f': 2, 'c': 1, 'l': 1, '.': 1, 'T': 1, 'r': 1, 'm': 1, 's': 1, ',': 1, 'v': 1, 'y': 1}), Counter({' ': 10, 'e': 7, 'o': 5, 'd': 5, 'h': 5, 't': 4, 'a': 3, 'l': 2, 'i': 2, 'n': 2, 'g': 2, 'r': 2, 'k': 1, 'b': 1, 's': 1, '.': 1, 'B': 1, 'u': 1, 'w': 1, 'm': 1, 'c': 1, ',': 1}), Counter({' ': 11, 'e': 7, 'o': 6, 't': 6, 'a': 4, 'n': 4, 'l': 4, 'g': 3, 'i': 3, 'm': 2, 'd': 2, 'h': 2, 'f': 2, 'c': 1, 's': 1, ',': 1, 'v': 1, 'k': 1}), Counter({' ': 7, 'n': 5, 'o': 4, 'r': 4, 'm': 2, 'i': 2, 'g': 2, 't': 2, 'e': 2, 'f': 2, 'w': 2, 'u': 2, 'a': 2, 'y': 2, ',': 1, 'h': 1, \"'\": 1, '.': 1}), Counter(), Counter({' ': 12, 'e': 6, 'h': 5, 't': 4, 'r': 4, 'a': 4, 'i': 4, 'n': 3, 'o': 3, 's': 3, 'd': 3, 'b': 2, ',': 2, 'g': 2, 'T': 1, 'l': 1, 'w': 1, 'm': 1, 'v': 1, 'u': 1, 'p': 1}), Counter({' ': 11, 'a': 7, 'd': 5, 'o': 5, 'e': 4, 'n': 4, 't': 4, 's': 2, 'r': 2, 'h': 2, ',': 2, 'w': 2, 'c': 1, 'l': 1, 'm': 1, 'p': 1, 'u': 1}), Counter({' ': 9, 'e': 5, 'n': 5, 't': 5, 'i': 4, 'h': 4, 'o': 4, 's': 3, 'a': 3, 'l': 2, 'g': 2, 'd': 2, 'r': 2, 'w': 2, 'y': 2, 'p': 1, '-': 1, 'u': 1, ',': 1}), Counter({' ': 11, 'e': 8, 'n': 5, 'd': 5, 'h': 4, 'a': 4, 'r': 4, 't': 3, 'l': 3, 'i': 2, 's': 2, 'c': 1, ',': 1, 'p': 1, 'o': 1, '.': 1, 'W': 1, 'b': 1}), Counter({' ': 11, 'h': 7, 't': 6, 'e': 6, 'a': 5, 'o': 4, 'd': 4, 's': 3, ',': 2, 'm': 2, 'n': 2, 'c': 1, 'u': 1, 'f': 1, 'r': 1, 'b': 1, 'i': 1, 'g': 1, 'p': 1}), Counter({' ': 12, 'e': 8, 'r': 6, 'o': 5, 't': 4, 'n': 4, 'h': 3, 's': 3, 'a': 3, 'l': 2, ',': 2, 'y': 2, 'g': 2, 'd': 2, 'v': 1, 'p': 1, 'f': 1, 'i': 1, 'w': 1, 'u': 1}), Counter({' ': 12, 'e': 7, 'o': 5, 's': 4, 'h': 4, 'r': 4, 't': 4, 'w': 2, 'a': 2, 'l': 2, 'u': 2, 'd': 2, 'n': 2, 'k': 1, 'f': 1, 'm': 1, '.': 1, 'B': 1, 'G': 1}), Counter({' ': 13, 'e': 8, 'h': 5, 'o': 4, 'l': 3, 'd': 3, 'a': 3, 'n': 3, 't': 3, 'w': 3, 'p': 2, 'r': 2, 's': 2, ',': 1, 'g': 1, 'f': 1, 'y': 1, 'v': 1, '.': 1, 'T': 1, 'm': 1, 'u': 1, 'i': 1}), Counter({' ': 11, 'e': 10, 'r': 7, 'd': 6, 'h': 5, 'o': 5, 't': 4, 'n': 3, 'u': 3, ',': 2, 's': 2, 'p': 1, 'a': 1, 'y': 1, 'i': 1, 'f': 1, 'm': 1, \"'\": 1}), Counter({' ': 13, 'e': 7, 'h': 6, 'w': 5, 'i': 4, 't': 4, 'a': 4, 'l': 3, 'd': 3, 'n': 3, 'p': 2, 'r': 2, 'o': 2, 's': 1, '.': 1, 'T': 1, 'b': 1, 'y': 1}), Counter({' ': 11, 's': 6, 'e': 6, 't': 5, 'n': 5, 'a': 5, 'd': 4, 'r': 3, 'h': 3, 'u': 3, 'p': 3, 'w': 2, ',': 2, 'l': 2, 'o': 2, 'b': 1, 'i': 1, 'g': 1}), Counter({' ': 11, 'h': 8, 'e': 8, 't': 5, 'o': 4, 'w': 4, 'a': 3, 'n': 3, 'd': 3, 'l': 3, 'm': 2, 'y': 2, 'i': 2, 's': 1, 'g': 1, '.': 1, 'T': 1, 'k': 1}), Counter({' ': 12, 't': 8, 'n': 7, 'i': 6, 'h': 6, 'e': 6, 'l': 3, 'r': 3, 'a': 3, 'g': 2, ',': 2, 'm': 2, 'd': 2, 'u': 1, 'o': 1, 'y': 1, 'v': 1}), Counter({' ': 9, 'e': 8, 'a': 6, 't': 5, 'h': 5, 'd': 4, 'i': 3, 'n': 3, 'r': 3, 'l': 2, 'y': 2, 'p': 2, 'm': 1, 'o': 1, 'f': 1, 'v': 1, 'g': 1, 'x': 1, 'c': 1, 's': 1, '.': 1}), Counter(), Counter({'e': 11, ' ': 11, 't': 5, 'd': 5, 'h': 4, 'o': 4, 'r': 4, 'a': 3, 'b': 3, 'n': 2, 'c': 2, 'm': 2, 'i': 2, 'g': 2, 'W': 1, 'y': 1, 'f': 1, 'w': 1, 'l': 1, ',': 1}), Counter({' ': 9, 'a': 7, 'e': 6, 'd': 5, 'i': 5, 'l': 5, 'n': 4, 'r': 3, 't': 3, 'h': 3, 'p': 2, 's': 2, ',': 1, 'm': 1, 'v': 1, 'o': 1}), Counter({' ': 11, 'e': 7, 't': 6, 'a': 6, 's': 4, 'd': 3, 'r': 2, 'i': 2, 'n': 2, 'h': 2, 'b': 2, 'l': 2, 'f': 1, '.': 1, 'A': 1, 'y': 1, ',': 1, 'c': 1, 'w': 1, 'o': 1}), Counter({' ': 12, 'i': 6, 's': 5, 'e': 5, 't': 5, 'h': 5, 'n': 5, 'd': 4, 'a': 4, 'o': 2, 'g': 2, '.': 2, 'T': 2, 'l': 2, 'm': 1, 'b': 1, 'r': 1, ',': 1}), Counter({' ': 10, 'o': 8, 'r': 4, 'i': 4, 'd': 4, 'e': 4, 'n': 4, 'g': 3, 'm': 3, 't': 3, ',': 3, 'b': 2, 'h': 2, 'y': 2, 'c': 1, 'a': 1, 'l': 1, 'u': 1, 'k': 1, 'w': 1, '.': 1}), Counter({' ': 12, 'e': 10, 't': 6, 'l': 5, 'h': 4, 'i': 4, 's': 3, 'o': 2, 'n': 2, 'r': 2, 'R': 1, 'a': 1, 'm': 1, 'g': 1, 'u': 1, 'k': 1, '.': 1, 'S': 1, 'p': 1, 'd': 1, ',': 1, 'I': 1, 'w': 1}), Counter({' ': 13, 'a': 10, 'e': 4, 'l': 4, 't': 4, 'o': 4, 'r': 3, 'd': 3, 'w': 3, 'n': 3, 's': 2, 'g': 2, 'h': 2, 'm': 1, '.': 1, 'I': 1, 'k': 1, 'i': 1, 'u': 1, ',': 1}), Counter({' ': 14, 'o': 5, 'a': 4, 'h': 4, 'i': 4, 'n': 4, 'l': 4, 'e': 3, 't': 3, 'u': 3, 's': 3, 'w': 3, 'c': 2, ',': 2, 'I': 1, 'm': 1, 'v': 1, 'g': 1, 'b': 1}), Counter({' ': 8, 'e': 4, 'a': 4, 'i': 4, 'h': 3, 'r': 3, 'c': 3, 'w': 2, 'd': 2, 't': 1, 's': 1, 'b': 1, 'n': 1, 'g': 1, ',': 1}), Counter({' ': 6, 'n': 4, 'a': 4, 'u': 3, 'r': 3, ',': 3, 't': 2, 'b': 2, 'c': 2, 'k': 2, 'd': 2, 'e': 2, '\\t': 1, 'y': 1, 'o': 1, 'g': 1, 'm': 1, 'i': 1}), Counter({'e': 7, ' ': 6, 'r': 5, 's': 3, 'u': 3, \"'\": 2, 't': 2, 'h': 2, 'o': 2, '\\t': 1, 'i': 1, 'a': 1, 'm': 1, 'd': 1, 'y': 1, 'n': 1, '.': 1}), Counter({' ': 12, 'i': 5, 'n': 4, 'd': 4, 't': 4, 'r': 4, 'e': 4, 'o': 3, 'h': 2, 's': 2, 'c': 2, 'm': 2, '.': 2, 'y': 2, 'a': 2, 'l': 2, 'A': 1, 'M': 1, 'g': 1, ',': 1, 'I': 1}), Counter(), Counter({' ': 12, 'e': 7, 'h': 5, 't': 5, 'n': 4, 'a': 4, 'l': 4, 'r': 3, 'o': 3, 'w': 2, 'm': 2, ',': 2, 'd': 2, 'y': 2, 'T': 1, 'I': 1, 'u': 1, 'g': 1, 's': 1, 'p': 1}), Counter({' ': 12, 't': 7, 'e': 6, 'o': 5, 'h': 4, 's': 4, 'r': 3, 'w': 3, 'a': 3, 'n': 3, 'm': 2, 'i': 2, 'b': 2, 'l': 2, 'g': 1, 'u': 1, '.': 1, 'A': 1, 'I': 1, 'd': 1}), Counter({' ': 12, 'e': 8, 'a': 6, 't': 4, 'o': 4, 'h': 4, 'r': 4, 'n': 3, 'l': 3, 'd': 3, ',': 2, 's': 2, 'v': 2, 'y': 2, 'w': 2, 'i': 1, 'c': 1, 'm': 1}), Counter({' ': 13, 'e': 7, 'o': 6, 's': 5, 'h': 5, 'i': 4, 'd': 3, 'r': 3, 'k': 2, '.': 2, 'm': 2, 'I': 1, 'a': 1, ',': 1, 'y': 1, 'b': 1, 'g': 1, 'l': 1, 'v': 1, 'n': 1, 't': 1, 'u': 1, 'S': 1}), Counter({' ': 10, 'e': 6, 'a': 5, 'r': 5, 'o': 5, 'd': 4, 'n': 3, 's': 3, ',': 3, 'l': 2, 'h': 2, 'i': 2, 'u': 2, 't': 2, 'w': 1, 'p': 1, 'c': 1, 'y': 1, 'v': 1, 'g': 1, 'm': 1, \"'\": 1}), Counter({' ': 11, 'e': 9, 'o': 5, 'i': 5, 'r': 4, 'u': 3, 'l': 3, 'h': 3, 'y': 2, 'b': 2, 'd': 2, 's': 2, ',': 2, 'w': 2, 'g': 1, 'm': 1, 'v': 1, 't': 1, 'n': 1, 'p': 1, 'c': 1}), Counter({' ': 14, 'a': 5, 'n': 5, 'l': 5, 'o': 5, 'd': 4, 'y': 4, 'i': 3, 'u': 3, 'e': 3, 'k': 2, ',': 2, 't': 2, 'h': 2, 'w': 1, 'c': 1, '.': 1, 'M': 1, 'r': 1, 'g': 1}), Counter({' ': 13, 'e': 5, 't': 5, 'd': 4, 'a': 4, 'h': 4, 'o': 3, 'n': 3, 'm': 3, 'i': 3, 'l': 2, 'r': 2, 'I': 1, 'y': 1, 's': 1, '.': 1, 'B': 1, 'u': 1, 'w': 1, 'b': 1, 'g': 1}), Counter({' ': 10, 'e': 8, 'h': 6, 'a': 5, 's': 4, 'd': 4, 'o': 3, ',': 3, 'n': 3, 'c': 3, 'r': 3, 'w': 2, 'b': 2, 'm': 2, 'g': 1, 'l': 1, 'y': 1, 'I': 1, 'i': 1, 't': 1}), Counter({' ': 11, 'e': 6, 't': 5, 'h': 5, 'a': 4, 'g': 4, 'i': 4, 'd': 3, 'n': 3, 'm': 3, 'o': 3, 'r': 2, 'w': 2, ',': 1, 'y': 1, 'v': 1, 'k': 1, 's': 1, 'f': 1}), Counter({' ': 11, 'e': 7, 'h': 6, 'w': 5, 'i': 5, 'r': 5, 't': 4, ',': 4, 'n': 3, 'o': 3, 'd': 3, 'k': 2, 'a': 2, 'l': 2, 'y': 1, 'c': 1, 'b': 1}), Counter({' ': 12, 'n': 5, 'e': 5, 'i': 4, 't': 4, 'l': 4, 'a': 3, 'y': 3, 'd': 3, 'r': 3, 'h': 3, '.': 2, 'o': 2, 'u': 2, 'p': 2, 'w': 1, 'M': 1, 'g': 1, ',': 1, 'I': 1, 'm': 1, 's': 1, 'T': 1}), Counter({' ': 12, 'e': 8, 'o': 4, 'h': 4, 'r': 4, 'f': 3, 't': 3, 'a': 3, 'n': 3, 'd': 3, 'i': 3, 'p': 2, 'y': 2, 'c': 2, 's': 2, 'l': 1, ',': 1, 'w': 1, 'b': 1}), Counter({' ': 11, 't': 5, 'a': 5, 'l': 5, 'e': 4, 'n': 4, 'd': 4, 'r': 3, 'i': 3, ',': 2, 's': 2, 'h': 2, 'm': 2, 'y': 2, 'b': 1, 'p': 1, 'k': 1, 'w': 1, '.': 1, 'M': 1, 'g': 1, 'I': 1, 'o': 1}), Counter({' ': 14, 't': 6, 's': 5, 'e': 5, 'h': 4, 'n': 4, 'o': 4, 'r': 4, 'a': 4, 'i': 3, 'b': 2, 'w': 2, 'l': 2, '.': 1, 'A': 1, 'd': 1, 'f': 1, 'g': 1}), Counter({' ': 14, 'a': 7, 'e': 5, 't': 5, 'r': 4, 'o': 4, 'h': 3, 'i': 3, 'f': 3, 'n': 3, 'd': 3, 'l': 2, ',': 2, 's': 2, 'w': 2, 'g': 1, 'k': 1, 'x': 1}), Counter({' ': 13, 'n': 6, 'a': 5, 't': 5, 'i': 4, 'r': 4, 'u': 3, 'f': 3, 'e': 3, 'g': 3, 'p': 3, 'd': 2, ',': 2, 'h': 2, 's': 2, 'c': 1, 'o': 1, 'b': 1}), Counter({' ': 13, 'e': 8, 'h': 6, 'n': 4, 'd': 4, 't': 4, 'i': 3, 'a': 3, 'o': 3, 's': 3, 'b': 2, 'g': 2, 'r': 2, 'l': 2, 'm': 2, ',': 1, 'f': 1, 'y': 1, '.': 1, 'A': 1}), Counter({' ': 13, 'e': 6, 't': 6, 'h': 6, 'i': 5, 'r': 5, 'n': 4, 'w': 4, 'd': 4, 's': 3, 'f': 2, 'g': 2, 'o': 2, '.': 1, 'A': 1, ',': 1, 'a': 1}), Counter({'e': 4, ' ': 4, 't': 4, 's': 3, 'o': 3, 'h': 2, 'w': 1, 'd': 1, 'i': 1, 'p': 1, 'r': 1, 'n': 1, '.': 1}), Counter(), Counter({' ': 11, 'e': 6, 's': 6, 'h': 5, 'a': 5, 'r': 4, 'o': 4, 'b': 3, ',': 2, 'd': 2, 'i': 2, 't': 2, 'T': 1, 'w': 1, 'u': 1, 'n': 1, 'g': 1, 'y': 1, 'c': 1, 'm': 1, 'p': 1, 'l': 1}), Counter({' ': 12, 'e': 7, 't': 7, 'a': 6, 'd': 4, 's': 4, 'p': 3, 'u': 3, 'n': 3, 'h': 3, 'l': 2, ',': 2, 'w': 1, 'o': 1, 'c': 1, 'b': 1, 'g': 1, 'i': 1, 'm': 1, 'f': 1}), Counter({' ': 12, 'e': 10, 'h': 5, 'o': 5, 'i': 4, 'r': 4, 'd': 3, 't': 3, 'l': 2, 'v': 2, 's': 2, 'n': 2, 'w': 2, 'm': 1, 'j': 1, 'u': 1, 'c': 1, '.': 1, 'T': 1, 'a': 1, 'p': 1}), Counter({'e': 6, ' ': 4, 'd': 3, 'u': 2, 't': 2, 'f': 2, 'o': 2, 'r': 2, 'i': 2, 's': 2, 'x': 1, 'c': 1, 'h': 1, 'n': 1, 'a': 1, 'm': 1, '.': 1})] \n",
      "\n"
     ]
    }
   ],
   "source": [
    "# Download text novel Gutenberg\n",
    "\n",
    "\n",
    "\n",
    "\n",
    "\n",
    "\n",
    "\n",
    "\n",
    "\n",
    "\n",
    "with open(\"/Users/inegevers/Documents/bootcamp2023-2024/30.txt\", 'r') as f:\n",
    "        novel_text = f.read()\n",
    "        \n",
    "# Character-level frequency dictionary\n",
    "character_frequency = Counter(novel_text)\n",
    "most_common_characters = character_frequency.most_common(3)\n",
    "\n",
    "# Word-level frequency dictionary\n",
    "word_frequency = Counter(novel_text.split())\n",
    "most_common_words = word_frequency.most_common(3)\n",
    "\n",
    "# List of Counter objects for character-level frequency dictionaries for each line\n",
    "lines = novel_text.splitlines()\n",
    "line_character_frequencies = [Counter(line) for line in lines]\n",
    "\n",
    "# Print results\n",
    "print(\"Three most frequent characters:\")\n",
    "print(most_common_characters)\n",
    "\n",
    "print(\"\\nThree most frequent word tokens:\")\n",
    "print(most_common_words)\n",
    "\n",
    "print(\"\\nList of Counter objects for character-level frequency dictionaries for each line:\")\n",
    "print(line_character_frequencies)"
   ]
  },
  {
   "cell_type": "markdown",
   "metadata": {},
   "source": [
    "#### Exercise (advanced)\n",
    "\n",
    "Object orientation is a useful **model** to reproduce or mimic the real world in a coding universe. Implement a software system for a library with classes that correspond to:\n",
    "- books\n",
    "- users\n",
    "- staff members\n",
    "\n",
    "Think about the properties and behaviour that each of these classes should offer, for example:\n",
    "1. books should have titles, shelfmarks and a year of publication\n",
    "2. (only) staff members can check out books and add them to the set of books that a user has on loan\n",
    "3. users should have a name and a list of books that they currently have on loan\n",
    "4. etc."
   ]
  },
  {
   "cell_type": "code",
   "execution_count": 100,
   "metadata": {},
   "outputs": [],
   "source": [
    "class Book:\n",
    "    def __init__(self, title, shelfmark, year_of_publication):\n",
    "        self.title = title\n",
    "        self.shelfmark = shelfmark\n",
    "        self.year_of_publication = year_of_publication\n",
    "    def return_title(self):\n",
    "        self.words = ['bla']\n",
    "        print(self.title)"
   ]
  },
  {
   "cell_type": "code",
   "execution_count": 101,
   "metadata": {},
   "outputs": [],
   "source": [
    "book1 = Book('LOTR', 'C361', 1999)"
   ]
  },
  {
   "cell_type": "code",
   "execution_count": 103,
   "metadata": {},
   "outputs": [
    {
     "data": {
      "text/plain": [
       "'LOTR'"
      ]
     },
     "execution_count": 103,
     "metadata": {},
     "output_type": "execute_result"
    }
   ],
   "source": [
    "book1.title"
   ]
  },
  {
   "cell_type": "code",
   "execution_count": 121,
   "metadata": {},
   "outputs": [],
   "source": [
    "class User:\n",
    "    def __init__(self, name, books_on_loan=None):\n",
    "        self.name = name\n",
    "        self.books_on_loan = []\n",
    "\n",
    "    def borrow_book(self, book):\n",
    "        self.books_on_loan.append(book)\n",
    "\n",
    "    def return_book(self, book):\n",
    "        if book in self.books_on_loan:\n",
    "            self.books_on_loan.remove(book)\n",
    "            \n",
    "    def get_books_on_loan(self, user):\n",
    "        loaned = [book.title for book in self.books_on_loan]\n",
    "        if loaned:\n",
    "            print(f\"Book(s) {loaned} are on the loan list of {self.name}.\")\n",
    "        else:\n",
    "            print(f\"{self.name} has no books on their list.\")"
   ]
  },
  {
   "cell_type": "code",
   "execution_count": 124,
   "metadata": {},
   "outputs": [
    {
     "name": "stdout",
     "output_type": "stream",
     "text": [
      "Book(s) ['LOTR'] are on the loan list of Jane.\n"
     ]
    }
   ],
   "source": [
    "user1 = User('Jane')\n",
    "user1.borrow_book(book1)\n",
    "\n",
    "user1.get_books_on_loan(user1)"
   ]
  },
  {
   "cell_type": "code",
   "execution_count": 77,
   "metadata": {},
   "outputs": [
    {
     "name": "stdout",
     "output_type": "stream",
     "text": [
      "'Harry Potter' has been checked out by Jane.\n",
      "'LOTR' has been added to John's on loan books.\n",
      "Book(s) ['Harry Potter'] are on the loan list of Jane.\n",
      "Jane has no books on their list.\n"
     ]
    }
   ],
   "source": [
    "class Book:\n",
    "    def __init__(self, title, shelfmark, year_of_publication):\n",
    "        self.title = title\n",
    "        self.shelfmark = shelfmark\n",
    "        self.year_of_publication = year_of_publication\n",
    "\n",
    "\n",
    "class User:\n",
    "    def __init__(self, name):\n",
    "        self.name = name\n",
    "        self.books_on_loan = []\n",
    "\n",
    "    def borrow_book(self, book):\n",
    "        self.books_on_loan.append(book)\n",
    "\n",
    "    def return_book(self, book):\n",
    "        if book in self.books_on_loan:\n",
    "            self.books_on_loan.remove(book)\n",
    "            \n",
    "    def get_books_on_loan(self, user):\n",
    "        loaned = [book.title for book in self.books_on_loan]\n",
    "        if loaned:\n",
    "            print(f\"Book(s) {loaned} are on the loan list of {user.name}.\")\n",
    "        else:\n",
    "            print(f\"{user.name} has no books on their list.\")\n",
    "\n",
    "\n",
    "class StaffMember:\n",
    "    def __init__(self, name):\n",
    "        self.name = name\n",
    "\n",
    "    def check_out_book(self, book, user):\n",
    "        user.borrow_book(book)\n",
    "        print(f\"'{book.title}' has been checked out by {user.name}.\")\n",
    "\n",
    "    def add_book_to_user(self, book, user):\n",
    "        user.borrow_book(book)\n",
    "        print(f\"'{book.title}' has been added to {user.name}'s on loan books.\")\n",
    "\n",
    "\n",
    "\n",
    "# Creating books\n",
    "book1 = Book(\"Harry Potter\", \"A123\", 2000)\n",
    "book2 = Book(\"LOTR\", \"B456\", 2010)\n",
    "\n",
    "# Creating users\n",
    "user1 = User(\"Jane\")\n",
    "user2 = User(\"John\")\n",
    "\n",
    "# Creating staff member\n",
    "staff_member = StaffMember(\"Librarian\")\n",
    "\n",
    "# Staff member checking out books for users\n",
    "staff_member.check_out_book(book1, user1)\n",
    "staff_member.add_book_to_user(book2, user2)\n",
    "\n",
    "# Users returning books\n",
    "#user1.return_book(book1)\n",
    "user2.return_book(book2)\n",
    "\n",
    "# Show books on list of users\n",
    "user1.get_books_on_loan(user1)\n",
    "user2.get_books_on_loan(user1)"
   ]
  },
  {
   "cell_type": "code",
   "execution_count": null,
   "metadata": {},
   "outputs": [],
   "source": []
  }
 ],
 "metadata": {
  "kernelspec": {
   "display_name": "Python 3 (ipykernel)",
   "language": "python",
   "name": "python3"
  },
  "language_info": {
   "codemirror_mode": {
    "name": "ipython",
    "version": 3
   },
   "file_extension": ".py",
   "mimetype": "text/x-python",
   "name": "python",
   "nbconvert_exporter": "python",
   "pygments_lexer": "ipython3",
   "version": "3.9.12"
  }
 },
 "nbformat": 4,
 "nbformat_minor": 4
}
