{
  "nbformat": 4,
  "nbformat_minor": 0,
  "metadata": {
    "colab": {
      "name": "Copy of LinearAlgebra.ipynb",
      "provenance": [],
      "collapsed_sections": []
    },
    "kernelspec": {
      "name": "python3",
      "display_name": "Python 3"
    }
  },
  "cells": [
    {
      "cell_type": "markdown",
      "metadata": {
        "id": "v91huMJkNd3-"
      },
      "source": [
        "## Plan of the lesson\n",
        "\n",
        "- Introduction\n",
        "- Array creation\n",
        "- Array element access\n",
        "- Array addition\n",
        "- Dot product (matrix multiplication)\n",
        "- Scalar multiplication\n",
        "- Properties of matrix multiplication\n",
        "- Some useful operation in numpy\n",
        "\n",
        "\n"
      ]
    },
    {
      "cell_type": "markdown",
      "metadata": {
        "id": "GU3x7Gcth7AF"
      },
      "source": [
        "# Introduction\n",
        "\n",
        "## Why do we need matrices and vectors?\n",
        "- Matrix (and vector) is a way to put multiple similar problems into one container or array and, then, to conduct multiple similar manipulations with it.\n",
        "- Modern GPUs (Graphics Processing Units) and TPUs (Tensor Processing Units) are able to conduct efficient parallel calculations.\n",
        "- There are highly optimized linear algebra libraries like numpy, pytorch, tensorflow. \n",
        "- All modern neural networks (and other algorithms) are based on matrices and vectors (tensors)\n",
        "\n",
        "## Where are you going to use them?\n",
        "\n",
        "- Machine Learning \n",
        "- Humanities Data Analysis\n",
        "- Natural Language Processing\n",
        "- Thesis\n",
        "\n",
        "## Matrices and Vectors\n",
        "Matrix is a rectangular (or 2-D) array of numbers:\n",
        "\n",
        ">$A =\n",
        " \\begin{pmatrix}\n",
        "  10 & 19 & 40 & 20 \\\\\n",
        "  20 & 67 & 38 & 91\\\\\n",
        "  40  & 91  & 4 & 51  \\\\\n",
        "  10 & 44 & 59 & 43 \\\\\n",
        "  31 & 45 & 85 & 18\n",
        " \\end{pmatrix}$\n",
        "\n",
        "Matrices usually represent features (weights and many other things) in machine learning. \n",
        "\n",
        "**Example:** Let's say that we would like to investigate behavior of the user Mike that visits different websites and find out if it is really him (fraud detection problem):\n",
        ">|Session | Netflix| Google | Youtube| Spotify |\n",
        "|:-:|:-:|:----:|:-------:|:--------:|\n",
        "|0|10 | 19 | 40 | 20|\n",
        "|1|20 | 67 | 38 | 91|\n",
        "|2|40 | 91 | 4  |51|\n",
        "|3|10 | 44 | 59 | 43|\n",
        "|4|31 | 45 | 85 | 18|\n",
        "\n",
        "Vector (1-D array) is a matrix with one column (or one row):\n",
        "\n",
        ">$\\vec{x} =\n",
        " \\begin{pmatrix}\n",
        "  1 \\\\ 19 \\\\ 40 \\\\ 20 \n",
        "  \\end{pmatrix}$\n",
        "\n",
        "Dimension or shape of a matrix: $\\mathbb{R}^{r \\times c}$ or the number of rows $\\times $ the number of columns. **QUESTION** What is dimension of  $A$ and $\\vec{x}$?"
      ]
    },
    {
      "cell_type": "markdown",
      "metadata": {
        "id": "4tsffE5xWb8B"
      },
      "source": [
        "# Array Creation\n",
        "**IMPORTANT**: all elements of an np.array have the same type. \\\\\n",
        "\n",
        "We can create a matrix (2-D array) or a vector (1-D array):\n",
        "- from list or tuples\n",
        "- filled with zeros or ones\n",
        "- filled with evenly spaced values within a given interval\n",
        "- reshaping another matrix or vector\n",
        "- randomly\n",
        "- empty\n"
      ]
    },
    {
      "cell_type": "code",
      "metadata": {
        "id": "qSJEsiwEckdD"
      },
      "source": [
        "import numpy as np"
      ],
      "execution_count": 7,
      "outputs": []
    },
    {
      "cell_type": "markdown",
      "metadata": {
        "id": "KbpEImOVauWU"
      },
      "source": [
        "We can create an array using a list of lists. Each list correponds to a row in the new matrix:\n",
        "\n",
        "\n"
      ]
    },
    {
      "cell_type": "code",
      "metadata": {
        "id": "wWCz6AAGXzwH"
      },
      "source": [
        "a_list = [[1,2,3],[4,5,6]]"
      ],
      "execution_count": 8,
      "outputs": []
    },
    {
      "cell_type": "code",
      "metadata": {
        "id": "VtyLuNiuYK5P",
        "outputId": "4964caed-4aa3-44dc-c983-0a4dd624497a",
        "colab": {
          "base_uri": "https://localhost:8080/",
          "height": 34
        }
      },
      "source": [
        "a_list"
      ],
      "execution_count": 9,
      "outputs": [
        {
          "output_type": "execute_result",
          "data": {
            "text/plain": [
              "[[1, 2, 3], [4, 5, 6]]"
            ]
          },
          "metadata": {
            "tags": []
          },
          "execution_count": 9
        }
      ]
    },
    {
      "cell_type": "code",
      "metadata": {
        "id": "kC8hadUia26U",
        "outputId": "9e543756-8231-405d-8276-715256ccf1df",
        "colab": {
          "base_uri": "https://localhost:8080/",
          "height": 51
        }
      },
      "source": [
        "a = np.array(a_list)\n",
        "a"
      ],
      "execution_count": 10,
      "outputs": [
        {
          "output_type": "execute_result",
          "data": {
            "text/plain": [
              "array([[1, 2, 3],\n",
              "       [4, 5, 6]])"
            ]
          },
          "metadata": {
            "tags": []
          },
          "execution_count": 10
        }
      ]
    },
    {
      "cell_type": "code",
      "metadata": {
        "id": "aqkPeIXsioyn",
        "outputId": "22726d52-ee18-455c-9d65-4103965a8d01",
        "colab": {
          "base_uri": "https://localhost:8080/",
          "height": 51
        }
      },
      "source": [
        "np.array([[1,2,3],[4,5,6]])"
      ],
      "execution_count": 11,
      "outputs": [
        {
          "output_type": "execute_result",
          "data": {
            "text/plain": [
              "array([[1, 2, 3],\n",
              "       [4, 5, 6]])"
            ]
          },
          "metadata": {
            "tags": []
          },
          "execution_count": 11
        }
      ]
    },
    {
      "cell_type": "markdown",
      "metadata": {
        "id": "Nyk7ErMtb1oy"
      },
      "source": [
        "The shape attribute returns a tuple of the dimensions of the array:  $\\mathbb{R}^{r \\times c}$"
      ]
    },
    {
      "cell_type": "code",
      "metadata": {
        "id": "QcBOP6QUhdje",
        "outputId": "6b0ee097-d5ca-43f1-9a1a-e1ef199b31a6",
        "colab": {
          "base_uri": "https://localhost:8080/",
          "height": 34
        }
      },
      "source": [
        "a.shape"
      ],
      "execution_count": 12,
      "outputs": [
        {
          "output_type": "execute_result",
          "data": {
            "text/plain": [
              "(2, 3)"
            ]
          },
          "metadata": {
            "tags": []
          },
          "execution_count": 12
        }
      ]
    },
    {
      "cell_type": "markdown",
      "metadata": {
        "id": "UiXpbKvoa30-"
      },
      "source": [
        "We can also use tuples:\n"
      ]
    },
    {
      "cell_type": "code",
      "metadata": {
        "id": "XGfYpi_Fa7Qj"
      },
      "source": [
        "a_tuple = ((1,2,3),(4,5,6))"
      ],
      "execution_count": 13,
      "outputs": []
    },
    {
      "cell_type": "code",
      "metadata": {
        "id": "FBFy2RLIbDPR",
        "outputId": "11db00d3-d2d3-4b7f-9475-ff288d5f66eb",
        "colab": {
          "base_uri": "https://localhost:8080/",
          "height": 34
        }
      },
      "source": [
        "a_tuple"
      ],
      "execution_count": 14,
      "outputs": [
        {
          "output_type": "execute_result",
          "data": {
            "text/plain": [
              "((1, 2, 3), (4, 5, 6))"
            ]
          },
          "metadata": {
            "tags": []
          },
          "execution_count": 14
        }
      ]
    },
    {
      "cell_type": "code",
      "metadata": {
        "id": "fl3B9dSL9BCo",
        "outputId": "a19ee2ab-7613-4a73-b5f1-34e686e230f7",
        "colab": {
          "base_uri": "https://localhost:8080/",
          "height": 51
        }
      },
      "source": [
        "np.array(a_tuple)"
      ],
      "execution_count": 15,
      "outputs": [
        {
          "output_type": "execute_result",
          "data": {
            "text/plain": [
              "array([[1, 2, 3],\n",
              "       [4, 5, 6]])"
            ]
          },
          "metadata": {
            "tags": []
          },
          "execution_count": 15
        }
      ]
    },
    {
      "cell_type": "markdown",
      "metadata": {
        "id": "N2pthD75kJqA"
      },
      "source": [
        "We can fill all elements with zeros or ones. Shape is defined as int or tuple of ints."
      ]
    },
    {
      "cell_type": "code",
      "metadata": {
        "id": "lsJOa-gFViZL",
        "outputId": "c04ac9aa-bd38-4687-b845-65030e8cc447",
        "colab": {
          "base_uri": "https://localhost:8080/",
          "height": 68
        }
      },
      "source": [
        "np.zeros(shape=(3,4))"
      ],
      "execution_count": null,
      "outputs": [
        {
          "output_type": "execute_result",
          "data": {
            "text/plain": [
              "array([[0., 0., 0., 0.],\n",
              "       [0., 0., 0., 0.],\n",
              "       [0., 0., 0., 0.]])"
            ]
          },
          "metadata": {
            "tags": []
          },
          "execution_count": 11
        }
      ]
    },
    {
      "cell_type": "code",
      "metadata": {
        "id": "QT5Rapv1Vmeo",
        "outputId": "10bbef68-3262-404b-a4f7-87f05988ce7d",
        "colab": {
          "base_uri": "https://localhost:8080/",
          "height": 102
        }
      },
      "source": [
        "np.ones(shape=(5,2))"
      ],
      "execution_count": null,
      "outputs": [
        {
          "output_type": "execute_result",
          "data": {
            "text/plain": [
              "array([[1., 1.],\n",
              "       [1., 1.],\n",
              "       [1., 1.],\n",
              "       [1., 1.],\n",
              "       [1., 1.]])"
            ]
          },
          "metadata": {
            "tags": []
          },
          "execution_count": 12
        }
      ]
    },
    {
      "cell_type": "markdown",
      "metadata": {
        "id": "o4_0KLGdpQIS"
      },
      "source": [
        "We can create a vector (or 1-D array) filled with evenly spaced values within a given interval."
      ]
    },
    {
      "cell_type": "code",
      "metadata": {
        "id": "igKqKGy5V9Pq",
        "outputId": "08cfb910-a48f-42b1-e8c6-37e55544c8bb",
        "colab": {
          "base_uri": "https://localhost:8080/",
          "height": 34
        }
      },
      "source": [
        "np.arange(start=1, stop=7, step=0.5)"
      ],
      "execution_count": null,
      "outputs": [
        {
          "output_type": "execute_result",
          "data": {
            "text/plain": [
              "array([1. , 1.5, 2. , 2.5, 3. , 3.5, 4. , 4.5, 5. , 5.5, 6. , 6.5])"
            ]
          },
          "metadata": {
            "tags": []
          },
          "execution_count": 13
        }
      ]
    },
    {
      "cell_type": "markdown",
      "metadata": {
        "id": "wSTfrX5neLh3"
      },
      "source": [
        "We can also create a matrix filled with evenly spaced values within a given interval. We will need the reshape method. It maps values from an existing array to an array with the given shape."
      ]
    },
    {
      "cell_type": "code",
      "metadata": {
        "id": "3PdDTdS0fnuM",
        "outputId": "2217daa0-96cd-4d7e-a67f-1a83335e8f5a",
        "colab": {
          "base_uri": "https://localhost:8080/",
          "height": 85
        }
      },
      "source": [
        "np.arange(start=1, stop=7, step=0.5).reshape((4, 3))"
      ],
      "execution_count": 16,
      "outputs": [
        {
          "output_type": "execute_result",
          "data": {
            "text/plain": [
              "array([[1. , 1.5, 2. ],\n",
              "       [2.5, 3. , 3.5],\n",
              "       [4. , 4.5, 5. ],\n",
              "       [5.5, 6. , 6.5]])"
            ]
          },
          "metadata": {
            "tags": []
          },
          "execution_count": 16
        }
      ]
    },
    {
      "cell_type": "markdown",
      "metadata": {
        "id": "id4Mv16XquK0"
      },
      "source": [
        "Sometimes we need to create arrays filled with random ints or floats."
      ]
    },
    {
      "cell_type": "code",
      "metadata": {
        "id": "lqUiFjEXV99p",
        "outputId": "0f9dafe3-d7e2-4cd0-b7be-6dffe3971799",
        "colab": {
          "base_uri": "https://localhost:8080/",
          "height": 102
        }
      },
      "source": [
        "np.random.randint(low=1, high=7, size=(5,3))"
      ],
      "execution_count": null,
      "outputs": [
        {
          "output_type": "execute_result",
          "data": {
            "text/plain": [
              "array([[1, 5, 6],\n",
              "       [4, 6, 2],\n",
              "       [5, 4, 2],\n",
              "       [6, 4, 3],\n",
              "       [3, 5, 3]])"
            ]
          },
          "metadata": {
            "tags": []
          },
          "execution_count": 15
        }
      ]
    },
    {
      "cell_type": "code",
      "metadata": {
        "id": "0_sOIU0qV_uu",
        "outputId": "144e8927-71f2-4edf-fd27-ec0f9233a669",
        "colab": {
          "base_uri": "https://localhost:8080/",
          "height": 85
        }
      },
      "source": [
        "np.random.random(size=(4,4))"
      ],
      "execution_count": null,
      "outputs": [
        {
          "output_type": "execute_result",
          "data": {
            "text/plain": [
              "array([[0.5487297 , 0.57228974, 0.99971721, 0.36663257],\n",
              "       [0.75718625, 0.33669155, 0.9720018 , 0.43492401],\n",
              "       [0.82280258, 0.09567044, 0.26568577, 0.47907312],\n",
              "       [0.67437993, 0.05189255, 0.10108709, 0.48131474]])"
            ]
          },
          "metadata": {
            "tags": []
          },
          "execution_count": 16
        }
      ]
    },
    {
      "cell_type": "markdown",
      "metadata": {
        "id": "UIdmmtCMtxOI"
      },
      "source": [
        "np.random.random return floats in the half-open interval [0.0, 1.0). We can expend this interval by simple mathematical manipulations. **Question**: How to create a matrix filled with floats in the half-open interval [0.0, 100.0)? [-50.0, 50.0)?"
      ]
    },
    {
      "cell_type": "code",
      "metadata": {
        "id": "0InnpBmTbkMb",
        "cellView": "form"
      },
      "source": [
        "#@title\n",
        "100*np.random.random(size=(4,4))"
      ],
      "execution_count": null,
      "outputs": []
    },
    {
      "cell_type": "code",
      "metadata": {
        "id": "gvPZ60ONuptT",
        "cellView": "form"
      },
      "source": [
        "#@title\n",
        "100*np.random.random(size=(4,4)) - 50"
      ],
      "execution_count": null,
      "outputs": []
    },
    {
      "cell_type": "markdown",
      "metadata": {
        "id": "bxqcY2xZvgmP"
      },
      "source": [
        "We can also create an empty matrix. It does not contain initializing entries. (**IMPORTANT**) However, if we print it out, the matrix will contain some values. These values are already located in memory and, hence, are not random.  Empty, unlike zeros, does not set the array values to zero, and may therefore be marginally faster. On the other hand, it requires the user to manually set all the values in the array, and should be used with caution. "
      ]
    },
    {
      "cell_type": "code",
      "metadata": {
        "id": "11NZABjLu4dr",
        "outputId": "e9f6a59b-73df-4451-ca36-bc25720cee2f",
        "colab": {
          "base_uri": "https://localhost:8080/",
          "height": 51
        }
      },
      "source": [
        "np.empty(shape=(2,3))"
      ],
      "execution_count": 19,
      "outputs": [
        {
          "output_type": "execute_result",
          "data": {
            "text/plain": [
              "array([[2.083112e-316, 0.000000e+000, 0.000000e+000],\n",
              "       [0.000000e+000, 0.000000e+000, 0.000000e+000]])"
            ]
          },
          "metadata": {
            "tags": []
          },
          "execution_count": 19
        }
      ]
    },
    {
      "cell_type": "markdown",
      "metadata": {
        "id": "LYUs64gpiGNM"
      },
      "source": [
        "# Array element access\n",
        "\n",
        "**IMPORTANT**: in numpy the index starts from 0. \\\\\n",
        "Matrix elements or entries of matrix: $A_{i,j} = i, j$ entry in the $i^{th}$ row and $j^{th}$ column. \n",
        "\n",
        ">$A =\n",
        " \\begin{pmatrix}\n",
        "  a_{0,0} & a_{0,1} & \\cdots & a_{0,n} \\\\\n",
        "  a_{1,1} & a_{1, 1} & \\cdots & a_{1,n} \\\\\n",
        "  \\vdots  & \\vdots  & \\ddots & \\vdots  \\\\\n",
        "  a_{m,0} & a_{m,0} & \\cdots & a_{m,n}\n",
        " \\end{pmatrix}$\n",
        "\n",
        "\n",
        "\n",
        "**QUESTION:** What is the entry of $A_{1,2}$ ?\n",
        "\n",
        "\n",
        ">$A =\n",
        " \\begin{pmatrix}\n",
        "  10 & 19 & 40 & 20 \\\\\n",
        "  20 & 67 & 38 & 91\\\\\n",
        "  40  & 91  & 4 & 51  \\\\\n",
        "  10 & 44 & 595 & 43 \\\\\n",
        "  31 & 45 & 85 & 18\n",
        " \\end{pmatrix}$\n"
      ]
    },
    {
      "cell_type": "code",
      "metadata": {
        "id": "EFFcF9irbo7I",
        "outputId": "c0ad56fd-90d7-4db4-c631-3042586b6896",
        "colab": {
          "base_uri": "https://localhost:8080/",
          "height": 68
        }
      },
      "source": [
        "b = np.arange(0,12).reshape((3,4))\n",
        "b"
      ],
      "execution_count": 21,
      "outputs": [
        {
          "output_type": "execute_result",
          "data": {
            "text/plain": [
              "array([[ 0,  1,  2,  3],\n",
              "       [ 4,  5,  6,  7],\n",
              "       [ 8,  9, 10, 11]])"
            ]
          },
          "metadata": {
            "tags": []
          },
          "execution_count": 21
        }
      ]
    },
    {
      "cell_type": "markdown",
      "metadata": {
        "id": "M8feOe6M2DI5"
      },
      "source": [
        "We can get an element by specifying [row, column]:"
      ]
    },
    {
      "cell_type": "code",
      "metadata": {
        "id": "dMhYXW6zb38h",
        "outputId": "53b5a032-62d8-416c-951b-8eb0011e58d8",
        "colab": {
          "base_uri": "https://localhost:8080/",
          "height": 34
        }
      },
      "source": [
        "row = 1\n",
        "column = 3\n",
        "b[row, column]"
      ],
      "execution_count": 22,
      "outputs": [
        {
          "output_type": "execute_result",
          "data": {
            "text/plain": [
              "7"
            ]
          },
          "metadata": {
            "tags": []
          },
          "execution_count": 22
        }
      ]
    },
    {
      "cell_type": "code",
      "metadata": {
        "id": "o8lW28Wtb88B",
        "outputId": "05f5b731-352c-4ca1-93e9-c5b21a8c73ef",
        "colab": {
          "base_uri": "https://localhost:8080/",
          "height": 34
        }
      },
      "source": [
        "b[2, 2]"
      ],
      "execution_count": 23,
      "outputs": [
        {
          "output_type": "execute_result",
          "data": {
            "text/plain": [
              "10"
            ]
          },
          "metadata": {
            "tags": []
          },
          "execution_count": 23
        }
      ]
    },
    {
      "cell_type": "markdown",
      "metadata": {
        "id": "-BHrmCPQpSh6"
      },
      "source": [
        "We can also refer to ranges inside an array. We should define *start:end:step* to specify a range:\n",
        "\n",
        "\n"
      ]
    },
    {
      "cell_type": "code",
      "metadata": {
        "id": "zlV0VCgHpTnQ",
        "outputId": "db73cbf7-963f-4b2f-dfd5-d69da3f7a0ef",
        "colab": {
          "base_uri": "https://localhost:8080/",
          "height": 34
        }
      },
      "source": [
        "b[0, 1:3:1]"
      ],
      "execution_count": null,
      "outputs": [
        {
          "output_type": "execute_result",
          "data": {
            "text/plain": [
              "array([1, 2])"
            ]
          },
          "metadata": {
            "tags": []
          },
          "execution_count": 23
        }
      ]
    },
    {
      "cell_type": "markdown",
      "metadata": {
        "id": "K5jVBQ_cq1d0"
      },
      "source": [
        "It is not necessary to assign the step. It is set to 1 by default."
      ]
    },
    {
      "cell_type": "code",
      "metadata": {
        "id": "WgbNp95Iqu0c",
        "outputId": "05f123ce-fc85-481c-f668-94fbe8e49f89",
        "colab": {
          "base_uri": "https://localhost:8080/",
          "height": 34
        }
      },
      "source": [
        "b[0, 1:3]"
      ],
      "execution_count": null,
      "outputs": [
        {
          "output_type": "execute_result",
          "data": {
            "text/plain": [
              "array([1, 2])"
            ]
          },
          "metadata": {
            "tags": []
          },
          "execution_count": 24
        }
      ]
    },
    {
      "cell_type": "markdown",
      "metadata": {
        "id": "effGRZtZ4Uii"
      },
      "source": [
        "If we do not set start or end indexes, they are automatically assigned to 0 and to the last index, respectively."
      ]
    },
    {
      "cell_type": "code",
      "metadata": {
        "id": "qKQ8Lmt446le",
        "outputId": "32ea52b7-b21e-4d71-a33f-982ea2ba4ef2",
        "colab": {
          "base_uri": "https://localhost:8080/",
          "height": 34
        }
      },
      "source": [
        "b[0, 1:]"
      ],
      "execution_count": null,
      "outputs": [
        {
          "output_type": "execute_result",
          "data": {
            "text/plain": [
              "array([1, 2, 3])"
            ]
          },
          "metadata": {
            "tags": []
          },
          "execution_count": 25
        }
      ]
    },
    {
      "cell_type": "code",
      "metadata": {
        "id": "6ZmBYi7J4_h5",
        "outputId": "88b03f5c-f8e8-4856-f963-ab51e2941aff",
        "colab": {
          "base_uri": "https://localhost:8080/",
          "height": 34
        }
      },
      "source": [
        "b[0, :3]"
      ],
      "execution_count": null,
      "outputs": [
        {
          "output_type": "execute_result",
          "data": {
            "text/plain": [
              "array([0, 1, 2])"
            ]
          },
          "metadata": {
            "tags": []
          },
          "execution_count": 26
        }
      ]
    },
    {
      "cell_type": "markdown",
      "metadata": {
        "id": "kVqzr9-V9vZY"
      },
      "source": [
        "If we do not specify start, end or step we are going to refer to all indexes: \n",
        "\n",
        "\n"
      ]
    },
    {
      "cell_type": "code",
      "metadata": {
        "id": "MWGdGR-59__W",
        "outputId": "78bd8c30-a56f-4c42-ea55-87b321f7e3b8",
        "colab": {
          "base_uri": "https://localhost:8080/",
          "height": 68
        }
      },
      "source": [
        "b[:,  1:]"
      ],
      "execution_count": null,
      "outputs": [
        {
          "output_type": "execute_result",
          "data": {
            "text/plain": [
              "array([[ 1,  2,  3],\n",
              "       [ 5,  6,  7],\n",
              "       [ 9, 10, 11]])"
            ]
          },
          "metadata": {
            "tags": []
          },
          "execution_count": 27
        }
      ]
    },
    {
      "cell_type": "code",
      "metadata": {
        "id": "-xJfHH_qpjrp",
        "outputId": "5f28f24f-aec4-46ec-c17f-0b78dc8c4f94",
        "colab": {
          "base_uri": "https://localhost:8080/",
          "height": 68
        }
      },
      "source": [
        "b[:, ::2]"
      ],
      "execution_count": null,
      "outputs": [
        {
          "output_type": "execute_result",
          "data": {
            "text/plain": [
              "array([[ 0,  2],\n",
              "       [ 4,  6],\n",
              "       [ 8, 10]])"
            ]
          },
          "metadata": {
            "tags": []
          },
          "execution_count": 28
        }
      ]
    },
    {
      "cell_type": "code",
      "metadata": {
        "id": "GX3OQxMssGMw",
        "outputId": "cf37aa71-dbd6-4be5-d1f4-254b7814000b",
        "colab": {
          "base_uri": "https://localhost:8080/",
          "height": 34
        }
      },
      "source": [
        "b[:,-1]"
      ],
      "execution_count": null,
      "outputs": [
        {
          "output_type": "execute_result",
          "data": {
            "text/plain": [
              "array([ 3,  7, 11])"
            ]
          },
          "metadata": {
            "tags": []
          },
          "execution_count": 29
        }
      ]
    },
    {
      "cell_type": "markdown",
      "metadata": {
        "id": "v7PvcJ7Xwp6v"
      },
      "source": [
        "# Addition\n",
        "**IMPORTANT**: Matrices must have the same shape. \\\\\n",
        "Addition of two matrices is a sum of their elements one at a time. \n",
        "\n",
        ">$ \\begin{pmatrix}\n",
        "  a_{0,0} & a_{0,1} & \\cdots & a_{0,n} \\\\\n",
        "  a_{1,1} & a_{1, 1} & \\cdots & a_{1,n} \\\\\n",
        "  \\vdots  & \\vdots  & \\ddots & \\vdots  \\\\\n",
        "  a_{m,0} & a_{m,0} & \\cdots & a_{m,n}\n",
        " \\end{pmatrix} +   \\begin{pmatrix} \n",
        " b_{0,0} & b_{0,1} & \\cdots & b_{0,n} \\\\\n",
        " b_{1,1} & b_{1, 1} & \\cdots & b_{1,n} \\\\\n",
        " \\vdots  & \\vdots  & \\ddots & \\vdots  \\\\\n",
        " b_{m,0} & b_{m,0} & \\cdots & b_{m,n} \n",
        " \\end{pmatrix} = \n",
        "  \\begin{pmatrix} \n",
        "  a_{0,0} + b_{0,0} & a_{0,1} + b_{0,1} & \\cdots & a_{0,n} + b_{0,n} \\\\\n",
        " a_{1,1} + b_{1,1} & a_{1, 1} + b_{1, 1} & \\cdots & a_{1,n} + b_{1,n} \\\\\n",
        " \\vdots  & \\vdots  & \\ddots & \\vdots  \\\\\n",
        " a_{m,0} + b_{m,0} & a_{m,0} + b_{m,0} & \\cdots & a_{m,n}  + b_{m,n} \n",
        "  \\end{pmatrix} $ \n",
        "\n",
        "**EXAMPLE:**\n",
        ">$\n",
        " \\begin{pmatrix}\n",
        "  1 & 19 & 40 & 20 \\\\\n",
        "  2 & 67 & 38 & 91\\\\\n",
        "  4  & 91  & 4 & 51 \n",
        " \\end{pmatrix} + \\begin{pmatrix}\n",
        "  10 & 1 & 4 & 5 \\\\\n",
        "  12 & 6 & 8 & 1\\\\\n",
        "  14  & 3 & 7 & 6 \n",
        " \\end{pmatrix} = \\begin{pmatrix}\n",
        "  1 + 10  & 19 + 1 & 40 + 4 & 20 + 5 \\\\\n",
        "  2 + 12 & 67 + 6 & 38 + 8 & 91 + 1 \\\\\n",
        "  4 + 14  & 91 + 3  & 4 +7 & 51  + 6\n",
        " \\end{pmatrix} = \\begin{pmatrix}\n",
        "  11  & 20 & 44 & 25 \\\\\n",
        "  14 & 73 & 46 & 92 \\\\\n",
        "  18  & 94  & 11 & 57\n",
        " \\end{pmatrix} $"
      ]
    },
    {
      "cell_type": "code",
      "metadata": {
        "id": "T9lV7Zw91X-t"
      },
      "source": [
        "a = np.arange(0,12).reshape((3,4))\n",
        "b = np.arange(12,24).reshape((3,4))"
      ],
      "execution_count": 34,
      "outputs": []
    },
    {
      "cell_type": "code",
      "metadata": {
        "id": "lyHPUc2n1hkO",
        "outputId": "059d899d-ae73-49a6-c5e7-2ea717dacf6e",
        "colab": {
          "base_uri": "https://localhost:8080/",
          "height": 68
        }
      },
      "source": [
        "a"
      ],
      "execution_count": 35,
      "outputs": [
        {
          "output_type": "execute_result",
          "data": {
            "text/plain": [
              "array([[ 0,  1,  2,  3],\n",
              "       [ 4,  5,  6,  7],\n",
              "       [ 8,  9, 10, 11]])"
            ]
          },
          "metadata": {
            "tags": []
          },
          "execution_count": 35
        }
      ]
    },
    {
      "cell_type": "code",
      "metadata": {
        "id": "FqVhsBoe1niB",
        "outputId": "644404ee-1ada-46a5-a9c8-62816328931a",
        "colab": {
          "base_uri": "https://localhost:8080/",
          "height": 68
        }
      },
      "source": [
        "b"
      ],
      "execution_count": 36,
      "outputs": [
        {
          "output_type": "execute_result",
          "data": {
            "text/plain": [
              "array([[12, 13, 14, 15],\n",
              "       [16, 17, 18, 19],\n",
              "       [20, 21, 22, 23]])"
            ]
          },
          "metadata": {
            "tags": []
          },
          "execution_count": 36
        }
      ]
    },
    {
      "cell_type": "code",
      "metadata": {
        "id": "rE_wUkid2YUd",
        "outputId": "dcfb8d3e-b2f7-496a-ad65-99a86ca73c8a",
        "colab": {
          "base_uri": "https://localhost:8080/",
          "height": 68
        }
      },
      "source": [
        "a + b"
      ],
      "execution_count": 37,
      "outputs": [
        {
          "output_type": "execute_result",
          "data": {
            "text/plain": [
              "array([[12, 14, 16, 18],\n",
              "       [20, 22, 24, 26],\n",
              "       [28, 30, 32, 34]])"
            ]
          },
          "metadata": {
            "tags": []
          },
          "execution_count": 37
        }
      ]
    },
    {
      "cell_type": "code",
      "metadata": {
        "id": "MMg-Iem3xRX3",
        "outputId": "0ea1e81a-6f7d-49bb-c8ce-f6874a569537",
        "colab": {
          "base_uri": "https://localhost:8080/",
          "height": 68
        }
      },
      "source": [
        "a - b"
      ],
      "execution_count": 38,
      "outputs": [
        {
          "output_type": "execute_result",
          "data": {
            "text/plain": [
              "array([[-12, -12, -12, -12],\n",
              "       [-12, -12, -12, -12],\n",
              "       [-12, -12, -12, -12]])"
            ]
          },
          "metadata": {
            "tags": []
          },
          "execution_count": 38
        }
      ]
    },
    {
      "cell_type": "markdown",
      "metadata": {
        "id": "8I22ts_W-f0J"
      },
      "source": [
        "As it was mentioned, matrices must have the same shape to get added up. Hence, we can not sum up matrices of different shapes (and vectors). \\\\\n",
        "\n",
        "**IMPORTANT:** However, numpy allows some of fobidden operations in linear algebra. It is done for convinience.  **EXAMPLE**: Let's say that we have a feature matrix for the user Mike who visits different websites. Here, each number corresponds to the time when Mike started to visit a website (it is time in hours):\n",
        ">|Session | Netflix| Google | Youtube| Spotify |\n",
        "|:-:|:-:|:----:|:-------:|:--------:|\n",
        "|0 | 10 | 19 | 4 | 2 |\n",
        "|1 | 12 | 6 | 3 | 9 |\n",
        "|2 | 4  | 9  | 4 | 15  |\n",
        "|3 | 1 | 14 | 5 | 3 |\n",
        "|4 | 3 | 5 | 8 | 11 |\n",
        "\n",
        "However, the websites are located in different timezones and we would like to change this time to the local time of Mike. It means that we should add to each column a number corresponding to the time shift.\n",
        "\n",
        ">|Session | Netflix| Google | Youtube| Spotify |\n",
        "|:-:|:-:|:----:|:-------:|:--------:|\n",
        "|0 | 10 + 1 | 19 + 2| 4 + 3 | 2 + 4|\n",
        "|1 | 12 + 1 | 6 + 2 | 3 + 3 | 9 + 4 |\n",
        "|2 | 4 + 1 | 9 + 2  | 4 + 3 | 15 + 4 |\n",
        "|3 | 1 + 1| 14 + 2 | 5 + 3 | 3 + 4 |\n",
        "|4 | 3 + 1| 5 + 2| 8 + 3 | 11 + 4 |\n"
      ]
    },
    {
      "cell_type": "markdown",
      "metadata": {
        "id": "4JFk_jHN-7MW"
      },
      "source": [
        "For such cases, numpy allows us to add up a matrix and a row vector if they have the same amount of columns."
      ]
    },
    {
      "cell_type": "code",
      "metadata": {
        "id": "3dA1iuEY9hXZ"
      },
      "source": [
        "a = np.arange(0,12).reshape((3,4))\n",
        "b = np.arange(12,24).reshape((3,4))"
      ],
      "execution_count": null,
      "outputs": []
    },
    {
      "cell_type": "code",
      "metadata": {
        "id": "E_DsMPy2_b83",
        "outputId": "1024b438-1c3b-460b-95d9-118751900d99",
        "colab": {
          "base_uri": "https://localhost:8080/",
          "height": 68
        }
      },
      "source": [
        "a"
      ],
      "execution_count": null,
      "outputs": [
        {
          "output_type": "execute_result",
          "data": {
            "text/plain": [
              "array([[ 0,  1,  2,  3],\n",
              "       [ 4,  5,  6,  7],\n",
              "       [ 8,  9, 10, 11]])"
            ]
          },
          "metadata": {
            "tags": []
          },
          "execution_count": 36
        }
      ]
    },
    {
      "cell_type": "code",
      "metadata": {
        "id": "sjLNXLJB2aM1",
        "outputId": "78fc7b91-3fa1-4b47-f7fe-5f0e65461466",
        "colab": {
          "base_uri": "https://localhost:8080/",
          "height": 34
        }
      },
      "source": [
        "a[[0]]"
      ],
      "execution_count": null,
      "outputs": [
        {
          "output_type": "execute_result",
          "data": {
            "text/plain": [
              "array([[0, 1, 2, 3]])"
            ]
          },
          "metadata": {
            "tags": []
          },
          "execution_count": 37
        }
      ]
    },
    {
      "cell_type": "code",
      "metadata": {
        "id": "MJlAfMR7_Vm8",
        "outputId": "11b552f6-9d50-43e1-a9af-e11d2edac1be",
        "colab": {
          "base_uri": "https://localhost:8080/",
          "height": 68
        }
      },
      "source": [
        "b"
      ],
      "execution_count": null,
      "outputs": [
        {
          "output_type": "execute_result",
          "data": {
            "text/plain": [
              "array([[12, 13, 14, 15],\n",
              "       [16, 17, 18, 19],\n",
              "       [20, 21, 22, 23]])"
            ]
          },
          "metadata": {
            "tags": []
          },
          "execution_count": 38
        }
      ]
    },
    {
      "cell_type": "code",
      "metadata": {
        "id": "VKDTlLF9BEnJ",
        "outputId": "ec69c983-d329-4eae-a8ef-32b3abb2fb08",
        "colab": {
          "base_uri": "https://localhost:8080/",
          "height": 34
        }
      },
      "source": [
        " b.shape"
      ],
      "execution_count": null,
      "outputs": [
        {
          "output_type": "execute_result",
          "data": {
            "text/plain": [
              "(3, 4)"
            ]
          },
          "metadata": {
            "tags": []
          },
          "execution_count": 39
        }
      ]
    },
    {
      "cell_type": "code",
      "metadata": {
        "id": "pM7XSNLx4Zdq",
        "outputId": "8f34aa13-a0a9-4e41-e3d1-935653f0c755",
        "colab": {
          "base_uri": "https://localhost:8080/",
          "height": 34
        }
      },
      "source": [
        "a[[0]].shape"
      ],
      "execution_count": null,
      "outputs": [
        {
          "output_type": "execute_result",
          "data": {
            "text/plain": [
              "(1, 4)"
            ]
          },
          "metadata": {
            "tags": []
          },
          "execution_count": 40
        }
      ]
    },
    {
      "cell_type": "code",
      "metadata": {
        "id": "c1knzXd12qUi",
        "outputId": "00bb31d1-6a78-4306-d986-13daa5260784",
        "colab": {
          "base_uri": "https://localhost:8080/",
          "height": 68
        }
      },
      "source": [
        "a[[0]] + b"
      ],
      "execution_count": null,
      "outputs": [
        {
          "output_type": "execute_result",
          "data": {
            "text/plain": [
              "array([[12, 14, 16, 18],\n",
              "       [16, 18, 20, 22],\n",
              "       [20, 22, 24, 26]])"
            ]
          },
          "metadata": {
            "tags": []
          },
          "execution_count": 41
        }
      ]
    },
    {
      "cell_type": "markdown",
      "metadata": {
        "id": "WWfv5AQ6BSGx"
      },
      "source": [
        "We can also add up a matrix and a column vector if they have the same amount of rows."
      ]
    },
    {
      "cell_type": "code",
      "metadata": {
        "id": "FdXS2M2W3Cj1",
        "outputId": "41f50d81-bf5d-43f0-8394-f2b68745c247",
        "colab": {
          "base_uri": "https://localhost:8080/",
          "height": 68
        }
      },
      "source": [
        "a[:,[0]] + b"
      ],
      "execution_count": null,
      "outputs": [
        {
          "output_type": "execute_result",
          "data": {
            "text/plain": [
              "array([[12, 13, 14, 15],\n",
              "       [20, 21, 22, 23],\n",
              "       [28, 29, 30, 31]])"
            ]
          },
          "metadata": {
            "tags": []
          },
          "execution_count": 42
        }
      ]
    },
    {
      "cell_type": "markdown",
      "metadata": {
        "id": "eKuClZCdEE1W"
      },
      "source": [
        "# Scalar Multiplication\n",
        "Scalar (it is just a number) multiplication is multiplication of a matrix and a number:\n",
        "\n",
        ">$ n \\times \\begin{pmatrix}\n",
        "  a_{0,0} & a_{0,1} & \\cdots & a_{0,n} \\\\\n",
        "  a_{1,1} & a_{1, 1} & \\cdots & a_{1,n} \\\\\n",
        "  \\vdots  & \\vdots  & \\ddots & \\vdots  \\\\\n",
        "  a_{m,0} & a_{m,0} & \\cdots & a_{m,n}\n",
        " \\end{pmatrix} =   \\begin{pmatrix}  \n",
        " n \\times a_{0,0} & n \\times a_{0,1} & \\cdots & n \\times a_{0,n} \\\\\n",
        " n \\times a_{1,1} & n \\times a_{1, 1} & \\cdots & n \\times a_{1,n} \\\\\n",
        " \\vdots  & \\vdots  & \\ddots & \\vdots  \\\\\n",
        " n \\times a_{m,0} & n \\times a_{m,0} & \\cdots & n \\times a_{m,n}\n",
        "  \\end{pmatrix} $ \n",
        "\n",
        "**EXAMPLE**: \n",
        "\n",
        ">$ 2 \\times\n",
        " \\begin{pmatrix}\n",
        "  10 & 1 & 4 & 5 \\\\\n",
        "  12 & 6 & 8 & 1\\\\\n",
        "  14  & 3 & 7 & 6 \n",
        " \\end{pmatrix} = \\begin{pmatrix}\n",
        "  2 \\times 10 & 2 \\times 1 & 2 \\times 4 & 2 \\times 5 \\\\\n",
        "  2 \\times 12 & 2 \\times 6 & 2 \\times 8 & 2 \\times 1\\\\\n",
        "  2 \\times 14  & 2 \\times 3 & 2 \\times 7 & 2 \\times 6 \n",
        " \\end{pmatrix} = \\begin{pmatrix}\n",
        "  20  & 2 & 8 & 50 \\\\\n",
        "  24 & 12 & 16 & 2 \\\\\n",
        "  28  & 6  & 14 & 12\n",
        " \\end{pmatrix} $"
      ]
    },
    {
      "cell_type": "code",
      "metadata": {
        "id": "WwDgcHl_EXF-"
      },
      "source": [
        "a = np.arange(0,12).reshape((3,4))"
      ],
      "execution_count": 39,
      "outputs": []
    },
    {
      "cell_type": "code",
      "metadata": {
        "id": "HLqbhnXAEZKK",
        "outputId": "9b8f940d-8dcf-421f-f141-2a6e15b89e63",
        "colab": {
          "base_uri": "https://localhost:8080/",
          "height": 68
        }
      },
      "source": [
        "a"
      ],
      "execution_count": 40,
      "outputs": [
        {
          "output_type": "execute_result",
          "data": {
            "text/plain": [
              "array([[ 0,  1,  2,  3],\n",
              "       [ 4,  5,  6,  7],\n",
              "       [ 8,  9, 10, 11]])"
            ]
          },
          "metadata": {
            "tags": []
          },
          "execution_count": 40
        }
      ]
    },
    {
      "cell_type": "code",
      "metadata": {
        "id": "rUh1RfeiEZqK",
        "outputId": "c9cd6ddf-df1a-4d49-d3c4-c606803ba780",
        "colab": {
          "base_uri": "https://localhost:8080/",
          "height": 68
        }
      },
      "source": [
        "2*a"
      ],
      "execution_count": 41,
      "outputs": [
        {
          "output_type": "execute_result",
          "data": {
            "text/plain": [
              "array([[ 0,  2,  4,  6],\n",
              "       [ 8, 10, 12, 14],\n",
              "       [16, 18, 20, 22]])"
            ]
          },
          "metadata": {
            "tags": []
          },
          "execution_count": 41
        }
      ]
    },
    {
      "cell_type": "code",
      "metadata": {
        "id": "eWTY73KZx7i7",
        "outputId": "ccb00dda-d47e-4c03-bc90-9d9c284ef4ca",
        "colab": {
          "base_uri": "https://localhost:8080/",
          "height": 68
        }
      },
      "source": [
        "a/2"
      ],
      "execution_count": null,
      "outputs": [
        {
          "output_type": "execute_result",
          "data": {
            "text/plain": [
              "array([[0. , 0.5, 1. , 1.5],\n",
              "       [2. , 2.5, 3. , 3.5],\n",
              "       [4. , 4.5, 5. , 5.5]])"
            ]
          },
          "metadata": {
            "tags": []
          },
          "execution_count": 46
        }
      ]
    },
    {
      "cell_type": "markdown",
      "metadata": {
        "id": "3Gr1JDl4AGhs"
      },
      "source": [
        "**IMPORTANT:** Similarly to matrix addition, numpy allows us to conduct element-wise (scalar) multiplication of two matrices."
      ]
    },
    {
      "cell_type": "code",
      "metadata": {
        "id": "4nhyUJEXLIqr",
        "outputId": "4fd1ea77-9953-4318-a00d-dcca9f75bbc3",
        "colab": {
          "base_uri": "https://localhost:8080/",
          "height": 68
        }
      },
      "source": [
        "a = np.arange(0,12).reshape((3,4))\n",
        "b = np.arange(12, 24).reshape((3,4))\n",
        "a"
      ],
      "execution_count": 43,
      "outputs": [
        {
          "output_type": "execute_result",
          "data": {
            "text/plain": [
              "array([[ 0,  1,  2,  3],\n",
              "       [ 4,  5,  6,  7],\n",
              "       [ 8,  9, 10, 11]])"
            ]
          },
          "metadata": {
            "tags": []
          },
          "execution_count": 43
        }
      ]
    },
    {
      "cell_type": "code",
      "metadata": {
        "id": "21ousJamLM27",
        "outputId": "ce089575-82c1-4f86-9c05-9f64b9c4a720",
        "colab": {
          "base_uri": "https://localhost:8080/",
          "height": 68
        }
      },
      "source": [
        "b"
      ],
      "execution_count": 44,
      "outputs": [
        {
          "output_type": "execute_result",
          "data": {
            "text/plain": [
              "array([[12, 13, 14, 15],\n",
              "       [16, 17, 18, 19],\n",
              "       [20, 21, 22, 23]])"
            ]
          },
          "metadata": {
            "tags": []
          },
          "execution_count": 44
        }
      ]
    },
    {
      "cell_type": "code",
      "metadata": {
        "id": "Xn9YpKv5LTAU",
        "outputId": "3ed87ab5-6179-4f40-e820-9d487ed00eff",
        "colab": {
          "base_uri": "https://localhost:8080/",
          "height": 68
        }
      },
      "source": [
        "a*b"
      ],
      "execution_count": null,
      "outputs": [
        {
          "output_type": "execute_result",
          "data": {
            "text/plain": [
              "array([[  0,  13,  28,  45],\n",
              "       [ 64,  85, 108, 133],\n",
              "       [160, 189, 220, 253]])"
            ]
          },
          "metadata": {
            "tags": []
          },
          "execution_count": 49
        }
      ]
    },
    {
      "cell_type": "code",
      "metadata": {
        "id": "AYWnxCRGLW83",
        "outputId": "55dfd0f3-a306-4423-dd31-f5929eea3c9e",
        "colab": {
          "base_uri": "https://localhost:8080/",
          "height": 68
        }
      },
      "source": [
        "a/b"
      ],
      "execution_count": null,
      "outputs": [
        {
          "output_type": "execute_result",
          "data": {
            "text/plain": [
              "array([[0.        , 0.07692308, 0.14285714, 0.2       ],\n",
              "       [0.25      , 0.29411765, 0.33333333, 0.36842105],\n",
              "       [0.4       , 0.42857143, 0.45454545, 0.47826087]])"
            ]
          },
          "metadata": {
            "tags": []
          },
          "execution_count": 50
        }
      ]
    },
    {
      "cell_type": "markdown",
      "metadata": {
        "id": "putWrf3jMM-N"
      },
      "source": [
        "We can also conduct element-wise (scalar) multiplication of a matrix and a row vector if they have the same amount of columns. It also works for column vectors."
      ]
    },
    {
      "cell_type": "code",
      "metadata": {
        "id": "YjBq54O0FQyb"
      },
      "source": [
        "b = np.array([[1, 0, 2, 4]])"
      ],
      "execution_count": null,
      "outputs": []
    },
    {
      "cell_type": "code",
      "metadata": {
        "id": "tLPGZUQRGCak",
        "outputId": "c6ff93d6-037c-4ea9-eeb1-33d934fade82",
        "colab": {
          "base_uri": "https://localhost:8080/",
          "height": 34
        }
      },
      "source": [
        "b.shape"
      ],
      "execution_count": null,
      "outputs": [
        {
          "output_type": "execute_result",
          "data": {
            "text/plain": [
              "(1, 4)"
            ]
          },
          "metadata": {
            "tags": []
          },
          "execution_count": 52
        }
      ]
    },
    {
      "cell_type": "code",
      "metadata": {
        "id": "ESA1fZjICPky",
        "outputId": "22f09c9f-4387-420a-9e9e-18c4468495b0",
        "colab": {
          "base_uri": "https://localhost:8080/",
          "height": 68
        }
      },
      "source": [
        "a"
      ],
      "execution_count": 45,
      "outputs": [
        {
          "output_type": "execute_result",
          "data": {
            "text/plain": [
              "array([[ 0,  1,  2,  3],\n",
              "       [ 4,  5,  6,  7],\n",
              "       [ 8,  9, 10, 11]])"
            ]
          },
          "metadata": {
            "tags": []
          },
          "execution_count": 45
        }
      ]
    },
    {
      "cell_type": "code",
      "metadata": {
        "id": "Q00aJn5fFkOE",
        "outputId": "55a59882-7282-409a-d99d-76103509a604",
        "colab": {
          "base_uri": "https://localhost:8080/",
          "height": 68
        }
      },
      "source": [
        "b*a"
      ],
      "execution_count": null,
      "outputs": [
        {
          "output_type": "execute_result",
          "data": {
            "text/plain": [
              "array([[ 0,  0,  4, 12],\n",
              "       [ 4,  0, 12, 28],\n",
              "       [ 8,  0, 20, 44]])"
            ]
          },
          "metadata": {
            "tags": []
          },
          "execution_count": 53
        }
      ]
    },
    {
      "cell_type": "code",
      "metadata": {
        "id": "0o-WHx0-FzTf"
      },
      "source": [
        "b = np.array([[1], [0], [3]])"
      ],
      "execution_count": null,
      "outputs": []
    },
    {
      "cell_type": "code",
      "metadata": {
        "id": "y8NgvunVGPvf",
        "outputId": "0e95d75c-64b1-4748-f304-42de2b505ac3",
        "colab": {
          "base_uri": "https://localhost:8080/",
          "height": 34
        }
      },
      "source": [
        "b.shape"
      ],
      "execution_count": null,
      "outputs": [
        {
          "output_type": "execute_result",
          "data": {
            "text/plain": [
              "(3, 1)"
            ]
          },
          "metadata": {
            "tags": []
          },
          "execution_count": 55
        }
      ]
    },
    {
      "cell_type": "code",
      "metadata": {
        "id": "fNQtHqY6F2Qp",
        "outputId": "6ed9cf08-4265-4e78-ec73-521551b4de50",
        "colab": {
          "base_uri": "https://localhost:8080/",
          "height": 68
        }
      },
      "source": [
        "a*b"
      ],
      "execution_count": null,
      "outputs": [
        {
          "output_type": "execute_result",
          "data": {
            "text/plain": [
              "array([[ 0,  1,  2,  3],\n",
              "       [ 0,  0,  0,  0],\n",
              "       [24, 27, 30, 33]])"
            ]
          },
          "metadata": {
            "tags": []
          },
          "execution_count": 56
        }
      ]
    },
    {
      "cell_type": "markdown",
      "metadata": {
        "id": "06o6sCe-Gq3T"
      },
      "source": [
        "# Dot Product (or Matrix Multiplication) of Two Vectors\n",
        "**IMPORTANT**: Vectors must have the same size (or dimension). \\\\\n",
        "**IMPORTANT**: We can only multiply a row vector by a column vector.\n",
        "\n",
        "$\\begin{pmatrix}\n",
        "  a_{0,0} & a_{0,1} & \\cdots & a_{0,n} \\\\\n",
        " \\end{pmatrix} \\times \\begin{pmatrix}\n",
        "  b_{0,0}  \\\\\n",
        "  b_{1,0}  \\\\\n",
        "  \\vdots    \\\\\n",
        "  b_{n,0}\n",
        " \\end{pmatrix} = \\sum_{i=0}^n \\ a_{0,i} \\times b_{i,0}$\n",
        "\n",
        "**EXAMPLE**:\n",
        ">$\\begin{pmatrix}\n",
        "  1 & 2 & 3 & 4 \\\\\n",
        " \\end{pmatrix} \\times\n",
        " \\begin{pmatrix}\n",
        "  5 \\\\ 6 \\\\ 7 \\\\8 \n",
        "  \\end{pmatrix} =  \\begin{pmatrix}\n",
        "  1 \\times 5  + 2 \\times 6 +  3 \\times 7 +  4 \\times 8 \\\\\n",
        " \\end{pmatrix} =  \\begin{pmatrix}\n",
        "  5  + 12 +  21 +  32 \\\\\n",
        " \\end{pmatrix} = 70 $\n",
        "\n",
        "**EXAMPLE**: Let's say that we have a real estate agency that rents out apartments and we would like to rent out an unfurnished apartment with a size of 50 $m^2$, located in the city center, with a garden : \\\\\n",
        ">$Price(size, center[0 \\, or \\,1], furniture[0 \\, or \\,1]], garden[0 \\, or \\,1])= 10 \\times size + 50 \\times center + 25 \\times furniture + 40 \\times garden = \\begin{pmatrix}\n",
        "  size &  center[yes?] & furniture[yes?] & garden[yes?] \\\\\n",
        " \\end{pmatrix} \\times\n",
        " \\begin{pmatrix}\n",
        "  10 \\\\ 50 \\\\ 25 \\\\40 \n",
        "  \\end{pmatrix} $ \n",
        "\n",
        "\n",
        ">$\\begin{pmatrix}\n",
        "  50 & 1 & 0 & 1 \\\\\n",
        " \\end{pmatrix} \\times\n",
        " \\begin{pmatrix}\n",
        "  10 \\\\ 50 \\\\ 25 \\\\40 \n",
        "  \\end{pmatrix} =  \\begin{pmatrix}\n",
        "  50 \\times 10 + 1 \\times  50 + 0 \\times 25 + 1 \\times  40\\\\\n",
        " \\end{pmatrix} = 590 $\n",
        "\n",
        "\n"
      ]
    },
    {
      "cell_type": "code",
      "metadata": {
        "id": "EM5Ub_X16Zai"
      },
      "source": [
        "a = np.array([[50, 1, 0 , 1]])\n",
        "b = np.array([[10], [50], [25], [40]])"
      ],
      "execution_count": null,
      "outputs": []
    },
    {
      "cell_type": "code",
      "metadata": {
        "id": "9lx21jc76f2B",
        "outputId": "57ef73ff-4589-43cb-f43e-36c93514e52f",
        "colab": {
          "base_uri": "https://localhost:8080/",
          "height": 34
        }
      },
      "source": [
        "a.shape"
      ],
      "execution_count": null,
      "outputs": [
        {
          "output_type": "execute_result",
          "data": {
            "text/plain": [
              "(1, 4)"
            ]
          },
          "metadata": {
            "tags": []
          },
          "execution_count": 58
        }
      ]
    },
    {
      "cell_type": "code",
      "metadata": {
        "id": "XacrRc006m4O",
        "outputId": "c10ec9db-b0a3-4170-e6f3-e4cc8e9d8482",
        "colab": {
          "base_uri": "https://localhost:8080/",
          "height": 34
        }
      },
      "source": [
        "b.shape"
      ],
      "execution_count": null,
      "outputs": [
        {
          "output_type": "execute_result",
          "data": {
            "text/plain": [
              "(4, 1)"
            ]
          },
          "metadata": {
            "tags": []
          },
          "execution_count": 59
        }
      ]
    },
    {
      "cell_type": "code",
      "metadata": {
        "id": "6wEcio2q8VG2",
        "outputId": "00aa5ca9-aeda-4186-b30c-968c19e107b7",
        "colab": {
          "base_uri": "https://localhost:8080/",
          "height": 34
        }
      },
      "source": [
        "np.dot(a, b)"
      ],
      "execution_count": null,
      "outputs": [
        {
          "output_type": "execute_result",
          "data": {
            "text/plain": [
              "array([[590]])"
            ]
          },
          "metadata": {
            "tags": []
          },
          "execution_count": 60
        }
      ]
    },
    {
      "cell_type": "markdown",
      "metadata": {
        "id": "RG_JzRzO9yVx"
      },
      "source": [
        "However, numpy allows us to avoid rotation of the first vector: "
      ]
    },
    {
      "cell_type": "code",
      "metadata": {
        "id": "z75QceiIcHxl"
      },
      "source": [
        "a = np.array([50, 1, 0 , 1])\n",
        "b = np.array([10, 50, 25, 40])"
      ],
      "execution_count": null,
      "outputs": []
    },
    {
      "cell_type": "code",
      "metadata": {
        "id": "_ujbQjFR9xfl",
        "outputId": "a2172a1f-efff-479f-f3f5-7b7b3648d9aa",
        "colab": {
          "base_uri": "https://localhost:8080/",
          "height": 34
        }
      },
      "source": [
        "a.shape"
      ],
      "execution_count": null,
      "outputs": [
        {
          "output_type": "execute_result",
          "data": {
            "text/plain": [
              "(4,)"
            ]
          },
          "metadata": {
            "tags": []
          },
          "execution_count": 62
        }
      ]
    },
    {
      "cell_type": "code",
      "metadata": {
        "id": "a77T7F09-FVW",
        "outputId": "d0464af9-bd8e-49d1-ff6d-7e2d94c89aa9",
        "colab": {
          "base_uri": "https://localhost:8080/",
          "height": 34
        }
      },
      "source": [
        "np.dot(a, b)"
      ],
      "execution_count": null,
      "outputs": [
        {
          "output_type": "execute_result",
          "data": {
            "text/plain": [
              "590"
            ]
          },
          "metadata": {
            "tags": []
          },
          "execution_count": 63
        }
      ]
    },
    {
      "cell_type": "markdown",
      "metadata": {
        "id": "LHRS5qW5AQQ3"
      },
      "source": [
        "# Dot Product (or Matrix Multiplication) of Matrix and Vector\n",
        "\n",
        "Let's say that we have two apartments to rent out : \\\\\n",
        "\n",
        ">$\\begin{pmatrix}\n",
        "  50 & 1 & 0 & 1 \\\\\n",
        "  100 & 1 & 1 & 1 \n",
        " \\end{pmatrix} \\times\n",
        " \\begin{pmatrix}\n",
        "  10 \\\\ 50 \\\\ 25 \\\\40 \n",
        "  \\end{pmatrix} =  \\begin{pmatrix}\n",
        "  50 \\times 10 + 1 \\times  50 + 0 \\times 25 + 1 \\times  40\\\\\n",
        "  100 \\times 10 + 1 \\times  50 + 1 \\times 25 + 1 \\times  40\n",
        " \\end{pmatrix} = \\begin{pmatrix}590 \\\\ 1115 \\end{pmatrix} $\n",
        "\n",
        "\n"
      ]
    },
    {
      "cell_type": "code",
      "metadata": {
        "id": "tNTx4c9u_1rA"
      },
      "source": [
        "a = np.array([[50, 1, 0 , 1], [100, 1, 1 , 1]])\n",
        "b = np.array([[10], [50], [25], [40]])"
      ],
      "execution_count": null,
      "outputs": []
    },
    {
      "cell_type": "code",
      "metadata": {
        "id": "ICfEuO2RAYlX",
        "outputId": "95145cf4-1c63-4f1b-9e1e-f327cba5ecfd",
        "colab": {
          "base_uri": "https://localhost:8080/",
          "height": 34
        }
      },
      "source": [
        "a.shape"
      ],
      "execution_count": null,
      "outputs": [
        {
          "output_type": "execute_result",
          "data": {
            "text/plain": [
              "(2, 4)"
            ]
          },
          "metadata": {
            "tags": []
          },
          "execution_count": 65
        }
      ]
    },
    {
      "cell_type": "code",
      "metadata": {
        "id": "7z7AQJTH_7oa",
        "outputId": "43b6ed07-01bc-48bb-8511-debeafc22845",
        "colab": {
          "base_uri": "https://localhost:8080/",
          "height": 34
        }
      },
      "source": [
        "b.shape"
      ],
      "execution_count": null,
      "outputs": [
        {
          "output_type": "execute_result",
          "data": {
            "text/plain": [
              "(4, 1)"
            ]
          },
          "metadata": {
            "tags": []
          },
          "execution_count": 66
        }
      ]
    },
    {
      "cell_type": "code",
      "metadata": {
        "id": "wCmP9Y6gAapa",
        "outputId": "acc885e9-b1a2-46f4-b7ff-264f4b051541",
        "colab": {
          "base_uri": "https://localhost:8080/",
          "height": 51
        }
      },
      "source": [
        "np.dot(a, b)"
      ],
      "execution_count": null,
      "outputs": [
        {
          "output_type": "execute_result",
          "data": {
            "text/plain": [
              "array([[ 590],\n",
              "       [1115]])"
            ]
          },
          "metadata": {
            "tags": []
          },
          "execution_count": 67
        }
      ]
    },
    {
      "cell_type": "markdown",
      "metadata": {
        "id": "fW5CAOL_HJEZ"
      },
      "source": [
        "# Matrix-Matrix Multiplication (Dot Product)\n",
        "Let's say that we have two real estate agencies: \\\\\n",
        "\n",
        ">$\\begin{pmatrix}\n",
        "  50 & 1 & 0 & 1 \\\\\n",
        "  100 & 1 & 1 & 1 \n",
        " \\end{pmatrix} \\times\n",
        " \\begin{pmatrix}\n",
        "  10 & 11 \\\\ 50 & 20 \\\\ 25 & 30 \\\\40 & 35\n",
        "  \\end{pmatrix} =  \\begin{pmatrix}\n",
        "  50 \\times 10 + 1 \\times  50 + 0 \\times 25 + 1 \\times  40 & 50 \\times 11 + 1 \\times  20 + 0 \\times 30 + 1 \\times  35\\\\\n",
        "  100 \\times 10 + 1 \\times  50 + 1 \\times 25 + 1 \\times  40 & 100 \\times 11 + 1 \\times  20 + 1 \\times 30 + 1 \\times 35\n",
        " \\end{pmatrix} = \\begin{pmatrix} 590 & 605  \\\\ 1115 & 1185 \\end{pmatrix} $\n",
        "\n",
        "**General rule**:\n",
        ">$ \\begin{pmatrix}\n",
        "  a_{0,0} & a_{0,1} & \\cdots & a_{0,n} \\\\\n",
        "  a_{1,1} & a_{1, 1} & \\cdots & a_{1,n} \\\\\n",
        "  \\vdots  & \\vdots  & \\ddots & \\vdots  \\\\\n",
        "  a_{m,0} & a_{m,0} & \\cdots & a_{m,n}\n",
        " \\end{pmatrix} \\times   \\begin{pmatrix} \n",
        " b_{0,0} & b_{0,1} & \\cdots & b_{0,k} \\\\\n",
        " b_{1,1} & b_{1, 1} & \\cdots & b_{1,k} \\\\\n",
        " \\vdots  & \\vdots  & \\ddots & \\vdots  \\\\\n",
        " b_{n,0} & b_{n,0} & \\cdots & b_{n,k} \n",
        " \\end{pmatrix} = \\begin{pmatrix} \n",
        "   \\sum_{i=0}^n \\ a_{0,i} \\times b_{i,0} & \\sum_{i=0}^n \\ a_{0,i} \\times b_{i,1} & \\cdots & \\sum_{i=0}^n \\ a_{0,i} \\times b_{i,k} \\\\\n",
        " \\sum_{i=0}^n \\ a_{1,i} \\times b_{i,0} & \\sum_{i=0}^n \\ a_{1,i} \\times b_{i,1} & \\cdots & \\sum_{i=0}^n \\ a_{1,i} \\times b_{i,k} \\\\\n",
        " \\vdots  & \\vdots  & \\ddots & \\vdots  \\\\\n",
        "  \\sum_{i=0}^n \\ a_{m,i} \\times b_{i,0} & \\sum_{i=0}^n \\ a_{m,i} \\times b_{i,1} & \\cdots & \\sum_{i=0}^n \\ a_{m,i} \\times b_{i,k}\n",
        "  \\end{pmatrix}$ \n",
        "\n",
        "**IMPORTANT**: The first matrix must have a number of columns to a number of rows in the second matrix.\n",
        "\n",
        "Shape(A) = (m , n) \\\\\n",
        "Shape(B) = (n , k) \\\\\n",
        "Shape(AB) = (m, k)\n",
        "\n",
        "\n"
      ]
    },
    {
      "cell_type": "code",
      "metadata": {
        "id": "_AlJ7dea6X8L"
      },
      "source": [
        "a = np.array([[50, 1, 0 , 1], [100, 1, 1 , 1]])\n",
        "b = np.array([[10 , 11], [50, 20], [25, 30], [40, 35]])"
      ],
      "execution_count": null,
      "outputs": []
    },
    {
      "cell_type": "code",
      "metadata": {
        "id": "jVl3j91TC0qi",
        "outputId": "4be0f5e0-b6a3-4b9c-8b7f-c6f63765df3d",
        "colab": {
          "base_uri": "https://localhost:8080/",
          "height": 34
        }
      },
      "source": [
        "a.shape"
      ],
      "execution_count": null,
      "outputs": [
        {
          "output_type": "execute_result",
          "data": {
            "text/plain": [
              "(2, 4)"
            ]
          },
          "metadata": {
            "tags": []
          },
          "execution_count": 69
        }
      ]
    },
    {
      "cell_type": "code",
      "metadata": {
        "id": "3tzOlELsC18P",
        "outputId": "8d3cd9fb-48e2-4456-9b50-013f2f6f6d0c",
        "colab": {
          "base_uri": "https://localhost:8080/",
          "height": 34
        }
      },
      "source": [
        "b.shape"
      ],
      "execution_count": null,
      "outputs": [
        {
          "output_type": "execute_result",
          "data": {
            "text/plain": [
              "(4, 2)"
            ]
          },
          "metadata": {
            "tags": []
          },
          "execution_count": 70
        }
      ]
    },
    {
      "cell_type": "code",
      "metadata": {
        "id": "Y-8M48QKC5GE",
        "outputId": "e44e36a6-5e9a-4df1-808d-83e8ee077b52",
        "colab": {
          "base_uri": "https://localhost:8080/",
          "height": 51
        }
      },
      "source": [
        "np.dot(a, b)"
      ],
      "execution_count": null,
      "outputs": [
        {
          "output_type": "execute_result",
          "data": {
            "text/plain": [
              "array([[ 590,  605],\n",
              "       [1115, 1185]])"
            ]
          },
          "metadata": {
            "tags": []
          },
          "execution_count": 71
        }
      ]
    },
    {
      "cell_type": "markdown",
      "metadata": {
        "id": "ZceYZbvXIMAV"
      },
      "source": [
        "# Properties of Matrix Multiplication"
      ]
    },
    {
      "cell_type": "markdown",
      "metadata": {
        "id": "Z0lplC5MIgrT"
      },
      "source": [
        "- Matrix multiplication is not commutative:\n",
        "$A\\times B \\neq B \\times A$\n",
        "- Matrix multiplication is assosiative: $(A\\times B) \\times C = A\\times (B \\times C)$\n",
        "- Identity Matrix ($n \\times n $ matrix with diagonal elements consisting of ones): $I\\times B = B$\n",
        "- Inverse Matrix ($n \\times n $ matrix): $B\\times B^{-1} = I$\n",
        "\n",
        "\n"
      ]
    },
    {
      "cell_type": "code",
      "metadata": {
        "id": "Bpi5iYDuIcQH"
      },
      "source": [
        "a = np.arange(0, 9).reshape((3, 3))\n",
        "b = np.arange(9, 18).reshape((3, 3))\n",
        "c = np.arange(18, 27).reshape((3, 3))"
      ],
      "execution_count": null,
      "outputs": []
    },
    {
      "cell_type": "code",
      "metadata": {
        "id": "B7bK42zDJKub",
        "outputId": "d3ca1b78-de96-4471-ef03-64a99cdc7995",
        "colab": {
          "base_uri": "https://localhost:8080/",
          "height": 68
        }
      },
      "source": [
        "a"
      ],
      "execution_count": null,
      "outputs": [
        {
          "output_type": "execute_result",
          "data": {
            "text/plain": [
              "array([[0, 1, 2],\n",
              "       [3, 4, 5],\n",
              "       [6, 7, 8]])"
            ]
          },
          "metadata": {
            "tags": []
          },
          "execution_count": 73
        }
      ]
    },
    {
      "cell_type": "code",
      "metadata": {
        "id": "ILk4jFLPJN3H",
        "outputId": "6d66ba9b-eb6d-4c5c-8480-8c810c17d71e",
        "colab": {
          "base_uri": "https://localhost:8080/",
          "height": 68
        }
      },
      "source": [
        "b"
      ],
      "execution_count": null,
      "outputs": [
        {
          "output_type": "execute_result",
          "data": {
            "text/plain": [
              "array([[ 9, 10, 11],\n",
              "       [12, 13, 14],\n",
              "       [15, 16, 17]])"
            ]
          },
          "metadata": {
            "tags": []
          },
          "execution_count": 74
        }
      ]
    },
    {
      "cell_type": "code",
      "metadata": {
        "id": "u6hPZ5LXgbCR",
        "outputId": "35648c7b-a481-4b65-e3fd-1735d02bd634",
        "colab": {
          "base_uri": "https://localhost:8080/",
          "height": 68
        }
      },
      "source": [
        "c"
      ],
      "execution_count": null,
      "outputs": [
        {
          "output_type": "execute_result",
          "data": {
            "text/plain": [
              "array([[18, 19, 20],\n",
              "       [21, 22, 23],\n",
              "       [24, 25, 26]])"
            ]
          },
          "metadata": {
            "tags": []
          },
          "execution_count": 75
        }
      ]
    },
    {
      "cell_type": "markdown",
      "metadata": {
        "id": "CCZ8kTlQgKTx"
      },
      "source": [
        "Matrix multiplication is not commutative:\n",
        "$A\\times B \\neq B \\times A$:"
      ]
    },
    {
      "cell_type": "code",
      "metadata": {
        "id": "hKLu2u01JcIJ",
        "outputId": "9644417e-5e45-4d32-bc32-67f3dce12e1f",
        "colab": {
          "base_uri": "https://localhost:8080/",
          "height": 68
        }
      },
      "source": [
        "np.dot(a, b)"
      ],
      "execution_count": null,
      "outputs": [
        {
          "output_type": "execute_result",
          "data": {
            "text/plain": [
              "array([[ 42,  45,  48],\n",
              "       [150, 162, 174],\n",
              "       [258, 279, 300]])"
            ]
          },
          "metadata": {
            "tags": []
          },
          "execution_count": 76
        }
      ]
    },
    {
      "cell_type": "code",
      "metadata": {
        "id": "X5DLYeG6JlRL",
        "outputId": "b47aed2c-0fcb-41fc-a7ba-027f0e1ce4e3",
        "colab": {
          "base_uri": "https://localhost:8080/",
          "height": 68
        }
      },
      "source": [
        "np.dot(b, a)"
      ],
      "execution_count": null,
      "outputs": [
        {
          "output_type": "execute_result",
          "data": {
            "text/plain": [
              "array([[ 96, 126, 156],\n",
              "       [123, 162, 201],\n",
              "       [150, 198, 246]])"
            ]
          },
          "metadata": {
            "tags": []
          },
          "execution_count": 77
        }
      ]
    },
    {
      "cell_type": "markdown",
      "metadata": {
        "id": "bOHvKNC0KHms"
      },
      "source": [
        "Matrix multiplication is assosiative:\n",
        "$(A\\times B) \\times C = A\\times (B \\times C)$\n"
      ]
    },
    {
      "cell_type": "code",
      "metadata": {
        "id": "9RVAybZGKGya"
      },
      "source": [
        "ab = np.dot(a, b)\n",
        "bc = np.dot(b, c)"
      ],
      "execution_count": null,
      "outputs": []
    },
    {
      "cell_type": "code",
      "metadata": {
        "id": "vcNgG-0bgOqt",
        "outputId": "dca04d7e-685b-43aa-b265-ab87cac441eb",
        "colab": {
          "base_uri": "https://localhost:8080/",
          "height": 68
        }
      },
      "source": [
        "np.dot(ab, c)"
      ],
      "execution_count": null,
      "outputs": [
        {
          "output_type": "execute_result",
          "data": {
            "text/plain": [
              "array([[ 2853,  2988,  3123],\n",
              "       [10278, 10764, 11250],\n",
              "       [17703, 18540, 19377]])"
            ]
          },
          "metadata": {
            "tags": []
          },
          "execution_count": 79
        }
      ]
    },
    {
      "cell_type": "code",
      "metadata": {
        "id": "yJg7y38WgQCQ",
        "outputId": "fa3ec1ac-b591-47c6-c47e-4ea50e3f1c83",
        "colab": {
          "base_uri": "https://localhost:8080/",
          "height": 68
        }
      },
      "source": [
        "np.dot(a, bc)"
      ],
      "execution_count": null,
      "outputs": [
        {
          "output_type": "execute_result",
          "data": {
            "text/plain": [
              "array([[ 2853,  2988,  3123],\n",
              "       [10278, 10764, 11250],\n",
              "       [17703, 18540, 19377]])"
            ]
          },
          "metadata": {
            "tags": []
          },
          "execution_count": 80
        }
      ]
    },
    {
      "cell_type": "markdown",
      "metadata": {
        "id": "XYxQUoUthueS"
      },
      "source": [
        "Identity Matrix ($n \\times n $ matrix with diagonal elements consisting of ones): $I\\times B = B$"
      ]
    },
    {
      "cell_type": "code",
      "metadata": {
        "id": "ZZxq1Ws_hsw7",
        "outputId": "39cb6534-5b46-4804-bfae-ccc833b29e36",
        "colab": {
          "base_uri": "https://localhost:8080/",
          "height": 68
        }
      },
      "source": [
        " np.identity(3)"
      ],
      "execution_count": null,
      "outputs": [
        {
          "output_type": "execute_result",
          "data": {
            "text/plain": [
              "array([[1., 0., 0.],\n",
              "       [0., 1., 0.],\n",
              "       [0., 0., 1.]])"
            ]
          },
          "metadata": {
            "tags": []
          },
          "execution_count": 81
        }
      ]
    },
    {
      "cell_type": "code",
      "metadata": {
        "id": "Id3XH9pTh3m9",
        "outputId": "70893c8d-a8c2-409b-a70b-968b6c47d35c",
        "colab": {
          "base_uri": "https://localhost:8080/",
          "height": 68
        }
      },
      "source": [
        "np.dot(np.identity(3), a)"
      ],
      "execution_count": null,
      "outputs": [
        {
          "output_type": "execute_result",
          "data": {
            "text/plain": [
              "array([[0., 1., 2.],\n",
              "       [3., 4., 5.],\n",
              "       [6., 7., 8.]])"
            ]
          },
          "metadata": {
            "tags": []
          },
          "execution_count": 82
        }
      ]
    },
    {
      "cell_type": "markdown",
      "metadata": {
        "id": "fp4DMRUqKB5y"
      },
      "source": [
        "Inverse Matrix ($n \\times n $ matrix): $B\\times B^{-1} = I$"
      ]
    },
    {
      "cell_type": "code",
      "metadata": {
        "id": "inndNTR0KAye",
        "outputId": "aaa99ed6-9970-48cc-983c-d875d88e1c9c",
        "colab": {
          "base_uri": "https://localhost:8080/",
          "height": 34
        }
      },
      "source": [
        "6*(1/6)"
      ],
      "execution_count": 53,
      "outputs": [
        {
          "output_type": "execute_result",
          "data": {
            "text/plain": [
              "1.0"
            ]
          },
          "metadata": {
            "tags": []
          },
          "execution_count": 53
        }
      ]
    },
    {
      "cell_type": "code",
      "metadata": {
        "id": "CMDrDkk4KQEp",
        "outputId": "3188e5dc-bae8-46c3-e1da-6bab1167694c",
        "colab": {
          "base_uri": "https://localhost:8080/",
          "height": 85
        }
      },
      "source": [
        "a_random = np.random.random(size=(4,4))\n",
        "a_random"
      ],
      "execution_count": 49,
      "outputs": [
        {
          "output_type": "execute_result",
          "data": {
            "text/plain": [
              "array([[0.53806154, 0.65666966, 0.69788143, 0.30014312],\n",
              "       [0.94292118, 0.91355476, 0.05574779, 0.722668  ],\n",
              "       [0.7559682 , 0.5231321 , 0.43138649, 0.02668356],\n",
              "       [0.4593889 , 0.90934971, 0.05047885, 0.72649586]])"
            ]
          },
          "metadata": {
            "tags": []
          },
          "execution_count": 49
        }
      ]
    },
    {
      "cell_type": "code",
      "metadata": {
        "id": "uPATGgVKKXnu",
        "outputId": "8f911210-769d-4067-a403-65374b2fde30",
        "colab": {
          "base_uri": "https://localhost:8080/",
          "height": 85
        }
      },
      "source": [
        "a_random_inv = np.linalg.inv(a_random)\n",
        "a_random_inv"
      ],
      "execution_count": 50,
      "outputs": [
        {
          "output_type": "execute_result",
          "data": {
            "text/plain": [
              "array([[ 0.01159134,  2.11881894, -0.04557308, -2.11076999],\n",
              "       [-2.05622892, -3.52475753,  3.2864364 ,  4.23498435],\n",
              "       [ 2.32446924,  0.3729153 , -1.34050823, -1.28204152],\n",
              "       [ 2.40492726,  3.04619904, -3.9916496 , -2.50063572]])"
            ]
          },
          "metadata": {
            "tags": []
          },
          "execution_count": 50
        }
      ]
    },
    {
      "cell_type": "code",
      "metadata": {
        "id": "pOLgyq48KeCp",
        "outputId": "05319761-0ae9-41a2-c8ac-7c56072e01fd",
        "colab": {
          "base_uri": "https://localhost:8080/",
          "height": 153
        }
      },
      "source": [
        "np.dot(a_random, a_random_inv)"
      ],
      "execution_count": 51,
      "outputs": [
        {
          "output_type": "execute_result",
          "data": {
            "text/plain": [
              "array([[ 1.00000000e+00,  2.41288149e-16, -1.71850876e-16,\n",
              "         1.57604874e-16],\n",
              "       [-1.02814822e-16,  1.00000000e+00,  3.58451142e-17,\n",
              "        -3.13161619e-17],\n",
              "       [-3.82956515e-16, -1.10597861e-16,  1.00000000e+00,\n",
              "        -5.15685968e-17],\n",
              "       [ 1.93443913e-16, -1.53176715e-16, -2.83446459e-16,\n",
              "         1.00000000e+00]])"
            ]
          },
          "metadata": {
            "tags": []
          },
          "execution_count": 51
        }
      ]
    },
    {
      "cell_type": "code",
      "metadata": {
        "id": "LuQxH6wYKic1",
        "outputId": "43a1d9d9-5362-4c19-fd40-8dc331be22ef",
        "colab": {
          "base_uri": "https://localhost:8080/",
          "height": 85
        }
      },
      "source": [
        "np.around(np.dot(a_random, a_random_inv)).astype(int)"
      ],
      "execution_count": 52,
      "outputs": [
        {
          "output_type": "execute_result",
          "data": {
            "text/plain": [
              "array([[1, 0, 0, 0],\n",
              "       [0, 1, 0, 0],\n",
              "       [0, 0, 1, 0],\n",
              "       [0, 0, 0, 1]])"
            ]
          },
          "metadata": {
            "tags": []
          },
          "execution_count": 52
        }
      ]
    },
    {
      "cell_type": "markdown",
      "metadata": {
        "id": "ftjFQO_IvifU"
      },
      "source": [
        "# Useful operations"
      ]
    },
    {
      "cell_type": "code",
      "metadata": {
        "id": "dM5O3qzPaf3o"
      },
      "source": [
        "a = np.arange(0, 9).reshape((3, 3))\n",
        "b = np.arange(9, 18).reshape((3, 3))"
      ],
      "execution_count": null,
      "outputs": []
    },
    {
      "cell_type": "code",
      "metadata": {
        "id": "hy_Gu1Zja9NA",
        "outputId": "548d2cf9-abb7-46c9-ae71-63be47c6273b",
        "colab": {
          "base_uri": "https://localhost:8080/",
          "height": 68
        }
      },
      "source": [
        "a"
      ],
      "execution_count": null,
      "outputs": [
        {
          "output_type": "execute_result",
          "data": {
            "text/plain": [
              "array([[0, 1, 2],\n",
              "       [3, 4, 5],\n",
              "       [6, 7, 8]])"
            ]
          },
          "metadata": {
            "tags": []
          },
          "execution_count": 84
        }
      ]
    },
    {
      "cell_type": "code",
      "metadata": {
        "id": "X_el580oa-UA",
        "outputId": "fc9d20b8-94ae-4d60-c7f0-d01cb5689f7b",
        "colab": {
          "base_uri": "https://localhost:8080/",
          "height": 68
        }
      },
      "source": [
        "b"
      ],
      "execution_count": null,
      "outputs": [
        {
          "output_type": "execute_result",
          "data": {
            "text/plain": [
              "array([[ 9, 10, 11],\n",
              "       [12, 13, 14],\n",
              "       [15, 16, 17]])"
            ]
          },
          "metadata": {
            "tags": []
          },
          "execution_count": 85
        }
      ]
    },
    {
      "cell_type": "markdown",
      "metadata": {
        "id": "LC_Jruged9Qg"
      },
      "source": [
        "Sum of all elements in a matrix:"
      ]
    },
    {
      "cell_type": "code",
      "metadata": {
        "id": "tXIRhj7NeJzK",
        "outputId": "85353f7c-d92e-4cb6-d4b9-fd0671f1205c",
        "colab": {
          "base_uri": "https://localhost:8080/",
          "height": 34
        }
      },
      "source": [
        "np.sum(a)"
      ],
      "execution_count": null,
      "outputs": [
        {
          "output_type": "execute_result",
          "data": {
            "text/plain": [
              "36"
            ]
          },
          "metadata": {
            "tags": []
          },
          "execution_count": 97
        }
      ]
    },
    {
      "cell_type": "markdown",
      "metadata": {
        "id": "SsmIyaxCeTb5"
      },
      "source": [
        "Sum of all elements in each column\n",
        "\n"
      ]
    },
    {
      "cell_type": "code",
      "metadata": {
        "id": "eoAJVpwfeYxY",
        "outputId": "a46cd7f9-49b5-4688-d661-fd58e29cd794",
        "colab": {
          "base_uri": "https://localhost:8080/",
          "height": 34
        }
      },
      "source": [
        "np.sum(a, axis=0)"
      ],
      "execution_count": null,
      "outputs": [
        {
          "output_type": "execute_result",
          "data": {
            "text/plain": [
              "array([ 9, 12, 15])"
            ]
          },
          "metadata": {
            "tags": []
          },
          "execution_count": 98
        }
      ]
    },
    {
      "cell_type": "markdown",
      "metadata": {
        "id": "qogJ8jxxewVF"
      },
      "source": [
        "Sum of all elements in each row:\n"
      ]
    },
    {
      "cell_type": "code",
      "metadata": {
        "id": "3yPcYF3UezXP",
        "outputId": "3629b148-bd70-4cac-a10a-6562fbf2c15f",
        "colab": {
          "base_uri": "https://localhost:8080/",
          "height": 34
        }
      },
      "source": [
        "np.sum(a, axis=1)"
      ],
      "execution_count": null,
      "outputs": [
        {
          "output_type": "execute_result",
          "data": {
            "text/plain": [
              "array([ 3, 12, 21])"
            ]
          },
          "metadata": {
            "tags": []
          },
          "execution_count": 99
        }
      ]
    },
    {
      "cell_type": "markdown",
      "metadata": {
        "id": "1SAUlzBtb7z1"
      },
      "source": [
        "We can concatenate 2 matrices (or tables) with the same features (columns):"
      ]
    },
    {
      "cell_type": "code",
      "metadata": {
        "id": "sa89YyZ2swap",
        "outputId": "74430ffa-ec51-43d8-fce0-afbd5a49a3dd",
        "colab": {
          "base_uri": "https://localhost:8080/",
          "height": 119
        }
      },
      "source": [
        "np.concatenate((a, b), axis=0)"
      ],
      "execution_count": null,
      "outputs": [
        {
          "output_type": "execute_result",
          "data": {
            "text/plain": [
              "array([[ 0,  1,  2],\n",
              "       [ 3,  4,  5],\n",
              "       [ 6,  7,  8],\n",
              "       [ 9, 10, 11],\n",
              "       [12, 13, 14],\n",
              "       [15, 16, 17]])"
            ]
          },
          "metadata": {
            "tags": []
          },
          "execution_count": 86
        }
      ]
    },
    {
      "cell_type": "markdown",
      "metadata": {
        "id": "XV1fGPSybamx"
      },
      "source": [
        "We can also concatenate 2 matrices (or tables) with the same number of observations (rows):"
      ]
    },
    {
      "cell_type": "code",
      "metadata": {
        "id": "s78eSeehvSFO",
        "outputId": "7a2caf0a-a8de-4504-8bbf-8099ded6eb82",
        "colab": {
          "base_uri": "https://localhost:8080/",
          "height": 68
        }
      },
      "source": [
        "np.concatenate((a, b), axis=1)"
      ],
      "execution_count": null,
      "outputs": [
        {
          "output_type": "execute_result",
          "data": {
            "text/plain": [
              "array([[ 0,  1,  2,  9, 10, 11],\n",
              "       [ 3,  4,  5, 12, 13, 14],\n",
              "       [ 6,  7,  8, 15, 16, 17]])"
            ]
          },
          "metadata": {
            "tags": []
          },
          "execution_count": 87
        }
      ]
    },
    {
      "cell_type": "markdown",
      "metadata": {
        "id": "Um_Jgvcvem-h"
      },
      "source": [
        "The transpose of a matrix is an operator which flips a matrix over its diagonal  (rotation on 90 degrees). It is usually denoted by $A^T$ for a matrix $A$."
      ]
    },
    {
      "cell_type": "code",
      "metadata": {
        "id": "USaIK4OQvXLH",
        "outputId": "38bc9583-566d-4aa2-c19a-eb7763b362ca",
        "colab": {
          "base_uri": "https://localhost:8080/",
          "height": 68
        }
      },
      "source": [
        "b.T"
      ],
      "execution_count": null,
      "outputs": [
        {
          "output_type": "execute_result",
          "data": {
            "text/plain": [
              "array([[ 9, 12, 15],\n",
              "       [10, 13, 16],\n",
              "       [11, 14, 17]])"
            ]
          },
          "metadata": {
            "tags": []
          },
          "execution_count": 88
        }
      ]
    },
    {
      "cell_type": "markdown",
      "metadata": {
        "id": "5SSLxOXgThSL"
      },
      "source": [
        "# Exercises\n",
        "\n",
        "*  Matrix A[3x3]; Matrix B[3x3]\n",
        "*  create both matrices in numpy\n",
        "*  vector c [3]; vector d [3]\n",
        "*  create vector c in numpy\n",
        "*  work out A + B\n",
        "*  work out 2 * A\n",
        "*  work out c * A\n",
        "*  work out the dot product of c and d\n",
        "*  work out A*B (by hand and in numpy; compare the results)\n",
        "*  work out B*A (by hand and in numpy; compare the results)\n",
        "*  Is $A \\times B $ equal to $ B \\times A$? Why (not)?\n",
        "*  Is $(A\\times B) \\times C$  equal to $A\\times (B \\times C)$ Why (not)?\n",
        "\n",
        "\n",
        "\n",
        "\n"
      ]
    }
  ]
}