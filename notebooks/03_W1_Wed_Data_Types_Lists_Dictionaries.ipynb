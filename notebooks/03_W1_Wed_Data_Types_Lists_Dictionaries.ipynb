{
 "cells": [
  {
   "attachments": {},
   "cell_type": "markdown",
   "metadata": {},
   "source": [
    "<div style=\"background-color:lightgrey;\n",
    "            padding:10px;\n",
    "            color:black;\n",
    "            border:black dashed 2px; \n",
    "            border-radius:5px;\n",
    "            margin: 20px 0;\">\n",
    "            \n",
    "            \n",
    "# Data Types, Lists, Dictionaries\n",
    "\n",
    "\n",
    "\n",
    "**Staff:** Luna De Bruyne <br/>\n",
    "**Support Material:** [exercises](../exercises/Questions_2023/02_EX_Datatypes.ipynb) <br>\n",
    "**Support Sessions:**  Friday, September 29 at 2:00 PM\n",
    "\n",
    "</div>\n",
    "\n"
   ]
  },
  {
   "attachments": {},
   "cell_type": "markdown",
   "metadata": {},
   "source": [
    "## Session overview\n",
    "\n",
    "In Python, each variable is of a certain **type**. In the previous sessions, we've worked with a number of basic or primitive data types already, but without making that very explicit. For now, we'll focus on the following primitive data types:\n",
    "\n",
    "- **int**: for \"integers\" (or whole numbers)\n",
    "- **float**: for \"floating-point\" numbers\n",
    "- **str**: for textual \"strings\" of characters\n",
    "- **bool**: for \"boolean\" or binary variables that can only take on two values\n",
    "\n",
    "There are many more data types in Python (and you can in fact define your own data types for variables if you want to, which we'll cover in the sessions on object orientation). Nevertheless, just knowing about these four essential data types will get you a very long way already.\n",
    "\n",
    "In this session, we'll go over these four data types again and review some of their basic properties. Next, we'll move to the topic of **collections**, which are useful constructs in Python that allow you to manipulate structured assemblages (sets, arrays, lists, etc.) of the more primitive data types."
   ]
  },
  {
   "attachments": {},
   "cell_type": "markdown",
   "metadata": {},
   "source": [
    "## 1. Basic Data Types"
   ]
  },
  {
   "attachments": {},
   "cell_type": "markdown",
   "metadata": {},
   "source": [
    "### Basic data types: numbers"
   ]
  },
  {
   "attachments": {},
   "cell_type": "markdown",
   "metadata": {},
   "source": [
    "For working with numbers in Python, two basic data types are available: **int** (for integer or \"whole\" numbers) and **float** (for floating-point numbers). You can always check for the type of something by passing it to the `type()` function:"
   ]
  },
  {
   "cell_type": "code",
   "execution_count": null,
   "metadata": {},
   "outputs": [],
   "source": [
    "type(2)"
   ]
  },
  {
   "cell_type": "code",
   "execution_count": null,
   "metadata": {},
   "outputs": [],
   "source": [
    "type(2.1)"
   ]
  },
  {
   "attachments": {},
   "cell_type": "markdown",
   "metadata": {},
   "source": [
    "Above, we apply this to a so-called **literal**, e.g. a hard-coded value in Python that doesn't get stored in a particular variable. The function `type()` can just as well be applied to a variable:"
   ]
  },
  {
   "cell_type": "code",
   "execution_count": null,
   "metadata": {},
   "outputs": [],
   "source": [
    "a = 2.1\n",
    "type(a)"
   ]
  },
  {
   "attachments": {},
   "cell_type": "markdown",
   "metadata": {},
   "source": [
    "A number of common **operators** are available to perform basic **arithmetic** in Python. These operators do something with pairs of variables or literals. Some simple examples:"
   ]
  },
  {
   "cell_type": "code",
   "execution_count": null,
   "metadata": {},
   "outputs": [],
   "source": [
    "5 + 3 # addition"
   ]
  },
  {
   "cell_type": "code",
   "execution_count": null,
   "metadata": {},
   "outputs": [],
   "source": [
    "5 - 2 # subtraction"
   ]
  },
  {
   "cell_type": "code",
   "execution_count": null,
   "metadata": {},
   "outputs": [],
   "source": [
    "6 * 2 # multiplication"
   ]
  },
  {
   "cell_type": "code",
   "execution_count": null,
   "metadata": {},
   "outputs": [],
   "source": [
    "2 ** 6 # power"
   ]
  },
  {
   "cell_type": "code",
   "execution_count": null,
   "metadata": {},
   "outputs": [],
   "source": [
    "6 / 2 # division"
   ]
  },
  {
   "attachments": {},
   "cell_type": "markdown",
   "metadata": {},
   "source": [
    "The final example above demonstrates that the type of the result of an arithmetic operation can change, in the sense that, for instance, the result of the division of two integers will be a float. Also, notice what happens when we add a `float` to an `int`:"
   ]
  },
  {
   "cell_type": "code",
   "execution_count": null,
   "metadata": {},
   "outputs": [],
   "source": [
    "type(6 + 2.0)"
   ]
  },
  {
   "attachments": {},
   "cell_type": "markdown",
   "metadata": {},
   "source": [
    "Arithmetic operations in principle combine just two numbers in some way to produce a new number as result (e.g. a summation), but these operations can of course be stacked on top of one another in various ways to express more complex operations:"
   ]
  },
  {
   "cell_type": "code",
   "execution_count": null,
   "metadata": {},
   "outputs": [],
   "source": [
    "5 + 2 - 20 # of course, negative numbers exist too in Python!"
   ]
  },
  {
   "attachments": {},
   "cell_type": "markdown",
   "metadata": {},
   "source": [
    "In such cases, however, some operations will be carried out before others (as you will remember from your math courses in high school). This is called **operator precedence**:"
   ]
  },
  {
   "cell_type": "code",
   "execution_count": null,
   "metadata": {},
   "outputs": [],
   "source": [
    "5 + 3 * 10 # predict the result?"
   ]
  },
  {
   "attachments": {},
   "cell_type": "markdown",
   "metadata": {},
   "source": [
    "If you'd like to take more control over the execution order of these operations, you can use round brackets:"
   ]
  },
  {
   "cell_type": "code",
   "execution_count": null,
   "metadata": {},
   "outputs": [],
   "source": [
    "(5 + 3) * 10"
   ]
  },
  {
   "attachments": {},
   "cell_type": "markdown",
   "metadata": {},
   "source": [
    "##### Modulus\n",
    "\n",
    "> A final operator is the **modulus** operator (`%`). You won't often need it outside of our nasty exercises for this chapter, but it is good to know about. Have a look at the examples below and explain the modulus' behaviour:"
   ]
  },
  {
   "cell_type": "code",
   "execution_count": null,
   "metadata": {},
   "outputs": [],
   "source": [
    "print(80 % 2)\n",
    "print(13 % 6)\n",
    "print(4 % 2)\n",
    "print(11 % 3)"
   ]
  },
  {
   "attachments": {},
   "cell_type": "markdown",
   "metadata": {},
   "source": [
    "As a small exercise: how could we use this operator to determine whether a number is **even** or **uneven**? (This is an evergreen in programming exercises.)"
   ]
  },
  {
   "attachments": {},
   "cell_type": "markdown",
   "metadata": {},
   "source": [
    "### Basic Data Types: Booleans\n",
    "\n",
    "Another data type are booleans (type `bool`). These are variables that, as opposed to **scalars** like ints or floats, can only take one of two mutually exclusive values, i.e. **True** or **False**. Such binary values correspond to the zeros and ones (cf. \"bits\") that are common in computational architectures. It's a value that is \"on\" or \"off\":"
   ]
  },
  {
   "cell_type": "code",
   "execution_count": null,
   "metadata": {},
   "outputs": [],
   "source": [
    "type(True)"
   ]
  },
  {
   "cell_type": "code",
   "execution_count": null,
   "metadata": {},
   "outputs": [],
   "source": [
    "b = False\n",
    "print(b)"
   ]
  },
  {
   "attachments": {},
   "cell_type": "markdown",
   "metadata": {},
   "source": [
    "Booleans are very important in programming, especially in the context of logical expressions (which are next session's topic). You'll often want to check whether a certain condition holds \"True\": verifying the veracity of such a condition (e.g. is a password correct? is a password long enough?) is done using booleans. There are a number of **logical operators** that can help you with that. More on that will be said in the next session, but for now, we'll already mention the keywords `and`, `or` and `not`, which you can use to combine (or invert) logical values. (Remember: keywords are special \"function words\" in Python, that are part of the language itself and which shouldn't be used as e.g. variable names.)\n",
    "\n",
    "You'll know from other contexts how two booleans can be combined into a new boolean by using these keywords. Some examples:"
   ]
  },
  {
   "cell_type": "code",
   "execution_count": null,
   "metadata": {},
   "outputs": [],
   "source": [
    "print(True and True)\n",
    "print(True and False)\n",
    "print(False and True)\n",
    "print(False and False)"
   ]
  },
  {
   "attachments": {},
   "cell_type": "markdown",
   "metadata": {},
   "source": [
    "Or:"
   ]
  },
  {
   "cell_type": "code",
   "execution_count": null,
   "metadata": {},
   "outputs": [],
   "source": [
    "print(True or True)\n",
    "print(True or False)\n",
    "print(False or True)\n",
    "print(False or False)"
   ]
  },
  {
   "attachments": {},
   "cell_type": "markdown",
   "metadata": {},
   "source": [
    "Inversion of a boolean can be done using the `not` keyword:"
   ]
  },
  {
   "cell_type": "code",
   "execution_count": null,
   "metadata": {},
   "outputs": [],
   "source": [
    "print(not True)\n",
    "print(not False)"
   ]
  },
  {
   "attachments": {},
   "cell_type": "markdown",
   "metadata": {},
   "source": [
    "##### intermezzo: isinstance()\n",
    "> Boolean values can also be returned by certain functions. One function that is very relevant in the context of this session is `isinstance()` which you can use to check whether a variable is of a certain type. In between the round brackets, you pass the function two arguments: first, a variable (or literal), second, the name of a certain data type. The function will return a boolean indicating whether the former is an instance of the latter:"
   ]
  },
  {
   "cell_type": "code",
   "execution_count": null,
   "metadata": {},
   "outputs": [],
   "source": [
    "print(isinstance(5.2, int))\n",
    "print(isinstance(5.2, float))"
   ]
  },
  {
   "attachments": {},
   "cell_type": "markdown",
   "metadata": {},
   "source": [
    "### Basic Data Types: Strings\n",
    "- converter: str\n",
    "- functions: len, int\n",
    "- methods: .count, .upper, .lower, .format, ...\n",
    "- immutable\n",
    "</font>"
   ]
  },
  {
   "attachments": {},
   "cell_type": "markdown",
   "metadata": {},
   "source": [
    "Arguably the common data type when dealing with digital text is the **string** (data type `str`). Strings are called such because Python considersd them to be a \"string\", or an ordered sequence, of individual characters. String variables can be assigned from string literals that you can define in several ways:"
   ]
  },
  {
   "cell_type": "code",
   "execution_count": null,
   "metadata": {},
   "outputs": [],
   "source": [
    "s = 'bootcamp' # single quotes\n",
    "s = \"bootcamp\" # double quotes\n",
    "\n",
    "type(s)"
   ]
  },
  {
   "attachments": {},
   "cell_type": "markdown",
   "metadata": {},
   "source": [
    "You can use single or double quotes when creating **string literals**, but you should not mix them (or you will hit a `SyntaxError`)."
   ]
  },
  {
   "cell_type": "code",
   "execution_count": null,
   "metadata": {},
   "outputs": [],
   "source": [
    "x = \"bootcamp'"
   ]
  },
  {
   "attachments": {},
   "cell_type": "markdown",
   "metadata": {},
   "source": [
    "Triple quotes are also available but they are mainly used for multi-line strings or strings that contain so-called **newline characters**:"
   ]
  },
  {
   "cell_type": "code",
   "execution_count": null,
   "metadata": {},
   "outputs": [],
   "source": [
    "y = \"\"\"The bootcamp\n",
    "       is really\n",
    "       great\"\"\"\n"
   ]
  },
  {
   "attachments": {},
   "cell_type": "markdown",
   "metadata": {},
   "source": [
    "#### Quotations\n",
    "> Often, actual quotation marks in strings will be a hassle. The following won't work, for example:"
   ]
  },
  {
   "cell_type": "code",
   "execution_count": null,
   "metadata": {},
   "outputs": [],
   "source": [
    "#print('\"test\"')\"\"\n",
    "\n",
    "print('Harry zei:\"dit is het einde\"')"
   ]
  },
  {
   "cell_type": "code",
   "execution_count": null,
   "metadata": {},
   "outputs": [],
   "source": [
    "quote = 'With quotes within quotes we can show a 'string within a string'!'\n",
    "quote"
   ]
  },
  {
   "attachments": {},
   "cell_type": "markdown",
   "metadata": {},
   "source": [
    "> A quick workaround would be to wrap the single quotation marks in a string that is defined using double quotation marks (which is allowed):"
   ]
  },
  {
   "cell_type": "code",
   "execution_count": null,
   "metadata": {},
   "outputs": [],
   "source": [
    "quote = \"With quotes within quotes we can show a 'string within a string'!\"\n",
    "quote"
   ]
  },
  {
   "attachments": {},
   "cell_type": "markdown",
   "metadata": {},
   "source": [
    "> Another option would be to **escape** the quotation marks. Below, we add a backward slash (*\\*) before a character to \"escape\" it, meaning that we want to include it verbatimly:"
   ]
  },
  {
   "cell_type": "code",
   "execution_count": null,
   "metadata": {},
   "outputs": [],
   "source": [
    "quote = \"Or we can \\\"escape\\\" quotes\"\n",
    "quote"
   ]
  },
  {
   "attachments": {},
   "cell_type": "markdown",
   "metadata": {},
   "source": [
    "As mentioned above, a string is considered a list of individual characters or \"letters\". You'll have to pay close attention: sometimes two characters may look the same, although they *are* different under the surface. Curly versus straight quotation marks count as different characters for instance:"
   ]
  },
  {
   "cell_type": "code",
   "execution_count": null,
   "metadata": {},
   "outputs": [],
   "source": [
    "curly = 'Or we can “escape” quotes'\n",
    "straight = 'Or we can \\\"escape\\\" quotes'"
   ]
  },
  {
   "attachments": {},
   "cell_type": "markdown",
   "metadata": {},
   "source": [
    "We'll say more about **character encodings** in the session on manipulating files. For now, we should note already that whitespace symbols and punctuation marks also count as characters. A **newline** itself, for instance, can be represented in a string with an escaped *n*-character (`\\n`)"
   ]
  },
  {
   "cell_type": "code",
   "execution_count": null,
   "metadata": {},
   "outputs": [],
   "source": [
    "newlines = 'We can also add \\nnewlines directly in a string to \\nhave line breaks in print'\n",
    "print(newlines)"
   ]
  },
  {
   "attachments": {},
   "cell_type": "markdown",
   "metadata": {},
   "source": [
    "For the **tab character**, there's the equivalent `\\t` which we can use. In the following example, we combine the `\\t` and `\\n` to format a table:"
   ]
  },
  {
   "cell_type": "code",
   "execution_count": null,
   "metadata": {},
   "outputs": [],
   "source": [
    "table = \"c1\\tc2\\tc3\\n12\\t13\\t14\\n14\\t13\\t12\"\n",
    "print(table)"
   ]
  },
  {
   "attachments": {},
   "cell_type": "markdown",
   "metadata": {},
   "source": [
    "Finally, you can \"escape an escape symbol\"; for instance, if you would like to show that verbatimly:"
   ]
  },
  {
   "cell_type": "code",
   "execution_count": null,
   "metadata": {},
   "outputs": [],
   "source": [
    "another_string = 'We can use the escape \\ also to escape \\\\t and \\\\n and show it \"literally\"'\n",
    "print(another_string)"
   ]
  },
  {
   "attachments": {},
   "cell_type": "markdown",
   "metadata": {},
   "source": [
    "Another way would be to make use of a so-called **raw string**, in which each character is interpretaed literally. You can define such a string by adding an `r` before the opening quotation mark:"
   ]
  },
  {
   "cell_type": "code",
   "execution_count": null,
   "metadata": {},
   "outputs": [],
   "source": [
    "another_string = r'We can use the raw string format to show \\t and \\n \"literally\"'\n",
    "print(another_string)"
   ]
  },
  {
   "attachments": {},
   "cell_type": "markdown",
   "metadata": {},
   "source": [
    "#### String functionality\n",
    "\n",
    "Python offers excellent support for processing strings, but also natural language in general, which is why we teach it as the common language in MA DTA. Below goes a series of functions that are built into Python and which you can call on any string you like. We will work with this small example text:"
   ]
  },
  {
   "cell_type": "code",
   "execution_count": null,
   "metadata": {},
   "outputs": [],
   "source": [
    "text = \"Call me Ishmael.\""
   ]
  },
  {
   "attachments": {},
   "cell_type": "markdown",
   "metadata": {},
   "source": [
    "Below, you can find a series of functions that we can call directly *on* this string variable. You can probably guess what their behavior is?"
   ]
  },
  {
   "cell_type": "code",
   "execution_count": null,
   "metadata": {},
   "outputs": [],
   "source": [
    "text.lower()\n"
   ]
  },
  {
   "cell_type": "code",
   "execution_count": null,
   "metadata": {},
   "outputs": [],
   "source": [
    "text.upper()"
   ]
  },
  {
   "cell_type": "code",
   "execution_count": null,
   "metadata": {},
   "outputs": [],
   "source": [
    "text.count('a')"
   ]
  },
  {
   "cell_type": "code",
   "execution_count": null,
   "metadata": {},
   "outputs": [],
   "source": [
    "text.lower().count('a') # it is possible to stack these functions"
   ]
  },
  {
   "attachments": {},
   "cell_type": "markdown",
   "metadata": {},
   "source": [
    "Instead of passing the string to a generic function (like `print(variable)`), these functions are tied to the string object itself; this is made clear with the dot syntax (`variable.function()`). That makes sense: while you can print both an integer and a string, it wouldn't make sense to try and uppercase a float. Python comes with a wide array of functionality for strings."
   ]
  },
  {
   "attachments": {},
   "cell_type": "markdown",
   "metadata": {},
   "source": [
    "Finally, it should be mentioned that Python also supports a number of remarkable \"arithmetic\" operations on strings (that aren't possible in many other programming languages). These are **string multiplication** and **string concatenation**. String multiplication, with the operator `*`, which we already covered is straightforward:"
   ]
  },
  {
   "cell_type": "code",
   "execution_count": null,
   "metadata": {},
   "outputs": [],
   "source": [
    "s = 'bla'\n",
    "s * 3"
   ]
  },
  {
   "attachments": {},
   "cell_type": "markdown",
   "metadata": {},
   "source": [
    "String concatenation, or adding one string to another is easy to achieve in Python using the operator `+`. This works for literals as well as variables:"
   ]
  },
  {
   "cell_type": "code",
   "execution_count": null,
   "metadata": {},
   "outputs": [],
   "source": [
    "name = 'Mike'\n",
    "print('I am' + name) # spaces won't get inserted automatically!\n",
    "\n",
    "salutation = 'I am'\n",
    "greeting = 'Goodbye!'\n",
    "print(salutation + ' ' + name + '. ' + greeting)"
   ]
  },
  {
   "attachments": {},
   "cell_type": "markdown",
   "metadata": {},
   "source": [
    "(For the sake of completeness, we note that division or subtraction are not supported for strings in Python.)"
   ]
  },
  {
   "attachments": {},
   "cell_type": "markdown",
   "metadata": {},
   "source": [
    "### Casting"
   ]
  },
  {
   "attachments": {},
   "cell_type": "markdown",
   "metadata": {},
   "source": [
    "Above we've discussed the four main primitive data types in Python and some of their core properties. Importantly, you should realise that it is often possible to convert a variable to another data type. Converting a variable to another data type is very common in Python and this operation is called **casting**. Let us review a number of contexts in which casting is relevant.\n",
    "\n",
    "First, we should emphasize that a number, for instance, could be represented both as a string (of a single character) and as an integer:"
   ]
  },
  {
   "cell_type": "code",
   "execution_count": null,
   "metadata": {},
   "outputs": [],
   "source": [
    "a = 5     # int\n",
    "b = '5'   # str\n",
    "print(a)\n",
    "print(b)"
   ]
  },
  {
   "attachments": {},
   "cell_type": "markdown",
   "metadata": {},
   "source": [
    "While these two 'numbers' might look very similar at the surface, the underlying data type will of course greatly affect what you can to such as variable. The first line below doesn't pose a problem, but the second line will throw a **TypeError**, precisely we are violating the sort of functionality that the string type supports:"
   ]
  },
  {
   "cell_type": "code",
   "execution_count": null,
   "metadata": {},
   "outputs": [],
   "source": [
    "print(a - 3)\n",
    "print(b - 3)"
   ]
  },
  {
   "attachments": {},
   "cell_type": "markdown",
   "metadata": {},
   "source": [
    "Through converting a string to an integer (or the other way round) would allow us to change what we can do to a variable.\n",
    "\n",
    "A more practical example comes from the problem of **string formatting**. Often, you'll want to print some information to screen, where a part of the information is a predetermined template, and another part are numbers that have to be filled in dynamically at runtime (maybe because their value isn't known beforehand). For example:"
   ]
  },
  {
   "cell_type": "code",
   "execution_count": null,
   "metadata": {},
   "outputs": [],
   "source": [
    "age = 999\n",
    "print('Saint Nicholas is ' + 999 + ' years old.')"
   ]
  },
  {
   "attachments": {},
   "cell_type": "markdown",
   "metadata": {},
   "source": [
    "Above, we try to combine a string literal, an integer (`age`), and another string literal. Our attempt fails, however, with a `TypeError`: this informs us that we cannot simply sum or concatenate a string and a number because their types don't match. It make sense that Python is confused: do we intend the summation in the mathematical sense or in the string concatenation sense?\n",
    "\n",
    "We can make that explicitly through casting our `age` variable to a string before concatenating it:"
   ]
  },
  {
   "cell_type": "code",
   "execution_count": null,
   "metadata": {},
   "outputs": [],
   "source": []
  },
  {
   "cell_type": "code",
   "execution_count": null,
   "metadata": {},
   "outputs": [],
   "source": [
    "print('Saint Nicholas is ' + str(999) + ' years old.')"
   ]
  },
  {
   "attachments": {},
   "cell_type": "markdown",
   "metadata": {},
   "source": [
    "This works because the `str()` function will return a string variable containing the value `\"999\"`. Equivalent functions exist for casting to other data types. Below go a couple of common casting operations:"
   ]
  },
  {
   "cell_type": "code",
   "execution_count": null,
   "metadata": {},
   "outputs": [],
   "source": [
    "v = int('999') # str to int\n",
    "print(v)\n",
    "print(type(v))"
   ]
  },
  {
   "cell_type": "code",
   "execution_count": null,
   "metadata": {},
   "outputs": [],
   "source": [
    "v = float(999) # int to float\n",
    "print(v)\n",
    "print(type(v))"
   ]
  },
  {
   "attachments": {},
   "cell_type": "markdown",
   "metadata": {},
   "source": [
    "Depending on the exact goal that you have in mind, you might have to pay close attention to exact behaviour of these casting operations. The result of a casting operation can be unexpected at times:"
   ]
  },
  {
   "cell_type": "code",
   "execution_count": null,
   "metadata": {},
   "outputs": [],
   "source": [
    "int(999.4) # implicit rounding to an integer"
   ]
  },
  {
   "cell_type": "code",
   "execution_count": null,
   "metadata": {},
   "outputs": [],
   "source": [
    "int('999.4') # not everything can be converted to an integer"
   ]
  },
  {
   "cell_type": "code",
   "execution_count": null,
   "metadata": {},
   "outputs": [],
   "source": [
    "bool(0)"
   ]
  },
  {
   "cell_type": "code",
   "execution_count": null,
   "metadata": {},
   "outputs": [],
   "source": [
    "bool('0')"
   ]
  },
  {
   "attachments": {},
   "cell_type": "markdown",
   "metadata": {},
   "source": [
    "Back to string formatting. Luckily, in many instances, you won't need to manually cast your variables to strings if you only care about printing them. Using commas, you can pass as many elements to print as you wish:"
   ]
  },
  {
   "cell_type": "code",
   "execution_count": null,
   "metadata": {},
   "outputs": [],
   "source": [
    "print(salutation, name, greeting)"
   ]
  },
  {
   "attachments": {},
   "cell_type": "markdown",
   "metadata": {},
   "source": [
    "Python will automatically add a space in between the components before joining them into a single string. Adding our punctuation mark, however, is trickier now:"
   ]
  },
  {
   "cell_type": "code",
   "execution_count": null,
   "metadata": {},
   "outputs": [],
   "source": [
    "print(salutation, name + '.', greeting)"
   ]
  },
  {
   "attachments": {},
   "cell_type": "markdown",
   "metadata": {},
   "source": [
    "There exist many more options for string formatting. We display the basics of two other approaches. First with the method `.format()` that can take one or more arguments to be filled in in a string:"
   ]
  },
  {
   "cell_type": "code",
   "execution_count": null,
   "metadata": {},
   "outputs": [],
   "source": [
    "result = 9\n",
    "message = \"I found {} mushrooms.\".format(result) # just one number inserted\n",
    "print(message)"
   ]
  },
  {
   "cell_type": "code",
   "execution_count": null,
   "metadata": {},
   "outputs": [],
   "source": [
    "bad = 5\n",
    "good = 7\n",
    "print(\"I found {} poisonous and {} edible mushrooms.\".format(bad, good)) # multiple variables inserted"
   ]
  },
  {
   "attachments": {},
   "cell_type": "markdown",
   "metadata": {},
   "source": [
    "The `.format()` approach is very flexible and it allows you, amongst many other things to control how the precision with which to display numbers:"
   ]
  },
  {
   "cell_type": "code",
   "execution_count": null,
   "metadata": {},
   "outputs": [],
   "source": [
    "print(\"Proportion of poisonous is {:.2} \\nProportion of edible is {:.2}\".format(bad/(bad+good), good/(bad+good)))"
   ]
  },
  {
   "attachments": {},
   "cell_type": "markdown",
   "metadata": {},
   "source": [
    "A second, very popular approach is to use so-called f-strings (or \"formatted\" strings). You can declare these through adding an `f` before the opening quote sign of a string literal. Then, you can insert insert other variables directly inside the string using curly brackets. This is a very intuitive approach, because it is highly readable and you don't have to worry about casting:"
   ]
  },
  {
   "cell_type": "code",
   "execution_count": null,
   "metadata": {},
   "outputs": [],
   "source": [
    "name = 'Mike'\n",
    "s = f'Hi, my name is {name}.'\n",
    "print(s)\n",
    "print(f'I found {bad} poisonous and {good} edible mushrooms.')"
   ]
  },
  {
   "attachments": {},
   "cell_type": "markdown",
   "metadata": {},
   "source": [
    "## 2. Collections\n",
    "\n",
    "After reviewing the basic data types, we are ready to move on to some of the core **collection** types in Python, that allow you to work with assemblages of such primitive data types (and other things). Apart from surveying some of the core collections (lists, tuples, sets, and dictionaries), we will dwell on the topic of **indexing** these collections, i.e. the ways in which we can retrieve specific information from them."
   ]
  },
  {
   "attachments": {},
   "cell_type": "markdown",
   "metadata": {},
   "source": [
    "#### Lists\n",
    "\n",
    "**Lists** are a very common data type in Python to store *sequences* of items, i.e. they are a collection of elements that are ordered, so that each component can be uniquely indentified by its position or **index** in the list. They can be manually defined using a syntax with square brackets and commas to separate the elements:"
   ]
  },
  {
   "cell_type": "code",
   "execution_count": null,
   "metadata": {},
   "outputs": [],
   "source": [
    "l = ['a', 'b', 'c', 'd']\n",
    "print(l)"
   ]
  },
  {
   "attachments": {},
   "cell_type": "markdown",
   "metadata": {},
   "source": [
    "In the example above, the elements are all unique and they all belong to the same type (`str`). Nevertheless, it is perfectly fine in Python to define lists in which the same element occurs multiple times; the elements don't even have to be of the same type, making this data type highly flexible:"
   ]
  },
  {
   "cell_type": "code",
   "execution_count": null,
   "metadata": {},
   "outputs": [],
   "source": [
    "l = ['a', 'b', 'a', 'b']\n",
    "print(l)\n",
    "\n",
    "l = ['a', 1, False, 8.9]\n",
    "print(l)"
   ]
  },
  {
   "attachments": {},
   "cell_type": "markdown",
   "metadata": {},
   "source": [
    "Lists can often contain other lists, in which case we speak of **nested lists**:"
   ]
  },
  {
   "cell_type": "code",
   "execution_count": null,
   "metadata": {},
   "outputs": [],
   "source": [
    "l = [['a', 'b', 'c'], ['d', 'e', 'f'], ['g', 'h', 'i']]\n",
    "print(l)"
   ]
  },
  {
   "attachments": {},
   "cell_type": "markdown",
   "metadata": {},
   "source": [
    "More on that later. One can also cast a number of other data types to list using the following conversion function:"
   ]
  },
  {
   "cell_type": "code",
   "execution_count": null,
   "metadata": {},
   "outputs": [],
   "source": [
    "l = list('bootcamp')\n",
    "print(l)"
   ]
  },
  {
   "attachments": {},
   "cell_type": "markdown",
   "metadata": {},
   "source": [
    "Here, we casted a string to a list, meaning that each individual character became an entry in the resulting sequence. To retrieve the **length** of any object in Python using the `len()` function. After `print()`, this is probably one of the most often used functions in Python:"
   ]
  },
  {
   "cell_type": "code",
   "execution_count": null,
   "metadata": {},
   "outputs": [],
   "source": [
    "len(l)"
   ]
  },
  {
   "attachments": {},
   "cell_type": "markdown",
   "metadata": {},
   "source": [
    "This function returns a integer expressing how many elements the list contains. It is also often applied to strings, which share a lot of characteristics with lists:"
   ]
  },
  {
   "cell_type": "code",
   "execution_count": null,
   "metadata": {},
   "outputs": [],
   "source": [
    "s = 'bootcamp'\n",
    "len(s)"
   ]
  },
  {
   "attachments": {},
   "cell_type": "markdown",
   "metadata": {},
   "source": [
    "There exist many interesting contexts to use lists. One interesting logical operator is the keyword **`in`**: we'll come back to this but it's good to know that you can easily check whether some element is contained in a list or not (In technical terms, we say that we **test for membership**.) With the following lines we obtain a boolean expression:"
   ]
  },
  {
   "cell_type": "code",
   "execution_count": null,
   "metadata": {},
   "outputs": [],
   "source": [
    "l = ['a', 'b', 'c']\n",
    "print('d' in l)\n",
    "print('a' in l)"
   ]
  },
  {
   "attachments": {},
   "cell_type": "markdown",
   "metadata": {},
   "source": [
    "Additionally, you can apply the arithmetical operators `+` and `*` to concatenate or repeat lists. The behavior of these operators is completely analogous to what we saw with strings:"
   ]
  },
  {
   "cell_type": "code",
   "execution_count": null,
   "metadata": {},
   "outputs": [],
   "source": [
    "print(l * 3) # repeat the list n times\n",
    "print(l + ['d', 'e'])"
   ]
  },
  {
   "attachments": {},
   "cell_type": "markdown",
   "metadata": {},
   "source": [
    "Finally, there are tons of functions that you can apply directly to lists. Below, we demo the working of a number of these. Can you describe their behavior?"
   ]
  },
  {
   "cell_type": "code",
   "execution_count": null,
   "metadata": {},
   "outputs": [],
   "source": [
    "l = list('bootcamp')\n",
    "print(l.count('o'))\n",
    "print(l.count('k'))"
   ]
  },
  {
   "cell_type": "code",
   "execution_count": null,
   "metadata": {},
   "outputs": [],
   "source": [
    "l.pop()\n",
    "print(l)"
   ]
  },
  {
   "cell_type": "code",
   "execution_count": null,
   "metadata": {},
   "outputs": [],
   "source": [
    "l.append('p')\n",
    "print(l)"
   ]
  },
  {
   "cell_type": "code",
   "execution_count": null,
   "metadata": {},
   "outputs": [],
   "source": [
    "l.reverse()\n",
    "print(l)\n",
    "l.reverse()"
   ]
  },
  {
   "cell_type": "code",
   "execution_count": null,
   "metadata": {},
   "outputs": [],
   "source": [
    "l.remove('o')\n",
    "print(l)"
   ]
  },
  {
   "cell_type": "code",
   "execution_count": null,
   "metadata": {},
   "outputs": [],
   "source": [
    "l.sort()\n",
    "print(l)"
   ]
  },
  {
   "attachments": {},
   "cell_type": "markdown",
   "metadata": {},
   "source": [
    "### Indexing\n",
    "\n",
    "Retrieving specific elements from sequences like lists and strings is an important Python skill. This is called **indexing**. Remember that any item in a sequence is uniquely defined by its position or **index**. If we would like to retrieve a specific item from a list, we therefore use that index and the following index (with square brackets):"
   ]
  },
  {
   "cell_type": "code",
   "execution_count": null,
   "metadata": {},
   "outputs": [],
   "source": [
    "l = ['a', 'b', 'c', 'd', 'e']\n",
    "\n",
    "print(l[0])\n",
    "print(l[1])\n",
    "print(l[2])\n",
    "print(l[3])\n",
    "print(l[4])"
   ]
  },
  {
   "attachments": {},
   "cell_type": "markdown",
   "metadata": {},
   "source": [
    "A number of crucial observations must be made here. First of all, you'll have to get used to the somewhat weird fact that Python is a **zero-indexed** language, which means that it always starts counting from zero. With indexing too, the index of the very first element in a list is zero because of that. All the other indices will always, intuitively speaking, seem to be \"off\" by one, i.e. if you want to access the fifth character, you'll need index four. Also convince yourself of the following fact: the index of the final element, consequently, will always be its length minus one:"
   ]
  },
  {
   "cell_type": "code",
   "execution_count": null,
   "metadata": {},
   "outputs": [],
   "source": [
    "l[len(l) - 1]"
   ]
  },
  {
   "attachments": {},
   "cell_type": "markdown",
   "metadata": {},
   "source": [
    "Luckily, Python also has a mechanism to index sequences \"from the rear\", using negative indices:"
   ]
  },
  {
   "cell_type": "code",
   "execution_count": null,
   "metadata": {},
   "outputs": [],
   "source": [
    "print(l[-1])\n",
    "print(l[-2])\n",
    "print(l[-3])\n",
    "print(l[-4])\n",
    "print(l[-5])"
   ]
  },
  {
   "attachments": {},
   "cell_type": "markdown",
   "metadata": {},
   "source": [
    "Unfortunately, because -0 doesn't exist, here we *do* start counting from -1. Because of that, you should convince yourself of the fact that you can retrieve the first element from a sequence by negating its length and using that as an index:"
   ]
  },
  {
   "cell_type": "code",
   "execution_count": null,
   "metadata": {},
   "outputs": [],
   "source": [
    "l[-len(l)]"
   ]
  },
  {
   "attachments": {},
   "cell_type": "markdown",
   "metadata": {},
   "source": [
    "Because strings and lists are both seen as subtype of the sequence type in Python, the indexing for both collection is pretty much the same:"
   ]
  },
  {
   "cell_type": "code",
   "execution_count": null,
   "metadata": {},
   "outputs": [],
   "source": [
    "l = 'bootcamp'\n",
    "print(l[0])\n",
    "print(l[1])\n",
    "print(l[2])\n",
    "print('...')\n",
    "print(l[-3])\n",
    "print(l[-2])\n",
    "print(l[-1])"
   ]
  },
  {
   "attachments": {},
   "cell_type": "markdown",
   "metadata": {},
   "source": [
    "Using a single index will yield a single element. If you would like to get a subsequence or **slice** from your sequence, however, that is also possible. For that, we use the following syntax:"
   ]
  },
  {
   "cell_type": "code",
   "execution_count": null,
   "metadata": {},
   "outputs": [],
   "source": [
    "print(l[0:3])\n",
    "print(l[3:6])\n",
    "print(l[5:6])"
   ]
  },
  {
   "attachments": {},
   "cell_type": "markdown",
   "metadata": {},
   "source": [
    "With the colon (`:`), we can first specify a start index and, next, an end index. The confusing part is that the indexing mechanism in Python is **upper bound exclusive**: it will take everything up to, but *excluding* the end index. This too is something you will have to get used to.\n",
    "\n",
    "A very nice feature of Python is that it allows to leave out the start or end index. In these cases, the rest of the sequence will be returned all the way up the beginning or end of the sequence:"
   ]
  },
  {
   "cell_type": "code",
   "execution_count": null,
   "metadata": {},
   "outputs": [],
   "source": [
    "print(l[4:])\n",
    "print(l[:4])"
   ]
  },
  {
   "attachments": {},
   "cell_type": "markdown",
   "metadata": {},
   "source": [
    "This will also work for negative indices; to get the final two characters of a string:"
   ]
  },
  {
   "cell_type": "code",
   "execution_count": null,
   "metadata": {},
   "outputs": [],
   "source": [
    "l[-2:]"
   ]
  },
  {
   "attachments": {},
   "cell_type": "markdown",
   "metadata": {},
   "source": [
    "**Test your understanding**: Consider the sequence `s = [1, 2, 3, 4, 5]`:\n",
    "- Will the expression `s[:i] + s[i:]` be equal to the original sequence?\n",
    "- What will be the length of the slice `s[2:4]`?"
   ]
  },
  {
   "attachments": {},
   "cell_type": "markdown",
   "metadata": {},
   "source": [
    "Apart from the start and end index it is possible to specify a third number when slicing, the so-called **step size**. With this parameters, you can specify how many characters to drop in between:"
   ]
  },
  {
   "cell_type": "code",
   "execution_count": null,
   "metadata": {},
   "outputs": [],
   "source": [
    "print(l[::1]) # nothing happens\n",
    "print(l[::2]) # only characters at uneven position"
   ]
  },
  {
   "attachments": {},
   "cell_type": "markdown",
   "metadata": {},
   "source": [
    "The following (admittedly: somewhat complex) feature is rarely used, but it does have one very nice application. Can you explain what the following operation does?"
   ]
  },
  {
   "cell_type": "code",
   "execution_count": null,
   "metadata": {},
   "outputs": [],
   "source": [
    "l[::-1]"
   ]
  },
  {
   "attachments": {},
   "cell_type": "markdown",
   "metadata": {},
   "source": [
    "There are of course other ways to achieve this (you already know one alternative!) but this notation is surprisingly concise and practical.\n",
    "\n",
    "Knowing about the start index, end index and step size is also useful for initializing so-called **ranges** of numbers. Below go a couple of examples that show how you can use the function `range()` to generate arbitrary sequences of integers:"
   ]
  },
  {
   "cell_type": "code",
   "execution_count": null,
   "metadata": {},
   "outputs": [],
   "source": [
    "list(range(10))"
   ]
  },
  {
   "cell_type": "code",
   "execution_count": null,
   "metadata": {},
   "outputs": [],
   "source": [
    "list(range(5,10))"
   ]
  },
  {
   "cell_type": "code",
   "execution_count": null,
   "metadata": {},
   "outputs": [],
   "source": [
    "list(range(5,10,2))"
   ]
  },
  {
   "attachments": {},
   "cell_type": "markdown",
   "metadata": {},
   "source": [
    "Can you generate the following sequence? `[2, 4, 6, 8, 10, 12]`"
   ]
  },
  {
   "cell_type": "code",
   "execution_count": null,
   "metadata": {},
   "outputs": [],
   "source": [
    "# code here"
   ]
  },
  {
   "attachments": {},
   "cell_type": "markdown",
   "metadata": {},
   "source": [
    "### A word on mutability"
   ]
  },
  {
   "attachments": {},
   "cell_type": "markdown",
   "metadata": {},
   "source": [
    "An important concept when talking about collections is **mutability** or the freedom that you have in changing the values in individual positions in sequences. Generally speaking, Python is very relaxed in redefining entire variables. You can perfectly overwrite the value of a previously defined variable and you can even freely change its type -- no problem there:"
   ]
  },
  {
   "cell_type": "code",
   "execution_count": null,
   "metadata": {},
   "outputs": [],
   "source": [
    "n = 'abra'\n",
    "n = 'cadabra'\n",
    "n = 3"
   ]
  },
  {
   "attachments": {},
   "cell_type": "markdown",
   "metadata": {},
   "source": [
    "Redefining an *entire* string variable is not a problem. The following, however, does not work with strings :"
   ]
  },
  {
   "cell_type": "code",
   "execution_count": null,
   "metadata": {},
   "outputs": [],
   "source": [
    "l = 'abracadabra'\n",
    "l[0] = 'e'\n",
    "print(l)"
   ]
  },
  {
   "attachments": {},
   "cell_type": "markdown",
   "metadata": {},
   "source": [
    "We are trying to redefine the value of an element in a specific position in the list, but Python refuses to do that. The surprising thing is that this does work for lists:"
   ]
  },
  {
   "cell_type": "code",
   "execution_count": null,
   "metadata": {},
   "outputs": [],
   "source": [
    "l = list('abracadabra')\n",
    "l[0] = 'e'\n",
    "print(str(l))"
   ]
  },
  {
   "attachments": {},
   "cell_type": "markdown",
   "metadata": {},
   "source": [
    "This difference relates to mutability: lists are said to be **mutable** in Python, whereas strings are not. For the sake of completeness, we should also mention the existence of **tuples**. Tuple look a lot like lists in Python and they support the same kind of indexing as the other sequences which we already covered. You can define them using round brackets:"
   ]
  },
  {
   "cell_type": "code",
   "execution_count": null,
   "metadata": {},
   "outputs": [],
   "source": [
    "l = tuple('abracadabra')\n",
    "print(type(l))\n",
    "print(l)"
   ]
  },
  {
   "attachments": {},
   "cell_type": "markdown",
   "metadata": {},
   "source": [
    "The main difference between lists and tuples is that tuples are immutable. Programmers will resort to tuples because they come with lower memory and computation requirements, which can be interesting for e.g. very large collections. In your career, it might take a while before you ever need tuples in practice, but it's good to know about them already."
   ]
  },
  {
   "attachments": {},
   "cell_type": "markdown",
   "metadata": {},
   "source": [
    "### Sets"
   ]
  },
  {
   "attachments": {},
   "cell_type": "markdown",
   "metadata": {},
   "source": [
    "One collection type which you'll come across sooner are **sets**. In a way, you can think of sets as the opposite of lists: lists are sequences that give you the guarantee that they store will everything in a fixed order, but they don't give you any guarantees as to the unicity of the items, i.e. a particular value can occur multiple times across the sequence. A set does the opposite: a set won't care about the order of the items in a collection, but it will guarantee that all of the items in it are unique. Sets can be constructed with curly brackets:"
   ]
  },
  {
   "cell_type": "code",
   "execution_count": null,
   "metadata": {},
   "outputs": [],
   "source": [
    "s = {'a', 'a', 'b', 'c', 'b'}\n",
    "print(s)"
   ]
  },
  {
   "attachments": {},
   "cell_type": "markdown",
   "metadata": {},
   "source": [
    "You'll notice that, upon the construction of the set, repeated elements are automatically deduplicated. The order in which the unique elements which should be considered random. Often, you'll see how sets are created through casting another collection:"
   ]
  },
  {
   "cell_type": "code",
   "execution_count": null,
   "metadata": {},
   "outputs": [],
   "source": [
    "l = 'bootcamp'\n",
    "s = set(l)\n",
    "print(s)"
   ]
  },
  {
   "attachments": {},
   "cell_type": "markdown",
   "metadata": {},
   "source": [
    "Sets have very useful applications. To count the number of unique characters in a string, for instance, you can type:"
   ]
  },
  {
   "cell_type": "code",
   "execution_count": null,
   "metadata": {},
   "outputs": [],
   "source": [
    "len(set(l))"
   ]
  },
  {
   "attachments": {},
   "cell_type": "markdown",
   "metadata": {},
   "source": [
    "Because sets don't care about order, you can't alphabetize the directly. What you can get, however, is a list of the items in a set:"
   ]
  },
  {
   "cell_type": "code",
   "execution_count": null,
   "metadata": {},
   "outputs": [],
   "source": [
    "sorted(s)"
   ]
  },
  {
   "attachments": {},
   "cell_type": "markdown",
   "metadata": {},
   "source": [
    "### Dictionaries\n",
    "\n",
    "The final collection type we'll cover in this session is the **dictionary**, which is crucial way to store information in Python. In a sequence, each value contained in it is uniquely identified by its position. In a dictionary, each value contained in it is uniquely identified through a **key**. It is through these keys that we index the vocabulary and retrieve or set specific values. An example will elucidate this. We define a new dictionary to store information about a medieval manuscript:"
   ]
  },
  {
   "cell_type": "code",
   "execution_count": null,
   "metadata": {},
   "outputs": [],
   "source": [
    "d = {'material': 'parchment',\n",
    "     'damaged': True,\n",
    "     'leaves': 193,\n",
    "     'on display': True,\n",
    "     'weight': 0.82}"
   ]
  },
  {
   "attachments": {},
   "cell_type": "markdown",
   "metadata": {},
   "source": [
    "Mind the complex syntax, with curly brackets (like with sets). We store a number of **key-value pairs** that encode certain qualities of the book. For each **key** a certain **value** is stored in he dictionary that we can retrieve (or \"index\") as follows with square brackets:"
   ]
  },
  {
   "cell_type": "code",
   "execution_count": null,
   "metadata": {},
   "outputs": [],
   "source": [
    "print(d['material'])\n",
    "print(d['weight'])"
   ]
  },
  {
   "attachments": {},
   "cell_type": "markdown",
   "metadata": {},
   "source": [
    "With the exact same syntax, we can also redefine the values associates with a particular key:"
   ]
  },
  {
   "cell_type": "code",
   "execution_count": null,
   "metadata": {},
   "outputs": [],
   "source": [
    "d['material'] = 'paper'\n",
    "d['leaves'] = '18'\n",
    "print(d)"
   ]
  },
  {
   "attachments": {},
   "cell_type": "markdown",
   "metadata": {},
   "source": [
    "To retrieve all the keys or values, you can use:"
   ]
  },
  {
   "cell_type": "code",
   "execution_count": null,
   "metadata": {},
   "outputs": [],
   "source": [
    "print(d.keys())\n",
    "print(d.values())"
   ]
  },
  {
   "attachments": {},
   "cell_type": "markdown",
   "metadata": {},
   "source": [
    "Essentially, a dictionary stores a **mapping** from each key to each value. Importantly, the keys in a dictionary must be unique, whereas the same value (e.g. `True`in our example) can occur multiple times. You can also test for membership in a dictionary using the keyword **`in`**, but be aware that your testing for the presence of an item in the keys of the dictionary and not its values:"
   ]
  },
  {
   "cell_type": "code",
   "execution_count": null,
   "metadata": {},
   "outputs": [],
   "source": [
    "print(d)\n",
    "print('leaves' in d)\n",
    "print('paper' in d)\n",
    "print('paper' in d.values())\n",
    "print('leaves' in d.values())"
   ]
  },
  {
   "attachments": {},
   "cell_type": "markdown",
   "metadata": {},
   "source": [
    "Finally, constructing an empty dictionary can be done using `dict()`, which can also be used for casting."
   ]
  }
 ],
 "metadata": {
  "kernelspec": {
   "display_name": "Python 3.9.13 ('base')",
   "language": "python",
   "name": "python3"
  },
  "language_info": {
   "codemirror_mode": {
    "name": "ipython",
    "version": 3
   },
   "file_extension": ".py",
   "mimetype": "text/x-python",
   "name": "python",
   "nbconvert_exporter": "python",
   "pygments_lexer": "ipython3",
   "version": "3.9.13"
  },
  "vscode": {
   "interpreter": {
    "hash": "96e0a4d32f1918f770291244863a4a1e044b05d1a3b8d455e2e179187e01062a"
   }
  }
 },
 "nbformat": 4,
 "nbformat_minor": 4
}
