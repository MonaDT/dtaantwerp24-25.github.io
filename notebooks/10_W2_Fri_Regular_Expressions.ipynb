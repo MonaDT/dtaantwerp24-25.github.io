{
 "cells": [
  {
   "cell_type": "markdown",
   "metadata": {},
   "source": [
    "<div style=\"background-color:lightgrey;\n",
    "            padding:10px;\n",
    "            color:black;\n",
    "            border:black dashed 2px; \n",
    "            border-radius:5px;\n",
    "            margin: 20px 0;\">\n",
    "            \n",
    "            \n",
    "# Regular Expressions (RegEx)\n",
    "\n",
    "\n",
    "\n",
    "**Staff:** Lisa Hilte  <br/>\n",
    "**Support Material:**<br/>\n",
    "- [Tool for constructing and debugging regular expressions](https://regex101.com/)\n",
    "- [Tutorial on RegEx](https://docs.python.org/3.8/howto/regex.html)\n",
    "- [Python RegEx cheat sheet](https://www.dataquest.io/blog/regex-cheatsheet/)\n",
    "- [Exercises](https://github.com/dtaantwerp/dtaantwerp.github.io/blob/12b652d6955e285f35484c4220b4bb92b7fd9644/exercises/09_regular_expressions.ipynb)\n",
    "\n",
    "**Support Sessions:**  Tuesday, October 11, 10:30AM\n",
    "\n",
    "</div>\n"
   ]
  },
  {
   "cell_type": "markdown",
   "metadata": {},
   "source": [
    "## 1. What are Regular Expressions?\n",
    "\n",
    "### Very general definition:\n",
    "\n",
    "Regular Expressions are used to formalize patterns in character sequences. Any given character sequence (=any string) can be tested against a regular expression. If the pattern occurs in the string we call this a match. In other words: Regular expressions are used for pattern matching.\n",
    "\n",
    "One of the most common use cases is the validation of input strings on web forms, e.g. to test if users entered a properly formatted e-mail address or birth date.\n",
    "\n",
    "### A more scientific definition:\n",
    "\"Pattern matching consists of finding a section of text that is\n",
    "described (matched) by a regular expression.\n",
    "\n",
    "A regular expression is a string containing a combination of normal characters and special metacharacters or metasequences. The normal characters match themselves.\n",
    "Metacharacters and metasequences are characters or sequences of characters that represent ideas such as quantity, locations, or types of characters.\"\n",
    "(Stubblebine, Tony. *Regular Expression Pocket Reference*. O'Reilly 2007 )\n",
    "\n",
    "## 2. First examples: have we already seen 'pattern matching' in this course?\n",
    "\n",
    "We have previously seen operations that allowed us to check if a string is contained in another string\n",
    "\n",
    "### The comparison operator 'in'\n",
    "The operator 'in' searches the string on its left side within the string on the right side. If the left side string is included in the right side, the comparison returns *TRUE*, else *FALSE*\n"
   ]
  },
  {
   "cell_type": "code",
   "execution_count": null,
   "metadata": {},
   "outputs": [],
   "source": []
  },
  {
   "cell_type": "code",
   "execution_count": null,
   "metadata": {},
   "outputs": [],
   "source": []
  },
  {
   "cell_type": "code",
   "execution_count": null,
   "metadata": {},
   "outputs": [],
   "source": []
  },
  {
   "cell_type": "markdown",
   "metadata": {},
   "source": [
    "### The String-Method string.find(pattern)\n",
    "Searches for a pattern in a given string. If the pattern is found, it returns the index the first character (start position) of its first occurence. Otherwise it returns -1.\n"
   ]
  },
  {
   "cell_type": "code",
   "execution_count": 12,
   "metadata": {},
   "outputs": [
    {
     "data": {
      "text/plain": [
       "1"
      ]
     },
     "execution_count": 12,
     "metadata": {},
     "output_type": "execute_result"
    }
   ],
   "source": [
    "'table'.find('a')"
   ]
  },
  {
   "cell_type": "code",
   "execution_count": null,
   "metadata": {},
   "outputs": [],
   "source": []
  },
  {
   "cell_type": "code",
   "execution_count": null,
   "metadata": {},
   "outputs": [],
   "source": []
  },
  {
   "cell_type": "code",
   "execution_count": null,
   "metadata": {},
   "outputs": [],
   "source": []
  },
  {
   "cell_type": "code",
   "execution_count": null,
   "metadata": {},
   "outputs": [],
   "source": []
  },
  {
   "cell_type": "markdown",
   "metadata": {},
   "source": [
    "### Writing our own functions for pattern matching?\n",
    "We can write our own functions to find patterns in text strings. However, this is relatively laboursome. To illustrate this, look at the following example:"
   ]
  },
  {
   "cell_type": "code",
   "execution_count": null,
   "metadata": {},
   "outputs": [],
   "source": [
    "\n",
    "\n",
    "\n",
    "\n",
    "\n",
    "\n",
    "\n"
   ]
  },
  {
   "cell_type": "code",
   "execution_count": null,
   "metadata": {},
   "outputs": [],
   "source": []
  },
  {
   "cell_type": "markdown",
   "metadata": {},
   "source": [
    "## 3. The Python module \"re\"\n",
    "\n",
    "### 3.1 Importing the ``re`` module\n",
    "Regular expressions are implemented in most programming languages. The module *re* contains the functionality for Python's implementation of regular expressions. To use regular expressions for pattern matching in our code, we must first ``import re``.\n",
    "\n",
    "The following code is a first example that shows how ``re`` is imported and how the module function ``re.findall(pattern**, string)`` is used."
   ]
  },
  {
   "cell_type": "code",
   "execution_count": null,
   "metadata": {},
   "outputs": [],
   "source": [
    "\n",
    "\n"
   ]
  },
  {
   "cell_type": "markdown",
   "metadata": {},
   "source": [
    "Notes: \n",
    "- the module function ``re.findall()`` returns a list of all hits, but not their indexes within the string. \n",
    "- pattern\\*\\*: for now we will use static strings as pattern, i.e. we search for 'a' in 'zanzibar'. We will learn to search for abstract patterns (e.g. \"a two-digit number followed by a point\") later.\n",
    "\n",
    "### 3.2 Working with so-called match objects\n",
    "\n",
    "The list returned by ``re.findall()`` is not very powerful, as it tells us nothing about \"where these matches occured in the string\". For more powerful results, the re module provides functions that return so called 'match objects'. We will talk more about objects in week 3. For this session, we will try to understand 'match objects' simply by using them in examples.\n",
    "\n",
    "A first example to look at match objects is the module function ``re.match(pattern,string)``"
   ]
  },
  {
   "cell_type": "code",
   "execution_count": null,
   "metadata": {},
   "outputs": [],
   "source": [
    "\n",
    "\n",
    "\n"
   ]
  },
  {
   "cell_type": "markdown",
   "metadata": {},
   "source": [
    "Match objects have numerous object properties, containing all the important information about the match(es). The example above gives a first impression and helps us to understand how the results can be accessed in our code. \n",
    "\n",
    "Note: In the example above there is a match. Therefore, properties like ``pos``, ``endpos``,``start``, ``end``, ``span`` and ``group`` are available. If there is no match, there is also no match object:"
   ]
  },
  {
   "cell_type": "code",
   "execution_count": null,
   "metadata": {},
   "outputs": [],
   "source": [
    "\n",
    "\n"
   ]
  },
  {
   "cell_type": "markdown",
   "metadata": {},
   "source": [
    "### 3.3 Module functions of the ``re`` module\n",
    "\n",
    "The most important functions for this short introduction are:\n",
    "\n",
    "#### re.findall(*pattern, string*)\n",
    "- returns a list of matches (no match object, only the strings)\n",
    "- returns empty list when there is no match"
   ]
  },
  {
   "cell_type": "code",
   "execution_count": null,
   "metadata": {},
   "outputs": [],
   "source": [
    "text = \"am I a happy cat?\"\n",
    "pattern = \"a\"\n",
    "re.findall(pattern,text)"
   ]
  },
  {
   "cell_type": "markdown",
   "metadata": {},
   "source": [
    "#### re.match(*pattern, string [,flags]*)\n",
    "- looks for a match from the start position of the string\n",
    "- if a match is found: returns a match object (see above), \n",
    "- else: returns *None*"
   ]
  },
  {
   "cell_type": "code",
   "execution_count": null,
   "metadata": {},
   "outputs": [],
   "source": [
    "\n",
    "\n"
   ]
  },
  {
   "cell_type": "markdown",
   "metadata": {},
   "source": [
    "#### re.search(*pattern, string [,flags]*)\n",
    "- searches the entire string (not like ``re.match()``, which searches only at the start)\n",
    "- stops with first/left-most match (finds only one match)\n",
    "- if a match is found: returns a match object (see above), \n",
    "- else: returns *None*"
   ]
  },
  {
   "cell_type": "code",
   "execution_count": null,
   "metadata": {},
   "outputs": [],
   "source": [
    "\n",
    "\n"
   ]
  },
  {
   "cell_type": "markdown",
   "metadata": {},
   "source": [
    "#### re.finditer(*pattern, string*)\n",
    "- used to find multiple matches\n",
    "- loop through (=iterate over) multiple matches, e.g. with for-loop\n",
    "- each match has a match object"
   ]
  },
  {
   "cell_type": "code",
   "execution_count": 1,
   "metadata": {},
   "outputs": [],
   "source": [
    "text = \"am I a happy cat?\"\n",
    "#...\n",
    "\n"
   ]
  },
  {
   "cell_type": "markdown",
   "metadata": {},
   "source": [
    "Notes:\n",
    "- *\\[,flags\\]* are optional parameters. More on those later.\n",
    "- The regular expression module ``re`` has many more module functions, but they can not be covered in this short lecture\n",
    "\n",
    "{Note to myself: important concepts to explain later: leftmost match wins, matching is greedy --> XML example!}"
   ]
  },
  {
   "cell_type": "markdown",
   "metadata": {},
   "source": [
    "### 3.4 Patterns\n",
    "\n",
    "In all examples above, we either search for single characters or static character sequences. However, regular expressions become truly powerful only once we formalize more variable patterns. The following section will introduce the basic concepts of pattern design.\n",
    "\n",
    "**HOW TO SEARCH FOR...**\n",
    "\n",
    "#### ...single characters ('a', 'f', ...)\n",
    "```\n",
    "pattern = \"h\"\n",
    "text = \"I am a happy cat.\"\n",
    "result = re.search(pattern,text)\n",
    "result.span()\n",
    "```\n",
    "\n",
    "#### ...strings / concatenated characters ('ab', 'bar', ...)\n",
    "```\n",
    "pattern = \"happy\"\n",
    "text = \"I am a happy cat.\"\n",
    "result = re.search(pattern,text)\n",
    "result.span()\n",
    "```\n",
    "\n",
    "\n",
    "#### ...either-or disjunctions / a or b: 'a|b'\n"
   ]
  },
  {
   "cell_type": "code",
   "execution_count": 2,
   "metadata": {},
   "outputs": [],
   "source": [
    "pattern = \"a|b\"\n",
    "# ask user to input a character:\n",
    "\n",
    "# check if input string is a or b (see pattern)\n",
    "\n",
    "# if result: print something, else, print something else:\n"
   ]
  },
  {
   "cell_type": "markdown",
   "metadata": {},
   "source": [
    "#### ... either-or with concatenations:  '(ab)|c'"
   ]
  },
  {
   "cell_type": "code",
   "execution_count": 3,
   "metadata": {},
   "outputs": [],
   "source": [
    "pattern = \"(ab)|c\"   # this is the same as \"ab|c\"\n",
    "\n",
    "\n",
    "#ask user to input a character:\n",
    "\n",
    "#check if input string is a or b (see pattern)\n"
   ]
  },
  {
   "cell_type": "markdown",
   "metadata": {},
   "source": [
    "Note: We matched with ``re.match()`` here. This means, we check if 'ab' or 'c' occur at the beginning of the user input string. However, the user can enter much longer strings, and it will still create a match, if only they start either with 'ab' or 'c'"
   ]
  },
  {
   "cell_type": "markdown",
   "metadata": {},
   "source": [
    "#### ... any of a *character set*"
   ]
  },
  {
   "cell_type": "code",
   "execution_count": 5,
   "metadata": {},
   "outputs": [],
   "source": [
    "pattern = \"[abc]d\" # any of a,b or c, followed by d\n",
    "\n",
    "#...\n"
   ]
  },
  {
   "cell_type": "markdown",
   "metadata": {},
   "source": [
    "- More *character sets*:\n",
    "    - ``[abc]``: a b or c (any character listed or contained within a listed range in square brakets)\n",
    "    - ``[^abc]``: not a, b or c (any character **not** listed)\n",
    "    - ``[a-z]``: a character in the range a-z \n",
    "    - ``[a-zA-Z]``: a character in the range a-z or A-Z\n",
    "    - ``[^a-zA-Z]``: a character NOT in the range a-z or A-Z\n",
    "    - ``[0-9]``: a number in the range 0 to 9\n",
    "   \n",
    "#### ... special sequences for characters and character groups:\n",
    "- ``\\b``: backspace\n",
    "- ``\\n``: newline\n",
    "- ``\\t``: horizontal tab\n",
    "- ``\\v``: vertical tab\n",
    "- ``\\xhh``: general character escape by two-digit hexadecimal code. Replace the hh with the hexcode of the character in the following list:https://www.rapidtables.com/code/text/ascii-table.html. E.g. backslash \\ is escaped as ``\\x5C`` or ``\\\\``.\n",
    "- ``.``:  any character except new-line character\n",
    "- ``\\d``: any digit (equals ``[0-9]``)\n",
    "- ``\\D``: any Nondigit (any character but digits)\n",
    "- ``\\s``: all whitespace characters, including tabs etc. Short for: ``[\\t\\n\\r\\f\\v]``\n",
    "- ``\\S``: all Non-whitespace characters\n",
    "- ``\\w``: all word characters, Short for: ``[a-zA-Z0-9_]``\n",
    "- ``\\W``: all non-word characters\n",
    "- ``\\b``: all non-word characters\n",
    "- ``\\B``: all non-word characters\n",
    "\n",
    "#### ... quantifiers (repeat x-times)\n",
    "- ``a?``: zero or one 'a'\n",
    "- ``a+``: one or more 'a'\n",
    "- ``a*``: zero or more 'a'\n",
    "- ``a{5}``: exactly 5 of 'a'\n",
    "\n",
    "Some examples for quantifiers:\n"
   ]
  },
  {
   "cell_type": "code",
   "execution_count": 8,
   "metadata": {},
   "outputs": [],
   "source": [
    "# Ask user to enter a word with a double vowel ('aa' or 'ee' or 'ii' or 'oo' or 'uu':\n",
    "\n",
    "\n",
    "# check if word contains double vowel with re.search()\n",
    "\n",
    "\n",
    "# print: if double vowel is found, tell user which double vowel (use the match object)! \n"
   ]
  },
  {
   "cell_type": "code",
   "execution_count": 9,
   "metadata": {},
   "outputs": [],
   "source": [
    "# add more examples spontaneously with students?\n",
    "\n"
   ]
  },
  {
   "cell_type": "markdown",
   "metadata": {},
   "source": [
    "#### ... beginning and end of a string or a line\n",
    "\n",
    "\n",
    "- ``^``: start of string or line\n",
    "- ``\\$``: end of string or line\n",
    "   "
   ]
  },
  {
   "cell_type": "code",
   "execution_count": 7,
   "metadata": {},
   "outputs": [],
   "source": [
    "# Pattern: a word that starts with c, followed by zero or more word characters, and ends with t\n",
    "\n",
    "\n",
    "# ask user to enter a word\n",
    "\n",
    "# print:\n"
   ]
  },
  {
   "cell_type": "markdown",
   "metadata": {},
   "source": [
    "### 3.5 Look Ahead (simple case): ?=*expression*\n",
    "The following example illustrates, that we sometimes need to *look ahead*. This is, for example, the case, when we want to match characters only until a certain character occurs - but without including that character into the match.\n",
    "\n",
    "Let's start the example by searching all words in a tongue twister that start with B and end with r. Look at the word ```butter's``` in line 3 of the code and ```blisters``` in line 7. They do not end on an r, but they occure in the matches!"
   ]
  },
  {
   "cell_type": "code",
   "execution_count": 10,
   "metadata": {},
   "outputs": [],
   "source": [
    "ttwister = '''\n",
    "Betty Botter bought some butter\n",
    "But she said the butter's bitter\n",
    "If I put it in my batter, it will make my batter bitter\n",
    "But a bit of better butter will make my batter better\n",
    "So 'twas better Betty Botter bought a bit of better butter\n",
    "blisters\n",
    "'''\n",
    "\n",
    "#we are looking 4 all words that start with b or B and end with an r.\n",
    "\n",
    "\n"
   ]
  },
  {
   "cell_type": "markdown",
   "metadata": {},
   "source": [
    "It helps here, to add ```\\W``` (followed by a non-word character) . However, now the non-word character is included in the matches, which is not what we wanted."
   ]
  },
  {
   "cell_type": "code",
   "execution_count": 11,
   "metadata": {
    "scrolled": true
   },
   "outputs": [],
   "source": [
    "#we are looking 4 all words that start with b or B and end with an r.\n",
    "\n",
    "\n"
   ]
  },
  {
   "cell_type": "markdown",
   "metadata": {},
   "source": [
    "To match the string only *until* the non-word character (```\\W```) occurs we can use a so-called look ahead:\n",
    "\n",
    "```(?=\\W)```: the character following the match must be a non-word"
   ]
  },
  {
   "cell_type": "code",
   "execution_count": 13,
   "metadata": {},
   "outputs": [],
   "source": [
    "#we are looking 4 all words that start with b or B and end with an r.\n",
    "\n",
    "\n"
   ]
  },
  {
   "cell_type": "markdown",
   "metadata": {},
   "source": [
    "(for advanced RegEx examples with complex look aheads, see also this [link](http://www.rexegg.com/regex-disambiguation.html#lookaround))"
   ]
  },
  {
   "cell_type": "markdown",
   "metadata": {},
   "source": [
    "### 3.6 Some fun with more examples"
   ]
  },
  {
   "cell_type": "code",
   "execution_count": 14,
   "metadata": {},
   "outputs": [],
   "source": [
    "# find a URL in a text\n",
    "mytext = '''This is a text with a URL hidden somewhere in between. \n",
    "        Let's see if we can find the URL http://www.google.com in this\n",
    "        multiline string with a regular expression. Maybe, instead of\n",
    "        this first URL, we can also find https://www.amazon.com, but this\n",
    "        is of course uncertain'''\n",
    "\n",
    "#...\n",
    "\n",
    "\n"
   ]
  },
  {
   "cell_type": "code",
   "execution_count": 15,
   "metadata": {},
   "outputs": [],
   "source": [
    "# find all XML-tags in this string:\n",
    "myXML = '''<html>\n",
    "                <head>\n",
    "                    <title>My first website</title>\n",
    "                </head>\n",
    "                <body>\n",
    "                    <p>Welcome to my first website</p>\n",
    "                </body>\n",
    "           </html>\n",
    "           '''\n",
    "# pattern for opening tags:\n",
    "\n",
    "\n",
    "\n",
    "#pattern for closing tags:\n",
    "\n",
    "\n"
   ]
  },
  {
   "cell_type": "code",
   "execution_count": null,
   "metadata": {},
   "outputs": [],
   "source": [
    "# if there is time: add some more examples spontaneously "
   ]
  },
  {
   "cell_type": "markdown",
   "metadata": {},
   "source": [
    "### 3.7 Gaining more efficiency in pattern matching: re.compile(*pattern*): \n",
    "\n",
    "The function ```re.compile(*pattern*)``` *compiles* the pattern before it is used for pattern matching. This means that the pattern is already translated into CPU instructions (image it like zeros and ones that the CPU can work with). When a pre-compiled pattern is used in the code, e.g. in a for or while loop, the Python interpreter does not need to compile it in every iteration of the loop and therefore saves time. In other words: matching against a compiled pattern takes the CPU less time and increases the runtime significantly. \n",
    "\n",
    "**Test Case:** In the following cells we monitor the runtime of the cell with ```%%time```. \n",
    "\n",
    "- At first, we match the *un-compiled* pattern 1 million times against a string (this is done in a while loop). \n",
    "- In a second approach, we compile the pattern first. Then again, we match the pattern 1 million times against the same string. \n",
    "\n",
    "**Expected result:** The runtime of the second example is signifantly shorter."
   ]
  },
  {
   "cell_type": "code",
   "execution_count": 16,
   "metadata": {},
   "outputs": [],
   "source": [
    "# Compile a regular expression: find all numbers (any length) in a string\n",
    "\n"
   ]
  },
  {
   "cell_type": "code",
   "execution_count": 17,
   "metadata": {},
   "outputs": [
    {
     "name": "stdout",
     "output_type": "stream",
     "text": [
      "Wall time: 0 ns\n"
     ]
    }
   ],
   "source": [
    "%%time \n",
    "# ...\n"
   ]
  },
  {
   "cell_type": "code",
   "execution_count": 69,
   "metadata": {},
   "outputs": [
    {
     "name": "stdout",
     "output_type": "stream",
     "text": [
      "Wall time: 906 ms\n"
     ]
    }
   ],
   "source": [
    "%%time\n",
    "# ...\n"
   ]
  }
 ],
 "metadata": {
  "kernelspec": {
   "display_name": "Python 3",
   "language": "python",
   "name": "python3"
  },
  "language_info": {
   "codemirror_mode": {
    "name": "ipython",
    "version": 3
   },
   "file_extension": ".py",
   "mimetype": "text/x-python",
   "name": "python",
   "nbconvert_exporter": "python",
   "pygments_lexer": "ipython3",
   "version": "3.7.4"
  }
 },
 "nbformat": 4,
 "nbformat_minor": 4
}
