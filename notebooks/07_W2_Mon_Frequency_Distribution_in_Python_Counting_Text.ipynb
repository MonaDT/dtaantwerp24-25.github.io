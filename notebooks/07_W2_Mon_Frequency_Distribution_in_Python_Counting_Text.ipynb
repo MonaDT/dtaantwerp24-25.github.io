{
 "cells": [
  {
   "attachments": {},
   "cell_type": "markdown",
   "metadata": {},
   "source": [
    "<div style=\"background-color:lightgrey;\n",
    "            padding:10px;\n",
    "            color:black;\n",
    "            border:black dashed 2px; \n",
    "            border-radius:5px;\n",
    "            margin: 20px 0;\">\n",
    "            \n",
    "            \n",
    "# Frequency distributions in Python\n",
    "\n",
    "\n",
    "\n",
    "**Staff:** Walter Daelemans <br/>\n",
    "**Support Material:** [exercises](https://github.com/dtaantwerp/dtaantwerp.github.io/blob/DTA_Bootcamp_2021_students/exercises/Questions_2023/06_EX_freq_distributions.ipynb) <br/>\n",
    "**Support Sessions:**  Tuesday, October 3, 10.30AM\n",
    "\n",
    "</div>"
   ]
  },
  {
   "attachments": {},
   "cell_type": "markdown",
   "metadata": {},
   "source": [
    "## An evergreen"
   ]
  },
  {
   "attachments": {},
   "cell_type": "markdown",
   "metadata": {},
   "source": [
    "Let's start this class with a recurrent exercise in every Python 101 course: constructing a character-level frequency distribution of a string, using a `dict`. Let's start from the first lines of Virgil's *Aeneid*:"
   ]
  },
  {
   "cell_type": "code",
   "execution_count": null,
   "metadata": {
    "tags": []
   },
   "outputs": [],
   "source": [
    "aeneid = \"\"\"Arma virumque cano, Troiae qui primus ab oris\n",
    "Italiam fato profugus Lavinaque venit\n",
    "litora—multum ille et terris iactatus et alto\n",
    "vi superum, saevae memorem Iunonis ob iram,\n",
    "5 multa quoque et bello passus, dum conderet urbem\n",
    "inferretque deos Latio; genus unde Latinum\n",
    "Albanique patres atque altae moenia Romae.\n",
    "Musa, mihi causas memora, quo numine laeso\n",
    "quidve dolens regina deum tot volvere casus\n",
    "10 insignem pietate virum, tot adire labores\n",
    "impulerit. tantaene animis caelestibus irae?\"\"\"\n",
    "\n",
    "aeneid"
   ]
  },
  {
   "attachments": {},
   "cell_type": "markdown",
   "metadata": {},
   "source": [
    "Let us start with the simplest approach and explore some variations:"
   ]
  },
  {
   "cell_type": "code",
   "execution_count": null,
   "metadata": {},
   "outputs": [],
   "source": [
    "d = {}\n",
    "\n",
    "for char in aeneid:\n",
    "    if char in d:\n",
    "        d[char] += 1\n",
    "    else:\n",
    "        d[char] = 1\n",
    "\n",
    "print(d)"
   ]
  },
  {
   "attachments": {},
   "cell_type": "markdown",
   "metadata": {},
   "source": [
    "Implement the following simple extensions, step by step:\n",
    "- make sure all characters are lowercased\n",
    "- ignore all punctuation symbols\n",
    "- ignore all whitespace characters\n",
    "- ignore digits (cf. line numbering)\n",
    "- print the three characters with the highest frequency"
   ]
  },
  {
   "cell_type": "code",
   "execution_count": null,
   "metadata": {},
   "outputs": [],
   "source": [
    "# code for variations here\n",
    "\n"
   ]
  },
  {
   "attachments": {},
   "cell_type": "markdown",
   "metadata": {},
   "source": [
    "This exercise is important because, if you understand the components well, you can introduce minor adaptations to the code that will help you solve a wide range of related problems (like filtering). We will use this standard of block of code today to introduce two additional concepts in Python: (1) Exceptions and (2) Objects."
   ]
  },
  {
   "attachments": {},
   "cell_type": "markdown",
   "metadata": {},
   "source": [
    "## Exceptions"
   ]
  },
  {
   "attachments": {},
   "cell_type": "markdown",
   "metadata": {},
   "source": [
    "The `if`/`else` statement in our exercise is necessary, because we cannot increment the frequency for a particular character, if we didn't **initialize** that count in the first place:"
   ]
  },
  {
   "cell_type": "code",
   "execution_count": null,
   "metadata": {},
   "outputs": [],
   "source": [
    "d = {}\n",
    "\n",
    "for char in aeneid:\n",
    "    d[char] += 1"
   ]
  },
  {
   "attachments": {},
   "cell_type": "markdown",
   "metadata": {},
   "source": [
    "\n",
    "Already in the very first iteration, something goes wrong, because `d` is empty and yet we try to **index** it for the non-existing key `'A'`. We run into a **KeyError** and the execution of our program gets **interrupted** -- that's technical term that you should remember. \n",
    "\n",
    "Another way this is commonly described, is that an **\"exception gets raised\"**. This means that the normal flow of the program gets disturbed because an \"exceptional\" situation is encountered. The problem isn't so much that you run into an error -- trust me, it's not like your computer will explode in such cases -- but more, that Python isn't explicitly instructed what to do in such situations. This is exactly why the program gets halted: **Python doesn't know what to do next**.\n",
    "\n",
    "### `try` and `except`\n",
    "\n",
    "Luckily, we can work around this by using a control structure with two new **key words** : `try` and `except`. They function similarly to `if` and `else`, but they test for errors rather than logical problems.\n",
    "\n",
    "If we anticipate that certain errors might come about, we can add explicit instructions to our scripts as to what needs to be done in these exceptional circumstances. That might sound a little abstract, so below goes a straightforward example of this:"
   ]
  },
  {
   "cell_type": "code",
   "execution_count": null,
   "metadata": {},
   "outputs": [],
   "source": [
    "d = {}\n",
    "\n",
    "for char in aeneid:\n",
    "    try:\n",
    "        d[char] += 1\n",
    "    except:\n",
    "        d[char] = 1\n",
    "\n",
    "print(d)"
   ]
  },
  {
   "attachments": {},
   "cell_type": "markdown",
   "metadata": {},
   "source": [
    "In terms of syntax, there is nothing new under the sun because the `try` and `except` construction is very similar to the `if`/`else` that you already know. What does it do? In a way, Python tells you already: you instruct Python to `try` and execute the first indented block, `except` if something unexpected would happen, and in that case, the second block should be executed.\n",
    "\n",
    "This block is perfect for our problem: by default, our script will assume that a certain character is already present in `d` and it will `try` to augment its count. An exception will raised, however, when our script hits the `KeyError` which we anticipate, and in that case the second block will be executed (i.e. the instantiation of a new value:key pair). This behaviour is perfectly equivalent to our earlier solution with `if/else`."
   ]
  },
  {
   "attachments": {},
   "cell_type": "markdown",
   "metadata": {},
   "source": [
    "> *Question: in many cases, especially for longer `for`-loops, the use of an `try/except` construction will be faster than using the more straightforward `if/else`* construction. Can you guess why?"
   ]
  },
  {
   "attachments": {},
   "cell_type": "markdown",
   "metadata": {},
   "source": [
    "The previous code block will \"catch\" any exception/error. That seem easy, but typically that's considered bad practice. We want to be more specific and only catch the errors that we truly anticipate. If not, we might be ignoring really bad exceptions. Therefore, we want to be more explicit and name the actual exception, like so:"
   ]
  },
  {
   "cell_type": "code",
   "execution_count": null,
   "metadata": {},
   "outputs": [],
   "source": [
    "d = {}\n",
    "\n",
    "for char in aeneid:\n",
    "    try:\n",
    "        d[char] += 1\n",
    "    except KeyError: # more specific error catching!\n",
    "        d[char] = 1\n",
    "\n",
    "print(d)"
   ]
  },
  {
   "attachments": {},
   "cell_type": "markdown",
   "metadata": {},
   "source": [
    "Here, we limit the \"emergency\" solutions to a more limited set of scenarios, which is safer."
   ]
  },
  {
   "attachments": {},
   "cell_type": "markdown",
   "metadata": {},
   "source": [
    "> *Question: Exceptions come in many forms. Can you think of other exceptions that we've already encountered?*"
   ]
  },
  {
   "attachments": {},
   "cell_type": "markdown",
   "metadata": {},
   "source": [
    "An **IndexError** is another commonly encountered error, which might be very inconvenients:"
   ]
  },
  {
   "cell_type": "code",
   "execution_count": null,
   "metadata": {},
   "outputs": [],
   "source": [
    "cnt = 0\n",
    "while True:\n",
    "    print(aeneid[cnt], end='')\n",
    "    cnt += 1"
   ]
  },
  {
   "attachments": {},
   "cell_type": "markdown",
   "metadata": {},
   "source": [
    "> *Question: change the code block above and jump out of the `while` loop once we have printed all characters.*"
   ]
  },
  {
   "attachments": {},
   "cell_type": "markdown",
   "metadata": {},
   "source": [
    "Reading files is another context in which exceptions are often used. Often, if you work with large corpora, a small number of files will have encoding errors and you might want to ignore these. Catching the relevant exception (the `UnicodeEncodeError`) will save you a lot of troubles. Do you understand this dummy example?"
   ]
  },
  {
   "attachments": {},
   "cell_type": "markdown",
   "metadata": {},
   "source": [
    "```python\n",
    "for filename in filenames:\n",
    "    try:\n",
    "        with open(filename) as f:\n",
    "            text = f.read()\n",
    "        print(filename, 'correctly parsed!')\n",
    "    except UnicodeEncodeError:\n",
    "        pass # do you know what this does?\n",
    "```"
   ]
  },
  {
   "attachments": {},
   "cell_type": "markdown",
   "metadata": {},
   "source": [
    "As always, remember that errors are your friend in Python and you should always pay close attention to what they are saying. They might be annoying, but you can put them to use, using `try/except`. Remember that exeptions protect you from something even worse."
   ]
  },
  {
   "attachments": {},
   "cell_type": "markdown",
   "metadata": {},
   "source": [
    "## The Secret Counter"
   ]
  },
  {
   "attachments": {},
   "cell_type": "markdown",
   "metadata": {},
   "source": [
    "We've gone through the frequency dictionary exercise a couple of times by now. You might hate us for saying this, but there's a little secret that we haven't told you about before... Don't hate us, but we are about to tell about one of the best kept secrets in the Python universe:"
   ]
  },
  {
   "cell_type": "code",
   "execution_count": null,
   "metadata": {},
   "outputs": [],
   "source": [
    "from collections import Counter\n",
    "\n",
    "cnt = Counter()\n",
    "cnt.update(aeneid)\n",
    "\n",
    "#cnt = Counter(aeneid) would also work\n",
    "\n",
    "print(cnt)"
   ]
  },
  {
   "attachments": {},
   "cell_type": "markdown",
   "metadata": {},
   "source": [
    "Wow, that's amazing! This gives us everything we need, in just two lines of code. We introduce it only now, because of two reasons, it's crucial to understand how low-level Python dictionaries work."
   ]
  },
  {
   "attachments": {},
   "cell_type": "markdown",
   "metadata": {},
   "source": [
    "Note that we explicitly have to import `Counter` from the `collections` module in Python's Standard Library (which has many other really useful functions). After that, we can **instantiate** or **initialize** a Counter through what is know as the **constructor function**."
   ]
  },
  {
   "cell_type": "code",
   "execution_count": null,
   "metadata": {},
   "outputs": [],
   "source": [
    "counter = Counter() # constructor\n",
    "print(type(counter))"
   ]
  },
  {
   "attachments": {},
   "cell_type": "markdown",
   "metadata": {},
   "source": [
    "Our variable `counter` has a type that indicates that it's not of one of the primitive data types that we covered so far but a more specific kind of object. Using `help()`, we can find out about what it has to offer."
   ]
  },
  {
   "cell_type": "code",
   "execution_count": null,
   "metadata": {},
   "outputs": [],
   "source": [
    "help(Counter)"
   ]
  },
  {
   "attachments": {},
   "cell_type": "markdown",
   "metadata": {},
   "source": [
    "Interestingly, the documentation tells us that `Counter` behaves like a standard `dict`, but one that is specialized in counting. Because it already expects the values to be integers (that's what counts are!), it will assume a default value of 0, whenever we try to access an element:"
   ]
  },
  {
   "cell_type": "code",
   "execution_count": null,
   "metadata": {},
   "outputs": [],
   "source": [
    "print(counter['a'])\n",
    "print(counter['b'])\n",
    "print(counter['c'])"
   ]
  },
  {
   "attachments": {},
   "cell_type": "markdown",
   "metadata": {},
   "source": [
    "NOT. A. SINGLE. ERROR. GETS. THROWN. How cool is that? This explains why we *can* do the following:"
   ]
  },
  {
   "cell_type": "code",
   "execution_count": null,
   "metadata": {},
   "outputs": [],
   "source": [
    "for char in aeneid:\n",
    "    counter[char] += 1\n",
    "\n",
    "print(counter)"
   ]
  },
  {
   "attachments": {},
   "cell_type": "markdown",
   "metadata": {},
   "source": [
    "Amazing... And that is not all: remember how cumbersome it is in Python to sort a dictionary by its values. This is especially cumbersome for linguists, who often want frequency lists, showing the `.most_common()` items first. This is really easy with `Counter`:"
   ]
  },
  {
   "cell_type": "code",
   "execution_count": null,
   "metadata": {},
   "outputs": [],
   "source": [
    "print(counter.most_common(3))"
   ]
  },
  {
   "attachments": {},
   "cell_type": "markdown",
   "metadata": {},
   "source": [
    "> *Questions*\n",
    "> - Can you analyze what is being returned by this function?\n",
    "> - What happens when you change the **argument value** `\"3\"`?\n",
    "> - What happens when you don't specify an argument at all, when calling the function?"
   ]
  },
  {
   "attachments": {},
   "cell_type": "markdown",
   "metadata": {},
   "source": [
    "The `Counter` object is really useful."
   ]
  }
 ],
 "metadata": {
  "kernelspec": {
   "display_name": "Python 3 (ipykernel)",
   "language": "python",
   "name": "python3"
  },
  "language_info": {
   "codemirror_mode": {
    "name": "ipython",
    "version": 3
   },
   "file_extension": ".py",
   "mimetype": "text/x-python",
   "name": "python",
   "nbconvert_exporter": "python",
   "pygments_lexer": "ipython3",
   "version": "3.8.3"
  }
 },
 "nbformat": 4,
 "nbformat_minor": 4
}
