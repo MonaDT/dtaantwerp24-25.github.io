{
 "cells": [
  {
   "cell_type": "markdown",
   "metadata": {},
   "source": [
    "<div style=\"background-color:lightgrey;\n",
    "            padding:10px;\n",
    "            color:black;\n",
    "            border:black dashed 2px; \n",
    "            border-radius:5px;\n",
    "            margin: 20px 0;\">\n",
    "            \n",
    "            \n",
    "# Larger Project\n",
    "\n",
    "\n",
    "**Staff:** Mona Allaert & Leonardo Grotti<br/>\n",
    "**Support Material:** None <br/>\n",
    "**Support Sessions:**  None\n",
    "\n",
    "</div>\n"
   ]
  },
  {
   "cell_type": "markdown",
   "metadata": {},
   "source": [
    "In the past sessions, we've often worked on smaller exercises that targeted a very specific topic or skill. It can be hard to imagine, for the time being, how such an abstract exercise could become a useful building block in a larger, real-life application. In this session, we'll work on a larger project: an authentication system for a website, in which you have to combine several smaller pieces of functionality.\n",
    "\n",
    "- Piece together code in smart way, but make use of **abstraction mechanism**, such as functions, that allow you to divide the work in managable packages\n",
    "- Think about the design of the code: translate a free running text in natural language into formal code **requirements**\n",
    "- Think about **reuse**: which third part stuff already exists that I can reuse in a stable way?"
   ]
  },
  {
   "cell_type": "markdown",
   "metadata": {},
   "source": [
    "## Project: an authentication system\n",
    "\n",
    "**Assignment**: *produce Python code that sets up a naive authentication system, e.g. for a website, that allows a user to register and log in. Before peaking at the task description below: try to describe for yourself, potentially making use of a schematic drawing, what such a system should be able to do. What limits do you want impose on the user? Which liberties will you allow? Try to protect yourself from malicious users but also try to protect users from their own mistakes.*\n",
    "\n",
    "\n",
    "### Functionality\n",
    "Implement the following functionality:\n",
    "- (A) Ask a user (via `input()`) for an email address (as a proxy for a user name) and a password. A **valid password** must be be at least 8 characters long, contain uppercase *and* lowercase characters, as well as two digits, but no punctuation. Store this information in a suitable data structure, but only *if* the user name entered is a **valid email address**. For the sake of simplicity, you can limit yourself to the following dummy rules as to what constitutes a valid email address:\n",
    "    + It contains (exactly one) \"@\".\n",
    "    + It ends in \".com\", \".org\", or \".be\".\n",
    "    + It contains no other punctuation than '-', '@' and '.'\n",
    "    \n",
    "- (B) Ask the user (via `input()`) to login with her/his **credentials** and grant access to the website the password matches an existing user in the database. If the user three times enters a false password, send a **warning email** to the email address that was used as user name in the last attempt.\n",
    "\n",
    "\n",
    "In your code, the following information should be printed under the appropriate conditions:\n",
    "\n",
    "(A)\n",
    "   - “Your account has been successfully created!”\n",
    "   - “You entered an invalid email address. Try again.”\n",
    "   - “Your password isn't long enough.”\n",
    "   - “That user name has already been taken. Try again.”\n",
    "\n",
    "(B)\n",
    "   - “You have successfully logged in!”\n",
    "   - “This email address does not exist in our database. Try again.”\n",
    "   - “Your email address exists, but your password is incorrect. Try again. (`n` attempts left)”\n",
    "   - \"You have exhausted your 3 login attempts. A warning message has been emailed to the last email address used.\""
   ]
  },
  {
   "cell_type": "code",
   "execution_count": 2,
   "metadata": {},
   "outputs": [],
   "source": [
    "import string"
   ]
  },
  {
   "cell_type": "code",
   "execution_count": null,
   "metadata": {},
   "outputs": [],
   "source": [
    "# password\n",
    "def enough_chars (pw):\n",
    "    if len(pw) >= 8:\n",
    "        return True\n",
    "    else:\n",
    "        print(\"your password is not long enough.\")\n",
    "        return False\n",
    "    \n",
    "def contain_upper(pw):\n",
    "    for char in pw:\n",
    "        if char.isupper():\n",
    "            return True\n",
    "    else:\n",
    "        print(\"your password should have uppercase letters\")\n",
    "\n",
    "def contain_lower(pw):\n",
    "    for char in pw:\n",
    "        if char.islower():\n",
    "            return True\n",
    "    else:\n",
    "        print(\"your password should have lowercase letters\")\n",
    "\n",
    "def two_digits(pw):\n",
    "    counter = 0\n",
    "    for char in pw:\n",
    "        if char.isdigit():\n",
    "            counter += 1\n",
    "    if counter >= 2:\n",
    "        return True\n",
    "    else:\n",
    "        print(\"your password should have at least 2 digits\")\n",
    "\n",
    "def no_punct(pw):\n",
    "    for char in pw:\n",
    "        if char in string.punctuation:\n",
    "            print('your password should not contain punctuation')\n",
    "            return False\n",
    "    return True\n",
    "\n",
    "\n",
    "def check_pw(pw):\n",
    "    if enough_chars(pw) and contain_lower(pw) and contain_upper(pw) and two_digits(pw) and no_punct(pw):\n",
    "        return True\n",
    "    \n",
    "check_pw(\"Test555!55\")\n"
   ]
  },
  {
   "cell_type": "code",
   "execution_count": null,
   "metadata": {},
   "outputs": [],
   "source": [
    "#email\n",
    "\n",
    "def contains_at (email):\n",
    "    if email.count('@') == 1:\n",
    "        return True\n",
    "    else:\n",
    "        print('your email should contain @')\n",
    "\n",
    "def check_domain(email):\n",
    "    if email.endswith('.org') or email.endswith('.com') or email.endswith('.be'):\n",
    "        return True\n",
    "    else: \n",
    "        print('wrong domain')\n",
    "\n",
    "def check_punct (email): #only @ - and . is allowed\n",
    "    for char in email:\n",
    "        if char in string.punctuation and char not in '@-.':\n",
    "            print(\"your email cannot contain punctuation\")\n",
    "            return False\n",
    "    return True\n",
    "\n",
    "def check_email (email):\n",
    "    if contains_at(email) and check_domain(email) and check_punct(email):\n",
    "        return True\n",
    "\n",
    "\n",
    "check_email(\"mona.alla!-ertgmail.be\")\n"
   ]
  },
  {
   "cell_type": "code",
   "execution_count": 5,
   "metadata": {},
   "outputs": [],
   "source": [
    "users = {\"lgrotti@uantwerpen.be\" : 'Password123', \"mallaert@uantwerpen.com\": \"Wachtw00rd\"}\n",
    "\n",
    "\n",
    "def create_account():\n",
    "    email = input(\"what is your email\").strip()\n",
    "    password = input('what is your password').strip()\n",
    "\n",
    "    if check_email(email) and check_pw(password):\n",
    "        if email in users:\n",
    "            print(\"this account already exists. Try logging in\")\n",
    "        else:\n",
    "            users[email] = password\n",
    "            print(\"your account has been succesfully created.\")\n",
    "\n",
    "\n",
    "def login():\n",
    "    attempts = 0\n",
    "    email = input(\"what is your email\").strip()\n",
    "    \n",
    "\n",
    "    while attempts < 3:\n",
    "        if email not in users:\n",
    "            print(\"This email address does not exist in our database. Try creating an account\")\n",
    "            break\n",
    "        else:\n",
    "            password = input('what is your password').strip()\n",
    "            if users[email] == password:\n",
    "                print(\"You have succesfully logged in\")\n",
    "                break\n",
    "            else:\n",
    "                print(f'Wrong password {2- attempts} attempts left ')\n",
    "                attempts += 1\n",
    "    \n",
    "    if attempts == 3:\n",
    "        print(\"You have exhausted your 3 login attempts. A warning message has been emailed to the last email address used.\")\n",
    "            \n",
    "    "
   ]
  },
  {
   "cell_type": "code",
   "execution_count": null,
   "metadata": {},
   "outputs": [],
   "source": [
    "create_account() #try it out"
   ]
  },
  {
   "cell_type": "code",
   "execution_count": null,
   "metadata": {},
   "outputs": [],
   "source": [
    "#check users dictionary to see if account was added\n",
    "print(users)"
   ]
  },
  {
   "cell_type": "code",
   "execution_count": null,
   "metadata": {},
   "outputs": [],
   "source": [
    "login() #try logging in"
   ]
  }
 ],
 "metadata": {
  "kernelspec": {
   "display_name": "Python 3",
   "language": "python",
   "name": "python3"
  },
  "language_info": {
   "codemirror_mode": {
    "name": "ipython",
    "version": 3
   },
   "file_extension": ".py",
   "mimetype": "text/x-python",
   "name": "python",
   "nbconvert_exporter": "python",
   "pygments_lexer": "ipython3",
   "version": "3.12.4"
  }
 },
 "nbformat": 4,
 "nbformat_minor": 4
}
