{
 "cells": [
  {
   "cell_type": "markdown",
   "metadata": {
    "slideshow": {
     "slide_type": ""
    }
   },
   "source": [
    "# Control Structures 2 : While\n",
    "\n",
    "### Introduction\n",
    "\n",
    "- Wout Dillen\n",
    "- Drop-in session comments\n",
    "    - exercises\n",
    "    - class material\n",
    "- Learning to program is like...\n",
    "\n",
    "# Resources\n",
    "\n",
    "- [w3sSchool](https://www.w3schools.com/python/)\n",
    "- [Python Documentation Tutorial](https://docs.python.org/3/tutorial/controlflow.html#for-statements)\n",
    "\n",
    "### Today's Goals\n",
    "\n",
    "- Improve `if` and `for`\n",
    "- Learn `while`\n",
    "- Complete mix problem exercises\n",
    "- Learn how to select a control structure"
   ]
  },
  {
   "cell_type": "code",
   "execution_count": null,
   "metadata": {},
   "outputs": [],
   "source": []
  },
  {
   "cell_type": "markdown",
   "metadata": {},
   "source": [
    "## Recap `for` & `if`\n",
    "\n",
    "In a previous session, you've heard about **control structures**, like an `if` block. The syntax is straightforward: there is a Python **keyword** (`if`), followed by a **logical expression** or **test clause**: something that can **evaluated** by the Python interpreter as `True` or `False`. The line is closed by a **colon** (`:`) and after that an **indented** block follows. The execution of that block depends on the result of the evaluation: the block will be executed, *if* and *only of* the condition holds."
   ]
  },
  {
   "cell_type": "markdown",
   "metadata": {},
   "source": [
    "### `if`"
   ]
  },
  {
   "cell_type": "code",
   "execution_count": 9,
   "metadata": {},
   "outputs": [],
   "source": [
    "a = 6"
   ]
  },
  {
   "cell_type": "code",
   "execution_count": 11,
   "metadata": {},
   "outputs": [
    {
     "data": {
      "text/plain": [
       "True"
      ]
     },
     "execution_count": 11,
     "metadata": {},
     "output_type": "execute_result"
    }
   ],
   "source": [
    "a < 10"
   ]
  },
  {
   "cell_type": "code",
   "execution_count": 16,
   "metadata": {},
   "outputs": [
    {
     "name": "stdout",
     "output_type": "stream",
     "text": [
      "a is smaller than 10\n"
     ]
    }
   ],
   "source": [
    "if a > 10:\n",
    "    print('a is larger than 10')\n",
    "\n",
    "if (a < 10): # the brackets are optional\n",
    "    print('a is smaller than 10') \n",
    "    \n",
    "    "
   ]
  },
  {
   "cell_type": "markdown",
   "metadata": {},
   "source": [
    "If the condition is met, the associated, indented code block will be executed exactly *once*. (This is important for what follows.)"
   ]
  },
  {
   "cell_type": "markdown",
   "metadata": {},
   "source": [
    "### `for`"
   ]
  },
  {
   "cell_type": "markdown",
   "metadata": {},
   "source": [
    "Another control structure you've already covered is the notorious `for` loop. Believe it or not, this is something you'll use every day (perhaps every waking hour!) in the coming year. A `for` construction allows to perform a **repetitive action**. A classic example is looping over the contents of a string, element per element."
   ]
  },
  {
   "cell_type": "code",
   "execution_count": 18,
   "metadata": {},
   "outputs": [
    {
     "name": "stdout",
     "output_type": "stream",
     "text": [
      "b\n",
      "e\n",
      "r\n",
      "t\n"
     ]
    }
   ],
   "source": [
    "name = 'bert'\n",
    "for character in name:\n",
    "    print(character)"
   ]
  },
  {
   "cell_type": "markdown",
   "metadata": {},
   "source": [
    "In Python you can loop over any **iterable**, such as the collection types you've already encountered (list, tuple, set, dictionary, etc. but also strings)."
   ]
  },
  {
   "cell_type": "code",
   "execution_count": 24,
   "metadata": {},
   "outputs": [
    {
     "ename": "SyntaxError",
     "evalue": "unexpected EOF while parsing (<ipython-input-24-82029b8de5e4>, line 3)",
     "output_type": "error",
     "traceback": [
      "\u001b[0;36m  File \u001b[0;32m\"<ipython-input-24-82029b8de5e4>\"\u001b[0;36m, line \u001b[0;32m3\u001b[0m\n\u001b[0;31m    for key, item in dictionary.items():\u001b[0m\n\u001b[0m                                        ^\u001b[0m\n\u001b[0;31mSyntaxError\u001b[0m\u001b[0;31m:\u001b[0m unexpected EOF while parsing\n"
     ]
    }
   ],
   "source": [
    "dictionary = {'a':0,'b':1}\n",
    "\n",
    "for key, item in dictionary.items():\n",
    "    if a > 0:\n",
    "        print('yes')\n",
    "    elif:\n",
    "        pass\n",
    "        # TODO finish this code"
   ]
  },
  {
   "cell_type": "markdown",
   "metadata": {},
   "source": [
    "#### Format Strings"
   ]
  },
  {
   "cell_type": "code",
   "execution_count": 23,
   "metadata": {},
   "outputs": [
    {
     "data": {
      "text/plain": [
       "'The price is $2 in the USA'"
      ]
     },
     "execution_count": 23,
     "metadata": {},
     "output_type": "execute_result"
    }
   ],
   "source": [
    "'The price is {price} in the {location}'.format(price='$2', location='USA')"
   ]
  },
  {
   "cell_type": "code",
   "execution_count": null,
   "metadata": {},
   "outputs": [],
   "source": [
    "'The price is {0} in the {1}'.format('$2','USA')"
   ]
  },
  {
   "cell_type": "markdown",
   "metadata": {},
   "source": [
    "---"
   ]
  },
  {
   "cell_type": "markdown",
   "metadata": {},
   "source": [
    "## `pass` and `range()`"
   ]
  },
  {
   "cell_type": "markdown",
   "metadata": {},
   "source": [
    "This chapter introduces two new important concepts, but only in passing (*hihi*). Let's have a quick look at them before we move on."
   ]
  },
  {
   "cell_type": "markdown",
   "metadata": {},
   "source": [
    "### `pass`"
   ]
  },
  {
   "cell_type": "markdown",
   "metadata": {},
   "source": [
    "(1) Indendation is really important in Python and sets it apart from other languages. Sometimes, nothing will happen inside a block (or you might not know yet), however, something **always** has to happen in an indented block. \n",
    "\n",
    "In such case, you can use the keyword `pass` as a (temporary stub). It's the only way to properly define an *'empty indented block'* (for whatever reason you might need it). For instance:"
   ]
  },
  {
   "cell_type": "code",
   "execution_count": 4,
   "metadata": {},
   "outputs": [],
   "source": [
    "a = 57\n",
    "\n",
    "if a == 5:\n",
    "    print('a = 5')\n",
    "else:\n",
    "    # stub: don't know yet what will come here\n",
    "    pass"
   ]
  },
  {
   "cell_type": "markdown",
   "metadata": {},
   "source": [
    "### `range`\n",
    "\n",
    "(2) In a for-loop, you often want to repeat a certain action for a specific number of times. Suppose you would like to print all the numbers from 1 up to 10, for instance, you could use `range`:"
   ]
  },
  {
   "cell_type": "code",
   "execution_count": 31,
   "metadata": {},
   "outputs": [
    {
     "name": "stdout",
     "output_type": "stream",
     "text": [
      "0\n",
      "1\n",
      "2\n",
      "3\n",
      "4\n",
      "5\n",
      "6\n",
      "7\n",
      "8\n",
      "9\n"
     ]
    }
   ],
   "source": [
    "for number in range(10):\n",
    "    print(number)\n"
   ]
  },
  {
   "cell_type": "markdown",
   "metadata": {},
   "source": [
    "In this case, `range` will give you a list of numbers that you can iterate over with the `for`-loop. As always, however, Python starts counting at 0, which is a bit annoying in this context. With `range`, we can luckily also set the desired starting point:"
   ]
  },
  {
   "cell_type": "code",
   "execution_count": 32,
   "metadata": {},
   "outputs": [
    {
     "name": "stdout",
     "output_type": "stream",
     "text": [
      "1\n",
      "2\n",
      "3\n",
      "4\n",
      "5\n",
      "6\n",
      "7\n",
      "8\n",
      "9\n"
     ]
    }
   ],
   "source": [
    "for number in range(1, 10):\n",
    "    print(number)"
   ]
  },
  {
   "cell_type": "markdown",
   "metadata": {},
   "source": [
    "Still, this isn't perfect, because the upper boundary that we pass to `range` is \"exclusive\" and range will give us the list of numbers up to, but not including 10. That's why we need the specific range 1-11 in our case:"
   ]
  },
  {
   "cell_type": "code",
   "execution_count": 7,
   "metadata": {},
   "outputs": [
    {
     "name": "stdout",
     "output_type": "stream",
     "text": [
      "1\n",
      "2\n",
      "3\n",
      "4\n",
      "5\n",
      "6\n",
      "7\n",
      "8\n",
      "9\n",
      "10\n"
     ]
    }
   ],
   "source": [
    "for number in range(1, 11):\n",
    "    print(number)"
   ]
  },
  {
   "cell_type": "markdown",
   "metadata": {},
   "source": [
    "Finally, range allows you to specify a stepsize, if you want a discontinguous list of numbers. If you only care about uneven numbers, for instance, you can have range skip a numbe every other step:"
   ]
  },
  {
   "cell_type": "code",
   "execution_count": 34,
   "metadata": {},
   "outputs": [
    {
     "name": "stdout",
     "output_type": "stream",
     "text": [
      "1\n",
      "4\n",
      "7\n",
      "10\n"
     ]
    }
   ],
   "source": [
    "for number in range(1, 11, 3):\n",
    "    print(number)"
   ]
  },
  {
   "cell_type": "markdown",
   "metadata": {},
   "source": [
    "Whilst looping with range, you don't need to do actions that relate to generated numbers."
   ]
  },
  {
   "cell_type": "code",
   "execution_count": 35,
   "metadata": {},
   "outputs": [
    {
     "name": "stdout",
     "output_type": "stream",
     "text": [
      "Hello\n",
      "Hello\n",
      "Hello\n",
      "Hello\n",
      "Hello\n",
      "Hello\n",
      "Hello\n",
      "Hello\n",
      "Hello\n",
      "Hello\n"
     ]
    }
   ],
   "source": [
    "for number in range(10):\n",
    "    print('Hello')"
   ]
  },
  {
   "cell_type": "markdown",
   "metadata": {},
   "source": [
    "## `while`"
   ]
  },
  {
   "cell_type": "markdown",
   "metadata": {},
   "source": [
    "In this session, we'll cover the `while` loop which, conceptually, is a combination of an `if` construction and a `for` loop, so to speak. The syntax is very similar to an `if` block: a Python keyword (`while`) is followed by a logical expression that will again be evaluated into a **boolean**. After that, a colon follows and an indented code block:\n",
    "\n",
    "```python\n",
    "while a < 6:\n",
    "    print(a)\n",
    "```\n",
    "\n",
    "Like with `if`, the associated code block will be executed *if and only if* the expression holds true. The catch, however, is that the block will keep on getting executed **indefinitely** or at least until the logical expression no longer holds `True`. In this, `while` constructions resemble `for` constructions, which are also repetitive."
   ]
  },
  {
   "cell_type": "markdown",
   "metadata": {},
   "source": [
    "![while flow chart](https://cdn.programiz.com/sites/tutorial2program/files/whileLoopFlowchart.jpg)"
   ]
  },
  {
   "cell_type": "markdown",
   "metadata": {},
   "source": [
    "## Analogy\n",
    "\n",
    "- Filling a bucket\n",
    "- Driving home\n",
    "- Boiling water"
   ]
  },
  {
   "cell_type": "markdown",
   "metadata": {},
   "source": [
    "Watch out: `while` loops can be a nightmare to coders (both novice and experienced): you yourself have to make sure that the `while` loop is stopped at some point (or you will have to buy a new computer...). On the other hand, you also have to ensure that the `while` starts at a given point, and typically you also want the initial condition to be met (at least once). In our experience, `while` loops are therefore used much less often than `for` loops (which should always be preferred, if you have the choice).\n",
    "\n",
    "Here goes a concrete example:"
   ]
  },
  {
   "cell_type": "code",
   "execution_count": 37,
   "metadata": {},
   "outputs": [
    {
     "name": "stdout",
     "output_type": "stream",
     "text": [
      "1\n",
      "2\n",
      "3\n",
      "4\n",
      "5\n",
      "6\n",
      "7\n",
      "8\n",
      "9\n",
      "10\n"
     ]
    }
   ],
   "source": [
    "idx = 1 # a counter\n",
    "while idx < 11:\n",
    "    print(idx)\n",
    "    idx += 1 # this shortcut might be new?"
   ]
  },
  {
   "cell_type": "markdown",
   "metadata": {},
   "source": [
    "> (*Try to figure out for yourself first what this does exactly.*)\n",
    "\n",
    "We declare an integer variable that we set to one. Initially, the condition (`idx < 11`) will be met, since the original value of `idx` will indeed be smaller than 11, so the `while` loop will start up and the indented code block gets executed. In this block, we print `idx`, before augmenting it, in each iteration, with one. The last bit is crucial, since we have to make sure that something changes each time, so that ultimately, the logical expression will no longer hold `True`. At a certain point, our `idx` will reach the value 11 and the condition will no longer be met, so that we jump out of the `while` loop.\n",
    "> *Question: will `idx` ever have the value 12*?"
   ]
  },
  {
   "cell_type": "markdown",
   "metadata": {},
   "source": [
    "### `while` vs `for`"
   ]
  },
  {
   "cell_type": "markdown",
   "metadata": {},
   "source": [
    "Note that all `for` loops can be expressed as a `while` loop. The reverse, however, is not true, and is some specific situation, a `while` loop might actually be unavoidable."
   ]
  },
  {
   "cell_type": "markdown",
   "metadata": {},
   "source": [
    "Let's first have a look at our previous example of a `for` loop, in which we iterated over the characters in a name:"
   ]
  },
  {
   "cell_type": "code",
   "execution_count": 38,
   "metadata": {},
   "outputs": [
    {
     "name": "stdout",
     "output_type": "stream",
     "text": [
      "b\n",
      "e\n",
      "r\n",
      "t\n"
     ]
    }
   ],
   "source": [
    "name = 'bert'\n",
    "for character in name:\n",
    "    print(character)"
   ]
  },
  {
   "cell_type": "markdown",
   "metadata": {},
   "source": [
    "We know that we can also access the characters in a string via an **index**:"
   ]
  },
  {
   "cell_type": "code",
   "execution_count": 39,
   "metadata": {},
   "outputs": [
    {
     "name": "stdout",
     "output_type": "stream",
     "text": [
      "b\n",
      "e\n",
      "r\n",
      "t\n"
     ]
    }
   ],
   "source": [
    "print(name[0]) # zero-indexed!\n",
    "print(name[1])\n",
    "print(name[2])\n",
    "print(name[3])"
   ]
  },
  {
   "cell_type": "markdown",
   "metadata": {},
   "source": [
    "So to mimic the behavior of a `for` loop, we can also work with an index variable that we initialize to zero. After we've retrieved the corresponding character, we augment the index by one and we move on to the next character. The tricky bit is that we have to make sure that we stop at some point..."
   ]
  },
  {
   "cell_type": "markdown",
   "metadata": {},
   "source": [
    "> *Question 2: Any idea what will happen? A infinite loop? Look at the code below*"
   ]
  },
  {
   "cell_type": "code",
   "execution_count": 42,
   "metadata": {},
   "outputs": [
    {
     "name": "stdout",
     "output_type": "stream",
     "text": [
      "b\n",
      "e\n",
      "r\n",
      "t\n"
     ]
    }
   ],
   "source": [
    "name = 'bert'\n",
    "counter = 0\n",
    "\n",
    "while counter = len(name):\n",
    "    print(name[counter])\n",
    "    counter += 1"
   ]
  },
  {
   "cell_type": "code",
   "execution_count": 45,
   "metadata": {},
   "outputs": [
    {
     "data": {
      "text/plain": [
       "True"
      ]
     },
     "execution_count": 45,
     "metadata": {},
     "output_type": "execute_result"
    }
   ],
   "source": [
    "0 != 1"
   ]
  },
  {
   "cell_type": "markdown",
   "metadata": {},
   "source": [
    "> *Question: Any ideas on how to achieve this? \n",
    "\n",
    "(In a future session, we'll actually see how to exploit the fact that such errors are thrown. \"Oops, I encounter an error: get me out of here!\")*\n",
    "\n",
    "The more obvious solution is to check `idx` against the length of `name`, which is the thing that we are iterating over.\n",
    "\n",
    "> *Question: how can we access the length of a list in Python?*"
   ]
  },
  {
   "cell_type": "code",
   "execution_count": 13,
   "metadata": {},
   "outputs": [
    {
     "name": "stdout",
     "output_type": "stream",
     "text": [
      "b\n",
      "e\n",
      "r\n",
      "t\n"
     ]
    },
    {
     "ename": "IndexError",
     "evalue": "string index out of range",
     "output_type": "error",
     "traceback": [
      "\u001b[0;31m---------------------------------------------------------------------------\u001b[0m",
      "\u001b[0;31mIndexError\u001b[0m                                Traceback (most recent call last)",
      "\u001b[0;32m<ipython-input-13-b336cfd5176b>\u001b[0m in \u001b[0;36m<module>\u001b[0;34m\u001b[0m\n\u001b[1;32m      1\u001b[0m \u001b[0midx\u001b[0m \u001b[0;34m=\u001b[0m \u001b[0;36m0\u001b[0m\u001b[0;34m\u001b[0m\u001b[0;34m\u001b[0m\u001b[0m\n\u001b[1;32m      2\u001b[0m \u001b[0;32mwhile\u001b[0m \u001b[0midx\u001b[0m \u001b[0;34m<=\u001b[0m \u001b[0mlen\u001b[0m\u001b[0;34m(\u001b[0m\u001b[0mname\u001b[0m\u001b[0;34m)\u001b[0m\u001b[0;34m:\u001b[0m \u001b[0;31m# smaller than or equal true\u001b[0m\u001b[0;34m\u001b[0m\u001b[0;34m\u001b[0m\u001b[0m\n\u001b[0;32m----> 3\u001b[0;31m     \u001b[0mprint\u001b[0m\u001b[0;34m(\u001b[0m\u001b[0mname\u001b[0m\u001b[0;34m[\u001b[0m\u001b[0midx\u001b[0m\u001b[0;34m]\u001b[0m\u001b[0;34m)\u001b[0m\u001b[0;34m\u001b[0m\u001b[0;34m\u001b[0m\u001b[0m\n\u001b[0m\u001b[1;32m      4\u001b[0m     \u001b[0midx\u001b[0m \u001b[0;34m+=\u001b[0m \u001b[0;36m1\u001b[0m\u001b[0;34m\u001b[0m\u001b[0;34m\u001b[0m\u001b[0m\n",
      "\u001b[0;31mIndexError\u001b[0m: string index out of range"
     ]
    }
   ],
   "source": [
    "idx = 0\n",
    "while idx <= len(name): # smaller than or equal true\n",
    "    print(name[idx])\n",
    "    idx += 1"
   ]
  },
  {
   "cell_type": "markdown",
   "metadata": {},
   "source": [
    "That works but we still hit an error at the end...\n",
    "\n",
    "> *Question: What is conceptually wrong with this code?*"
   ]
  },
  {
   "cell_type": "markdown",
   "metadata": {},
   "source": [
    "Indeed, the index of this list's last element is equal to its length *minus one*:"
   ]
  },
  {
   "cell_type": "code",
   "execution_count": 116,
   "metadata": {},
   "outputs": [
    {
     "name": "stdout",
     "output_type": "stream",
     "text": [
      "4\n",
      "t\n"
     ]
    }
   ],
   "source": [
    "print(len(name))\n",
    "print(name[len(name) - 1])"
   ]
  },
  {
   "cell_type": "code",
   "execution_count": null,
   "metadata": {},
   "outputs": [],
   "source": []
  },
  {
   "cell_type": "markdown",
   "metadata": {},
   "source": [
    "That's why the correct version should read:"
   ]
  },
  {
   "cell_type": "code",
   "execution_count": 117,
   "metadata": {},
   "outputs": [
    {
     "name": "stdout",
     "output_type": "stream",
     "text": [
      "b\n",
      "e\n",
      "r\n",
      "t\n"
     ]
    }
   ],
   "source": [
    "idx = 0\n",
    "while idx < len(name): # smaller than\n",
    "    print(name[idx])\n",
    "    idx += 1"
   ]
  },
  {
   "cell_type": "markdown",
   "metadata": {},
   "source": [
    "So you get it: simple `for` loops can always be reformulated as `while` loops, but they will involve the careful manipulation of an index variable, which can get complicated."
   ]
  },
  {
   "cell_type": "code",
   "execution_count": 56,
   "metadata": {},
   "outputs": [
    {
     "name": "stdout",
     "output_type": "stream",
     "text": [
      "boiling...\n",
      "still boiling..\n",
      "still boiling..\n",
      "still boiling..\n",
      "still boiling..\n",
      "still boiling..\n",
      "water is boiled\n"
     ]
    }
   ],
   "source": [
    "print('boiling...')\n",
    "\n",
    "water_temp = 0\n",
    "\n",
    "while True:\n",
    "    print('still boiling..')\n",
    "    water_temp += 20\n",
    "    if water_temp == 100:\n",
    "        print('water is boiled')\n",
    "        break"
   ]
  },
  {
   "cell_type": "markdown",
   "metadata": {},
   "source": [
    "Build a program  that prints water is boiling, up until 100 degrees, then it say 'water is boiled'."
   ]
  },
  {
   "cell_type": "code",
   "execution_count": 73,
   "metadata": {},
   "outputs": [
    {
     "name": "stdout",
     "output_type": "stream",
     "text": [
      "water is boiling\n",
      "water is boiling\n",
      "water is boiling\n",
      "water is boiling\n",
      "water is boiling\n",
      "water is boiled\n"
     ]
    }
   ],
   "source": [
    "# current temp\n",
    "\n",
    "water_temp = 0\n",
    "\n",
    "# starts a loop\n",
    "\n",
    "while True:\n",
    "    water_temp += 20\n",
    "    # prints water is boiling\n",
    "    print('water is boiling')\n",
    "    # up until 100 degrees\n",
    "    if water_temp == 100:\n",
    "        print('water is boiled')\n",
    "        break\n",
    "        # then it say 'water is boiled'.\n",
    "        "
   ]
  },
  {
   "cell_type": "markdown",
   "metadata": {},
   "source": [
    "\n",
    "## `break`"
   ]
  },
  {
   "cell_type": "markdown",
   "metadata": {},
   "source": [
    "Above we said that, if your program gets stuck in an infinite loop, you'll have to buy a new computer. That was a manifest example of my excellent humor. Of course there are ways to salvage your computer.\n",
    "\n",
    "(1) First of all, there a real chance you'll end up hitting a specific kind of **error**, because Python will realize that you're stuck in an infinite loop. This is a useful safety mechanism to protect yourself against your own mistakes.\n",
    "\n",
    "*Example: Python doesn't put a cap on the size of integers: you can grow numbers as large as you need them to be. You can actually fill up your entire memory like this...*\n",
    "\n",
    "```python\n",
    "idx = 0\n",
    "while idx > -1:\n",
    "    idx += 1\n",
    "```"
   ]
  },
  {
   "cell_type": "markdown",
   "metadata": {},
   "source": [
    "(2) You can always stop the execution of a Python program: in a Terminal, you can use `Ctrl + C`, in a notebook you can \"kill the kernel\" using the stop icon."
   ]
  },
  {
   "cell_type": "markdown",
   "metadata": {},
   "source": [
    "(3) The most elegant way to end a `while` loop is to take care of that yourself in the code. A very useful keyword in this respect is `break`, another Python keyword. You can insert it inside the indented block of a `while` loop and it will have the effect that the current loop gets halted immediately.\n",
    "\n",
    "Let's work from an example. Let's us assume that our task is to print out the integer ranging from 1 to 10:"
   ]
  },
  {
   "cell_type": "code",
   "execution_count": 51,
   "metadata": {},
   "outputs": [
    {
     "name": "stdout",
     "output_type": "stream",
     "text": [
      "1\n",
      "2\n",
      "3\n",
      "4\n",
      "5\n",
      "6\n",
      "7\n",
      "8\n",
      "9\n",
      "10\n"
     ]
    }
   ],
   "source": [
    "idx = 0\n",
    "\n",
    "while True: # what's this?!\n",
    "    idx += 1\n",
    "    print(idx)\n",
    "    if idx == 10:\n",
    "        break"
   ]
  },
  {
   "cell_type": "markdown",
   "metadata": {},
   "source": [
    "This block introduces two novelties: \n",
    "- the `break` keyword is nested inside an `if` statement that is itself part of a `while` loop. In such cases, the `while` loop is called the **outer** control structure and the `if` the **inner** control structure. In spite of this **nesting**, Python knows that it has to look for the \"nearest loop\" and kill that, which happens indeed when `idx` reaches the value of 10. Here, \"nearest\" technically means: the \"smallest enclosing loop\".\n",
    "- this particular `while` is intentionally set up to run forever (in principle), using the line `while True:`. This is a construction you will often see: `True` in this case is a boolean **constant** (not a variable!) that cannot be changed once the program has started. This will effectively result in a statement that is always `True`, meaning that your loop will continue until something unexpected would happen (i.e. encountering the `break` keyword). This is commonly used because you can set up a simple iterator in this way, that will incessantly perform a certain action -- it's an indefinite loop that you set up *on purpose*."
   ]
  },
  {
   "cell_type": "markdown",
   "metadata": {},
   "source": [
    "Interestingly, `break` can also be used in `for`-loops and there it has the same effect: it will terminate the `for` loop immediately. Havea look at this example, in which we search through a sentence until we find the first occurence of the word \"sleep\" (which is my favorite word):"
   ]
  },
  {
   "cell_type": "code",
   "execution_count": 58,
   "metadata": {},
   "outputs": [
    {
     "name": "stdout",
     "output_type": "stream",
     "text": [
      "colourless\n",
      "green\n",
      "ideas\n",
      "sleep\n",
      "Found!\n"
     ]
    }
   ],
   "source": [
    "sentence = ['colourless', 'green', 'ideas', 'sleep', 'furiously']\n",
    "for word in sentence:\n",
    "    print(word)\n",
    "    if word == 'sleep':\n",
    "        print('Found!')\n",
    "        break"
   ]
  },
  {
   "cell_type": "markdown",
   "metadata": {},
   "source": [
    "We iterate over each word in the sentence and when we come across \"sleep\", we halt the `for`-loop. Note that the last word in the sentence doesn't get printed anymore: we can effectively skip the rest of the loop because we've already found what we were looking for. This is a classic use of `break`: in many cases you'll want to avoid unnecessary computations."
   ]
  },
  {
   "cell_type": "markdown",
   "metadata": {},
   "source": [
    "However, watch out with nesting: the `break` keyword will always also kill a single loop, that is: the nearest or latest loop that Python starting when hitting the `break` keyword."
   ]
  },
  {
   "cell_type": "markdown",
   "metadata": {},
   "source": [
    "Suppose that we want to search our sentence for the first occurence of the letter \"d\":"
   ]
  },
  {
   "cell_type": "code",
   "execution_count": 61,
   "metadata": {},
   "outputs": [
    {
     "name": "stdout",
     "output_type": "stream",
     "text": [
      " \n",
      "c\n",
      "o\n",
      "l\n",
      "o\n",
      "u\n",
      "r\n",
      "l\n",
      "e\n",
      "s\n",
      "s\n",
      " \n",
      "g\n",
      "r\n",
      "e\n",
      "e\n",
      "n\n",
      " \n",
      "i\n",
      "d\n",
      "Found a 'd'!\n",
      " \n",
      "s\n",
      "l\n",
      "e\n",
      "e\n",
      "p\n",
      " \n",
      "f\n",
      "u\n",
      "r\n",
      "i\n",
      "o\n",
      "u\n",
      "s\n",
      "l\n",
      "y\n"
     ]
    }
   ],
   "source": [
    "for word in sentence: # outer, sentence-level for-loop\n",
    "    print(' ')\n",
    "    for letter in word: # inner, word-level for-loop\n",
    "        print(letter)\n",
    "        if letter == 'd':\n",
    "            print(\"Found a 'd'!\")\n",
    "            break"
   ]
  },
  {
   "cell_type": "markdown",
   "metadata": {},
   "source": [
    "Note that this method would only kill the last for-loop that we started (so that the rest of the current word, \"idea\", isn't searched anymore after finding the \"d\"). Note that the outer `for` loop happily keeps on running however. Solving this would require a more complicated hack, where you keep track of an additional variable. For instance, with this clumsy solution:"
   ]
  },
  {
   "cell_type": "markdown",
   "metadata": {},
   "source": [
    "Do not spend too much time on this, as it's a clumsy solution, which would be better served by a `while` loop."
   ]
  },
  {
   "cell_type": "code",
   "execution_count": 63,
   "metadata": {},
   "outputs": [
    {
     "name": "stdout",
     "output_type": "stream",
     "text": [
      " \n",
      "c\n",
      "o\n",
      "l\n",
      "o\n",
      "u\n",
      "r\n",
      "l\n",
      "e\n",
      "s\n",
      "s\n"
     ]
    }
   ],
   "source": [
    "d_found = False\n",
    "for word in sentence: # outer, sentence-level for-loop\n",
    "    print(' ')\n",
    "    if d_found:\n",
    "        break\n",
    "    for letter in word: # inner, word-level for-loop\n",
    "        print(letter)\n",
    "        if letter == 'd':\n",
    "            print(\"Found a 'd'!\")\n",
    "            d_found = True\n"
   ]
  },
  {
   "cell_type": "markdown",
   "metadata": {},
   "source": [
    "As you can see, you will typically need a break per loop in such situations."
   ]
  },
  {
   "cell_type": "markdown",
   "metadata": {},
   "source": [
    "### `while` plus `else`\n",
    "\n",
    "In passing, we note that you can also have an `else`-statement, wrapping up a `while` loop. The syntax is as follows:"
   ]
  },
  {
   "cell_type": "code",
   "execution_count": null,
   "metadata": {},
   "outputs": [],
   "source": [
    "x = 0\n",
    "w"
   ]
  },
  {
   "cell_type": "code",
   "execution_count": 64,
   "metadata": {},
   "outputs": [
    {
     "name": "stdout",
     "output_type": "stream",
     "text": [
      "1\n",
      "2\n",
      "3\n",
      "4\n",
      "5\n",
      "6\n",
      "7\n",
      "8\n",
      "9\n",
      "10\n",
      "11\n",
      "End of the `while` block\n"
     ]
    }
   ],
   "source": [
    "idx = 0\n",
    "while idx < 11:\n",
    "    idx += 1\n",
    "    print(idx)\n",
    "else:\n",
    "    print('End of the `while` block')"
   ]
  },
  {
   "cell_type": "markdown",
   "metadata": {},
   "source": [
    "*Think: why might it seem utterly useless to have this construction in Python at all?*"
   ]
  },
  {
   "cell_type": "markdown",
   "metadata": {},
   "source": [
    "Well, this seems perfectly equivalent to:"
   ]
  },
  {
   "cell_type": "code",
   "execution_count": 123,
   "metadata": {},
   "outputs": [
    {
     "name": "stdout",
     "output_type": "stream",
     "text": [
      "1\n",
      "2\n",
      "3\n",
      "4\n",
      "5\n",
      "6\n",
      "7\n",
      "8\n",
      "9\n",
      "10\n",
      "11\n",
      "End of the `while` block\n"
     ]
    }
   ],
   "source": [
    "idx = 0\n",
    "while idx < 11:\n",
    "    idx += 1\n",
    "    print(idx)\n",
    "print('End of the `while` block')"
   ]
  },
  {
   "cell_type": "markdown",
   "metadata": {},
   "source": [
    "There is one subtlety, however, namely that the `else`-block only gets executed if the conditional clause becomes `False`. In the case of a `break`, the `else`-block also doesn't get executed (this is called an \"abnormal exit\" from the loop.) This is considered useful in the context of searching and you might fail to find something:"
   ]
  },
  {
   "cell_type": "code",
   "execution_count": 66,
   "metadata": {},
   "outputs": [
    {
     "name": "stdout",
     "output_type": "stream",
     "text": [
      "Found one!\n",
      "No results found.\n"
     ]
    }
   ],
   "source": [
    "word = 'colourless'\n",
    "query = 'l' # also try 'x'\n",
    "idx = 0\n",
    "\n",
    "while idx < len(word):\n",
    "    letter = word[idx]\n",
    "    if letter == query:\n",
    "        print('Found one!')\n",
    "        break\n",
    "    idx += 1\n",
    "else:\n",
    "    print('No results found.')"
   ]
  },
  {
   "cell_type": "markdown",
   "metadata": {},
   "source": [
    "## `continue`"
   ]
  },
  {
   "cell_type": "markdown",
   "metadata": {},
   "source": [
    "The keyword `break` is tightly linked to another keyword: `continue`. This keyword works also works for `for`-loops as well as `while`-loops: when the Python interpreter encounters it in a loop it will read it as an instruction \"to skip the rest of the current loop\" (but keep looping after that). It means: \"move on to the next iteration\". A simple illustration:"
   ]
  },
  {
   "cell_type": "code",
   "execution_count": 70,
   "metadata": {},
   "outputs": [
    {
     "name": "stdout",
     "output_type": "stream",
     "text": [
      "-\n",
      "-\n",
      "l\n",
      "-\n",
      "p\n",
      "-\n",
      "h\n",
      "-\n",
      "-\n",
      "b\n",
      "-\n",
      "e\n",
      "-\n",
      "t\n"
     ]
    }
   ],
   "source": [
    "word = 'alphabet'\n",
    "for letter in word:\n",
    "    print('-')\n",
    "    if letter == 'a':\n",
    "        continue # move on to the next iteration\n",
    "    print(letter)"
   ]
  },
  {
   "cell_type": "markdown",
   "metadata": {},
   "source": [
    "All letters are printed, but the a is skipped: this is because encountering the `continue` will take you right back again to the start of the *next* iteration. To make this more concrete, let's look at a more complex application that is discussed in the book."
   ]
  },
  {
   "cell_type": "markdown",
   "metadata": {},
   "source": [
    "The handbook has a nice section on generating \"gibberish\", or non-words that (kinda...) look like real words (3.7 Making Nonsense Items). This task is surprisingly relevant to psycholinguists, who will test your reaction times on such non-existing words, but for this to work, the words have to look real. (An old colleague of course, , even built a Python package called [\"Wuggy\"](http://crr.ugent.be/programs-data/wuggy) just for this!)\n",
    "\n",
    "For the sake of simplicity, we limit ourselves to monosyllabic words or words that contain just one syllable. Syllables typically have a CV(C)-structure, i.e. they consist of an alternation of **C**onsonants and **V**owels. The first consonant is called the \"onset\", the closing consonant the \"coda\"."
   ]
  },
  {
   "cell_type": "markdown",
   "metadata": {},
   "source": [
    "Suppose that we have the following consonants and vowels:"
   ]
  },
  {
   "cell_type": "code",
   "execution_count": 131,
   "metadata": {},
   "outputs": [],
   "source": [
    "vowels = 'aeiou'\n",
    "consonants = 'ptkbdg'"
   ]
  },
  {
   "cell_type": "markdown",
   "metadata": {},
   "source": [
    "How could we combine all of these into plain CV-combinations of just one C and one V?"
   ]
  },
  {
   "cell_type": "code",
   "execution_count": 132,
   "metadata": {},
   "outputs": [
    {
     "name": "stdout",
     "output_type": "stream",
     "text": [
      "pa\n",
      "ta\n",
      "ka\n",
      "ba\n",
      "da\n",
      "ga\n",
      "pe\n",
      "te\n",
      "ke\n",
      "be\n",
      "de\n",
      "ge\n",
      "pi\n",
      "ti\n",
      "ki\n",
      "bi\n",
      "di\n",
      "gi\n",
      "po\n",
      "to\n",
      "ko\n",
      "bo\n",
      "do\n",
      "go\n",
      "pu\n",
      "tu\n",
      "ku\n",
      "bu\n",
      "du\n",
      "gu\n"
     ]
    }
   ],
   "source": [
    "for v in vowels:\n",
    "    for c in consonants:\n",
    "        print(c, v, sep='') # did you see this kind of printing already?"
   ]
  },
  {
   "cell_type": "markdown",
   "metadata": {},
   "source": [
    "How could we extend this to a CVC skeleton?"
   ]
  },
  {
   "cell_type": "code",
   "execution_count": null,
   "metadata": {},
   "outputs": [],
   "source": [
    "for v in vowels:\n",
    "    for o in consonants: # o for onset\n",
    "        for c in consonants: # c for coda\n",
    "            print(o, v, c, sep='')"
   ]
  },
  {
   "cell_type": "markdown",
   "metadata": {},
   "source": [
    "Now, let's exclude cases where the two consonants are the same (e.g. \"dod\" or \"bab\"). Can we use `continue` for this?"
   ]
  },
  {
   "cell_type": "code",
   "execution_count": null,
   "metadata": {},
   "outputs": [],
   "source": [
    "for v in vowels:\n",
    "    for o in consonants:\n",
    "        for c in consonants:\n",
    "            if o == c:\n",
    "                continue\n",
    "            print(o, v, c, sep='')"
   ]
  },
  {
   "cell_type": "markdown",
   "metadata": {},
   "source": [
    "*Million dollar question*: would it be wrong to use **break** here, instead of continue? Yes? No? Why?"
   ]
  },
  {
   "cell_type": "markdown",
   "metadata": {},
   "source": [
    "#### Hammond pg 50"
   ]
  },
  {
   "cell_type": "code",
   "execution_count": 72,
   "metadata": {},
   "outputs": [
    {
     "name": "stdout",
     "output_type": "stream",
     "text": [
      "The word has 7 consonant letters\n"
     ]
    }
   ],
   "source": [
    "#set up initial variables\n",
    "vowels = 'aeiou'\n",
    "word = 'Mississippi'\n",
    "counter = 0\n",
    "i = 0\n",
    "#go through word letter by letter\n",
    "while i < len(word):\n",
    "\t#is current letter a vowel?\n",
    "\tif word[i] in vowels:\n",
    "\t\ti += 1     #if so, increment letter count\n",
    "\t\tcontinue   #...and exit current loop\n",
    "\ti += 1        #else, increment letter count\n",
    "\tcounter += 1  #increment consonant count\n",
    "else:\n",
    "    print('The word has',\n",
    "        counter,'consonant letters')\n"
   ]
  },
  {
   "cell_type": "markdown",
   "metadata": {},
   "source": [
    "## Excercises from the book (p. 54-55)"
   ]
  },
  {
   "cell_type": "markdown",
   "metadata": {},
   "source": [
    "3.1. Why does this fail? (*Easy: the error is your friend and will tell you!*)"
   ]
  },
  {
   "cell_type": "code",
   "execution_count": 26,
   "metadata": {},
   "outputs": [
    {
     "ename": "IndentationError",
     "evalue": "expected an indented block (<ipython-input-26-7fc6c32bbe58>, line 2)",
     "output_type": "error",
     "traceback": [
      "\u001b[0;36m  File \u001b[0;32m\"<ipython-input-26-7fc6c32bbe58>\"\u001b[0;36m, line \u001b[0;32m2\u001b[0m\n\u001b[0;31m    print('that shouldn't happen')\u001b[0m\n\u001b[0m        ^\u001b[0m\n\u001b[0;31mIndentationError\u001b[0m\u001b[0;31m:\u001b[0m expected an indented block\n"
     ]
    }
   ],
   "source": [
    "if 2 + 2 == 5:\n",
    "print('that shouldn't happen')\n",
    "    print('or this....')"
   ]
  },
  {
   "cell_type": "code",
   "execution_count": 67,
   "metadata": {},
   "outputs": [],
   "source": [
    "# The indentation is wrong"
   ]
  },
  {
   "cell_type": "markdown",
   "metadata": {},
   "source": [
    "3.2 Augment the recursive prefixation example on page 38 to handle three distinct prefixes. Assume that only identical prefixes can cooccur. (*Let us start this as a code reading exercise! What does this do?*)"
   ]
  },
  {
   "cell_type": "code",
   "execution_count": 52,
   "metadata": {},
   "outputs": [
    {
     "name": "stdout",
     "output_type": "stream",
     "text": [
      "missile\n",
      "anti-missile\n",
      "anti-anti-missile\n",
      "anti-anti-anti-missile\n",
      "racism\n",
      "anti-racism\n",
      "anti-anti-racism\n",
      "anti-anti-anti-racism\n",
      "music\n",
      "anti-music\n",
      "anti-anti-music\n",
      "anti-anti-anti-music\n"
     ]
    }
   ],
   "source": [
    "prefix = 'anti'\n",
    "words = ['missile', 'racism', 'music']\n",
    "\n",
    "for word in words:\n",
    "    print(word)\n",
    "    for i in range(3):\n",
    "        word = prefix + '-' + word\n",
    "        print(word)"
   ]
  },
  {
   "cell_type": "markdown",
   "metadata": {},
   "source": [
    "Now, let's make this work for three prefixes at once (instead of one): 'anti-', 'infra-' and 'counter-'."
   ]
  },
  {
   "cell_type": "markdown",
   "metadata": {},
   "source": [
    "3.3. Augment the recursive prefixation example above to handle three distinct\n",
    "prefixes. Assume that all prefixes can cooccur and any word can have up\n",
    "to three prefixes."
   ]
  },
  {
   "cell_type": "code",
   "execution_count": null,
   "metadata": {},
   "outputs": [],
   "source": [
    "# code here"
   ]
  },
  {
   "cell_type": "markdown",
   "metadata": {},
   "source": [
    "3.4. What’s wrong with the following code snippet?"
   ]
  },
  {
   "cell_type": "code",
   "execution_count": null,
   "metadata": {},
   "outputs": [],
   "source": [
    "count = 0\n",
    "while count < 3:\n",
    "    print(count)\n",
    "    count -= 1"
   ]
  },
  {
   "cell_type": "markdown",
   "metadata": {},
   "source": [
    "3.5. Make a chart that shows how the following would work step by step if we define word to be 'cat'."
   ]
  },
  {
   "cell_type": "code",
   "execution_count": 37,
   "metadata": {},
   "outputs": [
    {
     "name": "stdout",
     "output_type": "stream",
     "text": [
      "c\n",
      "a\n",
      "t\n",
      "\t c\n",
      "\t ca\n",
      "\t cat\n"
     ]
    }
   ],
   "source": [
    "word = 'cat'\n",
    "count = 0\n",
    "\n",
    "while count < len(word):\n",
    "    print(word[count])\n",
    "    count += 1\n",
    "\n",
    "othercount = 1 \n",
    "while othercount < (count + 1):\n",
    "    print('\\t', word[0 : othercount]) # the \\t might be new to you?\n",
    "    othercount += 1"
   ]
  },
  {
   "cell_type": "markdown",
   "metadata": {},
   "source": [
    "3.6. Why does the following code fail?"
   ]
  },
  {
   "cell_type": "code",
   "execution_count": 79,
   "metadata": {},
   "outputs": [
    {
     "ename": "KeyboardInterrupt",
     "evalue": "",
     "output_type": "error",
     "traceback": [
      "\u001b[0;31m---------------------------------------------------------------------------\u001b[0m",
      "\u001b[0;31mKeyboardInterrupt\u001b[0m                         Traceback (most recent call last)",
      "\u001b[0;32m<ipython-input-79-d85e3f3042f7>\u001b[0m in \u001b[0;36m<module>\u001b[0;34m\u001b[0m\n\u001b[1;32m      3\u001b[0m \u001b[0mcount\u001b[0m \u001b[0;34m=\u001b[0m \u001b[0;36m0\u001b[0m\u001b[0;34m\u001b[0m\u001b[0;34m\u001b[0m\u001b[0m\n\u001b[1;32m      4\u001b[0m \u001b[0;34m\u001b[0m\u001b[0m\n\u001b[0;32m----> 5\u001b[0;31m \u001b[0;32mwhile\u001b[0m \u001b[0mcount\u001b[0m \u001b[0;34m<\u001b[0m \u001b[0mlen\u001b[0m\u001b[0;34m(\u001b[0m\u001b[0mword\u001b[0m\u001b[0;34m)\u001b[0m\u001b[0;34m:\u001b[0m\u001b[0;34m\u001b[0m\u001b[0;34m\u001b[0m\u001b[0m\n\u001b[0m\u001b[1;32m      6\u001b[0m     \u001b[0mletter\u001b[0m \u001b[0;34m=\u001b[0m \u001b[0mword\u001b[0m\u001b[0;34m[\u001b[0m\u001b[0mcount\u001b[0m\u001b[0;34m]\u001b[0m\u001b[0;34m\u001b[0m\u001b[0;34m\u001b[0m\u001b[0m\n\u001b[1;32m      7\u001b[0m     \u001b[0;32mif\u001b[0m \u001b[0mletter\u001b[0m \u001b[0;32mnot\u001b[0m \u001b[0;32min\u001b[0m \u001b[0mvowels\u001b[0m\u001b[0;34m:\u001b[0m\u001b[0;34m\u001b[0m\u001b[0;34m\u001b[0m\u001b[0m\n",
      "\u001b[0;31mKeyboardInterrupt\u001b[0m: "
     ]
    }
   ],
   "source": [
    "word = 'alphabet'\n",
    "vowels = 'aeiou'\n",
    "count = 0\n",
    "\n",
    "while count < len(word):\n",
    "    letter = word[count]\n",
    "    if letter not in vowels:\n",
    "        print(letter)\n",
    "        count += 1"
   ]
  },
  {
   "cell_type": "markdown",
   "metadata": {},
   "source": [
    "3.7. Consider the snippet below. What happens if the `word` variable has no vowels?"
   ]
  },
  {
   "cell_type": "code",
   "execution_count": 45,
   "metadata": {},
   "outputs": [
    {
     "name": "stdout",
     "output_type": "stream",
     "text": [
      "l\n",
      "p\n",
      "h\n",
      "b\n",
      "t\n"
     ]
    }
   ],
   "source": [
    "word = 'alphabet'\n",
    "vowels = 'aeiou'\n",
    "count = 0\n",
    "\n",
    "while count < len(word):\n",
    "    letter = word[count]\n",
    "    if letter not in vowels:\n",
    "        print(letter)\n",
    "    count += 1"
   ]
  },
  {
   "cell_type": "markdown",
   "metadata": {},
   "source": [
    "3.8. This snippet uses a `continue` statement. Using a `break` instead would be wrong; why?"
   ]
  },
  {
   "cell_type": "markdown",
   "metadata": {},
   "source": [
    "3.8-3.10 (Skipped in class.)"
   ]
  },
  {
   "cell_type": "markdown",
   "metadata": {},
   "source": [
    "## Hidden section: Code Ninjas Only\n",
    "\n",
    "Challenging, but super-fun exercises (absolute classics in the world of Python tutorials):"
   ]
  },
  {
   "cell_type": "markdown",
   "metadata": {},
   "source": [
    "(1) The third person singular verb form in English is distinguished by the suffix -s, which is added to the stem of the infinitive form: run -> runs. A simple set of rules can be given as follows: \"If the verb ends in y, remove it and add ies. If the verb ends in o, ch, s, sh, x or z, add es. By default, just add s.\" Your task in this exercise is to write a code block which given a verb in infinitive form, prints its third person singular form. Test your function with words like \"try\", \"brush\", \"run\" and \"fix\". Can you think of verbs for which your code doesn't work? (Extra: Check out the string method .endswith() online and use it for extra brownie points!)"
   ]
  },
  {
   "cell_type": "markdown",
   "metadata": {},
   "source": [
    "(2) \"99 Bottles of Beer\" is a traditional song in the United States and Canada. It is popular to sing on long trips, as it has a very repetitive format which is easy to memorize, and can take a long time to sing. The song's simple lyrics are as follows: \"99 bottles of beer on the wall, 99 bottles of beer. Take one down, pass it around, 98 bottles of beer on the wall.\" The same verse is repeated, each time with one fewer bottle. The song is completed when the singer or singers reach \"98 bottles of beer on the wall\". Your task here is write a Python code block capable of generating all the verses of the song. Use a counter integer variable and a **while** loop. Make sure that your loop will come to an end!"
   ]
  },
  {
   "cell_type": "markdown",
   "metadata": {},
   "source": [
    "(3) ROT13 is a way to encode secret messages in cryptography. The name comes from Julius Caesar, who used it to communicate with his generals.ROT13 (\"rotate by 13 places\") is a widely used example of a Caesar cipher. The idea is to rotate or augment the position of each character in the alphabet with thirteen places. Your task in this exercise is to implement an encoder/decoder of ROT-13. For this, you will need to create a list containing each letter in the (lowercase) roman alphabet as well as the whitespace character. Once you're done, you will be able to read the following secret message: \"Pnrfne pvcure? V zhpu cersre Pnrfne fnynq!\""
   ]
  }
 ],
 "metadata": {
  "kernelspec": {
   "display_name": "Python 3",
   "language": "python",
   "name": "python3"
  },
  "language_info": {
   "codemirror_mode": {
    "name": "ipython",
    "version": 3
   },
   "file_extension": ".py",
   "mimetype": "text/x-python",
   "name": "python",
   "nbconvert_exporter": "python",
   "pygments_lexer": "ipython3",
   "version": "3.7.4"
  }
 },
 "nbformat": 4,
 "nbformat_minor": 4
}
