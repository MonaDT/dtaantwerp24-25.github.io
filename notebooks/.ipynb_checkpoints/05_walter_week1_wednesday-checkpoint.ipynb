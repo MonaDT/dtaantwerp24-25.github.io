{
 "cells": [
  {
   "cell_type": "markdown",
   "metadata": {},
   "source": [
    "# DTA Bootcamp\n",
    "\n",
    "### Session 23/9 Morning: control structures\n",
    "#### Hammond Chapter 3"
   ]
  },
  {
   "cell_type": "markdown",
   "metadata": {},
   "source": [
    "<font size=\"4\">\n",
    "    \n",
    "### What all programming languages have in common ###\n",
    "    \n",
    "- Datatypes \n",
    "    - and procedures operating on them\n",
    "- Tests and boolean operators combining them\n",
    "- Variables\n",
    "- Input and Output (Friday)\n",
    "- **Control structures**\n",
    "    - for conditions, loops, ...\n",
    "- A way of extending the language with your own procedures and datatypes\n",
    "    \n",
    "</font>"
   ]
  },
  {
   "cell_type": "markdown",
   "metadata": {},
   "source": [
    "### Conditions: ###\n",
    "#### if *test* : *do something* ####"
   ]
  },
  {
   "cell_type": "code",
   "execution_count": null,
   "metadata": {},
   "outputs": [],
   "source": [
    "x = 0\n",
    "if x == 0: \n",
    "    print('ok')  # Indentation is important!"
   ]
  },
  {
   "cell_type": "code",
   "execution_count": null,
   "metadata": {},
   "outputs": [],
   "source": [
    "x = 5\n",
    "if x > 0: \n",
    "    x = 0         # code block\n",
    "    print('ok')   # code block"
   ]
  },
  {
   "cell_type": "code",
   "execution_count": null,
   "metadata": {},
   "outputs": [],
   "source": [
    "x"
   ]
  },
  {
   "cell_type": "markdown",
   "metadata": {},
   "source": [
    "### Conditions can be nested ###"
   ]
  },
  {
   "cell_type": "code",
   "execution_count": null,
   "metadata": {},
   "outputs": [],
   "source": [
    "x = 5\n",
    "if x > 0:\n",
    "    print('ok')\n",
    "    if x < 10:\n",
    "        print('ok again')"
   ]
  },
  {
   "cell_type": "markdown",
   "metadata": {},
   "source": [
    "### Conditions: ###\n",
    "\n",
    "if *test*: *do something* \n",
    "\n",
    "elif *test*: *do something else* \n",
    "\n",
    "else: *if all has failed do this* "
   ]
  },
  {
   "cell_type": "code",
   "execution_count": null,
   "metadata": {},
   "outputs": [],
   "source": [
    "x = 1\n",
    "\n",
    "if isinstance(x, int):\n",
    "    print(\"integer number\")\n",
    "elif isinstance(x, float):\n",
    "    print(\"floating number\")\n",
    "elif isinstance(x, str):\n",
    "    print(\"it's a string\")\n",
    "else:\n",
    "    print(\"I have no idea\")"
   ]
  },
  {
   "cell_type": "code",
   "execution_count": null,
   "metadata": {},
   "outputs": [],
   "source": [
    "x = [1, 2]\n",
    "\n",
    "if isinstance(x, int):\n",
    "    print(\"integer number\")\n",
    "elif isinstance(x, float):\n",
    "    print(\"floating number\")\n",
    "elif isinstance(x, str):\n",
    "    print(\"it's a string\")\n",
    "else:\n",
    "    pass\n",
    "print(\"Did what I had to do\")"
   ]
  },
  {
   "cell_type": "markdown",
   "metadata": {},
   "source": [
    "### Loops ###\n",
    "#### for *each element* in *a sequence* *do something* ####"
   ]
  },
  {
   "cell_type": "code",
   "execution_count": null,
   "metadata": {},
   "outputs": [],
   "source": [
    "for letter in \"Wolf\":\n",
    "    print(letter)"
   ]
  },
  {
   "cell_type": "code",
   "execution_count": null,
   "metadata": {},
   "outputs": [],
   "source": [
    "for letter in \"Wolf\":\n",
    "    print(letter, sep=',', end=' ')"
   ]
  },
  {
   "cell_type": "code",
   "execution_count": null,
   "metadata": {},
   "outputs": [],
   "source": [
    "for x in ['a', 'b', 'c']:\n",
    "    print(x)"
   ]
  },
  {
   "cell_type": "code",
   "execution_count": null,
   "metadata": {},
   "outputs": [],
   "source": [
    "list_of_numbers = range(4, 10, 2)\n",
    "for number in list_of_numbers:\n",
    "    print(number)"
   ]
  },
  {
   "cell_type": "code",
   "execution_count": null,
   "metadata": {},
   "outputs": [],
   "source": [
    "# Sum all the numbers from 1 to 100\n",
    "\n",
    "result = 0\n",
    "for number in range(1,101):\n",
    "    #print(number, result)\n",
    "    result += number\n",
    "print(result)"
   ]
  },
  {
   "cell_type": "code",
   "execution_count": null,
   "metadata": {},
   "outputs": [],
   "source": [
    "### Note\n",
    "\n",
    "a = 0\n",
    "a += 1 # a = a + 1\n",
    "a\n"
   ]
  },
  {
   "cell_type": "code",
   "execution_count": null,
   "metadata": {},
   "outputs": [],
   "source": [
    "# Similarly for -= *= /= for numbers and strings\n",
    "\n",
    "s1 = \"banana\"\n",
    "s1 += \"pear\"\n",
    "\n",
    "s1"
   ]
  },
  {
   "cell_type": "markdown",
   "metadata": {},
   "source": [
    "### Strong programming pattern: loop + test ###"
   ]
  },
  {
   "cell_type": "code",
   "execution_count": null,
   "metadata": {},
   "outputs": [],
   "source": [
    "# Count the number of vowels in a word string\n",
    "\n",
    "vowels = \"aeiou\"\n",
    "word = \"fictitious\"\n",
    "\n"
   ]
  },
  {
   "cell_type": "code",
   "execution_count": null,
   "metadata": {},
   "outputs": [],
   "source": [
    "# Embedded loops and ifs\n",
    "\n",
    "# For each word in a list, check whether it is longer than 5 letters and if so, count the number of vowels\n",
    "\n",
    "words = ['I', 'like', 'the', 'words', 'serendipitous', 'and', 'fictitious']\n"
   ]
  },
  {
   "cell_type": "markdown",
   "metadata": {},
   "source": [
    "### Exercises: filters, counters, transformations ###"
   ]
  },
  {
   "cell_type": "code",
   "execution_count": null,
   "metadata": {},
   "outputs": [],
   "source": [
    "# Important programming clichés are the filter, the counter, and the transfomation\n",
    "\n",
    "# Make a filter fo words starting with an 'a'\n",
    "# Input: a list of words, output: the words that start with the letter a\n",
    "\n",
    "words = ['apple', 'google', 'microsoft', 'facebook', 'amazon', 'oracle']\n"
   ]
  },
  {
   "cell_type": "code",
   "execution_count": null,
   "metadata": {},
   "outputs": [],
   "source": [
    "# make a filter for palindromes. Input: list of words, output a list of the input words that are palindromes\n",
    "\n",
    "words = ['abba', 'point', 'madam', 'feline', 'level']\n",
    "\n"
   ]
  },
  {
   "cell_type": "code",
   "execution_count": null,
   "metadata": {},
   "outputs": [],
   "source": [
    "# make a counter for 5-letter words. Input: a list of words, output: the number of words 5 letters long\n",
    "\n",
    "words = ['abba', 'point', 'madam', 'feline', 'level', 'apple', 'google', 'microsoft', 'facebook', 'amazon', 'oracle']\n",
    "\n"
   ]
  },
  {
   "cell_type": "code",
   "execution_count": null,
   "metadata": {},
   "outputs": [],
   "source": [
    "# make a transformer that translates a word string to a list where each letter in a word is represented by its number \n",
    "# in the alphabet (a = 1, .... z = 26)\n",
    "# Input \"bootcamp\"  -> output: [2, 15, 15, 20, 3, 1, 13, 16]\n",
    "\n",
    "alphabet = 'abcdefghijklmnopqrstuvwxyz'\n",
    "word = 'bootcamp'\n",
    "\n"
   ]
  },
  {
   "cell_type": "code",
   "execution_count": null,
   "metadata": {},
   "outputs": [],
   "source": [
    "# what if .index() would not exist?\n",
    "\n"
   ]
  },
  {
   "cell_type": "code",
   "execution_count": null,
   "metadata": {},
   "outputs": [],
   "source": [
    "# Make a filter that takes a word string as input and returns two lists: one with the vowels and one with the consonants.\n",
    "# Input: 'probabilistic', Output: [['p', 'r', 'b'. 'b', 'l', 's', 't', 'c']['o', 'a', 'i', 'i', 'i']]\n",
    "# Adapt the code in such a way that each letter occurs only once in vowels and consonants\n",
    "# Output: [['p', 'r', 'b', 'l', 's', 't', 'c']['o', 'a', 'i']]\n",
    "# Adapt the code in such a way that the letters occur only once and in alphabetic order\n",
    "# Output: [['b', 'c', 'l', 'p', 'r', 's', 't']['a', 'i', 'o']]\n"
   ]
  },
  {
   "cell_type": "code",
   "execution_count": null,
   "metadata": {},
   "outputs": [],
   "source": [
    "# Make a transformation that takes a word string as input\n",
    "# the output consists of the first letter, the consonants in the order in which they occur in the word, and the length of the word.\n",
    "# Input: \"Bootcamp\", Output: \"Btcmp8\""
   ]
  },
  {
   "cell_type": "code",
   "execution_count": null,
   "metadata": {},
   "outputs": [],
   "source": []
  }
 ],
 "metadata": {
  "kernelspec": {
   "display_name": "Python 3",
   "language": "python",
   "name": "python3"
  },
  "language_info": {
   "codemirror_mode": {
    "name": "ipython",
    "version": 3
   },
   "file_extension": ".py",
   "mimetype": "text/x-python",
   "name": "python",
   "nbconvert_exporter": "python",
   "pygments_lexer": "ipython3",
   "version": "3.7.4"
  }
 },
 "nbformat": 4,
 "nbformat_minor": 4
}
