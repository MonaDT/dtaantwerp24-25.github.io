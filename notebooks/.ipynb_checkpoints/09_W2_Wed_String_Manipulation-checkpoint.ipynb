{
 "cells": [
  {
   "cell_type": "markdown",
   "metadata": {},
   "source": [
    "<div style=\"background-color:lightgrey;\n",
    "            padding:10px;\n",
    "            color:black;\n",
    "            border:black dashed 2px; \n",
    "            border-radius:5px;\n",
    "            margin: 20px 0;\">\n",
    "            \n",
    "            \n",
    "# String Manipulation\n",
    "\n",
    "\n",
    "\n",
    "**Staff:** Joshua Schäuble <br/>\n",
    "**Support Material:** [Exercises](https://github.com/dtaantwerp/dtaantwerp.github.io/blob/12b652d6955e285f35484c4220b4bb92b7fd9644/exercises/08_text_manipulation.ipynb) <br/>\n",
    "**Support Sessions:**  Thursday October 7\n",
    "\n",
    "</div>\n",
    "\n",
    "\n",
    "## 1. Introduction\n",
    "As we learned before, strings are a *data type* (other data types we looked at: `bool`, `int`, `float`, `tuple`, `list`, `dict`, ...). In this session we will learn how to manipulate strings by looking at two of their main characteristics: (1) Strings are ordered sequences of characters and (2) strings are so-called objects. The latter will be explained in detail only in week 3. However, we can already attempt to understand what it means in practice today.\n",
    "\n",
    "## 2. Strings as Sequences / Sequence Operations on Strings\n",
    "\n",
    "Strings are a sequential data type. A string is an ordered sequence of characters. We can use this characteristic to manipulate strings with **sequence operations**, some of which we have already used in previous sessions. For example, we can add strings together or multiply them. The most important sequence operations will be introduced here:\n",
    "\n",
    "### 2.1 Concatenating strings with `+`\n",
    "When applied to numbers (integer or float) the plus operator (`+`) processes a mathematical addition. When used on strings, the `+` operator concatenates two or more strings into a new one."
   ]
  },
  {
   "cell_type": "code",
   "execution_count": 1,
   "metadata": {},
   "outputs": [],
   "source": [
    "#CODE"
   ]
  },
  {
   "cell_type": "markdown",
   "metadata": {},
   "source": [
    "### 2.2 Multiplying strings with `*` \n",
    "Although this is not used very often, strings can also be multiplied with the multiplication operator, which we also know from numerical data types:"
   ]
  },
  {
   "cell_type": "code",
   "execution_count": 2,
   "metadata": {},
   "outputs": [],
   "source": [
    "#CODE"
   ]
  },
  {
   "cell_type": "markdown",
   "metadata": {},
   "source": [
    "Can you guess what will be printed by executing the block below?"
   ]
  },
  {
   "cell_type": "code",
   "execution_count": null,
   "metadata": {},
   "outputs": [],
   "source": [
    "#CODE\n"
   ]
  },
  {
   "cell_type": "markdown",
   "metadata": {},
   "source": [
    "### 2.3 Slicing Strings via the Character Index\n",
    "\n",
    "Strings are ordered sequences of characters. This means, every character of the sequence has a position or index. The index starts at 0 and increases from left to right.\n",
    "\n",
    "| mytext =  | \" | H | e | l | l | o |   | W | o | r | l | d  | \" |\n",
    "|-----------|---|---|---|---|---|---|---|---|---|---|---|----|---|\n",
    "| Index     |   | 0 | 1 | 2 | 3 | 4 | 5 | 6 | 7 | 8 | 9 | 10 |   |\n",
    "\n",
    "The following examples will show how we can cut out slices of a string by using the index."
   ]
  },
  {
   "cell_type": "code",
   "execution_count": 3,
   "metadata": {},
   "outputs": [],
   "source": [
    "mytext = \"Hello World\"\n",
    "#CODE\n",
    "\n",
    "\n",
    "\n"
   ]
  },
  {
   "cell_type": "markdown",
   "metadata": {},
   "source": [
    "We can also access the index from right to left. The last index position is always [-1].\n",
    "\n",
    "| mytext =  | \" | H   | e   | l  | l  | o  |    | W  | o  | r  | l  | d  | \" |\n",
    "|-----------|---|-----|-----|----|----|----|----|----|----|----|----|----|---|\n",
    "| Index     |   | -11 | -10 | -9 | -8 | -7 | -6 | -5 | -4 | -3 | -2 | -1 |   |"
   ]
  },
  {
   "cell_type": "code",
   "execution_count": 4,
   "metadata": {},
   "outputs": [],
   "source": [
    "#CODE\n",
    "\n",
    "\n"
   ]
  },
  {
   "cell_type": "markdown",
   "metadata": {},
   "source": [
    "Note:\n",
    "- Take care! Don't access none-existing negative indexes.  `print (mytext[-15])` will cause an error!\n",
    "- We can only use the index to access the sequence, but not to alter it directly:"
   ]
  },
  {
   "cell_type": "code",
   "execution_count": 5,
   "metadata": {},
   "outputs": [],
   "source": [
    "#CODE\n",
    "\n"
   ]
  },
  {
   "cell_type": "markdown",
   "metadata": {},
   "source": [
    "### 2.4 The functions `len(string)`, `min(string)` and `max(string)`\n",
    "The function `len(string)` takes a string as an argument and returns the length (= number of characters) of the string as an integer:"
   ]
  },
  {
   "cell_type": "code",
   "execution_count": 6,
   "metadata": {},
   "outputs": [],
   "source": [
    "#CODE\n"
   ]
  },
  {
   "cell_type": "markdown",
   "metadata": {},
   "source": [
    "The function min(string) returns the smallest character of the string. Correspondingly, the function max(string) returns the largest character in the string. \n",
    "\n",
    "The order (small to large) is: special characters --> numbers --> capital letters A-Z -> lowercase letters a-z"
   ]
  },
  {
   "cell_type": "code",
   "execution_count": 7,
   "metadata": {},
   "outputs": [],
   "source": [
    "#CODE\n",
    "\n"
   ]
  },
  {
   "cell_type": "markdown",
   "metadata": {},
   "source": [
    "### 2.5 The comparison operators `in` and `not in`\n",
    "\n",
    "With the operators `in` and `not in` we can test if a character or string is (not) included in another string. The comparison returns a boolean value (*True* or *False*)"
   ]
  },
  {
   "cell_type": "code",
   "execution_count": 8,
   "metadata": {},
   "outputs": [],
   "source": [
    "#CODE\n"
   ]
  },
  {
   "cell_type": "markdown",
   "metadata": {},
   "source": [
    "## 3. Strings as Objects: Manipulating Strings with *Object-Methods*"
   ]
  },
  {
   "cell_type": "markdown",
   "metadata": {},
   "source": [
    "Strings are *objects*. To understand objects, we need more concepts than we currently know. Hence, we will only learn in week 3 what precisely objects are. However, in this lecture we can already try to understand string objects simply by using them.  \n",
    "\n",
    "Each instance of an object (here: each *string*) has predefined object functions (so-called *methods*) attached to it. These methods can be used to get information about the object and to manipulate the object. \n",
    "\n",
    "In comparison to normal functions (such as `print(string)` and `len(string)`), methods are always attached to a specific instance of the object. Therefore, the object does not need to be passed into the function as a parameter (as we would do in `print(string)`). Instead, it is called for a specific instance (this will get clear in a moment).\n",
    "\n",
    "To explain the difference between a normal function and a method, we can use the following methaphor. A normal function is like a speed camera at the side of the road. It detects the speed of any car with speed sensors. It generally works on all cars, but not on animals that pass the camera. A method on the other hand is like the speedometer of a specific car. It also measures the speed, but only of the specific car (= object) it is connected to. Every car object has its own speedometer attached to it.\n",
    "\n",
    "Following the same logic, string objects have specific methods attached to them. A selection of these methods will be introduced here.\n"
   ]
  },
  {
   "cell_type": "markdown",
   "metadata": {},
   "source": [
    "### 3.1 String.format()\n",
    "The method `string.format()` allows to add placeholders to a string and fill them on demand."
   ]
  },
  {
   "cell_type": "code",
   "execution_count": 9,
   "metadata": {},
   "outputs": [],
   "source": [
    "#CODE\n"
   ]
  },
  {
   "cell_type": "code",
   "execution_count": 10,
   "metadata": {},
   "outputs": [],
   "source": [
    "#CODE\n"
   ]
  },
  {
   "cell_type": "markdown",
   "metadata": {},
   "source": [
    "Note: `string.format()` accepts integers and automatically transforms them into strings (= type casting). This does not work with the plus operator we learned above:"
   ]
  },
  {
   "cell_type": "code",
   "execution_count": 11,
   "metadata": {},
   "outputs": [],
   "source": [
    "#CODE\n"
   ]
  },
  {
   "cell_type": "code",
   "execution_count": 12,
   "metadata": {},
   "outputs": [],
   "source": [
    "#CODE\n"
   ]
  },
  {
   "cell_type": "code",
   "execution_count": 13,
   "metadata": {},
   "outputs": [],
   "source": [
    "#CODE\n"
   ]
  },
  {
   "cell_type": "markdown",
   "metadata": {},
   "source": [
    "### 3.2 string.count(substring)\n",
    "`string.count(substring)` allows us to count how often a given substring occurs in the string:"
   ]
  },
  {
   "cell_type": "code",
   "execution_count": 14,
   "metadata": {},
   "outputs": [],
   "source": [
    "myword = \"butterpot\"\n",
    "#CODE\n"
   ]
  },
  {
   "cell_type": "code",
   "execution_count": 15,
   "metadata": {},
   "outputs": [],
   "source": [
    "myText = \"Paranoids are not paranoid because they’re paranoid, but because they keep putting themselves deliberately into paranoid situations.\"\n",
    "#CODE\n"
   ]
  },
  {
   "cell_type": "markdown",
   "metadata": {},
   "source": [
    "### 3.3 `String.replace(what, with)` and `String.replace(what, with, count)`\n",
    "`string.replace()` allows us to replace selected parts of a string with another string. We can either replace all occurances or a define a maximum number."
   ]
  },
  {
   "cell_type": "code",
   "execution_count": 16,
   "metadata": {},
   "outputs": [],
   "source": [
    "my_text = \"Death\"\n",
    "#CODE\n"
   ]
  },
  {
   "cell_type": "code",
   "execution_count": 17,
   "metadata": {},
   "outputs": [],
   "source": [
    "my_text = \"Hurry Harry! We are late\"\n",
    "#CODE\n"
   ]
  },
  {
   "cell_type": "markdown",
   "metadata": {},
   "source": [
    "### 3.4 Find the index of a substring:  `string.find()`, `string.rfind()` (and `string.index()`)\n",
    "Sometimes it is useful to identify where within a string we find a given substring. To identify the index (= position), we can use the methods `string.find(what)` and `string.rfind(what)`. \n",
    "\n",
    "- `string.find(what)` returns the lowest index of the string *what* in the *string*. If *what* is not found, it returns -1.\n",
    "\n",
    "- `string.rfind(what)` returns the highest index of the string *what* in the *string*. If *what* is not found, it returns -1."
   ]
  },
  {
   "cell_type": "code",
   "execution_count": 18,
   "metadata": {},
   "outputs": [],
   "source": [
    "my_word = \"Butterbeer\"\n",
    "#CODE\n"
   ]
  },
  {
   "cell_type": "markdown",
   "metadata": {},
   "source": [
    "Equally, we can use `string.index(what)` and `string.rindex(what)`. However,these two functions return an error if the searched substring is not found.\n",
    "\n",
    "> *Tip*: Only use these two, if you are certain that the substring occurs in the string, or if you add error-handling (`try`-`except`)."
   ]
  },
  {
   "cell_type": "markdown",
   "metadata": {},
   "source": [
    "### 3.5 Cases: Switch from uppercase to lowercase\n",
    "\n",
    "Python provides a serious of methods for strings to change cases:\n",
    "\n",
    "- `string:capitalize()`: changes the first character of the string to uppercase\n",
    "- `string:title()`: changes the first character of **each word** to uppercase\n",
    "- `string:upper()`: changes all characters of the string to uppercase\n",
    "- `string:lower()`: changes all characters of the string to lowercase\n",
    "- `string:swapcase()`: changes the case of all characters - uppercase to lowercase and vice versa\n",
    "- `string:casefold()`: more aggressive lowercase-transformation for special characters, e.g. German ß --> ss. This function is useful to test if two strings differ only in their cases."
   ]
  },
  {
   "cell_type": "code",
   "execution_count": 7,
   "metadata": {},
   "outputs": [
    {
     "name": "stdout",
     "output_type": "stream",
     "text": [
      "This is a sentence.\n",
      "This Is A Sentence.\n",
      "THIS IS A SENTENCE.\n",
      "this is a sentence.\n",
      "This Is A Sentence.\n",
      "tHIS iS a sENTENCE.\n",
      "Fluß and fluss are basically the same.\n"
     ]
    }
   ],
   "source": [
    "#CODE\n"
   ]
  },
  {
   "cell_type": "markdown",
   "metadata": {},
   "source": [
    "***Additionally***, there are some methods to check what case the string is in. These methods return `True` or `False`, i.e. a boolean:\n",
    "\n",
    "- `string.islower()`: returns `True` if all characters are lowercase.\n",
    "- `string.isupper()`: returns `True` if all characters are uppercase.\n",
    "- `string.isTitle()`: returns `True` if the first character of each word is uppercase and all other characters are lowercase."
   ]
  },
  {
   "cell_type": "code",
   "execution_count": 19,
   "metadata": {},
   "outputs": [],
   "source": [
    "#CODE\n"
   ]
  },
  {
   "cell_type": "code",
   "execution_count": 20,
   "metadata": {},
   "outputs": [],
   "source": [
    "#CODE\n"
   ]
  },
  {
   "cell_type": "code",
   "execution_count": 21,
   "metadata": {},
   "outputs": [],
   "source": [
    "#CODE\n"
   ]
  },
  {
   "cell_type": "markdown",
   "metadata": {},
   "source": [
    "### 3.6 Handling Whitespaces\n",
    "Whitespaces are often a problem. For example, if we want to compare if two strings are the same - except for double whitespaces and linebreaks. To handle such whitespace problems, Python provides a series of string methods.\n",
    "\n",
    "- `string.strip()`: removes whitespaces at the beginning AND end of a string\n",
    "- `string.lstrip()`: removes whitespaces at the beginning (l for left) of the string\n",
    "- `string.rstrip()`: removes whitespaces at the end (r for right) ot the string"
   ]
  },
  {
   "cell_type": "code",
   "execution_count": 22,
   "metadata": {},
   "outputs": [],
   "source": [
    "#CODE\n"
   ]
  },
  {
   "cell_type": "markdown",
   "metadata": {},
   "source": [
    "Equally, we can add whitespaces at the beginning and/or end of a string, until it has a desired length. This can be useful to format our output.\n",
    "\n",
    "- `string.center(length)`: adds whitespaces at the beginning AND end of a string, until the string has stringLength\n",
    "- `string.ljust(length)`: adds (howmany) whitespace at the beginning (l for left) of the string\n",
    "- `string.rjust(length)`: adds (howmany) whitespace at the end (r for right) ot the string\n",
    "\n",
    "In the following example 2 sentences are printed several times. Note how the first sentence is extended with whitespaces and how this indents the second sentence neatly to always start at the same position. "
   ]
  },
  {
   "cell_type": "code",
   "execution_count": 23,
   "metadata": {},
   "outputs": [],
   "source": [
    "#CODE\n"
   ]
  },
  {
   "cell_type": "markdown",
   "metadata": {},
   "source": [
    "Optionally, we can give a second parameter on these 3 functions, to customize which character is added (instead of a whitespace). Here are the same 4 prints again, but with an underscore \"_\" as a delimiter:"
   ]
  },
  {
   "cell_type": "code",
   "execution_count": 24,
   "metadata": {},
   "outputs": [],
   "source": [
    "#CODE\n"
   ]
  },
  {
   "cell_type": "markdown",
   "metadata": {},
   "source": [
    "### 3.7 Leading Zeros when Printing Numbers as Strings:\n",
    "To print numbers, we must convert them into strings. Often we want to add leading zeros for a better looking format. This can be achieved with the method `string.zfill(width)`"
   ]
  },
  {
   "cell_type": "code",
   "execution_count": 25,
   "metadata": {},
   "outputs": [],
   "source": [
    "#CODE\n"
   ]
  },
  {
   "cell_type": "markdown",
   "metadata": {},
   "source": [
    "A common way of using this, is to first identify the length of the highest number of a set (tuple, list or dictionary), and then to add leading zeros to all numbers according to the highest number's length."
   ]
  },
  {
   "cell_type": "code",
   "execution_count": 26,
   "metadata": {},
   "outputs": [],
   "source": [
    "#a list of random numbers (feel free to add more)\n",
    "list_of_numbers = [12312,765,1233212,23,923681233,15613183,8,345345,43]\n",
    "\n",
    "#CODE\n",
    "#CODE\n",
    "#CODE\n"
   ]
  },
  {
   "cell_type": "markdown",
   "metadata": {},
   "source": [
    "### 3.8 What's in the String? Inspecting Numeric and Alphabetical Strings\n",
    "\n",
    "With the following functions we can inspect our strings to a certain degree. For more complex tests we will learn so-called regular expressions at a later stage.\n",
    "\n",
    "- `string.isdigit()`: returns `True` if the string contains only the digits 0,1,2,3,4,5,6,7,8 and 9 (but also in supscript)"
   ]
  },
  {
   "cell_type": "code",
   "execution_count": 10,
   "metadata": {},
   "outputs": [
    {
     "name": "stdout",
     "output_type": "stream",
     "text": [
      "False\n",
      "False\n",
      "False\n",
      "False\n",
      "False\n",
      "False\n",
      "True\n",
      "True\n",
      "True\n"
     ]
    }
   ],
   "source": [
    "print(\"5 apples\".isdigit()) # False\n",
    "print(\"5 32 34\".isdigit())  # False\n",
    "print(\"532.34\".isdigit())   # False\n",
    "print(\"532,34\".isdigit())   # False\n",
    "print(\" 53234 \".isdigit())  # False --> leading whitespaces!\n",
    "\n",
    "print(\"一二三四五\".isdigit()) # False --> these are Chinese numbers\n",
    "\n",
    "print(\"53234\".isdigit())    # True\n",
    "print(\"053234\".isdigit())   # True\n",
    "\n",
    "print(\"2²\".isdigit())       # True --> 2nd power of 2 (the subscript 2) is considered a digit!"
   ]
  },
  {
   "cell_type": "markdown",
   "metadata": {},
   "source": [
    "- `string.isnumeric()`: very similar to `string.isdigit()`, but it also considers numeric characters in other languages, such as the Chinese characters 一，二，三，四， 五...  Note: for English/Dutch writing `string.isdigit()` usually does the trick!"
   ]
  },
  {
   "cell_type": "code",
   "execution_count": 11,
   "metadata": {},
   "outputs": [
    {
     "name": "stdout",
     "output_type": "stream",
     "text": [
      "False\n",
      "False\n",
      "False\n",
      "False\n",
      "False\n",
      "True\n",
      "True\n",
      "True\n",
      "True\n"
     ]
    }
   ],
   "source": [
    "print(\"5 apples\".isnumeric())    #False\n",
    "print(\"5 32 34\".isnumeric())     #False\n",
    "print(\"532.34\".isnumeric())      #False\n",
    "print(\"532,34\".isnumeric())      #False\n",
    "print(\" 53234 \".isnumeric())     #False --> leading whitespaces!\n",
    "\n",
    "print(\"53234\".isnumeric())       #True\n",
    "\n",
    "print(\"一二三四五\".isnumeric())   #True\n",
    "print(\"一二三四五23\".isnumeric()) #True --> Take care, this number is dubious, but the method does not care!\n",
    "\n",
    "print(\"2²\".isnumeric())         #True --> 2nd power of 2 (the subscript 2) is considered numeric!"
   ]
  },
  {
   "cell_type": "markdown",
   "metadata": {},
   "source": [
    "To make the confusion complete, there is a third method to check if a string contains numbers:\n",
    "- `string.isdecimal()`: Returns true ONLY for the digits 0,1,2,3,4,5,6,7,8 and 9 and NO subscritps!"
   ]
  },
  {
   "cell_type": "code",
   "execution_count": 100,
   "metadata": {},
   "outputs": [
    {
     "name": "stdout",
     "output_type": "stream",
     "text": [
      "True\n",
      "False\n",
      "False\n"
     ]
    }
   ],
   "source": [
    "print(\"22\".isdecimal())   #True\n",
    "print(\"2²\".isdecimal())   #False  (string.isnumeric() and string.isdigit are True here!)\n",
    "print(\"三四\".isdecimal()) #False  (string.isnumeric() is True here, string.isDigit() is also false here!)"
   ]
  },
  {
   "cell_type": "markdown",
   "metadata": {},
   "source": [
    "- `string.isalnum()`: Returns true if the string contains only alphabetical characters and/or numbers\n",
    "- `string.isalpha()`: Returns true if the string contains only alphabetical characters"
   ]
  },
  {
   "cell_type": "code",
   "execution_count": 90,
   "metadata": {},
   "outputs": [
    {
     "name": "stdout",
     "output_type": "stream",
     "text": [
      "False\n",
      "True\n"
     ]
    }
   ],
   "source": [
    "print(\"7 eagles flew over the 3 mountains\".isalnum()) # False --> whitespace is neither alphabetical nor numeric\n",
    "print(\"7eaglesflewoverthe3mountains\".isalnum())       # True"
   ]
  },
  {
   "cell_type": "code",
   "execution_count": 42,
   "metadata": {},
   "outputs": [
    {
     "name": "stdout",
     "output_type": "stream",
     "text": [
      "False\n",
      "False\n",
      "True\n"
     ]
    }
   ],
   "source": [
    "print(\"7 eagles flew over the 3 mountains\".isalpha())   # False --> whitespace is not alphabetical\n",
    "print(\"7eaglesflewoverthe3mountains\".isalpha())         # False --> 7 and 3 are not alphabetical\n",
    "print(\"seveneaglesflewoverthethreemountains\".isalpha()) # True"
   ]
  },
  {
   "cell_type": "markdown",
   "metadata": {},
   "source": [
    "### 3.9 Splitting Strings into Lists\n",
    "\n",
    "Often we want to split a string into a list (and process them e.g. into dictionaries or dataframes). This is the basis to tokenize texts, e.g. to count all words, to normalize them, find word stems, and word frequency distributions (most/least common words). The simplest way to turn a string into a list of word tokens is by splitting the string at all whitespace characters (not a perfect solution!):\n",
    "\n",
    "- `string.split()`: Splits a string into a list, with whitespace as a default delimiter\n",
    "- `string.split(\",\")`: Use the comma as a delimiter to split the string"
   ]
  },
  {
   "cell_type": "code",
   "execution_count": 43,
   "metadata": {},
   "outputs": [
    {
     "name": "stdout",
     "output_type": "stream",
     "text": [
      "['However,', 'the', 'cat', 'was', 'sad.']\n",
      "However,\n"
     ]
    }
   ],
   "source": [
    "my_sentence = \"However, the cat was sad.\"\n",
    "#CODE\n",
    "\n"
   ]
  },
  {
   "cell_type": "code",
   "execution_count": 44,
   "metadata": {},
   "outputs": [
    {
     "name": "stdout",
     "output_type": "stream",
     "text": [
      "['However', ' the cat was sad.']\n",
      "However\n",
      " the cat was sad.\n"
     ]
    }
   ],
   "source": [
    "my_sentence = \"However, the cat was sad.\"\n",
    "#CODE\n"
   ]
  },
  {
   "cell_type": "markdown",
   "metadata": {},
   "source": [
    "Sometimes we want to split a string into 3 parts: a part *before* a certain word/phrase, the phrase, and the part: *after* the phrase. This can be achieved with \n",
    "\n",
    "- `string.partition(separatingString)`: splits a string into a 3-item tuple at the first occurence of the separatingString\n",
    "- `string.rpartition(separatingString)`: splits a string into a 3-item tuple at the last occurence of the separatingString"
   ]
  },
  {
   "cell_type": "code",
   "execution_count": 45,
   "metadata": {},
   "outputs": [
    {
     "name": "stdout",
     "output_type": "stream",
     "text": [
      "('My ', 'cat', ' is the most beautiful cat in the world.')\n",
      "('My cat is the most beautiful ', 'cat', ' in the world.')\n"
     ]
    }
   ],
   "source": [
    "sentence = \"My cat is the most beautiful cat in the world.\"\n",
    "# Split at first cat. note: 3-item tuple, not a list!\n",
    "#CODE\n",
    "\n",
    "\n",
    "# Split at last cat. \n",
    "#CODE\n"
   ]
  },
  {
   "cell_type": "markdown",
   "metadata": {},
   "source": [
    "Often we need to split a multi-line string into a list of lines. This is achieved with the method `string.splitlines()`.\n",
    "- `string.splitlines()`: Splits string into list of lines with all linebreak characters as a delimiter"
   ]
  },
  {
   "cell_type": "code",
   "execution_count": 27,
   "metadata": {},
   "outputs": [],
   "source": [
    "multiline = \"\"\"This is one way\n",
    "of writing a multiline string\n",
    "in Python. Simply use\n",
    "three quotation marks at\n",
    "the beginning and the\n",
    "end.\"\"\"\n",
    "\n",
    "#CODE\n"
   ]
  },
  {
   "cell_type": "code",
   "execution_count": 28,
   "metadata": {},
   "outputs": [],
   "source": [
    "multiline2 =  \"This is another\\nway of doing the same,\\nbut this time I use backslash-n to start a new\\nline\"\n",
    "\n",
    "#CODE\n"
   ]
  },
  {
   "cell_type": "code",
   "execution_count": null,
   "metadata": {},
   "outputs": [],
   "source": []
  }
 ],
 "metadata": {
  "kernelspec": {
   "display_name": "Python 3",
   "language": "python",
   "name": "python3"
  },
  "language_info": {
   "codemirror_mode": {
    "name": "ipython",
    "version": 3
   },
   "file_extension": ".py",
   "mimetype": "text/x-python",
   "name": "python",
   "nbconvert_exporter": "python",
   "pygments_lexer": "ipython3",
   "version": "3.7.4"
  }
 },
 "nbformat": 4,
 "nbformat_minor": 4
}
