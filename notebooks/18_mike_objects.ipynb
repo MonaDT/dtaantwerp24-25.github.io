{
 "cells": [
  {
   "cell_type": "markdown",
   "metadata": {},
   "source": [
    "# Objects in Python\n",
    "*Baking code cookies with Plato*"
   ]
  },
  {
   "cell_type": "markdown",
   "metadata": {},
   "source": [
    "## The Eternal Exercise"
   ]
  },
  {
   "cell_type": "markdown",
   "metadata": {},
   "source": [
    "Let's start this class with our \"eternal\" exercise: constructing a character-level frequency distribution of a string, using a `dict`. Let's start from the first lines of Virgil's *Aeneid*. You know the drill by now."
   ]
  },
  {
   "cell_type": "code",
   "execution_count": 294,
   "metadata": {},
   "outputs": [],
   "source": [
    "aeneid = \"\"\"Arma virumque cano, Troiae qui primus ab oris\n",
    "Italiam fato profugus Lavinaque venit\n",
    "litora—multum ille et terris iactatus et alto\n",
    "vi superum, saevae memorem Iunonis ob iram,\n",
    "5 multa quoque et bello passus, dum conderet urbem\n",
    "inferretque deos Latio; genus unde Latinum\n",
    "Albanique patres atque altae moenia Romae.\n",
    "Musa, mihi causas memora, quo numine laeso\n",
    "quidve dolens regina deum tot volvere casus\n",
    "10 insignem pietate virum, tot adire labores\n",
    "impulerit. tantaene animis caelestibus irae?\"\"\""
   ]
  },
  {
   "cell_type": "markdown",
   "metadata": {},
   "source": [
    "Let us start with the simplest approach and explore some variations:"
   ]
  },
  {
   "cell_type": "code",
   "execution_count": 295,
   "metadata": {},
   "outputs": [
    {
     "name": "stdout",
     "output_type": "stream",
     "text": [
      "{'A': 2, 'r': 25, 'm': 26, 'a': 42, ' ': 63, 'v': 9, 'i': 36, 'u': 35, 'q': 10, 'e': 51, 'c': 6, 'n': 21, 'o': 25, ',': 7, 'T': 1, 'p': 7, 's': 26, 'b': 7, '\\n': 10, 'I': 2, 't': 30, 'l': 17, 'f': 3, 'g': 4, 'L': 3, '—': 1, '5': 1, 'd': 8, ';': 1, 'R': 1, '.': 2, 'M': 1, 'h': 1, '1': 1, '0': 1, '?': 1}\n"
     ]
    }
   ],
   "source": [
    "d = {}\n",
    "\n",
    "for char in aeneid:\n",
    "    if char in d:\n",
    "        d[char] += 1\n",
    "    else:\n",
    "        d[char] = 1\n",
    "\n",
    "print(d)"
   ]
  },
  {
   "cell_type": "markdown",
   "metadata": {},
   "source": [
    "Implement the following simple extensions, step by step:\n",
    "- make sure all characters are lowercased\n",
    "- ignore all punctuation symbols\n",
    "- ignore all whitespace characters\n",
    "- ignore digits (cf. line numbering)\n",
    "- print the three characters with the highest frequency (i.e. \"sort and slice\")"
   ]
  },
  {
   "cell_type": "code",
   "execution_count": 296,
   "metadata": {},
   "outputs": [],
   "source": [
    "# code for variations here"
   ]
  },
  {
   "cell_type": "markdown",
   "metadata": {},
   "source": [
    "This exercise is important because, if you understand the components well, you can introduce minor adaptations to the code that will help you solve a wide range of related problems (like filtering). We will use this standard of block of code today to introduce two additional concepts in Python: (1) Exceptions and (2) Objects."
   ]
  },
  {
   "cell_type": "markdown",
   "metadata": {},
   "source": [
    "## Exceptions"
   ]
  },
  {
   "cell_type": "markdown",
   "metadata": {},
   "source": [
    "The `if`/`else` statement in our exercise is necessary, because we cannot increment the frequency for a particular character, if we didn't **initialize** that count in the first place:"
   ]
  },
  {
   "cell_type": "code",
   "execution_count": 297,
   "metadata": {},
   "outputs": [
    {
     "ename": "KeyError",
     "evalue": "'A'",
     "output_type": "error",
     "traceback": [
      "\u001b[0;31m---------------------------------------------------------------------------\u001b[0m",
      "\u001b[0;31mKeyError\u001b[0m                                  Traceback (most recent call last)",
      "\u001b[0;32m<ipython-input-297-b52cc4b9b96d>\u001b[0m in \u001b[0;36m<module>\u001b[0;34m\u001b[0m\n\u001b[1;32m      2\u001b[0m \u001b[0;34m\u001b[0m\u001b[0m\n\u001b[1;32m      3\u001b[0m \u001b[0;32mfor\u001b[0m \u001b[0mchar\u001b[0m \u001b[0;32min\u001b[0m \u001b[0maeneid\u001b[0m\u001b[0;34m:\u001b[0m\u001b[0;34m\u001b[0m\u001b[0;34m\u001b[0m\u001b[0m\n\u001b[0;32m----> 4\u001b[0;31m     \u001b[0md\u001b[0m\u001b[0;34m[\u001b[0m\u001b[0mchar\u001b[0m\u001b[0;34m]\u001b[0m \u001b[0;34m+=\u001b[0m \u001b[0;36m1\u001b[0m\u001b[0;34m\u001b[0m\u001b[0;34m\u001b[0m\u001b[0m\n\u001b[0m",
      "\u001b[0;31mKeyError\u001b[0m: 'A'"
     ]
    }
   ],
   "source": [
    "d = {}\n",
    "\n",
    "for char in aeneid:\n",
    "    d[char] += 1"
   ]
  },
  {
   "cell_type": "markdown",
   "metadata": {},
   "source": [
    "Already in the very first iteration, something goes wrong, because `d` is empty and yet we try to **index** it for the non-existing key `'A'`. We run into a **KeyError** and the execution of our program gets **interrupted** -- that's technical term that you should remember. Another way this is commonly described, is that an \"exception gets raised\". This means that the normal flow of the program gets disturbed because an \"exceptional\" situation is encountered. The problem isn't so much that you run into an error -- trust me, it's not like your computer will explode in such cases -- but more, that Python isn't explicitly instructed what to do in such situations. This is exactly why the program gets halted: Python doesn't know what to do next.\n",
    "\n",
    "Luckily, we can work around this. In fact, if we anticipate that certain errors might come about, we can add explicit instructions to our scripts as to what needs to be done in these exceptional circumstances. That might sound a little abstract, so below goes a straightforward example of this:"
   ]
  },
  {
   "cell_type": "code",
   "execution_count": 298,
   "metadata": {},
   "outputs": [
    {
     "name": "stdout",
     "output_type": "stream",
     "text": [
      "{'A': 2, 'r': 25, 'm': 26, 'a': 42, ' ': 63, 'v': 9, 'i': 36, 'u': 35, 'q': 10, 'e': 51, 'c': 6, 'n': 21, 'o': 25, ',': 7, 'T': 1, 'p': 7, 's': 26, 'b': 7, '\\n': 10, 'I': 2, 't': 30, 'l': 17, 'f': 3, 'g': 4, 'L': 3, '—': 1, '5': 1, 'd': 8, ';': 1, 'R': 1, '.': 2, 'M': 1, 'h': 1, '1': 1, '0': 1, '?': 1}\n"
     ]
    }
   ],
   "source": [
    "d = {}\n",
    "\n",
    "for char in aeneid:\n",
    "    try:\n",
    "        d[char] += 1\n",
    "    except:\n",
    "        d[char] = 1\n",
    "\n",
    "print(d)"
   ]
  },
  {
   "cell_type": "markdown",
   "metadata": {},
   "source": [
    "Here, you see that we use two new **keywords** (mind the code highlighting), namely `try` and `except`. In terms of syntax, there is nothing new under the sun because this construction is very similar to the `if`/`else` that you already know. What does it do? In a way, Python tells you already: you instruct Python to `try` and execute the first indented block, `except` if something unexpected would happen, and in that case, the second block should be executed.\n",
    "\n",
    "This block is perfect for our problem: by default, our script will assume that a certain character is already present in `d` and it will `try` to augment its count. An exception will raised, however, when our script hits the `KeyError` which we anticipate, and in that case the second block will be executed (i.e. the instantiation of a new value:key pair). This behaviour is perfectly equivalent to our earlier solution with `if/else`."
   ]
  },
  {
   "cell_type": "markdown",
   "metadata": {},
   "source": [
    "> *Question: in many cases, especially for longer `for`-loops, the use of an `try/except` construction will be faster than using the more straightforward `if/else`* construction. Can you guess why?"
   ]
  },
  {
   "cell_type": "markdown",
   "metadata": {},
   "source": [
    "The previous code block will \"catch\" any exception/error. That seem easy, but typically that's considered bad practice. We want to be more specific and only catch the errors that we truly anticipate. If not, we might be ignoring really bad exceptions. Therefore, we want to be more explicit and name the actual exception, like so:"
   ]
  },
  {
   "cell_type": "code",
   "execution_count": 299,
   "metadata": {},
   "outputs": [
    {
     "name": "stdout",
     "output_type": "stream",
     "text": [
      "{'A': 2, 'r': 25, 'm': 26, 'a': 42, ' ': 63, 'v': 9, 'i': 36, 'u': 35, 'q': 10, 'e': 51, 'c': 6, 'n': 21, 'o': 25, ',': 7, 'T': 1, 'p': 7, 's': 26, 'b': 7, '\\n': 10, 'I': 2, 't': 30, 'l': 17, 'f': 3, 'g': 4, 'L': 3, '—': 1, '5': 1, 'd': 8, ';': 1, 'R': 1, '.': 2, 'M': 1, 'h': 1, '1': 1, '0': 1, '?': 1}\n"
     ]
    }
   ],
   "source": [
    "d = {}\n",
    "\n",
    "for char in aeneid:\n",
    "    try:\n",
    "        d[char] += 1\n",
    "    except KeyError:\n",
    "        d[char] = 1\n",
    "\n",
    "print(d)"
   ]
  },
  {
   "cell_type": "markdown",
   "metadata": {},
   "source": [
    "Here, we limit the \"emergency\" solutions to a more limited set of scenarios, which is safer."
   ]
  },
  {
   "cell_type": "markdown",
   "metadata": {},
   "source": [
    "> *Question: Exceptions come in many forms. Can you think of other exceptions that we've already encountered?*"
   ]
  },
  {
   "cell_type": "markdown",
   "metadata": {},
   "source": [
    "An IndexError is another commonly encountered error, which might be very inconvenients:"
   ]
  },
  {
   "cell_type": "code",
   "execution_count": 300,
   "metadata": {},
   "outputs": [
    {
     "name": "stdout",
     "output_type": "stream",
     "text": [
      "Arma virumque cano, Troiae qui primus ab oris\n",
      "Italiam fato profugus Lavinaque venit\n",
      "litora—multum ille et terris iactatus et alto\n",
      "vi superum, saevae memorem Iunonis ob iram,\n",
      "5 multa quoque et bello passus, dum conderet urbem\n",
      "inferretque deos Latio; genus unde Latinum\n",
      "Albanique patres atque altae moenia Romae.\n",
      "Musa, mihi causas memora, quo numine laeso\n",
      "quidve dolens regina deum tot volvere casus\n",
      "10 insignem pietate virum, tot adire labores\n",
      "impulerit. tantaene animis caelestibus irae?"
     ]
    },
    {
     "ename": "IndexError",
     "evalue": "string index out of range",
     "output_type": "error",
     "traceback": [
      "\u001b[0;31m---------------------------------------------------------------------------\u001b[0m",
      "\u001b[0;31mIndexError\u001b[0m                                Traceback (most recent call last)",
      "\u001b[0;32m<ipython-input-300-a39cd3109dd9>\u001b[0m in \u001b[0;36m<module>\u001b[0;34m\u001b[0m\n\u001b[1;32m      1\u001b[0m \u001b[0mcnt\u001b[0m \u001b[0;34m=\u001b[0m \u001b[0;36m0\u001b[0m\u001b[0;34m\u001b[0m\u001b[0;34m\u001b[0m\u001b[0m\n\u001b[1;32m      2\u001b[0m \u001b[0;32mwhile\u001b[0m \u001b[0;32mTrue\u001b[0m\u001b[0;34m:\u001b[0m\u001b[0;34m\u001b[0m\u001b[0;34m\u001b[0m\u001b[0m\n\u001b[0;32m----> 3\u001b[0;31m     \u001b[0mprint\u001b[0m\u001b[0;34m(\u001b[0m\u001b[0maeneid\u001b[0m\u001b[0;34m[\u001b[0m\u001b[0mcnt\u001b[0m\u001b[0;34m]\u001b[0m\u001b[0;34m,\u001b[0m \u001b[0mend\u001b[0m\u001b[0;34m=\u001b[0m\u001b[0;34m''\u001b[0m\u001b[0;34m)\u001b[0m\u001b[0;34m\u001b[0m\u001b[0;34m\u001b[0m\u001b[0m\n\u001b[0m\u001b[1;32m      4\u001b[0m     \u001b[0mcnt\u001b[0m \u001b[0;34m+=\u001b[0m \u001b[0;36m1\u001b[0m\u001b[0;34m\u001b[0m\u001b[0;34m\u001b[0m\u001b[0m\n",
      "\u001b[0;31mIndexError\u001b[0m: string index out of range"
     ]
    }
   ],
   "source": [
    "cnt = 0\n",
    "while True:\n",
    "    print(aeneid[cnt], end='')\n",
    "    cnt += 1"
   ]
  },
  {
   "cell_type": "markdown",
   "metadata": {},
   "source": [
    "> *Question: change the code block above and jump out of the `while` loop once we have printed all characters.*"
   ]
  },
  {
   "cell_type": "markdown",
   "metadata": {},
   "source": [
    "Reading files is another context in which exceptions are often used. Often, if you work with large corpora, a small number of files will have encoding errors and you might want to ignore these. Catching the relevant exception (the `UnicodeEncodeError`) will save you a lot of troubles. Do you understand this dummy example?"
   ]
  },
  {
   "cell_type": "markdown",
   "metadata": {},
   "source": [
    "```python\n",
    "for filename in filenames:\n",
    "    try:\n",
    "        with open(filename) as f:\n",
    "            text = f.read()\n",
    "        print(filename, 'correctly parsed!')\n",
    "    except UnicodeEncodeError:\n",
    "        pass # do you remember what this does?\n",
    "```"
   ]
  },
  {
   "cell_type": "markdown",
   "metadata": {},
   "source": [
    "As always, remember that errors are your friend in Python and you should always pay close attention to what they are saying. They might be annoying, but you can good them to use, using `try/except`. Remember that exeptions protect you from somthing even worse."
   ]
  },
  {
   "cell_type": "markdown",
   "metadata": {},
   "source": [
    "## The Secret Counter"
   ]
  },
  {
   "cell_type": "markdown",
   "metadata": {},
   "source": [
    "We've make the frequency dictionary exercise a couple of times by now. You might hate us for saying this, but there's a little secret that we haven't told you about before... Don't hate us, but we are about to tell about one of the best kept secrets in the Python universe:"
   ]
  },
  {
   "cell_type": "code",
   "execution_count": 301,
   "metadata": {},
   "outputs": [
    {
     "name": "stdout",
     "output_type": "stream",
     "text": [
      "Counter({' ': 63, 'e': 51, 'a': 42, 'i': 36, 'u': 35, 't': 30, 'm': 26, 's': 26, 'r': 25, 'o': 25, 'n': 21, 'l': 17, 'q': 10, '\\n': 10, 'v': 9, 'd': 8, ',': 7, 'p': 7, 'b': 7, 'c': 6, 'g': 4, 'f': 3, 'L': 3, 'A': 2, 'I': 2, '.': 2, 'T': 1, '—': 1, '5': 1, ';': 1, 'R': 1, 'M': 1, 'h': 1, '1': 1, '0': 1, '?': 1})\n"
     ]
    }
   ],
   "source": [
    "from collections import Counter\n",
    "\n",
    "cnt = Counter()\n",
    "cnt.update(aeneid)\n",
    "\n",
    "print(cnt)"
   ]
  },
  {
   "cell_type": "markdown",
   "metadata": {},
   "source": [
    "Wown that's amazing! This gives us everything we need, in just two lines of code. We introduce it only now, because of two reasons:\n",
    "\n",
    "1. It's crucial to understand how low-level Python dictionaries work\n",
    "2. `Counter` is an object, which is the real topic of this class."
   ]
  },
  {
   "cell_type": "markdown",
   "metadata": {},
   "source": [
    "Note that we explicitly have to import `Counter` from the `collections` module in Python's Standard Library (which has many other really useful functions). After that, we can **instantiate** or **initialize** a Counter through what is know as the **constructor function**."
   ]
  },
  {
   "cell_type": "code",
   "execution_count": 302,
   "metadata": {},
   "outputs": [
    {
     "name": "stdout",
     "output_type": "stream",
     "text": [
      "<class 'collections.Counter'>\n"
     ]
    }
   ],
   "source": [
    "counter = Counter() # constructor\n",
    "print(type(counter))"
   ]
  },
  {
   "cell_type": "markdown",
   "metadata": {},
   "source": [
    "Our variable `counter` has a type that indicates that it's not of one of the primitive data types that we covered so far but a more specific kind of object. Using `help()`, we can find out about what it has to offer."
   ]
  },
  {
   "cell_type": "code",
   "execution_count": 303,
   "metadata": {},
   "outputs": [
    {
     "name": "stdout",
     "output_type": "stream",
     "text": [
      "Help on class Counter in module collections:\n",
      "\n",
      "class Counter(builtins.dict)\n",
      " |  Dict subclass for counting hashable items.  Sometimes called a bag\n",
      " |  or multiset.  Elements are stored as dictionary keys and their counts\n",
      " |  are stored as dictionary values.\n",
      " |  \n",
      " |  >>> c = Counter('abcdeabcdabcaba')  # count elements from a string\n",
      " |  \n",
      " |  >>> c.most_common(3)                # three most common elements\n",
      " |  [('a', 5), ('b', 4), ('c', 3)]\n",
      " |  >>> sorted(c)                       # list all unique elements\n",
      " |  ['a', 'b', 'c', 'd', 'e']\n",
      " |  >>> ''.join(sorted(c.elements()))   # list elements with repetitions\n",
      " |  'aaaaabbbbcccdde'\n",
      " |  >>> sum(c.values())                 # total of all counts\n",
      " |  15\n",
      " |  \n",
      " |  >>> c['a']                          # count of letter 'a'\n",
      " |  5\n",
      " |  >>> for elem in 'shazam':           # update counts from an iterable\n",
      " |  ...     c[elem] += 1                # by adding 1 to each element's count\n",
      " |  >>> c['a']                          # now there are seven 'a'\n",
      " |  7\n",
      " |  >>> del c['b']                      # remove all 'b'\n",
      " |  >>> c['b']                          # now there are zero 'b'\n",
      " |  0\n",
      " |  \n",
      " |  >>> d = Counter('simsalabim')       # make another counter\n",
      " |  >>> c.update(d)                     # add in the second counter\n",
      " |  >>> c['a']                          # now there are nine 'a'\n",
      " |  9\n",
      " |  \n",
      " |  >>> c.clear()                       # empty the counter\n",
      " |  >>> c\n",
      " |  Counter()\n",
      " |  \n",
      " |  Note:  If a count is set to zero or reduced to zero, it will remain\n",
      " |  in the counter until the entry is deleted or the counter is cleared:\n",
      " |  \n",
      " |  >>> c = Counter('aaabbc')\n",
      " |  >>> c['b'] -= 2                     # reduce the count of 'b' by two\n",
      " |  >>> c.most_common()                 # 'b' is still in, but its count is zero\n",
      " |  [('a', 3), ('c', 1), ('b', 0)]\n",
      " |  \n",
      " |  Method resolution order:\n",
      " |      Counter\n",
      " |      builtins.dict\n",
      " |      builtins.object\n",
      " |  \n",
      " |  Methods defined here:\n",
      " |  \n",
      " |  __add__(self, other)\n",
      " |      Add counts from two counters.\n",
      " |      \n",
      " |      >>> Counter('abbb') + Counter('bcc')\n",
      " |      Counter({'b': 4, 'c': 2, 'a': 1})\n",
      " |  \n",
      " |  __and__(self, other)\n",
      " |      Intersection is the minimum of corresponding counts.\n",
      " |      \n",
      " |      >>> Counter('abbb') & Counter('bcc')\n",
      " |      Counter({'b': 1})\n",
      " |  \n",
      " |  __delitem__(self, elem)\n",
      " |      Like dict.__delitem__() but does not raise KeyError for missing values.\n",
      " |  \n",
      " |  __iadd__(self, other)\n",
      " |      Inplace add from another counter, keeping only positive counts.\n",
      " |      \n",
      " |      >>> c = Counter('abbb')\n",
      " |      >>> c += Counter('bcc')\n",
      " |      >>> c\n",
      " |      Counter({'b': 4, 'c': 2, 'a': 1})\n",
      " |  \n",
      " |  __iand__(self, other)\n",
      " |      Inplace intersection is the minimum of corresponding counts.\n",
      " |      \n",
      " |      >>> c = Counter('abbb')\n",
      " |      >>> c &= Counter('bcc')\n",
      " |      >>> c\n",
      " |      Counter({'b': 1})\n",
      " |  \n",
      " |  __init__(*args, **kwds)\n",
      " |      Create a new, empty Counter object.  And if given, count elements\n",
      " |      from an input iterable.  Or, initialize the count from another mapping\n",
      " |      of elements to their counts.\n",
      " |      \n",
      " |      >>> c = Counter()                           # a new, empty counter\n",
      " |      >>> c = Counter('gallahad')                 # a new counter from an iterable\n",
      " |      >>> c = Counter({'a': 4, 'b': 2})           # a new counter from a mapping\n",
      " |      >>> c = Counter(a=4, b=2)                   # a new counter from keyword args\n",
      " |  \n",
      " |  __ior__(self, other)\n",
      " |      Inplace union is the maximum of value from either counter.\n",
      " |      \n",
      " |      >>> c = Counter('abbb')\n",
      " |      >>> c |= Counter('bcc')\n",
      " |      >>> c\n",
      " |      Counter({'b': 3, 'c': 2, 'a': 1})\n",
      " |  \n",
      " |  __isub__(self, other)\n",
      " |      Inplace subtract counter, but keep only results with positive counts.\n",
      " |      \n",
      " |      >>> c = Counter('abbbc')\n",
      " |      >>> c -= Counter('bccd')\n",
      " |      >>> c\n",
      " |      Counter({'b': 2, 'a': 1})\n",
      " |  \n",
      " |  __missing__(self, key)\n",
      " |      The count of elements not in the Counter is zero.\n",
      " |  \n",
      " |  __neg__(self)\n",
      " |      Subtracts from an empty counter.  Strips positive and zero counts,\n",
      " |      and flips the sign on negative counts.\n",
      " |  \n",
      " |  __or__(self, other)\n",
      " |      Union is the maximum of value in either of the input counters.\n",
      " |      \n",
      " |      >>> Counter('abbb') | Counter('bcc')\n",
      " |      Counter({'b': 3, 'c': 2, 'a': 1})\n",
      " |  \n",
      " |  __pos__(self)\n",
      " |      Adds an empty counter, effectively stripping negative and zero counts\n",
      " |  \n",
      " |  __reduce__(self)\n",
      " |      helper for pickle\n",
      " |  \n",
      " |  __repr__(self)\n",
      " |      Return repr(self).\n",
      " |  \n",
      " |  __sub__(self, other)\n",
      " |      Subtract count, but keep only results with positive counts.\n",
      " |      \n",
      " |      >>> Counter('abbbc') - Counter('bccd')\n",
      " |      Counter({'b': 2, 'a': 1})\n",
      " |  \n",
      " |  copy(self)\n",
      " |      Return a shallow copy.\n",
      " |  \n",
      " |  elements(self)\n",
      " |      Iterator over elements repeating each as many times as its count.\n",
      " |      \n",
      " |      >>> c = Counter('ABCABC')\n",
      " |      >>> sorted(c.elements())\n",
      " |      ['A', 'A', 'B', 'B', 'C', 'C']\n",
      " |      \n",
      " |      # Knuth's example for prime factors of 1836:  2**2 * 3**3 * 17**1\n",
      " |      >>> prime_factors = Counter({2: 2, 3: 3, 17: 1})\n",
      " |      >>> product = 1\n",
      " |      >>> for factor in prime_factors.elements():     # loop over factors\n",
      " |      ...     product *= factor                       # and multiply them\n",
      " |      >>> product\n",
      " |      1836\n",
      " |      \n",
      " |      Note, if an element's count has been set to zero or is a negative\n",
      " |      number, elements() will ignore it.\n",
      " |  \n",
      " |  most_common(self, n=None)\n",
      " |      List the n most common elements and their counts from the most\n",
      " |      common to the least.  If n is None, then list all element counts.\n",
      " |      \n",
      " |      >>> Counter('abcdeabcdabcaba').most_common(3)\n",
      " |      [('a', 5), ('b', 4), ('c', 3)]\n",
      " |  \n",
      " |  subtract(*args, **kwds)\n",
      " |      Like dict.update() but subtracts counts instead of replacing them.\n",
      " |      Counts can be reduced below zero.  Both the inputs and outputs are\n",
      " |      allowed to contain zero and negative counts.\n",
      " |      \n",
      " |      Source can be an iterable, a dictionary, or another Counter instance.\n",
      " |      \n",
      " |      >>> c = Counter('which')\n",
      " |      >>> c.subtract('witch')             # subtract elements from another iterable\n",
      " |      >>> c.subtract(Counter('watch'))    # subtract elements from another counter\n",
      " |      >>> c['h']                          # 2 in which, minus 1 in witch, minus 1 in watch\n",
      " |      0\n",
      " |      >>> c['w']                          # 1 in which, minus 1 in witch, minus 1 in watch\n",
      " |      -1\n",
      " |  \n",
      " |  update(*args, **kwds)\n",
      " |      Like dict.update() but add counts instead of replacing them.\n",
      " |      \n",
      " |      Source can be an iterable, a dictionary, or another Counter instance.\n",
      " |      \n",
      " |      >>> c = Counter('which')\n",
      " |      >>> c.update('witch')           # add elements from another iterable\n",
      " |      >>> d = Counter('watch')\n",
      " |      >>> c.update(d)                 # add elements from another counter\n",
      " |      >>> c['h']                      # four 'h' in which, witch, and watch\n",
      " |      4\n",
      " |  \n",
      " |  ----------------------------------------------------------------------\n",
      " |  Class methods defined here:\n",
      " |  \n",
      " |  fromkeys(iterable, v=None) from builtins.type\n",
      " |      Returns a new dict with keys from iterable and values equal to value.\n",
      " |  \n",
      " |  ----------------------------------------------------------------------\n",
      " |  Data descriptors defined here:\n",
      " |  \n",
      " |  __dict__\n",
      " |      dictionary for instance variables (if defined)\n",
      " |  \n",
      " |  __weakref__\n",
      " |      list of weak references to the object (if defined)\n",
      " |  \n",
      " |  ----------------------------------------------------------------------\n",
      " |  Methods inherited from builtins.dict:\n",
      " |  \n",
      " |  __contains__(self, key, /)\n",
      " |      True if D has a key k, else False.\n",
      " |  \n",
      " |  __eq__(self, value, /)\n",
      " |      Return self==value.\n",
      " |  \n",
      " |  __ge__(self, value, /)\n",
      " |      Return self>=value.\n",
      " |  \n",
      " |  __getattribute__(self, name, /)\n",
      " |      Return getattr(self, name).\n",
      " |  \n",
      " |  __getitem__(...)\n",
      " |      x.__getitem__(y) <==> x[y]\n",
      " |  \n",
      " |  __gt__(self, value, /)\n",
      " |      Return self>value.\n",
      " |  \n",
      " |  __iter__(self, /)\n",
      " |      Implement iter(self).\n",
      " |  \n",
      " |  __le__(self, value, /)\n",
      " |      Return self<=value.\n",
      " |  \n",
      " |  __len__(self, /)\n",
      " |      Return len(self).\n",
      " |  \n",
      " |  __lt__(self, value, /)\n",
      " |      Return self<value.\n",
      " |  \n",
      " |  __ne__(self, value, /)\n",
      " |      Return self!=value.\n",
      " |  \n",
      " |  __new__(*args, **kwargs) from builtins.type\n",
      " |      Create and return a new object.  See help(type) for accurate signature.\n",
      " |  \n",
      " |  __setitem__(self, key, value, /)\n",
      " |      Set self[key] to value.\n",
      " |  \n",
      " |  __sizeof__(...)\n",
      " |      D.__sizeof__() -> size of D in memory, in bytes\n",
      " |  \n",
      " |  clear(...)\n",
      " |      D.clear() -> None.  Remove all items from D.\n",
      " |  \n",
      " |  get(...)\n",
      " |      D.get(k[,d]) -> D[k] if k in D, else d.  d defaults to None.\n",
      " |  \n",
      " |  items(...)\n",
      " |      D.items() -> a set-like object providing a view on D's items\n",
      " |  \n",
      " |  keys(...)\n",
      " |      D.keys() -> a set-like object providing a view on D's keys\n",
      " |  \n",
      " |  pop(...)\n",
      " |      D.pop(k[,d]) -> v, remove specified key and return the corresponding value.\n",
      " |      If key is not found, d is returned if given, otherwise KeyError is raised\n",
      " |  \n",
      " |  popitem(...)\n",
      " |      D.popitem() -> (k, v), remove and return some (key, value) pair as a\n",
      " |      2-tuple; but raise KeyError if D is empty.\n",
      " |  \n",
      " |  setdefault(...)\n",
      " |      D.setdefault(k[,d]) -> D.get(k,d), also set D[k]=d if k not in D\n",
      " |  \n",
      " |  values(...)\n",
      " |      D.values() -> an object providing a view on D's values\n",
      " |  \n",
      " |  ----------------------------------------------------------------------\n",
      " |  Data and other attributes inherited from builtins.dict:\n",
      " |  \n",
      " |  __hash__ = None\n",
      "\n"
     ]
    }
   ],
   "source": [
    "help(Counter)"
   ]
  },
  {
   "cell_type": "markdown",
   "metadata": {},
   "source": [
    "Interestingly, the documentation tells us that `Counter` behaves like a standard `dict`, but one that is specialized in counting. Because it already expects the values to be integers (that's what counts are!), it will assume a default value of 0, whenever we try to access an element:"
   ]
  },
  {
   "cell_type": "code",
   "execution_count": 304,
   "metadata": {},
   "outputs": [
    {
     "name": "stdout",
     "output_type": "stream",
     "text": [
      "0\n",
      "0\n",
      "0\n"
     ]
    }
   ],
   "source": [
    "print(counter['a'])\n",
    "print(counter['b'])\n",
    "print(counter['c'])"
   ]
  },
  {
   "cell_type": "markdown",
   "metadata": {},
   "source": [
    "NOT. A. SINGLE. ERROR. GETS. THROWN. How cool is that? This explains why we *can* do the following:"
   ]
  },
  {
   "cell_type": "code",
   "execution_count": 305,
   "metadata": {},
   "outputs": [
    {
     "name": "stdout",
     "output_type": "stream",
     "text": [
      "Counter({' ': 63, 'e': 51, 'a': 42, 'i': 36, 'u': 35, 't': 30, 'm': 26, 's': 26, 'r': 25, 'o': 25, 'n': 21, 'l': 17, 'q': 10, '\\n': 10, 'v': 9, 'd': 8, ',': 7, 'p': 7, 'b': 7, 'c': 6, 'g': 4, 'f': 3, 'L': 3, 'A': 2, 'I': 2, '.': 2, 'T': 1, '—': 1, '5': 1, ';': 1, 'R': 1, 'M': 1, 'h': 1, '1': 1, '0': 1, '?': 1})\n"
     ]
    }
   ],
   "source": [
    "for char in aeneid:\n",
    "    counter[char] += 1\n",
    "\n",
    "print(counter)"
   ]
  },
  {
   "cell_type": "markdown",
   "metadata": {},
   "source": [
    "Amazing... And that is not all: remember how cumbersome it is in Python to sort a dictionary by its values. This is especially cumbersome for linguists, who often want frequency lists, showing the most common items first. This is really easy with `Counter`:"
   ]
  },
  {
   "cell_type": "code",
   "execution_count": 306,
   "metadata": {},
   "outputs": [
    {
     "name": "stdout",
     "output_type": "stream",
     "text": [
      "[(' ', 63), ('e', 51), ('a', 42)]\n"
     ]
    }
   ],
   "source": [
    "print(counter.most_common(3))"
   ]
  },
  {
   "cell_type": "markdown",
   "metadata": {},
   "source": [
    "> *Questions*\n",
    "> - Can you analyze what is being returned by this function?\n",
    "> - What happens when you change the **argument value** `\"3\"`?\n",
    "> - What happens when you don't specify an argument at all, when calling the function?"
   ]
  },
  {
   "cell_type": "markdown",
   "metadata": {},
   "source": [
    "The `Counter`object is really cool. However, we introduce it here, because it behaves as a vanilla **object** in Python. Objects are the topic of the next section."
   ]
  },
  {
   "cell_type": "markdown",
   "metadata": {},
   "source": [
    "## Objects, Plato and Cookies"
   ]
  },
  {
   "cell_type": "markdown",
   "metadata": {},
   "source": [
    "Python is what people call an **object-oriented** programming languages, meaning that objects are key to the way you program in it. In fact, you have worked a lot with objects already in Python, because *everthing* in Python is an object, including the most primitive stuff like integers or strings. To understand what objects are, it useful to turn to Plato's Allegory of cave.\n",
    "\n",
    "> Question: Can you remember what was the deal with Plato's ideas?\n",
    "\n",
    "<img src=\"https://faculty.washington.edu/smcohen/320/platoscave.gif\"/>"
   ]
  },
  {
   "cell_type": "markdown",
   "metadata": {},
   "source": [
    "Whenever I think of Plato, I always think of cookies:"
   ]
  },
  {
   "cell_type": "markdown",
   "metadata": {},
   "source": [
    "<img src='https://images.kitchenstories.io/wagtailOriginalImages/A1050-lisa-final/A1050-lisa-final-large-landscape-150.jpg'/>"
   ]
  },
  {
   "cell_type": "markdown",
   "metadata": {},
   "source": [
    "In Plato's philosophy, there something like the \"ideal chocolate chip cookie\": the ideal or \"mould\" from which all cookies are copied. The ideal is very abstract and is never actually observed: that is because no copy is perfect and since all the actual cookies are slightly different from another, and from the ideal.\n",
    "\n",
    "Now, when working with object in Python, I want you to think of baking cookies with Plato. Execute this line:"
   ]
  },
  {
   "cell_type": "code",
   "execution_count": 307,
   "metadata": {},
   "outputs": [],
   "source": [
    "cnt = Counter()"
   ]
  },
  {
   "cell_type": "markdown",
   "metadata": {},
   "source": [
    "Executing this line, or calling the constructor, is like baking a single cookie using the `Counter` mould. The  constructor returns you an actual copy/cookie, constructed/baked on the basis of the abstract `Counter` **object**."
   ]
  },
  {
   "cell_type": "markdown",
   "metadata": {},
   "source": [
    "<img src=\"https://i.etsystatic.com/22388311/r/il/32b3e5/2322918611/il_1588xN.2322918611_8o8l.jpg\"/>"
   ]
  },
  {
   "cell_type": "markdown",
   "metadata": {},
   "source": [
    "Just like with real cookies, it's perfectly possible to instantiate multiple, independent cookies from the same mould (the mould always stays the same!)."
   ]
  },
  {
   "cell_type": "code",
   "execution_count": 309,
   "metadata": {},
   "outputs": [],
   "source": [
    "cnt1 = Counter()\n",
    "cnt2 = Counter()\n",
    "cnt3 = Counter()"
   ]
  },
  {
   "cell_type": "markdown",
   "metadata": {},
   "source": [
    "Do you get the similarity between a `Counter` and a Platonic ideal, blueprint, or template? Only, in Python, such an abstract template is called a **class**. When you ask for the `type()` of any object in Python, you're really asking: with which mould was this cookie made? What was the **class** that you used to instantiate this object?"
   ]
  },
  {
   "cell_type": "code",
   "execution_count": 310,
   "metadata": {},
   "outputs": [
    {
     "data": {
      "text/plain": [
       "collections.Counter"
      ]
     },
     "execution_count": 310,
     "metadata": {},
     "output_type": "execute_result"
    }
   ],
   "source": [
    "type(cnt3)"
   ]
  },
  {
   "cell_type": "markdown",
   "metadata": {},
   "source": [
    "You can even pass any **iterable** to  the constructor, and the resulting object will automatically hold the correct counts:"
   ]
  },
  {
   "cell_type": "code",
   "execution_count": 311,
   "metadata": {},
   "outputs": [
    {
     "name": "stdout",
     "output_type": "stream",
     "text": [
      "Counter({' ': 63, 'e': 51, 'a': 42, 'i': 36, 'u': 35, 't': 30, 'm': 26, 's': 26, 'r': 25, 'o': 25, 'n': 21, 'l': 17, 'q': 10, '\\n': 10, 'v': 9, 'd': 8, ',': 7, 'p': 7, 'b': 7, 'c': 6, 'g': 4, 'f': 3, 'L': 3, 'A': 2, 'I': 2, '.': 2, 'T': 1, '—': 1, '5': 1, ';': 1, 'R': 1, 'M': 1, 'h': 1, '1': 1, '0': 1, '?': 1})\n"
     ]
    }
   ],
   "source": [
    "freqs = Counter(aeneid)\n",
    "print(freqs)"
   ]
  },
  {
   "cell_type": "markdown",
   "metadata": {},
   "source": [
    "> *Question: With counter, you can extract crucial frequency information with intuitive **oneliners**. Can you figure out what the following block does?* (We won't win a beauty context with it, but still.) Unpack the oneliner, step by step, and start with the innermost part."
   ]
  },
  {
   "cell_type": "code",
   "execution_count": 313,
   "metadata": {},
   "outputs": [
    {
     "data": {
      "text/plain": [
       "'et'"
      ]
     },
     "execution_count": 313,
     "metadata": {},
     "output_type": "execute_result"
    }
   ],
   "source": [
    "virgils_favorite = Counter(aeneid.split()).most_common(1)[0][0]\n",
    "virgils_favorite"
   ]
  },
  {
   "cell_type": "markdown",
   "metadata": {},
   "source": [
    "## Methods versus functions"
   ]
  },
  {
   "cell_type": "markdown",
   "metadata": {},
   "source": [
    "In the rest of your coding life, you will continue to work with many objects. Some of these can be very abstract. In Machine Learning, you'll often work with an abstract \"learner\", like a neural network. You will create a concrete **instance** of such a learner, using the constructor (`learner =  Learner()`)  -- note that constructors are often written with a capital letter by convention, and the actual instances, with a lowercase character. Next, you will call functions on them to train them on example data (`learner.train(train_data)`) or used the trained model to get prediction from new, unseen data (`learner.predict(new_data)`). \n",
    "\n",
    "Note the language here: we say that we call functions *on* an instance. We don't just pass the instance to any function. To appreciate this distinction, let's work with an example"
   ]
  },
  {
   "cell_type": "code",
   "execution_count": 314,
   "metadata": {},
   "outputs": [
    {
     "name": "stdout",
     "output_type": "stream",
     "text": [
      "['A', 'r', 'm', 'a', ' ', 'v', 'i', 'r', 'u', 'm', 'q', 'u', 'e', ' ', 'c', 'a', 'n', 'o', ',', ' ']\n",
      "<class 'list'>\n"
     ]
    }
   ],
   "source": [
    "l = list(aeneid) # constructor\n",
    "print(l[:20])\n",
    "print(type(l))"
   ]
  },
  {
   "cell_type": "markdown",
   "metadata": {},
   "source": [
    "By now, you should understand better what we're doing here: we're creating an instance of the class `List` by calling the constructor function `list()` and passing it an iterable (`aeneid`, a string) to initialize it."
   ]
  },
  {
   "cell_type": "markdown",
   "metadata": {},
   "source": [
    "To sort the list, we now have two options. There exist subtle differences between them. The first option is to pass `l` to the general function `sorted`:"
   ]
  },
  {
   "cell_type": "code",
   "execution_count": 315,
   "metadata": {},
   "outputs": [
    {
     "name": "stdout",
     "output_type": "stream",
     "text": [
      "['\\n', '\\n', '\\n', '\\n', '\\n', '\\n', '\\n', '\\n', '\\n', '\\n', ' ', ' ', ' ', ' ', ' ', ' ', ' ', ' ', ' ', ' ', ' ', ' ', ' ', ' ', ' ', ' ', ' ', ' ', ' ', ' ', ' ', ' ', ' ', ' ', ' ', ' ', ' ', ' ', ' ', ' ', ' ', ' ', ' ', ' ', ' ', ' ', ' ', ' ', ' ', ' ', ' ', ' ', ' ', ' ', ' ', ' ', ' ', ' ', ' ', ' ', ' ', ' ', ' ', ' ', ' ', ' ', ' ', ' ', ' ', ' ', ' ', ' ', ' ', ',', ',', ',', ',', ',', ',', ',', '.', '.', '0', '1', '5', ';', '?', 'A', 'A', 'I', 'I', 'L', 'L', 'L', 'M', 'R', 'T', 'a', 'a', 'a', 'a', 'a', 'a', 'a', 'a', 'a', 'a', 'a', 'a', 'a', 'a', 'a', 'a', 'a', 'a', 'a', 'a', 'a', 'a', 'a', 'a', 'a', 'a', 'a', 'a', 'a', 'a', 'a', 'a', 'a', 'a', 'a', 'a', 'a', 'a', 'a', 'a', 'a', 'a', 'b', 'b', 'b', 'b', 'b', 'b', 'b', 'c', 'c', 'c', 'c', 'c', 'c', 'd', 'd', 'd', 'd', 'd', 'd', 'd', 'd', 'e', 'e', 'e', 'e', 'e', 'e', 'e', 'e', 'e', 'e', 'e', 'e', 'e', 'e', 'e', 'e', 'e', 'e', 'e', 'e', 'e', 'e', 'e', 'e', 'e', 'e', 'e', 'e', 'e', 'e', 'e', 'e', 'e', 'e', 'e', 'e', 'e', 'e', 'e', 'e', 'e', 'e', 'e', 'e', 'e', 'e', 'e', 'e', 'e', 'e', 'e', 'f', 'f', 'f', 'g', 'g', 'g', 'g', 'h', 'i', 'i', 'i', 'i', 'i', 'i', 'i', 'i', 'i', 'i', 'i', 'i', 'i', 'i', 'i', 'i', 'i', 'i', 'i', 'i', 'i', 'i', 'i', 'i', 'i', 'i', 'i', 'i', 'i', 'i', 'i', 'i', 'i', 'i', 'i', 'i', 'l', 'l', 'l', 'l', 'l', 'l', 'l', 'l', 'l', 'l', 'l', 'l', 'l', 'l', 'l', 'l', 'l', 'm', 'm', 'm', 'm', 'm', 'm', 'm', 'm', 'm', 'm', 'm', 'm', 'm', 'm', 'm', 'm', 'm', 'm', 'm', 'm', 'm', 'm', 'm', 'm', 'm', 'm', 'n', 'n', 'n', 'n', 'n', 'n', 'n', 'n', 'n', 'n', 'n', 'n', 'n', 'n', 'n', 'n', 'n', 'n', 'n', 'n', 'n', 'o', 'o', 'o', 'o', 'o', 'o', 'o', 'o', 'o', 'o', 'o', 'o', 'o', 'o', 'o', 'o', 'o', 'o', 'o', 'o', 'o', 'o', 'o', 'o', 'o', 'p', 'p', 'p', 'p', 'p', 'p', 'p', 'q', 'q', 'q', 'q', 'q', 'q', 'q', 'q', 'q', 'q', 'r', 'r', 'r', 'r', 'r', 'r', 'r', 'r', 'r', 'r', 'r', 'r', 'r', 'r', 'r', 'r', 'r', 'r', 'r', 'r', 'r', 'r', 'r', 'r', 'r', 's', 's', 's', 's', 's', 's', 's', 's', 's', 's', 's', 's', 's', 's', 's', 's', 's', 's', 's', 's', 's', 's', 's', 's', 's', 's', 't', 't', 't', 't', 't', 't', 't', 't', 't', 't', 't', 't', 't', 't', 't', 't', 't', 't', 't', 't', 't', 't', 't', 't', 't', 't', 't', 't', 't', 't', 'u', 'u', 'u', 'u', 'u', 'u', 'u', 'u', 'u', 'u', 'u', 'u', 'u', 'u', 'u', 'u', 'u', 'u', 'u', 'u', 'u', 'u', 'u', 'u', 'u', 'u', 'u', 'u', 'u', 'u', 'u', 'u', 'u', 'u', 'u', 'v', 'v', 'v', 'v', 'v', 'v', 'v', 'v', 'v', '—']\n"
     ]
    }
   ],
   "source": [
    "sorted_list = sorted(l)\n",
    "print(sorted_list)"
   ]
  },
  {
   "cell_type": "markdown",
   "metadata": {},
   "source": [
    "Thus, `sorted(l)` takes the original list and returns a sorted version of it. What it returns is a sorted **copy** of the original `l`; this is crucial: `sorted` leaves the original l intact:"
   ]
  },
  {
   "cell_type": "code",
   "execution_count": 316,
   "metadata": {},
   "outputs": [
    {
     "name": "stdout",
     "output_type": "stream",
     "text": [
      "['A', 'r', 'm', 'a', ' ', 'v', 'i', 'r', 'u', 'm', 'q', 'u', 'e', ' ', 'c', 'a', 'n', 'o', ',', ' ']\n"
     ]
    }
   ],
   "source": [
    "print(l[:20])"
   ]
  },
  {
   "cell_type": "markdown",
   "metadata": {},
   "source": [
    "Note that we can call `sorted()` on many more iterables (like strings). It's a general function, not tied specifically to lists."
   ]
  },
  {
   "cell_type": "markdown",
   "metadata": {},
   "source": [
    "The second alternative to call `sort()` **on** the original list itself:"
   ]
  },
  {
   "cell_type": "code",
   "execution_count": 317,
   "metadata": {},
   "outputs": [],
   "source": [
    "l.sort()"
   ]
  },
  {
   "cell_type": "markdown",
   "metadata": {},
   "source": [
    "Nothing was printed above... That's normal and comes from the fact that `sort()` will (tacitly) sort the original string on which it was called, but it *doesn't return anything afterwards*:"
   ]
  },
  {
   "cell_type": "code",
   "execution_count": 318,
   "metadata": {},
   "outputs": [
    {
     "name": "stdout",
     "output_type": "stream",
     "text": [
      "None\n",
      "['\\n', '\\n', '\\n', '\\n', '\\n', '\\n', '\\n', '\\n', '\\n', '\\n', ' ', ' ', ' ', ' ', ' ', ' ', ' ', ' ', ' ', ' ', ' ', ' ', ' ', ' ', ' ', ' ', ' ', ' ', ' ', ' ', ' ', ' ', ' ', ' ', ' ', ' ', ' ', ' ', ' ', ' ', ' ', ' ', ' ', ' ', ' ', ' ', ' ', ' ', ' ', ' ', ' ', ' ', ' ', ' ', ' ', ' ', ' ', ' ', ' ', ' ', ' ', ' ', ' ', ' ', ' ', ' ', ' ', ' ', ' ', ' ', ' ', ' ', ' ', ',', ',', ',', ',', ',', ',', ',', '.', '.', '0', '1', '5', ';', '?', 'A', 'A', 'I', 'I', 'L', 'L', 'L', 'M', 'R', 'T', 'a', 'a', 'a', 'a', 'a', 'a', 'a', 'a', 'a', 'a', 'a', 'a', 'a', 'a', 'a', 'a', 'a', 'a', 'a', 'a', 'a', 'a', 'a', 'a', 'a', 'a', 'a', 'a', 'a', 'a', 'a', 'a', 'a', 'a', 'a', 'a', 'a', 'a', 'a', 'a', 'a', 'a', 'b', 'b', 'b', 'b', 'b', 'b', 'b', 'c', 'c', 'c', 'c', 'c', 'c', 'd', 'd', 'd', 'd', 'd', 'd', 'd', 'd', 'e', 'e', 'e', 'e', 'e', 'e', 'e', 'e', 'e', 'e', 'e', 'e', 'e', 'e', 'e', 'e', 'e', 'e', 'e', 'e', 'e', 'e', 'e', 'e', 'e', 'e', 'e', 'e', 'e', 'e', 'e', 'e', 'e', 'e', 'e', 'e', 'e', 'e', 'e', 'e', 'e', 'e', 'e', 'e', 'e', 'e', 'e', 'e', 'e', 'e', 'e', 'f', 'f', 'f', 'g', 'g', 'g', 'g', 'h', 'i', 'i', 'i', 'i', 'i', 'i', 'i', 'i', 'i', 'i', 'i', 'i', 'i', 'i', 'i', 'i', 'i', 'i', 'i', 'i', 'i', 'i', 'i', 'i', 'i', 'i', 'i', 'i', 'i', 'i', 'i', 'i', 'i', 'i', 'i', 'i', 'l', 'l', 'l', 'l', 'l', 'l', 'l', 'l', 'l', 'l', 'l', 'l', 'l', 'l', 'l', 'l', 'l', 'm', 'm', 'm', 'm', 'm', 'm', 'm', 'm', 'm', 'm', 'm', 'm', 'm', 'm', 'm', 'm', 'm', 'm', 'm', 'm', 'm', 'm', 'm', 'm', 'm', 'm', 'n', 'n', 'n', 'n', 'n', 'n', 'n', 'n', 'n', 'n', 'n', 'n', 'n', 'n', 'n', 'n', 'n', 'n', 'n', 'n', 'n', 'o', 'o', 'o', 'o', 'o', 'o', 'o', 'o', 'o', 'o', 'o', 'o', 'o', 'o', 'o', 'o', 'o', 'o', 'o', 'o', 'o', 'o', 'o', 'o', 'o', 'p', 'p', 'p', 'p', 'p', 'p', 'p', 'q', 'q', 'q', 'q', 'q', 'q', 'q', 'q', 'q', 'q', 'r', 'r', 'r', 'r', 'r', 'r', 'r', 'r', 'r', 'r', 'r', 'r', 'r', 'r', 'r', 'r', 'r', 'r', 'r', 'r', 'r', 'r', 'r', 'r', 'r', 's', 's', 's', 's', 's', 's', 's', 's', 's', 's', 's', 's', 's', 's', 's', 's', 's', 's', 's', 's', 's', 's', 's', 's', 's', 's', 't', 't', 't', 't', 't', 't', 't', 't', 't', 't', 't', 't', 't', 't', 't', 't', 't', 't', 't', 't', 't', 't', 't', 't', 't', 't', 't', 't', 't', 't', 'u', 'u', 'u', 'u', 'u', 'u', 'u', 'u', 'u', 'u', 'u', 'u', 'u', 'u', 'u', 'u', 'u', 'u', 'u', 'u', 'u', 'u', 'u', 'u', 'u', 'u', 'u', 'u', 'u', 'u', 'u', 'u', 'u', 'u', 'u', 'v', 'v', 'v', 'v', 'v', 'v', 'v', 'v', 'v', '—']\n"
     ]
    }
   ],
   "source": [
    "print(l.sort())\n",
    "print(l)"
   ]
  },
  {
   "cell_type": "markdown",
   "metadata": {},
   "source": [
    "This kind of sorting is called **in-place** sorting. This is because `sort()` isn't just any function: it is a function that is specifically to this specific list (i.e. it was part of the cookie mould that we used to construct the object). It has privileged access to the object, which is why it can sort the string directly. Functions are called **methods** in Python, when they are tied to a special object, instead of just floating around. This is an important distinction:\n",
    "\n",
    "- all methods are functions, but not all functions are methods\n",
    "- methods can only be called on the objects of a specific class (note that we cannot call `.sort()` on a string)"
   ]
  },
  {
   "cell_type": "markdown",
   "metadata": {},
   "source": [
    "## Home-Baked Cookies"
   ]
  },
  {
   "cell_type": "markdown",
   "metadata": {},
   "source": [
    "We should stress that this last section isn't crucial in your learning trajectory at this stage. What we want to demonstrate is how you yourself can fairly easily implement classes your own classes in Python. It will probably take a while, before you will start doing this, simply because you won't feel the need: there's a whole range of classes out there already that you can just import from external packages. Nevertheless, working through a simple example will enhance your grasp of what \"object orientation\" really means.\n",
    "\n",
    "As an example we will re-implement a smaller version of the `Counter` class. The first thing that we will need is a name for our class and a constructor function. The syntax for this is as follows:"
   ]
  },
  {
   "cell_type": "code",
   "execution_count": 319,
   "metadata": {},
   "outputs": [],
   "source": [
    "class OurCounter:\n",
    "    \n",
    "    def __init__(self):\n",
    "        pass"
   ]
  },
  {
   "cell_type": "markdown",
   "metadata": {},
   "source": [
    "This is a super-minimalistic example, since we don't do more than:\n",
    "- declaring a name for our class (`class OurCounter:`)\n",
    "- declaring a constructor method\n",
    "\n",
    "Note that the constructor looks like a normal function definition, but:\n",
    "- it is indented to make clear that it is a **method** that is tied to the OurCounter Class\n",
    "- it takes a special, dedicated name (`__init__`) -- so that Python can properly identify it as the constructor\n",
    "- it requires a special input argument, **self**: this is a pointer to the object itself\n",
    "- it is a **stub** currently -- note the use of **pass** placeholder (which doesn't do anything)\n",
    "\n",
    "Nevertheless, we can already use this class definition to initialize an instance, and check its type:"
   ]
  },
  {
   "cell_type": "code",
   "execution_count": 321,
   "metadata": {},
   "outputs": [
    {
     "name": "stdout",
     "output_type": "stream",
     "text": [
      "<class '__main__.OurCounter'>\n"
     ]
    }
   ],
   "source": [
    "cnt = OurCounter()\n",
    "print(type(cnt))"
   ]
  },
  {
   "cell_type": "markdown",
   "metadata": {},
   "source": [
    "Above you could see that `Counter` acts as a kind of wrapper around the conventional `dict` class. It basically inherits much of the functionality of a `dict` but adds much additional stuff. For our purposes, it would make sense to add a dict the the `OurCounter` object. We can achieve that as follows:"
   ]
  },
  {
   "cell_type": "code",
   "execution_count": 322,
   "metadata": {},
   "outputs": [],
   "source": [
    "class OurCounter:\n",
    "    \n",
    "    def __init__(self):\n",
    "        self.d = {}"
   ]
  },
  {
   "cell_type": "markdown",
   "metadata": {},
   "source": [
    "This is where the `self` keyword comes in handy: we use it to assign a dictionary to the object. That means that we can actually access the dict from the `OurCounter`, after we've instantiated it:"
   ]
  },
  {
   "cell_type": "code",
   "execution_count": 323,
   "metadata": {},
   "outputs": [
    {
     "name": "stdout",
     "output_type": "stream",
     "text": [
      "{}\n"
     ]
    }
   ],
   "source": [
    "cnt = OurCounter()\n",
    "print(cnt.d)"
   ]
  },
  {
   "cell_type": "markdown",
   "metadata": {},
   "source": [
    "However, the goal of working with object orientation is **abstraction**: our goal is to make sure that the user that have to care about the dictionary. Let us now create an `add` function, that takes a key and the value (an `int`) by which the value for that key should be incremented. "
   ]
  },
  {
   "cell_type": "code",
   "execution_count": 324,
   "metadata": {},
   "outputs": [],
   "source": [
    "class OurCounter:\n",
    "    \n",
    "    def __init__(self):\n",
    "        self.d = {}\n",
    "        \n",
    "    def add(self, key, value=1):\n",
    "        try:\n",
    "            self.d[key] += value\n",
    "        except KeyError:\n",
    "            self.d[key] = value"
   ]
  },
  {
   "cell_type": "markdown",
   "metadata": {},
   "source": [
    "There are several important aspects here to be discussed:\n",
    "- we still need to add that weird `self` thingy as the  first argument to the method definition\n",
    "- we assign a default value of 1 for the increment value.\n",
    "- we abstract over the default behaviour of a dictionary and take care of checking whether they  key is already present in the dictionary. (The user shouldn't have to care about this: this is the essence of **abstraction** in programming)\n",
    "- inside the method, we access the `dict` associated with our object as `self.d`, because it's a property stored with the object itself."
   ]
  },
  {
   "cell_type": "markdown",
   "metadata": {},
   "source": [
    "We can know use and test that property as follows:"
   ]
  },
  {
   "cell_type": "code",
   "execution_count": 325,
   "metadata": {},
   "outputs": [
    {
     "name": "stdout",
     "output_type": "stream",
     "text": [
      "{'a': 6, 'b': 3}\n"
     ]
    }
   ],
   "source": [
    "cnt = OurCounter()\n",
    "cnt.add('a', 1)\n",
    "cnt.add('b', 3)\n",
    "cnt.add('a', 5)\n",
    "print(cnt.d)"
   ]
  },
  {
   "cell_type": "markdown",
   "metadata": {},
   "source": [
    "Adding a `most_common` method uses the same logic:"
   ]
  },
  {
   "cell_type": "code",
   "execution_count": 326,
   "metadata": {},
   "outputs": [],
   "source": [
    "from operator import itemgetter\n",
    "\n",
    "class OurCounter:\n",
    "    \n",
    "    def __init__(self):\n",
    "        self.d = {}\n",
    "        \n",
    "    def add(self, key, value=1):\n",
    "        try:\n",
    "            self.d[key] += value\n",
    "        except KeyError:\n",
    "            self.d[key] = value\n",
    "            \n",
    "    def most_common(self, topn=None):\n",
    "        items = self.d.items()                   # extract key-value pairs\n",
    "        items = sorted(items, key=itemgetter(1)) # sort by value\n",
    "        items = items[::-1]                      # decreasing instead of increasing order\n",
    "        return items[:topn]                      # chop off the top using topn argument"
   ]
  },
  {
   "cell_type": "code",
   "execution_count": 327,
   "metadata": {},
   "outputs": [
    {
     "data": {
      "text/plain": [
       "[('c', 15), ('e', 9), ('d', 4)]"
      ]
     },
     "execution_count": 327,
     "metadata": {},
     "output_type": "execute_result"
    }
   ],
   "source": [
    "cnt = OurCounter()\n",
    "cnt.add('a', 1)\n",
    "cnt.add('b', 3)\n",
    "cnt.add('c', 15)\n",
    "cnt.add('d', 4)\n",
    "cnt.add('e', 9)\n",
    "cnt.most_common(3)"
   ]
  },
  {
   "cell_type": "markdown",
   "metadata": {},
   "source": [
    "Note how we hide all of the ugly code from the user! From here, the options are endless. We can adapt the constructor of our class for instance, to allow users to fill the dictionary immediately upon construction:"
   ]
  },
  {
   "cell_type": "code",
   "execution_count": 328,
   "metadata": {},
   "outputs": [],
   "source": [
    "class OurCounter:\n",
    "    \n",
    "    def __init__(self, iterable=None):\n",
    "        self.d = {}\n",
    "        if iterable:\n",
    "            for value in iterable:\n",
    "                self.add(value)\n",
    "        \n",
    "    def add(self, key, value=1):\n",
    "        try:\n",
    "            self.d[key] += value\n",
    "        except KeyError:\n",
    "            self.d[key] = value\n",
    "            \n",
    "    def most_common(self, topn=None):\n",
    "        items = self.d.items()                   # extract key-value pairs\n",
    "        items = sorted(items, key=itemgetter(1)) # sort by value\n",
    "        items = items[::-1]                      # decreasing instead of increasing order\n",
    "        return items[:topn]                      # chop off the top using topn argument"
   ]
  },
  {
   "cell_type": "markdown",
   "metadata": {},
   "source": [
    "This is probably a lot to take in, but notice how cool it is that inside the constructor, we can actually already use the methods that are defined further down (`self.add(value)`, with a default of `1` for the increment)! Now, we are getting really close to a full-blown counter:"
   ]
  },
  {
   "cell_type": "code",
   "execution_count": 330,
   "metadata": {},
   "outputs": [
    {
     "data": {
      "text/plain": [
       "[(' ', 63), ('e', 51), ('a', 42), ('i', 36), ('u', 35)]"
      ]
     },
     "execution_count": 330,
     "metadata": {},
     "output_type": "execute_result"
    }
   ],
   "source": [
    "cnt = OurCounter(aeneid)\n",
    "cnt.most_common(5)"
   ]
  },
  {
   "cell_type": "markdown",
   "metadata": {},
   "source": [
    "One final gimmick is that we can gain control over how our object gets printed. Note how the standard Counter returns the underlying `dict` as follows:"
   ]
  },
  {
   "cell_type": "code",
   "execution_count": 331,
   "metadata": {},
   "outputs": [
    {
     "name": "stdout",
     "output_type": "stream",
     "text": [
      "Counter({' ': 63, 'e': 51, 'a': 42, 'i': 36, 'u': 35, 't': 30, 'm': 26, 's': 26, 'r': 25, 'o': 25, 'n': 21, 'l': 17, 'q': 10, '\\n': 10, 'v': 9, 'd': 8, ',': 7, 'p': 7, 'b': 7, 'c': 6, 'g': 4, 'f': 3, 'L': 3, 'A': 2, 'I': 2, '.': 2, 'T': 1, '—': 1, '5': 1, ';': 1, 'R': 1, 'M': 1, 'h': 1, '1': 1, '0': 1, '?': 1})\n"
     ]
    }
   ],
   "source": [
    "cnt = Counter(aeneid) # standard counter!\n",
    "print(cnt)"
   ]
  },
  {
   "cell_type": "markdown",
   "metadata": {},
   "source": [
    "We can easily tweak our class definition to do the same, by **overriding** the standard string representation methods that all objects in Python have:"
   ]
  },
  {
   "cell_type": "code",
   "execution_count": 332,
   "metadata": {},
   "outputs": [],
   "source": [
    "class OurCounter:\n",
    "    \n",
    "    def __init__(self, iterable=None):\n",
    "        self.d = {}\n",
    "        if iterable:\n",
    "            for value in iterable:\n",
    "                self.add(value, 1)\n",
    "        \n",
    "    def add(self, key, value=1):\n",
    "        try:\n",
    "            self.d[key] += value\n",
    "        except KeyError:\n",
    "            self.d[key] = value\n",
    "            \n",
    "    def most_common(self, topn=None):\n",
    "        items = self.d.items()                   # extract key-value pairs\n",
    "        items = sorted(items, key=itemgetter(1)) # sort by value\n",
    "        items = items[::-1]                      # decreasing instead of increasing order\n",
    "        return items[:topn]                      # chop off the top using topn argument\n",
    "    \n",
    "    def __str__(self):\n",
    "        info = str(self.d)\n",
    "        info = 'OurCounter(' + info +')'\n",
    "        return info"
   ]
  },
  {
   "cell_type": "markdown",
   "metadata": {},
   "source": [
    "Note the fancy underscores surrounding the method name (`__str__(self)`). This indicates that we overriding some pretty basic, **low-level** functionaliy  of the Python object. Check out what happens when we now print our object:"
   ]
  },
  {
   "cell_type": "code",
   "execution_count": 333,
   "metadata": {},
   "outputs": [
    {
     "name": "stdout",
     "output_type": "stream",
     "text": [
      "OurCounter({'A': 2, 'r': 25, 'm': 26, 'a': 42, ' ': 63, 'v': 9, 'i': 36, 'u': 35, 'q': 10, 'e': 51, 'c': 6, 'n': 21, 'o': 25, ',': 7, 'T': 1, 'p': 7, 's': 26, 'b': 7, '\\n': 10, 'I': 2, 't': 30, 'l': 17, 'f': 3, 'g': 4, 'L': 3, '—': 1, '5': 1, 'd': 8, ';': 1, 'R': 1, '.': 2, 'M': 1, 'h': 1, '1': 1, '0': 1, '?': 1})\n"
     ]
    }
   ],
   "source": [
    "cnt = OurCounter(aeneid)\n",
    "print(cnt)"
   ]
  },
  {
   "cell_type": "markdown",
   "metadata": {},
   "source": [
    "Finally, remember, this section is for illustration purposes only: we don't expect you to be able to define on your own classes in the near future. (Just working with existing ones can be challenging enough!). Nevertheless, we do think that reading through this this section might help to you understand what a class does and why it's like to interact with such objects."
   ]
  },
  {
   "cell_type": "markdown",
   "metadata": {},
   "source": [
    "#### Exercise\n",
    "\n",
    "Download a plain text novel from Gutenberg. Work on your `Counter` skills and use an instance of the class to:\n",
    "- make a character-level frequency dictionary: what are the three most frequent characters?\n",
    "- make a word-level frequency dictionary: : what are the three most frequent word tokens?\n",
    "- make a list of `Counter` objects, containing a character-level frequency dictionary for each line."
   ]
  }
 ],
 "metadata": {
  "kernelspec": {
   "display_name": "Python (n36)",
   "language": "python",
   "name": "n36"
  },
  "language_info": {
   "codemirror_mode": {
    "name": "ipython",
    "version": 3
   },
   "file_extension": ".py",
   "mimetype": "text/x-python",
   "name": "python",
   "nbconvert_exporter": "python",
   "pygments_lexer": "ipython3",
   "version": "3.6.10"
  }
 },
 "nbformat": 4,
 "nbformat_minor": 4
}
