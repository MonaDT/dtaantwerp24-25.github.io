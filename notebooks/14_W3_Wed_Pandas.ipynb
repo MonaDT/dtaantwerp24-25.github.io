{
 "cells": [
  {
   "attachments": {},
   "cell_type": "markdown",
   "metadata": {
    "id": "nI3frtp7nvKa"
   },
   "source": [
    "<div style=\"background-color:lightgrey;\n",
    "            padding:10px;\n",
    "            color:black;\n",
    "            border:black dashed 2px; \n",
    "            border-radius:5px;\n",
    "            margin: 20px 0;\">\n",
    "            \n",
    "            \n",
    "# Pandas Data Analysis\n",
    "\n",
    "\n",
    "\n",
    "**Staff:** Loren Verreyen <br/>\n",
    "**Support Material:** [exercises](https://github.com/dtaantwerp/dtaantwerp.github.io/blob/DTA_Bootcamp_2021_students/exercises/Questions_2023/12_EX_Pandas.ipynb) <br/>\n",
    "**Support Sessions:**  Thursday, October 12, 10:30AM\n",
    "\n",
    "<h2 style=\"color:purple\">Datasets</h2>\n",
    "\n",
    "- <a style=\"font-size:120%;color:blue\" href=\"https://raw.githubusercontent.com/dtaantwerp/dtaantwerp.github.io/master--/data/titanic.csv\">titanic.csv</a>\n",
    "- <a style=\"font-size:120%;color:blue\" href=\"https://raw.githubusercontent.com/dtaantwerp/dtaantwerp.github.io/master/data/311-service-requests.csv\">311-service-requests.csv</a>\n",
    "- <a style=\"font-size:120%;color:blue\" href=\"https://raw.githubusercontent.com/dtaantwerp/dtaantwerp.github.io/master/data/bikes.csv\">bikes.csv</a>\n",
    "</div>"
   ]
  },
  {
   "attachments": {},
   "cell_type": "markdown",
   "metadata": {
    "id": "0NAysGDDnvKc"
   },
   "source": [
    "<div style=\"background-color:lightgrey;\n",
    "            padding:10px;\n",
    "            color:black;\n",
    "            border:lightgrey solid 2px; \n",
    "            border-radius:5px;\n",
    "            margin: 20px 0;\n",
    "            text-align:center\">\n",
    "  \n",
    "# PART 1 : Introduction to Pandas \n",
    "\n",
    "</div>\n",
    "\n",
    "## An introduction to Pandas\n",
    "\n",
    "\n",
    "#### Learning Objectives\n",
    "- Understand what Pandas is used for\n",
    "- Be able to implement the fundamental components of Pandas\n",
    "- Be familiar with the Pandas approach\n",
    "\n",
    "\n",
    "#### Programme\n",
    "- What is Pandas?\n",
    "- Why would I use it?\n",
    "- How do I use Pandas?\n"
   ]
  },
  {
   "cell_type": "code",
   "execution_count": null,
   "metadata": {
    "colab": {
     "base_uri": "https://localhost:8080/"
    },
    "id": "5jPT6YgmnvKd",
    "outputId": "6f44bc8a-7bbe-422a-9c60-89230847c3f3"
   },
   "outputs": [],
   "source": [
    "%matplotlib inline \n",
    "# this is magic (a \"magic expression\" that makes plots appear in the notebook)\n",
    "\n",
    "import numpy as np\n",
    "import pandas as pd\n",
    "import matplotlib.pyplot as plt"
   ]
  },
  {
   "attachments": {},
   "cell_type": "markdown",
   "metadata": {
    "id": "4AYbZaG5nvKd"
   },
   "source": [
    "## CSV Files (Comma-Separated Values)\n",
    "\n",
    "CSV's are a file type for storing tabular data. You may know them from Microsoft Excel. They store data like this:\n",
    "\n",
    "```\n",
    "column1,column2,column3\n",
    "index1,0,1\n",
    "index2,3,2\n",
    "index3,6,3\n",
    "```\n",
    "\n",
    "The commas separate the values in the table (hence the name), and the returns separate the lines.\n",
    "\n",
    "In the above example, the first row and first column are used as a **header** to specify column names and the index. This is a best practice but not a necessity. \n",
    "\n",
    "## Opening CSVs in Pandas\n",
    "\n",
    "Pandas works with all major forms of tabular data. It can even import Excel spreadsheets. However, most of the time we work with CSV's and Jsons"
   ]
  },
  {
   "cell_type": "code",
   "execution_count": null,
   "metadata": {
    "id": "mT_AmB-LnvKe"
   },
   "outputs": [],
   "source": [
    "df = pd.read_csv('../data/titanic.csv') "
   ]
  },
  {
   "cell_type": "code",
   "execution_count": null,
   "metadata": {
    "id": "y7HA_xQanvKe"
   },
   "outputs": [],
   "source": [
    "df.head()"
   ]
  },
  {
   "attachments": {},
   "cell_type": "markdown",
   "metadata": {},
   "source": [
    "#### Some random examples:"
   ]
  },
  {
   "cell_type": "code",
   "execution_count": null,
   "metadata": {},
   "outputs": [],
   "source": [
    "df['Survived'].mean()"
   ]
  },
  {
   "attachments": {},
   "cell_type": "markdown",
   "metadata": {},
   "source": [
    "Example: mean survival rate per sex?"
   ]
  },
  {
   "cell_type": "code",
   "execution_count": null,
   "metadata": {},
   "outputs": [],
   "source": [
    "df.groupby('Sex')['Survived'].mean()"
   ]
  },
  {
   "attachments": {},
   "cell_type": "markdown",
   "metadata": {},
   "source": [
    "Plot that:"
   ]
  },
  {
   "cell_type": "code",
   "execution_count": null,
   "metadata": {},
   "outputs": [],
   "source": [
    "df.groupby('Sex')['Survived'].mean().plot(kind='bar');"
   ]
  },
  {
   "attachments": {},
   "cell_type": "markdown",
   "metadata": {},
   "source": [
    "Fare per class?"
   ]
  },
  {
   "cell_type": "code",
   "execution_count": null,
   "metadata": {},
   "outputs": [],
   "source": [
    "df.groupby('Pclass')['Fare'].mean().plot(kind='bar');"
   ]
  },
  {
   "attachments": {},
   "cell_type": "markdown",
   "metadata": {},
   "source": [
    "Survival rate per class?"
   ]
  },
  {
   "cell_type": "code",
   "execution_count": null,
   "metadata": {},
   "outputs": [],
   "source": [
    "df.groupby('Pclass')['Survived'].mean().plot(kind='bar');"
   ]
  },
  {
   "attachments": {},
   "cell_type": "markdown",
   "metadata": {},
   "source": [
    "Survival vs fare?"
   ]
  },
  {
   "cell_type": "code",
   "execution_count": null,
   "metadata": {},
   "outputs": [],
   "source": [
    "df.boxplot('Fare', 'Survived');"
   ]
  },
  {
   "attachments": {},
   "cell_type": "markdown",
   "metadata": {
    "id": "mSYozzU7nvKe"
   },
   "source": [
    "# The pandas data structures: `DataFrame` and `Series`\n",
    "\n",
    "Pandas uses two main structures, a DataFrame and a Series. Understanding them will help you to use Pandas for data analysis."
   ]
  },
  {
   "cell_type": "code",
   "execution_count": null,
   "metadata": {
    "id": "MXKqkp7MnvKf"
   },
   "outputs": [],
   "source": [
    "df"
   ]
  },
  {
   "attachments": {},
   "cell_type": "markdown",
   "metadata": {
    "id": "A3EDysOWnvKf"
   },
   "source": [
    "## DataFrame\n",
    "\n",
    "A `DataFrame` is a tabular data structure (multi-dimensional object to hold labeled data) comprised of rows and columns, like a spreadsheet.\n",
    "\n",
    "The `DataFrame` is a kind of container object in a similar way as a `dictionary`, but which can be acessed along two axes. \n",
    "\n",
    "#### Characteristics  \n",
    "- 2-dimensional data structure\n",
    "- A table\n",
    "- Similar to a spreadsheet\n",
    "- An object type within Python"
   ]
  },
  {
   "attachments": {},
   "cell_type": "markdown",
   "metadata": {
    "id": "C5u7eiNPnvKf"
   },
   "source": [
    "### Attributes of the DataFrame\n",
    "\n",
    "Like dictionaries have `keys` and `values`, the contents of a DataFrame can be accessed using a set of attributes. The primary attributes for `DataFrames` are as follows:"
   ]
  },
  {
   "cell_type": "code",
   "execution_count": null,
   "metadata": {
    "id": "iNpxJP0RnvKf"
   },
   "outputs": [],
   "source": [
    "df.index # row labels"
   ]
  },
  {
   "attachments": {},
   "cell_type": "markdown",
   "metadata": {
    "id": "CmQKSGFYnvKf"
   },
   "source": [
    "Note that `index` in Pandas DataFrames refers to **rows**. The row labels above are continuous, 0-891, and thus summarized. That is different from the column labels as you'll see below."
   ]
  },
  {
   "cell_type": "code",
   "execution_count": null,
   "metadata": {
    "id": "30t4hICfnvKg"
   },
   "outputs": [],
   "source": [
    "df.columns # column labels"
   ]
  },
  {
   "attachments": {},
   "cell_type": "markdown",
   "metadata": {
    "id": "XRcnNcfYnvKg"
   },
   "source": [
    "The `values` attribute returns an array (a `numpy` version of lists) or arrays that contains the whole dataset."
   ]
  },
  {
   "cell_type": "code",
   "execution_count": null,
   "metadata": {
    "id": "vqYDlWhrnvKg",
    "scrolled": true
   },
   "outputs": [],
   "source": [
    "df.values"
   ]
  },
  {
   "attachments": {},
   "cell_type": "markdown",
   "metadata": {
    "id": "Y38C6x_fnvKg"
   },
   "source": [
    "The `shape` attribute is very useful for getting a sense of the size of the dataset. The format is `(n_rows, n_columns)`."
   ]
  },
  {
   "cell_type": "code",
   "execution_count": null,
   "metadata": {
    "id": "QAZMO3QlnvKg"
   },
   "outputs": [],
   "source": [
    "df.shape"
   ]
  },
  {
   "attachments": {},
   "cell_type": "markdown",
   "metadata": {
    "id": "ERXTXrmVnvKg"
   },
   "source": [
    "DataFrames can contain all kinds of different object types. Standard Python objects like `int` or `str` are put into object types specific to DataFrames. To check the data types of the different columns:"
   ]
  },
  {
   "cell_type": "code",
   "execution_count": null,
   "metadata": {
    "id": "gPGjW-zonvKg"
   },
   "outputs": [],
   "source": [
    "df.dtypes"
   ]
  },
  {
   "attachments": {},
   "cell_type": "markdown",
   "metadata": {
    "id": "lB-SlDupnvKg"
   },
   "source": [
    "An overview of that information can be given with the `info()` method:"
   ]
  },
  {
   "cell_type": "code",
   "execution_count": null,
   "metadata": {
    "id": "ZYRWimXsnvKg"
   },
   "outputs": [],
   "source": [
    "df.info()"
   ]
  },
  {
   "attachments": {},
   "cell_type": "markdown",
   "metadata": {},
   "source": [
    "There is also the `describe()` method:"
   ]
  },
  {
   "cell_type": "code",
   "execution_count": null,
   "metadata": {},
   "outputs": [],
   "source": [
    "df.describe()"
   ]
  },
  {
   "attachments": {},
   "cell_type": "markdown",
   "metadata": {
    "id": "H9ZUa7TnnvKg"
   },
   "source": [
    "### Building DataFrames from Scratch.\n",
    "\n",
    "#### With a list\n",
    "\n",
    "Apart from importing your data from an external source (text files, Excel spreadsheets, databases, ..), it is also common to build dataframes from Python data structures like lists and dictionaries.\n",
    "\n",
    "Note that with this method, each list represents a single observation or, in this case, a country. You could use other ordered objects as well, such as `tuples`: i.e. tuple of lists, list of tuples, tuple of tuples, list of lists."
   ]
  },
  {
   "cell_type": "code",
   "execution_count": null,
   "metadata": {
    "id": "Ni6y0acinvKh"
   },
   "outputs": [],
   "source": [
    "data = [\n",
    "    ['Belgium', 11.3, 30510, 'Brussels'],\n",
    "    ['France', 64.3, 671308, 'Paris'],\n",
    "    ['Germany', 81.3, 357050, 'Berlin'],\n",
    "    ['Netherlands', 16.9, 41526, 'Amsterdam'],\n",
    "    ['United Kingdom', 64.9, 244820, 'London']\n",
    "]\n",
    "\n",
    "headers = ['country', 'population', 'area', 'capital'] # column headers\n",
    "\n",
    "df_countries = pd.DataFrame(data, columns=headers) # what happens if we don't say `columns=headers`?\n",
    "df_countries"
   ]
  },
  {
   "attachments": {},
   "cell_type": "markdown",
   "metadata": {
    "id": "oAu_YbbAnvKh"
   },
   "source": [
    "#### With a dictionary\n",
    "\n",
    "Rather than feeding a list of lists as rows, we can provide a dictionary of columns. In this case, the keys of the dictionary are the column labels and the values are some kind of ordered iterable (e.g. `list`, `tuple`, `pandas.Series`). \n",
    "\n",
    "Note that the items for each iterable should be in the order of the other iterables. For example, $64.3$ in 'population' should correspond with 'France' in 'country'."
   ]
  },
  {
   "cell_type": "code",
   "execution_count": null,
   "metadata": {
    "id": "QHsC8FuynvKh"
   },
   "outputs": [],
   "source": [
    "data = {\n",
    "    'country': ['Belgium', 'France', 'Germany', 'Netherlands', 'United Kingdom'],\n",
    "    'population': [11.3, 64.3, 81.3, 16.9, 64.9],\n",
    "    'area': [30510, 671308, 357050, 41526, 244820],\n",
    "    'capital': ['Brussels', 'Paris', 'Berlin', 'Amsterdam', 'London']\n",
    "}\n",
    "df_countries = pd.DataFrame(data)\n",
    "df_countries"
   ]
  },
  {
   "attachments": {},
   "cell_type": "markdown",
   "metadata": {
    "id": "8N44cOjJnvKh"
   },
   "source": [
    "### One-dimensional data: `Series` (a column of a DataFrame)\n",
    "\n",
    "A Series is a basic holder for **one-dimensional labeled data**, similar to a `list`, but possessing special methods and attributes for data analysis. A `DataFrame` consists of `Series` objects \"glued\" together. For instance, if we select the \"Age\" column below we'll see that the column *is* a `Series`.\n",
    "\n",
    "#### Characteristics  \n",
    "- 1 dimensional data structure\n",
    "- Each **column** in a `DataFrame` is a `Series`\n",
    "- Each **row** in a `DataFrame` is a `Series`\n",
    "\n",
    "![series](https://pandas.pydata.org/docs/_images/01_table_series.svg)"
   ]
  },
  {
   "cell_type": "code",
   "execution_count": null,
   "metadata": {
    "id": "u89nVWCQnvKh"
   },
   "outputs": [],
   "source": [
    "age = df['Age']\n",
    "print(type(df['Age']))"
   ]
  },
  {
   "cell_type": "code",
   "execution_count": null,
   "metadata": {
    "id": "j2HU-sFInvKh"
   },
   "outputs": [],
   "source": [
    "age"
   ]
  },
  {
   "attachments": {},
   "cell_type": "markdown",
   "metadata": {
    "id": "q7yt3dv4nvKh"
   },
   "source": [
    "The `Series` has a lot of useful methods. Here are some examples:"
   ]
  },
  {
   "cell_type": "code",
   "execution_count": null,
   "metadata": {
    "id": "wDO8nd-EnvKh"
   },
   "outputs": [],
   "source": [
    "print('mean', age.mean())\n",
    "print('max', age.max())\n",
    "print('min', age.min())\n",
    "print('mean', age.mean())\n",
    "print('sum', age.sum())"
   ]
  },
  {
   "attachments": {},
   "cell_type": "markdown",
   "metadata": {
    "id": "Q1ZWseOQnvKh"
   },
   "source": [
    "### Attributes of a Series: `index` and `values`\n",
    "\n",
    "The Series has also an `index` and `values` attribute, but no `columns`"
   ]
  },
  {
   "cell_type": "code",
   "execution_count": null,
   "metadata": {
    "id": "LDUTL19AnvKh"
   },
   "outputs": [],
   "source": [
    "age.index"
   ]
  },
  {
   "attachments": {},
   "cell_type": "markdown",
   "metadata": {
    "id": "RWY0hR0lnvKh"
   },
   "source": [
    "You can access the underlying numpy array representation with the `.values` attribute:"
   ]
  },
  {
   "cell_type": "code",
   "execution_count": null,
   "metadata": {
    "id": "VgcC4tBgnvKh"
   },
   "outputs": [],
   "source": [
    "age.values[:10]"
   ]
  },
  {
   "attachments": {},
   "cell_type": "markdown",
   "metadata": {
    "id": "ZAA0D_kpnvKh"
   },
   "source": [
    "We can access series values via the index, just like for NumPy arrays:"
   ]
  },
  {
   "cell_type": "code",
   "execution_count": null,
   "metadata": {
    "id": "vxRp8LfznvKi"
   },
   "outputs": [],
   "source": [
    "age[0]"
   ]
  },
  {
   "attachments": {},
   "cell_type": "markdown",
   "metadata": {
    "id": "9liciHABnvKi"
   },
   "source": [
    "Unlike the NumPy array, though, this index can be something other than integers:"
   ]
  },
  {
   "cell_type": "code",
   "execution_count": null,
   "metadata": {
    "id": "sMwJ78g_nvKi"
   },
   "outputs": [],
   "source": [
    "df = df.set_index('Name')\n",
    "df"
   ]
  },
  {
   "cell_type": "code",
   "execution_count": null,
   "metadata": {
    "id": "CbGOBDMtnvKi"
   },
   "outputs": [],
   "source": [
    "age = df['Age']\n",
    "age"
   ]
  },
  {
   "attachments": {},
   "cell_type": "markdown",
   "metadata": {},
   "source": [
    "How is a `Series` different from a plain `numpy` array? `Series` can have a non-numeric index:"
   ]
  },
  {
   "cell_type": "code",
   "execution_count": null,
   "metadata": {
    "id": "2YNQDxutnvKi"
   },
   "outputs": [],
   "source": [
    "age['Dooley, Mr. Patrick']"
   ]
  },
  {
   "attachments": {},
   "cell_type": "markdown",
   "metadata": {
    "id": "qMDWVDOPnvKi"
   },
   "source": [
    "Many things you can do with numpy arrays, can also be applied on DataFrames / Series; e.g. element-wise operations:"
   ]
  },
  {
   "cell_type": "code",
   "execution_count": null,
   "metadata": {
    "id": "T8yDQKaZnvKi"
   },
   "outputs": [],
   "source": [
    "age * 1000"
   ]
  },
  {
   "attachments": {},
   "cell_type": "markdown",
   "metadata": {
    "id": "CHwEjwvmnvKi"
   },
   "source": [
    "A range of methods exists:"
   ]
  },
  {
   "cell_type": "code",
   "execution_count": null,
   "metadata": {
    "id": "1DYlXKfgnvKi"
   },
   "outputs": [],
   "source": [
    "age.mean()"
   ]
  },
  {
   "attachments": {},
   "cell_type": "markdown",
   "metadata": {
    "id": "UolIsoKenvKi"
   },
   "source": [
    "Fancy indexing, like indexing with a list or boolean indexing:"
   ]
  },
  {
   "cell_type": "code",
   "execution_count": null,
   "metadata": {
    "id": "jUafU4N1nvKi"
   },
   "outputs": [],
   "source": [
    "age[age > 70]"
   ]
  },
  {
   "attachments": {},
   "cell_type": "markdown",
   "metadata": {
    "id": "50n_FinxnvKi"
   },
   "source": [
    "But also a lot of pandas specific methods, e.g."
   ]
  },
  {
   "cell_type": "code",
   "execution_count": null,
   "metadata": {
    "id": "4umHPP9wnvKi"
   },
   "outputs": [],
   "source": [
    "df['Embarked'].value_counts()"
   ]
  },
  {
   "attachments": {},
   "cell_type": "markdown",
   "metadata": {
    "id": "A-mT9wygnvKi"
   },
   "source": [
    "# *Class Exercise*\n",
    "- How many women were on board? How many men?\n",
    "- What were the names of the oldest and youngest passenger?\n",
    "- What was the age distribution of the Titanic passengers?\n",
    "- What was the maximum Fare that was paid? And the median?\n",
    "- Calculate the average survival ratio for all passengers (note: the 'Survived' column indicates whether someone survived (1) or not (0)).\n",
    "- **Can you think yourself of a question that we could answer on the basis of the dataset?**"
   ]
  },
  {
   "attachments": {},
   "cell_type": "markdown",
   "metadata": {
    "id": "xicrFksBnvKi"
   },
   "source": [
    "# Selecting and filtering data"
   ]
  },
  {
   "attachments": {},
   "cell_type": "markdown",
   "metadata": {
    "id": "ZyU8Qh__nvKi"
   },
   "source": [
    "For a DataFrame, basic indexing selects the columns.\n",
    "\n",
    "Selecting a single column:"
   ]
  },
  {
   "cell_type": "code",
   "execution_count": null,
   "metadata": {
    "id": "I0_OYR9YnvKi"
   },
   "outputs": [],
   "source": [
    "df['Age']"
   ]
  },
  {
   "attachments": {},
   "cell_type": "markdown",
   "metadata": {
    "id": "Wcgdu2eRnvKi"
   },
   "source": [
    "or multiple columns:"
   ]
  },
  {
   "cell_type": "code",
   "execution_count": null,
   "metadata": {
    "id": "l27Xbia1nvKi"
   },
   "outputs": [],
   "source": [
    "df[['Age', 'Fare']]"
   ]
  },
  {
   "attachments": {},
   "cell_type": "markdown",
   "metadata": {
    "id": "lzBf5vL-nvKi"
   },
   "source": [
    "But, slicing accesses the rows:"
   ]
  },
  {
   "cell_type": "code",
   "execution_count": null,
   "metadata": {
    "id": "o5IYjGmRnvKi"
   },
   "outputs": [],
   "source": [
    "df[10:15]"
   ]
  },
  {
   "attachments": {},
   "cell_type": "markdown",
   "metadata": {
    "id": "2OmES4DZnvKi"
   },
   "source": [
    "### Systematic indexing with `loc` and `iloc`\n",
    "\n",
    "When using `[]` like above, you can only select from one axis at once (rows or columns, not both). For more advanced indexing, you have some extra attributes:\n",
    "    \n",
    "* `loc`: selection by \"label\"; or rather: the index\n",
    "* `iloc`: selection by position"
   ]
  },
  {
   "attachments": {},
   "cell_type": "markdown",
   "metadata": {
    "id": "jPO3cco_nvKj"
   },
   "source": [
    "Note that we have changed the index to the `Name` column:"
   ]
  },
  {
   "cell_type": "code",
   "execution_count": null,
   "metadata": {
    "id": "l9aRM7hqnvKj"
   },
   "outputs": [],
   "source": [
    "df.head()"
   ]
  },
  {
   "cell_type": "code",
   "execution_count": null,
   "metadata": {
    "id": "NYbnxnp_nvKj"
   },
   "outputs": [],
   "source": [
    "df.loc['Bonnell, Miss. Elizabeth', 'Fare']"
   ]
  },
  {
   "cell_type": "code",
   "execution_count": null,
   "metadata": {
    "id": "tdkZKijznvKj",
    "scrolled": true
   },
   "outputs": [],
   "source": [
    "df.loc['Bonnell, Miss. Elizabeth':'Andersson, Mr. Anders Johan', :]"
   ]
  },
  {
   "attachments": {},
   "cell_type": "markdown",
   "metadata": {
    "id": "w5pJ6W2tnvKj"
   },
   "source": [
    "Selecting by position with `iloc` works similar as indexing numpy arrays:"
   ]
  },
  {
   "cell_type": "code",
   "execution_count": null,
   "metadata": {
    "id": "uBAdXhgAnvKj"
   },
   "outputs": [],
   "source": [
    "df.iloc[0:2,1:3]"
   ]
  },
  {
   "attachments": {},
   "cell_type": "markdown",
   "metadata": {
    "id": "-wX2Bv5-nvKj"
   },
   "source": [
    "The different indexing methods can also be used to assign data:"
   ]
  },
  {
   "cell_type": "code",
   "execution_count": null,
   "metadata": {
    "id": "xcRJ5YX7nvKj"
   },
   "outputs": [],
   "source": [
    "df.loc['Braund, Mr. Owen Harris', 'Survived'] = 100"
   ]
  },
  {
   "cell_type": "code",
   "execution_count": null,
   "metadata": {
    "id": "yOADv1L8nvKj"
   },
   "outputs": [],
   "source": [
    "df"
   ]
  },
  {
   "attachments": {},
   "cell_type": "markdown",
   "metadata": {
    "id": "YgQwcv2ZnvKj"
   },
   "source": [
    "### Boolean indexing (filtering)"
   ]
  },
  {
   "attachments": {},
   "cell_type": "markdown",
   "metadata": {
    "id": "kPkah6convKj"
   },
   "source": [
    "Often, you want to select rows based on a certain condition. This can be done with 'boolean indexing' and comparable to numpy. \n",
    "\n",
    "The indexer (or boolean mask) should be 1-dimensional and the same length as the thing being indexed."
   ]
  },
  {
   "cell_type": "code",
   "execution_count": null,
   "metadata": {
    "id": "LUBahBGlnvKj",
    "run_control": {
     "frozen": false,
     "read_only": false
    }
   },
   "outputs": [],
   "source": [
    "df['Fare'] > 50"
   ]
  },
  {
   "cell_type": "code",
   "execution_count": null,
   "metadata": {
    "id": "SuTY5aWpnvKj",
    "run_control": {
     "frozen": false,
     "read_only": false
    }
   },
   "outputs": [],
   "source": [
    "df[df['Fare'] > 50]"
   ]
  },
  {
   "attachments": {},
   "cell_type": "markdown",
   "metadata": {
    "id": "QrYXpf-4nvKj"
   },
   "source": [
    "<div style=\"background-color:lightgrey;\n",
    "            padding:10px;\n",
    "            color:black;\n",
    "            border:lightgrey solid 2px; \n",
    "            border-radius:5px;\n",
    "            margin: 20px 0;\n",
    "            text-align:center\">\n",
    "  \n",
    "# PART 2 : Solving Real Problems with Pandas \n",
    "\n",
    "</div>\n",
    "\n",
    "In this part of the class we will work on group problems using a series of datasets."
   ]
  },
  {
   "cell_type": "code",
   "execution_count": null,
   "metadata": {},
   "outputs": [],
   "source": [
    "# we will import on a table on complaint call data from New York\n",
    "\n",
    "complaints = pd.read_csv('../data/311-service-requests.csv', dtype='unicode')\n",
    "complaints.head()"
   ]
  },
  {
   "attachments": {},
   "cell_type": "markdown",
   "metadata": {
    "id": "3EfqvdwcnvKj"
   },
   "source": [
    "# *Class Exercise: What's the most common complaint type?*"
   ]
  },
  {
   "attachments": {},
   "cell_type": "markdown",
   "metadata": {
    "id": "cGuWYY3snvKj"
   },
   "source": [
    "There's a `.value_counts()` method that we can use:"
   ]
  },
  {
   "attachments": {},
   "cell_type": "markdown",
   "metadata": {
    "id": "VgfyhayznvKj"
   },
   "source": [
    "If we just wanted the top 10 most common complaints, we can do this:"
   ]
  },
  {
   "cell_type": "code",
   "execution_count": null,
   "metadata": {
    "id": "V3xfhiERnvKj"
   },
   "outputs": [],
   "source": [
    "complaint_counts = complaints['Complaint Type'].value_counts()\n",
    "complaint_counts[:10]"
   ]
  },
  {
   "attachments": {},
   "cell_type": "markdown",
   "metadata": {
    "id": "j0LO200pnvKj"
   },
   "source": [
    "But it gets better! We can plot them!"
   ]
  },
  {
   "cell_type": "code",
   "execution_count": null,
   "metadata": {
    "id": "X84zDsmLnvKj"
   },
   "outputs": [],
   "source": [
    "complaint_counts[:10].plot(kind='bar')"
   ]
  },
  {
   "attachments": {},
   "cell_type": "markdown",
   "metadata": {
    "id": "YzQByAtpnvKj"
   },
   "source": [
    "This quick set of methods unwraps a large table and communicates it clearly based on a query."
   ]
  },
  {
   "attachments": {},
   "cell_type": "markdown",
   "metadata": {
    "id": "L1TdKb5snvKk",
    "tags": []
   },
   "source": [
    "## Selecting only noise complaints"
   ]
  },
  {
   "attachments": {},
   "cell_type": "markdown",
   "metadata": {
    "id": "orYuFxrhnvKk"
   },
   "source": [
    "I'd like to know which borough has the most noise complaints. First, we'll take a look at the data to see what it looks like:"
   ]
  },
  {
   "cell_type": "code",
   "execution_count": null,
   "metadata": {
    "id": "VKsMPkhgnvKk"
   },
   "outputs": [],
   "source": [
    "complaints.head()"
   ]
  },
  {
   "attachments": {},
   "cell_type": "markdown",
   "metadata": {
    "id": "5uY7vGXenvKk"
   },
   "source": [
    "To get the noise complaints, we need to find the rows where the \"Complaint Type\" column is \"Noise - Street/Sidewalk\". I'll show you how to do that, and then explain what's going on."
   ]
  },
  {
   "cell_type": "code",
   "execution_count": null,
   "metadata": {
    "id": "uvY7tFO7nvKk",
    "outputId": "4dca8094-d7b3-459b-82e4-639dd90a929c"
   },
   "outputs": [],
   "source": [
    "noise_complaints = complaints[complaints['Complaint Type'] == \"Noise - Street/Sidewalk\"]\n",
    "noise_complaints.head()"
   ]
  },
  {
   "attachments": {},
   "cell_type": "markdown",
   "metadata": {
    "id": "Gox0IPPxnvKk"
   },
   "source": [
    "If you look at `noise_complaints`, you'll see that this worked, and it only contains complaints with the right complaint type. But how does this work? Let's deconstruct it into two pieces"
   ]
  },
  {
   "cell_type": "code",
   "execution_count": null,
   "metadata": {
    "id": "s77TMlsPnvKk",
    "outputId": "519b597f-cd82-41eb-98e7-7c7410cc761e"
   },
   "outputs": [],
   "source": [
    "# we can use boolean indexing\n",
    "complaints['Complaint Type'] == \"Noise - Street/Sidewalk\""
   ]
  },
  {
   "attachments": {},
   "cell_type": "markdown",
   "metadata": {
    "id": "_5ZWePwqnvKk"
   },
   "source": [
    "This is a big array of `True`s and `False`s, one for each row in our dataframe. When we index our dataframe with this array, we get just the rows where our boolean array evaluated to `True`.  It's important to note that for row filtering by a boolean array the length of our dataframe's index must be the same length as the boolean array used for filtering.\n",
    "\n",
    "You can also combine more than one condition with the `&` operator like this:"
   ]
  },
  {
   "cell_type": "code",
   "execution_count": null,
   "metadata": {
    "id": "Tr5Ceps5nvKk",
    "outputId": "6a20f3a1-1fda-4c97-f157-fdbe5a169136"
   },
   "outputs": [],
   "source": [
    "# these are our boolean indices\n",
    "is_noise = complaints['Complaint Type'] == \"Noise - Street/Sidewalk\" \n",
    "in_brooklyn = complaints['Borough'] == \"BROOKLYN\"\n",
    "complaints[is_noise & in_brooklyn][:5]"
   ]
  },
  {
   "attachments": {},
   "cell_type": "markdown",
   "metadata": {
    "id": "9TH39qOgnvKk"
   },
   "source": [
    "Or if we just wanted a few columns:"
   ]
  },
  {
   "cell_type": "code",
   "execution_count": null,
   "metadata": {
    "id": "u7DGxv2lnvKk",
    "outputId": "4de0a806-e229-4f8a-8387-1a35ec73195e"
   },
   "outputs": [],
   "source": [
    "complaints[is_noise & in_brooklyn][['Complaint Type', 'Borough', 'Created Date', 'Descriptor']][:10]"
   ]
  },
  {
   "attachments": {},
   "cell_type": "markdown",
   "metadata": {
    "id": "cjZOgxQfnvKk"
   },
   "source": [
    "# *Class Exercise: So, which borough has the most noise complaints?* \n"
   ]
  },
  {
   "cell_type": "code",
   "execution_count": null,
   "metadata": {
    "id": "7PVodC62nvKk",
    "outputId": "a28af182-bdae-419b-f8ae-a6810eafaf88"
   },
   "outputs": [],
   "source": [
    "# answer here"
   ]
  },
  {
   "attachments": {},
   "cell_type": "markdown",
   "metadata": {
    "id": "wamp4bYxnvKk"
   },
   "source": [
    "(Hint: It's Manhattan!)\n",
    "\n",
    "But what if we wanted to divide by the total number of complaints, to make it make a bit more sense? That would be easy too:"
   ]
  },
  {
   "cell_type": "code",
   "execution_count": null,
   "metadata": {
    "id": "9UZt5EzmnvKk"
   },
   "outputs": [],
   "source": [
    "noise_complaint_counts = noise_complaints['Borough'].value_counts()\n",
    "complaint_counts = complaints['Borough'].value_counts()"
   ]
  },
  {
   "cell_type": "code",
   "execution_count": null,
   "metadata": {
    "id": "X_DhHEa9nvKl",
    "outputId": "c9c0ebab-37d6-4865-a07f-fc703e04666d"
   },
   "outputs": [],
   "source": [
    "noise_complaint_counts / complaint_counts"
   ]
  },
  {
   "cell_type": "code",
   "execution_count": null,
   "metadata": {
    "id": "dfJn21WRnvKl",
    "outputId": "b1fa2a19-3c07-4564-f20e-9e817303bf2a"
   },
   "outputs": [],
   "source": [
    "(noise_complaint_counts / complaint_counts.astype(float)).plot(kind='bar');"
   ]
  },
  {
   "attachments": {},
   "cell_type": "markdown",
   "metadata": {
    "id": "UsScXLdNnvKl",
    "tags": []
   },
   "source": [
    "# *Class Exercise: How many ride their bike per day?*\n",
    "</div>\n",
    "\n",
    "\n",
    "\n",
    "For this problem we'll need to group out dataframe into subsets. We will learn the `groupby` method."
   ]
  },
  {
   "attachments": {},
   "cell_type": "markdown",
   "metadata": {
    "id": "DWgWbAcdnvKl"
   },
   "source": [
    "First, we need to load up the data; in this case usage data about bike lanes in Montreal. We've done this before."
   ]
  },
  {
   "cell_type": "code",
   "execution_count": null,
   "metadata": {
    "id": "tWbnKYBqnvKl",
    "outputId": "e25eccac-852e-44e2-808f-4fb76c848c3e"
   },
   "outputs": [],
   "source": [
    "bikes = pd.read_csv('../data/bikes.csv', sep=';', encoding='latin1', parse_dates=['Date'], dayfirst=True, index_col='Date')\n",
    "bikes.head()"
   ]
  },
  {
   "attachments": {},
   "cell_type": "markdown",
   "metadata": {
    "id": "-b_Npn69nvKl"
   },
   "source": [
    "Next up, we're just going to look at the Berri bike path."
   ]
  },
  {
   "cell_type": "code",
   "execution_count": null,
   "metadata": {},
   "outputs": [],
   "source": [
    "bikes['Berri 1'].plot()"
   ]
  },
  {
   "attachments": {},
   "cell_type": "markdown",
   "metadata": {},
   "source": [
    "We can also isolate this column:"
   ]
  },
  {
   "cell_type": "code",
   "execution_count": null,
   "metadata": {
    "id": "MelzhQednvKl"
   },
   "outputs": [],
   "source": [
    "berri_bikes = bikes[['Berri 1']].copy()"
   ]
  },
  {
   "cell_type": "code",
   "execution_count": null,
   "metadata": {
    "id": "9Op5P5wSnvKl",
    "outputId": "a1317806-052b-420c-b01e-de55cc839938"
   },
   "outputs": [],
   "source": [
    "berri_bikes[:5]"
   ]
  },
  {
   "attachments": {},
   "cell_type": "markdown",
   "metadata": {
    "id": "ZT_ulzLHnvKl"
   },
   "source": [
    "Next, we need to add a 'weekday' column. Firstly, we can get the weekday from the index. We haven't talked about indexes yet, but the index is what's on the left on the above dataframe, under 'Date'. It's basically all the days of the year."
   ]
  },
  {
   "cell_type": "code",
   "execution_count": null,
   "metadata": {
    "id": "dbnyB7ygnvKl",
    "outputId": "e673c11c-fc23-4847-96bb-8b3264d90190"
   },
   "outputs": [],
   "source": [
    "berri_bikes.index"
   ]
  },
  {
   "attachments": {},
   "cell_type": "markdown",
   "metadata": {
    "id": "6i1Hfz7EnvKm"
   },
   "source": [
    "You can see that actually some of the days are missing -- only 310 days of the year are actually there. Who knows why.\n",
    "\n",
    "Pandas has a bunch of really great time series functionality, so if we wanted to get the day of the month for each row, we could do it like this:"
   ]
  },
  {
   "cell_type": "code",
   "execution_count": null,
   "metadata": {
    "id": "kgclU61MnvKm",
    "outputId": "9f0696e7-ed0c-41ba-9ee7-796bb2648e9c"
   },
   "outputs": [],
   "source": [
    "berri_bikes.index.day"
   ]
  },
  {
   "attachments": {},
   "cell_type": "markdown",
   "metadata": {
    "id": "uHekNODInvKm"
   },
   "source": [
    "We actually want the weekday, though:"
   ]
  },
  {
   "cell_type": "code",
   "execution_count": null,
   "metadata": {
    "id": "kbWeFOOLnvKm",
    "outputId": "0fd33b15-4cdf-4055-ff67-90b5ebd1a3a1"
   },
   "outputs": [],
   "source": [
    "berri_bikes.index.weekday"
   ]
  },
  {
   "attachments": {},
   "cell_type": "markdown",
   "metadata": {
    "id": "cqIMyXVrnvKm"
   },
   "source": [
    "These are the days of the week, where 0 is Monday. I found out that 0 was Monday by checking on a calendar.\n",
    "\n",
    "Now that we know how to *get* the weekday, we can add it as a column in our dataframe like this:"
   ]
  },
  {
   "cell_type": "code",
   "execution_count": null,
   "metadata": {
    "id": "528UpgQ1nvKm",
    "outputId": "7ec1d36f-ea4a-46b2-ff44-da38833e0d6f"
   },
   "outputs": [],
   "source": [
    "berri_bikes.loc[:,'weekday'] = berri_bikes.index.weekday\n",
    "berri_bikes[:5]"
   ]
  },
  {
   "attachments": {},
   "cell_type": "markdown",
   "metadata": {
    "id": "ObaTKtDCnvKm"
   },
   "source": [
    "# Adding up the cyclists by weekday"
   ]
  },
  {
   "attachments": {},
   "cell_type": "markdown",
   "metadata": {
    "id": "GulJLD0qnvKm"
   },
   "source": [
    "This turns out to be really easy!\n",
    "\n",
    "Dataframes have a `.groupby()` method that is similar to SQL groupby or Excel groupby, if you're familiar with those. I'm not going to explain more about it right now -- if you want to to know more, [the documentation](http://pandas.pydata.org/pandas-docs/stable/groupby.html) is really good.\n",
    "\n",
    "In this case, `berri_bikes.groupby('weekday').aggregate(sum)` means \"Group the rows by weekday and then add up all the values with the same weekday\"."
   ]
  },
  {
   "cell_type": "code",
   "execution_count": null,
   "metadata": {
    "id": "JsHjcwgMnvKm",
    "outputId": "69dfe5ff-bc5c-4508-9d79-d6e167e08777"
   },
   "outputs": [],
   "source": [
    "weekday_counts = berri_bikes.groupby('weekday').aggregate(sum)\n",
    "weekday_counts"
   ]
  },
  {
   "attachments": {},
   "cell_type": "markdown",
   "metadata": {
    "id": "7uRy2yVEnvKm"
   },
   "source": [
    "It's hard to remember what 0, 1, 2, 3, 4, 5, 6 mean, so we can fix it up and graph it:"
   ]
  },
  {
   "cell_type": "code",
   "execution_count": null,
   "metadata": {
    "id": "gs3t9DBznvKm",
    "outputId": "8783a3ae-58d2-41aa-e388-ea61d67dbbc6"
   },
   "outputs": [],
   "source": [
    "weekday_counts.index = ['Monday', 'Tuesday', 'Wednesday', 'Thursday', 'Friday', 'Saturday', 'Sunday']\n",
    "weekday_counts"
   ]
  },
  {
   "cell_type": "code",
   "execution_count": null,
   "metadata": {
    "id": "jLWJqy4InvKm",
    "outputId": "e96cd573-b47f-41b4-adbe-b41706c78e9f"
   },
   "outputs": [],
   "source": [
    "weekday_counts.plot(kind='bar')"
   ]
  }
 ],
 "metadata": {
  "colab": {
   "provenance": []
  },
  "kernelspec": {
   "display_name": "Python 3",
   "language": "python",
   "name": "python3"
  },
  "language_info": {
   "codemirror_mode": {
    "name": "ipython",
    "version": 3
   },
   "file_extension": ".py",
   "mimetype": "text/x-python",
   "name": "python",
   "nbconvert_exporter": "python",
   "pygments_lexer": "ipython3",
   "version": "3.9.13"
  }
 },
 "nbformat": 4,
 "nbformat_minor": 1
}
