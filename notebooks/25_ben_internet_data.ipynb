{
 "cells": [
  {
   "cell_type": "markdown",
   "metadata": {},
   "source": [
    "# Introduction"
   ]
  },
  {
   "cell_type": "markdown",
   "metadata": {},
   "source": [
    "## What is scraping the web?"
   ]
  },
  {
   "cell_type": "markdown",
   "metadata": {},
   "source": []
  },
  {
   "cell_type": "markdown",
   "metadata": {},
   "source": [
    "## Why scrape data?"
   ]
  },
  {
   "cell_type": "markdown",
   "metadata": {},
   "source": []
  },
  {
   "cell_type": "markdown",
   "metadata": {},
   "source": [
    "## Is this Legal/ Ethical?"
   ]
  },
  {
   "cell_type": "markdown",
   "metadata": {},
   "source": []
  },
  {
   "cell_type": "markdown",
   "metadata": {},
   "source": [
    "# Programming:"
   ]
  },
  {
   "cell_type": "markdown",
   "metadata": {},
   "source": [
    "## Requesting web pages\n",
    "\n",
    "The `urllib` package is a python package for interacting with URL addresses. Today we will use the `request` module. The request module opens a web page in much the same way that the `open` function opens a local file, using the `urlopen` function. "
   ]
  },
  {
   "cell_type": "code",
   "execution_count": null,
   "metadata": {},
   "outputs": [],
   "source": [
    "from urllib import request\n",
    "\n",
    "#a url to read from\n",
    "link = \"http://www.u.arizona.edu/~hammond/\"\n",
    "\n",
    "#open a link to the url\n",
    "with request.urlopen(link) as w:\n",
    "    #read the page\n",
    "    myfile = w.read()\n",
    "    \n",
    "#print the decoded page\n",
    "print(myfile.decode('UTF-8'))"
   ]
  },
  {
   "cell_type": "markdown",
   "metadata": {},
   "source": [
    "## HTML\n",
    "\n",
    "On top of `urllib` we will use the `BeautifulSoup` package to work with `html` data. `html` is the markup language that structures web pages. It looks like this:\n",
    "\n",
    "```html\n",
    " <!DOCTYPE html>\n",
    "<html>\n",
    "<head>\n",
    "<title>Page Title</title>\n",
    "</head>\n",
    "<body>\n",
    "\n",
    "<h1>My First Heading</h1>\n",
    "<p>My first paragraph.</p>\n",
    "\n",
    "</body>\n",
    "</html> \n",
    "\n",
    "```\n",
    "\n",
    "### What is HTML?\n",
    "\n",
    "- HTML stands for Hyper Text Markup Language\n",
    "- HTML is the standard markup language for creating Web pages\n",
    "- HTML describes the structure of a Web page\n",
    "- HTML consists of a series of elements\n",
    "- HTML elements tell the browser how to display the content\n",
    "- HTML elements label pieces of content such as \"this is a heading\", \"this is a paragraph\", \"this is a link\", etc.\n",
    "\n",
    "## Beautiful Soup"
   ]
  },
  {
   "cell_type": "code",
   "execution_count": null,
   "metadata": {},
   "outputs": [],
   "source": [
    "!pip install bs4"
   ]
  },
  {
   "cell_type": "code",
   "execution_count": 6,
   "metadata": {},
   "outputs": [],
   "source": [
    "# Import packages\n",
    "\n",
    "# Webscraping:\n",
    "from bs4 import BeautifulSoup\n",
    "# access the web:\n",
    "import requests\n",
    "# data formnatting\n",
    "import pandas as pd\n",
    "# text searching:\n",
    "import re"
   ]
  },
  {
   "cell_type": "markdown",
   "metadata": {},
   "source": [
    "# Making the Soup\n",
    "https://beautiful-soup-4.readthedocs.io/en/latest/#making-the-soup\n",
    "\n",
    "`urllib` returns the webpage as a python `list`. This is not straightforward to work with, especially with complex sites. `bs4` converts this list into a **python object** which is easier to work with. "
   ]
  },
  {
   "cell_type": "code",
   "execution_count": 37,
   "metadata": {},
   "outputs": [
    {
     "name": "stdout",
     "output_type": "stream",
     "text": [
      "['<!DOCTYPE html>\\n', '\\n', '<html>\\n', '<body>\\n', '\\n', '<h1>My First Heading</h1>\\n', '\\n', '<p>My first paragraph.</p>\\n', '\\n', '<h1>My Second Heading</h1>\\n', '\\n', '<p>My Second paragraph.</p>\\n', '\\n', '<h1>My Third Heading</h1>\\n', '\\n', '<p>My Third paragraph.</p>\\n', '\\n', '</body>\\n', '</html>\\n']\n"
     ]
    }
   ],
   "source": [
    "with open(\"data/simple_webpage.html\") as f:\n",
    "    _txt_file = f.readlines()\n",
    "print(_txt_file)\n",
    "# mess:"
   ]
  },
  {
   "cell_type": "code",
   "execution_count": 38,
   "metadata": {},
   "outputs": [
    {
     "name": "stdout",
     "output_type": "stream",
     "text": [
      "<!DOCTYPE html>\n",
      "<html>\n",
      "<body>\n",
      "<h1>My First Heading</h1>\n",
      "<p>My first paragraph.</p>\n",
      "<h1>My Second Heading</h1>\n",
      "<p>My Second paragraph.</p>\n",
      "<h1>My Third Heading</h1>\n",
      "<p>My Third paragraph.</p>\n",
      "</body>\n",
      "</html>\n",
      "\n",
      "<class 'bs4.BeautifulSoup'>\n"
     ]
    }
   ],
   "source": [
    "with open(\"data/simple_webpage.html\") as f:\n",
    "    soup = BeautifulSoup(f)\n",
    "print(soup)\n",
    "print(type(soup))\n",
    "# not mess:"
   ]
  },
  {
   "cell_type": "code",
   "execution_count": null,
   "metadata": {},
   "outputs": [],
   "source": [
    "print(type(soup))\n",
    "# a soup object is a?"
   ]
  },
  {
   "cell_type": "code",
   "execution_count": null,
   "metadata": {},
   "outputs": [],
   "source": [
    "print(vars(soup))\n",
    "# what do they have?"
   ]
  },
  {
   "cell_type": "markdown",
   "metadata": {},
   "source": [
    "## Soup Methods & Attributes\n",
    "\n",
    "`bs4` converts all of the `html` tags into attributes and has a few handy methods for interacting with them:"
   ]
  },
  {
   "cell_type": "code",
   "execution_count": 6,
   "metadata": {},
   "outputs": [
    {
     "name": "stdout",
     "output_type": "stream",
     "text": [
      "['html', <html>\n",
      "<body>\n",
      "<h1>My First Heading</h1>\n",
      "<p>My first paragraph.</p>\n",
      "<h1>My Second Heading</h1>\n",
      "<p>My Second paragraph.</p>\n",
      "<h1>My Third Heading</h1>\n",
      "<p>My Third paragraph.</p>\n",
      "</body>\n",
      "</html>, '\\n']\n"
     ]
    }
   ],
   "source": [
    "print(soup.contents)"
   ]
  },
  {
   "cell_type": "code",
   "execution_count": 7,
   "metadata": {},
   "outputs": [
    {
     "data": {
      "text/plain": [
       "<h1>My First Heading</h1>"
      ]
     },
     "execution_count": 7,
     "metadata": {},
     "output_type": "execute_result"
    }
   ],
   "source": [
    "soup.h1"
   ]
  },
  {
   "cell_type": "code",
   "execution_count": 8,
   "metadata": {},
   "outputs": [
    {
     "data": {
      "text/plain": [
       "<p>My first paragraph.</p>"
      ]
     },
     "execution_count": 8,
     "metadata": {},
     "output_type": "execute_result"
    }
   ],
   "source": [
    "soup.p"
   ]
  },
  {
   "cell_type": "markdown",
   "metadata": {},
   "source": [
    "# Kinds of objects\n",
    "https://beautiful-soup-4.readthedocs.io/en/latest/#kinds-of-objects"
   ]
  },
  {
   "cell_type": "markdown",
   "metadata": {},
   "source": [
    "## Name"
   ]
  },
  {
   "cell_type": "code",
   "execution_count": 9,
   "metadata": {},
   "outputs": [
    {
     "data": {
      "text/plain": [
       "'My First Heading'"
      ]
     },
     "execution_count": 9,
     "metadata": {},
     "output_type": "execute_result"
    }
   ],
   "source": [
    "soup.h1.text"
   ]
  },
  {
   "cell_type": "markdown",
   "metadata": {},
   "source": [
    "## Attributes"
   ]
  },
  {
   "cell_type": "code",
   "execution_count": 10,
   "metadata": {},
   "outputs": [
    {
     "ename": "KeyError",
     "evalue": "'class'",
     "output_type": "error",
     "traceback": [
      "\u001b[0;31m---------------------------------------------------------------------------\u001b[0m",
      "\u001b[0;31mKeyError\u001b[0m                                  Traceback (most recent call last)",
      "\u001b[0;32m<ipython-input-10-992d7318d6e3>\u001b[0m in \u001b[0;36m<module>\u001b[0;34m\u001b[0m\n\u001b[0;32m----> 1\u001b[0;31m \u001b[0msoup\u001b[0m\u001b[0;34m.\u001b[0m\u001b[0mh1\u001b[0m\u001b[0;34m[\u001b[0m\u001b[0;34m'class'\u001b[0m\u001b[0;34m]\u001b[0m\u001b[0;34m\u001b[0m\u001b[0;34m\u001b[0m\u001b[0m\n\u001b[0m\u001b[1;32m      2\u001b[0m \u001b[0;31m# Produces Key Error\u001b[0m\u001b[0;34m\u001b[0m\u001b[0;34m\u001b[0m\u001b[0;34m\u001b[0m\u001b[0m\n\u001b[1;32m      3\u001b[0m \u001b[0;31m# So add class to html variable\u001b[0m\u001b[0;34m\u001b[0m\u001b[0;34m\u001b[0m\u001b[0;34m\u001b[0m\u001b[0m\n",
      "\u001b[0;32m~/.pyenv/versions/anaconda3-2019.10/lib/python3.7/site-packages/bs4/element.py\u001b[0m in \u001b[0;36m__getitem__\u001b[0;34m(self, key)\u001b[0m\n\u001b[1;32m    969\u001b[0m         \"\"\"tag[key] returns the value of the 'key' attribute for the tag,\n\u001b[1;32m    970\u001b[0m         and throws an exception if it's not there.\"\"\"\n\u001b[0;32m--> 971\u001b[0;31m         \u001b[0;32mreturn\u001b[0m \u001b[0mself\u001b[0m\u001b[0;34m.\u001b[0m\u001b[0mattrs\u001b[0m\u001b[0;34m[\u001b[0m\u001b[0mkey\u001b[0m\u001b[0;34m]\u001b[0m\u001b[0;34m\u001b[0m\u001b[0;34m\u001b[0m\u001b[0m\n\u001b[0m\u001b[1;32m    972\u001b[0m \u001b[0;34m\u001b[0m\u001b[0m\n\u001b[1;32m    973\u001b[0m     \u001b[0;32mdef\u001b[0m \u001b[0m__iter__\u001b[0m\u001b[0;34m(\u001b[0m\u001b[0mself\u001b[0m\u001b[0;34m)\u001b[0m\u001b[0;34m:\u001b[0m\u001b[0;34m\u001b[0m\u001b[0;34m\u001b[0m\u001b[0m\n",
      "\u001b[0;31mKeyError\u001b[0m: 'class'"
     ]
    }
   ],
   "source": [
    "soup.h1['class']\n",
    "# Produces Key Error\n",
    "# So add class to html variable"
   ]
  },
  {
   "cell_type": "code",
   "execution_count": null,
   "metadata": {},
   "outputs": [],
   "source": [
    "soup.h1['id']"
   ]
  },
  {
   "cell_type": "markdown",
   "metadata": {},
   "source": [
    "## Switch to actor Example\n",
    "\n",
    "In this section we'll use a local example of a webpage. It's far simpler than most webpages, and therefore better at demonstraing `bs4`"
   ]
  },
  {
   "cell_type": "code",
   "execution_count": 63,
   "metadata": {},
   "outputs": [
    {
     "name": "stdout",
     "output_type": "stream",
     "text": [
      "<!DOCTYPE html>\n",
      "<html>\n",
      "<body>\n",
      "<div>\n",
      "<h1 class=\"title\" id=\"movie_title\">The Irishman</h1>\n",
      "<p>A paragraph of text about The Irishman, directed by <a href=\"https://www.imdb.com/name/nm0000217/\">Martin Scorsese</a>.</p>\n",
      "</div>\n",
      "<div class=\"table\" id=\"cast\">\n",
      "<h2>The Cast</h2>\n",
      "<table>\n",
      "<tr>\n",
      "<td><a href=\"\">Dave</a></td><td>Lead</td>\n",
      "</tr>\n",
      "<tr>\n",
      "<td>Barry</td><td>Supporting Role</td>\n",
      "</tr>\n",
      "<tr>\n",
      "<td>Alejandro</td><td>Supporting Role</td>\n",
      "</tr>\n",
      "</table>\n",
      "</div>\n",
      "<div>\n",
      "<h1>Storyline</h1>\n",
      "<p>My Third paragraph.</p>\n",
      "</div>\n",
      "</body>\n",
      "</html>\n"
     ]
    }
   ],
   "source": [
    "with open(\"data/example_actor_webpage.html\") as f:\n",
    "    soup = BeautifulSoup(f)\n",
    "print(soup)\n",
    "# now that our example has more attributes ..."
   ]
  },
  {
   "cell_type": "code",
   "execution_count": null,
   "metadata": {},
   "outputs": [],
   "source": [
    "soup.h1['class']"
   ]
  },
  {
   "cell_type": "markdown",
   "metadata": {},
   "source": [
    "## Text"
   ]
  },
  {
   "cell_type": "code",
   "execution_count": null,
   "metadata": {},
   "outputs": [],
   "source": [
    "soup.h1.text"
   ]
  },
  {
   "cell_type": "markdown",
   "metadata": {},
   "source": [
    "## Links (an attribute)"
   ]
  },
  {
   "cell_type": "code",
   "execution_count": null,
   "metadata": {},
   "outputs": [],
   "source": [
    "soup.a.text"
   ]
  },
  {
   "cell_type": "code",
   "execution_count": null,
   "metadata": {},
   "outputs": [],
   "source": [
    "soup.a['href']"
   ]
  },
  {
   "cell_type": "markdown",
   "metadata": {},
   "source": [
    "# Navigating the tree\n",
    "\n",
    "`bs4` Interprets webpages in a spatial structure, methods and attributes should be used to **navigate** the tree of html tags. Sub elements are seen as 'children' of higher elements. \n",
    "\n",
    "```html\n",
    "<html>\n",
    "<body>\n",
    "    <head>\n",
    "        <title>Example Webpage</title>\n",
    "    </head>\n",
    "    <h1>An Example</h1>\n",
    "    <p><b>Text about the example</b></p>\n",
    "</body>\n",
    "</html>\n",
    "```\n",
    "<img src=https://www.tutorialspoint.com/beautiful_soup/images/html_document.jpg width=300px align=left>"
   ]
  },
  {
   "cell_type": "markdown",
   "metadata": {},
   "source": [
    "In the above example `<h1>` and `<p>` are 'children' of `<body>`, and `<html>` is the parent of `<body>`"
   ]
  },
  {
   "cell_type": "code",
   "execution_count": 42,
   "metadata": {},
   "outputs": [],
   "source": [
    "example = BeautifulSoup(\n",
    "\"\"\"<html>\n",
    "<body>\n",
    "    <head>\n",
    "        <title>Example Webpage</title>\n",
    "    </head>\n",
    "    <h1>An Example</h1>\n",
    "    <p><b>Text about the example</b></p>\n",
    "</body>\n",
    "</html>\"\"\"\n",
    ")"
   ]
  },
  {
   "cell_type": "code",
   "execution_count": 43,
   "metadata": {},
   "outputs": [
    {
     "data": {
      "text/plain": [
       "<h1>An Example</h1>"
      ]
     },
     "execution_count": 43,
     "metadata": {},
     "output_type": "execute_result"
    }
   ],
   "source": [
    "example.h1"
   ]
  },
  {
   "cell_type": "code",
   "execution_count": 44,
   "metadata": {},
   "outputs": [
    {
     "data": {
      "text/plain": [
       "<p><b>Text about the example</b></p>"
      ]
     },
     "execution_count": 44,
     "metadata": {},
     "output_type": "execute_result"
    }
   ],
   "source": [
    "example.p"
   ]
  },
  {
   "cell_type": "code",
   "execution_count": 60,
   "metadata": {},
   "outputs": [
    {
     "data": {
      "text/plain": [
       "['\\n',\n",
       " <title>Example Webpage</title>,\n",
       " '\\n',\n",
       " <h1>An Example</h1>,\n",
       " '\\n',\n",
       " <p><b>Text about the example</b></p>,\n",
       " '\\n']"
      ]
     },
     "execution_count": 60,
     "metadata": {},
     "output_type": "execute_result"
    }
   ],
   "source": [
    "list(example.body.children) # children returns a list iterator of child objects"
   ]
  },
  {
   "cell_type": "code",
   "execution_count": 59,
   "metadata": {},
   "outputs": [
    {
     "data": {
      "text/plain": [
       "<body>\n",
       "<title>Example Webpage</title>\n",
       "<h1>An Example</h1>\n",
       "<p><b>Text about the example</b></p>\n",
       "</body>"
      ]
     },
     "execution_count": 59,
     "metadata": {},
     "output_type": "execute_result"
    }
   ],
   "source": [
    "example.h1.parent  # parent returns the 'parent' obhject"
   ]
  },
  {
   "cell_type": "markdown",
   "metadata": {},
   "source": [
    "Let's go in detail on each one of those directions."
   ]
  },
  {
   "cell_type": "markdown",
   "metadata": {},
   "source": [
    "## Going Down\n",
    "\n",
    "### Children"
   ]
  },
  {
   "cell_type": "code",
   "execution_count": 64,
   "metadata": {},
   "outputs": [
    {
     "data": {
      "text/plain": [
       "['\\n',\n",
       " <h1 class=\"title\" id=\"movie_title\">The Irishman</h1>,\n",
       " '\\n',\n",
       " <p>A paragraph of text about The Irishman, directed by <a href=\"https://www.imdb.com/name/nm0000217/\">Martin Scorsese</a>.</p>,\n",
       " '\\n']"
      ]
     },
     "execution_count": 64,
     "metadata": {},
     "output_type": "execute_result"
    }
   ],
   "source": [
    "list(soup.div.children)"
   ]
  },
  {
   "cell_type": "code",
   "execution_count": 70,
   "metadata": {},
   "outputs": [
    {
     "name": "stdout",
     "output_type": "stream",
     "text": [
      "\n",
      "\n",
      "<h1 class=\"title\" id=\"movie_title\">The Irishman</h1>\n",
      "\n",
      "\n",
      "<p>A paragraph of text about The Irishman, directed by <a href=\"https://www.imdb.com/name/nm0000217/\">Martin Scorsese</a>.</p>\n",
      "\n",
      "\n"
     ]
    }
   ],
   "source": [
    "for child in soup.div.children:\n",
    "    print(child)"
   ]
  },
  {
   "cell_type": "markdown",
   "metadata": {},
   "source": [
    "### Descendants\n",
    "Descendant are almost the same as children yet there's one major difference. `descendants' includes all of the lower objects in one list, turning the tree structure into a line.\n"
   ]
  },
  {
   "cell_type": "code",
   "execution_count": 68,
   "metadata": {},
   "outputs": [
    {
     "name": "stdout",
     "output_type": "stream",
     "text": [
      "<class 'bs4.element.NavigableString'>\n",
      "<class 'bs4.element.Tag'>\n",
      "<class 'bs4.element.NavigableString'>\n",
      "<class 'bs4.element.NavigableString'>\n",
      "<class 'bs4.element.Tag'>\n",
      "<class 'bs4.element.NavigableString'>\n",
      "<class 'bs4.element.Tag'>\n",
      "<class 'bs4.element.NavigableString'>\n",
      "<class 'bs4.element.NavigableString'>\n",
      "<class 'bs4.element.NavigableString'>\n"
     ]
    }
   ],
   "source": [
    "for child in soup.div.descendants:\n",
    "    print(child)"
   ]
  },
  {
   "cell_type": "markdown",
   "metadata": {},
   "source": [
    "## Going up\n",
    "\n",
    "From any `bs4` object you can call the `parent` object to 'go up'. This will return the senior object itself, from which you can go back down. \n",
    "\n",
    "N.B. This is most often used in combination with a search."
   ]
  },
  {
   "cell_type": "code",
   "execution_count": 71,
   "metadata": {},
   "outputs": [
    {
     "data": {
      "text/plain": [
       "<p>A paragraph of text about The Irishman, directed by <a href=\"https://www.imdb.com/name/nm0000217/\">Martin Scorsese</a>.</p>"
      ]
     },
     "execution_count": 71,
     "metadata": {},
     "output_type": "execute_result"
    }
   ],
   "source": [
    "soup.a.parent"
   ]
  },
  {
   "cell_type": "code",
   "execution_count": null,
   "metadata": {},
   "outputs": [],
   "source": [
    "list(soup.a.parents)"
   ]
  },
  {
   "cell_type": "code",
   "execution_count": null,
   "metadata": {},
   "outputs": [],
   "source": [
    "list(soup.a.parents)[0]"
   ]
  },
  {
   "cell_type": "markdown",
   "metadata": {},
   "source": [
    "## Going Sideways\n",
    "\n",
    "In `bs4` you can access the `siblings` of objects. This is particularly useful for interacting with tabular data."
   ]
  },
  {
   "cell_type": "code",
   "execution_count": null,
   "metadata": {},
   "outputs": [],
   "source": [
    "list(soup.table.tr.td.next_siblings)"
   ]
  },
  {
   "cell_type": "code",
   "execution_count": null,
   "metadata": {},
   "outputs": [],
   "source": [
    "for row in soup.table.contents:\n",
    "    if row.text == 'Lead':\n",
    "        print(row)\n",
    "# Produces Attribute Errpr"
   ]
  },
  {
   "cell_type": "markdown",
   "metadata": {},
   "source": [
    "BS4 Gives an error because not all the objects it's returning have a 'text' attribute. Namely the empty strings. You could easily shortcut this with an if statement or try/ except, but that would stretch this class."
   ]
  },
  {
   "cell_type": "code",
   "execution_count": null,
   "metadata": {},
   "outputs": [],
   "source": [
    "for row in soup.table.tr.td.next_siblings:\n",
    "    if 'Lead' in row.string:\n",
    "        print(row.previous_sibling.text)"
   ]
  },
  {
   "cell_type": "code",
   "execution_count": null,
   "metadata": {},
   "outputs": [],
   "source": [
    "soup.table.tr.next_element"
   ]
  },
  {
   "cell_type": "markdown",
   "metadata": {},
   "source": [
    "# Searching the tree\n",
    "https://beautiful-soup-4.readthedocs.io/en/latest/#searching-the-tree\n",
    "\n",
    "The most common way of using `bs4` is to search. In most cases, you will search for something, and then use one of the above attributes to access adjacent objects."
   ]
  },
  {
   "cell_type": "markdown",
   "metadata": {},
   "source": [
    "## Filters"
   ]
  },
  {
   "cell_type": "code",
   "execution_count": 77,
   "metadata": {},
   "outputs": [
    {
     "data": {
      "text/plain": [
       "[<a href=\"https://www.imdb.com/name/nm0000217/\">Martin Scorsese</a>,\n",
       " <a href=\"\">Dave</a>]"
      ]
     },
     "execution_count": 77,
     "metadata": {},
     "output_type": "execute_result"
    }
   ],
   "source": [
    "soup.find_all('a')"
   ]
  },
  {
   "cell_type": "code",
   "execution_count": 75,
   "metadata": {},
   "outputs": [
    {
     "data": {
      "text/plain": [
       "[<a href=\"https://www.imdb.com/name/nm0000217/\">Martin Scorsese</a>,\n",
       " <td><a href=\"\">Dave</a></td>,\n",
       " <a href=\"\">Dave</a>,\n",
       " <td>Lead</td>,\n",
       " <td>Barry</td>,\n",
       " <td>Supporting Role</td>,\n",
       " <td>Alejandro</td>,\n",
       " <td>Supporting Role</td>]"
      ]
     },
     "execution_count": 75,
     "metadata": {},
     "output_type": "execute_result"
    }
   ],
   "source": [
    "soup.find_all(['a', 'td'])"
   ]
  },
  {
   "cell_type": "code",
   "execution_count": 83,
   "metadata": {},
   "outputs": [
    {
     "data": {
      "text/plain": [
       "[<td><a href=\"\">Dave</a></td>,\n",
       " <td>Lead</td>,\n",
       " <td>Barry</td>,\n",
       " <td>Supporting Role</td>,\n",
       " <td>Alejandro</td>,\n",
       " <td>Supporting Role</td>]"
      ]
     },
     "execution_count": 83,
     "metadata": {},
     "output_type": "execute_result"
    }
   ],
   "source": [
    "soup.find_all(re.compile('^td.*'))"
   ]
  },
  {
   "cell_type": "code",
   "execution_count": 86,
   "metadata": {},
   "outputs": [
    {
     "data": {
      "text/plain": [
       "['Lead']"
      ]
     },
     "execution_count": 86,
     "metadata": {},
     "output_type": "execute_result"
    }
   ],
   "source": [
    "soup.find_all(string='Lead')"
   ]
  },
  {
   "cell_type": "markdown",
   "metadata": {},
   "source": [
    "### Function Filter"
   ]
  },
  {
   "cell_type": "markdown",
   "metadata": {},
   "source": [
    "A bit more challenging, though very useful.\n",
    "\n",
    "https://beautiful-soup-4.readthedocs.io/en/latest/index.html?highlight=navigablestring#a-function"
   ]
  },
  {
   "cell_type": "markdown",
   "metadata": {},
   "source": [
    "### Attributes"
   ]
  },
  {
   "cell_type": "code",
   "execution_count": 87,
   "metadata": {},
   "outputs": [
    {
     "data": {
      "text/plain": [
       "[<h1 class=\"title\" id=\"movie_title\">The Irishman</h1>]"
      ]
     },
     "execution_count": 87,
     "metadata": {},
     "output_type": "execute_result"
    }
   ],
   "source": [
    "soup.find_all(id='movie_title')"
   ]
  },
  {
   "cell_type": "code",
   "execution_count": 88,
   "metadata": {},
   "outputs": [
    {
     "data": {
      "text/plain": [
       "[<h1 class=\"title\" id=\"movie_title\">The Irishman</h1>]"
      ]
     },
     "execution_count": 88,
     "metadata": {},
     "output_type": "execute_result"
    }
   ],
   "source": [
    "soup.find_all('h1', class_='title')"
   ]
  },
  {
   "cell_type": "markdown",
   "metadata": {},
   "source": [
    "## Searching text\n",
    "\n",
    "You can also search the text of `html` objects, `bs4` will then return a specific `bs4.element.NavigableString` object, that you can use to navigate the tree."
   ]
  },
  {
   "cell_type": "code",
   "execution_count": 98,
   "metadata": {},
   "outputs": [
    {
     "data": {
      "text/plain": [
       "'The Irishman'"
      ]
     },
     "execution_count": 98,
     "metadata": {},
     "output_type": "execute_result"
    }
   ],
   "source": [
    "soup.find(text='The Irishman')"
   ]
  },
  {
   "cell_type": "code",
   "execution_count": 100,
   "metadata": {},
   "outputs": [
    {
     "data": {
      "text/plain": [
       "bs4.element.NavigableString"
      ]
     },
     "execution_count": 100,
     "metadata": {},
     "output_type": "execute_result"
    }
   ],
   "source": [
    "type(soup.find_all(text='The Irishman')[0])"
   ]
  },
  {
   "cell_type": "code",
   "execution_count": 101,
   "metadata": {},
   "outputs": [
    {
     "data": {
      "text/plain": [
       "<h1 class=\"title\" id=\"movie_title\">The Irishman</h1>"
      ]
     },
     "execution_count": 101,
     "metadata": {},
     "output_type": "execute_result"
    }
   ],
   "source": [
    "soup.find_all(text='The Irishman')[0].parent"
   ]
  },
  {
   "cell_type": "markdown",
   "metadata": {},
   "source": [
    "# Into the wild\n",
    "\n",
    "Let's see how `bs4` operates with actual webpages."
   ]
  },
  {
   "cell_type": "code",
   "execution_count": 150,
   "metadata": {},
   "outputs": [],
   "source": [
    "with request.urlopen(\"https://www.imdb.com/title/tt1302006\") as f:\n",
    "    webpage = f.read()"
   ]
  },
  {
   "cell_type": "code",
   "execution_count": 151,
   "metadata": {},
   "outputs": [],
   "source": [
    "soup = BeautifulSoup(webpage)"
   ]
  },
  {
   "cell_type": "code",
   "execution_count": 152,
   "metadata": {},
   "outputs": [],
   "source": [
    "# links = soup.find_all('a')\n",
    "links = soup.find_all(href=True)"
   ]
  },
  {
   "cell_type": "code",
   "execution_count": 153,
   "metadata": {},
   "outputs": [
    {
     "data": {
      "text/plain": [
       "<link href=\"https://www.imdb.com/title/tt1302006/\" rel=\"canonical\"/>"
      ]
     },
     "execution_count": 153,
     "metadata": {},
     "output_type": "execute_result"
    }
   ],
   "source": [
    "links[0]"
   ]
  },
  {
   "cell_type": "code",
   "execution_count": null,
   "metadata": {},
   "outputs": [],
   "source": [
    "for link in links[::10]:\n",
    "    if link.text:\n",
    "        print(link)\n",
    "        print(link.text)\n",
    "        print('\\n')"
   ]
  },
  {
   "cell_type": "markdown",
   "metadata": {},
   "source": [
    "### Getting Headings\n",
    "\n",
    "In practice `html` headings are an excellent way of navigating a web page, and finding the most relevant content. We can get a list of all headings by using the `find_all` method."
   ]
  },
  {
   "cell_type": "code",
   "execution_count": 165,
   "metadata": {},
   "outputs": [],
   "source": [
    "headings = soup.find_all(['h1','h2','h3'])"
   ]
  },
  {
   "cell_type": "markdown",
   "metadata": {},
   "source": [
    "`find_all` returns a list of `bs4` objects for all the objects on the page that matched the search list `['h1','h2','h3']`."
   ]
  },
  {
   "cell_type": "code",
   "execution_count": 173,
   "metadata": {},
   "outputs": [
    {
     "name": "stdout",
     "output_type": "stream",
     "text": [
      "[<h2><div class=\"checkin-error\">Error</div></h2>, <h2><div class=\"checkin-success\">Added to Your Check-Ins.</div></h2>, <h1 class=\"\">The Irishman <span id=\"titleYear\">(<a href=\"/year/2019/\">2019</a>)</span> </h1>, <h3> First Trailer: 'Borat Subsequent Moviefilm'</h3>, <h3>Related News</h3>, <h3> Around The Web</h3>, <h3>Editorial Lists</h3>, <h3>User Lists</h3>, <h3>Share this Rating</h3>, <h3>User Polls</h3>, <h2>Videos</h2>, <h2>Photos</h2>, <h2>Cast</h2>, <h3> The Return of Joe Pesci</h3>, <h2>Storyline</h2>, <h2>Did You Know?</h2>, <h2>User Reviews</h2>, <h2>Frequently Asked Questions</h2>, <h2>Details</h2>, <h3 class=\"subheading\">Box Office</h3>, <h3 class=\"subheading\">Company Credits</h3>, <h3 class=\"subheading\">Technical Specs</h3>, <h2>Contribute to This Page</h2>, <h3> Your Next Binge Watch Awaits</h3>, <h3>Recently Viewed</h3>]\n"
     ]
    }
   ],
   "source": [
    "print(headings)"
   ]
  },
  {
   "cell_type": "markdown",
   "metadata": {},
   "source": [
    "This heading list can be then be used to rudimentary python checks on a contained list."
   ]
  },
  {
   "cell_type": "code",
   "execution_count": 185,
   "metadata": {},
   "outputs": [
    {
     "name": "stdout",
     "output_type": "stream",
     "text": [
      "User Reviews\n",
      "After watching the Irishman I kept thing of the movie the Magnificent Ambersons very detailed long drawn out scenes and storylines I was pleasure to watch.\n"
     ]
    }
   ],
   "source": [
    "for h in headings:\n",
    "    if h.text == 'User Reviews':\n",
    "        print(h.text)\n",
    "        print(h.parent.p.text)\n",
    "#         h.parent.find_all('p')"
   ]
  },
  {
   "cell_type": "markdown",
   "metadata": {},
   "source": [
    "### Referencing CSS\n",
    "\n",
    "In practice, web designer won't always use `html` tags for referencing objects. They're more likely to use a css `class` or `id`. `bs4` interacts with these two attributes using a dictionary mapping, where the python key is the html attribute name (`'id'` or `'class'`) and the python value is html attribute value (`'titleStoryLine'`,`'article'`)\n",
    "\n",
    "```html\n",
    "<div class=\"article\" id=\"titleStoryLine\">\n",
    "```\n",
    "\n",
    "```python\n",
    "soup.find('div', {'id':'titleStoryLine'})\n",
    "```\n",
    "\n",
    "```python\n",
    "soup.find('div', {'class':'article'})\n",
    "```\n",
    "\n",
    "`class` and `id` are the built-in css handles for html, but html allows for custom attributes. This means that in practice you'll encounter many attribute structures, and `bs4` allows you to interact with any of them. "
   ]
  },
  {
   "cell_type": "code",
   "execution_count": 162,
   "metadata": {},
   "outputs": [
    {
     "name": "stdout",
     "output_type": "stream",
     "text": [
      "\n",
      "    Frank \"The Irishman\" Sheeran is a man with a lot on his mind. The former labor union high official and hitman, learned to kill serving in Italy during the Second World War. He now looks back on his life and the hits that defined his mob career, maintaining connections with the Bufalino crime family. In particular, the part he claims to have played in the disappearance of his life-long friend, Jimmy Hoffa, the former president of the International Brotherhood of Teamsters, who mysteriously vanished in late July 1975 at the age of 62.\n",
      "Written by\n",
      "bcarruthers-76500 \n"
     ]
    }
   ],
   "source": [
    "story_line = soup.find('div', {'id':'titleStoryLine'})\n",
    "\n",
    "print(story_line.p.text)"
   ]
  },
  {
   "cell_type": "markdown",
   "metadata": {},
   "source": [
    "# Applying what we know\n",
    "\n",
    "Here are three exercises that use some of the skills above. Each question is relevant to a specific webpage, and so you may want to visit that site to understand the question. \n",
    "\n",
    "The answers are hidden below each question."
   ]
  },
  {
   "cell_type": "markdown",
   "metadata": {},
   "source": [
    "## Excercise 1"
   ]
  },
  {
   "cell_type": "markdown",
   "metadata": {},
   "source": [
    "Extract the h1 heading tag from example.com."
   ]
  },
  {
   "cell_type": "code",
   "execution_count": null,
   "metadata": {},
   "outputs": [],
   "source": [
    "\n",
    "\n",
    "\n"
   ]
  },
  {
   "cell_type": "markdown",
   "metadata": {},
   "source": [
    "**Click here** for the answer\n",
    "<!--\n",
    "html = request.urlopen('http://www.example.com/')\n",
    "bs = BeautifulSoup(html.read())\n",
    "print(bs.h1)\n",
    "-->"
   ]
  },
  {
   "cell_type": "markdown",
   "metadata": {},
   "source": [
    "## Exercise 2"
   ]
  },
  {
   "cell_type": "markdown",
   "metadata": {},
   "source": [
    "Using urlopen and BeautifulSoup extract and display all the header tags from en.wikipedia.org/wiki/Main_Page."
   ]
  },
  {
   "cell_type": "code",
   "execution_count": null,
   "metadata": {},
   "outputs": [],
   "source": [
    "\n",
    "\n",
    "\n"
   ]
  },
  {
   "cell_type": "markdown",
   "metadata": {},
   "source": [
    "**Click here** for the answer\n",
    "<!--\n",
    "# open the wiki main page\n",
    "html = request.urlopen('https://en.wikipedia.org/wiki/Main_Page')\n",
    "\n",
    "# make the soup\n",
    "bs = BeautifulSoup(html)\n",
    "\n",
    "# use the finda_all method to find all the titles\n",
    "titles = bs.find_all(['h1', 'h2','h3','h4','h5','h6'])\n",
    "\n",
    "# print the titles\n",
    "print('List all the header tags :', *titles, sep='\\n\\n')\n",
    "-->"
   ]
  },
  {
   "cell_type": "markdown",
   "metadata": {},
   "source": [
    "## Exercise 3"
   ]
  },
  {
   "cell_type": "markdown",
   "metadata": {},
   "source": [
    "Write a Python program to get the number of followers of a given twitter account."
   ]
  },
  {
   "cell_type": "code",
   "execution_count": null,
   "metadata": {},
   "outputs": [],
   "source": [
    "# code here\n",
    "\n",
    "# import the packages\n",
    "\n",
    "# get the handle using input\n",
    "\n",
    "# make url link with handle\n",
    "\n",
    "# make the soup\n",
    "\n",
    "# use a try and except control structure to get the followers\n",
    "    follow_box = bs.find('li',{'class':'ProfileNav-item ProfileNav-item--followers'})\n",
    "    followers = follow_box.find('a').find('span',{'class':'ProfileNav-value'})\n",
    "    print(\"Number of followers: {} \".format(followers.get('data-count')))"
   ]
  },
  {
   "cell_type": "markdown",
   "metadata": {},
   "source": [
    "**Click here** for the answer\n",
    "<!--\n",
    "from bs4 import BeautifulSoup\n",
    "import requests\n",
    "\n",
    "# get the handle using input\n",
    "handle = input('Input your account name on Twitter: ') \n",
    "\n",
    "# make url link with handle\n",
    "temp = requests.get('https://twitter.com/'+handle)\n",
    "\n",
    "# make the soup\n",
    "bs = BeautifulSoup(temp.text)\n",
    "\n",
    "# use a try and except control structure\n",
    "try:\n",
    "    follow_box = bs.find('li',{'class':'ProfileNav-item ProfileNav-item--followers'})\n",
    "    followers = follow_box.find('a').find('span',{'class':'ProfileNav-value'})\n",
    "    print(\"Number of followers: {} \".format(followers.get('data-count')))\n",
    "except:\n",
    "    print('Account name not found...')\n",
    "\n",
    "-->"
   ]
  },
  {
   "cell_type": "markdown",
   "metadata": {},
   "source": [
    "# Real world \n",
    "## What genre of films do actors mainly work in?"
   ]
  },
  {
   "cell_type": "code",
   "execution_count": 19,
   "metadata": {},
   "outputs": [],
   "source": [
    "with request.urlopen('https://www.imdb.com/name/nm0000134/?ref_=tt_cl_t1') as f:\n",
    "    actor = f.read()"
   ]
  },
  {
   "cell_type": "code",
   "execution_count": 20,
   "metadata": {},
   "outputs": [],
   "source": [
    "soup = BeautifulSoup(actor)"
   ]
  },
  {
   "cell_type": "markdown",
   "metadata": {},
   "source": [
    "### Getting into the Filmography"
   ]
  },
  {
   "cell_type": "code",
   "execution_count": 21,
   "metadata": {},
   "outputs": [],
   "source": [
    "filmography = soup.find(id='filmography')"
   ]
  },
  {
   "cell_type": "code",
   "execution_count": 22,
   "metadata": {},
   "outputs": [],
   "source": [
    "# actor_filmography = filmography.find('div', {'data-category' : 'actor'}).find_next('div', class_='filmo-category-section')"
   ]
  },
  {
   "cell_type": "code",
   "execution_count": 23,
   "metadata": {},
   "outputs": [],
   "source": [
    "# Break up the above\n",
    "actor_filmography = filmography.find('div', {'data-category' : 'actor'})\n",
    "actor_filmography = actor_filmography.find_next('div', class_='filmo-category-section')"
   ]
  },
  {
   "cell_type": "code",
   "execution_count": 24,
   "metadata": {},
   "outputs": [],
   "source": [
    "film_links = actor_filmography.find_all(href=True)"
   ]
  },
  {
   "cell_type": "markdown",
   "metadata": {},
   "source": [
    "## Let's see those links"
   ]
  },
  {
   "cell_type": "code",
   "execution_count": null,
   "metadata": {},
   "outputs": [],
   "source": [
    "for link in film_links:\n",
    "    print(link['href'])"
   ]
  },
  {
   "cell_type": "code",
   "execution_count": null,
   "metadata": {},
   "outputs": [],
   "source": [
    "baselink = 'https://www.imdb.com'\n",
    "for link in film_links:\n",
    "    if link['href'].startswith('/'):\n",
    "        print(baselink + link['href'])"
   ]
  },
  {
   "cell_type": "markdown",
   "metadata": {},
   "source": [
    "## Collecting Genres"
   ]
  },
  {
   "cell_type": "code",
   "execution_count": 27,
   "metadata": {},
   "outputs": [
    {
     "name": "stdout",
     "output_type": "stream",
     "text": [
      "[<a href=\"/search/title?genres=action&amp;explore=title_type,genres\">Action</a>]\n",
      "[<a href=\"/search/title?genres=crime&amp;explore=title_type,genres\">Crime</a>, <a href=\"/search/title?genres=drama&amp;explore=title_type,genres\">Drama</a>]\n",
      "[<a href=\"/search/title?genres=drama&amp;explore=title_type,genres\">Drama</a>]\n"
     ]
    }
   ],
   "source": [
    "baselink = 'https://www.imdb.com'\n",
    "for link in film_links[:5]:\n",
    "    if link['href'].startswith('/'):\n",
    "        \n",
    "        # CRAWL into another page\n",
    "        \n",
    "        url = baselink + link['href']\n",
    "        page = requests.get(url)\n",
    "        soup = BeautifulSoup(page.content)\n",
    "\n",
    "        subtext = soup.find('div', class_='subtext').find_all(href=True)\n",
    "        print(subtext)"
   ]
  },
  {
   "cell_type": "code",
   "execution_count": 28,
   "metadata": {},
   "outputs": [],
   "source": [
    "baselink = 'https://www.imdb.com'\n",
    "\n",
    "# Somewhere to store our genres:\n",
    "genres = []\n",
    "\n",
    "# to search our for genre:\n",
    "genre = re.compile('genre')\n",
    "    \n",
    "for link in film_links[:5]:\n",
    "    if link['href'].startswith('/'):\n",
    "        url = baselink + link['href']\n",
    "        page = requests.get(url)\n",
    "        soup = BeautifulSoup(page.content)\n",
    "        subtext = soup.find('div', class_='subtext').find_all(href=genre, text=True)\n",
    "        for g in subtext:\n",
    "            genres.append(g.text)"
   ]
  },
  {
   "cell_type": "code",
   "execution_count": 29,
   "metadata": {},
   "outputs": [
    {
     "data": {
      "text/plain": [
       "['Action', 'Crime', 'Drama', 'Drama']"
      ]
     },
     "execution_count": 29,
     "metadata": {},
     "output_type": "execute_result"
    }
   ],
   "source": [
    "genres"
   ]
  },
  {
   "cell_type": "markdown",
   "metadata": {},
   "source": [
    "### Collecting more actors"
   ]
  },
  {
   "cell_type": "code",
   "execution_count": 40,
   "metadata": {},
   "outputs": [],
   "source": [
    "name = re.compile('name')\n",
    "actors = []\n",
    "cache = []\n",
    "\n",
    "for link in film_links[:5]:\n",
    "    if link['href'].startswith('/'):\n",
    "        url = baselink + link['href']\n",
    "        page = requests.get(url)\n",
    "        soup = BeautifulSoup(page.content)\n",
    "        _actors = soup.find('table', class_='cast_list').find_all(href=name, text=True)\n",
    "        for a in _actors:\n",
    "            actors.append(a.text.strip('\\n')[1:])\n",
    "            cache.append(baselink+a['href'])"
   ]
  },
  {
   "cell_type": "code",
   "execution_count": 41,
   "metadata": {},
   "outputs": [
    {
     "data": {
      "text/plain": [
       "['Robert De Niro',\n",
       " 'Edgar Ramírez',\n",
       " 'Robert De Niro',\n",
       " 'Chloë Grace Moretz',\n",
       " 'Miles Teller',\n",
       " 'Robert De Niro',\n",
       " 'Anne Hathaway',\n",
       " 'Cate Blanchett',\n",
       " 'Oscar Isaac',\n",
       " 'Donald Sutherland']"
      ]
     },
     "execution_count": 41,
     "metadata": {},
     "output_type": "execute_result"
    }
   ],
   "source": [
    "actors"
   ]
  },
  {
   "cell_type": "code",
   "execution_count": 42,
   "metadata": {},
   "outputs": [
    {
     "data": {
      "text/plain": [
       "['https://www.imdb.com/name/nm0000134/',\n",
       " 'https://www.imdb.com/name/nm1183149/',\n",
       " 'https://www.imdb.com/name/nm0000134/',\n",
       " 'https://www.imdb.com/name/nm1631269/',\n",
       " 'https://www.imdb.com/name/nm1886602/',\n",
       " 'https://www.imdb.com/name/nm0000134/',\n",
       " 'https://www.imdb.com/name/nm0004266/',\n",
       " 'https://www.imdb.com/name/nm0000949/',\n",
       " 'https://www.imdb.com/name/nm1209966/',\n",
       " 'https://www.imdb.com/name/nm0000661/']"
      ]
     },
     "execution_count": 42,
     "metadata": {},
     "output_type": "execute_result"
    }
   ],
   "source": [
    "cache"
   ]
  },
  {
   "cell_type": "code",
   "execution_count": null,
   "metadata": {},
   "outputs": [],
   "source": []
  },
  {
   "cell_type": "markdown",
   "metadata": {},
   "source": [
    "## Crawling"
   ]
  },
  {
   "cell_type": "code",
   "execution_count": 187,
   "metadata": {},
   "outputs": [],
   "source": [
    "cache = ['https://www.imdb.com/title/tt1302006/']\n",
    "_cache = []\n",
    "limit = 5"
   ]
  },
  {
   "cell_type": "code",
   "execution_count": 188,
   "metadata": {},
   "outputs": [],
   "source": [
    "films = []"
   ]
  },
  {
   "cell_type": "code",
   "execution_count": 189,
   "metadata": {},
   "outputs": [],
   "source": [
    "baselink = 'https://www.imdb.com'"
   ]
  },
  {
   "cell_type": "code",
   "execution_count": 190,
   "metadata": {},
   "outputs": [],
   "source": [
    "genre = re.compile('genre')\n",
    "name = re.compile('name')\n",
    "title = re.compile('title')"
   ]
  },
  {
   "cell_type": "code",
   "execution_count": 191,
   "metadata": {},
   "outputs": [],
   "source": [
    "def related_films(cast, baselink = 'https://www.imdb.com', log = ['']):\n",
    "    actor_links = [baselink+x['href'] for x in cast[:5] if x not in log]\n",
    "    related = []\n",
    "    \n",
    "    for link in actor_links:\n",
    "        soup = BeautifulSoup(requests.get(link).content)\n",
    "        related.append(soup.find('div', id='knownfor').find_all('a')[0]['href'])\n",
    "    \n",
    "    return [baselink+l for l in related]"
   ]
  },
  {
   "cell_type": "code",
   "execution_count": 192,
   "metadata": {},
   "outputs": [
    {
     "name": "stdout",
     "output_type": "stream",
     "text": [
      "https://www.imdb.com/title/tt1302006/\n",
      "1\n",
      "1\n",
      "https://www.imdb.com/title/tt0081398/\n",
      "2\n",
      "https://www.imdb.com/title/tt0070666/\n",
      "3\n",
      "https://www.imdb.com/title/tt0099685/\n",
      "4\n",
      "https://www.imdb.com/title/tt0105236/\n",
      "5\n"
     ]
    }
   ],
   "source": [
    "log  = []\n",
    "while len(films) < limit:\n",
    "    for film_link in cache[:limit]:\n",
    "        # Check that the film is new\n",
    "        if film_link not in log:\n",
    "            print(film_link)\n",
    "            # make the soup           \n",
    "            webpage = requests.get(film_link)\n",
    "            soup = BeautifulSoup(webpage.content)\n",
    "            \n",
    "            # get the film title\n",
    "            film_name = soup.find('h1').text.strip('\\n')\n",
    "            \n",
    "            # get the film genres\n",
    "            genres = []\n",
    "            _genres = soup.find('div', class_='subtext').find_all(href=genre, text=True)\n",
    "            for g in _genres:\n",
    "                genres.append(g.text)\n",
    "            \n",
    "            # get the film actors\n",
    "            actors = []\n",
    "            _actors = soup.find('table', class_='cast_list').find_all(href=name, text=True)\n",
    "            \n",
    "            for a in _actors:\n",
    "                actors.append(a.text)\n",
    "                \n",
    "            # get the films duration\n",
    "            duration = soup.find('div', class_='subtext').find('time', text=True).text\n",
    "            \n",
    "            # record where we've been\n",
    "            log.append(film_link)\n",
    "            \n",
    "            # save the film data:\n",
    "            films.append({'film_name': film_name, 'genres' : genres, 'actors': actors, 'duration':duration})\n",
    "        \n",
    "        print(len(films))\n",
    "        \n",
    "    # crawl around for more links \n",
    "    if len(set(cache) - set(log)) == 0:\n",
    "        # get the next films from this ones 'related'\n",
    "        _cache = related_films(_actors, log=log)\n",
    "        cache.extend(_cache)"
   ]
  },
  {
   "cell_type": "markdown",
   "metadata": {},
   "source": [
    "# Present out data in Pandas"
   ]
  },
  {
   "cell_type": "code",
   "execution_count": 193,
   "metadata": {},
   "outputs": [],
   "source": [
    "df = pd.DataFrame(films)"
   ]
  },
  {
   "cell_type": "code",
   "execution_count": 194,
   "metadata": {},
   "outputs": [
    {
     "data": {
      "text/html": [
       "<div>\n",
       "<style scoped>\n",
       "    .dataframe tbody tr th:only-of-type {\n",
       "        vertical-align: middle;\n",
       "    }\n",
       "\n",
       "    .dataframe tbody tr th {\n",
       "        vertical-align: top;\n",
       "    }\n",
       "\n",
       "    .dataframe thead th {\n",
       "        text-align: right;\n",
       "    }\n",
       "</style>\n",
       "<table border=\"1\" class=\"dataframe\">\n",
       "  <thead>\n",
       "    <tr style=\"text-align: right;\">\n",
       "      <th></th>\n",
       "      <th>film_name</th>\n",
       "      <th>genres</th>\n",
       "      <th>actors</th>\n",
       "      <th>duration</th>\n",
       "    </tr>\n",
       "  </thead>\n",
       "  <tbody>\n",
       "    <tr>\n",
       "      <td>0</td>\n",
       "      <td>The Irishman (2019)</td>\n",
       "      <td>[Biography, Crime, Drama]</td>\n",
       "      <td>[ Robert De Niro\\n,  Al Pacino\\n,  Joe Pesci\\n...</td>\n",
       "      <td>\\n                        3h 29min\\n          ...</td>\n",
       "    </tr>\n",
       "    <tr>\n",
       "      <td>1</td>\n",
       "      <td>Raging Bull (1980)</td>\n",
       "      <td>[Biography, Drama, Sport]</td>\n",
       "      <td>[ Robert De Niro\\n,  Cathy Moriarty\\n,  Joe Pe...</td>\n",
       "      <td>\\n                        2h 9min\\n           ...</td>\n",
       "    </tr>\n",
       "    <tr>\n",
       "      <td>2</td>\n",
       "      <td>Serpico (1973)</td>\n",
       "      <td>[Biography, Crime, Drama]</td>\n",
       "      <td>[ Al Pacino\\n,  John Randolph\\n,  Jack Kehoe\\n...</td>\n",
       "      <td>\\n                        2h 10min\\n          ...</td>\n",
       "    </tr>\n",
       "    <tr>\n",
       "      <td>3</td>\n",
       "      <td>Goodfellas (1990)</td>\n",
       "      <td>[Biography, Crime, Drama]</td>\n",
       "      <td>[ Robert De Niro\\n,  Ray Liotta\\n,  Joe Pesci\\...</td>\n",
       "      <td>\\n                        2h 26min\\n          ...</td>\n",
       "    </tr>\n",
       "    <tr>\n",
       "      <td>4</td>\n",
       "      <td>Reservoir Dogs (1992)</td>\n",
       "      <td>[Crime, Drama, Thriller]</td>\n",
       "      <td>[ Harvey Keitel\\n,  Tim Roth\\n,  Michael Madse...</td>\n",
       "      <td>\\n                        1h 39min\\n          ...</td>\n",
       "    </tr>\n",
       "  </tbody>\n",
       "</table>\n",
       "</div>"
      ],
      "text/plain": [
       "                film_name                     genres  \\\n",
       "0    The Irishman (2019)   [Biography, Crime, Drama]   \n",
       "1     Raging Bull (1980)   [Biography, Drama, Sport]   \n",
       "2         Serpico (1973)   [Biography, Crime, Drama]   \n",
       "3      Goodfellas (1990)   [Biography, Crime, Drama]   \n",
       "4  Reservoir Dogs (1992)    [Crime, Drama, Thriller]   \n",
       "\n",
       "                                              actors  \\\n",
       "0  [ Robert De Niro\\n,  Al Pacino\\n,  Joe Pesci\\n...   \n",
       "1  [ Robert De Niro\\n,  Cathy Moriarty\\n,  Joe Pe...   \n",
       "2  [ Al Pacino\\n,  John Randolph\\n,  Jack Kehoe\\n...   \n",
       "3  [ Robert De Niro\\n,  Ray Liotta\\n,  Joe Pesci\\...   \n",
       "4  [ Harvey Keitel\\n,  Tim Roth\\n,  Michael Madse...   \n",
       "\n",
       "                                            duration  \n",
       "0  \\n                        3h 29min\\n          ...  \n",
       "1  \\n                        2h 9min\\n           ...  \n",
       "2  \\n                        2h 10min\\n          ...  \n",
       "3  \\n                        2h 26min\\n          ...  \n",
       "4  \\n                        1h 39min\\n          ...  "
      ]
     },
     "execution_count": 194,
     "metadata": {},
     "output_type": "execute_result"
    }
   ],
   "source": [
    "df"
   ]
  },
  {
   "cell_type": "markdown",
   "metadata": {},
   "source": [
    "## Tidy Data"
   ]
  },
  {
   "cell_type": "code",
   "execution_count": 195,
   "metadata": {},
   "outputs": [],
   "source": [
    "def tidy_date(rough):\n",
    "    time = rough[-8:-3]\n",
    "    hours = int(time[0])\n",
    "    minutes = int(time[2:])\n",
    "    return (hours*60)+minutes\n",
    "\n",
    "df['minutes'] = df.duration.str.strip().apply(tidy_date)\n",
    "\n",
    "# https://pandas.pydata.org/pandas-docs/stable/user_guide/groupby.html\n",
    "\n",
    "# https://pandas.pydata.org/pandas-docs/stable/reference/api/pandas.Series.str.html\n",
    "# https://pandas.pydata.org/pandas-docs/stable/reference/api/pandas.Series.apply.html"
   ]
  },
  {
   "cell_type": "code",
   "execution_count": 196,
   "metadata": {},
   "outputs": [
    {
     "data": {
      "text/html": [
       "<div>\n",
       "<style scoped>\n",
       "    .dataframe tbody tr th:only-of-type {\n",
       "        vertical-align: middle;\n",
       "    }\n",
       "\n",
       "    .dataframe tbody tr th {\n",
       "        vertical-align: top;\n",
       "    }\n",
       "\n",
       "    .dataframe thead th {\n",
       "        text-align: right;\n",
       "    }\n",
       "</style>\n",
       "<table border=\"1\" class=\"dataframe\">\n",
       "  <thead>\n",
       "    <tr style=\"text-align: right;\">\n",
       "      <th></th>\n",
       "      <th>film_name</th>\n",
       "      <th>genres</th>\n",
       "      <th>actors</th>\n",
       "      <th>duration</th>\n",
       "      <th>minutes</th>\n",
       "    </tr>\n",
       "  </thead>\n",
       "  <tbody>\n",
       "    <tr>\n",
       "      <td>0</td>\n",
       "      <td>The Irishman (2019)</td>\n",
       "      <td>[Biography, Crime, Drama]</td>\n",
       "      <td>[ Robert De Niro\\n,  Al Pacino\\n,  Joe Pesci\\n...</td>\n",
       "      <td>\\n                        3h 29min\\n          ...</td>\n",
       "      <td>209</td>\n",
       "    </tr>\n",
       "    <tr>\n",
       "      <td>1</td>\n",
       "      <td>Raging Bull (1980)</td>\n",
       "      <td>[Biography, Drama, Sport]</td>\n",
       "      <td>[ Robert De Niro\\n,  Cathy Moriarty\\n,  Joe Pe...</td>\n",
       "      <td>\\n                        2h 9min\\n           ...</td>\n",
       "      <td>129</td>\n",
       "    </tr>\n",
       "    <tr>\n",
       "      <td>2</td>\n",
       "      <td>Serpico (1973)</td>\n",
       "      <td>[Biography, Crime, Drama]</td>\n",
       "      <td>[ Al Pacino\\n,  John Randolph\\n,  Jack Kehoe\\n...</td>\n",
       "      <td>\\n                        2h 10min\\n          ...</td>\n",
       "      <td>130</td>\n",
       "    </tr>\n",
       "    <tr>\n",
       "      <td>3</td>\n",
       "      <td>Goodfellas (1990)</td>\n",
       "      <td>[Biography, Crime, Drama]</td>\n",
       "      <td>[ Robert De Niro\\n,  Ray Liotta\\n,  Joe Pesci\\...</td>\n",
       "      <td>\\n                        2h 26min\\n          ...</td>\n",
       "      <td>146</td>\n",
       "    </tr>\n",
       "    <tr>\n",
       "      <td>4</td>\n",
       "      <td>Reservoir Dogs (1992)</td>\n",
       "      <td>[Crime, Drama, Thriller]</td>\n",
       "      <td>[ Harvey Keitel\\n,  Tim Roth\\n,  Michael Madse...</td>\n",
       "      <td>\\n                        1h 39min\\n          ...</td>\n",
       "      <td>99</td>\n",
       "    </tr>\n",
       "  </tbody>\n",
       "</table>\n",
       "</div>"
      ],
      "text/plain": [
       "                film_name                     genres  \\\n",
       "0    The Irishman (2019)   [Biography, Crime, Drama]   \n",
       "1     Raging Bull (1980)   [Biography, Drama, Sport]   \n",
       "2         Serpico (1973)   [Biography, Crime, Drama]   \n",
       "3      Goodfellas (1990)   [Biography, Crime, Drama]   \n",
       "4  Reservoir Dogs (1992)    [Crime, Drama, Thriller]   \n",
       "\n",
       "                                              actors  \\\n",
       "0  [ Robert De Niro\\n,  Al Pacino\\n,  Joe Pesci\\n...   \n",
       "1  [ Robert De Niro\\n,  Cathy Moriarty\\n,  Joe Pe...   \n",
       "2  [ Al Pacino\\n,  John Randolph\\n,  Jack Kehoe\\n...   \n",
       "3  [ Robert De Niro\\n,  Ray Liotta\\n,  Joe Pesci\\...   \n",
       "4  [ Harvey Keitel\\n,  Tim Roth\\n,  Michael Madse...   \n",
       "\n",
       "                                            duration  minutes  \n",
       "0  \\n                        3h 29min\\n          ...      209  \n",
       "1  \\n                        2h 9min\\n           ...      129  \n",
       "2  \\n                        2h 10min\\n          ...      130  \n",
       "3  \\n                        2h 26min\\n          ...      146  \n",
       "4  \\n                        1h 39min\\n          ...       99  "
      ]
     },
     "execution_count": 196,
     "metadata": {},
     "output_type": "execute_result"
    }
   ],
   "source": [
    "df"
   ]
  },
  {
   "cell_type": "markdown",
   "metadata": {},
   "source": [
    "## Re format data"
   ]
  },
  {
   "cell_type": "code",
   "execution_count": 199,
   "metadata": {},
   "outputs": [],
   "source": [
    "genres_df = pd.DataFrame(df.explode('genres'))"
   ]
  },
  {
   "cell_type": "code",
   "execution_count": 211,
   "metadata": {},
   "outputs": [
    {
     "data": {
      "text/html": [
       "<div>\n",
       "<style scoped>\n",
       "    .dataframe tbody tr th:only-of-type {\n",
       "        vertical-align: middle;\n",
       "    }\n",
       "\n",
       "    .dataframe tbody tr th {\n",
       "        vertical-align: top;\n",
       "    }\n",
       "\n",
       "    .dataframe thead th {\n",
       "        text-align: right;\n",
       "    }\n",
       "</style>\n",
       "<table border=\"1\" class=\"dataframe\">\n",
       "  <thead>\n",
       "    <tr style=\"text-align: right;\">\n",
       "      <th></th>\n",
       "      <th>film_name</th>\n",
       "      <th>genres</th>\n",
       "      <th>actors</th>\n",
       "      <th>duration</th>\n",
       "      <th>minutes</th>\n",
       "    </tr>\n",
       "  </thead>\n",
       "  <tbody>\n",
       "    <tr>\n",
       "      <td>0</td>\n",
       "      <td>The Irishman (2019)</td>\n",
       "      <td>Biography</td>\n",
       "      <td>[ Robert De Niro\\n,  Al Pacino\\n,  Joe Pesci\\n...</td>\n",
       "      <td>\\n                        3h 29min\\n          ...</td>\n",
       "      <td>209</td>\n",
       "    </tr>\n",
       "    <tr>\n",
       "      <td>0</td>\n",
       "      <td>The Irishman (2019)</td>\n",
       "      <td>Crime</td>\n",
       "      <td>[ Robert De Niro\\n,  Al Pacino\\n,  Joe Pesci\\n...</td>\n",
       "      <td>\\n                        3h 29min\\n          ...</td>\n",
       "      <td>209</td>\n",
       "    </tr>\n",
       "    <tr>\n",
       "      <td>0</td>\n",
       "      <td>The Irishman (2019)</td>\n",
       "      <td>Drama</td>\n",
       "      <td>[ Robert De Niro\\n,  Al Pacino\\n,  Joe Pesci\\n...</td>\n",
       "      <td>\\n                        3h 29min\\n          ...</td>\n",
       "      <td>209</td>\n",
       "    </tr>\n",
       "    <tr>\n",
       "      <td>1</td>\n",
       "      <td>Raging Bull (1980)</td>\n",
       "      <td>Biography</td>\n",
       "      <td>[ Robert De Niro\\n,  Cathy Moriarty\\n,  Joe Pe...</td>\n",
       "      <td>\\n                        2h 9min\\n           ...</td>\n",
       "      <td>129</td>\n",
       "    </tr>\n",
       "    <tr>\n",
       "      <td>1</td>\n",
       "      <td>Raging Bull (1980)</td>\n",
       "      <td>Drama</td>\n",
       "      <td>[ Robert De Niro\\n,  Cathy Moriarty\\n,  Joe Pe...</td>\n",
       "      <td>\\n                        2h 9min\\n           ...</td>\n",
       "      <td>129</td>\n",
       "    </tr>\n",
       "    <tr>\n",
       "      <td>1</td>\n",
       "      <td>Raging Bull (1980)</td>\n",
       "      <td>Sport</td>\n",
       "      <td>[ Robert De Niro\\n,  Cathy Moriarty\\n,  Joe Pe...</td>\n",
       "      <td>\\n                        2h 9min\\n           ...</td>\n",
       "      <td>129</td>\n",
       "    </tr>\n",
       "    <tr>\n",
       "      <td>2</td>\n",
       "      <td>Serpico (1973)</td>\n",
       "      <td>Biography</td>\n",
       "      <td>[ Al Pacino\\n,  John Randolph\\n,  Jack Kehoe\\n...</td>\n",
       "      <td>\\n                        2h 10min\\n          ...</td>\n",
       "      <td>130</td>\n",
       "    </tr>\n",
       "    <tr>\n",
       "      <td>2</td>\n",
       "      <td>Serpico (1973)</td>\n",
       "      <td>Crime</td>\n",
       "      <td>[ Al Pacino\\n,  John Randolph\\n,  Jack Kehoe\\n...</td>\n",
       "      <td>\\n                        2h 10min\\n          ...</td>\n",
       "      <td>130</td>\n",
       "    </tr>\n",
       "    <tr>\n",
       "      <td>2</td>\n",
       "      <td>Serpico (1973)</td>\n",
       "      <td>Drama</td>\n",
       "      <td>[ Al Pacino\\n,  John Randolph\\n,  Jack Kehoe\\n...</td>\n",
       "      <td>\\n                        2h 10min\\n          ...</td>\n",
       "      <td>130</td>\n",
       "    </tr>\n",
       "    <tr>\n",
       "      <td>3</td>\n",
       "      <td>Goodfellas (1990)</td>\n",
       "      <td>Biography</td>\n",
       "      <td>[ Robert De Niro\\n,  Ray Liotta\\n,  Joe Pesci\\...</td>\n",
       "      <td>\\n                        2h 26min\\n          ...</td>\n",
       "      <td>146</td>\n",
       "    </tr>\n",
       "    <tr>\n",
       "      <td>3</td>\n",
       "      <td>Goodfellas (1990)</td>\n",
       "      <td>Crime</td>\n",
       "      <td>[ Robert De Niro\\n,  Ray Liotta\\n,  Joe Pesci\\...</td>\n",
       "      <td>\\n                        2h 26min\\n          ...</td>\n",
       "      <td>146</td>\n",
       "    </tr>\n",
       "    <tr>\n",
       "      <td>3</td>\n",
       "      <td>Goodfellas (1990)</td>\n",
       "      <td>Drama</td>\n",
       "      <td>[ Robert De Niro\\n,  Ray Liotta\\n,  Joe Pesci\\...</td>\n",
       "      <td>\\n                        2h 26min\\n          ...</td>\n",
       "      <td>146</td>\n",
       "    </tr>\n",
       "    <tr>\n",
       "      <td>4</td>\n",
       "      <td>Reservoir Dogs (1992)</td>\n",
       "      <td>Crime</td>\n",
       "      <td>[ Harvey Keitel\\n,  Tim Roth\\n,  Michael Madse...</td>\n",
       "      <td>\\n                        1h 39min\\n          ...</td>\n",
       "      <td>99</td>\n",
       "    </tr>\n",
       "    <tr>\n",
       "      <td>4</td>\n",
       "      <td>Reservoir Dogs (1992)</td>\n",
       "      <td>Drama</td>\n",
       "      <td>[ Harvey Keitel\\n,  Tim Roth\\n,  Michael Madse...</td>\n",
       "      <td>\\n                        1h 39min\\n          ...</td>\n",
       "      <td>99</td>\n",
       "    </tr>\n",
       "    <tr>\n",
       "      <td>4</td>\n",
       "      <td>Reservoir Dogs (1992)</td>\n",
       "      <td>Thriller</td>\n",
       "      <td>[ Harvey Keitel\\n,  Tim Roth\\n,  Michael Madse...</td>\n",
       "      <td>\\n                        1h 39min\\n          ...</td>\n",
       "      <td>99</td>\n",
       "    </tr>\n",
       "  </tbody>\n",
       "</table>\n",
       "</div>"
      ],
      "text/plain": [
       "                film_name     genres  \\\n",
       "0    The Irishman (2019)   Biography   \n",
       "0    The Irishman (2019)       Crime   \n",
       "0    The Irishman (2019)       Drama   \n",
       "1     Raging Bull (1980)   Biography   \n",
       "1     Raging Bull (1980)       Drama   \n",
       "1     Raging Bull (1980)       Sport   \n",
       "2         Serpico (1973)   Biography   \n",
       "2         Serpico (1973)       Crime   \n",
       "2         Serpico (1973)       Drama   \n",
       "3      Goodfellas (1990)   Biography   \n",
       "3      Goodfellas (1990)       Crime   \n",
       "3      Goodfellas (1990)       Drama   \n",
       "4  Reservoir Dogs (1992)       Crime   \n",
       "4  Reservoir Dogs (1992)       Drama   \n",
       "4  Reservoir Dogs (1992)    Thriller   \n",
       "\n",
       "                                              actors  \\\n",
       "0  [ Robert De Niro\\n,  Al Pacino\\n,  Joe Pesci\\n...   \n",
       "0  [ Robert De Niro\\n,  Al Pacino\\n,  Joe Pesci\\n...   \n",
       "0  [ Robert De Niro\\n,  Al Pacino\\n,  Joe Pesci\\n...   \n",
       "1  [ Robert De Niro\\n,  Cathy Moriarty\\n,  Joe Pe...   \n",
       "1  [ Robert De Niro\\n,  Cathy Moriarty\\n,  Joe Pe...   \n",
       "1  [ Robert De Niro\\n,  Cathy Moriarty\\n,  Joe Pe...   \n",
       "2  [ Al Pacino\\n,  John Randolph\\n,  Jack Kehoe\\n...   \n",
       "2  [ Al Pacino\\n,  John Randolph\\n,  Jack Kehoe\\n...   \n",
       "2  [ Al Pacino\\n,  John Randolph\\n,  Jack Kehoe\\n...   \n",
       "3  [ Robert De Niro\\n,  Ray Liotta\\n,  Joe Pesci\\...   \n",
       "3  [ Robert De Niro\\n,  Ray Liotta\\n,  Joe Pesci\\...   \n",
       "3  [ Robert De Niro\\n,  Ray Liotta\\n,  Joe Pesci\\...   \n",
       "4  [ Harvey Keitel\\n,  Tim Roth\\n,  Michael Madse...   \n",
       "4  [ Harvey Keitel\\n,  Tim Roth\\n,  Michael Madse...   \n",
       "4  [ Harvey Keitel\\n,  Tim Roth\\n,  Michael Madse...   \n",
       "\n",
       "                                            duration  minutes  \n",
       "0  \\n                        3h 29min\\n          ...      209  \n",
       "0  \\n                        3h 29min\\n          ...      209  \n",
       "0  \\n                        3h 29min\\n          ...      209  \n",
       "1  \\n                        2h 9min\\n           ...      129  \n",
       "1  \\n                        2h 9min\\n           ...      129  \n",
       "1  \\n                        2h 9min\\n           ...      129  \n",
       "2  \\n                        2h 10min\\n          ...      130  \n",
       "2  \\n                        2h 10min\\n          ...      130  \n",
       "2  \\n                        2h 10min\\n          ...      130  \n",
       "3  \\n                        2h 26min\\n          ...      146  \n",
       "3  \\n                        2h 26min\\n          ...      146  \n",
       "3  \\n                        2h 26min\\n          ...      146  \n",
       "4  \\n                        1h 39min\\n          ...       99  \n",
       "4  \\n                        1h 39min\\n          ...       99  \n",
       "4  \\n                        1h 39min\\n          ...       99  "
      ]
     },
     "execution_count": 211,
     "metadata": {},
     "output_type": "execute_result"
    }
   ],
   "source": [
    "genres_df"
   ]
  },
  {
   "cell_type": "markdown",
   "metadata": {},
   "source": [
    "# Show duration by genre"
   ]
  },
  {
   "cell_type": "code",
   "execution_count": 213,
   "metadata": {},
   "outputs": [],
   "source": [
    "%matplotlib inline \n",
    "\n",
    "import matplotlib as mpl\n",
    "import matplotlib.pyplot as plt"
   ]
  },
  {
   "cell_type": "code",
   "execution_count": 215,
   "metadata": {},
   "outputs": [
    {
     "data": {
      "text/plain": [
       "<matplotlib.axes._subplots.AxesSubplot at 0x7f428754ce50>"
      ]
     },
     "execution_count": 215,
     "metadata": {},
     "output_type": "execute_result"
    },
    {
     "data": {
      "image/png": "[encoded data removed]",
      "text/plain": [
       "<Figure size 432x288 with 1 Axes>"
      ]
     },
     "metadata": {
      "needs_background": "light"
     },
     "output_type": "display_data"
    }
   ],
   "source": [
    "df[['minutes','genre']].groupby('genre').mean().plot(kind='bar')\n",
    "\n",
    "# https://pandas.pydata.org/pandas-docs/stable/reference/api/pandas.DataFrame.groupby.html\n",
    "# https://pandas.pydata.org/pandas-docs/stable/user_guide/groupby.html\n",
    "# https://pandas.pydata.org/pandas-docs/stable/reference/api/pandas.DataFrame.mean.html"
   ]
  }
 ],
 "metadata": {
  "kernelspec": {
   "display_name": "Python 3",
   "language": "python",
   "name": "python3"
  },
  "language_info": {
   "codemirror_mode": {
    "name": "ipython",
    "version": 3
   },
   "file_extension": ".py",
   "mimetype": "text/x-python",
   "name": "python",
   "nbconvert_exporter": "python",
   "pygments_lexer": "ipython3",
   "version": "3.7.4"
  }
 },
 "nbformat": 4,
 "nbformat_minor": 4
}
