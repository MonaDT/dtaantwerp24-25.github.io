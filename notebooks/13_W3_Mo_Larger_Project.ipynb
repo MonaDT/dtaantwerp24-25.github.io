{
 "cells": [
  {
   "cell_type": "markdown",
   "metadata": {},
   "source": [
    "<div style=\"background-color:lightgrey;\n",
    "            padding:10px;\n",
    "            color:black;\n",
    "            border:black dashed 2px; \n",
    "            border-radius:5px;\n",
    "            margin: 20px 0;\">\n",
    "            \n",
    "            \n",
    "# Larger Project\n",
    "\n",
    "\n",
    "**Staff:** Mona Allaert & Leonardo Grotti<br/>\n",
    "**Support Material:** None <br/>\n",
    "**Support Sessions:**  None\n",
    "\n",
    "</div>\n"
   ]
  },
  {
   "cell_type": "markdown",
   "metadata": {},
   "source": [
    "In the past sessions, we've often worked on smaller exercises that targeted a very specific topic or skill. It can be hard to imagine, for the time being, how such an abstract exercise could become a useful building block in a larger, real-life application. In this session, we'll work on a larger project: an authentication system for a website, in which you have to combine several smaller pieces of functionality.\n",
    "\n",
    "- Piece together code in smart way, but make use of **abstraction mechanism**, such as functions, that allow you to divide the work in managable packages\n",
    "- Think about the design of the code: translate a free running text in natural language into formal code **requirements**\n",
    "- Think about **reuse**: which third part stuff already exists that I can reuse in a stable way?"
   ]
  },
  {
   "cell_type": "markdown",
   "metadata": {},
   "source": [
    "## Project: an authentication system\n",
    "\n",
    "**Assignment**: *produce Python code that sets up a naive authentication system, e.g. for a website, that allows a user to register and log in. Before peaking at the task description below: try to describe for yourself, potentially making use of a schematic drawing, what such a system should be able to do. What limits do you want impose on the user? Which liberties will you allow? Try to protect yourself from malicious users but also try to protect users from their own mistakes.*\n",
    "\n",
    "\n",
    "### Functionality\n",
    "Implement the following functionality:\n",
    "- (A) Ask a user (via `input()`) for an email address (as a proxy for a user name) and a password. A **valid password** must be be at least 8 characters long, contain uppercase *and* lowercase characters, as well as two digits, but no punctuation. Store this information in a suitable data structure, but only *if* the user name entered is a **valid email address**. For the sake of simplicity, you can limit yourself to the following dummy rules as to what constitutes a valid email address:\n",
    "    + It contains (exactly one) \"@\".\n",
    "    + It ends in \".com\", \".org\", or \".be\".\n",
    "    + It contains no other punctuation than '-', '@' and '.'\n",
    "    \n",
    "- (B) Ask the user (via `input()`) to login with her/his **credentials** and grant access to the website the password matches an existing user in the database. If the user three times enters a false password, send a **warning email** to the email address that was used as user name in the last attempt.\n",
    "\n",
    "\n",
    "In your code, the following information should be printed under the appropriate conditions:\n",
    "\n",
    "(A)\n",
    "   - “Your account has been successfully created!”\n",
    "   - “You entered an invalid email address. Try again.”\n",
    "   - “Your password isn't long enough.”\n",
    "   - “That user name has already been taken. Try again.”\n",
    "\n",
    "(B)\n",
    "   - “You have successfully logged in!”\n",
    "   - “This email address does not exist in our database. Try again.”\n",
    "   - “Your email address exists, but your password is incorrect. Try again. (`n` attempts left)”\n",
    "   - \"You have exhausted your 3 login attempts. A warning message has been emailed to the last email address used.\""
   ]
  },
  {
   "cell_type": "code",
   "execution_count": null,
   "metadata": {},
   "outputs": [],
   "source": [
    "# code here"
   ]
  }
 ],
 "metadata": {
  "kernelspec": {
   "display_name": "Python 3",
   "language": "python",
   "name": "python3"
  },
  "language_info": {
   "codemirror_mode": {
    "name": "ipython",
    "version": 3
   },
   "file_extension": ".py",
   "mimetype": "text/x-python",
   "name": "python",
   "nbconvert_exporter": "python",
   "pygments_lexer": "ipython3",
   "version": "3.6.10"
  }
 },
 "nbformat": 4,
 "nbformat_minor": 4
}
