{
 "cells": [
  {
   "cell_type": "markdown",
   "metadata": {},
   "source": [
    "<div style=\"background-color:lightgrey;\n",
    "            padding:10px;\n",
    "            color:black;\n",
    "            border:black dashed 2px; \n",
    "            border-radius:5px;\n",
    "            margin: 20px 0;\">\n",
    "            \n",
    "            \n",
    "# Functions\n",
    "\n",
    "\n",
    "\n",
    "**Staff:** Walter Daelemans <br/>\n",
    "**Support Material:** [Exercises](https://github.com/dtaantwerp/dtaantwerp.github.io/blob/DTA_Bootcamp_2021_students/exercises/07_functions.ipynb) <br/>\n",
    "**Support Sessions:**  Thursday, October 6, 10:30AM\n",
    "\n",
    "</div>"
   ]
  },
  {
   "cell_type": "markdown",
   "metadata": {},
   "source": [
    "## Summary: what all programming languages have in common:\n",
    "\n",
    "- Datatypes and procedures operating on them\n",
    "    - `int`, `float`, `list`, `str`, `tuple`, `bool`, `dict`, ...\n",
    "- Tests and boolean operators combining them\n",
    "    - `==`, `in`, `<`, `>`, `and`, `or`, `not`, ...\n",
    "- Variables and values (cf. assignment)\n",
    "    - _name_ = _expression_\n",
    "- Input and Output (often abbreviated: I/O)\n",
    "    - `input()`, `print()`, `read()`, `write()`, ...\n",
    "- Control structures for conditions, loops etc.\n",
    "    - `if`, `elif`, `else`, `for`, `while`, `break`, `continue`, `pass`, ...\n",
    "- A way of **extending** the language with your own procedures (and datatypes)\n",
    "    - `def`"
   ]
  },
  {
   "cell_type": "markdown",
   "metadata": {},
   "source": [
    "Let's revisit a typical programming idiom: a filter consisting of a `for` loop and a `test`.\n",
    "Write code that takes a list of words as input and filters out a list of all 5-letter words starting with an 'a'."
   ]
  },
  {
   "cell_type": "code",
   "execution_count": null,
   "metadata": {},
   "outputs": [],
   "source": [
    "words = ['abba', 'point', 'madam', 'feline', 'level', 'apple', 'google', \n",
    "         'anton', 'microsoft', 'facebook', 'goggle','amazon', 'oracle', 'almos']\n",
    "\n",
    "result = []\n",
    "for word in words:\n",
    "    if len(word) == 5 and word[0] == 'a':\n",
    "        result.append(word)\n",
    "        \n",
    "result"
   ]
  },
  {
   "cell_type": "markdown",
   "metadata": {},
   "source": [
    "We can define a function using `def` that will encapsulate a piece of code and make it known to Pyhon so that it can be reused. This means that it can be **called** or **invoked** with different arguments.\n",
    "\n",
    "The syntax is the following:\n",
    "\n",
    "```python\n",
    "def name(arguments):\n",
    "    body\n",
    "    return \n",
    "```\n",
    "\n",
    "We are free to choose a name for the function (make it informative!) and the names of the **arguments**. There can be no, one, or several arguments. The arguments can be used in the **body** of the function. In the body there will often be one or more `return` expressions that decide the output of a function call. However, a `return` expression is not obligatory, we can define functions that don't return any value, but do something nevertheless (e.g. printing a value).\n",
    "\n",
    "Let's look at an example function definition, we will make a function of the code for the filter we made."
   ]
  },
  {
   "cell_type": "code",
   "execution_count": null,
   "metadata": {},
   "outputs": [],
   "source": [
    "def filter_words (word_list):\n",
    "    result = []\n",
    "    for word in word_list:\n",
    "        if len(word) == 5 and word[0] == 'a':\n",
    "            result.append(word)\n",
    "    return result"
   ]
  },
  {
   "cell_type": "code",
   "execution_count": null,
   "metadata": {},
   "outputs": [],
   "source": [
    "filter_words(words)"
   ]
  },
  {
   "cell_type": "markdown",
   "metadata": {},
   "source": [
    "As you can see the result of calling this new function `filter_words` with as input the variable `words` is exactly the same as the previous code. The value of the input `words` (the list of words), is linked to the variable `word_list`. This is an internal variable that only has it's value while the function is being called, afterwards it will be unbound again. In the end, the `return` expression provides the output of the function call, in this case the filtered list. We can also call the function directly with a list or with another variable bound to a list."
   ]
  },
  {
   "cell_type": "code",
   "execution_count": null,
   "metadata": {},
   "outputs": [],
   "source": [
    "filter_words(['albion', 'always', 'anton', 'anthony'])"
   ]
  },
  {
   "cell_type": "code",
   "execution_count": null,
   "metadata": {},
   "outputs": [],
   "source": [
    "words2 = ['a', 'basket', 'of', 'fruit', 'with', 'one', 'apple', 'and', 'one', 'banana']\n",
    "filter_words(words2)"
   ]
  },
  {
   "cell_type": "markdown",
   "metadata": {},
   "source": [
    "We can make our filter function more flexible by defining additional arguments for the initial letter and the length on the basis of which we will filter words."
   ]
  },
  {
   "cell_type": "code",
   "execution_count": null,
   "metadata": {},
   "outputs": [],
   "source": [
    "def filter_words (w, first_letter, length):\n",
    "    result = []\n",
    "    for word in w:\n",
    "        if len(word) == length and word[0] == first_letter:\n",
    "            result.append(word)\n",
    "    return result"
   ]
  },
  {
   "cell_type": "code",
   "execution_count": null,
   "metadata": {},
   "outputs": [],
   "source": [
    "filter_words(words, 'g', 6)"
   ]
  },
  {
   "cell_type": "markdown",
   "metadata": {},
   "source": [
    "We can also define **default values** for arguments. In case the arguments are not provided, we can then use those values."
   ]
  },
  {
   "cell_type": "code",
   "execution_count": null,
   "metadata": {},
   "outputs": [],
   "source": [
    "def filter_words (w, first_letter='a', length=5):\n",
    "    result = []\n",
    "    for word in w:\n",
    "        if len(word) == length and word[0] == first_letter:\n",
    "            result.append(word)\n",
    "    return result"
   ]
  },
  {
   "cell_type": "code",
   "execution_count": null,
   "metadata": {},
   "outputs": [],
   "source": [
    "filter_words(words)"
   ]
  },
  {
   "cell_type": "code",
   "execution_count": null,
   "metadata": {},
   "outputs": [],
   "source": [
    "filter_words(words, 'l') # 5-letter words is default"
   ]
  },
  {
   "cell_type": "code",
   "execution_count": null,
   "metadata": {},
   "outputs": [],
   "source": [
    "filter_words(words, 'g', 6)"
   ]
  },
  {
   "cell_type": "markdown",
   "metadata": {},
   "source": [
    "The order of the arguments is important. Swapping the order of the initial letter and the length will lead to wrong output. "
   ]
  },
  {
   "cell_type": "code",
   "execution_count": null,
   "metadata": {},
   "outputs": [],
   "source": [
    "filter_words(words, 6, 'g')"
   ]
  },
  {
   "cell_type": "markdown",
   "metadata": {},
   "source": [
    "In some cases it is clearer to work with explicit keyword arguments (also called `named` arguments), that make the order of the arguments irrelevant. In our latest definition, the arguments `length` and `first_letter` are defined as keywords (to make possible default values), so they can be used as such, `words` is not a keyword though, and should always be the first argument in a call to this function."
   ]
  },
  {
   "cell_type": "code",
   "execution_count": null,
   "metadata": {},
   "outputs": [],
   "source": [
    "filter_words(words, length=6, first_letter='g')"
   ]
  },
  {
   "cell_type": "markdown",
   "metadata": {},
   "source": [
    "The fact that we didn't get an error message with\n",
    "\n",
    "```python\n",
    "filter_words(words, 6, 'g')\n",
    "```\n",
    "points to bad (or at least dangerous) code. We could believe here that there just aren't any 6-letter words starting with 'g'. We didn't get an error because the test used in the function definition works both with strings and integers, even if 'semantically' it doesn't make any sense. Python is a very flexible language, but the downside of that is that semantic errors are easy to make. In other languages, type checking is often used to make sure that functions are applied to the right type of arguments. We might consider doing a type check explicitly in our function definition:"
   ]
  },
  {
   "cell_type": "code",
   "execution_count": null,
   "metadata": {},
   "outputs": [],
   "source": [
    "def filter_words (w, first_letter='a', length=5):\n",
    "    if not(isinstance(first_letter, str)) or not(isinstance(length, int)):\n",
    "        return 'Wrong arguments!'\n",
    "    result = []\n",
    "    for word in w:\n",
    "        if len(word) == length and word[0] == first_letter:\n",
    "            result.append(word)\n",
    "    return result\n",
    "\n",
    "filter_words(words, 6, 'g')"
   ]
  },
  {
   "cell_type": "markdown",
   "metadata": {},
   "source": [
    "The type-checking condition delivered `True`, so we can avoid that error. This code also illustrates that it is possible to have several `return` expressions in a function definition. Whenever a `return` is executed, the rest of the function body is no longer executed."
   ]
  },
  {
   "cell_type": "markdown",
   "metadata": {},
   "source": [
    "##### Advanced argument usage:"
   ]
  },
  {
   "cell_type": "markdown",
   "metadata": {},
   "source": [
    "As a final variant, it is possible to work with a number of arguments that is previously not defined, indicated by `*args` in the arguments position of the function definition, and/or a number of keyword arguments that is previously undefined, indicated by `**kwargs`. When using both at the same time, the `*args` should precede the `**kwargs`. The `**kwargs` are available as a dictionary."
   ]
  },
  {
   "cell_type": "code",
   "execution_count": null,
   "metadata": {},
   "outputs": [],
   "source": [
    "def function_1 (*args):\n",
    "    return args\n",
    "\n",
    "function_1 (4, 6, 'apple')"
   ]
  },
  {
   "cell_type": "code",
   "execution_count": null,
   "metadata": {},
   "outputs": [],
   "source": [
    "def function_2 (**kwargs):\n",
    "    return kwargs\n",
    "\n",
    "function_2(a=3, b=6, c='apple')"
   ]
  },
  {
   "cell_type": "markdown",
   "metadata": {},
   "source": [
    "### Local and global variables\n",
    "\n",
    "It often happens that function definitions use argument names that already exist in the environment. That is not a problem because variables used as argument names only live while the function is being called, after that the previous values are reinstated. "
   ]
  },
  {
   "cell_type": "code",
   "execution_count": null,
   "metadata": {},
   "outputs": [],
   "source": [
    "x = 12\n",
    "\n",
    "print(x)\n",
    "\n",
    "def myfunc (x):\n",
    "    return x\n",
    "\n",
    "print(myfunc (21))\n",
    "\n",
    "print(x)"
   ]
  },
  {
   "cell_type": "markdown",
   "metadata": {},
   "source": [
    "## Decomposition and abstraction\n",
    "\n",
    "When solving a programming problem, you will have to decompose that problem into subproblems until you reach subproblems that are easy to implement in a single function definition (*decomposition*). And whenever you find subproblems that can be reused in different parts of your code, you can give them a separate function definition (*abstraction*). Both processes lead to a situation where rather than having one big blob of code, you have a set of relatively short functions. So in summary:\n",
    "\n",
    "- Split up a complex piece of code into simpler pieces of code (decomposition, 'factoring')\n",
    "- Abstract over a reusable piece of code by giving it a name (e.g. a new function or test)\n",
    "- Improved clarity, ease of change and debugging, reusability, ...\n",
    "\n",
    "Let's have a look at a toy example."
   ]
  },
  {
   "cell_type": "code",
   "execution_count": null,
   "metadata": {},
   "outputs": [],
   "source": [
    "# Problem: For each word in a list, check whether it is longer than 5 letters and if so, count the number of vowels\n",
    "\n",
    "sentence = \"I like the words serendipitous and fictitious\"\n",
    "words = sentence.split()\n",
    "words"
   ]
  },
  {
   "cell_type": "code",
   "execution_count": null,
   "metadata": {},
   "outputs": [],
   "source": [
    "# The function should return a list of vowel counts\n",
    "result_list = []\n",
    "\n",
    "vowels = \"aeiou\"\n",
    "\n",
    "for word in words: # for each word\n",
    "    if len(word) > 5: # that is longer than 5 letters\n",
    "        vowelcount = 0 # we have to return a count\n",
    "        for letter in word: # for each letter in that word\n",
    "            if letter in vowels: # if a letter is a vowel\n",
    "                vowelcount += 1 # increment vowelcount\n",
    "        result_list.append([word, vowelcount]) # add the count to the list \n",
    "    \n",
    "result_list  "
   ]
  },
  {
   "cell_type": "markdown",
   "metadata": {},
   "source": [
    "Let's make this clearer, more reusable and more elegant through the mechanism of decomposition. \n",
    "\n",
    "- We will define a separate function to test whether a letter is a vowel\n",
    "- We will define a function that uses this test to count the number of vowels in a word\n",
    "- We will use the abstracted functions in our toplevel function that counts vowels in long words"
   ]
  },
  {
   "cell_type": "code",
   "execution_count": null,
   "metadata": {},
   "outputs": [],
   "source": [
    "def is_vowel (letter):\n",
    "    \"Test to check whether a letter (input of type str, output of type bool) is a vowel\"\n",
    "    return letter in \"aeiou\""
   ]
  },
  {
   "cell_type": "code",
   "execution_count": null,
   "metadata": {},
   "outputs": [],
   "source": [
    "is_vowel(\"a\")"
   ]
  },
  {
   "cell_type": "code",
   "execution_count": null,
   "metadata": {},
   "outputs": [],
   "source": [
    "def vowel_count (word):\n",
    "    \"Count the number of vowels in a word (input of type str, output of type int)\"\n",
    "    vowelcount = 0\n",
    "    for letter in word:\n",
    "        if is_vowel(letter):\n",
    "            vowelcount+= 1\n",
    "    return vowelcount"
   ]
  },
  {
   "cell_type": "code",
   "execution_count": null,
   "metadata": {},
   "outputs": [],
   "source": [
    "vowel_count(\"abracadabra\")"
   ]
  },
  {
   "cell_type": "code",
   "execution_count": null,
   "metadata": {},
   "outputs": [],
   "source": [
    "# For each word in a list, check whether it is longer than 5 letters and if so, count the number of vowels\n",
    "\n",
    "def long_words_vowelcount (word_list, minimal_length=5):\n",
    "    \"Input a list of words and return a list of pairs of words longer \\\n",
    "    than 'minimal_length' with their number of vowels\"\n",
    "    result = []\n",
    "    for word in word_list:\n",
    "        if len(word) > minimal_length:\n",
    "            result.append([word, vowel_count(word)])\n",
    "    return result"
   ]
  },
  {
   "cell_type": "code",
   "execution_count": null,
   "metadata": {},
   "outputs": [],
   "source": [
    "long_words_vowelcount(words)"
   ]
  },
  {
   "cell_type": "code",
   "execution_count": null,
   "metadata": {},
   "outputs": [],
   "source": [
    "long_words_vowelcount(words, 7)"
   ]
  },
  {
   "cell_type": "markdown",
   "metadata": {},
   "source": [
    "Finally a word on function stacking. We can apply a function to the output of another function which was applied to the output of ... So we get a structure like this: f1(f2(f3(x))) with an arbitrary number of functions. Because of its compactness and convenience you will see this used a lot in AI and NLP. "
   ]
  },
  {
   "cell_type": "code",
   "execution_count": null,
   "metadata": {},
   "outputs": [],
   "source": [
    "# Take a string as input, convert it to a list of word tokens, find the length of each token and and return \n",
    "# the length of the longest word\n",
    "\n",
    "max(\n",
    "    map(\n",
    "        len, \n",
    "        (\"the mirror and the light\".split())))"
   ]
  },
  {
   "cell_type": "markdown",
   "metadata": {},
   "source": [
    "## Modules"
   ]
  },
  {
   "cell_type": "markdown",
   "metadata": {},
   "source": [
    "Some Python functions, objects, and methods are available when you start up Python (e.g. `len`), others are available in modules that should be explicitly loaded into the Python system using `import`. The reason for this is efficiency, frequently needed stuff is always available, less frequently needed stuff only if needed by importing it.  A case in point is the `random` module that contains among others the `randint` function which generates random integers. Of course, you should know which modules have which functions and what their names are, but this is something you will gradually learn. Let's try the `random` module."
   ]
  },
  {
   "cell_type": "code",
   "execution_count": null,
   "metadata": {},
   "outputs": [],
   "source": [
    "import random"
   ]
  },
  {
   "cell_type": "code",
   "execution_count": null,
   "metadata": {},
   "outputs": [],
   "source": [
    "# help(random) # (lots of info)"
   ]
  },
  {
   "cell_type": "code",
   "execution_count": null,
   "metadata": {},
   "outputs": [],
   "source": [
    "help(random.randint)"
   ]
  },
  {
   "cell_type": "code",
   "execution_count": null,
   "metadata": {},
   "outputs": [],
   "source": [
    "random.randint(0, 10) # notice we have to specify the name of the module as well as the function name"
   ]
  },
  {
   "cell_type": "markdown",
   "metadata": {},
   "source": [
    "Another way to import from a module is to specify explicitly which functions you need with `from` ... `import`. In that case you can just use the function name without having to specify the module name,"
   ]
  },
  {
   "cell_type": "code",
   "execution_count": null,
   "metadata": {},
   "outputs": [],
   "source": [
    "from random import randint"
   ]
  },
  {
   "cell_type": "code",
   "execution_count": null,
   "metadata": {},
   "outputs": [],
   "source": [
    "randint(0,1000)  # no need to specify the module name now"
   ]
  },
  {
   "cell_type": "markdown",
   "metadata": {},
   "source": [
    "Yet another way to import is to provide an alias: `import` ... `as` ...  In that case the alias can be used instead of the module name."
   ]
  },
  {
   "cell_type": "code",
   "execution_count": null,
   "metadata": {},
   "outputs": [],
   "source": [
    "import random as r # use the alias name to refer to the module\n",
    "\n",
    "r.randint(0, 10)"
   ]
  },
  {
   "cell_type": "markdown",
   "metadata": {},
   "source": [
    "You can write your own modules as well, we will return to this later."
   ]
  }
 ],
 "metadata": {
  "kernelspec": {
   "display_name": "Python 3",
   "language": "python",
   "name": "python3"
  },
  "language_info": {
   "codemirror_mode": {
    "name": "ipython",
    "version": 3
   },
   "file_extension": ".py",
   "mimetype": "text/x-python",
   "name": "python",
   "nbconvert_exporter": "python",
   "pygments_lexer": "ipython3",
   "version": "3.7.4"
  }
 },
 "nbformat": 4,
 "nbformat_minor": 4
}
