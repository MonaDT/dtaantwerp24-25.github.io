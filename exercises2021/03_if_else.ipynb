{
 "cells": [
  {
   "cell_type": "markdown",
   "metadata": {},
   "source": [
    "# Exercises on if-else\n",
    "\n",
    "This is 3 exercises on the if-else structure.\n",
    "\n",
    "Use this [notebook](https://github.com/dtaantwerp/dtaantwerp.github.io/blob/master/notebooks2021/4_Week1_Wednesday_Control_structures__if_else.ipynb) for a complete explanation of the topic."
   ]
  },
  {
   "cell_type": "markdown",
   "metadata": {},
   "source": [
    "# 1.Logical Expressions\n",
    "Assuming that : "
   ]
  },
  {
   "cell_type": "code",
   "execution_count": null,
   "metadata": {},
   "outputs": [],
   "source": [
    "x = 5 # the number 5 is assigned the variable 'x'"
   ]
  },
  {
   "cell_type": "markdown",
   "metadata": {},
   "source": [
    "Evaluate the following logical expressions. **You don't need to code**. Just see if they are `True` or `False` as a logical expression. Then run the cell to see if you have been right! (One of them is 'syntactically' wrong.) "
   ]
  },
  {
   "cell_type": "code",
   "execution_count": null,
   "metadata": {},
   "outputs": [],
   "source": [
    "x >= 5"
   ]
  },
  {
   "cell_type": "code",
   "execution_count": null,
   "metadata": {},
   "outputs": [],
   "source": [
    "x <= 5"
   ]
  },
  {
   "cell_type": "code",
   "execution_count": null,
   "metadata": {},
   "outputs": [],
   "source": [
    "x =< 5"
   ]
  },
  {
   "cell_type": "code",
   "execution_count": null,
   "metadata": {},
   "outputs": [],
   "source": [
    "x == 5.0"
   ]
  },
  {
   "cell_type": "code",
   "execution_count": null,
   "metadata": {},
   "outputs": [],
   "source": [
    "x == '5'"
   ]
  },
  {
   "cell_type": "code",
   "execution_count": null,
   "metadata": {},
   "outputs": [],
   "source": [
    "x == [5][0]"
   ]
  },
  {
   "cell_type": "code",
   "execution_count": null,
   "metadata": {},
   "outputs": [],
   "source": [
    "x != 6"
   ]
  },
  {
   "cell_type": "code",
   "execution_count": null,
   "metadata": {},
   "outputs": [],
   "source": [
    "not (x == 6)"
   ]
  },
  {
   "cell_type": "code",
   "execution_count": null,
   "metadata": {},
   "outputs": [],
   "source": [
    "x > 2 and x < 7"
   ]
  },
  {
   "cell_type": "code",
   "execution_count": null,
   "metadata": {},
   "outputs": [],
   "source": [
    "x > 2 or x < 7"
   ]
  },
  {
   "cell_type": "code",
   "execution_count": null,
   "metadata": {},
   "outputs": [],
   "source": [
    "x > 6 or x < 7"
   ]
  },
  {
   "cell_type": "code",
   "execution_count": null,
   "metadata": {},
   "outputs": [],
   "source": [
    "x > 6 and x < 7"
   ]
  },
  {
   "cell_type": "code",
   "execution_count": null,
   "metadata": {},
   "outputs": [],
   "source": [
    "not (x > 6  and  x < 7)"
   ]
  },
  {
   "cell_type": "code",
   "execution_count": null,
   "metadata": {},
   "outputs": [],
   "source": [
    "not (x > 6)  and  x < 7 "
   ]
  },
  {
   "cell_type": "code",
   "execution_count": null,
   "metadata": {},
   "outputs": [],
   "source": [
    "x == 4  or  x == 5  or  x == 6 "
   ]
  },
  {
   "cell_type": "code",
   "execution_count": null,
   "metadata": {},
   "outputs": [],
   "source": [
    "x in [4, 5, 6] "
   ]
  },
  {
   "cell_type": "markdown",
   "metadata": {},
   "source": [
    "# 2. Those white spaces\n",
    "As you probably have heard, Python cares about white spaces as a way to indicate blocks of code (e.g. in loops, control structures, functions, ...). To see this in action, try to guess if running these code snippets generate an error. Then run them and see if you were right. In any case, if there was an error, read the message. They're (usually) understandable and helpful! "
   ]
  },
  {
   "cell_type": "code",
   "execution_count": 10,
   "metadata": {},
   "outputs": [],
   "source": [
    "x = 1 \n",
    "y = 8"
   ]
  },
  {
   "cell_type": "code",
   "execution_count": null,
   "metadata": {},
   "outputs": [],
   "source": [
    "if y > x \n",
    "    print('Y is bigger than X.')"
   ]
  },
  {
   "cell_type": "code",
   "execution_count": null,
   "metadata": {},
   "outputs": [],
   "source": [
    "if y > x :\n",
    "print('Y is bigger than X.')"
   ]
  },
  {
   "cell_type": "code",
   "execution_count": null,
   "metadata": {},
   "outputs": [],
   "source": [
    "if y > x :\n",
    " print('Y is bigger than X.')"
   ]
  },
  {
   "cell_type": "code",
   "execution_count": null,
   "metadata": {},
   "outputs": [],
   "source": [
    "if y > x :\n",
    "                        print('Y is bigger than X.')"
   ]
  },
  {
   "cell_type": "code",
   "execution_count": null,
   "metadata": {},
   "outputs": [],
   "source": [
    "if y > x :\n",
    "    print('Y is bigger than X.')\n",
    "else:\n",
    "            print('Y is smaller than or equal to X.')   "
   ]
  },
  {
   "cell_type": "code",
   "execution_count": null,
   "metadata": {},
   "outputs": [],
   "source": [
    "if y > x : print('Y is bigger than X.')\n",
    "else : print('Y is smaller than or equal to X.') "
   ]
  },
  {
   "cell_type": "markdown",
   "metadata": {},
   "source": [
    "You can configure the way your editor makes indents and white spaces (using Tab or Space, and how many). This is totally up to you but it is probably good to know that there are two 'schools' about this: Tab school and Space school. If you have watched Silicon Valley, you probably remember this scene:\n",
    "\n",
    "[![Silicon Valley](https://img.youtube.com/vi/SsoOG6ZeyUI/0.jpg)](https://www.youtube.com/watch?v=SsoOG6ZeyUI)\n",
    "\n",
    "So both schools have pretty hardcore members with (often peculiar) arguments in defence of their choice. You can even find articles like [this](https://insanelab.com/blog/notes/spaces-vs-tabs/) but it is probably a bit early to worry about this. Just pick something and stick to it! "
   ]
  },
  {
   "cell_type": "markdown",
   "metadata": {},
   "source": [
    "# 3. How fit are you ? \n",
    "Body mass index (BMI) is defined as the body mass (in kilograms) divided by the square of the body height (in metres). So:\n",
    "\n",
    "${BMI} = \\frac{\\text{mass}_\\text{kg}}{{\\text{height}_\\text{m}}^2}$\n",
    "\n",
    "The BMI is a convenient rule of thumb used to broadly categorize a person as underweight, normal weight, overweight, or obese. There are charts and tables for it like this one:\n",
    "\n",
    "<img src=\"https://www.wlfa.org/wp-content/uploads/2021/05/BMI-1.jpg\" alt=\"BMI chart\" />\n",
    "\n",
    "Let's try to make an agent that calculates your BMI and gives the category you are (allegedly!) in."
   ]
  },
  {
   "cell_type": "markdown",
   "metadata": {},
   "source": [
    "### 1) Calculating BMI:\n",
    "Complete the code to calculate the BMI based on mass (or weight) (m) and height (h)."
   ]
  },
  {
   "cell_type": "code",
   "execution_count": null,
   "metadata": {},
   "outputs": [],
   "source": [
    "BMI = # your code here"
   ]
  },
  {
   "cell_type": "markdown",
   "metadata": {},
   "source": [
    "Now try it for the following values:"
   ]
  },
  {
   "cell_type": "code",
   "execution_count": null,
   "metadata": {},
   "outputs": [],
   "source": [
    "# mass in kilograms\n",
    "mass = 58 \n",
    "# height in meters\n",
    "height = 1.72\n",
    "\n",
    "BMI = # your code here\n",
    "\n",
    "print(\"Your BMI is: \", BMI)"
   ]
  },
  {
   "cell_type": "markdown",
   "metadata": {},
   "source": [
    "### 2) Categorizing the value:\n",
    "Complete the code using the diagram. Note that the diagram has a problem with boundaries, which you need to take care of! Otherwise you don't have a category for someone whose BMI is -say- 29.95, unless you round everything to one decimal place."
   ]
  },
  {
   "cell_type": "code",
   "execution_count": null,
   "metadata": {},
   "outputs": [],
   "source": [
    "if BMI < 18.5:\n",
    "    print(\"According to your BMI, you are Underweight!\")\n",
    "elif # your code here\n",
    "    print(\"According to your BMI, you have a Normal weight!\")\n",
    "elif # your code here\n",
    "# rest of your code\n"
   ]
  },
  {
   "cell_type": "markdown",
   "metadata": {},
   "source": [
    "### 3) Putting things together:\n",
    "Let's make it into a nice agent."
   ]
  },
  {
   "cell_type": "code",
   "execution_count": null,
   "metadata": {},
   "outputs": [],
   "source": [
    "mass = float(input('What is your mass/weight in kilograms? '))\n",
    "height = float(input('What is your height in meters? '))\n",
    "BMI = # your code here\n",
    "print(\"Your BMI is: \", BMI)\n",
    "\n",
    "if BMI < 18.5:\n",
    "    print(\"According to your BMI, you are Underweight!\")\n",
    "elif \n",
    "# rest of your code"
   ]
  },
  {
   "cell_type": "markdown",
   "metadata": {},
   "source": [
    "### 4) Extra step:\n",
    "How many (explicit) logical conditions did you end up using in your `if` block? ( [something `and` something] counts as 2!)\n",
    "\n",
    "Can you do that with fewer? Can you do that with 4 (explicit) logical conditions? (Hint: think about the way/order in which conditions are checked in the block: the code goes on to check the second condition ONLY IF the first one was not met, and so on.) "
   ]
  },
  {
   "cell_type": "markdown",
   "metadata": {},
   "source": []
  }
 ],
 "metadata": {
  "interpreter": {
   "hash": "5db9622ea32ad59ad8958f78283f4771a508012702d3a535a15489e1434ecdc6"
  },
  "kernelspec": {
   "display_name": "Python 3 (ipykernel)",
   "language": "python",
   "name": "python3"
  },
  "language_info": {
   "codemirror_mode": {
    "name": "ipython",
    "version": 3
   },
   "file_extension": ".py",
   "mimetype": "text/x-python",
   "name": "python",
   "nbconvert_exporter": "python",
   "pygments_lexer": "ipython3",
   "version": "3.8.10"
  }
 },
 "nbformat": 4,
 "nbformat_minor": 4
}
