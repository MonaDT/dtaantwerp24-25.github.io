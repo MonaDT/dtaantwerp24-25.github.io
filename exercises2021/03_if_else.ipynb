{
 "cells": [
  {
   "cell_type": "markdown",
   "source": [
    "# Exercises on python & Variables\n",
    "\n",
    "This is 8 short exercises on variables.\n",
    "\n",
    "Use this [notebook](https://github.com/dtaantwerp/dtaantwerp.github.io/blob/master/notebooks2021/1_Week1_Monday_Python_and_Variables.ipynb) for a complete explanation of Python and variables."
   ],
   "metadata": {}
  },
  {
   "cell_type": "markdown",
   "source": [
    "# Logical Expressions\n",
    "Assuming that : "
   ],
   "metadata": {}
  },
  {
   "cell_type": "code",
   "execution_count": null,
   "source": [
    "x = 5"
   ],
   "outputs": [],
   "metadata": {}
  },
  {
   "cell_type": "markdown",
   "source": [
    "Evaluate the following logical expressions. Then run the cell to see if you have been right!"
   ],
   "metadata": {}
  },
  {
   "cell_type": "code",
   "execution_count": null,
   "source": [
    "x >= 5"
   ],
   "outputs": [],
   "metadata": {}
  },
  {
   "cell_type": "code",
   "execution_count": null,
   "source": [
    "x <= 5"
   ],
   "outputs": [],
   "metadata": {}
  },
  {
   "cell_type": "code",
   "execution_count": null,
   "source": [
    "x =< 5"
   ],
   "outputs": [],
   "metadata": {}
  },
  {
   "cell_type": "code",
   "execution_count": null,
   "source": [
    "x == 5.0"
   ],
   "outputs": [],
   "metadata": {}
  },
  {
   "cell_type": "code",
   "execution_count": null,
   "source": [
    "x == '5'"
   ],
   "outputs": [],
   "metadata": {}
  },
  {
   "cell_type": "code",
   "execution_count": null,
   "source": [
    "x == [5][0]"
   ],
   "outputs": [],
   "metadata": {}
  },
  {
   "cell_type": "code",
   "execution_count": null,
   "source": [
    "x != 6"
   ],
   "outputs": [],
   "metadata": {}
  },
  {
   "cell_type": "code",
   "execution_count": null,
   "source": [
    "not (x == 6)"
   ],
   "outputs": [],
   "metadata": {}
  },
  {
   "cell_type": "code",
   "execution_count": null,
   "source": [
    "x > 2 and x < 7"
   ],
   "outputs": [],
   "metadata": {}
  },
  {
   "cell_type": "code",
   "execution_count": null,
   "source": [
    "x > 2 or x < 7"
   ],
   "outputs": [],
   "metadata": {}
  },
  {
   "cell_type": "code",
   "execution_count": null,
   "source": [
    "x > 6 or x < 7"
   ],
   "outputs": [],
   "metadata": {}
  },
  {
   "cell_type": "code",
   "execution_count": null,
   "source": [
    "x > 6 and x < 7"
   ],
   "outputs": [],
   "metadata": {}
  },
  {
   "cell_type": "code",
   "execution_count": null,
   "source": [
    "not (x > 6  and  x < 7)"
   ],
   "outputs": [],
   "metadata": {}
  },
  {
   "cell_type": "code",
   "execution_count": null,
   "source": [
    "not (x > 6)  and  x < 7"
   ],
   "outputs": [],
   "metadata": {}
  },
  {
   "cell_type": "code",
   "execution_count": null,
   "source": [
    "x == 4  or  x == 5  or  x == 6"
   ],
   "outputs": [],
   "metadata": {}
  },
  {
   "cell_type": "code",
   "execution_count": null,
   "source": [
    "x in [4, 5, 6]"
   ],
   "outputs": [],
   "metadata": {}
  },
  {
   "cell_type": "code",
   "execution_count": null,
   "source": [
    "x in range(2,7)"
   ],
   "outputs": [],
   "metadata": {}
  },
  {
   "cell_type": "markdown",
   "source": [
    "# 2. How fit are you ? \n",
    "Body mass index (BMI) is defined as the body mass (in kilograms) divided by the square of the body height (in metres). So:\n",
    "\n",
    "${BMI} = \\frac{\\text{mass}_\\text{kg}}{{\\text{height}_\\text{m}}^2}$\n",
    "\n",
    "The BMI is a convenient rule of thumb used to broadly categorize a person as underweight, normal weight, overweight, or obese. There are charts and tables for it like this one:\n",
    "\n",
    "<img src=\"https://www.wlfa.org/wp-content/uploads/2021/05/BMI-1.jpg\" alt=\"BMI chart\" />\n",
    "\n",
    "Let's try to make an agent that calculates your BMI and gives the category you are (allegedly!) in."
   ],
   "metadata": {}
  },
  {
   "cell_type": "markdown",
   "source": [
    "### 1) Calculating BMI:\n",
    "Complete the code to calculate the BMI based on mass (or weight) (m) and height (h)."
   ],
   "metadata": {}
  },
  {
   "cell_type": "code",
   "execution_count": null,
   "source": [
    "BMI = "
   ],
   "outputs": [],
   "metadata": {}
  },
  {
   "cell_type": "markdown",
   "source": [
    "Now try it for the following values:"
   ],
   "metadata": {}
  },
  {
   "cell_type": "code",
   "execution_count": null,
   "source": [
    "# mass in kilograms\n",
    "m = 58 \n",
    "# height in meters\n",
    "h = 1.72\n",
    "\n",
    "BMI = \n",
    "\n",
    "print(\"Your BMI is: \", BMI)"
   ],
   "outputs": [],
   "metadata": {}
  },
  {
   "cell_type": "markdown",
   "source": [
    "### 2) Categorizing the value:\n",
    "Complete the code using the diagram."
   ],
   "metadata": {}
  },
  {
   "cell_type": "code",
   "execution_count": null,
   "source": [
    "if BMI < 18.5:\n",
    "    print(\"According to your BMI, you are Underweight!\")\n",
    "elif ...\n",
    "    print(\"According to your BMI, you are Normal!\")\n",
    "elif ...\n",
    ".\n",
    ".\n",
    ".\n"
   ],
   "outputs": [],
   "metadata": {}
  },
  {
   "cell_type": "markdown",
   "source": [
    "How many logical conditions did you end up using in your `if` block? ( [something `and` something] counts as 2!)\n",
    "\n",
    "Can you do that with fewer? (Hint: think of the way/order in which conditions are checked in the block.)"
   ],
   "metadata": {}
  },
  {
   "cell_type": "code",
   "execution_count": null,
   "source": [],
   "outputs": [],
   "metadata": {}
  }
 ],
 "metadata": {
  "kernelspec": {
   "name": "python3",
   "display_name": "Python 3.8.8 64-bit ('perl': conda)"
  },
  "language_info": {
   "codemirror_mode": {
    "name": "ipython",
    "version": 3
   },
   "file_extension": ".py",
   "mimetype": "text/x-python",
   "name": "python",
   "nbconvert_exporter": "python",
   "pygments_lexer": "ipython3",
   "version": "3.8.8"
  },
  "interpreter": {
   "hash": "5db9622ea32ad59ad8958f78283f4771a508012702d3a535a15489e1434ecdc6"
  }
 },
 "nbformat": 4,
 "nbformat_minor": 4
}