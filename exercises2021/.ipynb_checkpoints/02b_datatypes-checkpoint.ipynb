{
 "cells": [
  {
   "cell_type": "markdown",
   "metadata": {},
   "source": [
    "# Exercises on Lists, Sets, Dictionaries\n",
    "\n",
    "Use this [notebook](https://github.com/dtaantwerp/dtaantwerp.github.io/blob/master/notebooks2021/3_Week1_Wednesday_Data_Types__Lists__Dictionaries.ipynb) for a complete explanation of Lists, Sets and Dictionaries."
   ]
  },
  {
   "cell_type": "markdown",
   "metadata": {},
   "source": [
    "## 2. Collections"
   ]
  },
  {
   "cell_type": "markdown",
   "metadata": {},
   "source": [
    "### Lists & sets"
   ]
  },
  {
   "cell_type": "markdown",
   "metadata": {},
   "source": [
    "Source of recipes: https://easyfamilyrecipes.com"
   ]
  },
  {
   "cell_type": "code",
   "execution_count": 1,
   "metadata": {},
   "outputs": [],
   "source": [
    "lasagna = [\n",
    "    'chicken breast', \n",
    "    'italian seasoning', \n",
    "    'garlic powder',\n",
    "    'marinara sauce',\n",
    "    'grated parmesan cheese',\n",
    "    'mozzarella cheese',\n",
    "    'ricotta cheese',\n",
    "    'eggs',\n",
    "    'parsley',\n",
    "    'salt',\n",
    "    'black pepper']"
   ]
  },
  {
   "cell_type": "code",
   "execution_count": 2,
   "metadata": {},
   "outputs": [],
   "source": [
    "roasted_veggies = [\n",
    "    'red onion',\n",
    "    'red bell pepper',\n",
    "    'broccoli',\n",
    "    'yellow squash',\n",
    "    'zucchini squash',\n",
    "    'garlic',\n",
    "    'olive oil',\n",
    "    'garlic powder',\n",
    "    'salt',\n",
    "    'black pepper']"
   ]
  },
  {
   "cell_type": "code",
   "execution_count": 3,
   "metadata": {},
   "outputs": [],
   "source": [
    "chicken_fajitas = [\n",
    "    'chicken breast',\n",
    "    'fajita seasoning',\n",
    "    'vegetable oil',\n",
    "    'lime',\n",
    "    'green bell pepper',\n",
    "    'red bell pepper',\n",
    "    'yellow onion',\n",
    "    'butter',\n",
    "    'garlic']"
   ]
  },
  {
   "cell_type": "markdown",
   "metadata": {},
   "source": [
    "##### 2.1 Modify list of ingredients\n",
    "\n",
    "To-do:  \n",
    "1. Add 'white pepper' to lasagna ingredients\n",
    "2. Remove 'black pepper' from lasagna ingredients\n",
    "3. Obtain index on 'vegetable oil' in chicken_fajitas;\n",
    "4. Replace 'vegetable oil' in chicken_fajitas list with 'olive oil';\n",
    "5. Sort chicken_fajitas list in alphabetical order;\n",
    "6. Print every third ingredient of chicken_fajitas list;\n",
    "7. Reverse list chicken_fajitas;\n",
    "8. Create a list of all recipes; a recipe is a list of its ingredients;\n",
    "9. Print the first five ingredients of the first recipe in recipes."
   ]
  },
  {
   "cell_type": "code",
   "execution_count": 1,
   "metadata": {},
   "outputs": [],
   "source": [
    "# Your code for 1. here:\n"
   ]
  },
  {
   "cell_type": "code",
   "execution_count": 2,
   "metadata": {},
   "outputs": [],
   "source": [
    "# Your code for 2. here:\n"
   ]
  },
  {
   "cell_type": "code",
   "execution_count": 3,
   "metadata": {},
   "outputs": [],
   "source": [
    "# Your code for 3. here:\n"
   ]
  },
  {
   "cell_type": "code",
   "execution_count": 4,
   "metadata": {},
   "outputs": [],
   "source": [
    "# Your code for 4. here:\n"
   ]
  },
  {
   "cell_type": "code",
   "execution_count": 5,
   "metadata": {},
   "outputs": [],
   "source": [
    "# Your code for 5. here:\n"
   ]
  },
  {
   "cell_type": "code",
   "execution_count": 6,
   "metadata": {},
   "outputs": [],
   "source": [
    "# Your code for 6. here:\n"
   ]
  },
  {
   "cell_type": "code",
   "execution_count": 7,
   "metadata": {},
   "outputs": [],
   "source": [
    "# Your code for 7. here:\n"
   ]
  },
  {
   "cell_type": "code",
   "execution_count": 8,
   "metadata": {},
   "outputs": [],
   "source": [
    "# Your code for 8. here:\n"
   ]
  },
  {
   "cell_type": "code",
   "execution_count": 9,
   "metadata": {},
   "outputs": [],
   "source": [
    "# Your code for 9. here:\n"
   ]
  },
  {
   "cell_type": "markdown",
   "metadata": {},
   "source": [
    "##### 2.2 Implement a script that creates a shopping list. \n",
    " Create a shopping list from the list of ingredients for recipes.\n",
    "\n",
    "Input variables: ingredients for dishes: list;   \n",
    "Output variable: shopping list: list;    \n",
    "The list should consist only of unique ingredients, sorted in alphabetical order.\n",
    "\n",
    "To-do:  \n",
    "1. Combine all ingredients into one list;\n",
    "2. Obtain unique items;\n",
    "3. Sort list of ingredients alphabetically from A-Z;\n",
    "4. Print shopping list."
   ]
  },
  {
   "cell_type": "code",
   "execution_count": 11,
   "metadata": {},
   "outputs": [],
   "source": [
    "# Your code here:\n",
    "\n",
    "\n",
    "\n"
   ]
  },
  {
   "cell_type": "markdown",
   "metadata": {},
   "source": [
    "##### 2.3 Remove from the shopping list products that you already have at home and add beverages. \n",
    "Input variables: 1. shopping_list: list, 2. products: list, 3. beverages: list  \n",
    "Output variable: 4. shopping_list: list  \n",
    "The shopping list should be sorted in alphabetical order.\n",
    "\n",
    "To-do:  \n",
    "1. Remove products_in_house from shopping_list. Hint: use set operation difference;\n",
    "2. Add beverages to the shopping list;\n",
    "3. Sort list of ingredients alphabetically from A-Z;\n",
    "4. Print shopping list."
   ]
  },
  {
   "cell_type": "code",
   "execution_count": 15,
   "metadata": {},
   "outputs": [],
   "source": [
    "# Your code for 1. here:\n"
   ]
  },
  {
   "cell_type": "code",
   "execution_count": 16,
   "metadata": {},
   "outputs": [],
   "source": [
    "# Your code for 2. here:\n"
   ]
  },
  {
   "cell_type": "code",
   "execution_count": 13,
   "metadata": {},
   "outputs": [],
   "source": [
    "# Your code for 3. here:\n"
   ]
  },
  {
   "cell_type": "code",
   "execution_count": 14,
   "metadata": {},
   "outputs": [],
   "source": [
    "# Your code for 4. here:\n"
   ]
  },
  {
   "cell_type": "markdown",
   "metadata": {},
   "source": [
    "### Dictionaries"
   ]
  },
  {
   "cell_type": "markdown",
   "metadata": {},
   "source": [
    "##### 2.3 Create a record for a person\n",
    "Input variables: 1. UID (Unique person id): str, 2. First_name: str, 3. Last_name: str, 4. Year of birth: int;\n",
    "Output variable: rec_1: dict that contains all input variables.\n",
    "\n",
    "To-do:\n",
    "1. Create all input variables;\n",
    "2. Create a record for a person that allows accessing specific personal data (ex. name, age, etc.);\n",
    "3. Print person record;\n",
    "4. Check whether the 'cell_phone' field is in the record;\n",
    "5. Print the name of the fields that are stored in the record;\n",
    "6. Print the value of all the fields in the record."
   ]
  },
  {
   "cell_type": "code",
   "execution_count": 15,
   "metadata": {},
   "outputs": [],
   "source": [
    "# Your code here:\n",
    "\n",
    "\n",
    "\n",
    "\n"
   ]
  },
  {
   "cell_type": "markdown",
   "metadata": {},
   "source": [
    "##### 2.4 Create a database of person records\n",
    "Input variables: person records (dict) for three persons (similar to 2.3 task) \n",
    "Output variable: database: list;\n",
    "\n",
    "To-do:\n",
    "1. Create another record with similar information;\n",
    "2. Create an empty record for the third person and add the following information: uid, first_name, last_name, yob;\n",
    "2. Combine created records in a list;\n",
    "3. Print database - all the records;\n",
    "4. Print 'yob' of 3d person in the database;\n",
    "5. Update year of birth of John Galt to 1980;\n",
    "6. Add cell_number for John Galt - 00000000000 (str);\n",
    "7. Print John Galt's record."
   ]
  },
  {
   "cell_type": "code",
   "execution_count": 24,
   "metadata": {},
   "outputs": [],
   "source": [
    "# Your code for 1. here:\n"
   ]
  },
  {
   "cell_type": "code",
   "execution_count": 25,
   "metadata": {},
   "outputs": [],
   "source": [
    "# Your code for 2. here:\n"
   ]
  },
  {
   "cell_type": "code",
   "execution_count": 16,
   "metadata": {},
   "outputs": [],
   "source": [
    "# Your code for 3. here:\n"
   ]
  },
  {
   "cell_type": "code",
   "execution_count": 27,
   "metadata": {},
   "outputs": [],
   "source": [
    "# Your code for 4. here:\n"
   ]
  },
  {
   "cell_type": "code",
   "execution_count": 17,
   "metadata": {},
   "outputs": [],
   "source": [
    "# Your code for 5. here:\n"
   ]
  },
  {
   "cell_type": "code",
   "execution_count": 18,
   "metadata": {},
   "outputs": [],
   "source": [
    "# Your code for 6. here:\n"
   ]
  },
  {
   "cell_type": "code",
   "execution_count": 30,
   "metadata": {},
   "outputs": [],
   "source": [
    "# Your code for 7. here:\n"
   ]
  },
  {
   "cell_type": "code",
   "execution_count": 19,
   "metadata": {},
   "outputs": [],
   "source": [
    "# Your code for 8. here:\n"
   ]
  },
  {
   "cell_type": "markdown",
   "metadata": {},
   "source": [
    "## Extra"
   ]
  },
  {
   "cell_type": "markdown",
   "metadata": {},
   "source": [
    "- Consider the following strings `sentence1 = \"John and Lars kick the bucket\"` and `sentence2 = \"Bonny and Clyde are really famous\"`. Split these strings into words and create the following strings via list manipulation: `sentence3 = \"John and Lars are really famous\"` and `sentence4=\"Bonny+and+Clyde+kick+the+bucket\"`. Can you print the middle letter of the fourth sentence?"
   ]
  },
  {
   "cell_type": "code",
   "execution_count": 21,
   "metadata": {},
   "outputs": [],
   "source": [
    "# Your code for here:\n",
    "\n",
    "\n",
    "\n",
    "\n",
    "\n",
    "\n",
    "\n"
   ]
  },
  {
   "cell_type": "markdown",
   "metadata": {},
   "source": [
    "- Consider the `lookup` dictionary below. The following letters are still missing from it: 'k':'kilo', 'l':'lima', 'm':'mike'. Add them to `lookup`! Could you spell the word \"marvellous\" in code language now?"
   ]
  },
  {
   "cell_type": "code",
   "execution_count": 23,
   "metadata": {},
   "outputs": [],
   "source": [
    "lookup = {'a':'alfa', 'b':'bravo', 'c':'charlie', 'd':'delta',\n",
    "          'e':'echo', 'f':'foxtrot', 'g':'golf', 'h':'hotel',\n",
    "          'i':'india', 'j':'juliett', 'n':'november', 'o':'oscar',\n",
    "          'p':'papa', 'q':'quebec', 'r':'romeo', 's':'sierra',\n",
    "          't':'tango', 'u':'uniform', 'v':'victor', 'w':'whiskey',\n",
    "          'x':'x-ray', 'y':'yankee', 'z':'zulu'}"
   ]
  },
  {
   "cell_type": "code",
   "execution_count": 28,
   "metadata": {},
   "outputs": [],
   "source": [
    "# Your code here:\n",
    "\n",
    "\n",
    "\n"
   ]
  },
  {
   "cell_type": "markdown",
   "metadata": {},
   "source": [
    "- More fun:\n",
    "   + Collect the code terms in the lookup dict (`alpha`, `bravo`, ...) from the previous exercise into a list called `code_words`.\n",
    "   + Is this list alphabetically sorted? No? Then make sure that this list is sorted alphabetically. Now remove the items `victor`, `india` and `papa`.\n",
    "   + Append the words `pigeon` and `potato` at the end of this list. "
   ]
  },
  {
   "cell_type": "code",
   "execution_count": 29,
   "metadata": {},
   "outputs": [],
   "source": [
    "# Your code here:\n",
    "\n",
    "\n"
   ]
  },
  {
   "cell_type": "code",
   "execution_count": null,
   "metadata": {},
   "outputs": [],
   "source": [
    "- "
   ]
  }
 ],
 "metadata": {
  "kernelspec": {
   "display_name": "Python 3",
   "language": "python",
   "name": "python3"
  },
  "language_info": {
   "codemirror_mode": {
    "name": "ipython",
    "version": 3
   },
   "file_extension": ".py",
   "mimetype": "text/x-python",
   "name": "python",
   "nbconvert_exporter": "python",
   "pygments_lexer": "ipython3",
   "version": "3.7.4"
  }
 },
 "nbformat": 4,
 "nbformat_minor": 4
}
