{
 "cells": [
  {
   "cell_type": "markdown",
   "id": "liberal-degree",
   "metadata": {},
   "source": [
    "# Control structures: for, while, break, continue"
   ]
  },
  {
   "cell_type": "markdown",
   "id": "inner-texas",
   "metadata": {},
   "source": [
    "**Staff**: Jens Lemmens\n",
    "\n",
    "**Support material**: Class [notebook](https://github.com/dtaantwerp/dtaantwerp.github.io/blob/master/notebooks2021/6_Week1_Friday_Control_structures__Loops__for__while____.ipynb)"
   ]
  },
  {
   "cell_type": "markdown",
   "id": "gentle-essex",
   "metadata": {},
   "source": [
    "## 1. Numbers"
   ]
  },
  {
   "cell_type": "markdown",
   "id": "declared-quick",
   "metadata": {},
   "source": [
    "#### Exercise 1: Create a list of numbers from 0 to 100 using \"range()\""
   ]
  },
  {
   "cell_type": "code",
   "execution_count": 21,
   "id": "placed-merchandise",
   "metadata": {},
   "outputs": [],
   "source": [
    "x = list(range(0,101))"
   ]
  },
  {
   "cell_type": "markdown",
   "id": "catholic-delay",
   "metadata": {},
   "source": [
    "#### Exercise 2: Using a loop, print all numbers in the list created in exercise 1"
   ]
  },
  {
   "cell_type": "code",
   "execution_count": 2,
   "id": "moved-rogers",
   "metadata": {
    "scrolled": true
   },
   "outputs": [
    {
     "name": "stdout",
     "output_type": "stream",
     "text": [
      "0\n",
      "1\n",
      "2\n",
      "3\n",
      "4\n",
      "5\n",
      "6\n",
      "7\n",
      "8\n",
      "9\n",
      "10\n",
      "11\n",
      "12\n",
      "13\n",
      "14\n",
      "15\n",
      "16\n",
      "17\n",
      "18\n",
      "19\n",
      "20\n",
      "21\n",
      "22\n",
      "23\n",
      "24\n",
      "25\n",
      "26\n",
      "27\n",
      "28\n",
      "29\n",
      "30\n",
      "31\n",
      "32\n",
      "33\n",
      "34\n",
      "35\n",
      "36\n",
      "37\n",
      "38\n",
      "39\n",
      "40\n",
      "41\n",
      "42\n",
      "43\n",
      "44\n",
      "45\n",
      "46\n",
      "47\n",
      "48\n",
      "49\n",
      "50\n",
      "51\n",
      "52\n",
      "53\n",
      "54\n",
      "55\n",
      "56\n",
      "57\n",
      "58\n",
      "59\n",
      "60\n",
      "61\n",
      "62\n",
      "63\n",
      "64\n",
      "65\n",
      "66\n",
      "67\n",
      "68\n",
      "69\n",
      "70\n",
      "71\n",
      "72\n",
      "73\n",
      "74\n",
      "75\n",
      "76\n",
      "77\n",
      "78\n",
      "79\n",
      "80\n",
      "81\n",
      "82\n",
      "83\n",
      "84\n",
      "85\n",
      "86\n",
      "87\n",
      "88\n",
      "89\n",
      "90\n",
      "91\n",
      "92\n",
      "93\n",
      "94\n",
      "95\n",
      "96\n",
      "97\n",
      "98\n",
      "99\n",
      "100\n"
     ]
    }
   ],
   "source": [
    "for i in x:\n",
    "    print(i)"
   ]
  },
  {
   "cell_type": "markdown",
   "id": "great-jenny",
   "metadata": {},
   "source": [
    "#### Exercise 3: Print all the even numbers in the list from exercise 1"
   ]
  },
  {
   "cell_type": "code",
   "execution_count": 3,
   "id": "resident-essex",
   "metadata": {
    "scrolled": true
   },
   "outputs": [
    {
     "name": "stdout",
     "output_type": "stream",
     "text": [
      "0\n",
      "2\n",
      "4\n",
      "6\n",
      "8\n",
      "10\n",
      "12\n",
      "14\n",
      "16\n",
      "18\n",
      "20\n",
      "22\n",
      "24\n",
      "26\n",
      "28\n",
      "30\n",
      "32\n",
      "34\n",
      "36\n",
      "38\n",
      "40\n",
      "42\n",
      "44\n",
      "46\n",
      "48\n",
      "50\n",
      "52\n",
      "54\n",
      "56\n",
      "58\n",
      "60\n",
      "62\n",
      "64\n",
      "66\n",
      "68\n",
      "70\n",
      "72\n",
      "74\n",
      "76\n",
      "78\n",
      "80\n",
      "82\n",
      "84\n",
      "86\n",
      "88\n",
      "90\n",
      "92\n",
      "94\n",
      "96\n",
      "98\n",
      "100\n"
     ]
    }
   ],
   "source": [
    "for i in x:\n",
    "    if i % 2 == 0:\n",
    "        print(i)"
   ]
  },
  {
   "cell_type": "markdown",
   "id": "brutal-birmingham",
   "metadata": {},
   "source": [
    "#### Exercise 4: Print all numbers that are divisible by 2 and 5 in the list from exercise 1"
   ]
  },
  {
   "cell_type": "code",
   "execution_count": 4,
   "id": "bridal-calgary",
   "metadata": {
    "scrolled": true
   },
   "outputs": [
    {
     "name": "stdout",
     "output_type": "stream",
     "text": [
      "0\n",
      "10\n",
      "20\n",
      "30\n",
      "40\n",
      "50\n",
      "60\n",
      "70\n",
      "80\n",
      "90\n",
      "100\n"
     ]
    }
   ],
   "source": [
    "for i in x:\n",
    "    if i%2==0 and i%5==0:\n",
    "        print(i)"
   ]
  },
  {
   "cell_type": "markdown",
   "id": "surprised-silence",
   "metadata": {},
   "source": [
    "#### Exercise 5: Print all numbers smaller than 100 that are divisible by 7  in the list from exercise 1 (use a while-loop)"
   ]
  },
  {
   "cell_type": "code",
   "execution_count": 5,
   "id": "packed-killing",
   "metadata": {},
   "outputs": [
    {
     "name": "stdout",
     "output_type": "stream",
     "text": [
      "0\n",
      "7\n",
      "14\n",
      "21\n",
      "28\n",
      "35\n",
      "42\n",
      "49\n",
      "56\n",
      "63\n",
      "70\n",
      "77\n",
      "84\n",
      "91\n",
      "98\n"
     ]
    }
   ],
   "source": [
    "x = 0\n",
    "while x < 100:\n",
    "    if x%7 == 0:\n",
    "        print(x)\n",
    "    x += 1"
   ]
  },
  {
   "cell_type": "markdown",
   "id": "circular-wichita",
   "metadata": {},
   "source": [
    "#### Exercise 6: Print all numbers larger than 10, but smaller than 20 in the list from exercise 1"
   ]
  },
  {
   "cell_type": "code",
   "execution_count": 27,
   "id": "labeled-intelligence",
   "metadata": {},
   "outputs": [
    {
     "name": "stdout",
     "output_type": "stream",
     "text": [
      "11\n",
      "12\n",
      "13\n",
      "14\n",
      "15\n",
      "16\n",
      "17\n",
      "18\n",
      "19\n"
     ]
    }
   ],
   "source": [
    "for i in x:\n",
    "    if 10 < i < 20:\n",
    "        print(i)\n",
    "    if i >= 20:\n",
    "        break"
   ]
  },
  {
   "cell_type": "markdown",
   "id": "nuclear-hughes",
   "metadata": {},
   "source": [
    "#### Exercise 7: Print a sequence of Fibonacci numbers lower than 100. \n",
    "A Fibonnaci sequence is a series of numbers that equal the sum of the two previous numbers in the Fibonnaci sequence (e.g. if the sequence starts with 0 and 1, the next numbers in the sequence are 1 (0+1), 2 (1+1), 3 (2+1), 5 (3+2), 8 (5+3), etc.). To start, set two variables to 0 and 1, and then complete the sequence."
   ]
  },
  {
   "cell_type": "code",
   "execution_count": 6,
   "id": "brown-haiti",
   "metadata": {},
   "outputs": [
    {
     "name": "stdout",
     "output_type": "stream",
     "text": [
      "0\n",
      "1\n",
      "1\n",
      "2\n",
      "3\n",
      "5\n",
      "8\n",
      "13\n",
      "21\n",
      "34\n",
      "55\n",
      "89\n"
     ]
    }
   ],
   "source": [
    "second_to_last = 0\n",
    "last = 1\n",
    "\n",
    "print(second_to_last)\n",
    "print(last)\n",
    "\n",
    "while second_to_last+last < 100:\n",
    "    fibonacci = second_to_last + last\n",
    "    print(fibonacci)\n",
    "    second_to_last = fibonacci-second_to_last\n",
    "    last = fibonacci"
   ]
  },
  {
   "cell_type": "markdown",
   "id": "built-configuration",
   "metadata": {},
   "source": [
    "## 2. Words"
   ]
  },
  {
   "cell_type": "markdown",
   "id": "higher-mediterranean",
   "metadata": {},
   "source": [
    "#### Below you can find a toy corpus consisting of the opening lines of the first Harry Potter novel."
   ]
  },
  {
   "cell_type": "code",
   "execution_count": 7,
   "id": "sexual-national",
   "metadata": {},
   "outputs": [],
   "source": [
    "corpus = [\"\"\"Mr. and Mrs. Dursley, of number four, Privet Drive, were proud to say that they were perfectly normal, \n",
    "thank you very much.\"\"\", \"\"\"They were the last people you’d expect to be involved in anything strange or mysterious,\n",
    "because they just didn’t hold with such nonsense.\"\"\", \"\"\"Mr. Dursley was the director of a firm called Grunnings,\n",
    "which made drills.\"\"\", \"\"\"He was a big, beefy man with hardly any neck, although he did have a very large mustache.\"\"\",\n",
    "\"\"\"Mrs. Dursley was thin and blonde and had nearly twice the usual amount of neck, \n",
    "which came in very useful as she spent so much of hertime craning over garden fences, spying on the neighbors.\"\"\", \n",
    "\"\"\"The Dursleys had a small son called Dudley and in their opinion there was no finer boy anywhere.\"\"\"]"
   ]
  },
  {
   "cell_type": "markdown",
   "id": "macro-finger",
   "metadata": {},
   "source": [
    "#### Exercise 1: Count the number of capitalized letters in the entire corpus"
   ]
  },
  {
   "cell_type": "code",
   "execution_count": 8,
   "id": "suited-isolation",
   "metadata": {},
   "outputs": [
    {
     "name": "stdout",
     "output_type": "stream",
     "text": [
      "15\n"
     ]
    }
   ],
   "source": [
    "n_capital = 0\n",
    "for s in corpus:\n",
    "    for c in s:\n",
    "        if c.isupper():\n",
    "            n_capital +=1\n",
    "print(n_capital)"
   ]
  },
  {
   "cell_type": "markdown",
   "id": "electoral-trade",
   "metadata": {},
   "source": [
    "#### Exercise 2: Count all words in the corpus."
   ]
  },
  {
   "cell_type": "code",
   "execution_count": 9,
   "id": "surprising-italian",
   "metadata": {},
   "outputs": [
    {
     "name": "stdout",
     "output_type": "stream",
     "text": [
      "129\n"
     ]
    }
   ],
   "source": [
    "n_words = 0\n",
    "for s in corpus:\n",
    "    for t in s.split():\n",
    "        n_words +=1\n",
    "print(n_words)"
   ]
  },
  {
   "cell_type": "markdown",
   "id": "demographic-allah",
   "metadata": {},
   "source": [
    "#### Exercise 3: Count the number of occurrences of the tokens \"Mr.\", \"Mrs.\" and \"Dursley\" (pt. 1)\n",
    "Create three variables that will keep track of the number of occurences of the tokens"
   ]
  },
  {
   "cell_type": "code",
   "execution_count": 10,
   "id": "rural-passing",
   "metadata": {},
   "outputs": [
    {
     "name": "stdout",
     "output_type": "stream",
     "text": [
      "2\n",
      "2\n",
      "2\n"
     ]
    }
   ],
   "source": [
    "# This exercise should be done with regular expressions,\n",
    "# but you can use loops now just for the sake of practicing loops\n",
    "n_mr = 0\n",
    "n_mrs = 0\n",
    "n_dursley = 0\n",
    "\n",
    "for s in corpus:\n",
    "    for t in s.split():\n",
    "        if t == \"Mr.\":\n",
    "            n_mr += 1\n",
    "        elif t == \"Mrs.\":\n",
    "            n_mrs += 1\n",
    "        elif t == \"Dursley\":\n",
    "            n_dursley += 1\n",
    "            \n",
    "print(n_mr)\n",
    "print(n_mrs)\n",
    "print(n_dursley)"
   ]
  },
  {
   "cell_type": "markdown",
   "id": "conventional-tablet",
   "metadata": {},
   "source": [
    "#### Exercise 4: Count the number of occurrences of the tokens \"Mr.\", \"Mrs.\" and \"Dursley\" (pt. 2)\n",
    "Use a dictionary with the words as keys and the number of occurences as values"
   ]
  },
  {
   "cell_type": "code",
   "execution_count": 11,
   "id": "level-earthquake",
   "metadata": {},
   "outputs": [
    {
     "name": "stdout",
     "output_type": "stream",
     "text": [
      "{'Mr.': 2, 'Mrs.': 2, 'Dursley': 2}\n"
     ]
    }
   ],
   "source": [
    "counts = {\"Mr.\": 0, \"Mrs.\": 0, \"Dursley\": 0}\n",
    "\n",
    "for s in corpus:\n",
    "    for t in s.split():\n",
    "        if t == \"Mr.\":\n",
    "            counts[\"Mr.\"] += 1\n",
    "        elif t == \"Mrs.\":\n",
    "            counts[\"Mrs.\"] += 1\n",
    "        elif t == \"Dursley\":\n",
    "            counts[\"Dursley\"] += 1\n",
    "            \n",
    "print(counts)"
   ]
  },
  {
   "cell_type": "markdown",
   "id": "shaped-county",
   "metadata": {},
   "source": [
    "#### Exercise 5: Print the average number of words per sentence"
   ]
  },
  {
   "cell_type": "code",
   "execution_count": 12,
   "id": "packed-flash",
   "metadata": {},
   "outputs": [
    {
     "name": "stdout",
     "output_type": "stream",
     "text": [
      "21.5\n"
     ]
    }
   ],
   "source": [
    "n_words = 0\n",
    "n_sentences = 0\n",
    "for s in corpus:\n",
    "    n_sentences += 1\n",
    "    for t in s.split():\n",
    "        n_words += 1\n",
    "print(n_words/n_sentences)"
   ]
  },
  {
   "cell_type": "markdown",
   "id": "professional-bangladesh",
   "metadata": {},
   "source": [
    "## 3. Cooking pancakes"
   ]
  },
  {
   "cell_type": "markdown",
   "id": "artistic-peninsula",
   "metadata": {},
   "source": [
    "#### Below you can find a shopping list for pancakes"
   ]
  },
  {
   "cell_type": "code",
   "execution_count": 13,
   "id": "urban-journalism",
   "metadata": {},
   "outputs": [],
   "source": [
    "shopping_list = ['flour', 'sugar', 'eggs', 'milk', 'butter', 'vanilla']"
   ]
  },
  {
   "cell_type": "markdown",
   "id": "stone-technician",
   "metadata": {},
   "source": [
    "#### Exercise 1: Print a shopping list\n",
    "- Loop over the items in the shopping list\n",
    "- Print all items\n",
    "- Use \"continue\" to skip the eggs; you still have eggs at home"
   ]
  },
  {
   "cell_type": "code",
   "execution_count": 14,
   "id": "cubic-account",
   "metadata": {},
   "outputs": [
    {
     "name": "stdout",
     "output_type": "stream",
     "text": [
      "flour\n",
      "sugar\n",
      "milk\n",
      "butter\n",
      "vanilla\n"
     ]
    }
   ],
   "source": [
    "for item in shopping_list:\n",
    "    if item == 'eggs':\n",
    "        continue\n",
    "    print(item)"
   ]
  },
  {
   "cell_type": "markdown",
   "id": "useful-finnish",
   "metadata": {},
   "source": [
    "#### Exercise 2: Time to cook! \n",
    "- Loop over the ingredients\n",
    "- Print \"Add {ingredient} to bowl\"\n",
    "- Skip the milk for now using \"continue\""
   ]
  },
  {
   "cell_type": "code",
   "execution_count": 15,
   "id": "black-debut",
   "metadata": {},
   "outputs": [
    {
     "name": "stdout",
     "output_type": "stream",
     "text": [
      "Add flour to bowl\n",
      "Add sugar to bowl\n",
      "Add eggs to bowl\n",
      "Add butter to bowl\n",
      "Add vanilla to bowl\n"
     ]
    }
   ],
   "source": [
    "for item in shopping_list:\n",
    "    if item == 'milk':\n",
    "        continue\n",
    "    print(f\"Add {item} to bowl\")"
   ]
  },
  {
   "cell_type": "markdown",
   "id": "little-audience",
   "metadata": {},
   "source": [
    "#### Exercise 3: Add the milk in steps of 100ml\n",
    "- First create a variable that says how much ml you added (starting with 0)\n",
    "- Initiate a loop that stops of you added 450ml of milk or more\n",
    "- Use the loop to add milk in steps of 100ml\n",
    "- At each step, test whether you used more than 450ml in total\n",
    "- Break the loop if this is the case and print \"You used too much milk!\""
   ]
  },
  {
   "cell_type": "code",
   "execution_count": 16,
   "id": "artistic-identity",
   "metadata": {},
   "outputs": [
    {
     "name": "stdout",
     "output_type": "stream",
     "text": [
      "You used too much milk!\n"
     ]
    }
   ],
   "source": [
    "milk_added = 0\n",
    "while milk_added <= 450:\n",
    "    milk_added += 100\n",
    "    if milk_added > 450:\n",
    "        print('You used too much milk!')"
   ]
  },
  {
   "cell_type": "code",
   "execution_count": null,
   "id": "extreme-diana",
   "metadata": {},
   "outputs": [],
   "source": []
  }
 ],
 "metadata": {
  "kernelspec": {
   "display_name": "Python 3 (ipykernel)",
   "language": "python",
   "name": "python3"
  },
  "language_info": {
   "codemirror_mode": {
    "name": "ipython",
    "version": 3
   },
   "file_extension": ".py",
   "mimetype": "text/x-python",
   "name": "python",
   "nbconvert_exporter": "python",
   "pygments_lexer": "ipython3",
   "version": "3.7.9"
  }
 },
 "nbformat": 4,
 "nbformat_minor": 5
}
