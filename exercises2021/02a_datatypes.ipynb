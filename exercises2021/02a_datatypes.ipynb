{
 "cells": [
  {
   "cell_type": "markdown",
   "metadata": {},
   "source": [
    "# Exercises on Data Types\n",
    "\n",
    "Use this [notebook](https://github.com/dtaantwerp/dtaantwerp.github.io/blob/master/notebooks2021/3_Week1_Wednesday_Data_Types__Lists__Dictionaries.ipynb) for a complete explanation of Data Types."
   ]
  },
  {
   "cell_type": "markdown",
   "metadata": {},
   "source": [
    "## 1. Basic data types"
   ]
  },
  {
   "cell_type": "markdown",
   "metadata": {},
   "source": [
    "### Basic data types: numbers"
   ]
  },
  {
   "cell_type": "markdown",
   "metadata": {},
   "source": [
    "##### 1.1 Convert temperature from Fahrenheit to Celsius\n",
    "\n",
    "Input variable: `c` (`float`);  \n",
    "Output variable: `f` (`float`);\n",
    "\n",
    "Use the following formula: $f = 9/5*c+32$"
   ]
  },
  {
   "cell_type": "code",
   "execution_count": 1,
   "metadata": {},
   "outputs": [],
   "source": [
    "c = 21.0"
   ]
  },
  {
   "cell_type": "code",
   "execution_count": 2,
   "metadata": {},
   "outputs": [
    {
     "data": {
      "text/plain": [
       "69.80000000000001"
      ]
     },
     "execution_count": 2,
     "metadata": {},
     "output_type": "execute_result"
    }
   ],
   "source": [
    "f = 9/5*c+32\n",
    "f"
   ]
  },
  {
   "cell_type": "markdown",
   "metadata": {},
   "source": [
    "##### 1.2 Find the nth root of a number\n",
    "Input variable: `n` (`number`) (`float`), `r` (`nth root`) (`int`)\n",
    "<br></br>\n",
    "Output variable: `v` (`value`) (`float`).\n",
    "\n",
    "Use the power operator to calculate the nth root. Pay attention to operator precedence."
   ]
  },
  {
   "cell_type": "code",
   "execution_count": 1,
   "metadata": {},
   "outputs": [],
   "source": [
    "n = 1024.0\n",
    "r = 2"
   ]
  },
  {
   "cell_type": "code",
   "execution_count": 2,
   "metadata": {},
   "outputs": [
    {
     "data": {
      "text/plain": [
       "32.0"
      ]
     },
     "execution_count": 2,
     "metadata": {},
     "output_type": "execute_result"
    }
   ],
   "source": [
    "v = n**(1/r)\n",
    "v"
   ]
  },
  {
   "cell_type": "code",
   "execution_count": 5,
   "metadata": {},
   "outputs": [],
   "source": [
    "n = 2460375.0\n",
    "r = 3"
   ]
  },
  {
   "cell_type": "code",
   "execution_count": 6,
   "metadata": {},
   "outputs": [
    {
     "data": {
      "text/plain": [
       "134.99999999999997"
      ]
     },
     "execution_count": 6,
     "metadata": {},
     "output_type": "execute_result"
    }
   ],
   "source": [
    "v = n**(1/float(r))\n",
    "v"
   ]
  },
  {
   "cell_type": "code",
   "execution_count": null,
   "metadata": {},
   "outputs": [],
   "source": []
  },
  {
   "cell_type": "markdown",
   "metadata": {},
   "source": [
    "##### 1.3a Calculate how many shipping boxes can fit in a shipping container\n",
    "\n",
    "Shipping container size: w = 2.43m, l = 6.06m, h = 2.59m  \n",
    "Box size: w = 33cm, l = 48cm , h = 32cm\n",
    "\n",
    "Input variables: 1. container_volume: float, 2. box_volume: float;  \n",
    "Output variable: 3. quantity: int\n",
    "\n",
    "To-do:\n",
    "1. Calculate container volume;\n",
    "2. Calculate box volume (convert cm to m);\n",
    "3. Calculate how many boxes can fit in one container."
   ]
  },
  {
   "cell_type": "code",
   "execution_count": 7,
   "metadata": {},
   "outputs": [
    {
     "data": {
      "text/plain": [
       "38.139821999999995"
      ]
     },
     "execution_count": 7,
     "metadata": {},
     "output_type": "execute_result"
    }
   ],
   "source": [
    "container_volume = 2.43*6.06*2.59\n",
    "container_volume"
   ]
  },
  {
   "cell_type": "code",
   "execution_count": 8,
   "metadata": {},
   "outputs": [
    {
     "data": {
      "text/plain": [
       "0.050688000000000004"
      ]
     },
     "execution_count": 8,
     "metadata": {},
     "output_type": "execute_result"
    }
   ],
   "source": [
    "box_volume = 0.33*0.48*0.32\n",
    "box_volume"
   ]
  },
  {
   "cell_type": "code",
   "execution_count": 9,
   "metadata": {},
   "outputs": [
    {
     "data": {
      "text/plain": [
       "752"
      ]
     },
     "execution_count": 9,
     "metadata": {},
     "output_type": "execute_result"
    }
   ],
   "source": [
    "quantity = int(container_volume // box_volume)\n",
    "quantity"
   ]
  },
  {
   "cell_type": "markdown",
   "metadata": {},
   "source": [
    "##### 1.3b Calculate how many smaller shipping boxes can fit in the remaining space of shipping container\n",
    "\n",
    "Small box size: w = 21.5cm, l = 24.5cm, h = 5cm\n",
    "\n",
    "To-do:\n",
    "1. Calculate the size of the remaining space in the shipping container (use data from 1.3a)\n",
    "2. Calculate how many small boxes can fit in the remaining space container."
   ]
  },
  {
   "cell_type": "code",
   "execution_count": 10,
   "metadata": {},
   "outputs": [
    {
     "data": {
      "text/plain": [
       "0.0026337500000000002"
      ]
     },
     "execution_count": 10,
     "metadata": {},
     "output_type": "execute_result"
    }
   ],
   "source": [
    "sbox_volume = 0.215*0.245*0.05\n",
    "sbox_volume"
   ]
  },
  {
   "cell_type": "code",
   "execution_count": 11,
   "metadata": {},
   "outputs": [
    {
     "data": {
      "text/plain": [
       "8"
      ]
     },
     "execution_count": 11,
     "metadata": {},
     "output_type": "execute_result"
    }
   ],
   "source": [
    "int((container_volume % box_volume) // sbox_volume)"
   ]
  },
  {
   "cell_type": "markdown",
   "metadata": {},
   "source": [
    "### Basic Data Types: Booleans"
   ]
  },
  {
   "cell_type": "markdown",
   "metadata": {},
   "source": [
    "##### 1.4 Implement Burglar alarm system trough Boolean logic. The alarm system consists of the following elements:\n",
    "1. Alarm switch: ON or OFF\n",
    "2. Door sensor: activated if a door is opened \n",
    "3. Noise sensor: activated if the noise level is higher than 70 dB\n",
    "\n",
    "An alarm system is activated if it is turned on and one of the sensors is activated.  \n",
    "\n",
    "Input variables: 1. alarm_state (`bool`); 2. door_sensor (`bool`); 3. noise_sensor (`bool`).  \n",
    "Output variable: 4. alarm_response (`bool`)."
   ]
  },
  {
   "cell_type": "code",
   "execution_count": 8,
   "metadata": {},
   "outputs": [],
   "source": [
    "# Scenario 1\n",
    "alarm_state = True\n",
    "door_sensor = True\n",
    "noise_sensor = 80"
   ]
  },
  {
   "cell_type": "code",
   "execution_count": 9,
   "metadata": {},
   "outputs": [
    {
     "data": {
      "text/plain": [
       "True"
      ]
     },
     "execution_count": 9,
     "metadata": {},
     "output_type": "execute_result"
    }
   ],
   "source": [
    "alarm_response = alarm_state and (door_sensor or noise_sensor > 70)\n",
    "alarm_response"
   ]
  },
  {
   "cell_type": "code",
   "execution_count": 10,
   "metadata": {},
   "outputs": [],
   "source": [
    "# Scenario 2\n",
    "alarm_state = False\n",
    "door_sensor = True\n",
    "noise_sensor = 80"
   ]
  },
  {
   "cell_type": "code",
   "execution_count": 11,
   "metadata": {},
   "outputs": [
    {
     "data": {
      "text/plain": [
       "False"
      ]
     },
     "execution_count": 11,
     "metadata": {},
     "output_type": "execute_result"
    }
   ],
   "source": [
    "alarm_response = False and (True or 80 > 70)\n",
    "alarm_response"
   ]
  },
  {
   "cell_type": "code",
   "execution_count": 14,
   "metadata": {},
   "outputs": [],
   "source": [
    "# Scenario 3\n",
    "alarm_state = False\n",
    "door_sensor = False\n",
    "noise_sensor = 0"
   ]
  },
  {
   "cell_type": "code",
   "execution_count": 15,
   "metadata": {},
   "outputs": [
    {
     "data": {
      "text/plain": [
       "False"
      ]
     },
     "execution_count": 15,
     "metadata": {},
     "output_type": "execute_result"
    }
   ],
   "source": [
    "alarm_response = alarm_state and (door_sensor or noise_sensor)\n",
    "alarm_response"
   ]
  },
  {
   "cell_type": "markdown",
   "metadata": {},
   "source": [
    "##### 1.5 Write script that checks whether it is possible to apply a mathematical operation to two variables\n",
    "\n",
    "Input variables: `a` & `b`, possible data types: `int`, `float`, `bool`, and `str`.  \n",
    "Output variable: `valid` (`bool`)."
   ]
  },
  {
   "cell_type": "code",
   "execution_count": 17,
   "metadata": {},
   "outputs": [],
   "source": [
    "# Scenario 1\n",
    "a = 1\n",
    "b = 1.1"
   ]
  },
  {
   "cell_type": "code",
   "execution_count": null,
   "metadata": {},
   "outputs": [
    {
     "data": {
      "text/plain": [
       "True"
      ]
     },
     "execution_count": 19,
     "metadata": {},
     "output_type": "execute_result"
    }
   ],
   "source": [
    "valid = ((isinstance(a, int) or isinstance(a, float) or isinstance(a, bool)) and (isinstance(b, int) \n",
    "         or isinstance(b, float) or isinstance(b, bool)))\n",
    "valid"
   ]
  },
  {
   "cell_type": "code",
   "execution_count": 20,
   "metadata": {},
   "outputs": [],
   "source": [
    "# Scenario 2\n",
    "a = 1\n",
    "b = False"
   ]
  },
  {
   "cell_type": "code",
   "execution_count": 26,
   "metadata": {},
   "outputs": [
    {
     "data": {
      "text/plain": [
       "False"
      ]
     },
     "execution_count": 26,
     "metadata": {},
     "output_type": "execute_result"
    }
   ],
   "source": [
    "valid = isinstance(a, int)\n",
    "valid = isinstance(a, float)\n",
    "valid = isinstance(a, bool)\n",
    "valid = isinstance(b, int) \n",
    "valid = isinstance(b, float)\n",
    "valid = isinstance(b, bool)\n",
    "\n",
    "valid"
   ]
  },
  {
   "cell_type": "code",
   "execution_count": 22,
   "metadata": {},
   "outputs": [],
   "source": [
    "# Scenario 3\n",
    "a = 1\n",
    "b = 'False'"
   ]
  },
  {
   "cell_type": "code",
   "execution_count": 23,
   "metadata": {},
   "outputs": [
    {
     "data": {
      "text/plain": [
       "False"
      ]
     },
     "execution_count": 23,
     "metadata": {},
     "output_type": "execute_result"
    }
   ],
   "source": [
    "valid = ((isinstance(a, int) or isinstance(a, float) or isinstance(a, bool)) and (isinstance(b, int) \n",
    "         or isinstance(b, float) or isinstance(b, bool)))\n",
    "valid"
   ]
  },
  {
   "cell_type": "markdown",
   "metadata": {},
   "source": [
    "### Basic Data Types: Strings"
   ]
  },
  {
   "cell_type": "markdown",
   "metadata": {},
   "source": [
    "##### 1.6 Implement a chatbot that takes as input a first and last name and which greets a customer\n",
    "Input variables: \n",
    "1. `first_name` (`str`) & \n",
    "2. `last_name` (`str`), \n",
    "3. `greeting_part_1` (`str`), \n",
    "4. `greeting_part_2` (`str`)   \n",
    "\n",
    "Output variable: \n",
    "5. `greeting` (`str`)\n",
    "\n",
    "The first and last names should be printed in capital letters and quotes. The second part of the greeting should be printed from a new line."
   ]
  },
  {
   "cell_type": "code",
   "execution_count": 24,
   "metadata": {},
   "outputs": [],
   "source": [
    "first_name = 'Dagny' \n",
    "last_name = 'Taggart'"
   ]
  },
  {
   "cell_type": "code",
   "execution_count": 25,
   "metadata": {},
   "outputs": [],
   "source": [
    "part_1 = 'Welcome to Python club'\n",
    "part_2 = 'We are happy to have you with us!'"
   ]
  },
  {
   "cell_type": "code",
   "execution_count": 26,
   "metadata": {},
   "outputs": [
    {
     "name": "stdout",
     "output_type": "stream",
     "text": [
      "Welcome to Python club, \"DAGNY TAGGART\". \n",
      "We are happy to have you with us!\n"
     ]
    }
   ],
   "source": [
    "name = '\"'+(first_name+' '+last_name).upper()+'\"'\n",
    "greeting = '{}, {}. \\n{}'.format(part_1, name, part_2)\n",
    "print(greeting)"
   ]
  },
  {
   "cell_type": "markdown",
   "metadata": {},
   "source": [
    "##### 1.7 Write a script that counts the relative frequency of any given character in a text. The count should not be case-sensitive. \n",
    "Input variable: 1. `character` (`str`)  \n",
    "Output variable: 2. `relative_frequency` (`float`)"
   ]
  },
  {
   "cell_type": "code",
   "execution_count": 27,
   "metadata": {},
   "outputs": [],
   "source": [
    "text = '''And for this reason, I said, money and honour have no attraction for them; good men do not wish to be openly demanding payment for governing and so to get the name of hirelings, nor by secretly helping themselves out of the public revenues to get the name of thieves. And not being ambitious they do not care about honour. Wherefore necessity must be laid upon them, and they must be induced to serve from the fear of punishment. And this, as I imagine, is the reason why the forwardness to take office, instead of waiting to be compelled, has been deemed dishonourable. Now the worst part of the punishment is that he who refuses to rule is liable to be ruled by one who is worse than himself. And the fear of this, as I conceive, induces the good to take office, not because they would, but because they cannot help --not under the idea that they are going to have any benefit or enjoyment themselves, but as a necessity, and because they are not able to commit the task of ruling to any one who is better than themselves, or indeed as good. For there is reason to think that if a city were composed entirely of good men, then to avoid office would be as much an object of contention as to obtain office is at present; then we should have plain proof that the true ruler is not meant by nature to regard his own interest, but that of his subjects; and every one who knew this would choose rather to receive a benefit from another than to have the trouble of conferring one. So far am I from agreeing with Thrasymachus that justice is the interest of the stronger. This latter question need not be further discussed at present; but when Thrasymachus says that the life of the unjust is more advantageous than that of the just, his new statement appears to me to be of a far more serious character. Which of us has spoken truly? And which sort of life, Glaucon, do you prefer?'''"
   ]
  },
  {
   "cell_type": "code",
   "execution_count": 28,
   "metadata": {},
   "outputs": [
    {
     "data": {
      "text/plain": [
       "0.0"
      ]
     },
     "execution_count": 28,
     "metadata": {},
     "output_type": "execute_result"
    }
   ],
   "source": [
    "char = 'z'\n",
    "relative_frequency = text.lower().count(char)/len(text)\n",
    "relative_frequency"
   ]
  },
  {
   "cell_type": "code",
   "execution_count": 29,
   "metadata": {},
   "outputs": [
    {
     "data": {
      "text/plain": [
       "0.05543710021321962"
      ]
     },
     "execution_count": 29,
     "metadata": {},
     "output_type": "execute_result"
    }
   ],
   "source": [
    "char = 'a'\n",
    "relative_frequency = text.lower().count(char) / len(text)\n",
    "relative_frequency"
   ]
  },
  {
   "cell_type": "markdown",
   "metadata": {},
   "source": [
    "## Extra"
   ]
  },
  {
   "cell_type": "markdown",
   "metadata": {},
   "source": [
    "- Write a program that assigns the result of `9.5 * 4.5 - 2.5 * 345.5 - 3.5` to a variable. Print this variable. Use round brackets to indicate 'operator precedence' and make sure that subtractions are performed before multiplications. When you convert the outcome to a string, how many characters does it count?"
   ]
  },
  {
   "cell_type": "code",
   "execution_count": 4,
   "metadata": {},
   "outputs": [
    {
     "name": "stdout",
     "output_type": "stream",
     "text": [
      "6498.0\n",
      "6\n"
     ]
    }
   ],
   "source": [
    "number = 9.5 * (4.5 - 2.5) * (345.5 - 3.5)\n",
    "print(number)\n",
    "str_number = str(number)\n",
    "print(len(str_number))"
   ]
  },
  {
   "cell_type": "markdown",
   "metadata": {},
   "source": [
    "- Define the variables `a=2`, b=`20007` and c=`5`. Using only the operations you learned about above, can you now print the following numbers: `2005`, `252525252`, `2510`, `-60025` and `2002507`?"
   ]
  },
  {
   "cell_type": "code",
   "execution_count": 5,
   "metadata": {},
   "outputs": [
    {
     "name": "stdout",
     "output_type": "stream",
     "text": [
      "2005\n",
      "252525252\n",
      "2510\n",
      "-60025\n",
      "2002507\n"
     ]
    }
   ],
   "source": [
    "a = 2\n",
    "b = 20007\n",
    "c = 5\n",
    "\n",
    "print(str(a)+str(b)[1:3]+str(c))\n",
    "print(((str(a)+str(c))*4)+str(a))\n",
    "print(str(a)+str(c)+str(a*c))\n",
    "print(b-b*4-2*a)\n",
    "print(str(b)[:3]+str(a)+str(c)+(str(b)[-2:]))"
   ]
  },
  {
   "cell_type": "markdown",
   "metadata": {},
   "source": [
    "- Define three variables names `var1`, `var2` and `var3`. Calculate the average of these variables and assign it to `average`. Print the result in a fancy manner. Add three comments to this piece of code using three different ways."
   ]
  },
  {
   "cell_type": "code",
   "execution_count": 6,
   "metadata": {},
   "outputs": [
    {
     "name": "stdout",
     "output_type": "stream",
     "text": [
      "The average is: 5.333333333333333\n"
     ]
    },
    {
     "data": {
      "text/plain": [
       "'Done!'"
      ]
     },
     "execution_count": 6,
     "metadata": {},
     "output_type": "execute_result"
    }
   ],
   "source": [
    "var1 = 3\n",
    "var2 = 6 # here, we define var2\n",
    "var3 = 7\n",
    "\"\"\"\n",
    "Now we are going to calculate\n",
    "the actual\n",
    "average:\n",
    "\"\"\"\n",
    "average = (var1+var2+var3)/3\n",
    "print(\"The average is: \"+str(average))\n",
    "'''Done!'''"
   ]
  },
  {
   "cell_type": "markdown",
   "metadata": {},
   "source": [
    "- Write a code block that classifies a given amount of money into smaller monetary units. Set the `amount` variable to 11.56. You code should outputs a report listing the monetary equivalent in dollars, quarters, dimes, nickels, and pennies. Your program should report the maximum number of dollars, then the number of quarters, dimes, nickels, and pennies, in this order, to result in the minimum number of coins. Here are the steps in developing the program:\n",
    "   * Convert the amount (11.56) into cents (1156).\n",
    "   * Divide the cents by 100 to find the number of dollars, but first subtract the rest using the **modulus** operator!\n",
    "   * Divide the remaining cents by 25 to find the number of quarters, but first subtract the rest using the modulus operator!\n",
    "   * Divide the remaining cents by 10 to find the number of dimes etc.\n",
    "   * Divide the remaining cents by 5 to find the number of nickels etc.\n",
    "   * The remaining cents are the pennies. Now display the result for your cashier!"
   ]
  },
  {
   "cell_type": "code",
   "execution_count": 7,
   "metadata": {},
   "outputs": [
    {
     "name": "stdout",
     "output_type": "stream",
     "text": [
      "Dollars: 11.0\n",
      "Quarters: 2.0\n",
      "Dimes: 0.0\n",
      "Nickels: 1.0\n",
      "Pennies: 1.0\n"
     ]
    }
   ],
   "source": [
    "dollars = 0.0\n",
    "quarters = 0.0\n",
    "dimes = 0.0\n",
    "nickels = 0.0\n",
    "pennies = 0.0\n",
    "\n",
    "amount = 11.56\n",
    "cents = 100*amount\n",
    "\n",
    "# dollars:\n",
    "cents_for_quarters_and_smaller = cents%100\n",
    "dollars = (cents-cents_for_quarters_and_smaller)/100\n",
    "\n",
    "# quarters:\n",
    "cents_for_dimes_and_smaller = cents_for_quarters_and_smaller%25\n",
    "quarters = (cents_for_quarters_and_smaller-cents_for_dimes_and_smaller)/25\n",
    "\n",
    "# dimes: \n",
    "cents_for_nickels_and_smaller = cents_for_dimes_and_smaller%10\n",
    "dimes = (cents_for_dimes_and_smaller-cents_for_nickels_and_smaller)/10\n",
    "\n",
    "# nickels (and pennies):\n",
    "pennies = cents_for_dimes_and_smaller%5\n",
    "nickels = (cents_for_dimes_and_smaller-pennies)/5\n",
    "\n",
    "\n",
    "print(\"Dollars: \"+str(dollars))\n",
    "print(\"Quarters: \"+str(quarters))\n",
    "print(\"Dimes: \"+str(dimes))\n",
    "print(\"Nickels: \"+str(nickels))\n",
    "print(\"Pennies: \"+str(pennies))\n"
   ]
  }
 ],
 "metadata": {
  "kernelspec": {
   "display_name": "Python 3 (ipykernel)",
   "language": "python",
   "name": "python3"
  },
  "language_info": {
   "codemirror_mode": {
    "name": "ipython",
    "version": 3
   },
   "file_extension": ".py",
   "mimetype": "text/x-python",
   "name": "python",
   "nbconvert_exporter": "python",
   "pygments_lexer": "ipython3",
   "version": "3.8.12"
  }
 },
 "nbformat": 4,
 "nbformat_minor": 4
}
