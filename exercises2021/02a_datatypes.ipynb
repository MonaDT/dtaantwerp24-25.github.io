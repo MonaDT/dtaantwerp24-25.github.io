{
 "cells": [
  {
   "cell_type": "markdown",
   "metadata": {},
   "source": [
    "# Exercises on Data Types\n",
    "\n",
    "Use this [notebook](https://github.com/dtaantwerp/dtaantwerp.github.io/blob/master/notebooks2021/3_Week1_Wednesday_Data_Types__Lists__Dictionaries.ipynb) for a complete explanation of Data Types."
   ]
  },
  {
   "cell_type": "markdown",
   "metadata": {},
   "source": [
    "## 1. Basic data types"
   ]
  },
  {
   "cell_type": "markdown",
   "metadata": {},
   "source": [
    "### Basic data types: numbers"
   ]
  },
  {
   "cell_type": "markdown",
   "metadata": {},
   "source": [
    "##### 1.1 Convert temperature from Fahrenheit to Celsius\n",
    "\n",
    "Input variable: c: float;  \n",
    "Output variable: f: float;\n",
    "\n",
    "Use the following formula: F = 9/5*C+32"
   ]
  },
  {
   "cell_type": "code",
   "execution_count": 1,
   "metadata": {},
   "outputs": [],
   "source": [
    "c = 21.0"
   ]
  },
  {
   "cell_type": "code",
   "execution_count": 2,
   "metadata": {},
   "outputs": [
    {
     "data": {
      "text/plain": [
       "69.80000000000001"
      ]
     },
     "execution_count": 2,
     "metadata": {},
     "output_type": "execute_result"
    }
   ],
   "source": [
    "f = 9/5*c+32\n",
    "f"
   ]
  },
  {
   "cell_type": "markdown",
   "metadata": {},
   "source": [
    "##### 1.2 Find nth root of number\n",
    "Input variable: n (number): flaot, r (nth root): int;  \n",
    "Output variable: v (value): float.\n",
    "\n",
    "Use power operator to calculate nth root. Pay attention to operators' precedence."
   ]
  },
  {
   "cell_type": "code",
   "execution_count": 3,
   "metadata": {},
   "outputs": [],
   "source": [
    "n = 1024.0\n",
    "r = 2"
   ]
  },
  {
   "cell_type": "code",
   "execution_count": 4,
   "metadata": {},
   "outputs": [
    {
     "data": {
      "text/plain": [
       "32.0"
      ]
     },
     "execution_count": 4,
     "metadata": {},
     "output_type": "execute_result"
    }
   ],
   "source": [
    "v = n**(1/r)\n",
    "v"
   ]
  },
  {
   "cell_type": "code",
   "execution_count": 5,
   "metadata": {},
   "outputs": [],
   "source": [
    "n = 2460375.0\n",
    "r = 3"
   ]
  },
  {
   "cell_type": "code",
   "execution_count": 6,
   "metadata": {},
   "outputs": [
    {
     "data": {
      "text/plain": [
       "134.99999999999997"
      ]
     },
     "execution_count": 6,
     "metadata": {},
     "output_type": "execute_result"
    }
   ],
   "source": [
    "v = n**(1/float(r))\n",
    "v"
   ]
  },
  {
   "cell_type": "markdown",
   "metadata": {},
   "source": [
    "##### 1.3a Calculate how many shipping boxes can fit in the shipping container\n",
    "\n",
    "Shipping container size: w = 2.43m, l = 6.06m, h = 2.59m  \n",
    "Box size: w = 33cm, l = 48cm , h = 32cm\n",
    "\n",
    "Input variables: 1. container_volume: float, 2. box_volume: float;  \n",
    "Output variable: 3. quantity: int/\n",
    "\n",
    "To-do:\n",
    "1. Calculate container volume;\n",
    "2. Calcualte box volume (convert cm to m);\n",
    "3. Calculate how many boxes can fit in one container."
   ]
  },
  {
   "cell_type": "code",
   "execution_count": 7,
   "metadata": {},
   "outputs": [
    {
     "data": {
      "text/plain": [
       "38.139821999999995"
      ]
     },
     "execution_count": 7,
     "metadata": {},
     "output_type": "execute_result"
    }
   ],
   "source": [
    "container_volume = 2.43*6.06*2.59\n",
    "container_volume"
   ]
  },
  {
   "cell_type": "code",
   "execution_count": 8,
   "metadata": {},
   "outputs": [
    {
     "data": {
      "text/plain": [
       "0.050688000000000004"
      ]
     },
     "execution_count": 8,
     "metadata": {},
     "output_type": "execute_result"
    }
   ],
   "source": [
    "box_volume = 0.33*0.48*0.32\n",
    "box_volume"
   ]
  },
  {
   "cell_type": "code",
   "execution_count": 9,
   "metadata": {},
   "outputs": [
    {
     "data": {
      "text/plain": [
       "752"
      ]
     },
     "execution_count": 9,
     "metadata": {},
     "output_type": "execute_result"
    }
   ],
   "source": [
    "quantity = int(container_volume // box_volume)\n",
    "quantity"
   ]
  },
  {
   "cell_type": "markdown",
   "metadata": {},
   "source": [
    "##### 1.3b Calculate how many smaller shipping boxes can fit in the remaining space of shipping container\n",
    "Small box size: w = 21.5cm, l = 24.5cm, h = 5cm\n",
    "\n",
    "To-do:\n",
    "1. Calculate the size of the remaining space in the shipping container (use data from 1.3a)\n",
    "2. Calculate how many small boxes can fit in the remaining space container."
   ]
  },
  {
   "cell_type": "code",
   "execution_count": 10,
   "metadata": {},
   "outputs": [
    {
     "data": {
      "text/plain": [
       "0.0026337500000000002"
      ]
     },
     "execution_count": 10,
     "metadata": {},
     "output_type": "execute_result"
    }
   ],
   "source": [
    "sbox_volume = 0.215*0.245*0.05\n",
    "sbox_volume"
   ]
  },
  {
   "cell_type": "code",
   "execution_count": 11,
   "metadata": {},
   "outputs": [
    {
     "data": {
      "text/plain": [
       "8"
      ]
     },
     "execution_count": 11,
     "metadata": {},
     "output_type": "execute_result"
    }
   ],
   "source": [
    "int((container_volume % box_volume) // sbox_volume)"
   ]
  },
  {
   "cell_type": "markdown",
   "metadata": {},
   "source": [
    "### Basic Data Types: Booleans"
   ]
  },
  {
   "cell_type": "markdown",
   "metadata": {},
   "source": [
    "##### 1.4 Implement Burglar alarm system trough Boolean logic. The alarm system consists of the following elements:\n",
    "1. Alarm switch: ON or OFF\n",
    "2. Door sensor: activated if a door is opened \n",
    "3. Noise sensor: activated if the noise level is higher than 70 dB\n",
    "\n",
    "An alarm system is activated if it is turned on and one of the sensors is activated.  \n",
    "Input variables: 1. alarm_state: bool; 2. door_sensor: bool; 3. noise_sensor: bool.  \n",
    "Output variable: 4. alarm_response: bool."
   ]
  },
  {
   "cell_type": "code",
   "execution_count": 12,
   "metadata": {},
   "outputs": [],
   "source": [
    "# Scenario 1\n",
    "alarm_state = True\n",
    "door_sensor = True\n",
    "noise_sensor = 80"
   ]
  },
  {
   "cell_type": "code",
   "execution_count": 13,
   "metadata": {},
   "outputs": [
    {
     "data": {
      "text/plain": [
       "True"
      ]
     },
     "execution_count": 13,
     "metadata": {},
     "output_type": "execute_result"
    }
   ],
   "source": [
    "alarm_response = alarm_state and (door_sensor or noise_sensor > 70)\n",
    "alarm_response"
   ]
  },
  {
   "cell_type": "code",
   "execution_count": 14,
   "metadata": {},
   "outputs": [],
   "source": [
    "# Scenario 2\n",
    "alarm_state = False\n",
    "door_sensor = True\n",
    "noise_sensor = 80"
   ]
  },
  {
   "cell_type": "code",
   "execution_count": 15,
   "metadata": {},
   "outputs": [
    {
     "data": {
      "text/plain": [
       "False"
      ]
     },
     "execution_count": 15,
     "metadata": {},
     "output_type": "execute_result"
    }
   ],
   "source": [
    "alarm_response = alarm_state and (door_sensor or noise_sensor > 70)\n",
    "alarm_response"
   ]
  },
  {
   "cell_type": "code",
   "execution_count": 16,
   "metadata": {},
   "outputs": [],
   "source": [
    "# Scenario 3\n",
    "alarm_state = True\n",
    "door_sensor = True\n",
    "noise_sensor = 40"
   ]
  },
  {
   "cell_type": "code",
   "execution_count": 17,
   "metadata": {},
   "outputs": [
    {
     "data": {
      "text/plain": [
       "True"
      ]
     },
     "execution_count": 17,
     "metadata": {},
     "output_type": "execute_result"
    }
   ],
   "source": [
    "alarm_response = alarm_state and (door_sensor or noise_sensor)\n",
    "alarm_response"
   ]
  },
  {
   "cell_type": "markdown",
   "metadata": {},
   "source": [
    "##### 1.5 Implement the script that validates whether it is possible to apply a mathematical operation on two variables\n",
    "Input variables: a & b, possible data types: int, float, bool, and str.  \n",
    "Output variable: valid: bool."
   ]
  },
  {
   "cell_type": "code",
   "execution_count": 18,
   "metadata": {},
   "outputs": [],
   "source": [
    "# Scenario 1\n",
    "a = 1\n",
    "b = 1.1"
   ]
  },
  {
   "cell_type": "code",
   "execution_count": 19,
   "metadata": {},
   "outputs": [
    {
     "data": {
      "text/plain": [
       "True"
      ]
     },
     "execution_count": 19,
     "metadata": {},
     "output_type": "execute_result"
    }
   ],
   "source": [
    "valid = ((isinstance(a, int) or isinstance(a, float) or isinstance(a, bool)) and (isinstance(b, int) \n",
    "         or isinstance(b, float) or isinstance(b, bool)))\n",
    "valid"
   ]
  },
  {
   "cell_type": "code",
   "execution_count": 20,
   "metadata": {},
   "outputs": [],
   "source": [
    "# Scenario 2\n",
    "a = 1\n",
    "b = False"
   ]
  },
  {
   "cell_type": "code",
   "execution_count": 21,
   "metadata": {},
   "outputs": [
    {
     "data": {
      "text/plain": [
       "True"
      ]
     },
     "execution_count": 21,
     "metadata": {},
     "output_type": "execute_result"
    }
   ],
   "source": [
    "valid = ((isinstance(a, int) or isinstance(a, float) or isinstance(a, bool)) and (isinstance(b, int) \n",
    "         or isinstance(b, float) or isinstance(b, bool)))\n",
    "valid"
   ]
  },
  {
   "cell_type": "code",
   "execution_count": 22,
   "metadata": {},
   "outputs": [],
   "source": [
    "# Scenario 3\n",
    "a = 1\n",
    "b = 'False'"
   ]
  },
  {
   "cell_type": "code",
   "execution_count": 23,
   "metadata": {},
   "outputs": [
    {
     "data": {
      "text/plain": [
       "False"
      ]
     },
     "execution_count": 23,
     "metadata": {},
     "output_type": "execute_result"
    }
   ],
   "source": [
    "valid = ((isinstance(a, int) or isinstance(a, float) or isinstance(a, bool)) and (isinstance(b, int) \n",
    "         or isinstance(b, float) or isinstance(b, bool)))\n",
    "valid"
   ]
  },
  {
   "cell_type": "markdown",
   "metadata": {},
   "source": [
    "### Basic Data Types: Strings"
   ]
  },
  {
   "cell_type": "markdown",
   "metadata": {},
   "source": [
    "##### 1.6 Implement chatbot that takes as input first and last name and greets customer\n",
    "Input variables: 1. first_name: str & 2. last_name: str, 3. greeting_part_1: str, 4. greeting_part_2: str   \n",
    "Output variable: 5. greeting: str  \n",
    "\n",
    "The first and last names should be printed in capital letters and quotes. The second part of the greeting should be printed from a new line."
   ]
  },
  {
   "cell_type": "code",
   "execution_count": 24,
   "metadata": {},
   "outputs": [],
   "source": [
    "first_name = 'Dagny' \n",
    "last_name = 'Taggart'"
   ]
  },
  {
   "cell_type": "code",
   "execution_count": 25,
   "metadata": {},
   "outputs": [],
   "source": [
    "part_1 = 'Welcome to Python club'\n",
    "part_2 = 'We are happy to have you with us!'"
   ]
  },
  {
   "cell_type": "code",
   "execution_count": 26,
   "metadata": {},
   "outputs": [
    {
     "name": "stdout",
     "output_type": "stream",
     "text": [
      "Welcome to Python club, \"DAGNY TAGGART\". \n",
      "We are happy to have you with us!\n"
     ]
    }
   ],
   "source": [
    "name = '\"'+(first_name+' '+last_name).upper()+'\"'\n",
    "greeting = '{}, {}. \\n{}'.format(part_1, name, part_2)\n",
    "print(greeting)"
   ]
  },
  {
   "cell_type": "markdown",
   "metadata": {},
   "source": [
    "##### 1.7 Implement a script that counts the relative frequency of any given character in a text. The count should not be case-sensitive. \n",
    "Input variable: 1. character: str  \n",
    "Output variable: 2. relative_frequency: float"
   ]
  },
  {
   "cell_type": "code",
   "execution_count": 27,
   "metadata": {},
   "outputs": [],
   "source": [
    "text = '''And for this reason, I said, money and honour have no attraction for them; good men do not wish to be openly demanding payment for governing and so to get the name of hirelings, nor by secretly helping themselves out of the public revenues to get the name of thieves. And not being ambitious they do not care about honour. Wherefore necessity must be laid upon them, and they must be induced to serve from the fear of punishment. And this, as I imagine, is the reason why the forwardness to take office, instead of waiting to be compelled, has been deemed dishonourable. Now the worst part of the punishment is that he who refuses to rule is liable to be ruled by one who is worse than himself. And the fear of this, as I conceive, induces the good to take office, not because they would, but because they cannot help --not under the idea that they are going to have any benefit or enjoyment themselves, but as a necessity, and because they are not able to commit the task of ruling to any one who is better than themselves, or indeed as good. For there is reason to think that if a city were composed entirely of good men, then to avoid office would be as much an object of contention as to obtain office is at present; then we should have plain proof that the true ruler is not meant by nature to regard his own interest, but that of his subjects; and every one who knew this would choose rather to receive a benefit from another than to have the trouble of conferring one. So far am I from agreeing with Thrasymachus that justice is the interest of the stronger. This latter question need not be further discussed at present; but when Thrasymachus says that the life of the unjust is more advantageous than that of the just, his new statement appears to me to be of a far more serious character. Which of us has spoken truly? And which sort of life, Glaucon, do you prefer?'''"
   ]
  },
  {
   "cell_type": "code",
   "execution_count": 28,
   "metadata": {},
   "outputs": [
    {
     "data": {
      "text/plain": [
       "0.0"
      ]
     },
     "execution_count": 28,
     "metadata": {},
     "output_type": "execute_result"
    }
   ],
   "source": [
    "char = 'z'\n",
    "relative_frequency = text.lower().count(char)/len(text)\n",
    "relative_frequency"
   ]
  },
  {
   "cell_type": "code",
   "execution_count": 29,
   "metadata": {},
   "outputs": [
    {
     "data": {
      "text/plain": [
       "0.05543710021321962"
      ]
     },
     "execution_count": 29,
     "metadata": {},
     "output_type": "execute_result"
    }
   ],
   "source": [
    "char = 'a'\n",
    "relative_frequency = text.lower().count(char)/len(text)\n",
    "relative_frequency"
   ]
  }
 ],
 "metadata": {
  "kernelspec": {
   "display_name": "Python 3",
   "language": "python",
   "name": "python3"
  },
  "language_info": {
   "codemirror_mode": {
    "name": "ipython",
    "version": 3
   },
   "file_extension": ".py",
   "mimetype": "text/x-python",
   "name": "python",
   "nbconvert_exporter": "python",
   "pygments_lexer": "ipython3",
   "version": "3.8.0"
  }
 },
 "nbformat": 4,
 "nbformat_minor": 4
}
