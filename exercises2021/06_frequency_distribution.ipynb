{
 "cells": [
  {
   "cell_type": "markdown",
   "metadata": {},
   "source": [
    "# Exercises on Frequency Distribution\n",
    "\n",
    "Use this [notebook](https://github.com/dtaantwerp/dtaantwerp.github.io/blob/master/notebooks2021/7_Week1_Friday_Frequency_distribution_in_python__counting__text.ipynb) for a complete explanation of Frequency Distribution."
   ]
  },
  {
   "cell_type": "markdown",
   "metadata": {},
   "source": [
    "##### 1. Calculate the frequency of special characters in the text (without the help of Counter)\n",
    "\n",
    "Input variable: 1. text: str, 2. special_char: list  \n",
    "Output variable: 3. frequency: dict\n",
    "\n",
    "To-do:\n",
    "1. Initialize frequency dictionary;\n",
    "2. Iterate over special_char;\n",
    "3. Count the occurrence of each character in the text;\n",
    "4. Store count in the frequency variable;\n",
    "5. Print frequencies."
   ]
  },
  {
   "cell_type": "code",
   "execution_count": 1,
   "metadata": {},
   "outputs": [],
   "source": [
    "text = '''And for this reason, I said, money and honour have no attraction for them; good men do not wish to be openly demanding payment for governing and so to get the name of hirelings, nor by secretly helping themselves out of the public revenues to get the name of thieves. And not being ambitious they do not care about honour. Wherefore necessity must be laid upon them, and they must be induced to serve from the fear of punishment. And this, as I imagine, is the reason why the forwardness to take office, instead of waiting to be compelled, has been deemed dishonourable. Now the worst part of the punishment is that he who refuses to rule is liable to be ruled by one who is worse than himself. And the fear of this, as I conceive, induces the good to take office, not because they would, but because they cannot help --not under the idea that they are going to have any benefit or enjoyment themselves, but as a necessity, and because they are not able to commit the task of ruling to any one who is better than themselves, or indeed as good. For there is reason to think that if a city were composed entirely of good men, then to avoid office would be as much an object of contention as to obtain office is at present; then we should have plain proof that the true ruler is not meant by nature to regard his own interest, but that of his subjects; and every one who knew this would choose rather to receive a benefit from another than to have the trouble of conferring one. So far am I from agreeing with Thrasymachus that justice is the interest of the stronger. This latter question need not be further discussed at present; but when Thrasymachus says that the life of the unjust is more advantageous than that of the just, his new statement appears to me to be of a far more serious character. Which of us has spoken truly? And which sort of life, Glaucon, do you prefer?'''"
   ]
  },
  {
   "cell_type": "code",
   "execution_count": 2,
   "metadata": {},
   "outputs": [],
   "source": [
    "special_char = [chr(i) for i in range(33, 65, 1)]"
   ]
  },
  {
   "cell_type": "code",
   "execution_count": 3,
   "metadata": {},
   "outputs": [
    {
     "name": "stdout",
     "output_type": "stream",
     "text": [
      "['!', '\"', '#', '$', '%', '&', \"'\", '(', ')', '*', '+', ',', '-', '.', '/', '0', '1', '2', '3', '4', '5', '6', '7', '8', '9', ':', ';', '<', '=', '>', '?', '@']\n"
     ]
    }
   ],
   "source": [
    "print(special_char)"
   ]
  },
  {
   "cell_type": "code",
   "execution_count": 4,
   "metadata": {
    "scrolled": false
   },
   "outputs": [
    {
     "name": "stdout",
     "output_type": "stream",
     "text": [
      "{'!': 0, '\"': 0, '#': 0, '$': 0, '%': 0, '&': 0, \"'\": 0, '(': 0, ')': 0, '*': 0, '+': 0, ',': 20, '-': 2, '.': 9, '/': 0, '0': 0, '1': 0, '2': 0, '3': 0, '4': 0, '5': 0, '6': 0, '7': 0, '8': 0, '9': 0, ':': 0, ';': 4, '<': 0, '=': 0, '>': 0, '?': 2, '@': 0}\n"
     ]
    }
   ],
   "source": [
    "frequency = {}\n",
    "for ch in special_char:\n",
    "    frequency[ch] = text.count(ch)\n",
    "print(frequency)"
   ]
  },
  {
   "cell_type": "markdown",
   "metadata": {},
   "source": [
    "##### 2. Update script from 1.1 to exclude characters that do not occur in the text \n",
    "\n",
    "To-do: \n",
    "\n",
    "1. Add condition in the loop to exclude characters with count 0;\n",
    "2. Print frequency."
   ]
  },
  {
   "cell_type": "code",
   "execution_count": 5,
   "metadata": {},
   "outputs": [
    {
     "name": "stdout",
     "output_type": "stream",
     "text": [
      "{',': 20, '-': 2, '.': 9, ';': 4, '?': 2}\n"
     ]
    }
   ],
   "source": [
    "frequency = {}\n",
    "for ch in special_char:\n",
    "    ch_count = text.count(ch)\n",
    "    if ch_count > 0:\n",
    "        frequency[ch] = ch_count\n",
    "print(frequency)"
   ]
  },
  {
   "cell_type": "markdown",
   "metadata": {},
   "source": [
    "##### 3. Calculate the frequency of all characters in the text (without the help of Counter)\n",
    "\n",
    "Input variable: 1. text: str  \n",
    "Output variable: 2. frequency: dict\n",
    "\n",
    "To-do:\n",
    "1. Initialize frequency dictionary;\n",
    "2. Lower-case text;\n",
    "3. Obtain a list of unique characters (use a combination of list and set data types)\n",
    "4. Sort list;\n",
    "5. Iterate over a list of unique characters;\n",
    "6. Count the occurrence of each character in the text;\n",
    "7. Store count in the frequency variable;\n",
    "8. Print frequencies."
   ]
  },
  {
   "cell_type": "code",
   "execution_count": 6,
   "metadata": {
    "scrolled": true
   },
   "outputs": [
    {
     "name": "stdout",
     "output_type": "stream",
     "text": [
      "{' ': 350, ',': 20, '-': 2, '.': 9, ';': 4, '?': 2, 'a': 104, 'b': 33, 'c': 38, 'd': 46, 'e': 204, 'f': 50, 'g': 24, 'h': 95, 'i': 84, 'j': 6, 'k': 6, 'l': 33, 'm': 37, 'n': 110, 'o': 139, 'p': 19, 'q': 1, 'r': 82, 's': 98, 't': 161, 'u': 52, 'v': 16, 'w': 24, 'y': 27}\n"
     ]
    }
   ],
   "source": [
    "frequency = {}\n",
    "text_lower = text.lower()\n",
    "characters = list(text_lower)\n",
    "characters = set(characters)\n",
    "characters = sorted(characters)\n",
    "for ch in characters:\n",
    "    frequency[ch] = text_lower.count(ch)\n",
    "print(frequency)"
   ]
  },
  {
   "cell_type": "markdown",
   "metadata": {},
   "source": [
    "##### 4. Another way to calculate the frequency of all characters in the text (without using Counter)\n",
    "\n",
    "Input variable: 1. text: str  \n",
    "Output variable: 2. frequency: dict\n",
    "\n",
    "To-do:\n",
    "1. Initialize frequency dictionary;\n",
    "2. Lower-case text;\n",
    "3. Iterate over characters in text;\n",
    "4. Check whether a character is in a dictionary: update counts;\n",
    "5. Print frequencies."
   ]
  },
  {
   "cell_type": "code",
   "execution_count": 7,
   "metadata": {},
   "outputs": [
    {
     "name": "stdout",
     "output_type": "stream",
     "text": [
      "{'a': 104, 'n': 110, 'd': 46, ' ': 350, 'f': 50, 'o': 139, 'r': 82, 't': 161, 'h': 95, 'i': 84, 's': 98, 'e': 204, ',': 20, 'm': 37, 'y': 27, 'u': 52, 'v': 16, 'c': 38, ';': 4, 'g': 24, 'w': 24, 'b': 33, 'p': 19, 'l': 33, '.': 9, 'k': 6, '-': 2, 'j': 6, 'q': 1, '?': 2}\n"
     ]
    }
   ],
   "source": [
    "frequency = {}\n",
    "text_lower = text.lower()\n",
    "for ch in text_lower:\n",
    "    if ch in frequency:\n",
    "        frequency[ch]+=1 \n",
    "    else:\n",
    "        frequency[ch]=1 \n",
    "print(frequency)"
   ]
  },
  {
   "cell_type": "markdown",
   "metadata": {},
   "source": [
    "##### 5. Sort frequency dictionary from 4 task\n",
    "\n",
    "Sort by characters (smallest to largest)\n",
    "\n",
    "a. To-do:\n",
    "1. Obtain a list of characters from the frequency dictionary;\n",
    "2. Sort list of characters;\n",
    "3. Initialize new frequency dictionary (e.g. frequency_sorted);\n",
    "4. Iterate over list of characters;\n",
    "5. Retrieve frequency value for a character;\n",
    "6. Store value in sorted frequency dictionary;\n",
    "7. Print frequencies.\n",
    "\n",
    "Sort by count (largest to smallest)  \n",
    "\n",
    "b. To-do:\n",
    "1. Modify the previous script to sort by count\n",
    "2. To obtain a sorted list of characters by value, use the following script: characters = sorted(frequency, key=frequency.get, reverse = True)"
   ]
  },
  {
   "cell_type": "code",
   "execution_count": 8,
   "metadata": {},
   "outputs": [
    {
     "name": "stdout",
     "output_type": "stream",
     "text": [
      "{' ': 350, ',': 20, '-': 2, '.': 9, ';': 4, '?': 2, 'a': 104, 'b': 33, 'c': 38, 'd': 46, 'e': 204, 'f': 50, 'g': 24, 'h': 95, 'i': 84, 'j': 6, 'k': 6, 'l': 33, 'm': 37, 'n': 110, 'o': 139, 'p': 19, 'q': 1, 'r': 82, 's': 98, 't': 161, 'u': 52, 'v': 16, 'w': 24, 'y': 27}\n"
     ]
    }
   ],
   "source": [
    "characters = frequency.keys()\n",
    "characters = sorted(characters)\n",
    "frequency_sorted = {}\n",
    "for char in characters:\n",
    "    frequency_sorted[char] = frequency[char]\n",
    "print(frequency_sorted)"
   ]
  },
  {
   "cell_type": "code",
   "execution_count": 9,
   "metadata": {},
   "outputs": [
    {
     "name": "stdout",
     "output_type": "stream",
     "text": [
      "{' ': 350, 'e': 204, 't': 161, 'o': 139, 'n': 110, 'a': 104, 's': 98, 'h': 95, 'i': 84, 'r': 82, 'u': 52, 'f': 50, 'd': 46, 'c': 38, 'm': 37, 'b': 33, 'l': 33, 'y': 27, 'g': 24, 'w': 24, ',': 20, 'p': 19, 'v': 16, '.': 9, 'k': 6, 'j': 6, ';': 4, '-': 2, '?': 2, 'q': 1}\n"
     ]
    }
   ],
   "source": [
    "characters = sorted(frequency, key=frequency.get, reverse = True)\n",
    "frequency_sorted = {}\n",
    "for char in characters:\n",
    "    frequency_sorted[char] = frequency[char]\n",
    "print(frequency_sorted)"
   ]
  },
  {
   "cell_type": "markdown",
   "metadata": {},
   "source": [
    "##### 6. Calculate the frequency of all characters in the text (with the help of Counter)\n",
    "\n",
    "Input variable: 1. text: str  \n",
    "Output variable: 2. frequency: dict\n",
    "\n",
    "To-do:\n",
    "1. Import Counter form collections\n",
    "2. Initialize Counter object;\n",
    "3. Lower-case text;\n",
    "4. Update counts;\n",
    "5. Print top 10 frequencies."
   ]
  },
  {
   "cell_type": "code",
   "execution_count": 10,
   "metadata": {},
   "outputs": [],
   "source": [
    "from collections import Counter"
   ]
  },
  {
   "cell_type": "code",
   "execution_count": 11,
   "metadata": {},
   "outputs": [
    {
     "name": "stdout",
     "output_type": "stream",
     "text": [
      "[(' ', 350), ('e', 204), ('t', 161), ('o', 139), ('n', 110), ('a', 104), ('s', 98), ('h', 95), ('i', 84), ('r', 82)]\n"
     ]
    }
   ],
   "source": [
    "frequency = Counter()\n",
    "text_lower = text.lower()\n",
    "frequency.update(text_lower)\n",
    "print(frequency.most_common(10))"
   ]
  },
  {
   "cell_type": "markdown",
   "metadata": {},
   "source": [
    "##### 7. Convert frequency dictionary to relative frequency dictionary\n",
    "\n",
    "Input variable: 1. frequency: dict  \n",
    "Output variable: 2. relative_frequency: dict\n",
    "\n",
    "To-do:\n",
    "1. Make a copy of the frequency dictionary. Use copy() method; \n",
    "2. Calculate the number of all characters in the text;\n",
    "3. Iterate over the copy frequency dictionary to update a count to relative frequency;\n",
    "4. Print relative frequency."
   ]
  },
  {
   "cell_type": "code",
   "execution_count": 12,
   "metadata": {},
   "outputs": [
    {
     "name": "stdout",
     "output_type": "stream",
     "text": [
      "Counter({' ': 0.1865671641791045, 'e': 0.10874200426439233, 't': 0.08582089552238806, 'o': 0.07409381663113006, 'n': 0.05863539445628998, 'a': 0.05543710021321962, 's': 0.05223880597014925, 'h': 0.05063965884861407, 'i': 0.04477611940298507, 'r': 0.04371002132196162, 'u': 0.02771855010660981, 'f': 0.026652452025586353, 'd': 0.024520255863539446, 'c': 0.02025586353944563, 'm': 0.019722814498933903, 'b': 0.017590618336886993, 'l': 0.017590618336886993, 'y': 0.014392324093816631, 'g': 0.01279317697228145, 'w': 0.01279317697228145, ',': 0.010660980810234541, 'p': 0.010127931769722815, 'v': 0.008528784648187633, '.': 0.004797441364605544, 'k': 0.0031982942430703624, 'j': 0.0031982942430703624, ';': 0.0021321961620469083, '-': 0.0010660980810234541, '?': 0.0010660980810234541, 'q': 0.0005330490405117271})\n"
     ]
    }
   ],
   "source": [
    "relative_frequency = frequency.copy()\n",
    "size = len(text)\n",
    "for k in relative_frequency:\n",
    "    relative_frequency[k] /=size\n",
    "print(relative_frequency)"
   ]
  },
  {
   "cell_type": "markdown",
   "metadata": {},
   "source": [
    "##### 8. Remove from the frequency dictionary all non-alphabetical characters \n",
    "\n",
    "Input variable: 1. frequency: dict  \n",
    "Output variable: 2. alpha_frequency: dict\n",
    "\n",
    "To-do:\n",
    "1. Initialize alpha_frequency Counter object;\n",
    "2. Obtain a list of alphabetical characters; use the following script - alpha_char = [chr(i) for i in range(97, 123, 1)]\n",
    "3. Iterate over the list of alphabetical characters;\n",
    "4. Retrieve frequency value for a character;\n",
    "5. Store value in alpha_frequency dictionary;\n",
    "4. Print 10 least common characters."
   ]
  },
  {
   "cell_type": "code",
   "execution_count": 13,
   "metadata": {},
   "outputs": [
    {
     "name": "stdout",
     "output_type": "stream",
     "text": [
      "[('y', 27), ('g', 24), ('w', 24), ('p', 19), ('v', 16), ('j', 6), ('k', 6), ('q', 1), ('x', 0), ('z', 0)]\n"
     ]
    }
   ],
   "source": [
    "alpha_frequency = Counter()\n",
    "alpha_char = [chr(i) for i in range(97, 123, 1)]\n",
    "for ch in alpha_char:\n",
    "    alpha_frequency[ch] = frequency[ch]\n",
    "print(alpha_frequency.most_common()[-10:])"
   ]
  },
  {
   "cell_type": "code",
   "execution_count": null,
   "metadata": {},
   "outputs": [],
   "source": []
  }
 ],
 "metadata": {
  "kernelspec": {
   "display_name": "Python 3",
   "language": "python",
   "name": "python3"
  },
  "language_info": {
   "codemirror_mode": {
    "name": "ipython",
    "version": 3
   },
   "file_extension": ".py",
   "mimetype": "text/x-python",
   "name": "python",
   "nbconvert_exporter": "python",
   "pygments_lexer": "ipython3",
   "version": "3.6.10"
  }
 },
 "nbformat": 4,
 "nbformat_minor": 4
}
