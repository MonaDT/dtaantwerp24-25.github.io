{
 "cells": [
  {
   "cell_type": "markdown",
   "id": "christian-speech",
   "metadata": {},
   "source": [
    "# Regular expressions"
   ]
  },
  {
   "cell_type": "markdown",
   "id": "retained-driver",
   "metadata": {},
   "source": [
    "**Staff**: Jens Lemmens\n",
    "\n",
    "**Support material**:\n",
    "- Class [notebook](https://github.com/dtaantwerp/dtaantwerp.github.io/blob/master/notebooks2021/14_Week2_Friday_regular_expressions.ipynb)\n",
    "\n",
    "**More exercises**:\n",
    "- https://regexone.com/\n",
    "- https://www.kaggle.com/albeffe/regex-exercises-solutions"
   ]
  },
  {
   "cell_type": "markdown",
   "id": "purple-bradley",
   "metadata": {},
   "source": [
    "#### Before you start, import the \"re\" module"
   ]
  },
  {
   "cell_type": "code",
   "execution_count": 1,
   "id": "ongoing-clark",
   "metadata": {},
   "outputs": [],
   "source": [
    "import re"
   ]
  },
  {
   "cell_type": "markdown",
   "id": "applied-promise",
   "metadata": {},
   "source": [
    "#### Exercise 1: Use \"re.findall()\" to find all substrings in  \"My nr. 1 childhood song is 'Supercalifragilisticexpialidocious'!!!\" that match\n",
    "1. \"i\"\n",
    "2. \"song\"\n",
    "3. \"nr.\"\n",
    "4. \"a\" or \"o\"\n",
    "5. any vowel\n",
    "6. any character that is not a vowel\n",
    "7. any single-digit number (use \"[]\")\n",
    "8. any single-digit number (use a special character)\n",
    "9. any two-digit number\n",
    "10. any single lowercase alphabetical character\n",
    "11. any single uppercase alphabetical character\n",
    "12. any single upper- or lowercase alphabetical character (no numbers)\n",
    "13. any single alphanumerical character\n",
    "14. any single non-alphanumerical character\n",
    "15. any whitespace character\n",
    "16. any non-whitespace character\n",
    "17. any sequence consisting of at least one non-alphanumerical character\n",
    "18. any sequence consisting of one uppercase letter followed one or more lowercase letter(s)\n",
    "\n",
    "First assign a variable name to the string \"My nr. 1...\" so that you can refer to it more easily"
   ]
  },
  {
   "cell_type": "code",
   "execution_count": 2,
   "id": "cellular-phase",
   "metadata": {},
   "outputs": [],
   "source": [
    "string = \"My nr. 1 childhood song was 'Supercalifragilisticexpialidocious'!!!\""
   ]
  },
  {
   "cell_type": "code",
   "execution_count": 3,
   "id": "sublime-experience",
   "metadata": {},
   "outputs": [
    {
     "data": {
      "text/plain": [
       "['i', 'i', 'i', 'i', 'i', 'i', 'i', 'i']"
      ]
     },
     "execution_count": 3,
     "metadata": {},
     "output_type": "execute_result"
    }
   ],
   "source": [
    "#1\n",
    "re.findall('i', string)"
   ]
  },
  {
   "cell_type": "code",
   "execution_count": 4,
   "id": "ranging-halifax",
   "metadata": {},
   "outputs": [
    {
     "data": {
      "text/plain": [
       "['song']"
      ]
     },
     "execution_count": 4,
     "metadata": {},
     "output_type": "execute_result"
    }
   ],
   "source": [
    "#2\n",
    "re.findall('song', string)"
   ]
  },
  {
   "cell_type": "code",
   "execution_count": 5,
   "id": "wrapped-shell",
   "metadata": {},
   "outputs": [
    {
     "data": {
      "text/plain": [
       "['nr.']"
      ]
     },
     "execution_count": 5,
     "metadata": {},
     "output_type": "execute_result"
    }
   ],
   "source": [
    "#3\n",
    "re.findall('nr\\.', string)"
   ]
  },
  {
   "cell_type": "code",
   "execution_count": 6,
   "id": "lesbian-efficiency",
   "metadata": {},
   "outputs": [
    {
     "data": {
      "text/plain": [
       "['o', 'o', 'o', 'a', 'a', 'a', 'a', 'o', 'o']"
      ]
     },
     "execution_count": 6,
     "metadata": {},
     "output_type": "execute_result"
    }
   ],
   "source": [
    "#4\n",
    "re.findall('a|o', string)"
   ]
  },
  {
   "cell_type": "code",
   "execution_count": 7,
   "id": "effective-crossing",
   "metadata": {},
   "outputs": [
    {
     "data": {
      "text/plain": [
       "['i',\n",
       " 'o',\n",
       " 'o',\n",
       " 'o',\n",
       " 'a',\n",
       " 'u',\n",
       " 'e',\n",
       " 'a',\n",
       " 'i',\n",
       " 'a',\n",
       " 'i',\n",
       " 'i',\n",
       " 'i',\n",
       " 'e',\n",
       " 'i',\n",
       " 'a',\n",
       " 'i',\n",
       " 'o',\n",
       " 'i',\n",
       " 'o',\n",
       " 'u']"
      ]
     },
     "execution_count": 7,
     "metadata": {},
     "output_type": "execute_result"
    }
   ],
   "source": [
    "#5\n",
    "re.findall('[aeiou]', string)"
   ]
  },
  {
   "cell_type": "code",
   "execution_count": 8,
   "id": "cleared-potato",
   "metadata": {},
   "outputs": [
    {
     "data": {
      "text/plain": [
       "['M',\n",
       " 'y',\n",
       " ' ',\n",
       " 'n',\n",
       " 'r',\n",
       " '.',\n",
       " ' ',\n",
       " '1',\n",
       " ' ',\n",
       " 'c',\n",
       " 'h',\n",
       " 'l',\n",
       " 'd',\n",
       " 'h',\n",
       " 'd',\n",
       " ' ',\n",
       " 's',\n",
       " 'n',\n",
       " 'g',\n",
       " ' ',\n",
       " 'w',\n",
       " 's',\n",
       " ' ',\n",
       " \"'\",\n",
       " 'S',\n",
       " 'p',\n",
       " 'r',\n",
       " 'c',\n",
       " 'l',\n",
       " 'f',\n",
       " 'r',\n",
       " 'g',\n",
       " 'l',\n",
       " 's',\n",
       " 't',\n",
       " 'c',\n",
       " 'x',\n",
       " 'p',\n",
       " 'l',\n",
       " 'd',\n",
       " 'c',\n",
       " 's',\n",
       " \"'\",\n",
       " '!',\n",
       " '!',\n",
       " '!']"
      ]
     },
     "execution_count": 8,
     "metadata": {},
     "output_type": "execute_result"
    }
   ],
   "source": [
    "#6\n",
    "re.findall('[^aeiou]', string)"
   ]
  },
  {
   "cell_type": "code",
   "execution_count": 9,
   "id": "fallen-brave",
   "metadata": {},
   "outputs": [
    {
     "data": {
      "text/plain": [
       "['1']"
      ]
     },
     "execution_count": 9,
     "metadata": {},
     "output_type": "execute_result"
    }
   ],
   "source": [
    "#7\n",
    "re.findall('[0-9]', string)"
   ]
  },
  {
   "cell_type": "code",
   "execution_count": 10,
   "id": "czech-train",
   "metadata": {},
   "outputs": [
    {
     "data": {
      "text/plain": [
       "['1']"
      ]
     },
     "execution_count": 10,
     "metadata": {},
     "output_type": "execute_result"
    }
   ],
   "source": [
    "#8\n",
    "re.findall('\\d', string)"
   ]
  },
  {
   "cell_type": "code",
   "execution_count": 11,
   "id": "mental-thompson",
   "metadata": {},
   "outputs": [
    {
     "data": {
      "text/plain": [
       "[]"
      ]
     },
     "execution_count": 11,
     "metadata": {},
     "output_type": "execute_result"
    }
   ],
   "source": [
    "#9\n",
    "re.findall('[0-9]{2}', string)"
   ]
  },
  {
   "cell_type": "code",
   "execution_count": 12,
   "id": "finnish-tobago",
   "metadata": {},
   "outputs": [
    {
     "data": {
      "text/plain": [
       "['y',\n",
       " 'n',\n",
       " 'r',\n",
       " 'c',\n",
       " 'h',\n",
       " 'i',\n",
       " 'l',\n",
       " 'd',\n",
       " 'h',\n",
       " 'o',\n",
       " 'o',\n",
       " 'd',\n",
       " 's',\n",
       " 'o',\n",
       " 'n',\n",
       " 'g',\n",
       " 'w',\n",
       " 'a',\n",
       " 's',\n",
       " 'u',\n",
       " 'p',\n",
       " 'e',\n",
       " 'r',\n",
       " 'c',\n",
       " 'a',\n",
       " 'l',\n",
       " 'i',\n",
       " 'f',\n",
       " 'r',\n",
       " 'a',\n",
       " 'g',\n",
       " 'i',\n",
       " 'l',\n",
       " 'i',\n",
       " 's',\n",
       " 't',\n",
       " 'i',\n",
       " 'c',\n",
       " 'e',\n",
       " 'x',\n",
       " 'p',\n",
       " 'i',\n",
       " 'a',\n",
       " 'l',\n",
       " 'i',\n",
       " 'd',\n",
       " 'o',\n",
       " 'c',\n",
       " 'i',\n",
       " 'o',\n",
       " 'u',\n",
       " 's']"
      ]
     },
     "execution_count": 12,
     "metadata": {},
     "output_type": "execute_result"
    }
   ],
   "source": [
    "#10\n",
    "re.findall('[a-z]', string)"
   ]
  },
  {
   "cell_type": "code",
   "execution_count": 13,
   "id": "engaged-taste",
   "metadata": {},
   "outputs": [
    {
     "data": {
      "text/plain": [
       "['M', 'S']"
      ]
     },
     "execution_count": 13,
     "metadata": {},
     "output_type": "execute_result"
    }
   ],
   "source": [
    "#11\n",
    "re.findall('[A-Z]', string)"
   ]
  },
  {
   "cell_type": "code",
   "execution_count": 14,
   "id": "reflected-diameter",
   "metadata": {},
   "outputs": [
    {
     "data": {
      "text/plain": [
       "['M',\n",
       " 'y',\n",
       " 'n',\n",
       " 'r',\n",
       " 'c',\n",
       " 'h',\n",
       " 'i',\n",
       " 'l',\n",
       " 'd',\n",
       " 'h',\n",
       " 'o',\n",
       " 'o',\n",
       " 'd',\n",
       " 's',\n",
       " 'o',\n",
       " 'n',\n",
       " 'g',\n",
       " 'w',\n",
       " 'a',\n",
       " 's',\n",
       " 'S',\n",
       " 'u',\n",
       " 'p',\n",
       " 'e',\n",
       " 'r',\n",
       " 'c',\n",
       " 'a',\n",
       " 'l',\n",
       " 'i',\n",
       " 'f',\n",
       " 'r',\n",
       " 'a',\n",
       " 'g',\n",
       " 'i',\n",
       " 'l',\n",
       " 'i',\n",
       " 's',\n",
       " 't',\n",
       " 'i',\n",
       " 'c',\n",
       " 'e',\n",
       " 'x',\n",
       " 'p',\n",
       " 'i',\n",
       " 'a',\n",
       " 'l',\n",
       " 'i',\n",
       " 'd',\n",
       " 'o',\n",
       " 'c',\n",
       " 'i',\n",
       " 'o',\n",
       " 'u',\n",
       " 's']"
      ]
     },
     "execution_count": 14,
     "metadata": {},
     "output_type": "execute_result"
    }
   ],
   "source": [
    "#12\n",
    "re.findall('[a-zA-Z]', string)"
   ]
  },
  {
   "cell_type": "code",
   "execution_count": 15,
   "id": "caring-provider",
   "metadata": {},
   "outputs": [
    {
     "data": {
      "text/plain": [
       "['M',\n",
       " 'y',\n",
       " 'n',\n",
       " 'r',\n",
       " '1',\n",
       " 'c',\n",
       " 'h',\n",
       " 'i',\n",
       " 'l',\n",
       " 'd',\n",
       " 'h',\n",
       " 'o',\n",
       " 'o',\n",
       " 'd',\n",
       " 's',\n",
       " 'o',\n",
       " 'n',\n",
       " 'g',\n",
       " 'w',\n",
       " 'a',\n",
       " 's',\n",
       " 'S',\n",
       " 'u',\n",
       " 'p',\n",
       " 'e',\n",
       " 'r',\n",
       " 'c',\n",
       " 'a',\n",
       " 'l',\n",
       " 'i',\n",
       " 'f',\n",
       " 'r',\n",
       " 'a',\n",
       " 'g',\n",
       " 'i',\n",
       " 'l',\n",
       " 'i',\n",
       " 's',\n",
       " 't',\n",
       " 'i',\n",
       " 'c',\n",
       " 'e',\n",
       " 'x',\n",
       " 'p',\n",
       " 'i',\n",
       " 'a',\n",
       " 'l',\n",
       " 'i',\n",
       " 'd',\n",
       " 'o',\n",
       " 'c',\n",
       " 'i',\n",
       " 'o',\n",
       " 'u',\n",
       " 's']"
      ]
     },
     "execution_count": 15,
     "metadata": {},
     "output_type": "execute_result"
    }
   ],
   "source": [
    "#13\n",
    "re.findall('\\w', string) #re.findall('[0-9A-Za-z]', string)"
   ]
  },
  {
   "cell_type": "code",
   "execution_count": 16,
   "id": "level-westminster",
   "metadata": {},
   "outputs": [
    {
     "data": {
      "text/plain": [
       "[' ', '.', ' ', ' ', ' ', ' ', ' ', \"'\", \"'\", '!', '!', '!']"
      ]
     },
     "execution_count": 16,
     "metadata": {},
     "output_type": "execute_result"
    }
   ],
   "source": [
    "#14\n",
    "re.findall('\\W', string) #re.findall('[0-9A-Za-z]', string)"
   ]
  },
  {
   "cell_type": "code",
   "execution_count": 17,
   "id": "supreme-environment",
   "metadata": {},
   "outputs": [
    {
     "data": {
      "text/plain": [
       "[' ', ' ', ' ', ' ', ' ', ' ']"
      ]
     },
     "execution_count": 17,
     "metadata": {},
     "output_type": "execute_result"
    }
   ],
   "source": [
    "#15\n",
    "re.findall('\\s', string) "
   ]
  },
  {
   "cell_type": "code",
   "execution_count": 18,
   "id": "willing-bargain",
   "metadata": {},
   "outputs": [
    {
     "data": {
      "text/plain": [
       "['M',\n",
       " 'y',\n",
       " 'n',\n",
       " 'r',\n",
       " '.',\n",
       " '1',\n",
       " 'c',\n",
       " 'h',\n",
       " 'i',\n",
       " 'l',\n",
       " 'd',\n",
       " 'h',\n",
       " 'o',\n",
       " 'o',\n",
       " 'd',\n",
       " 's',\n",
       " 'o',\n",
       " 'n',\n",
       " 'g',\n",
       " 'w',\n",
       " 'a',\n",
       " 's',\n",
       " \"'\",\n",
       " 'S',\n",
       " 'u',\n",
       " 'p',\n",
       " 'e',\n",
       " 'r',\n",
       " 'c',\n",
       " 'a',\n",
       " 'l',\n",
       " 'i',\n",
       " 'f',\n",
       " 'r',\n",
       " 'a',\n",
       " 'g',\n",
       " 'i',\n",
       " 'l',\n",
       " 'i',\n",
       " 's',\n",
       " 't',\n",
       " 'i',\n",
       " 'c',\n",
       " 'e',\n",
       " 'x',\n",
       " 'p',\n",
       " 'i',\n",
       " 'a',\n",
       " 'l',\n",
       " 'i',\n",
       " 'd',\n",
       " 'o',\n",
       " 'c',\n",
       " 'i',\n",
       " 'o',\n",
       " 'u',\n",
       " 's',\n",
       " \"'\",\n",
       " '!',\n",
       " '!',\n",
       " '!']"
      ]
     },
     "execution_count": 18,
     "metadata": {},
     "output_type": "execute_result"
    }
   ],
   "source": [
    "#16\n",
    "re.findall('\\S', string) "
   ]
  },
  {
   "cell_type": "code",
   "execution_count": 19,
   "id": "quality-edwards",
   "metadata": {},
   "outputs": [
    {
     "data": {
      "text/plain": [
       "[' ', '. ', ' ', ' ', ' ', \" '\", \"'!!!\"]"
      ]
     },
     "execution_count": 19,
     "metadata": {},
     "output_type": "execute_result"
    }
   ],
   "source": [
    "#17\n",
    "re.findall('\\W+', string)"
   ]
  },
  {
   "cell_type": "code",
   "execution_count": 20,
   "id": "underlying-august",
   "metadata": {},
   "outputs": [
    {
     "data": {
      "text/plain": [
       "['My', 'Supercalifragilisticexpialidocious']"
      ]
     },
     "execution_count": 20,
     "metadata": {},
     "output_type": "execute_result"
    }
   ],
   "source": [
    "#18\n",
    "re.findall('[A-Z][a-z]+', string)"
   ]
  },
  {
   "cell_type": "markdown",
   "id": "tropical-meter",
   "metadata": {},
   "source": [
    "#### Execise 2: Test whether there is a match with any of Voldemort's nicknames at the beginning of the first Harry Potter novel\n",
    "- First, define a variable that represents a regular expressions matching a number of Voldemort's nicknames\n",
    "- Decide which regex function is the most appropriate to test if there is a match at the beginning of a string (findall(), match(), search() or finditer())\n",
    "- Test if there is a match by using if-else: print \"match!\" if there is a match, otherwise print \"no match\""
   ]
  },
  {
   "cell_type": "code",
   "execution_count": 21,
   "id": "monthly-pharmacology",
   "metadata": {},
   "outputs": [],
   "source": [
    "string = \"\"\"Mr. and Mrs. Dursley, of number four, Privet Drive, were proud to say\n",
    "that they were perfectly normal, thank you very much. They were the last people\n",
    "you’d expect to be involved in anything strange or mysterious, because they just\n",
    "didn’t hold with such nonsense.\"\"\""
   ]
  },
  {
   "cell_type": "code",
   "execution_count": 22,
   "id": "recorded-purpose",
   "metadata": {},
   "outputs": [],
   "source": [
    "pattern = '(Voldemort)|(The Dark Lord)|(You-know-who)|(He who shall not be named)|(You-know-who)|(Tom Riddle)'"
   ]
  },
  {
   "cell_type": "code",
   "execution_count": 23,
   "id": "adjusted-disabled",
   "metadata": {},
   "outputs": [
    {
     "name": "stdout",
     "output_type": "stream",
     "text": [
      "no match\n"
     ]
    }
   ],
   "source": [
    "if re.match(pattern, string):\n",
    "    print(\"match!\")\n",
    "else:\n",
    "    print(\"no match\")"
   ]
  },
  {
   "cell_type": "markdown",
   "id": "danish-insertion",
   "metadata": {},
   "source": [
    "#### Execise 3: Write a function that accepts a pattern and a string as input and returns the span of the match if the pattern occurs anywhere in the string\n",
    "- First, define a function and its arguments\n",
    "- Then, determine which regex function is the most appropriate for finding the first occurence of a pattern in a string (findall(), match(), search() or finditer()) and write the function\n",
    "- If there is a match, return the span of the match. If not, return \"No match was found\"\n",
    "- Test whether your function works by searching the following patterns in the string below:\n",
    "    - expression that matches \"Dursley\" or \"Dursleys\"\n",
    "    - expression that matches \"Harry\" or \"Harry Potter\"\n",
    "    - expression that matches \"Mr.\" or \"Mrs.\""
   ]
  },
  {
   "cell_type": "code",
   "execution_count": 24,
   "id": "imposed-split",
   "metadata": {},
   "outputs": [],
   "source": [
    "string = \"\"\"Mr. and Mrs. Dursley, of number four, Privet Drive, were proud to say\n",
    "that they were perfectly normal, thank you very much. They were the last people\n",
    "you’d expect to be involved in anything strange or mysterious, because they just\n",
    "didn’t hold with such nonsense.\"\"\""
   ]
  },
  {
   "cell_type": "code",
   "execution_count": 25,
   "id": "forbidden-fishing",
   "metadata": {},
   "outputs": [],
   "source": [
    "def get_span(pattern, string):\n",
    "    match = re.search(pattern, string)\n",
    "    if match:\n",
    "        return match.span()\n",
    "    else:\n",
    "        return \"No match was found\""
   ]
  },
  {
   "cell_type": "code",
   "execution_count": 26,
   "id": "egyptian-spread",
   "metadata": {},
   "outputs": [
    {
     "data": {
      "text/plain": [
       "(13, 20)"
      ]
     },
     "execution_count": 26,
     "metadata": {},
     "output_type": "execute_result"
    }
   ],
   "source": [
    "get_span('Dursleys?', string)"
   ]
  },
  {
   "cell_type": "code",
   "execution_count": 27,
   "id": "excess-strategy",
   "metadata": {},
   "outputs": [
    {
     "data": {
      "text/plain": [
       "'No match was found'"
      ]
     },
     "execution_count": 27,
     "metadata": {},
     "output_type": "execute_result"
    }
   ],
   "source": [
    "get_span('Harry (Potter)?', string)"
   ]
  },
  {
   "cell_type": "code",
   "execution_count": 28,
   "id": "bulgarian-sphere",
   "metadata": {},
   "outputs": [
    {
     "data": {
      "text/plain": [
       "(0, 3)"
      ]
     },
     "execution_count": 28,
     "metadata": {},
     "output_type": "execute_result"
    }
   ],
   "source": [
    "get_span('Mrs?\\.', string)"
   ]
  },
  {
   "cell_type": "markdown",
   "id": "reasonable-protection",
   "metadata": {},
   "source": [
    "#### Execise 4: Same as exercise 3, but return a list of all matching spans in the string"
   ]
  },
  {
   "cell_type": "code",
   "execution_count": 1,
   "id": "earlier-density",
   "metadata": {},
   "outputs": [],
   "source": [
    "def get_span(pattern, string):\n",
    "    matches = re.finditer(pattern, string)\n",
    "    output = []\n",
    "    for match in matches:\n",
    "        output.append(match.span())\n",
    "    if output == []:\n",
    "        return 'No matches were found'\n",
    "    else:\n",
    "        return output"
   ]
  },
  {
   "cell_type": "code",
   "execution_count": 30,
   "id": "protected-television",
   "metadata": {},
   "outputs": [
    {
     "data": {
      "text/plain": [
       "[(13, 20)]"
      ]
     },
     "execution_count": 30,
     "metadata": {},
     "output_type": "execute_result"
    }
   ],
   "source": [
    "get_span('Dursleys?', string)"
   ]
  },
  {
   "cell_type": "code",
   "execution_count": 31,
   "id": "outside-heart",
   "metadata": {},
   "outputs": [
    {
     "data": {
      "text/plain": [
       "'No matches were found'"
      ]
     },
     "execution_count": 31,
     "metadata": {},
     "output_type": "execute_result"
    }
   ],
   "source": [
    "get_span('Harry (Potter)?', string)"
   ]
  },
  {
   "cell_type": "code",
   "execution_count": 32,
   "id": "several-decimal",
   "metadata": {},
   "outputs": [
    {
     "data": {
      "text/plain": [
       "[(0, 3), (8, 12)]"
      ]
     },
     "execution_count": 32,
     "metadata": {},
     "output_type": "execute_result"
    }
   ],
   "source": [
    "get_span('Mrs?\\.', string)"
   ]
  },
  {
   "cell_type": "code",
   "execution_count": null,
   "id": "international-accreditation",
   "metadata": {},
   "outputs": [],
   "source": []
  }
 ],
 "metadata": {
  "kernelspec": {
   "display_name": "Python 3",
   "language": "python",
   "name": "python3"
  },
  "language_info": {
   "codemirror_mode": {
    "name": "ipython",
    "version": 3
   },
   "file_extension": ".py",
   "mimetype": "text/x-python",
   "name": "python",
   "nbconvert_exporter": "python",
   "pygments_lexer": "ipython3",
   "version": "3.7.9"
  }
 },
 "nbformat": 4,
 "nbformat_minor": 5
}
