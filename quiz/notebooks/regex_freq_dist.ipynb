{
 "cells": [
  {
   "cell_type": "markdown",
   "metadata": {},
   "source": [
    "Which one of these examples will return all of the words beginning with 's' and containing 'ing':\n",
    "\n",
    "e.g. : ['seeing', 'sprawling', 'settling', 'settling', 'singing', 'sing']"
   ]
  },
  {
   "cell_type": "markdown",
   "metadata": {},
   "source": [
    "#### 1"
   ]
  },
  {
   "cell_type": "code",
   "execution_count": 43,
   "metadata": {},
   "outputs": [
    {
     "data": {
      "text/plain": [
       "['\\n     When the evening',\n",
       " '\\n     The muttering',\n",
       " '\\n     To lead you to an overwhelming',\n",
       " '\\n     Talking',\n",
       " '\\n     Licked its tongue into the corners of the evening',\n",
       " '\\n     Ling',\n",
       " '\\n     And seeing',\n",
       " '\\n     Rubbing',\n",
       " '\\n     Before the taking',\n",
       " '\\n     Talking',\n",
       " '\\n     (They will say: \"How his hair is growing',\n",
       " '\\n     My morning coat, my collar mounting',\n",
       " '\\n     Have known the evenings, morning',\n",
       " '\\n     I know the voices dying with a dying',\n",
       " '\\n     And when I am formulated, sprawling',\n",
       " '\\n     When I am pinned and wriggling',\n",
       " '\\n     Of lonely men in shirt-sleeves, leaning',\n",
       " '\\n     Scuttling',\n",
       " '\\n     And the afternoon, the evening',\n",
       " '\\n     Smoothed by long fing',\n",
       " '\\n     Asleep... tired... or it maling',\n",
       " '\\n     To roll it toward some overwhelming',\n",
       " '\\n     If one, settling',\n",
       " '\\n     If one, settling a  pillow or throwing',\n",
       " '\\n     And turning',\n",
       " '\\n     I have heard the mermaids singing',\n",
       " '\\n     I do not think that they will sing',\n",
       " '\\n     I have seen them riding',\n",
       " '\\n     Combing',\n",
       " '\\n     We have ling']"
      ]
     },
     "execution_count": 43,
     "metadata": {},
     "output_type": "execute_result"
    }
   ],
   "source": [
    "import re\n",
    "\n",
    "with open('prufrock.txt', 'r') as f:\n",
    "    text = f.read()\n",
    "    \n",
    "ing = re.compile('\\S.*ing')\n",
    "ing.findall(text)"
   ]
  },
  {
   "cell_type": "markdown",
   "metadata": {},
   "source": [
    "#### 2"
   ]
  },
  {
   "cell_type": "code",
   "execution_count": 57,
   "metadata": {},
   "outputs": [
    {
     "data": {
      "text/plain": [
       "[' seeing', ' sprawling', ' settling', ' settling', ' singing', ' sing']"
      ]
     },
     "execution_count": 57,
     "metadata": {},
     "output_type": "execute_result"
    }
   ],
   "source": [
    "import re\n",
    "\n",
    "with open('prufrock.txt', 'r') as f:\n",
    "    text = f.read()\n",
    "    \n",
    "ing = re.compile('\\s[s]\\S*ing')\n",
    "\n",
    "ing.findall(text)"
   ]
  },
  {
   "cell_type": "markdown",
   "metadata": {},
   "source": [
    "#### 3"
   ]
  },
  {
   "cell_type": "code",
   "execution_count": 53,
   "metadata": {},
   "outputs": [
    {
     "data": {
      "text/plain": [
       "['s tongue into the corners of the evening',\n",
       " 'seeing',\n",
       " 'say: \"How his hair is growing',\n",
       " 's, morning',\n",
       " 's dying with a dying',\n",
       " 'sprawling',\n",
       " 'shirt-sleeves, leaning',\n",
       " 'sleep... tired... or it maling',\n",
       " 'some overwhelming',\n",
       " 'settling',\n",
       " 'settling a  pillow or throwing',\n",
       " 's singing',\n",
       " 'sing',\n",
       " 'seen them riding']"
      ]
     },
     "execution_count": 53,
     "metadata": {},
     "output_type": "execute_result"
    }
   ],
   "source": [
    "import re\n",
    "\n",
    "with open('prufrock.txt', 'r') as f:\n",
    "    text = f.read()\n",
    "  \n",
    "ing = re.compile('[s].*ing')\n",
    "ing.findall(text)"
   ]
  },
  {
   "cell_type": "markdown",
   "metadata": {},
   "source": [
    "#### 4"
   ]
  },
  {
   "cell_type": "code",
   "execution_count": 56,
   "metadata": {},
   "outputs": [
    {
     "data": {
      "text/plain": [
       "[' seeing', ' sprawling', ' settling', ' settling', ' singing', ' sing']"
      ]
     },
     "execution_count": 56,
     "metadata": {},
     "output_type": "execute_result"
    }
   ],
   "source": [
    "import re\n",
    "\n",
    "with open('prufrock.txt', 'r') as f:\n",
    "    text = f.read()\n",
    "    \n",
    "ing = re.compile('\\s[s]\\S*ing')\n",
    "ing.findall(text)"
   ]
  },
  {
   "cell_type": "markdown",
   "metadata": {},
   "source": [
    "### What does this code do?"
   ]
  },
  {
   "cell_type": "code",
   "execution_count": 61,
   "metadata": {},
   "outputs": [
    {
     "name": "stdout",
     "output_type": "stream",
     "text": [
      "{'and': 2, 'after': 2, 'egg': 1, 'along': 1}\n"
     ]
    }
   ],
   "source": [
    "sentences =  ['After the sunsets and the dooryards and the sprinkled streets', \n",
    "              'After the novels, after the egg teacups, after the skirts that trail along the']\n",
    "vowels = 'aeiou'\n",
    "d = {}\n",
    "\n",
    "for s in sentences:\n",
    "    for w in s.split():\n",
    "        if w[0] in vowels:\n",
    "            if w in d:\n",
    "                d[w] += 1\n",
    "            else:\n",
    "                d[w] = 1\n",
    "                \n",
    "print(d)"
   ]
  },
  {
   "cell_type": "markdown",
   "metadata": {},
   "source": [
    "# 1\n",
    "\n",
    "Create a frequency distribution of vowels."
   ]
  },
  {
   "cell_type": "markdown",
   "metadata": {},
   "source": [
    "# 2\n",
    "\n",
    "Create a frequency distribution of words with multiple vowels."
   ]
  },
  {
   "cell_type": "markdown",
   "metadata": {},
   "source": [
    "# 3\n",
    "\n",
    "Creat a frequency distribution of words beggining with a vowel for all sentence."
   ]
  },
  {
   "cell_type": "markdown",
   "metadata": {},
   "source": [
    "# 4\n",
    "\n",
    "Create a frequency distribution of vowels for each sentence."
   ]
  }
 ],
 "metadata": {
  "kernelspec": {
   "display_name": "Python 3",
   "language": "python",
   "name": "python3"
  },
  "language_info": {
   "codemirror_mode": {
    "name": "ipython",
    "version": 3
   },
   "file_extension": ".py",
   "mimetype": "text/x-python",
   "name": "python",
   "nbconvert_exporter": "python",
   "pygments_lexer": "ipython3",
   "version": "3.7.4"
  }
 },
 "nbformat": 4,
 "nbformat_minor": 4
}
