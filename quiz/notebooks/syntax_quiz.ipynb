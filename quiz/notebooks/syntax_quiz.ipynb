{
 "cells": [
  {
   "cell_type": "markdown",
   "metadata": {},
   "source": [
    "# Super Fun Quiz"
   ]
  },
  {
   "cell_type": "markdown",
   "metadata": {},
   "source": [
    "### For Loops"
   ]
  },
  {
   "cell_type": "code",
   "execution_count": null,
   "metadata": {},
   "outputs": [],
   "source": [
    "#a\n",
    "text = 'hello'\n",
    "vowels = 'aeiou'\n",
    "\n",
    "for x in text\n",
    "    if x in vowels:\n",
    "        print(x)\n",
    "\n",
    "#b      \n",
    "text = 'hello'\n",
    "vowels = 'aeiou'\n",
    "for x in text:\n",
    "    if x in vowels:\n",
    "    print(x)\n",
    "\n",
    "#c      \n",
    "text == 'hello'\n",
    "vowels == 'aeiou'\n",
    "for x in text:\n",
    "    if x in vowels\n",
    "        print(x)\n",
    "\n",
    "#d      \n",
    "text = 'hello'\n",
    "vowels = 'aeiou'\n",
    "for x in text:\n",
    "    if x in vowels:\n",
    "        print(x)"
   ]
  },
  {
   "cell_type": "markdown",
   "metadata": {},
   "source": [
    "### Functions"
   ]
  },
  {
   "cell_type": "code",
   "execution_count": null,
   "metadata": {},
   "outputs": [],
   "source": [
    "# a\n",
    "def function(x):\n",
    "    vowels = 'aeiou'\n",
    "    state = False\n",
    "    if x in vowels:\n",
    "        state = True\n",
    "    return state\n",
    "\n",
    "#b\n",
    "def function[x]\n",
    "    vowels = 'aeiou'\n",
    "    state = False\n",
    "    if x in vowels:\n",
    "        state = True\n",
    "    return state\n",
    "\n",
    "#c\n",
    "def function(x):\n",
    "    vowels = 'aeiou'\n",
    "    state = True\n",
    "    if x in vowels:\n",
    "        return state\n",
    "\n",
    "#d\n",
    "def function(x):\n",
    "    vowels = 'aeiou'\n",
    "    state = False\n",
    "    if x in vowels:\n",
    "        state = True\n",
    "    return state"
   ]
  }
 ],
 "metadata": {
  "kernelspec": {
   "display_name": "Python 3",
   "language": "python",
   "name": "python3"
  },
  "language_info": {
   "codemirror_mode": {
    "name": "ipython",
    "version": 3
   },
   "file_extension": ".py",
   "mimetype": "text/x-python",
   "name": "python",
   "nbconvert_exporter": "python",
   "pygments_lexer": "ipython3",
   "version": "3.7.4"
  }
 },
 "nbformat": 4,
 "nbformat_minor": 4
}
