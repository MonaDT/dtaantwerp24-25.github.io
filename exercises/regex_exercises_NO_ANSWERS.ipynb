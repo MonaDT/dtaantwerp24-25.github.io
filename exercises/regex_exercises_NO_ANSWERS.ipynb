{
 "cells": [
  {
   "cell_type": "markdown",
   "metadata": {
    "id": "XSzRptQTya5n"
   },
   "source": [
    "**Regular expressions & text manipulation exercises**"
   ]
  },
  {
   "cell_type": "markdown",
   "metadata": {
    "id": "AgHbj9pL1Lt0"
   },
   "source": [
    "Whether a string matches a pattern, contains a certain sequence of characters or a specific number of characters."
   ]
  },
  {
   "cell_type": "markdown",
   "metadata": {
    "id": "8xixsfyG1RlB"
   },
   "source": [
    "1. Check if the string 'Hello world' contains 'wor' and print:\n",
    "\n",
    "\n",
    "*   matched part\n",
    "*   starting index\n",
    "*   ending index\n",
    "*   both indices\n",
    "\n",
    "Tip: use the search() pattern-matching function\n",
    "\n",
    "\n",
    "\n"
   ]
  },
  {
   "cell_type": "code",
   "execution_count": 7,
   "metadata": {
    "cellView": "form",
    "id": "uSOvfyrL1Qa0"
   },
   "outputs": [],
   "source": [
    "# Code here\n"
   ]
  },
  {
   "cell_type": "markdown",
   "metadata": {},
   "source": [
    "**Click here** for the answer\n",
    "\n",
    "<!--\n",
    "import re\n",
    "\n",
    "result = re.search('wor', 'Hello world') \n",
    "\n",
    "if result:\n",
    "  print(\"matched part: '\", result.group(), \"'\", sep='')  \n",
    "  print('starting index:', result.start())  \n",
    "  print('ending index:', result.end()) # the index of the character after the final character of the pattern\n",
    "  print('both indices:', result.span()) \n",
    "else:\n",
    "  print('no match')\n",
    "\n",
    "-->"
   ]
  },
  {
   "cell_type": "markdown",
   "metadata": {
    "id": "08hTIPad55vd"
   },
   "source": [
    "2. Find all 'a' and 'b' characters in the sting 'basketball administration'.\n",
    "How many \n",
    "*   'a' and 'b' \n",
    "*   'a'\n",
    "*   'b'\n",
    "<br>characters are there?"
   ]
  },
  {
   "cell_type": "code",
   "execution_count": null,
   "metadata": {
    "cellView": "form",
    "id": "EnywA6BDyaQY"
   },
   "outputs": [],
   "source": [
    "# code here\n"
   ]
  },
  {
   "cell_type": "markdown",
   "metadata": {},
   "source": [
    "**Click here** for the answer\n",
    "<!--\n",
    "result = re.findall('a|b', 'basketball administration')  # the union or disjunction of two REs is an RE (matches if either 'a' or 'b' matches)\n",
    "print(result)\n",
    "print(\"'a' and 'b': \", len(result))\n",
    "print(\"'a': \", result.count('a'))\n",
    "print(\"'b': \", result.count('b'))\n",
    "-->"
   ]
  },
  {
   "cell_type": "markdown",
   "metadata": {
    "id": "zmU6BtdGJHt4"
   },
   "source": [
    "3. Does the sting 'angel' begin with 'a'? "
   ]
  },
  {
   "cell_type": "code",
   "execution_count": 9,
   "metadata": {
    "cellView": "form",
    "id": "O6JBK-YXJICP"
   },
   "outputs": [],
   "source": [
    "# Code Here\n"
   ]
  },
  {
   "cell_type": "markdown",
   "metadata": {},
   "source": [
    "**Click here** for the answer\n",
    "\n",
    "<!--\n",
    "\n",
    "m = re.search('^a', 'angel')\n",
    "if m:\n",
    "  print('yes')\n",
    "else:\n",
    "  print('no')  \n",
    "\n",
    "-->"
   ]
  },
  {
   "cell_type": "markdown",
   "metadata": {
    "id": "VPElNPC9JmvP"
   },
   "source": [
    "4. Does the sting 'angel' end with 'el'? "
   ]
  },
  {
   "cell_type": "code",
   "execution_count": 10,
   "metadata": {
    "cellView": "form",
    "id": "Vo4aPUanJm_v"
   },
   "outputs": [],
   "source": [
    "# code here\n",
    "\n"
   ]
  },
  {
   "cell_type": "markdown",
   "metadata": {},
   "source": [
    "**Click here** for the answer\n",
    "\n",
    "<!-- \n",
    "m = re.search('el$', 'el') # matches the end of the string \n",
    "if m:\n",
    "  print('yes')\n",
    "else:\n",
    "  print('no') \n",
    " -->"
   ]
  },
  {
   "cell_type": "markdown",
   "metadata": {
    "id": "NvsyFqZnHP4s"
   },
   "source": [
    "5. Find all\n",
    "*   lowercase letters\n",
    "*   digits\n",
    "*   lowercase and uppercase letters\n",
    "*   all characters that are not lowercase letters \n",
    "<br>in the string 'Some sting with digits 0494'."
   ]
  },
  {
   "cell_type": "code",
   "execution_count": 4,
   "metadata": {
    "cellView": "form",
    "id": "IP73Y1Y66OSL"
   },
   "outputs": [
    {
     "name": "stdout",
     "output_type": "stream",
     "text": [
      "['o', 'm', 'e', 's', 't', 'i', 'n', 'g', 'w', 'i', 't', 'h', 'd', 'i', 'g', 'i', 't', 's']\n",
      "['0', '4', '9', '4']\n",
      "['S', 'o', 'm', 'e', 's', 't', 'i', 'n', 'g', 'w', 'i', 't', 'h', 'd', 'i', 'g', 'i', 't', 's']\n",
      "['S', '0', '4', '9', '4']\n"
     ]
    }
   ],
   "source": [
    "# code here\n",
    "\n"
   ]
  },
  {
   "cell_type": "markdown",
   "metadata": {},
   "source": [
    "**Click here** for the answer\n",
    "\n",
    "<!--\n",
    "string = 'Some sting with digits 0494'\n",
    "\n",
    "print(re.findall('[a-z]', string)) \n",
    "\n",
    "print(re.findall('[0-9]', string)) \n",
    "\n",
    "print(re.findall('[a-zA-Z]', string)) \n",
    "\n",
    "result = re.findall('[^a-z]', string)  \n",
    "result= ' '.join(result).split()\n",
    "print(result)  \n",
    "-->"
   ]
  },
  {
   "cell_type": "markdown",
   "metadata": {
    "id": "Ml3ARm77KViz"
   },
   "source": [
    "6. Remove dots and exclamation marks from the text: 'An example of some text ... with punctutaion!!!'"
   ]
  },
  {
   "cell_type": "code",
   "execution_count": 11,
   "metadata": {
    "cellView": "form",
    "id": "VfQWY97ZHwPf"
   },
   "outputs": [],
   "source": [
    "# Code here\n"
   ]
  },
  {
   "cell_type": "markdown",
   "metadata": {},
   "source": [
    "**Click here** for the answer\n",
    "\n",
    "<!-- \n",
    "\n",
    "text = 'An example of some text ... with punctutaion!!!'\n",
    "punc = '[\\.!]' #punctuation\n",
    "\n",
    "#convert punctuation to space\n",
    "newtext = ''\n",
    "for c in text:\n",
    "\tif re.search(punc, c):\n",
    "\t\tnewtext += ' '\n",
    "\telse:\n",
    "\t\tnewtext += c\n",
    "newtext\n",
    "\n",
    "-->"
   ]
  },
  {
   "cell_type": "markdown",
   "metadata": {
    "id": "Wg3qLVr8K-Dp"
   },
   "source": [
    "7. Remove words without digits from the list ['R2D2', 'cat', '42'].\n",
    " "
   ]
  },
  {
   "cell_type": "code",
   "execution_count": 6,
   "metadata": {
    "cellView": "form",
    "id": "haYNun3-KocF"
   },
   "outputs": [
    {
     "data": {
      "text/plain": [
       "['R2D2', '42']"
      ]
     },
     "execution_count": 6,
     "metadata": {},
     "output_type": "execute_result"
    }
   ],
   "source": [
    "# Code here\n",
    "\n"
   ]
  },
  {
   "cell_type": "markdown",
   "metadata": {},
   "source": [
    "**Click here** for the answer\n",
    "<!--\n",
    "words = ['R2D2', 'cat', '42']\n",
    "\n",
    "finalwords = [] \n",
    "for w in words:\n",
    "  if re.search('[0-9]', w):\n",
    "    finalwords.append(w)\n",
    "  else:  \n",
    "    continue\n",
    "\n",
    "finalwords   \n",
    "-->"
   ]
  },
  {
   "cell_type": "markdown",
   "metadata": {
    "id": "FB3ce409OcZE"
   },
   "source": [
    "8. Find words in the list ['a', 'apple', 'cat', 'house', 'they', '2hands'] that do NOT begin with a wovel and print the character(s) before the wovel.\n",
    "\n"
   ]
  },
  {
   "cell_type": "code",
   "execution_count": null,
   "metadata": {
    "cellView": "form",
    "id": "aychostYLJ-y"
   },
   "outputs": [],
   "source": [
    "# code here\n",
    "\n"
   ]
  },
  {
   "cell_type": "markdown",
   "metadata": {},
   "source": [
    "**Click here** for the answer\n",
    "\n",
    "<!--\n",
    "words = ['a', 'apple', 'cat', 'house', 'they', '2hands']\n",
    "for w in words:\n",
    "  m = re.search('^[^aeiou]*',w)\n",
    "  if m:\n",
    "    onset = w[0:m.end()]\n",
    "    print(onset)\n",
    "-->"
   ]
  },
  {
   "cell_type": "markdown",
   "metadata": {
    "id": "mhw-OkVDLlx7"
   },
   "source": [
    "9. Replce two first 'a' characters by '!' in the string 'Abracadabra' (case-insensitive matching)."
   ]
  },
  {
   "cell_type": "code",
   "execution_count": null,
   "metadata": {
    "cellView": "form",
    "id": "Tivce8zsLm4X"
   },
   "outputs": [],
   "source": [
    "# code here\n"
   ]
  },
  {
   "cell_type": "markdown",
   "metadata": {},
   "source": [
    "**Click here** for the answer\n",
    "\n",
    "<!--\n",
    "\n",
    "s1 = 'Abracadabra' \n",
    "s2 = re.sub('a', '!', s1, count=2, flags=re.I) # arguments: pattern, replacement, string, count (maximum number of replacements count), flags (case-insensitive matching)\n",
    "s2\n",
    "\n",
    "-->"
   ]
  },
  {
   "cell_type": "markdown",
   "metadata": {
    "id": "fq0R7L4VUboN"
   },
   "source": [
    "10. Exercise (from the lecture on Tuesday 29/09) \n",
    "<br>Find a regular expression that matches time-of-day strings (such as 9:14 am or 08:20PM). Check that the matching is robust to all sorts of variations, such as:\n",
    "\n",
    "  - 9 : 14 AM\n",
    "  - 09:14 pm\n",
    "  - 9: 14 Am\n",
    "  - 9:14PM\n",
    "  - ..."
   ]
  },
  {
   "cell_type": "code",
   "execution_count": 13,
   "metadata": {
    "cellView": "form",
    "id": "vWySkrb0UYEi"
   },
   "outputs": [],
   "source": [
    "# code here\n"
   ]
  },
  {
   "cell_type": "markdown",
   "metadata": {},
   "source": [
    "**Click here** for the answer\n",
    "\n",
    "<!--\n",
    "re.search('[0-9]?[0-9]\\s*:\\s*[0-9][0-9]\\s*[aApP][mM]', 'The meeting is on Friday, 9:14 pm')\n",
    "-->"
   ]
  },
  {
   "cell_type": "code",
   "execution_count": null,
   "metadata": {},
   "outputs": [],
   "source": []
  }
 ],
 "metadata": {
  "colab": {
   "authorship_tag": "ABX9TyNRIEu6Der2yYq+8PVzZA5z",
   "collapsed_sections": [],
   "name": "regex_exercises.ipynb",
   "provenance": []
  },
  "kernelspec": {
   "display_name": "Python 3",
   "language": "python",
   "name": "python3"
  },
  "language_info": {
   "codemirror_mode": {
    "name": "ipython",
    "version": 3
   },
   "file_extension": ".py",
   "mimetype": "text/x-python",
   "name": "python",
   "nbconvert_exporter": "python",
   "pygments_lexer": "ipython3",
   "version": "3.7.4"
  }
 },
 "nbformat": 4,
 "nbformat_minor": 4
}
