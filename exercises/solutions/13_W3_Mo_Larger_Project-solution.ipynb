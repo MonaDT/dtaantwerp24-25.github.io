{
 "cells": [
  {
   "cell_type": "markdown",
   "metadata": {},
   "source": [
    "<div style=\"background-color:lightgrey;\n",
    "            padding:10px;\n",
    "            color:black;\n",
    "            border:black dashed 2px; \n",
    "            border-radius:5px;\n",
    "            margin: 20px 0;\">\n",
    "            \n",
    "            \n",
    "# Larger Project\n",
    "\n",
    "\n",
    "**Staff:** Mike Kestemont <br/>\n",
    "**Support Material:** None <br/>\n",
    "**Support Sessions:**  None\n",
    "\n",
    "</div>\n"
   ]
  },
  {
   "cell_type": "markdown",
   "metadata": {},
   "source": [
    "In the past sessions, we've often worked on smaller exercises that targeted a very specific topic or skill. It can be hard to imagine, for the time being, how such an abstract exercise could become a useful building block in a larger, real-life application. In this session, we'll work on a larger project: an authentication system for a website, in which you have to combine several smaller pieces of functionality.\n",
    "\n",
    "- Piece together code in smart way, but make use of **abstraction mechanism**, such as functions, that allow you to divide the work in managable packages\n",
    "- Think about the design of the code: translate a free running text in natural language into formal code **requirements**\n",
    "- Think about **reuse**: which third part stuff already exists that I can reuse in a stable way?"
   ]
  },
  {
   "cell_type": "markdown",
   "metadata": {},
   "source": [
    "## Project: an authentication system\n",
    "\n",
    "**Assignment**: *produce Python code that sets up a naive authentication system, e.g. for a website, that allows a user to register and log in. Before peaking at the task description below: try to describe for yourself, potentially making use of a schematic drawing, what such a system should be able to do. What limits do you want impose on the user? Which liberties will you allow? Try to protect yourself from malicious users but also try to protect users from their own mistakes.*\n",
    "\n",
    "\n",
    "### Functionality\n",
    "Implement the following functionality:\n",
    "- (A) Ask a user (via `input()`) for an email address (as a proxy for a user name) and a password. A **valid password** must be be at least 8 characters long, contain uppercase *and* lowercase characters, as well as two digits, but no punctuation. Store this information in a suitable data structure, but only *if* the user name entered is a **valid email address**. For the sake of simplicity, you can limit yourself to the following dummy rules as to what constitutes a valid email address:\n",
    "    + It contains (exactly one) \"@\".\n",
    "    + It ends in \".com\", \".org\", or \".be\".\n",
    "    + It contains no other punctuation than '-', '@' and '.'\n",
    "    \n",
    "- (B) Ask the user (via `input()`) to login with her/his **credentials** and grant access to the website the password matches an existing user in the database. If the user three times enters a false password, send a **warning email** to the email address that was used as user name in the last attempt.\n",
    "\n",
    "\n",
    "In your code, the following information should be printed under the appropriate conditions:\n",
    "\n",
    "(A)\n",
    "   - “Your account has been successfully created!”\n",
    "   - “You entered an invalid email address. Try again.”\n",
    "   - “Your password isn't long enough.”\n",
    "   - “That user name has already been taken. Try again.”\n",
    "\n",
    "(B)\n",
    "   - “You have successfully logged in!”\n",
    "   - “This email address does not exist in our database. Try again.”\n",
    "   - “Your email address exists, but your password is incorrect. Try again. (`n` attempts left)”\n",
    "   - \"You have exhausted your 3 login attempts. A warning message has been emailed to the last email address used.\""
   ]
  },
  {
   "cell_type": "code",
   "execution_count": 52,
   "metadata": {},
   "outputs": [
    {
     "data": {
      "text/plain": [
       "True"
      ]
     },
     "execution_count": 52,
     "metadata": {},
     "output_type": "execute_result"
    }
   ],
   "source": [
    "from string import punctuation as punct\n",
    "\n",
    "def validate_password(pw):\n",
    "    \"\"\"\n",
    "    Requirements for a valid password:\n",
    "      - 8 chars long\n",
    "      - two digits\n",
    "      - no punctuation\n",
    "      - uppercase and lowercase characters\n",
    "    \"\"\"\n",
    "    # length?\n",
    "    if len(pw) < 8:\n",
    "        return False\n",
    "    \n",
    "    # at least two digits?\n",
    "    digit_count = 0\n",
    "    for character in pw:\n",
    "        if character.isdigit():\n",
    "            digit_count += 1\n",
    "    if digit_count < 2:\n",
    "        return False\n",
    "    \n",
    "    # no punctuation present?\n",
    "    for character in pw:\n",
    "        if character in punct:\n",
    "            return False\n",
    "    \n",
    "    # uppercase characters?\n",
    "    num_uppercase = 0\n",
    "    for c in pw:\n",
    "        if c.isupper():\n",
    "            num_uppercase += 1\n",
    "    if num_uppercase == 0:\n",
    "        return False\n",
    "    \n",
    "    # lowercase characters?\n",
    "    num_lowercase = 0\n",
    "    for c in pw:\n",
    "        if c.islower():\n",
    "            num_lowercase += 1\n",
    "    if num_lowercase == 0:\n",
    "        return False\n",
    "    \n",
    "    return True\n",
    "\n",
    "validate_password('sssSsssss8888')"
   ]
  },
  {
   "cell_type": "code",
   "execution_count": 53,
   "metadata": {},
   "outputs": [
    {
     "data": {
      "text/plain": [
       "True"
      ]
     },
     "execution_count": 53,
     "metadata": {},
     "output_type": "execute_result"
    }
   ],
   "source": [
    "def validate_email(em):\n",
    "    \"\"\"\n",
    "    Requirements:\n",
    "       - (exactly one) \"@\".\n",
    "       - ends in \".com\", \".org\", or \".be\".\n",
    "       - no other punctuation than '-', '@' and '.'\n",
    "    \"\"\"\n",
    "    allowed_punctuation = '-.@'\n",
    "    if em.count('@') != 1:\n",
    "        return False\n",
    "    if not em.endswith(('.com', '.org', '.be')):\n",
    "        return False\n",
    "    for c in em:\n",
    "        if c not in allowed_punctuation and c in punct:\n",
    "            return False\n",
    "\n",
    "    return True\n",
    "\n",
    "validate_email('mike.kestemont@gmail.com')"
   ]
  },
  {
   "cell_type": "code",
   "execution_count": 54,
   "metadata": {},
   "outputs": [
    {
     "name": "stdout",
     "output_type": "stream",
     "text": [
      "Help on function validate_password in module __main__:\n",
      "\n",
      "validate_password(pw)\n",
      "    Requirements for a valid password:\n",
      "      - 8 chars long\n",
      "      - two digits\n",
      "      - no punctuation\n",
      "      - uppercase and lowercase characters\n",
      "\n"
     ]
    }
   ],
   "source": [
    "help(validate_password)"
   ]
  },
  {
   "cell_type": "markdown",
   "metadata": {},
   "source": [
    "(A)\n",
    "- “Your account has been successfully created!”\n",
    "- “You entered an invalid email address. Try again.”\n",
    "- “Your password isn't long enough.”\n",
    "- “That user name has already been taken. Try again.”"
   ]
  },
  {
   "cell_type": "code",
   "execution_count": 57,
   "metadata": {},
   "outputs": [],
   "source": [
    "db = {\n",
    "      'mike@gmail.com': 'hgHghgh87',\n",
    "      'walter@hotmail.com': 'hgghss123H'\n",
    "      }"
   ]
  },
  {
   "cell_type": "code",
   "execution_count": null,
   "metadata": {},
   "outputs": [],
   "source": []
  },
  {
   "cell_type": "code",
   "execution_count": 75,
   "metadata": {},
   "outputs": [
    {
     "name": "stdout",
     "output_type": "stream",
     "text": [
      "Welcome! What is your user name? bart@gmail.com\n",
      "What is your password?hgghss123H\n",
      "That's correct. Welcome back\n"
     ]
    }
   ],
   "source": [
    "un = input('Welcome! What is your user name? ')\n",
    "\n",
    "if not validate_email(un):\n",
    "    print('Invalid user name')\n",
    "\n",
    "if un in db:\n",
    "    pw = input('What is your password?')\n",
    "    # ask for pw\n",
    "    if pw == db[un]:\n",
    "        print(\"That's correct. Welcome back\")\n",
    "    else:\n",
    "        print(\"That password is incorrect\")\n",
    "else:\n",
    "    # ask the user to register\n",
    "    un = input(\"We don't have you as a user yet: input your email address to register: \")\n",
    "    if validate_email(un):\n",
    "        if un not in db:\n",
    "            pw = input('Enter a password please: ')\n",
    "            if validate_password(pw):\n",
    "                db[un] = pw # actual registration\n",
    "            else:\n",
    "                print('Too bad: passwords should be...')\n",
    "        else:\n",
    "            print('Too bad: that user name has been taken already')\n",
    "    else:\n",
    "        print(\"Couldn't register you: corrupt email address!\")"
   ]
  },
  {
   "cell_type": "markdown",
   "metadata": {},
   "source": [
    "(B)\n",
    "- “You have successfully logged in!”\n",
    "- “This email address does not exist in our database. Try again.”\n",
    "- “Your email address exists, but your password is incorrect. Try again. (n attempts left)”\n",
    "- \"You have exhausted your 3 login attempts. A warning message has been emailed to the last email address used.\""
   ]
  },
  {
   "cell_type": "code",
   "execution_count": 80,
   "metadata": {},
   "outputs": [
    {
     "name": "stdout",
     "output_type": "stream",
     "text": [
      "Attempt 1 of 3\n",
      "Welcome! What is your user name? k\n",
      "Invalid user name\n",
      "Attempt 2 of 3\n",
      "Welcome! What is your user name? k\n",
      "Invalid user name\n",
      "Attempt 3 of 3\n",
      "Welcome! What is your user name? \n",
      "Invalid user name\n",
      "You've exhausted your 3 login attempts\n"
     ]
    }
   ],
   "source": [
    "num_retrials = 3\n",
    "\n",
    "for attempt in range(num_retrials):\n",
    "    print(f'Attempt {attempt + 1} of {num_retrials}')\n",
    "    un = input('Welcome! What is your user name? ')\n",
    "\n",
    "    if not validate_email(un):\n",
    "        print('Invalid user name')\n",
    "\n",
    "    if un in db:\n",
    "        pw = input('What is your password?')\n",
    "        # ask for pw\n",
    "        if pw == db[un]:\n",
    "            print(\"That's correct. Welcome back\")\n",
    "        else:\n",
    "            print(\"That password is incorrect\")\n",
    "    \n",
    "    if attempt == (num_retrials - 1):\n",
    "        print(f\"You've exhausted your {num_retrials} login attempts\")\n"
   ]
  },
  {
   "cell_type": "code",
   "execution_count": null,
   "metadata": {},
   "outputs": [],
   "source": []
  }
 ],
 "metadata": {
  "kernelspec": {
   "display_name": "Python 3",
   "language": "python",
   "name": "python3"
  },
  "language_info": {
   "codemirror_mode": {
    "name": "ipython",
    "version": 3
   },
   "file_extension": ".py",
   "mimetype": "text/x-python",
   "name": "python",
   "nbconvert_exporter": "python",
   "pygments_lexer": "ipython3",
   "version": "3.6.10"
  }
 },
 "nbformat": 4,
 "nbformat_minor": 4
}
