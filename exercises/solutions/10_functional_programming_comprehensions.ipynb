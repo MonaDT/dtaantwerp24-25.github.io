{
 "cells": [
  {
   "cell_type": "markdown",
   "id": "e8158113",
   "metadata": {},
   "source": [
    "# Functional programming"
   ]
  },
  {
   "cell_type": "markdown",
   "id": "d2750017",
   "metadata": {},
   "source": [
    "**Staff**: Jens Lemmens\n",
    "\n",
    "**Support material**: Class [notebook](https://github.com/dtaantwerp/dtaantwerp.github.io/blob/DTA_Bootcamp_2021_students/notebooks/11_W2_Fri_Functional_Programming_List_Comprehensions.ipynb)"
   ]
  },
  {
   "cell_type": "markdown",
   "id": "f9e27a4d",
   "metadata": {},
   "source": [
    "## Comprehensions\n",
    "#### Rewrite the following lines of code as comprehensions"
   ]
  },
  {
   "cell_type": "markdown",
   "id": "001fd9ec",
   "metadata": {},
   "source": [
    "#### Exercise 1: Create a list of numbers from 1 to 100, result is a list"
   ]
  },
  {
   "cell_type": "code",
   "execution_count": 1,
   "id": "8b6bee73",
   "metadata": {},
   "outputs": [],
   "source": [
    "# your code here:\n",
    "nrs = [i for i in range(1, 101)]"
   ]
  },
  {
   "cell_type": "markdown",
   "id": "43d7b743",
   "metadata": {},
   "source": [
    "#### Exercise 2: Split a sentence into tokens and uppercase the first letter of each word, result is a list"
   ]
  },
  {
   "cell_type": "code",
   "execution_count": 2,
   "id": "19e46c4f",
   "metadata": {},
   "outputs": [],
   "source": [
    "sentence = \"This is a tokenized and lowercased sentence .\""
   ]
  },
  {
   "cell_type": "code",
   "execution_count": 3,
   "id": "83bb0578",
   "metadata": {},
   "outputs": [
    {
     "name": "stdout",
     "output_type": "stream",
     "text": [
      "['This', 'Is', 'A', 'Tokenized', 'And', 'Lowercased', 'Sentence', '.']\n"
     ]
    }
   ],
   "source": [
    "# your code here:\n",
    "result = [token.capitalize() for token in sentence.split()]\n",
    "print(result)"
   ]
  },
  {
   "cell_type": "markdown",
   "id": "6cb93532",
   "metadata": {},
   "source": [
    "#### Exercise 3: Tokenize a corpus, result is a list of tokens"
   ]
  },
  {
   "cell_type": "code",
   "execution_count": 4,
   "id": "c7823aea",
   "metadata": {},
   "outputs": [],
   "source": [
    "sentences = [\"This is a sentence .\", \"This is another sentence .\", \"This is the final sentence .\"]"
   ]
  },
  {
   "cell_type": "code",
   "execution_count": 5,
   "id": "38b8f5e3",
   "metadata": {},
   "outputs": [
    {
     "name": "stdout",
     "output_type": "stream",
     "text": [
      "['This', 'is', 'a', 'sentence', '.', 'This', 'is', 'another', 'sentence', '.', 'This', 'is', 'the', 'final', 'sentence', '.']\n"
     ]
    }
   ],
   "source": [
    "# your code here:\n",
    "result = [token for sentence in sentences for token in sentence.split()]\n",
    "print(result)"
   ]
  },
  {
   "cell_type": "markdown",
   "id": "4377cd5e",
   "metadata": {},
   "source": [
    "#### Exercise 4: Tokenize a corpus, but keep only words longer than 3 characters, result is a list of tokens"
   ]
  },
  {
   "cell_type": "code",
   "execution_count": 6,
   "id": "2677cfee",
   "metadata": {},
   "outputs": [],
   "source": [
    "sentences = [\"This is a sentence .\", \"This is another sentence .\", \"This is the final sentence .\"]"
   ]
  },
  {
   "cell_type": "code",
   "execution_count": 7,
   "id": "2b55d566",
   "metadata": {},
   "outputs": [
    {
     "name": "stdout",
     "output_type": "stream",
     "text": [
      "['This', 'sentence', 'This', 'another', 'sentence', 'This', 'final', 'sentence']\n"
     ]
    }
   ],
   "source": [
    "# your code here:\n",
    "result = [token for sentence in sentences for token in sentence.split() if len(token) > 3]\n",
    "print(result)"
   ]
  },
  {
   "cell_type": "markdown",
   "id": "808ebbb3",
   "metadata": {},
   "source": [
    "#### Exercise 5: Tokenize a corpus, but keep only words longer than 3 characters. Tokens that are not longer than 3 characters should be replaced with the string 'stop_word'. Result is a list of tokens"
   ]
  },
  {
   "cell_type": "code",
   "execution_count": 8,
   "id": "2d405a05",
   "metadata": {},
   "outputs": [],
   "source": [
    "sentences = [\"This is a sentence .\", \"This is another sentence .\", \"This is the final sentence .\"]"
   ]
  },
  {
   "cell_type": "code",
   "execution_count": 9,
   "id": "fe900341",
   "metadata": {},
   "outputs": [],
   "source": [
    "# your code here:\n"
   ]
  },
  {
   "cell_type": "markdown",
   "id": "e73c32a8",
   "metadata": {},
   "source": [
    "#### Exercise 6: Tokenize a corpus, result is a list of lists"
   ]
  },
  {
   "cell_type": "code",
   "execution_count": 10,
   "id": "e24fca34",
   "metadata": {},
   "outputs": [],
   "source": [
    "sentences = [\"This is a sentence .\", \"This is another sentence .\", \"This is the final sentence .\"]"
   ]
  },
  {
   "cell_type": "code",
   "execution_count": 11,
   "id": "34a2b541",
   "metadata": {},
   "outputs": [
    {
     "name": "stdout",
     "output_type": "stream",
     "text": [
      "['This', 'stop_word', 'stop_word', 'sentence', 'stop_word', 'This', 'stop_word', 'another', 'sentence', 'stop_word', 'This', 'stop_word', 'stop_word', 'final', 'sentence', 'stop_word']\n"
     ]
    }
   ],
   "source": [
    "# your code here:\n",
    "result = [token if len(token) > 3 else \"stop_word\" for sentence in sentences for token in sentence.split()]\n",
    "print(result)"
   ]
  },
  {
   "cell_type": "markdown",
   "id": "1caaf754",
   "metadata": {},
   "source": [
    "#### Exercise 7: Split a sentence into tokens and map them to position indices, result is a dictionary with indices as keys and tokens as values"
   ]
  },
  {
   "cell_type": "code",
   "execution_count": 12,
   "id": "73147f0f",
   "metadata": {},
   "outputs": [],
   "source": [
    "sentence = \"This is a tokenized sentence with token indices .\""
   ]
  },
  {
   "cell_type": "code",
   "execution_count": 13,
   "id": "d54d7909",
   "metadata": {},
   "outputs": [
    {
     "name": "stdout",
     "output_type": "stream",
     "text": [
      "{0: 'This', 1: 'is', 2: 'a', 3: 'tokenized', 4: 'sentence', 5: 'with', 6: 'token', 7: 'indices', 8: '.'}\n"
     ]
    }
   ],
   "source": [
    "# your code here:\n",
    "result = {index: token for index, token in enumerate(sentence.split())}\n",
    "print(result)"
   ]
  },
  {
   "cell_type": "markdown",
   "id": "e4f70992",
   "metadata": {},
   "source": [
    "#### Exercise 8: Zip a list of even numbers and a list of odd numbers from 0 to 100\n",
    "- First create a list of even numbers between 0 and 100 using range() in a list comprehension\n",
    "- Then do the same for odd numbers\n",
    "- Finally, create a new list that contains the sum of the zipped numbers in the two lists created above, but only if that sum is divisible by 3"
   ]
  },
  {
   "cell_type": "code",
   "execution_count": 1,
   "id": "2741753b",
   "metadata": {},
   "outputs": [],
   "source": [
    "even = [i for i in range(2, 100, 2)]\n",
    "odd = [i for i in range(1, 100, 2)]\n",
    "numbers = [i + j for i, j in zip(even, odd) if not (i+j) % 3]"
   ]
  },
  {
   "cell_type": "code",
   "execution_count": 2,
   "id": "1deb9cc3",
   "metadata": {},
   "outputs": [
    {
     "name": "stdout",
     "output_type": "stream",
     "text": [
      "[3, 15, 27, 39, 51, 63, 75, 87, 99, 111, 123, 135, 147, 159, 171, 183, 195]\n"
     ]
    }
   ],
   "source": [
    "print(numbers)"
   ]
  },
  {
   "cell_type": "markdown",
   "id": "af5cf6b6",
   "metadata": {},
   "source": [
    "## Functions as function arguments"
   ]
  },
  {
   "cell_type": "markdown",
   "id": "1c6efe40",
   "metadata": {},
   "source": [
    "### Self-written functions"
   ]
  },
  {
   "cell_type": "markdown",
   "id": "2945171a",
   "metadata": {},
   "source": [
    "#### Write a function that takes a numpy array of numbers and a mathematical function (multiply or divide) as its arguments\n",
    "- Import numpy and create an array to test the function on\n",
    "- Ask the user the question \"Would you like to multiply or divide the input numbers?\"\n",
    "- Ask the user the question \"By which number?\"\n",
    "- Write three functions\n",
    "    - \"Divide\", which prints the array divided by the input number\n",
    "    - \"Multiply\", which prints the array multiplied by the input number\n",
    "    - \"Calculate\", which performs an operation on the array and takes either of the above functions as argument (use booleans and conditional statements to determine which function this should be)"
   ]
  },
  {
   "cell_type": "code",
   "execution_count": 16,
   "id": "555aace1",
   "metadata": {},
   "outputs": [
    {
     "data": {
      "text/plain": [
       "array([ 1,  2,  3,  4,  5,  6,  7,  8,  9, 10])"
      ]
     },
     "execution_count": 16,
     "metadata": {},
     "output_type": "execute_result"
    }
   ],
   "source": [
    "import numpy as np\n",
    "array = np.array(range(1,11))\n",
    "array"
   ]
  },
  {
   "cell_type": "code",
   "execution_count": 17,
   "id": "ec05261f",
   "metadata": {},
   "outputs": [
    {
     "name": "stdout",
     "output_type": "stream",
     "text": [
      "Would you like to multiply or divide the input numbers?multiply\n",
      "By which nr?5\n",
      "[ 5 10 15 20 25 30 35 40 45 50]\n"
     ]
    }
   ],
   "source": [
    "# your code here:\n",
    "\n",
    "operation = input(\"Would you like to multiply or divide the input numbers?\")\n",
    "input_nr = int(input(\"By which nr?\"))\n",
    "\n",
    "def divide(array, input_nr):\n",
    "    return array / input_nr\n",
    "\n",
    "def multiply(array, input_nr):\n",
    "    return array * input_nr\n",
    "        \n",
    "def calculate(operation, array, input_nr):\n",
    "    if operation == \"multiply\":\n",
    "        return multiply(array, input_nr)\n",
    "    elif operation == \"divide\":\n",
    "        return divide(array, input_nr)\n",
    "    else:\n",
    "        return \"unknown operation\"   \n",
    "    \n",
    "print(calculate(operation, array, input_nr))"
   ]
  },
  {
   "cell_type": "markdown",
   "id": "16793e88",
   "metadata": {},
   "source": [
    "### Predifined functions: Filter()"
   ]
  },
  {
   "cell_type": "markdown",
   "id": "481568cd",
   "metadata": {},
   "source": [
    "#### Exercise 1: Make a filter that extracts all vowels from a string"
   ]
  },
  {
   "cell_type": "code",
   "execution_count": 30,
   "id": "f3f5e7f0",
   "metadata": {},
   "outputs": [
    {
     "name": "stdout",
     "output_type": "stream",
     "text": [
      "['I', 'a', 'e', 'i', 'i', 'o', 'e']\n"
     ]
    }
   ],
   "source": [
    "# your code here:\n",
    "\n",
    "string =  \"I am testing this code\"\n",
    "\n",
    "def is_vowel(char):\n",
    "    if char.lower() in \"aeiou\":\n",
    "        return True\n",
    "    return False\n",
    "\n",
    "result = filter(is_vowel, string)\n",
    "print(list(result))\n",
    "\n"
   ]
  },
  {
   "cell_type": "markdown",
   "id": "7404cd0b",
   "metadata": {},
   "source": [
    "#### Exercise 2: Make a filter that extracts all words longer than 5 characters from a list of tokens"
   ]
  },
  {
   "cell_type": "code",
   "execution_count": 29,
   "id": "d1a6e046",
   "metadata": {},
   "outputs": [
    {
     "name": "stdout",
     "output_type": "stream",
     "text": [
      "['loooooong']\n"
     ]
    }
   ],
   "source": [
    "# your code here:\n",
    "def longer_5(token):\n",
    "    if len(token) > 5:\n",
    "        return True\n",
    "    return False\n",
    "\n",
    "result = filter(longer_5, [\"This\", \"is\", \"a\",\"loooooong\", \"list\"])\n",
    "\n",
    "print(list(result))"
   ]
  },
  {
   "cell_type": "markdown",
   "id": "26f80404",
   "metadata": {},
   "source": [
    "### Predifined functions: Map()"
   ]
  },
  {
   "cell_type": "markdown",
   "id": "bff9df40",
   "metadata": {},
   "source": [
    "#### Exercise 1: Create a function that takes a number as argument and returns the square of that number. Use that function to map a list of numbers to a list of the square of those numbers"
   ]
  },
  {
   "cell_type": "code",
   "execution_count": 32,
   "id": "9fd6e9ee",
   "metadata": {},
   "outputs": [
    {
     "name": "stdout",
     "output_type": "stream",
     "text": [
      "[0, 1, 4, 9, 16, 25, 36, 49, 64, 81]\n"
     ]
    }
   ],
   "source": [
    "# your code here:\n",
    "\n",
    "numbers = list(range(10))\n",
    "\n",
    "def square_maker(i):\n",
    "    return i ** 2\n",
    "\n",
    "result = list(map(square_maker, numbers))\n",
    "print(result)"
   ]
  },
  {
   "cell_type": "markdown",
   "id": "f8bd8a76",
   "metadata": {},
   "source": [
    "#### Exercise 2: Create a function that takes a string as argument and returns its length. Use that function to map a list of strings to a list of the lengths of those strings."
   ]
  },
  {
   "cell_type": "code",
   "execution_count": 33,
   "id": "2c23e1e5",
   "metadata": {},
   "outputs": [
    {
     "name": "stdout",
     "output_type": "stream",
     "text": [
      "[4, 2, 1, 4]\n"
     ]
    }
   ],
   "source": [
    "# your code here:\n",
    "\n",
    "strings = [\"this\", \"is\", \"a\", \"list\"]\n",
    "\n",
    "def length_checker(string):\n",
    "    return len(string)\n",
    "\n",
    "result = list(map(length_checker, strings))\n",
    "print(result)\n"
   ]
  },
  {
   "cell_type": "markdown",
   "id": "8f4ac43d",
   "metadata": {},
   "source": [
    "## Lambda Functions"
   ]
  },
  {
   "cell_type": "markdown",
   "id": "f1875c10",
   "metadata": {},
   "source": [
    "#### Exercise 1: Create a lambda function that accepts two integers as input and returns the product of those integers"
   ]
  },
  {
   "cell_type": "code",
   "execution_count": 34,
   "id": "642262e0",
   "metadata": {},
   "outputs": [
    {
     "name": "stdout",
     "output_type": "stream",
     "text": [
      "6\n"
     ]
    }
   ],
   "source": [
    "# your code here:\n",
    "f = lambda x, y: x * y\n",
    "\n",
    "print(f(3, 2))"
   ]
  },
  {
   "cell_type": "markdown",
   "id": "32195ce3",
   "metadata": {},
   "source": [
    "#### Exercise 2: Use the sorted() function to sort a list of tokens alphabetically with lambda"
   ]
  },
  {
   "cell_type": "code",
   "execution_count": 38,
   "id": "cda58eb7",
   "metadata": {},
   "outputs": [
    {
     "name": "stdout",
     "output_type": "stream",
     "text": [
      "['a', 'is', 'list', 'of', 'this', 'tokens.']\n",
      "['a', 'is', 'list', 'of', 'this', 'tokens.']\n"
     ]
    }
   ],
   "source": [
    "# your code here:\n",
    "tokens_list = \"this is a list of tokens.\".split()\n",
    "\n",
    "print(sorted(tokens_list))\n",
    "print(sorted(tokens_list, key = lambda x: x[0]))"
   ]
  },
  {
   "cell_type": "markdown",
   "id": "f64f9efd",
   "metadata": {},
   "source": [
    "#### Exercise 3: Use lambda to sort a dictionary of token counts by its value ascending order"
   ]
  },
  {
   "cell_type": "code",
   "execution_count": 42,
   "id": "f2da51f4",
   "metadata": {},
   "outputs": [
    {
     "name": "stdout",
     "output_type": "stream",
     "text": [
      "[('dictionary', 1), ('This', 2), ('is', 5), ('a', 10)]\n"
     ]
    }
   ],
   "source": [
    "# your code here:\n",
    "d = {\"This\": 2, \"is\": 5, \"a\": 10, \"dictionary\": 1}\n",
    "\n",
    "d_sorted = sorted(d.items(), key = lambda x: x[1])\n",
    "print(d_sorted)"
   ]
  },
  {
   "cell_type": "markdown",
   "id": "3d62d382",
   "metadata": {},
   "source": [
    "#### Exerise 4: Create a filter that accepts a lambda function and a list of numers as input and that returns all even numbers"
   ]
  },
  {
   "cell_type": "code",
   "execution_count": 46,
   "id": "e757dd02",
   "metadata": {},
   "outputs": [
    {
     "name": "stdout",
     "output_type": "stream",
     "text": [
      "[2, 4, 6, 8, 10, 12, 14, 16, 18]\n"
     ]
    }
   ],
   "source": [
    "# your code here:\n",
    "numbers = range(1, 20)\n",
    "print(list(filter(lambda x: not x % 2, numbers)))"
   ]
  },
  {
   "cell_type": "markdown",
   "id": "2e1b4a34",
   "metadata": {},
   "source": [
    "#### Exercise 5:  Use map() that accepts a lambda function and a list of numbers as input to take the square of all numbers in that list"
   ]
  },
  {
   "cell_type": "code",
   "execution_count": 48,
   "id": "16643ece",
   "metadata": {},
   "outputs": [
    {
     "name": "stdout",
     "output_type": "stream",
     "text": [
      "[1, 4, 9, 16, 25, 36, 49, 64, 81, 100, 121, 144, 169, 196, 225, 256, 289, 324, 361]\n"
     ]
    }
   ],
   "source": [
    "# your code here:\n",
    "print(list(map(lambda x: x ** 2, numbers)))"
   ]
  },
  {
   "cell_type": "markdown",
   "id": "f177e91d",
   "metadata": {},
   "source": [
    "## Recursive functions"
   ]
  },
  {
   "cell_type": "markdown",
   "id": "ad07ba0e",
   "metadata": {},
   "source": [
    "#### Write a recursive function counts down from an integer (input) to zero and prints \"Happy new year!\" instead of 0"
   ]
  },
  {
   "cell_type": "code",
   "execution_count": 55,
   "id": "02c870e2",
   "metadata": {},
   "outputs": [
    {
     "name": "stdout",
     "output_type": "stream",
     "text": [
      "10\n",
      "9\n",
      "8\n",
      "7\n",
      "6\n",
      "5\n",
      "4\n",
      "3\n",
      "2\n",
      "1\n",
      "Happy New Year!\n"
     ]
    }
   ],
   "source": [
    "# your code here:\n",
    "\n",
    "def rec_func(i):\n",
    "    print(i)\n",
    "    if i == 1:\n",
    "        print(\"Happy New Year!\")\n",
    "        return\n",
    "    rec_func(i - 1)\n",
    "\n",
    "rec_func(10)"
   ]
  },
  {
   "cell_type": "code",
   "execution_count": null,
   "id": "dcfb1b9f",
   "metadata": {},
   "outputs": [],
   "source": []
  }
 ],
 "metadata": {
  "kernelspec": {
   "display_name": "Python 3",
   "language": "python",
   "name": "python3"
  },
  "language_info": {
   "codemirror_mode": {
    "name": "ipython",
    "version": 3
   },
   "file_extension": ".py",
   "mimetype": "text/x-python",
   "name": "python",
   "nbconvert_exporter": "python",
   "pygments_lexer": "ipython3",
   "version": "3.8.8"
  }
 },
 "nbformat": 4,
 "nbformat_minor": 5
}
