{
 "cells": [
  {
   "cell_type": "markdown",
   "metadata": {},
   "source": [
    "# Exercises on Input/Output\n",
    "\n",
    "These are 4 short exercises on Input/Output.\n",
    "\n",
    "Use this [notebook](https://github.com/dtaantwerp/dtaantwerp.github.io/blob/DTA_Bootcamp_2021_students/notebooks/06_W2_Mon_Input_Output_Files.ipynb) for a complete explanation of Python and Input/Output."
   ]
  },
  {
   "cell_type": "markdown",
   "metadata": {},
   "source": [
    "1. Create a program that asks the user to enter their name and their age. Print out a message addressed to them that tells them the year that they will turn 100 years old.\n",
    "\n",
    "#### 1) First, let's get some accurate information on the current year:\n",
    "- import the useful `datetime` package, which can be used to get current timestamps\n",
    "- store the current `year` in a variable"
   ]
  },
  {
   "cell_type": "code",
   "execution_count": 9,
   "metadata": {},
   "outputs": [],
   "source": [
    "# [code here]\n",
    "import datetime\n",
    "\n",
    "today = datetime.datetime.now()\n",
    "year = (today.year)"
   ]
  },
  {
   "cell_type": "markdown",
   "metadata": {},
   "source": [
    "### 2) Next, ask the user for input (both name and age):\n",
    "- store the information in two variables: `name` and `age`"
   ]
  },
  {
   "cell_type": "code",
   "execution_count": 10,
   "metadata": {},
   "outputs": [
    {
     "name": "stdout",
     "output_type": "stream",
     "text": [
      "Please enter your name: Jan\n",
      "Please enter your age: 20\n"
     ]
    }
   ],
   "source": [
    "# [code here]\n",
    "name = input(\"Please enter your name: \")\n",
    "age = int(input(\"Please enter your age: \"))"
   ]
  },
  {
   "cell_type": "markdown",
   "metadata": {},
   "source": [
    "### 3) Finally, perform the actual calculation and write up the message informing the user:"
   ]
  },
  {
   "cell_type": "code",
   "execution_count": 11,
   "metadata": {},
   "outputs": [
    {
     "name": "stdout",
     "output_type": "stream",
     "text": [
      "Hey Jan, you will be 100 years old in 2102.\n"
     ]
    }
   ],
   "source": [
    "# [code here]\n",
    "\n",
    "years_till_100 = 100 - age\n",
    " \n",
    "year += years_till_100\n",
    " \n",
    "print(f\"Hey {name}, you will be 100 years old in {year}.\")"
   ]
  },
  {
   "cell_type": "markdown",
   "metadata": {},
   "source": [
    "2. Play a game of Rock Paper Scissors in Python\n",
    "\n",
    "Challenge the computer in a game of rock paper scissors! In this game, the user is asked to pick one of the following options: rock, paper or scissors. The computer also has to - randomly! - select one of these options. A statement is printed revealing the computer's choice and judged against the user's choice. The winner is declared in accordance with these rules:\n",
    "\n",
    "- Rock vs. paper -> paper wins\n",
    "- Rock vs. scissors -> rock wins\n",
    "- Paper vs. scissors -> scissors win\n",
    "\n",
    "<img src=\"https://upload.wikimedia.org/wikipedia/commons/6/67/Rock-paper-scissors.svg\" height=\"300\" alt=\"Rock Paper Scissor Rules\" align=\"center\"/>\n",
    " "
   ]
  },
  {
   "cell_type": "markdown",
   "metadata": {},
   "source": [
    "### 1) Ask the user what they would like to choose as an action. Make use of the pre-defined variables `r` (rock), `p` (paper), and `s` (scissors):"
   ]
  },
  {
   "cell_type": "code",
   "execution_count": 12,
   "metadata": {},
   "outputs": [
    {
     "name": "stdout",
     "output_type": "stream",
     "text": [
      "Pick your weapon: r (rock), p (paper), s (scissors):r\n",
      "rock\n"
     ]
    }
   ],
   "source": [
    "r = 'rock'\n",
    "p = 'paper'\n",
    "s = 'scissors'\n",
    "\n",
    "user_action = input(\"Pick your weapon: r (rock), p (paper), s (scissors):\")\n",
    "user_action = eval(user_action)\n",
    "\n",
    "print(user_action)\n"
   ]
  },
  {
   "cell_type": "markdown",
   "metadata": {},
   "source": [
    "### 2) Have the computer select a random action:"
   ]
  },
  {
   "cell_type": "code",
   "execution_count": 13,
   "metadata": {},
   "outputs": [
    {
     "name": "stdout",
     "output_type": "stream",
     "text": [
      "paper\n"
     ]
    }
   ],
   "source": [
    "# [code here]\n",
    "import random\n",
    "\n",
    "possible_actions = [\"rock\", \"paper\", \"scissors\"]\n",
    "computer_action = random.choice(possible_actions)\n",
    "        \n",
    "print(computer_action)"
   ]
  },
  {
   "cell_type": "markdown",
   "metadata": {},
   "source": [
    "### 3) Print a single statement, revealing the choices that the user and the computer made:"
   ]
  },
  {
   "cell_type": "code",
   "execution_count": 14,
   "metadata": {},
   "outputs": [
    {
     "name": "stdout",
     "output_type": "stream",
     "text": [
      "\n",
      "You chose rock, the computer chose paper.\n",
      "\n"
     ]
    }
   ],
   "source": [
    "# [code here]\n",
    "print(f\"\\nYou chose {user_action}, the computer chose {computer_action}.\\n\")\n"
   ]
  },
  {
   "cell_type": "markdown",
   "metadata": {},
   "source": [
    "### 4) Using `if`, `elif`, and `else`, compare both players’ choices and determine a winner:"
   ]
  },
  {
   "cell_type": "code",
   "execution_count": 132,
   "metadata": {},
   "outputs": [],
   "source": [
    "# [code here]\n",
    "\n",
    "if user_action == computer_action:\n",
    "    print(f\"Both players selected {user_action}. It's a tie!\")\n",
    "    \n",
    "elif user_action == \"rock\":\n",
    "    if computer_action == \"scissors\":\n",
    "        print(\"Rock beats scissors! You win!\")\n",
    "    else:\n",
    "        print(\"Paper beats rock! You lose.\")\n",
    "        \n",
    "elif user_action == \"paper\":\n",
    "    if computer_action == \"rock\":\n",
    "        print(\"Paper beats rock! You win!\")\n",
    "    else:\n",
    "        print(\"Scissors beats paper! You lose.\")\n",
    "        \n",
    "elif user_action == \"scissors\":\n",
    "    if computer_action == \"paper\":\n",
    "        print(\"Scissors beats paper! You win!\")\n",
    "    else:\n",
    "        print(\"Rock beats scissors! You lose.\")"
   ]
  },
  {
   "cell_type": "markdown",
   "metadata": {},
   "source": [
    "3. Come up with an answer to the following question: why is `eval()` a dangerous function?"
   ]
  },
  {
   "cell_type": "markdown",
   "metadata": {},
   "source": [
    "[textual answer here]"
   ]
  },
  {
   "cell_type": "markdown",
   "metadata": {},
   "source": [
    "4. Write a Python program to count the frequency of certain words in a file."
   ]
  },
  {
   "cell_type": "markdown",
   "metadata": {},
   "source": [
    "### 1) Download _The Adventures of Sherlock Holmes_ by Arthur Conan Doyle from Project Gutenberg: https://www.gutenberg.org/ebooks/1661"
   ]
  },
  {
   "cell_type": "markdown",
   "metadata": {},
   "source": [
    "### 2) Load the txt-file. This can be done in several ways. Choose the way you prefer and explain why:"
   ]
  },
  {
   "cell_type": "code",
   "execution_count": 3,
   "metadata": {},
   "outputs": [
    {
     "name": "stdout",
     "output_type": "stream",
     "text": [
      "<class 'str'>\n",
      "﻿The Project Gutenberg eBook of The Adventures of Sherlock Holmes, by Arthur Conan Doyle\n",
      "\n",
      "This eBook is for the use of anyone anywhere in the United States and\n",
      "most other parts of the world at no cost and with almost no restrictions\n",
      "whatsoever. You may copy it, give it away or re-use it under the terms\n",
      "of the Project Gutenberg License included with this eBook or online at\n",
      "www.gutenberg.org. If you are not located in the United States, you\n",
      "will have to check the laws of the country where you are located before\n",
      "using this eBook.\n",
      "\n",
      "Title: The Adventures of Sherlock Holmes\n",
      "\n",
      "Author: Arthur Conan Doyle\n",
      "\n",
      "Release Date: November 29, 2002 [eBook #1661]\n",
      "[Most recently updated: May 20, 2019]\n",
      "\n",
      "Language: E\n"
     ]
    }
   ],
   "source": [
    "# [code here]\n",
    "\n",
    "with open('1661-0.txt') as f:\n",
    "    text = f.read()\n",
    "    print(type(text))\n",
    "    print(text[:700])"
   ]
  },
  {
   "cell_type": "markdown",
   "metadata": {},
   "source": [
    "### 3) Perform some pre-processing: remove all punctuation, and lowercase all the words:"
   ]
  },
  {
   "cell_type": "code",
   "execution_count": 4,
   "metadata": {},
   "outputs": [
    {
     "name": "stdout",
     "output_type": "stream",
     "text": [
      "﻿the project gutenberg ebook of the adventures of sherlock holmes by arthur conan doyle\n",
      "\n",
      "this ebook is for the use of anyone anywhere in the united states and\n",
      "most other parts of the world at no cost and with almost no restrictions\n",
      "whatsoever you may copy it give it away or reuse it under the terms\n",
      "of the project gutenberg license included with this ebook or online at\n",
      "wwwgutenbergorg if you are not located in the united states you\n",
      "will have to check the laws of the country where you are located before\n",
      "using this ebook\n",
      "\n",
      "title the adventures of sherlock holmes\n",
      "\n",
      "author arthur conan doyle\n",
      "\n",
      "release date november 29 2002 ebook 1661\n",
      "most recently updated may 20 2019\n",
      "\n",
      "language english\n",
      "\n",
      "character set\n"
     ]
    }
   ],
   "source": [
    "# [code here]\n",
    "\n",
    "import string\n",
    "\n",
    "punctuation = string.punctuation\n",
    "\n",
    "with open('1661-0.txt') as f:\n",
    "    text = f.read()\n",
    "    text = text.lower()\n",
    "    \n",
    "    for punct in punctuation:\n",
    "        text = text.replace(punct, \"\")\n",
    "        \n",
    "    print(text[:700])"
   ]
  },
  {
   "cell_type": "markdown",
   "metadata": {},
   "source": [
    "### 4) Calculate word frequencies:"
   ]
  },
  {
   "cell_type": "code",
   "execution_count": 6,
   "metadata": {},
   "outputs": [],
   "source": [
    "# [code here]\n",
    "\n",
    "from collections import Counter\n",
    "import string\n",
    "\n",
    "punctuation = string.punctuation\n",
    "names_of_interest = ['holmes', 'sherlock', 'watson', 'irene']\n",
    "\n",
    "with open('1661-0.txt') as f:\n",
    "    text = f.read()\n",
    "    text = text.lower()\n",
    "    \n",
    "    for punct in punctuation:\n",
    "        text = text.replace(punct, \"\")\n",
    "\n",
    "    word_freq = Counter(text.split())"
   ]
  },
  {
   "cell_type": "markdown",
   "metadata": {},
   "source": [
    "### 5) Create a new txt-file - `sherlockholmes_report.txt`, containing a list of words that occur more than 1000 times in the novel. Mention also in the report how often the lowercased names 'holmes', 'sherlock', 'watson', and 'irene' occur."
   ]
  },
  {
   "cell_type": "code",
   "execution_count": 4,
   "metadata": {},
   "outputs": [],
   "source": [
    "# [code here]\n",
    "\n",
    "from collections import Counter\n",
    "import string\n",
    "\n",
    "punctuation = string.punctuation\n",
    "names_of_interest = ['holmes', 'sherlock', 'watson', 'irene']\n",
    "\n",
    "outf = open('sherlockholmes.txt', 'w')\n",
    "\n",
    "with open('1661-0.txt') as f:\n",
    "    text = f.read()\n",
    "    text = text.lower()\n",
    "    \n",
    "    for punct in punctuation:\n",
    "        text = text.replace(punct, \"\")\n",
    "\n",
    "    word_freq = Counter(text.split())\n",
    "    \n",
    "    outf.write(\"===== words occurring > 1000 times =====\\n\")\n",
    "    \n",
    "    for word, count in word_freq.items():\n",
    "        if count > 1000:\n",
    "            outf.write(f\"{word}, {count}\\n\")\n",
    "            \n",
    "\n",
    "    outf.write(\"===== name occurrences =====\\n\")\n",
    "    \n",
    "    for name in names_of_interest:\n",
    "        count = word_freq[name]\n",
    "        outf.write(f\"{name}, {count}\\n\")\n",
    "            \n",
    "outf.close()  "
   ]
  }
 ],
 "metadata": {
  "kernelspec": {
   "display_name": "Python 3",
   "language": "python",
   "name": "python3"
  },
  "language_info": {
   "codemirror_mode": {
    "name": "ipython",
    "version": 3
   },
   "file_extension": ".py",
   "mimetype": "text/x-python",
   "name": "python",
   "nbconvert_exporter": "python",
   "pygments_lexer": "ipython3",
   "version": "3.8.8"
  }
 },
 "nbformat": 4,
 "nbformat_minor": 4
}
