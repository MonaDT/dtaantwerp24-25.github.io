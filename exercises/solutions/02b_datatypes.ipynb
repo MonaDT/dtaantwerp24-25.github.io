{
 "cells": [
  {
   "cell_type": "markdown",
   "metadata": {},
   "source": [
    "# Exercises on Lists, Sets, Dictionaries\n",
    "\n",
    "Use this [notebook](https://github.com/dtaantwerp/dtaantwerp.github.io/blob/DTA_Bootcamp_2021_students/notebooks/03_W1_Wed_Data_Types_Lists_Dictionaries.ipynb) for a complete explanation of Lists, Sets and Dictionaries."
   ]
  },
  {
   "cell_type": "markdown",
   "metadata": {},
   "source": [
    "## 2. Collections"
   ]
  },
  {
   "cell_type": "markdown",
   "metadata": {},
   "source": [
    "### Lists & sets"
   ]
  },
  {
   "cell_type": "markdown",
   "metadata": {},
   "source": [
    "Source of recipes: https://easyfamilyrecipes.com"
   ]
  },
  {
   "cell_type": "code",
   "execution_count": 4,
   "metadata": {},
   "outputs": [],
   "source": [
    "lasagna = [\n",
    "    'chicken breast', \n",
    "    'italian seasoning', \n",
    "    'garlic powder',\n",
    "    'marinara sauce',\n",
    "    'grated parmesan cheese',\n",
    "    'mozzarella cheese',\n",
    "    'ricotta cheese',\n",
    "    'eggs',\n",
    "    'parsley',\n",
    "    'salt',\n",
    "    'black pepper']"
   ]
  },
  {
   "cell_type": "code",
   "execution_count": 3,
   "metadata": {},
   "outputs": [],
   "source": [
    "roasted_veggies = [\n",
    "    'red onion',\n",
    "    'red bell pepper',\n",
    "    'broccoli',\n",
    "    'yellow squash',\n",
    "    'zucchini squash',\n",
    "    'garlic',\n",
    "    'olive oil',\n",
    "    'garlic powder',\n",
    "    'salt',\n",
    "    'black pepper']"
   ]
  },
  {
   "cell_type": "code",
   "execution_count": 2,
   "metadata": {},
   "outputs": [],
   "source": [
    "chicken_fajitas = [\n",
    "    'chicken breast',\n",
    "    'fajita seasoning',\n",
    "    'vegetable oil',\n",
    "    'lime',\n",
    "    'green bell pepper',\n",
    "    'red bell pepper',\n",
    "    'yellow onion',\n",
    "    'butter',\n",
    "    'garlic']"
   ]
  },
  {
   "cell_type": "markdown",
   "metadata": {},
   "source": [
    "##### 2.1 Modify list of ingredients\n",
    "\n",
    "To-do:  \n",
    "1. Add 'white pepper' to lasagna ingredients\n",
    "2. Remove 'black pepper' from lasagna ingredients\n",
    "3. Obtain index on 'vegetable oil' in chicken_fajitas;\n",
    "4. Replace 'vegetable oil' in chicken_fajitas list with 'olive oil';\n",
    "5. Sort chicken_fajitas list in alphabetical order;\n",
    "6. Print every third ingredient of chicken_fajitas list;\n",
    "7. Reverse list chicken_fajitas;\n",
    "8. Create a list of all recipes; a recipe is a list of its ingredients;\n",
    "9. Print the first five ingredients of the first recipe in recipes."
   ]
  },
  {
   "cell_type": "code",
   "execution_count": 26,
   "metadata": {},
   "outputs": [
    {
     "name": "stdout",
     "output_type": "stream",
     "text": [
      "['chicken breast', 'lime', 'yellow onion']\n"
     ]
    }
   ],
   "source": [
    "print(chicken_fajitas[0][:5])"
   ]
  },
  {
   "cell_type": "code",
   "execution_count": 7,
   "metadata": {},
   "outputs": [
    {
     "data": {
      "text/plain": [
       "['chicken breast',\n",
       " 'italian seasoning',\n",
       " 'garlic powder',\n",
       " 'marinara sauce',\n",
       " 'grated parmesan cheese',\n",
       " 'mozzarella cheese',\n",
       " 'ricotta cheese',\n",
       " 'eggs',\n",
       " 'parsley',\n",
       " 'salt',\n",
       " 'black pepper',\n",
       " 'white pepper']"
      ]
     },
     "execution_count": 7,
     "metadata": {},
     "output_type": "execute_result"
    }
   ],
   "source": [
    "# Your code for 1. here:\n",
    "lasagna.append(\"white pepper\")\n",
    "lasagna"
   ]
  },
  {
   "cell_type": "code",
   "execution_count": 8,
   "metadata": {},
   "outputs": [],
   "source": [
    "# Your code for 2. here:\n",
    "lasagna.remove(\"black pepper\")"
   ]
  },
  {
   "cell_type": "code",
   "execution_count": 9,
   "metadata": {},
   "outputs": [
    {
     "data": {
      "text/plain": [
       "['chicken breast',\n",
       " 'italian seasoning',\n",
       " 'garlic powder',\n",
       " 'marinara sauce',\n",
       " 'grated parmesan cheese',\n",
       " 'mozzarella cheese',\n",
       " 'ricotta cheese',\n",
       " 'eggs',\n",
       " 'parsley',\n",
       " 'salt',\n",
       " 'white pepper']"
      ]
     },
     "execution_count": 9,
     "metadata": {},
     "output_type": "execute_result"
    }
   ],
   "source": [
    "lasagna"
   ]
  },
  {
   "cell_type": "code",
   "execution_count": 10,
   "metadata": {},
   "outputs": [
    {
     "data": {
      "text/plain": [
       "2"
      ]
     },
     "execution_count": 10,
     "metadata": {},
     "output_type": "execute_result"
    }
   ],
   "source": [
    "# Your code for 3. here:\n",
    "chicken_fajitas.index(\"vegetable oil\")"
   ]
  },
  {
   "cell_type": "code",
   "execution_count": 11,
   "metadata": {},
   "outputs": [],
   "source": [
    "# Your code for 4. here:\n",
    "chicken_fajitas[2] = \"olive oil\""
   ]
  },
  {
   "cell_type": "code",
   "execution_count": 12,
   "metadata": {},
   "outputs": [
    {
     "data": {
      "text/plain": [
       "['chicken breast',\n",
       " 'fajita seasoning',\n",
       " 'olive oil',\n",
       " 'lime',\n",
       " 'green bell pepper',\n",
       " 'red bell pepper',\n",
       " 'yellow onion',\n",
       " 'butter',\n",
       " 'garlic']"
      ]
     },
     "execution_count": 12,
     "metadata": {},
     "output_type": "execute_result"
    }
   ],
   "source": [
    "chicken_fajitas"
   ]
  },
  {
   "cell_type": "code",
   "execution_count": 5,
   "metadata": {},
   "outputs": [
    {
     "name": "stdout",
     "output_type": "stream",
     "text": [
      "['butter', 'chicken breast', 'fajita seasoning', 'garlic', 'green bell pepper', 'lime', 'red bell pepper', 'vegetable oil', 'yellow onion']\n"
     ]
    }
   ],
   "source": [
    "# Your code for 5. here:\n",
    "chicken_fajitas.sort()\n",
    "# sorted(chicken_fajitas)\n",
    "print(chicken_fajitas)"
   ]
  },
  {
   "cell_type": "code",
   "execution_count": 6,
   "metadata": {},
   "outputs": [
    {
     "data": {
      "text/plain": [
       "['butter', 'garlic', 'red bell pepper']"
      ]
     },
     "execution_count": 6,
     "metadata": {},
     "output_type": "execute_result"
    }
   ],
   "source": [
    "# Your code for 6. here:\n",
    "chicken_fajitas[::3]\n"
   ]
  },
  {
   "cell_type": "code",
   "execution_count": 7,
   "metadata": {},
   "outputs": [
    {
     "data": {
      "text/plain": [
       "['yellow onion',\n",
       " 'vegetable oil',\n",
       " 'red bell pepper',\n",
       " 'lime',\n",
       " 'green bell pepper',\n",
       " 'garlic',\n",
       " 'fajita seasoning',\n",
       " 'chicken breast',\n",
       " 'butter']"
      ]
     },
     "execution_count": 7,
     "metadata": {},
     "output_type": "execute_result"
    }
   ],
   "source": [
    "# Your code for 7. here:\n",
    "chicken_fajitas[::-1]\n"
   ]
  },
  {
   "cell_type": "code",
   "execution_count": 8,
   "metadata": {},
   "outputs": [],
   "source": [
    "# Your code for 8. here:\n",
    "dishes = [lasagna, chicken_fajitas, roasted_veggies]\n",
    "dishes"
   ]
  },
  {
   "cell_type": "code",
   "execution_count": 9,
   "metadata": {},
   "outputs": [],
   "source": [
    "# Your code for 9. here:\n",
    "dishes[0][:5]"
   ]
  },
  {
   "cell_type": "markdown",
   "metadata": {},
   "source": [
    "##### 2.2 Implement a script that creates a shopping list. \n",
    " Create a shopping list from the list of ingredients for recipes.\n",
    "\n",
    "Input variables: ingredients for dishes: list;   \n",
    "Output variable: shopping list: list;    \n",
    "The list should consist only of unique ingredients, sorted in alphabetical order.\n",
    "\n",
    "To-do:  \n",
    "1. Combine all ingredients into one list;\n",
    "2. Obtain unique items;\n",
    "3. Sort list of ingredients alphabetically from A-Z;\n",
    "4. Print shopping list."
   ]
  },
  {
   "cell_type": "code",
   "execution_count": 8,
   "metadata": {},
   "outputs": [
    {
     "data": {
      "text/plain": [
       "['black pepper',\n",
       " 'broccoli',\n",
       " 'butter',\n",
       " 'chicken breast',\n",
       " 'eggs',\n",
       " 'fajita seasoning',\n",
       " 'garlic',\n",
       " 'garlic powder',\n",
       " 'grated parmesan cheese',\n",
       " 'green bell pepper',\n",
       " 'italian seasoning',\n",
       " 'lime',\n",
       " 'marinara sauce',\n",
       " 'mozzarella cheese',\n",
       " 'olive oil',\n",
       " 'parsley',\n",
       " 'red bell pepper',\n",
       " 'red onion',\n",
       " 'ricotta cheese',\n",
       " 'salt',\n",
       " 'vegetable oil',\n",
       " 'yellow onion',\n",
       " 'yellow squash',\n",
       " 'zucchini squash']"
      ]
     },
     "execution_count": 8,
     "metadata": {},
     "output_type": "execute_result"
    }
   ],
   "source": [
    "# Your code here:\n",
    "\n",
    "ingredients = lasagna+roasted_veggies+chicken_fajitas\n",
    "shopping_list = set(ingredients)\n",
    "shopping_list = sorted(shopping_list)\n",
    "shopping_list\n",
    "\n"
   ]
  },
  {
   "cell_type": "markdown",
   "metadata": {},
   "source": [
    "##### 2.3 Remove from the shopping list products that you already have at home and add beverages. \n",
    "Input variables: 1. shopping_list: list, 2. products: list, 3. beverages: list  \n",
    "Output variable: 4. shopping_list: list  \n",
    "The shopping list should be sorted in alphabetical order.\n",
    "\n",
    "To-do:  \n",
    "1. Remove products_in_house from shopping_list. Hint: use set operation difference;\n",
    "2. Add beverages to the shopping list;\n",
    "3. Sort list of ingredients alphabetically from A-Z;\n",
    "4. Print shopping list."
   ]
  },
  {
   "cell_type": "code",
   "execution_count": 15,
   "metadata": {},
   "outputs": [],
   "source": [
    "# Your code for 1. here:\n",
    "products_in_house = ['salt', 'butter', 'eggs', 'olive oil', 'black peper']\n"
   ]
  },
  {
   "cell_type": "code",
   "execution_count": 16,
   "metadata": {},
   "outputs": [],
   "source": [
    "# Your code for 2. here:\n",
    "beverages = ['apple juice', 'red wine']"
   ]
  },
  {
   "cell_type": "code",
   "execution_count": 13,
   "metadata": {},
   "outputs": [],
   "source": [
    "# Your code for 3. here:\n",
    "shopping_list = list(set(shopping_list)-set(products_in_house))\n",
    "shopping_list"
   ]
  },
  {
   "cell_type": "code",
   "execution_count": 14,
   "metadata": {},
   "outputs": [],
   "source": [
    "# Your code for 4. here:\n",
    "shopping_list = sorted(set(shopping_list+beverages))\n",
    "shopping_list"
   ]
  },
  {
   "cell_type": "markdown",
   "metadata": {},
   "source": [
    "### Dictionaries"
   ]
  },
  {
   "cell_type": "markdown",
   "metadata": {},
   "source": [
    "##### 2.3 Create a record for a person\n",
    "Input variables: 1. UID (Unique person id): str, 2. First_name: str, 3. Last_name: str, 4. Year of birth: int;\n",
    "Output variable: rec_1: dict that contains all input variables.\n",
    "\n",
    "To-do:\n",
    "1. Create all input variables;\n",
    "2. Create a record for a person that allows accessing specific personal data (ex. name, age, etc.);\n",
    "3. Print person record;\n",
    "4. Check whether the 'cell_phone' field is in the record;\n",
    "5. Print the name of the fields that are stored in the record;\n",
    "6. Print the value of all the fields in the record."
   ]
  },
  {
   "cell_type": "code",
   "execution_count": 44,
   "metadata": {},
   "outputs": [
    {
     "name": "stdout",
     "output_type": "stream",
     "text": [
      "{'UID': '0', 'first_name': 'John', 'last_name': 'Walker', 'yob': 2000}\n",
      "False\n",
      "None\n",
      "dict_keys(['UID', 'first_name', 'last_name', 'yob'])\n",
      "dict_values(['0', 'John', 'Walker', 2000])\n",
      "dict_items([('UID', '0'), ('first_name', 'John'), ('last_name', 'Walker'), ('yob', 2000)])\n"
     ]
    }
   ],
   "source": [
    "uid = '000000000001'\n",
    "fist_name = 'John'\n",
    "last_name = 'Galt'\n",
    "yob = 1970\n"
   ]
  },
  {
   "cell_type": "code",
   "execution_count": null,
   "metadata": {},
   "outputs": [],
   "source": [
    "rec_1 = {\n",
    "    'uid': uid,\n",
    "    'fist_name': fist_name,\n",
    "    'last_name': last_name,\n",
    "    'yob': yob\n",
    "}\n",
    "print(rec_1)"
   ]
  },
  {
   "cell_type": "code",
   "execution_count": null,
   "metadata": {},
   "outputs": [],
   "source": [
    "'cell_phone' in rec_1"
   ]
  },
  {
   "cell_type": "code",
   "execution_count": null,
   "metadata": {},
   "outputs": [],
   "source": [
    "print(rec_1.keys())\n",
    "print(rec_1.values())"
   ]
  },
  {
   "cell_type": "markdown",
   "metadata": {},
   "source": [
    "##### 2.4 Create a database of person records\n",
    "Input variables: person records (dict) for three persons (similar to 2.3 task) \n",
    "Output variable: database: list;\n",
    "\n",
    "To-do:\n",
    "1. Create another record with similar information;\n",
    "2. Create an empty record for the third person and add the following information: uid, first_name, last_name, yob;\n",
    "2. Combine created records in a list;\n",
    "3. Print database - all the records;\n",
    "4. Print 'yob' of 3d person in the database;\n",
    "5. Update year of birth of John Galt to 1980;\n",
    "6. Add cell_number for John Galt - 00000000000 (str);\n",
    "7. Print John Galt's record."
   ]
  },
  {
   "cell_type": "code",
   "execution_count": 24,
   "metadata": {},
   "outputs": [],
   "source": [
    "# Your code for 1. here:\n",
    "rec_2 = {\n",
    "    'uid': '000000000002',\n",
    "    'first_name': 'Dagny',\n",
    "    'last_name': 'Taggart',\n",
    "    'yob': 1980\n",
    "}"
   ]
  },
  {
   "cell_type": "code",
   "execution_count": 25,
   "metadata": {},
   "outputs": [],
   "source": [
    "# Your code for 2. here:\n",
    "rec_3 = {}\n"
   ]
  },
  {
   "cell_type": "code",
   "execution_count": 16,
   "metadata": {},
   "outputs": [],
   "source": [
    "# Your code for 3. here:\n",
    "rec_3['uid'] = '000000000003'\n",
    "rec_3['first_name'] = 'Eddie'\n",
    "rec_3['last_name'] = 'Willers'\n",
    "rec_3['yob'] = 1985"
   ]
  },
  {
   "cell_type": "code",
   "execution_count": 27,
   "metadata": {},
   "outputs": [],
   "source": [
    "# Your code for 4. here:\n",
    "database = [rec_1, rec_2, rec_3]\n"
   ]
  },
  {
   "cell_type": "code",
   "execution_count": 17,
   "metadata": {},
   "outputs": [],
   "source": [
    "# Your code for 5. here:\n",
    "database\n"
   ]
  },
  {
   "cell_type": "code",
   "execution_count": 18,
   "metadata": {},
   "outputs": [],
   "source": [
    "# Your code for 6. here:\n",
    "database[2]['yob']\n"
   ]
  },
  {
   "cell_type": "code",
   "execution_count": 30,
   "metadata": {},
   "outputs": [],
   "source": [
    "# Your code for 7. here:\n",
    "database[0]['yob'] = 1980\n"
   ]
  },
  {
   "cell_type": "code",
   "execution_count": 19,
   "metadata": {},
   "outputs": [],
   "source": [
    "# Your code for 8. here:\n",
    "database[0]\n"
   ]
  },
  {
   "cell_type": "markdown",
   "metadata": {},
   "source": [
    "## Extra"
   ]
  },
  {
   "cell_type": "markdown",
   "metadata": {},
   "source": [
    "- Consider the following strings `sentence1 = \"John and Lars kick the bucket\"` and `sentence2 = \"Bonny and Clyde are really famous\"`. Split these strings into words and create the following strings via list manipulation: `sentence3 = \"John and Lars are really famous\"` and `sentence4=\"Bonny+and+Clyde+kick+the+bucket\"`. Can you print the middle letter of the fourth sentence?"
   ]
  },
  {
   "cell_type": "code",
   "execution_count": 21,
   "metadata": {},
   "outputs": [],
   "source": [
    "# Your code for here:\n",
    "sentence1 = \"John and Lars kick the bucket\"\n",
    "sentence2 = \"Bonny and Clyde are really famous\"\n",
    "s1_split = sentence1.split()\n",
    "s2_split = sentence2.split()\n",
    "\n",
    "sentence3 = s1_split[:3]+s2_split[-3:]\n",
    "sentence3 = \" \".join(sentence3)\n",
    "sentence4 = s2_split[:3]+s1_split[-3:]\n",
    "sentence4 = \"+\".join(sentence4)\n",
    "print(sentence3)\n",
    "print(sentence4)"
   ]
  },
  {
   "cell_type": "markdown",
   "metadata": {},
   "source": [
    "- Consider the `lookup` dictionary below. The following letters are still missing from it: 'k':'kilo', 'l':'lima', 'm':'mike'. Add them to `lookup`! Could you spell the word \"marvellous\" in code language now?"
   ]
  },
  {
   "cell_type": "code",
   "execution_count": 23,
   "metadata": {},
   "outputs": [],
   "source": [
    "lookup = {'a':'alfa', 'b':'bravo', 'c':'charlie', 'd':'delta',\n",
    "          'e':'echo', 'f':'foxtrot', 'g':'golf', 'h':'hotel',\n",
    "          'i':'india', 'j':'juliett', 'n':'november', 'o':'oscar',\n",
    "          'p':'papa', 'q':'quebec', 'r':'romeo', 's':'sierra',\n",
    "          't':'tango', 'u':'uniform', 'v':'victor', 'w':'whiskey',\n",
    "          'x':'x-ray', 'y':'yankee', 'z':'zulu'}"
   ]
  },
  {
   "cell_type": "code",
   "execution_count": 28,
   "metadata": {},
   "outputs": [],
   "source": [
    "# Your code here:\n",
    "\n",
    "lookup[\"k\"] = \"kilo\"\n",
    "lookup[\"l\"] = \"lima\"\n",
    "lookup[\"m\"] = \"mike\"\n",
    "\n",
    "msg = []\n",
    "msg.append(lookup[\"m\"])\n",
    "msg.append(lookup[\"a\"])\n",
    "msg.append(lookup[\"r\"])\n",
    "msg.append(lookup[\"v\"])\n",
    "msg.append(lookup[\"e\"])\n",
    "msg.append(lookup[\"l\"])\n",
    "msg.append(lookup[\"l\"])\n",
    "msg.append(lookup[\"o\"])\n",
    "msg.append(lookup[\"u\"])\n",
    "msg.append(lookup[\"s\"])\n"
   ]
  },
  {
   "cell_type": "markdown",
   "metadata": {},
   "source": [
    "- More fun:\n",
    "   + Collect the code terms in the lookup dict (`alpha`, `bravo`, ...) from the previous exercise into a list called `code_words`.\n",
    "   + Is this list alphabetically sorted? No? Then make sure that this list is sorted alphabetically. Now remove the items `victor`, `india` and `papa`.\n",
    "   + Append the words `pigeon` and `potato` at the end of this list. "
   ]
  },
  {
   "cell_type": "code",
   "execution_count": 29,
   "metadata": {},
   "outputs": [],
   "source": [
    "# Your code here:\n",
    "code_words = list(lookup.values())\n",
    "print(code_words)\n",
    "code_words.sort()\n",
    "print(code_words)\n",
    "code_words.remove(\"victor\")\n",
    "code_words.remove(\"india\")\n",
    "code_words.remove(\"papa\")\n",
    "print(code_words)\n",
    "code_words.append(\"pigeon\")\n",
    "code_words.append(\"patato\")\n",
    "print(code_words)\n",
    "\n"
   ]
  }
 ],
 "metadata": {
  "kernelspec": {
   "display_name": "Python 3",
   "language": "python",
   "name": "python3"
  },
  "language_info": {
   "codemirror_mode": {
    "name": "ipython",
    "version": 3
   },
   "file_extension": ".py",
   "mimetype": "text/x-python",
   "name": "python",
   "nbconvert_exporter": "python",
   "pygments_lexer": "ipython3",
   "version": "3.8.8"
  }
 },
 "nbformat": 4,
 "nbformat_minor": 4
}
