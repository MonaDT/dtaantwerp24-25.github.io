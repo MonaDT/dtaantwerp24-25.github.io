{
 "cells": [
  {
   "cell_type": "markdown",
   "id": "85d60966",
   "metadata": {},
   "source": [
    "# Pandas"
   ]
  },
  {
   "cell_type": "markdown",
   "id": "60b7ebfc",
   "metadata": {
    "tags": []
   },
   "source": [
    "**Staff**: Wouter Haverals\n",
    "\n",
    "**Support material**:\n",
    "- Class [notebook](https://github.com/dtaantwerp/dtaantwerp.github.io/blob/DTA_Bootcamp_2021_students/notebooks/14_W3_Wed_Pandas.ipynb)\n",
    "- [Pandas user documentation](https://pandas.pydata.org/docs/user_guide/index.html#user-guide)\n",
    "- Informative [YouTube playlist](https://www.youtube.com/watch?v=yzIMircGU5I&list=PL5-da3qGB5ICCsgW1MxlZ0Hq8LL5U3u9y&ab_channel=DataSchool) by dataschool\n",
    "\n",
    "<h2 style=\"color:purple\">Datasets</h2>\n",
    "<a style=\"font-size:120%;color:blue\" href=\"wget https://raw.githubusercontent.com/dtaantwerp/dtaantwerp.github.io/master/data/311-service-requests.csv\">311-service-requests.csv</a> (a 311-call gives access to non-emergency city services and info about city government programs; the file here lists all such requests for New York City)"
   ]
  },
  {
   "cell_type": "markdown",
   "id": "b93e03a9",
   "metadata": {},
   "source": [
    "#### Start by importing pandas and the file we will work with"
   ]
  },
  {
   "cell_type": "code",
   "execution_count": null,
   "id": "fdd6401d",
   "metadata": {},
   "outputs": [],
   "source": [
    "import pandas as pd"
   ]
  },
  {
   "cell_type": "markdown",
   "id": "e4b85c53",
   "metadata": {},
   "source": [
    "#### Exercise 1: Create a DataFrame object for the file"
   ]
  },
  {
   "cell_type": "code",
   "execution_count": null,
   "id": "83cb9602",
   "metadata": {},
   "outputs": [],
   "source": [
    "df = pd.read_csv('311-service-requests.csv') # https://pandas.pydata.org/docs/reference/io.html"
   ]
  },
  {
   "cell_type": "code",
   "execution_count": null,
   "id": "0259c67c-4644-4d4b-8b11-117cee092404",
   "metadata": {},
   "outputs": [],
   "source": [
    "# We get a warning... But what is the matter?\n",
    "#\n",
    "# Pandas is really nice: it guesses which dtype a column has!\n",
    "# If Pandas encounters a column with multiple dtypes in it, it will raise a warning. \n",
    "# Pandas is so kind to let you know it was confused and something might have happened.\n",
    "# One way of dealing with this warning is by adding the parameter 'low_memory=False'. \n",
    "# Doing this, Pandas will split up the CSV file into multiple chunks \n",
    "# and then guess the dtype every chunk, resulting in a column with multiple dtypes."
   ]
  },
  {
   "cell_type": "markdown",
   "id": "d2119323",
   "metadata": {},
   "source": [
    "#### Exercise 2: Explore the DataFrame\n",
    "Use Pandas methods to \n",
    "- Get the first 3 rows of the df\n",
    "- Get the last 3 rows of the df\n",
    "- Get general info about the df\n",
    "- Get the number of rows and columns in the df\n",
    "- Investigate what data types the df contains\n",
    "- Find out what columns the df consists of"
   ]
  },
  {
   "cell_type": "code",
   "execution_count": null,
   "id": "9ee545cf",
   "metadata": {},
   "outputs": [],
   "source": [
    "# first 3 rows of df:\n",
    "df.head(3)"
   ]
  },
  {
   "cell_type": "code",
   "execution_count": null,
   "id": "17796871",
   "metadata": {},
   "outputs": [],
   "source": [
    "# last 3 rows of df:\n",
    "df.tail(3) # another, more pythonesque way of doing this: df[-3:]"
   ]
  },
  {
   "cell_type": "code",
   "execution_count": null,
   "id": "8e0ff285",
   "metadata": {},
   "outputs": [],
   "source": [
    "# general info about the df:\n",
    "\n",
    "df.info()"
   ]
  },
  {
   "cell_type": "code",
   "execution_count": null,
   "id": "06b2fca1",
   "metadata": {},
   "outputs": [],
   "source": [
    "# number of rows and columns in the df:\n",
    "df.shape # shape-property, returns a tuple representing the dimensionality of the df"
   ]
  },
  {
   "cell_type": "code",
   "execution_count": null,
   "id": "3f21aa60",
   "metadata": {},
   "outputs": [],
   "source": [
    "# investigate the types:\n",
    "\n",
    "df.dtypes"
   ]
  },
  {
   "cell_type": "code",
   "execution_count": null,
   "id": "2d94d2a1",
   "metadata": {},
   "outputs": [],
   "source": [
    "# investigate the columns:\n",
    "\n",
    "df.columns"
   ]
  },
  {
   "cell_type": "markdown",
   "id": "b2f8f79e",
   "metadata": {},
   "source": [
    "#### Exercise 3: Use apply() and lambda to lowercase all agency names"
   ]
  },
  {
   "cell_type": "code",
   "execution_count": null,
   "id": "8a62ad3c",
   "metadata": {},
   "outputs": [],
   "source": [
    "# your code here:\n",
    "\n",
    "df['Agency Name'] = df['Agency Name'].apply(lambda x: x.lower())\n",
    "\n",
    "# with the apply()-method, you can execute a function to a single column, all columns or a list of columns \n",
    "# i.e., apply() will call the supplied function for each value in the Dataframe column\n",
    "# a lambda function is a single-line function declared with no name, which can have any number of arguments, \n",
    "# but it can only have one expression"
   ]
  },
  {
   "cell_type": "code",
   "execution_count": null,
   "id": "3c06073d-a1cf-4c02-a8b2-3d5bde4e4445",
   "metadata": {},
   "outputs": [],
   "source": [
    "## another example, with a dummy, self-defined function:\n",
    "\n",
    "def abbreviate_to_nyc(x): \n",
    "    if 'new york city' in x:\n",
    "        x = x.replace('new york city', 'NYC')\n",
    "    return x\n",
    "\n",
    "df['Agency Name'] = df['Agency Name'].apply(add_excl)\n",
    "df.head()"
   ]
  },
  {
   "cell_type": "markdown",
   "id": "e188d256",
   "metadata": {},
   "source": [
    "#### Exercise 4: Column selection\n",
    "- Slice columns \"Agency\" and \"Agency Name\"\n",
    "- Use .loc to select the columns \"Agency\" and \"Agency Name\""
   ]
  },
  {
   "cell_type": "code",
   "execution_count": null,
   "id": "e590bc1d",
   "metadata": {},
   "outputs": [],
   "source": [
    "# slice columns. your code here:\n",
    "\n",
    "df[[\"Agency\", \"Agency Name\"]]"
   ]
  },
  {
   "cell_type": "code",
   "execution_count": null,
   "id": "ddb19c7d",
   "metadata": {},
   "outputs": [],
   "source": [
    "# select columns. your code here:\n",
    "\n",
    "df.loc[:, [\"Agency\", \"Agency Name\"]]"
   ]
  },
  {
   "cell_type": "markdown",
   "id": "3229ab25",
   "metadata": {},
   "source": [
    "#### Exercise 5: Row selection\n",
    "- Slice rows 0 to 10\n",
    "- Use .iloc to select rows 0 to 10\n",
    "- Use .iloc to select the value in row 10, column 5\n",
    "- Use boolean indexing to select rows for which \"Agency\" equals \"NYPD\""
   ]
  },
  {
   "cell_type": "code",
   "execution_count": null,
   "id": "84f28489",
   "metadata": {},
   "outputs": [],
   "source": [
    "# slide rows:\n",
    "\n",
    "df[0:10]"
   ]
  },
  {
   "cell_type": "code",
   "execution_count": null,
   "id": "908f851f",
   "metadata": {},
   "outputs": [],
   "source": [
    "# select rows 1 to 10 with .iloc:\n",
    "\n",
    "df.iloc[0:10]"
   ]
  },
  {
   "cell_type": "code",
   "execution_count": null,
   "id": "5e6117e3",
   "metadata": {},
   "outputs": [],
   "source": [
    "# select the value or row 10, col 5:\n",
    "\n",
    "df.iloc[10, 5]"
   ]
  },
  {
   "cell_type": "code",
   "execution_count": null,
   "id": "a8066140",
   "metadata": {},
   "outputs": [],
   "source": [
    "# select rows where 'Agency' equals 'NYPD':\n",
    "\n",
    "df[df[\"Agency\"] == \"NYPD\"]"
   ]
  },
  {
   "cell_type": "markdown",
   "id": "9987a06b",
   "metadata": {},
   "source": [
    "#### Exercise 6: Count the frequency of each complaint type using \"value_counts()\""
   ]
  },
  {
   "cell_type": "code",
   "execution_count": null,
   "id": "c392b2be",
   "metadata": {},
   "outputs": [],
   "source": [
    "# code here:\n",
    "\n",
    "frequencies = df['Complaint Type'].value_counts() # In Pandas terms, what does this method return?\n",
    "frequencies"
   ]
  },
  {
   "cell_type": "markdown",
   "id": "2ac30a58",
   "metadata": {},
   "source": [
    "#### Exercise 7: Plot a horizontal bar chart that displays the top 20 most frequent complaint types"
   ]
  },
  {
   "cell_type": "code",
   "execution_count": null,
   "id": "9f29d022",
   "metadata": {},
   "outputs": [],
   "source": [
    "import matplotlib.pyplot as plt"
   ]
  },
  {
   "cell_type": "code",
   "execution_count": null,
   "id": "08559f47",
   "metadata": {},
   "outputs": [],
   "source": [
    "# code here:\n",
    "\n",
    "frequencies[:20].plot(kind='barh') # bar, pie, line, etc..."
   ]
  },
  {
   "cell_type": "markdown",
   "id": "dde2ccf0",
   "metadata": {},
   "source": [
    "#### Exercise 8: Find the following statistics of the Series created in exercise 6\n",
    "- the mean of the frequencies\n",
    "- the standard deviation of the frequencies\n",
    "- the highest frequency\n",
    "- the lowest frequency\n",
    "- the sum of the frequencies"
   ]
  },
  {
   "cell_type": "code",
   "execution_count": null,
   "id": "539f88c0",
   "metadata": {},
   "outputs": [],
   "source": [
    "# code here:\n",
    "\n",
    "print(frequencies.mean())\n",
    "print(frequencies.std()) # standard deviation (or σ) is a measure of how dispersed the data is in relation to the mean\n",
    "print(frequencies.max())\n",
    "print(frequencies.min())\n",
    "print(frequencies.sum())"
   ]
  },
  {
   "cell_type": "markdown",
   "id": "ace0ead0",
   "metadata": {},
   "source": [
    "#### Exercise 9: Take a random sample of 100 rows of the complaints DataFrame and save it to a file"
   ]
  },
  {
   "cell_type": "code",
   "execution_count": null,
   "id": "c6a8edfb",
   "metadata": {},
   "outputs": [],
   "source": [
    "# code here:\n",
    "sample = df.sample(100, random_state=2022)\n",
    "sample.to_csv('df.csv')\n",
    "sample"
   ]
  },
  {
   "cell_type": "markdown",
   "id": "f0b879e5",
   "metadata": {},
   "source": [
    "#### Exercise 10: Duplicates\n",
    "- Remove all duplicate rows from the complaints data frame (keep first)\n",
    "- Remove all rows with duplicate agencies (keep last)\n",
    "\n",
    "\"inplace\" argument:\n",
    "- What does it do?\n",
    "- Which data type?\n",
    "- Can you drop duplicate rows \"inplace\" without using the \"inplace\" argument?"
   ]
  },
  {
   "cell_type": "code",
   "execution_count": null,
   "id": "42693d0b",
   "metadata": {},
   "outputs": [],
   "source": [
    "# remove duplicate rows:\n",
    "\n",
    "df.drop_duplicates()\n",
    "df.shape # there are no duplicates in this df..."
   ]
  },
  {
   "cell_type": "code",
   "execution_count": null,
   "id": "5f954cd5-aa04-447c-8009-8bdf57c44078",
   "metadata": {},
   "outputs": [],
   "source": [
    "people = [['Jack', 20, 'student'],\n",
    "          ['Joe', 50, 'engineer'],\n",
    "          ['Lisa', 4, 'just a kid'],\n",
    "          ['Jack', 20, 'student']] # oops, there is a duplicate in our data, but we didn't notice...\n",
    "\n",
    "df_people = pd.DataFrame(people) # data to Pandas DataFrame\n",
    "df_people"
   ]
  },
  {
   "cell_type": "code",
   "execution_count": null,
   "id": "ceb47242-751a-44e2-8567-88669b9fe752",
   "metadata": {},
   "outputs": [],
   "source": [
    "# see what happens here!\n",
    "df_people.drop_duplicates()"
   ]
  },
  {
   "cell_type": "code",
   "execution_count": null,
   "id": "c05c5f8d",
   "metadata": {},
   "outputs": [],
   "source": [
    "# remove rows with duplicate agencies (keep last):\n",
    "\n",
    "df.drop_duplicates('Agency', keep='last')"
   ]
  },
  {
   "cell_type": "code",
   "execution_count": null,
   "id": "211b9b7b",
   "metadata": {},
   "outputs": [],
   "source": []
  },
  {
   "cell_type": "code",
   "execution_count": null,
   "id": "fa555bbe-ebae-47d9-bd1a-5a438d639ba5",
   "metadata": {},
   "outputs": [],
   "source": []
  }
 ],
 "metadata": {
  "kernelspec": {
   "display_name": "Python 3 (ipykernel)",
   "language": "python",
   "name": "python3"
  },
  "language_info": {
   "codemirror_mode": {
    "name": "ipython",
    "version": 3
   },
   "file_extension": ".py",
   "mimetype": "text/x-python",
   "name": "python",
   "nbconvert_exporter": "python",
   "pygments_lexer": "ipython3",
   "version": "3.9.12"
  }
 },
 "nbformat": 4,
 "nbformat_minor": 5
}
