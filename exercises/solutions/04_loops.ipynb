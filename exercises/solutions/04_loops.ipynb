{
 "cells": [
  {
   "cell_type": "markdown",
   "id": "6517d09a",
   "metadata": {},
   "source": [
    "# Control structures: for, while, break, continue"
   ]
  },
  {
   "cell_type": "markdown",
   "id": "05bc96cc",
   "metadata": {},
   "source": [
    "**Staff**: Jens Lemmens\n",
    "\n",
    "**Support material**: Class [notebook](https://github.com/dtaantwerp/dtaantwerp.github.io/blob/DTA_Bootcamp_2021_students/notebooks/05_W1_Fri_Control_Structures_Loops_For_While.ipynb)"
   ]
  },
  {
   "cell_type": "markdown",
   "id": "e433407d",
   "metadata": {},
   "source": [
    "## 1. Numbers"
   ]
  },
  {
   "cell_type": "markdown",
   "id": "d0c73de2",
   "metadata": {},
   "source": [
    "#### Exercise 1: Create a list of numbers from 0 to 100 using \"range()\""
   ]
  },
  {
   "cell_type": "code",
   "execution_count": 39,
   "id": "2346cb9b",
   "metadata": {},
   "outputs": [
    {
     "data": {
      "text/plain": [
       "[0,\n",
       " 1,\n",
       " 2,\n",
       " 3,\n",
       " 4,\n",
       " 5,\n",
       " 6,\n",
       " 7,\n",
       " 8,\n",
       " 9,\n",
       " 10,\n",
       " 11,\n",
       " 12,\n",
       " 13,\n",
       " 14,\n",
       " 15,\n",
       " 16,\n",
       " 17,\n",
       " 18,\n",
       " 19,\n",
       " 20,\n",
       " 21,\n",
       " 22,\n",
       " 23,\n",
       " 24,\n",
       " 25,\n",
       " 26,\n",
       " 27,\n",
       " 28,\n",
       " 29,\n",
       " 30,\n",
       " 31,\n",
       " 32,\n",
       " 33,\n",
       " 34,\n",
       " 35,\n",
       " 36,\n",
       " 37,\n",
       " 38,\n",
       " 39,\n",
       " 40,\n",
       " 41,\n",
       " 42,\n",
       " 43,\n",
       " 44,\n",
       " 45,\n",
       " 46,\n",
       " 47,\n",
       " 48,\n",
       " 49,\n",
       " 50,\n",
       " 51,\n",
       " 52,\n",
       " 53,\n",
       " 54,\n",
       " 55,\n",
       " 56,\n",
       " 57,\n",
       " 58,\n",
       " 59,\n",
       " 60,\n",
       " 61,\n",
       " 62,\n",
       " 63,\n",
       " 64,\n",
       " 65,\n",
       " 66,\n",
       " 67,\n",
       " 68,\n",
       " 69,\n",
       " 70,\n",
       " 71,\n",
       " 72,\n",
       " 73,\n",
       " 74,\n",
       " 75,\n",
       " 76,\n",
       " 77,\n",
       " 78,\n",
       " 79,\n",
       " 80,\n",
       " 81,\n",
       " 82,\n",
       " 83,\n",
       " 84,\n",
       " 85,\n",
       " 86,\n",
       " 87,\n",
       " 88,\n",
       " 89,\n",
       " 90,\n",
       " 91,\n",
       " 92,\n",
       " 93,\n",
       " 94,\n",
       " 95,\n",
       " 96,\n",
       " 97,\n",
       " 98,\n",
       " 99,\n",
       " 100]"
      ]
     },
     "execution_count": 39,
     "metadata": {},
     "output_type": "execute_result"
    }
   ],
   "source": [
    "# Your code here:\n",
    "x = list(range(0, 101))\n",
    "x\n"
   ]
  },
  {
   "cell_type": "markdown",
   "id": "efa008f2",
   "metadata": {},
   "source": [
    "#### Exercise 2: Using a loop, print all numbers in the list created in exercise 1"
   ]
  },
  {
   "cell_type": "code",
   "execution_count": 5,
   "id": "731e08ac",
   "metadata": {
    "scrolled": true
   },
   "outputs": [
    {
     "name": "stdout",
     "output_type": "stream",
     "text": [
      "0\n",
      "1\n",
      "2\n",
      "3\n",
      "4\n",
      "5\n",
      "6\n",
      "7\n",
      "8\n",
      "9\n",
      "10\n",
      "11\n",
      "12\n",
      "13\n",
      "14\n",
      "15\n",
      "16\n",
      "17\n",
      "18\n",
      "19\n",
      "20\n",
      "21\n",
      "22\n",
      "23\n",
      "24\n",
      "25\n",
      "26\n",
      "27\n",
      "28\n",
      "29\n",
      "30\n",
      "31\n",
      "32\n",
      "33\n",
      "34\n",
      "35\n",
      "36\n",
      "37\n",
      "38\n",
      "39\n",
      "40\n",
      "41\n",
      "42\n",
      "43\n",
      "44\n",
      "45\n",
      "46\n",
      "47\n",
      "48\n",
      "49\n",
      "50\n",
      "51\n",
      "52\n",
      "53\n",
      "54\n",
      "55\n",
      "56\n",
      "57\n",
      "58\n",
      "59\n",
      "60\n",
      "61\n",
      "62\n",
      "63\n",
      "64\n",
      "65\n",
      "66\n",
      "67\n",
      "68\n",
      "69\n",
      "70\n",
      "71\n",
      "72\n",
      "73\n",
      "74\n",
      "75\n",
      "76\n",
      "77\n",
      "78\n",
      "79\n",
      "80\n",
      "81\n",
      "82\n",
      "83\n",
      "84\n",
      "85\n",
      "86\n",
      "87\n",
      "88\n",
      "89\n",
      "90\n",
      "91\n",
      "92\n",
      "93\n",
      "94\n",
      "95\n",
      "96\n",
      "97\n",
      "98\n",
      "99\n",
      "100\n"
     ]
    }
   ],
   "source": [
    "# Your code here:\n",
    "for number in x:\n",
    "    print(number)"
   ]
  },
  {
   "cell_type": "markdown",
   "id": "dcf5b356",
   "metadata": {},
   "source": [
    "#### Exercise 3: Print all the even numbers in the list from exercise 1"
   ]
  },
  {
   "cell_type": "code",
   "execution_count": 6,
   "id": "01211a98",
   "metadata": {
    "scrolled": true
   },
   "outputs": [
    {
     "name": "stdout",
     "output_type": "stream",
     "text": [
      "[0, 2, 4, 6, 8, 10, 12, 14, 16, 18, 20, 22, 24, 26, 28, 30, 32, 34, 36, 38, 40, 42, 44, 46, 48, 50, 52, 54, 56, 58, 60, 62, 64, 66, 68, 70, 72, 74, 76, 78, 80, 82, 84, 86, 88, 90, 92, 94, 96, 98, 100]\n"
     ]
    }
   ],
   "source": [
    "# Your code here:\n",
    "result = []\n",
    "for i in x:\n",
    "    if i % 2 == 0:\n",
    "        result.append(even_nr)\n",
    "        \n",
    "print(result)\n"
   ]
  },
  {
   "cell_type": "code",
   "execution_count": 8,
   "id": "92eced47",
   "metadata": {},
   "outputs": [
    {
     "name": "stdout",
     "output_type": "stream",
     "text": [
      "0\n",
      "2\n",
      "4\n",
      "6\n",
      "8\n",
      "10\n",
      "12\n",
      "14\n",
      "16\n",
      "18\n",
      "20\n",
      "22\n",
      "24\n",
      "26\n",
      "28\n",
      "30\n",
      "32\n",
      "34\n",
      "36\n",
      "38\n",
      "40\n",
      "42\n",
      "44\n",
      "46\n",
      "48\n",
      "50\n",
      "52\n",
      "54\n",
      "56\n",
      "58\n",
      "60\n",
      "62\n",
      "64\n",
      "66\n",
      "68\n",
      "70\n",
      "72\n",
      "74\n",
      "76\n",
      "78\n",
      "80\n",
      "82\n",
      "84\n",
      "86\n",
      "88\n",
      "90\n",
      "92\n",
      "94\n",
      "96\n",
      "98\n",
      "100\n"
     ]
    }
   ],
   "source": [
    "for number in x:\n",
    "    if number % 2 == 0:\n",
    "        print(number)"
   ]
  },
  {
   "cell_type": "markdown",
   "id": "f6a7d3ca",
   "metadata": {},
   "source": [
    "#### Exercise 4: Print all numbers that are divisible by 2 and 5 in the list from exercise 1"
   ]
  },
  {
   "cell_type": "code",
   "execution_count": 40,
   "id": "870568aa",
   "metadata": {
    "scrolled": true
   },
   "outputs": [
    {
     "name": "stdout",
     "output_type": "stream",
     "text": [
      "0\n",
      "10\n",
      "20\n",
      "30\n",
      "40\n",
      "50\n",
      "60\n",
      "70\n",
      "80\n",
      "90\n",
      "100\n"
     ]
    }
   ],
   "source": [
    "# Your code here:\n",
    "for number in x:\n",
    "    if number % 2 == 0 and number % 5 == 0:\n",
    "        print(number)"
   ]
  },
  {
   "cell_type": "markdown",
   "id": "a1d28fa9",
   "metadata": {},
   "source": [
    "#### Exercise 5: Print all numbers smaller than 100 that are divisible by 7  in the list from exercise 1 (use a while-loop)"
   ]
  },
  {
   "cell_type": "code",
   "execution_count": 14,
   "id": "78daf30f",
   "metadata": {},
   "outputs": [
    {
     "name": "stdout",
     "output_type": "stream",
     "text": [
      "0\n",
      "7\n",
      "14\n",
      "21\n",
      "28\n",
      "35\n",
      "42\n",
      "49\n",
      "56\n",
      "63\n",
      "70\n",
      "77\n",
      "84\n",
      "91\n",
      "98\n"
     ]
    }
   ],
   "source": [
    "# Your code here:\n",
    "counter = 0\n",
    "\n",
    "while counter < 100:\n",
    "\n",
    "    if counter % 7 == 0:\n",
    "        print(counter)\n",
    "\n",
    "    counter += 1\n",
    "    \n",
    "        \n"
   ]
  },
  {
   "cell_type": "markdown",
   "id": "1c06e3db",
   "metadata": {},
   "source": [
    "#### Exercise 6: Print all numbers larger than 10, but smaller than 20 in the list from exercise 1"
   ]
  },
  {
   "cell_type": "code",
   "execution_count": 41,
   "id": "031fa711",
   "metadata": {},
   "outputs": [
    {
     "name": "stdout",
     "output_type": "stream",
     "text": [
      "11\n",
      "12\n",
      "13\n",
      "14\n",
      "15\n",
      "16\n",
      "17\n",
      "18\n",
      "19\n"
     ]
    }
   ],
   "source": [
    "# Your code here:\n",
    "for i in x:\n",
    "    if 10 < i < 20:\n",
    "        print(i)"
   ]
  },
  {
   "cell_type": "markdown",
   "id": "eb7d73d3",
   "metadata": {},
   "source": [
    "#### Exercise 7: Print a sequence of Fibonacci numbers lower than 100. \n",
    "A Fibonnaci sequence is a series of numbers that equal the sum of the two previous numbers in the Fibonnaci sequence (e.g. if the sequence starts with 0 and 1, the next numbers in the sequence are 1 (0+1), 2 (1+1), 3 (2+1), 5 (3+2), 8 (5+3), etc.). To start, set two variables to 0 and 1, and then complete the sequence."
   ]
  },
  {
   "cell_type": "code",
   "execution_count": 16,
   "id": "df47c1c6",
   "metadata": {},
   "outputs": [
    {
     "name": "stdout",
     "output_type": "stream",
     "text": [
      "0\n",
      "1\n",
      "1\n",
      "2\n",
      "3\n",
      "5\n",
      "8\n",
      "13\n",
      "21\n",
      "34\n",
      "55\n",
      "89\n"
     ]
    }
   ],
   "source": [
    "# Your code here:\n",
    "\n",
    "second_to_last = 0\n",
    "last = 1\n",
    "\n",
    "print(second_to_last)\n",
    "print(last)\n",
    "\n",
    "while second_to_last+last < 100:\n",
    "    fibonacci = second_to_last + last\n",
    "    print(fibonacci)\n",
    "    \n",
    "    second_to_last = fibonacci-second_to_last\n",
    "    last = fibonacci"
   ]
  },
  {
   "cell_type": "markdown",
   "id": "054350e7",
   "metadata": {},
   "source": [
    "## 2. Words"
   ]
  },
  {
   "cell_type": "markdown",
   "id": "9238c429",
   "metadata": {},
   "source": [
    "#### Below you can find a toy corpus consisting of the opening lines of the first Harry Potter novel."
   ]
  },
  {
   "cell_type": "code",
   "execution_count": 30,
   "id": "4c385273",
   "metadata": {},
   "outputs": [],
   "source": [
    "corpus = [\"\"\"Mr. and Mrs. Dursley, of number four, Privet Drive, were proud to say that they were perfectly normal, \n",
    "thank you very much.\"\"\", \"\"\"They were the last people you’d expect to be involved in anything strange or mysterious,\n",
    "because they just didn’t hold with such nonsense.\"\"\", \"\"\"Mr. Dursley was the director of a firm called Grunnings,\n",
    "which made drills.\"\"\", \"\"\"He was a big, beefy man with hardly any neck, although he did have a very large mustache.\"\"\",\n",
    "\"\"\"Mrs. Dursley was thin and blonde and had nearly twice the usual amount of neck, \n",
    "which came in very useful as she spent so much of hertime craning over garden fences, spying on the neighbors.\"\"\", \n",
    "\"\"\"The Dursleys had a small son called Dudley and in their opinion there was no finer boy anywhere.\"\"\"]"
   ]
  },
  {
   "cell_type": "code",
   "execution_count": 38,
   "id": "48dabf7c",
   "metadata": {},
   "outputs": [
    {
     "name": "stdout",
     "output_type": "stream",
     "text": [
      "Mr. and Mrs. Dursley, of number four, Privet Drive, were proud to say that they were perfectly normal, \n",
      "thank you very much.\n",
      "They were the last people you’d expect to be involved in anything strange or mysterious,\n",
      "because they just didn’t hold with such nonsense.\n",
      "Mr. Dursley was the director of a firm called Grunnings,\n",
      "which made drills.\n",
      "He was a big, beefy man with hardly any neck, although he did have a very large mustache.\n",
      "Mrs. Dursley was thin and blonde and had nearly twice the usual amount of neck, \n",
      "which came in very useful as she spent so much of hertime craning over garden fences, spying on the neighbors.\n",
      "The Dursleys had a small son called Dudley and in their opinion there was no finer boy anywhere.\n"
     ]
    }
   ],
   "source": [
    "for sentence in corpus:\n",
    "    print(sentence)"
   ]
  },
  {
   "cell_type": "markdown",
   "id": "3b339aca",
   "metadata": {},
   "source": [
    "#### Exercise 1: Count the number of capitalized letters in the entire corpus"
   ]
  },
  {
   "cell_type": "code",
   "execution_count": 43,
   "id": "51fdad52",
   "metadata": {},
   "outputs": [
    {
     "name": "stdout",
     "output_type": "stream",
     "text": [
      "15\n"
     ]
    }
   ],
   "source": [
    "count = 0 \n",
    "for sentence in corpus:\n",
    "    for letter in sentence:\n",
    "        if letter.isupper():\n",
    "            count += 1\n",
    "            \n",
    "print(count)"
   ]
  },
  {
   "cell_type": "code",
   "execution_count": 42,
   "id": "ef8ea87a",
   "metadata": {},
   "outputs": [
    {
     "name": "stdout",
     "output_type": "stream",
     "text": [
      "15\n"
     ]
    }
   ],
   "source": [
    "import string\n",
    "\n",
    "count = 0\n",
    "capitals = string.ascii_uppercase \n",
    "\n",
    "for sentence in corpus:\n",
    "    for letter in sentence:\n",
    "        if letter in capitals:\n",
    "            count += 1\n",
    "        \n",
    "print(count)    "
   ]
  },
  {
   "cell_type": "markdown",
   "id": "d3120d51",
   "metadata": {},
   "source": [
    "#### Exercise 2: Count all words in the corpus."
   ]
  },
  {
   "cell_type": "code",
   "execution_count": 44,
   "id": "2f922cfe",
   "metadata": {},
   "outputs": [
    {
     "name": "stdout",
     "output_type": "stream",
     "text": [
      "129\n"
     ]
    }
   ],
   "source": [
    "# Your code here:\n",
    "\n",
    "count = 0\n",
    "\n",
    "for sentence in corpus:\n",
    "    for token in sentence.split():\n",
    "        count += 1\n",
    "        \n",
    "print(count)"
   ]
  },
  {
   "cell_type": "markdown",
   "id": "a655279d",
   "metadata": {},
   "source": [
    "#### Exercise 3: Count the number of occurrences of the tokens \"Mr.\", \"Mrs.\" and \"Dursley\" (pt. 1)\n",
    "Create three variables that will keep track of the number of occurences of the tokens"
   ]
  },
  {
   "cell_type": "code",
   "execution_count": 46,
   "id": "30ed1290",
   "metadata": {},
   "outputs": [
    {
     "name": "stdout",
     "output_type": "stream",
     "text": [
      "2 2 2\n"
     ]
    }
   ],
   "source": [
    "# Your code here:\n",
    "count_mr = 0\n",
    "count_mrs = 0\n",
    "count_dursley = 0\n",
    "\n",
    "for sentence in corpus:\n",
    "    for token in sentence.split():\n",
    "        if token == \"Mr.\":\n",
    "            count_mr += 1\n",
    "        elif token == \"Mrs.\":\n",
    "            count_mrs += 1\n",
    "        elif token == \"Dursley\":\n",
    "            count_dursley += 1\n",
    "            \n",
    "print(count_mr, count_mrs, count_dursley)"
   ]
  },
  {
   "cell_type": "code",
   "execution_count": 48,
   "id": "251461cd",
   "metadata": {},
   "outputs": [
    {
     "name": "stdout",
     "output_type": "stream",
     "text": [
      "{'Mr.': 2, 'Mrs.': 2, 'Dursley': 2}\n"
     ]
    }
   ],
   "source": []
  },
  {
   "cell_type": "markdown",
   "id": "9f236919",
   "metadata": {},
   "source": [
    "#### Exercise 4: Count the number of occurrences of the tokens \"Mr.\", \"Mrs.\" and \"Dursley\" (pt. 2)\n",
    "Use a dictionary with the words as keys and the number of occurences as values"
   ]
  },
  {
   "cell_type": "code",
   "execution_count": 11,
   "id": "1b6e04f0",
   "metadata": {},
   "outputs": [
    {
     "name": "stdout",
     "output_type": "stream",
     "text": [
      "{'Mr.': 2, 'Mrs.': 2, 'Dursley': 2}\n"
     ]
    }
   ],
   "source": [
    "# Your code here:\n",
    "counts_dic = {\"Mr.\": 0, \"Mrs.\": 0, \"Dursley\": 0}\n",
    "\n",
    "for sentence in corpus:\n",
    "    for token in sentence.split():\n",
    "        if token in counts_dic.keys():\n",
    "            counts_dic[token] += 1\n",
    "            \n",
    "print(counts_dic)"
   ]
  },
  {
   "cell_type": "markdown",
   "id": "fb1d45cc",
   "metadata": {},
   "source": [
    "#### Exercise 5: Print the average number of words per sentence"
   ]
  },
  {
   "cell_type": "code",
   "execution_count": 12,
   "id": "e5bdcd78",
   "metadata": {},
   "outputs": [
    {
     "name": "stdout",
     "output_type": "stream",
     "text": [
      "21.5\n"
     ]
    }
   ],
   "source": [
    "# Your code here:\n",
    "n_words = 0\n",
    "n_sentences = 0\n",
    "\n",
    "for s in corpus:\n",
    "    n_sentences += 1\n",
    "    for t in s.split():\n",
    "        n_words += 1\n",
    "        \n",
    "print(n_words/n_sentences)"
   ]
  },
  {
   "cell_type": "markdown",
   "id": "16c35d49",
   "metadata": {},
   "source": [
    "## 3. Cooking pancakes"
   ]
  },
  {
   "cell_type": "markdown",
   "id": "3d1c68ea",
   "metadata": {},
   "source": [
    "#### Below you can find a shopping list for pancakes"
   ]
  },
  {
   "cell_type": "code",
   "execution_count": 49,
   "id": "def7ae74",
   "metadata": {},
   "outputs": [],
   "source": [
    "shopping_list = ['flour', 'sugar', 'eggs', 'milk', 'butter', 'vanilla']"
   ]
  },
  {
   "cell_type": "markdown",
   "id": "bc1c8149",
   "metadata": {},
   "source": [
    "#### Exercise 1: Print a shopping list\n",
    "- Loop over the items in the shopping list\n",
    "- Print all items\n",
    "- Use \"continue\" to skip the eggs; you still have eggs at home"
   ]
  },
  {
   "cell_type": "code",
   "execution_count": 50,
   "id": "57438de9",
   "metadata": {},
   "outputs": [
    {
     "name": "stdout",
     "output_type": "stream",
     "text": [
      "flour\n",
      "sugar\n",
      "milk\n",
      "butter\n",
      "vanilla\n"
     ]
    }
   ],
   "source": [
    "# Your code here:\n",
    "for item in shopping_list:\n",
    "    if item == 'eggs':\n",
    "        continue\n",
    "    print(item)"
   ]
  },
  {
   "cell_type": "markdown",
   "id": "1f457fcc",
   "metadata": {},
   "source": [
    "#### Exercise 2: Time to cook! \n",
    "- Loop over the ingredients\n",
    "- Print \"Add {ingredient} to bowl\"\n",
    "- Skip the milk for now using \"continue\""
   ]
  },
  {
   "cell_type": "code",
   "execution_count": 12,
   "id": "81fa58da",
   "metadata": {},
   "outputs": [],
   "source": [
    "# Your code here:\n",
    "for item in shopping_list:\n",
    "    if item == 'milk':\n",
    "        continue\n",
    "    print(f\"Add {item} to bowl\")"
   ]
  },
  {
   "cell_type": "markdown",
   "id": "da07b78f",
   "metadata": {},
   "source": [
    "#### Exercise 3: Add the milk in steps of 100ml\n",
    "- First create a variable that says how much ml you added (starting with 0)\n",
    "- Initiate a loop that stops of you added 450ml of milk or more\n",
    "- Use the loop to add milk in steps of 100ml\n",
    "- At each step, test whether you used more than 450ml in total\n",
    "- Break the loop if this is the case and print \"You used too much milk!\""
   ]
  },
  {
   "cell_type": "code",
   "execution_count": 52,
   "id": "24a9d58a",
   "metadata": {},
   "outputs": [
    {
     "name": "stdout",
     "output_type": "stream",
     "text": [
      "You used too much milk!\n"
     ]
    }
   ],
   "source": [
    "# Your code here:\n",
    "milk_added = 0\n",
    "\n",
    "while milk_added <= 450:\n",
    "    milk_added += 100\n",
    "    if milk_added > 450:\n",
    "        print('You used too much milk!')\n",
    "        break"
   ]
  },
  {
   "cell_type": "code",
   "execution_count": null,
   "id": "8eb02afc",
   "metadata": {},
   "outputs": [],
   "source": []
  }
 ],
 "metadata": {
  "kernelspec": {
   "display_name": "Python 3",
   "language": "python",
   "name": "python3"
  },
  "language_info": {
   "codemirror_mode": {
    "name": "ipython",
    "version": 3
   },
   "file_extension": ".py",
   "mimetype": "text/x-python",
   "name": "python",
   "nbconvert_exporter": "python",
   "pygments_lexer": "ipython3",
   "version": "3.8.8"
  }
 },
 "nbformat": 4,
 "nbformat_minor": 5
}
