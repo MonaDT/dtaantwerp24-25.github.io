{
 "cells": [
  {
   "attachments": {},
   "cell_type": "markdown",
   "metadata": {},
   "source": [
    "# Exercise notebook 10 - Functional programming and list comprehension"
   ]
  },
  {
   "attachments": {},
   "cell_type": "markdown",
   "metadata": {},
   "source": [
    "This exercise notebook complements the notebook of **functional programming and list comprehension**. <br> Use this [notebook](https://github.com/dtaantwerp/dtaantwerp.github.io/blob/53c91013df4514a943a9fad441fb5f28dc6f6bab/notebooks/11_W2_Fri_Functional_Programming_List_Comprehensions.ipynb) for a complete explanation of the theory.\n",
    "\n",
    "Try to prepare the <ins>underlined exercises</ins> for the exercise session. \n",
    "\n",
    "==============================================================================="
   ]
  },
  {
   "attachments": {},
   "cell_type": "markdown",
   "metadata": {},
   "source": [
    "## Recursive functions"
   ]
  },
  {
   "attachments": {},
   "cell_type": "markdown",
   "metadata": {},
   "source": [
    "1. <ins> Write a recursive function counts down from an integer (input) to zero and prints \"Happy new year!\" instead of 0."
   ]
  },
  {
   "cell_type": "code",
   "execution_count": null,
   "metadata": {},
   "outputs": [],
   "source": [
    "#SOLUTION\n",
    "\n",
    "def rec_func(i):\n",
    "    print(i)\n",
    "    if i == 1:\n",
    "        print(\"Happy New Year!\")\n",
    "        return\n",
    "    rec_func(i - 1)\n",
    "\n",
    "rec_func(10)"
   ]
  },
  {
   "attachments": {},
   "cell_type": "markdown",
   "metadata": {},
   "source": [
    "1. <ins> Create a recursive function that immitates a factorial !  <br>\n",
    "e.g. the factorial of 5 = 1 * 2 * 3 * 4 * 5 = 120"
   ]
  },
  {
   "cell_type": "code",
   "execution_count": null,
   "metadata": {},
   "outputs": [],
   "source": [
    "#SOLUTION\n",
    "def factorial(x):\n",
    "    if x == 1: \n",
    "        return 1\n",
    "\n",
    "    else: \n",
    "        return(x * factorial(x-1))\n",
    "\n",
    "print(factorial(5))"
   ]
  },
  {
   "attachments": {},
   "cell_type": "markdown",
   "metadata": {},
   "source": [
    "## List comprehension\n",
    "**Try to solve all the exercises by making use of list comprehensions!**"
   ]
  },
  {
   "attachments": {},
   "cell_type": "markdown",
   "metadata": {},
   "source": [
    "3. Create a list of numbers from 1 to 20. The result should be a list."
   ]
  },
  {
   "cell_type": "code",
   "execution_count": null,
   "metadata": {},
   "outputs": [],
   "source": [
    "#SOLUTION\n",
    "nrs = [nr for nr in range(1, 21) ]\n",
    "nrs"
   ]
  },
  {
   "attachments": {},
   "cell_type": "markdown",
   "metadata": {},
   "source": [
    "4. Split a sentence into tokens and uppercase the first letter of each word, result is a list"
   ]
  },
  {
   "cell_type": "code",
   "execution_count": null,
   "metadata": {},
   "outputs": [],
   "source": [
    "sentence = 'A person who was invisible wouldn’t be able to see anything'\n",
    "\n",
    "#SOLUTION\n",
    "\n",
    "token = [word.capitalize() for word in sentence.split()]\n",
    "print(token)"
   ]
  },
  {
   "attachments": {},
   "cell_type": "markdown",
   "metadata": {},
   "source": [
    "5. <ins> Tokenize a corpus, but keep only words longer than 3 characters, result is a list of tokens."
   ]
  },
  {
   "cell_type": "code",
   "execution_count": null,
   "metadata": {},
   "outputs": [],
   "source": [
    "sentences = [\"This is a sentence .\", \"This is another sentence .\", \"This is the final sentence .\"]\n",
    "\n",
    "#SOLUTION\n",
    "\n",
    "result = [word for sentence in sentences for word in sentence.split() if len(word) > 3]\n",
    "print(result)"
   ]
  },
  {
   "attachments": {},
   "cell_type": "markdown",
   "metadata": {},
   "source": [
    "6. <ins>Tokenize a corpus, but keep only words longer than 3 characters. Tokens that are not longer than 3 characters should be replaced with the string 'stop_word'. <br> Result is a list of tokens"
   ]
  },
  {
   "cell_type": "code",
   "execution_count": null,
   "metadata": {},
   "outputs": [],
   "source": [
    "sentences = [\"This is a sentence .\", \"This is another sentence .\", \"This is the final sentence .\"]\n",
    "\n",
    "#SOLUTION\n",
    "\n",
    "result = [word if len(word) > 3 else 'stop_word' for sentence in sentences for word in sentence.split()]\n",
    "print(result)"
   ]
  },
  {
   "attachments": {},
   "cell_type": "markdown",
   "metadata": {},
   "source": [
    "7. Split a sentence into tokens and map them to position indices, result is a dictionary with indices as keys and tokens as values.\n",
    "\n"
   ]
  },
  {
   "cell_type": "code",
   "execution_count": null,
   "metadata": {},
   "outputs": [],
   "source": [
    "a_string = 'In the 19th century it was fashionable in New York City for women to wear live lizards as brooches.'\n",
    "\n",
    "#SOLUTION\n",
    "\n",
    "result = {index: token for token, index in enumerate(a_string.split())}\n",
    "print(result)"
   ]
  },
  {
   "attachments": {},
   "cell_type": "markdown",
   "metadata": {},
   "source": [
    "8. Zip a list of even numbers and a list of odd numbers from 0 to 100\n",
    "- First create a list of even numbers between 0 and 100 using range() in a list comprehension\n",
    "- Then do the same for odd numbers\n",
    "- Finally, create a new list that contains the sum of the zipped numbers in the two lists created above, but only if that sum is divisible by 3"
   ]
  },
  {
   "cell_type": "code",
   "execution_count": null,
   "metadata": {},
   "outputs": [],
   "source": [
    "#SOLUTION\n",
    "\n",
    "evens = [nr for nr in range(0, 101) if nr%2 == 0]\n",
    "odds =  [nr for nr in range(0, 101) if nr%2 == 1]\n",
    "\n",
    "result = [e + o for e, o in zip(evens, odds) if  (e + o) %3 == 0]\n",
    "print(result)"
   ]
  },
  {
   "attachments": {},
   "cell_type": "markdown",
   "metadata": {},
   "source": [
    "## Functions as function arguments"
   ]
  },
  {
   "attachments": {},
   "cell_type": "markdown",
   "metadata": {},
   "source": [
    "9. Write a function that takes a numpy array of numbers and a mathematical function (multiply or divide) as its arguments\n",
    "- Import numpy and create an array to test the function on\n",
    "- Ask the user the question \"Would you like to multiply or divide the input numbers?\"\n",
    "- Ask the user the question \"By which number?\"\n",
    "- Write three functions\n",
    "    - \"Divide\", which prints the array divided by the input number\n",
    "    - \"Multiply\", which prints the array multiplied by the input number\n",
    "    - \"Calculate\", that takes an array as input and asks the user which operation the function should perform (multiply or divide) an by which number. Use booleans and conditional statements to determine which function this should be."
   ]
  },
  {
   "cell_type": "code",
   "execution_count": null,
   "metadata": {},
   "outputs": [],
   "source": [
    "#Import numpy and create an array\n",
    "import numpy as np\n",
    "array = np.array([0,8,6,6,7,9])"
   ]
  },
  {
   "cell_type": "code",
   "execution_count": null,
   "metadata": {},
   "outputs": [],
   "source": [
    "#SOLUTION\n",
    "\n",
    "def divide (array, nr2):\n",
    "    return array/nr2\n",
    "\n",
    "def multiply (array, nr2):\n",
    "    return array * nr2\n",
    "    \n",
    "def calulate (array):\n",
    "    operation = input('Do you want to divide or multiply?')\n",
    "    nr2 = int(input(f'by what number do you want to {operation}'))\n",
    "    if operation.lower() == 'multiply':\n",
    "        return multiply(array, nr2)\n",
    "    if operation.lower() == 'divide':\n",
    "        return divide(array, nr2)\n",
    "    else:\n",
    "        return 'invalid input'\n",
    "\n",
    "calulate(array)"
   ]
  },
  {
   "attachments": {},
   "cell_type": "markdown",
   "metadata": {},
   "source": [
    "10. Make a filter that extracts all vowels from a string by making use of the predifined `filter()` function.\n",
    "- first create a function that checks if a letter is a vowel (using list comprehension).\n",
    "- Then create a filter that extracts the vowels from a string"
   ]
  },
  {
   "cell_type": "code",
   "execution_count": null,
   "metadata": {},
   "outputs": [],
   "source": [
    "x = 'Antidisestablishmentarianism'\n",
    "\n",
    "#SOLTION\n",
    "\n",
    "def is_vowel(a_string):\n",
    "    return [True for char in a_string if char in 'aeiou']\n",
    "\n",
    "print(list(filter(is_vowel, x)))\n"
   ]
  },
  {
   "attachments": {},
   "cell_type": "markdown",
   "metadata": {},
   "source": [
    "11. Make a filter that extracts all words longer than five characters from a list of tokens."
   ]
  },
  {
   "cell_type": "code",
   "execution_count": null,
   "metadata": {},
   "outputs": [],
   "source": [
    "nouns = ['Car', 'Tree', 'Elephant', 'House', 'Guitar', 'Mountain', 'Computer', 'Book', 'River', 'Bicycle']\n",
    "\n",
    "#SOLUTION\n",
    "\n",
    "def is_long (word):\n",
    "    if len(word) > 5:\n",
    "        return word\n",
    "\n",
    "print(list(filter(is_long, nouns)))"
   ]
  },
  {
   "attachments": {},
   "cell_type": "markdown",
   "metadata": {},
   "source": [
    "12. Create a function that takes a number as argument and returns the square of that number. Use that function to map a list of numbers to a list of the square of those numbers using the `map()` function."
   ]
  },
  {
   "cell_type": "code",
   "execution_count": null,
   "metadata": {},
   "outputs": [],
   "source": [
    "numbers = [4, 2, 5, 3, 9]\n",
    "\n",
    "#SOLUTION\n",
    "\n",
    "def squares (number):\n",
    "    return number ** 2\n",
    "\n",
    "print(list(map(squares, numbers)))"
   ]
  },
  {
   "attachments": {},
   "cell_type": "markdown",
   "metadata": {},
   "source": [
    "13. Create a function that takes a string as argument and returns its length. Use that function to map a list of strings to a list of the lengths of those strings."
   ]
  },
  {
   "cell_type": "code",
   "execution_count": null,
   "metadata": {},
   "outputs": [],
   "source": [
    "nouns = ['Car', 'Tree', 'Elephant', 'House', 'Guitar', 'Mountain', 'Computer', 'Book', 'River', 'Bicycle']\n",
    "\n",
    "#SOLUTION\n",
    "\n",
    "def my_len (a_string):\n",
    "    return (len(a_string))\n",
    "\n",
    "print(list(map(my_len, nouns)))"
   ]
  },
  {
   "attachments": {},
   "cell_type": "markdown",
   "metadata": {},
   "source": [
    "14. Create a lambda function that accepts two integers as input and returns the product of those integers."
   ]
  },
  {
   "cell_type": "code",
   "execution_count": null,
   "metadata": {},
   "outputs": [],
   "source": [
    "#SOLUTION\n",
    "\n",
    "product = lambda x, y : x*y \n",
    "print(product(4, 8))"
   ]
  },
  {
   "attachments": {},
   "cell_type": "markdown",
   "metadata": {},
   "source": [
    "15. Write a lambda function that takes a list of tuples as an argument, where each tuple contains two numbers, and returns a new list containing the result of adding the two numbers in each tuple. Use a list comprehension to solve this."
   ]
  },
  {
   "cell_type": "code",
   "execution_count": null,
   "metadata": {},
   "outputs": [],
   "source": [
    "x = [(8,9), (8, 2), (7, 4), (7, 5)]\n",
    "\n",
    "#SOLUTION\n",
    "\n",
    "f = lambda t: [t[0] + t[1] for t in x]\n",
    "f(x)\n",
    "\n"
   ]
  },
  {
   "attachments": {},
   "cell_type": "markdown",
   "metadata": {},
   "source": [
    "16. Create a filter that accepts a lambda function and a list of numers as input and that returns all even numbers."
   ]
  },
  {
   "cell_type": "code",
   "execution_count": null,
   "metadata": {},
   "outputs": [],
   "source": [
    "nrs = [4, 907, 53, 986, 78, 4523, 9]\n",
    "\n",
    "#SOLUTION\n",
    "\n",
    "f = lambda nrs : [nr for nr in nrs if nr%2 ==0]\n",
    "\n",
    "f(nrs)"
   ]
  },
  {
   "attachments": {},
   "cell_type": "markdown",
   "metadata": {},
   "source": [
    "17. Create a list of all the palindromic numbers between 1 and 1000 using list comprehension (e.g. 11, 22, 33 )<br>\n",
    "- Make sure you exclude numbers that only have one digit."
   ]
  },
  {
   "cell_type": "code",
   "execution_count": null,
   "metadata": {},
   "outputs": [],
   "source": [
    "#SOLUTION\n",
    "x = [nr for nr in range(0, 100) if str(nr)[0] == str(nr)[-1] and len(str(nr)) != 1]\n",
    "print(x)"
   ]
  },
  {
   "attachments": {},
   "cell_type": "markdown",
   "metadata": {},
   "source": [
    "18. Define two functions: one that multiplies and one that adds. \n",
    "- Define a third function that takes three numbers as an argument. The function should first multiply the two numbers and then add the third number to the product"
   ]
  },
  {
   "cell_type": "code",
   "execution_count": null,
   "metadata": {},
   "outputs": [],
   "source": [
    "#SOLUTION\n",
    "\n",
    "def add(x, y):\n",
    "    return x + y\n",
    "\n",
    "def multiply(x, y):\n",
    "    return x * y\n",
    "\n",
    "def add_and_multiply(x, y, z):\n",
    "    result = add(x, y)\n",
    "    result = multiply(result, z)\n",
    "    return result\n",
    "\n",
    "add_and_multiply(2, 3, 4)"
   ]
  },
  {
   "attachments": {},
   "cell_type": "markdown",
   "metadata": {},
   "source": [
    "19. Create a function that takes a booleaon and a string as a value.\n",
    "- Make sure that the function counts all the vowels of the string if the boolean is True.\n",
    "- Make sure that the function counts all the consonants of the string if the boolan is False."
   ]
  },
  {
   "cell_type": "code",
   "execution_count": null,
   "metadata": {},
   "outputs": [],
   "source": [
    "#SOLUTION\n",
    "\n",
    "def counts (a_string, a_bool):\n",
    "    output = 0\n",
    "    for char in a_string:\n",
    "        if a_bool == True:\n",
    "            if char in 'aeiou':\n",
    "                output += 1\n",
    "        if a_bool == False:\n",
    "            if char in 'bcdfghjklmnpqrstvw':\n",
    "                output += 1\n",
    "        \n",
    "\n",
    "    return f'there are {output} consonants/vowels in the string'"
   ]
  },
  {
   "attachments": {},
   "cell_type": "markdown",
   "metadata": {},
   "source": [
    "20. Create a function that takes a list of strings as input and returns the lenght of each string, without using a for-loop."
   ]
  },
  {
   "cell_type": "code",
   "execution_count": null,
   "metadata": {},
   "outputs": [],
   "source": [
    "nouns = ['Car', 'Tree', 'Elephant', 'House', 'Guitar', 'Mountain', 'Computer', 'Book', 'River', 'Bicycle']\n",
    "\n",
    "#SOLUTION\n",
    "\n",
    "def get_len(a_list):\n",
    "    return print(list(map(len, a_list)))\n",
    "\n",
    "get_len(nouns)"
   ]
  }
 ],
 "metadata": {
  "kernelspec": {
   "display_name": "base",
   "language": "python",
   "name": "python3"
  },
  "language_info": {
   "codemirror_mode": {
    "name": "ipython",
    "version": 3
   },
   "file_extension": ".py",
   "mimetype": "text/x-python",
   "name": "python",
   "nbconvert_exporter": "python",
   "pygments_lexer": "ipython3",
   "version": "3.9.13"
  },
  "orig_nbformat": 4,
  "vscode": {
   "interpreter": {
    "hash": "96e0a4d32f1918f770291244863a4a1e044b05d1a3b8d455e2e179187e01062a"
   }
  }
 },
 "nbformat": 4,
 "nbformat_minor": 2
}
