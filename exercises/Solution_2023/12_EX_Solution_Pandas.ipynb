{
 "cells": [
  {
   "attachments": {},
   "cell_type": "markdown",
   "metadata": {},
   "source": [
    "# Exercise notebook 12 - Pandas Data Analysis"
   ]
  },
  {
   "attachments": {},
   "cell_type": "markdown",
   "metadata": {},
   "source": [
    "This exercise notebook complements the notebook of **pandas data analysis**. <br> Use this [notebook](https://github.com/dtaantwerp/dtaantwerp.github.io/blob/53c91013df4514a943a9fad441fb5f28dc6f6bab/notebooks/14_W3_Wed_Pandas.ipynb) for a complete explanation of the theory.\n",
    "\n",
    "Try to prepare the <ins>underlined exercises</ins> for the exercise session. \n",
    "\n",
    "==============================================================================="
   ]
  },
  {
   "attachments": {},
   "cell_type": "markdown",
   "metadata": {},
   "source": [
    "Before we can do anything we have to import pandas.\n",
    "\n",
    "1. <ins> Import pandas."
   ]
  },
  {
   "cell_type": "code",
   "execution_count": null,
   "metadata": {},
   "outputs": [],
   "source": [
    "#SOLUTION\n",
    "import pandas as pd"
   ]
  },
  {
   "attachments": {},
   "cell_type": "markdown",
   "metadata": {},
   "source": [
    "2. <ins>Import the dataframe  311-service-requests.csv"
   ]
  },
  {
   "cell_type": "code",
   "execution_count": null,
   "metadata": {},
   "outputs": [],
   "source": [
    "#SOLUTION\n",
    "df = pd.read_csv('311-service-requests.csv')"
   ]
  },
  {
   "attachments": {},
   "cell_type": "markdown",
   "metadata": {},
   "source": [
    "3. <ins> Now we'll do some preliminary exploring:\n",
    "    1.  print the first 5 rows.\n",
    "    2. print the last 2 rows.\n",
    "    3. check the shape of the df\n",
    "    4. print the column names.\n",
    "    5. check the datatypes of the columns.\n",
    "    6. Check the general info of the df."
   ]
  },
  {
   "cell_type": "code",
   "execution_count": null,
   "metadata": {},
   "outputs": [],
   "source": [
    "#SOLUTION for A\n",
    "df.head()"
   ]
  },
  {
   "cell_type": "code",
   "execution_count": null,
   "metadata": {},
   "outputs": [],
   "source": [
    "#SOLUTION for B\n",
    "df.tail(2)"
   ]
  },
  {
   "cell_type": "code",
   "execution_count": null,
   "metadata": {},
   "outputs": [],
   "source": [
    "#SOLUTION for C\n",
    "df.shape"
   ]
  },
  {
   "cell_type": "code",
   "execution_count": null,
   "metadata": {},
   "outputs": [],
   "source": [
    "#SOLUTION for D\n",
    "df.columns"
   ]
  },
  {
   "cell_type": "code",
   "execution_count": null,
   "metadata": {},
   "outputs": [],
   "source": [
    "#SOLUTION for E\n",
    "df.dtypes"
   ]
  },
  {
   "cell_type": "code",
   "execution_count": null,
   "metadata": {},
   "outputs": [],
   "source": [
    "#SOLUTION for F\n",
    "df.info()"
   ]
  },
  {
   "attachments": {},
   "cell_type": "markdown",
   "metadata": {},
   "source": [
    "4. <ins>Print the earliest and most recent date of the 'Created Date' column.\n"
   ]
  },
  {
   "cell_type": "code",
   "execution_count": null,
   "metadata": {},
   "outputs": [],
   "source": [
    "#SOLUTION\n",
    "print(df['Created Date'].min())\n",
    "print(df['Created Date'].max())"
   ]
  },
  {
   "attachments": {},
   "cell_type": "markdown",
   "metadata": {},
   "source": [
    "5. <ins> Selecting columns\n",
    "- Slice columns \"Agency\" and \"Agency Name\"\n",
    "- Use .loc to select the columns \"Agency\" and \"Agency Name\""
   ]
  },
  {
   "cell_type": "code",
   "execution_count": null,
   "metadata": {},
   "outputs": [],
   "source": [
    "#SOLUTION\n",
    "df[['Agency', 'Agency Name']]"
   ]
  },
  {
   "cell_type": "code",
   "execution_count": null,
   "metadata": {},
   "outputs": [],
   "source": [
    "#SOLUTION\n",
    "df.loc[:,['Agency', 'Agency Name']]"
   ]
  },
  {
   "attachments": {},
   "cell_type": "markdown",
   "metadata": {},
   "source": [
    "6. <ins>Selecting rows\n",
    "    1. Slice the first 10 rows\n",
    "    2. Use .iloc to select the first 10 rows\n",
    "    3. Use .iloc to select the value in row 10, column 5\n",
    "    4. Use boolean indexing to select rows for which \"Agency\" equals \"NYPD\""
   ]
  },
  {
   "cell_type": "code",
   "execution_count": null,
   "metadata": {},
   "outputs": [],
   "source": [
    "#SOLUTION nr 1\n",
    "df[0:10]\n",
    "\n",
    "#SOLUTION nr 2\n",
    "df.iloc[0:10]\n",
    "\n",
    "#SOLUTION nr 3\n",
    "df.iloc[10, 5]\n",
    "\n",
    "#SOLUTION nr 4\n",
    "NYPD = df[df['Agency']== 'NYPD']"
   ]
  },
  {
   "attachments": {},
   "cell_type": "markdown",
   "metadata": {},
   "source": [
    "7. `Apply()` is used to apply a function to each row or column of a pandas DataFrame or Series. It takes a function as an argument and applies it to every element of the DataFrame or Series. <ins>Use apply() and lambda to lowercase all agency names"
   ]
  },
  {
   "cell_type": "code",
   "execution_count": null,
   "metadata": {},
   "outputs": [],
   "source": [
    "#SOLUTION\n",
    "df['Agency Name'] = df['Agency Name'].apply(lambda x : x.lower())\n",
    "\n",
    "#Check if it worked\n",
    "df.head()"
   ]
  },
  {
   "attachments": {},
   "cell_type": "markdown",
   "metadata": {},
   "source": [
    "8. Remove the open cases from the dataframe. I.e. all the rows where 'Closed Date' is NaN.\n",
    "- How many rows were removed?"
   ]
  },
  {
   "cell_type": "code",
   "execution_count": null,
   "metadata": {},
   "outputs": [],
   "source": [
    "#SOLUTION\n",
    "\n",
    "old_len = len(df)\n",
    "df = df.dropna(subset=['Closed Date'])\n",
    "print(f'We lost {old_len-len(df)} rows, {len(df)} rows remain.')"
   ]
  },
  {
   "attachments": {},
   "cell_type": "markdown",
   "metadata": {},
   "source": [
    "9. <ins>How many complaint types are there?\n",
    "- How many complaints does the most common complaint type have?\n",
    "- Plot a horizontal bar chart of the top 10 most common complaints."
   ]
  },
  {
   "cell_type": "code",
   "execution_count": null,
   "metadata": {},
   "outputs": [],
   "source": [
    "#SOLUTION\n",
    "\n",
    "print(len(df['Complaint Type'].value_counts())) \n",
    "# there are 136 different complaint types\n",
    "\n",
    "print(df['Complaint Type'].value_counts().head(1))\n",
    "#the most common complaint type, with a whopping 6704 complaints, is heating.\n",
    "\n",
    "df['Complaint Type'].value_counts().head(10).plot(kind= 'barh');"
   ]
  },
  {
   "attachments": {},
   "cell_type": "markdown",
   "metadata": {},
   "source": [
    "10. <ins> dealing with duplicates\n",
    "- Remove all duplicate rows from the complaints data frame (keep first)\n",
    "- Remove all rows with duplicate agencies (keep last)\n",
    "- Can you drop duplicate rows using the \"inplace\" argument?"
   ]
  },
  {
   "cell_type": "code",
   "execution_count": null,
   "metadata": {},
   "outputs": [],
   "source": [
    "#SOLUTION\n",
    "\n",
    "df.drop_duplicates()#keep the first instance is the default.\n",
    "df['Agency'].drop_duplicates(keep='last', inplace=True) \n",
    "#without inplace you would have to do df = df['Agency'].drop_duplicates(keep='last')"
   ]
  },
  {
   "attachments": {},
   "cell_type": "markdown",
   "metadata": {},
   "source": [
    "11. Which Agency has dealt with the most noise complaints?"
   ]
  },
  {
   "cell_type": "code",
   "execution_count": null,
   "metadata": {},
   "outputs": [],
   "source": [
    "#SOLUTION\n",
    "\n",
    "noise = df[df['Complaint Type'].str.contains(\"Noise\")]\n",
    "noise['Agency'].value_counts()\n",
    "\n",
    "#the NYPD"
   ]
  },
  {
   "attachments": {},
   "cell_type": "markdown",
   "metadata": {},
   "source": [
    "12. Convert the Created Date and Closed Date column to dtype datetime. "
   ]
  },
  {
   "cell_type": "code",
   "execution_count": null,
   "metadata": {},
   "outputs": [],
   "source": [
    "#SOLUTION \n",
    "\n",
    "df['Created Date']  = pd.to_datetime(df['Created Date'])\n",
    "df['Closed Date']  = pd.to_datetime(df['Closed Date'])"
   ]
  },
  {
   "attachments": {},
   "cell_type": "markdown",
   "metadata": {},
   "source": [
    "13. Create a new column in which you store the weekday of the Created Date's complaint."
   ]
  },
  {
   "cell_type": "code",
   "execution_count": null,
   "metadata": {},
   "outputs": [],
   "source": [
    "#SOLUTION\n",
    "\n",
    "df['Weekday'] = df['Created Date'].dt.weekday #this is only possible if the columns are converted to datetime."
   ]
  },
  {
   "attachments": {},
   "cell_type": "markdown",
   "metadata": {},
   "source": [
    "14. Replace the values in the df so that the correct number corresponds to the correct weekday, i.e. 0 : Monday, 1: Tuesday..."
   ]
  },
  {
   "cell_type": "code",
   "execution_count": null,
   "metadata": {},
   "outputs": [],
   "source": [
    "#SOLUTION\n",
    "\n",
    "df['Weekday'] = df['Weekday'].replace({0: 'Monday', 1: 'Tuesday', 2:'Wednesday', 3:'Thursday', 4 : 'Friday', 5: 'Saturday', 6: 'Sunday'})\n",
    "df['Weekday'].sample(10)"
   ]
  },
  {
   "attachments": {},
   "cell_type": "markdown",
   "metadata": {},
   "source": [
    "15. Plot the weekdays. On which day of the week are the most complaints created?"
   ]
  },
  {
   "cell_type": "code",
   "execution_count": null,
   "metadata": {},
   "outputs": [],
   "source": [
    "#SOLUTION\n",
    "\n",
    "df['Weekday'].value_counts().plot(kind='bar');\n",
    "#On Tuesday"
   ]
  },
  {
   "attachments": {},
   "cell_type": "markdown",
   "metadata": {},
   "source": [
    "16. <ins>import matplotlib.pyplot as plt and plot a simple line chart based on the arrays below."
   ]
  },
  {
   "cell_type": "code",
   "execution_count": null,
   "metadata": {},
   "outputs": [],
   "source": [
    "x = [1, 2, 3, 4, 5]\n",
    "y = [10, 8, 6, 4, 2]\n",
    "\n",
    "#SOLUTION\n",
    "\n",
    "import matplotlib.pyplot as plt\n",
    "plt.plot(x, y)\n",
    "plt.show()"
   ]
  },
  {
   "attachments": {},
   "cell_type": "markdown",
   "metadata": {},
   "source": [
    "17. Create a plot where you plot the two arrays (y1 and y2) on the y-axis.\n",
    "- Include a legend."
   ]
  },
  {
   "cell_type": "code",
   "execution_count": null,
   "metadata": {},
   "outputs": [],
   "source": [
    "x = [1, 2, 3, 4, 5]\n",
    "y1 = [10, 8, 6, 4, 2]\n",
    "y2 = [2, 4, 6, 8, 10]\n",
    "\n",
    "#SOLUTION\n",
    "\n",
    "plt.plot(x, y1)\n",
    "plt.plot(x,  y2)\n",
    "plt.legend(['Line 1', 'Line 2'])\n",
    "plt.show()"
   ]
  },
  {
   "attachments": {},
   "cell_type": "markdown",
   "metadata": {},
   "source": [
    "18. <ins> Create a scatter plot of the latitude and longitude column in the df.\n"
   ]
  },
  {
   "cell_type": "code",
   "execution_count": null,
   "metadata": {},
   "outputs": [],
   "source": [
    "#SOLUTION\n",
    "\n",
    "x = df['Latitude']\n",
    "y = df['Longitude']\n",
    "\n",
    "plt.scatter(x,y);"
   ]
  },
  {
   "attachments": {},
   "cell_type": "markdown",
   "metadata": {},
   "source": [
    "19. In which city are the most complaints recorded.\n",
    "- Plot the top 5 cities."
   ]
  },
  {
   "cell_type": "code",
   "execution_count": null,
   "metadata": {},
   "outputs": [],
   "source": [
    "#SOLUTION \n",
    "\n",
    "df['City'].value_counts().head(5).plot(kind='bar')\n",
    "#Brooklyn"
   ]
  },
  {
   "attachments": {},
   "cell_type": "markdown",
   "metadata": {},
   "source": [
    "20. Plot the coordinates of all the complaints that were recorded in the Bronx.\n",
    "- What happens if you add an argument 'alpha' and set it to 0.2 ?\n",
    "- Add a title to your plot."
   ]
  },
  {
   "cell_type": "code",
   "execution_count": null,
   "metadata": {},
   "outputs": [],
   "source": [
    "#SOLUTION\n",
    "\n",
    "Bronx = df[df['City']=='BRONX']\n",
    "x = Bronx['Latitude']\n",
    "y = Bronx['Longitude']\n",
    "\n",
    "plt.scatter(x,y, alpha = 0.2);\n",
    "plt.title('Coordinates of the recorded complaints in the Bronx');"
   ]
  }
 ],
 "metadata": {
  "kernelspec": {
   "display_name": "base",
   "language": "python",
   "name": "python3"
  },
  "language_info": {
   "codemirror_mode": {
    "name": "ipython",
    "version": 3
   },
   "file_extension": ".py",
   "mimetype": "text/x-python",
   "name": "python",
   "nbconvert_exporter": "python",
   "pygments_lexer": "ipython3",
   "version": "3.9.13"
  },
  "orig_nbformat": 4,
  "vscode": {
   "interpreter": {
    "hash": "96e0a4d32f1918f770291244863a4a1e044b05d1a3b8d455e2e179187e01062a"
   }
  }
 },
 "nbformat": 4,
 "nbformat_minor": 2
}
