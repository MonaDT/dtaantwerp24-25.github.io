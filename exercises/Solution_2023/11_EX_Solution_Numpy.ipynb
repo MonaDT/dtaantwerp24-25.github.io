{
 "cells": [
  {
   "attachments": {},
   "cell_type": "markdown",
   "metadata": {},
   "source": [
    "# Exercise notebook 11 - Mathematical notations and Numpy"
   ]
  },
  {
   "attachments": {},
   "cell_type": "markdown",
   "metadata": {},
   "source": [
    "This exercise notebook complements the notebook of **mathematical notations and numpy**. <br> Use this [notebook](https://github.com/dtaantwerp/dtaantwerp.github.io/blob/53c91013df4514a943a9fad441fb5f28dc6f6bab/notebooks/12_W3_Mon_Numpy.ipynb) for a complete explanation of the theory.\n",
    "\n",
    "Try to prepare the <ins>underlined exercises</ins> for the exercise session. \n",
    "\n",
    "==============================================================================="
   ]
  },
  {
   "attachments": {},
   "cell_type": "markdown",
   "metadata": {},
   "source": [
    "Any digital image is an array of pixels. For a black&white image (not grayscale!), this array is a binary one, with the values telling us if that pixel should be On (1) or Off (0). We can show how this works using Numpy.<br>\n",
    "\n",
    "Let's create this array in Python so that we can play with it! Here is a boring way to do so:<br>\n",
    "\n",
    "1. <ins> Run the cell below"
   ]
  },
  {
   "cell_type": "code",
   "execution_count": null,
   "metadata": {},
   "outputs": [],
   "source": [
    "import numpy as np\n",
    "\n",
    "a0 = [0]*20\n",
    "a1 = a0\n",
    "a2 = [0]*7 + [1]*6 + [0]*7\n",
    "a3 = [0]*6 + [1] + [0]*6 + [1] + [0]*6\n",
    "a4 = [0]*4 + [1,1] + [0]*8 + [1,1] + [0]*4\n",
    "a5 = [0]*4 + [1] + [0]*10 + [1] + [0]*4\n",
    "a6 = [0]*3 + [1] + [0]*3 + [1,1] + [0,0] + [1,1] + [0]*3 + [1] + [0]*3\n",
    "a7 = [0]*2 + [1] + [0]*4 + [1,1] + [0,0] + [1,1] + [0]*4 + [1] + [0]*2\n",
    "a8 = [0]*2 + [1] + [0]*14 + [1] + [0]*2\n",
    "a9 = [0]*2 + [1] + [0]*14 + [1] + [0]*2\n",
    "a10 = [0]*2 + [1] + [0]*14 + [1] + [0]*2\n",
    "a11 = [0]*2 + [1] + [0]*2 + [1] + [0]*8 + [1] + [0]*2 + [1] + [0]*2\n",
    "a12 = [0]*2 + [1] + [0]*3 + [1] + [0]*6 + [1] + [0]*3 + [1] + [0]*2\n",
    "a13 = [0]*3 + [1] + [0]*3 + [1]*6 + [0]*3 + [1] + [0]*3\n",
    "a14 = [0]*4 + [1] + [0]*10 + [1] + [0]*4\n",
    "a15 = [0]*4 + [1,1] + [0]*8 + [1,1] + [0]*4\n",
    "a16 = [0]*6 + [1] + [0]*6 + [1] + [0]*6\n",
    "a17 = a2\n",
    "a18 = a0\n",
    "a19 = a0\n",
    "\n",
    "smiley = [a0, a1, a2, a3, a4, a5, a6, a7, a8, a9, a10, a11, a12, a13, a14, a15, a16, a17, a18, a19]\n",
    "smiley = np.array(smiley)\n",
    "smiley #Do you see the smiley?"
   ]
  },
  {
   "attachments": {},
   "cell_type": "markdown",
   "metadata": {},
   "source": [
    "2.<ins> We can actually show this in a pretty fashion. Run the two cells below.\n",
    "- If you haven't done so already you will have to install matplotlib first by uncommenting the line !pip install matplotlib."
   ]
  },
  {
   "cell_type": "code",
   "execution_count": null,
   "metadata": {},
   "outputs": [],
   "source": [
    "#if you haven't done so already you will first have to install matplotlib.\n",
    "#!pip install matplotlib \n",
    "from matplotlib import pyplot as plt"
   ]
  },
  {
   "cell_type": "code",
   "execution_count": null,
   "metadata": {},
   "outputs": [],
   "source": [
    "#run this cell\n",
    "\n",
    "plt.imshow(smiley, cmap='Greys')\n",
    "plt.xticks(np.arange(0.5, 20.5, 1), labels=[])\n",
    "plt.yticks(np.arange(0.5, 20.5, 1), labels=[])\n",
    "plt.grid(True)\n",
    "plt.show()"
   ]
  },
  {
   "attachments": {},
   "cell_type": "markdown",
   "metadata": {},
   "source": [
    "3. <ins> Create a function to display the smiley, since we'll need it again."
   ]
  },
  {
   "cell_type": "code",
   "execution_count": null,
   "metadata": {},
   "outputs": [],
   "source": [
    "#SOLUTION\n",
    "\n",
    "def display(smiley):\n",
    "    plt.imshow(smiley, cmap='Greys')\n",
    "    plt.xticks(np.arange(0.5, 20.5, 1), labels=[])\n",
    "    plt.yticks(np.arange(0.5, 20.5, 1), labels=[])\n",
    "    plt.grid(True)\n",
    "    plt.show()"
   ]
  },
  {
   "attachments": {},
   "cell_type": "markdown",
   "metadata": {},
   "source": [
    "4. Now we can use the array to modify the image. We will make the smiley wink by removing the left eye, which is equivalent to setting the left-eye pixels to 0. <br>\n",
    "<ins> Do this by turning off the left-eye pixels one-by-one:"
   ]
  },
  {
   "cell_type": "code",
   "execution_count": null,
   "metadata": {},
   "outputs": [],
   "source": [
    "#SOLUTION\n",
    "\n",
    "smiley[[6],[7]] = 0 #the first number refers to the y-axis, the second to the x-axis\n",
    "smiley[[6],[8]] = 0\n",
    "smiley[[7],[7]] = 0\n",
    "smiley[[7],[8]] = 0"
   ]
  },
  {
   "attachments": {},
   "cell_type": "markdown",
   "metadata": {},
   "source": [
    "5. <ins>Check if it worked. Display the smiley again using the function you just made."
   ]
  },
  {
   "cell_type": "code",
   "execution_count": null,
   "metadata": {},
   "outputs": [],
   "source": [
    "#SOLUTION\n",
    "display(smiley)"
   ]
  },
  {
   "attachments": {},
   "cell_type": "markdown",
   "metadata": {},
   "source": [
    "6. <ins>Create a nose for the smiley. You can do this by colouring some pixels, i.e. changing their value to 1. \n",
    "- Change the values of the left eye back to 1 to return the left eye.\n",
    "- Display the smiley to see if it worked.\n"
   ]
  },
  {
   "cell_type": "code",
   "execution_count": null,
   "metadata": {},
   "outputs": [],
   "source": [
    "#SOLUTION\n",
    "\n",
    "smiley[[9],[9]] = 1 \n",
    "smiley[[9],[10]] = 1\n",
    "\n",
    "smiley[[6],[7]] = 1\n",
    "smiley[[6],[8]] = 1\n",
    "smiley[[7],[7]] = 1\n",
    "smiley[[7],[8]] = 1\n",
    "\n",
    "display(smiley)\n"
   ]
  },
  {
   "attachments": {},
   "cell_type": "markdown",
   "metadata": {},
   "source": [
    "7. <ins>Create a python function that recreates the following mathematical function:\n",
    "> $f(x) = 2x^4 + x^3-3x^2-1$\n"
   ]
  },
  {
   "cell_type": "code",
   "execution_count": null,
   "metadata": {},
   "outputs": [],
   "source": [
    "#SOLUTION\n",
    "def f(x):\n",
    "    return 2 * x**4 + x**3 - 3*x**2 -1\n",
    "\n",
    "f(3)\n"
   ]
  },
  {
   "attachments": {
    "image.png": {
     "image/png": "[encoded data removed]"
    }
   },
   "cell_type": "markdown",
   "metadata": {},
   "source": [
    "8. <ins>link the correct function to the correct line\n",
    "> A) $f(x) = \\left(x\\right)4\\ -2$\n",
    "\n",
    "> B) $f(x) = -2\\left(x\\right)\\ -2$\n",
    "\n",
    "> C) $f(x) = 9\\left(x\\right)\\ +4$\n",
    "\n",
    "> D) $f(x) = x\\ +2$\n",
    "\n",
    "![image.png](attachment:image.png)"
   ]
  },
  {
   "cell_type": "code",
   "execution_count": null,
   "metadata": {},
   "outputs": [],
   "source": [
    "#SOLUTION\n",
    "\n",
    "# A = red\n",
    "# B = blue\n",
    "# C = green\n",
    "# D = purple"
   ]
  },
  {
   "attachments": {},
   "cell_type": "markdown",
   "metadata": {},
   "source": [
    "9. <ins>Create a function that recreates the mathematical symbol sigma ($\\sum$)\n",
    "- the function should take three arguments: start, end and the specific mathematical function.\n"
   ]
  },
  {
   "cell_type": "code",
   "execution_count": null,
   "metadata": {},
   "outputs": [],
   "source": [
    "#SOLUTION\n",
    "\n",
    "def sigma(start, end, func):\n",
    "    total = 0\n",
    "    \n",
    "    for i in range(start, end + 1):\n",
    "        total += func(i)\n",
    "    return total"
   ]
  },
  {
   "attachments": {},
   "cell_type": "markdown",
   "metadata": {},
   "source": [
    "10. Calculate the following. Make sure you import math first.\n",
    "- log 2 of 64\n",
    "- log 2 of 1/8\n",
    "- log 1à of 0.001"
   ]
  },
  {
   "cell_type": "code",
   "execution_count": null,
   "metadata": {},
   "outputs": [],
   "source": [
    "#SOLUTION\n",
    "\n",
    "import math\n",
    "print(math.log(64, 2))  #you could also do log2(64)\n",
    "print(math.log(1/8, 2)) # You could also do print(math.log2(1/8))\n",
    "print(math.log10(0.001))\n"
   ]
  },
  {
   "attachments": {},
   "cell_type": "markdown",
   "metadata": {},
   "source": [
    "11. Create a function that takes a list of lists as arguments and returns for each list the position of the largest numnber."
   ]
  },
  {
   "cell_type": "code",
   "execution_count": null,
   "metadata": {},
   "outputs": [],
   "source": [
    "nrs = [[9, 5, 78, 2, 97, 685, 2, 9],[9, 66, 25, 97, 45],[46, 78, 678]]\n",
    "\n",
    "#SOLUTION\n",
    "\n",
    "def position (nrs):\n",
    "    return [np.argmax(nr)for nr in nrs]\n",
    "\n",
    "position(nrs)\n"
   ]
  },
  {
   "attachments": {},
   "cell_type": "markdown",
   "metadata": {},
   "source": [
    "12. Create a numpy array based on the following list and assign it to a variable. Check the shape of the array."
   ]
  },
  {
   "cell_type": "code",
   "execution_count": null,
   "metadata": {},
   "outputs": [],
   "source": [
    "a_list = [[9,7,9], [8,9,8], [9, 9, 9]]\n",
    "\n",
    "#SOLUTION\n",
    "\n",
    "x = np.array(a_list)\n",
    "x.shape"
   ]
  },
  {
   "attachments": {},
   "cell_type": "markdown",
   "metadata": {},
   "source": [
    "13. <ins>Write a Python program to create a 2D array with 2 columns and 4 rows, where all the elements are set to zero."
   ]
  },
  {
   "cell_type": "code",
   "execution_count": null,
   "metadata": {},
   "outputs": [],
   "source": [
    "#SOLUTION\n",
    "print(np.zeros((4, 2)))"
   ]
  },
  {
   "attachments": {},
   "cell_type": "markdown",
   "metadata": {},
   "source": [
    "14. <ins>Write a Python program to create a 1D array with 6 random integers between 1 and 10, and then reshape it to a 2D array with 2 rows and 3 columns."
   ]
  },
  {
   "cell_type": "code",
   "execution_count": null,
   "metadata": {},
   "outputs": [],
   "source": [
    "#SOLUTION\n",
    "\n",
    "x = np.random.randint(low = 1, high = 11, size = (6))\n",
    "x.reshape(2, 3)"
   ]
  },
  {
   "attachments": {},
   "cell_type": "markdown",
   "metadata": {},
   "source": [
    "15. Create a random 1D array consisting of three numbers between 0 and 1."
   ]
  },
  {
   "cell_type": "code",
   "execution_count": null,
   "metadata": {},
   "outputs": [],
   "source": [
    "#SOLUTION\n",
    "\n",
    "np.random.random(3)"
   ]
  },
  {
   "attachments": {},
   "cell_type": "markdown",
   "metadata": {},
   "source": [
    "16. Write a Python program to create a 1D array with 10 random integers between 1 and 100.\n",
    "-  print the maximum and minimum values in the array.\n",
    "- also print the position of the largest value in the array."
   ]
  },
  {
   "cell_type": "code",
   "execution_count": null,
   "metadata": {},
   "outputs": [],
   "source": [
    "#SOLUTION\n",
    "\n",
    "x = np.random.randint(1, 101, 10)#you could do (low=1, high= 101, size = (10))\n",
    "print(x) \n",
    "print(max(x))\n",
    "print(min(x))\n",
    "print(np.argmax(x))\n"
   ]
  },
  {
   "attachments": {},
   "cell_type": "markdown",
   "metadata": {},
   "source": [
    "17. Create a 2D array (3x5) with the numbers 1-15."
   ]
  },
  {
   "cell_type": "code",
   "execution_count": null,
   "metadata": {},
   "outputs": [],
   "source": [
    "#SOLUTION\n",
    "\n",
    "x = np.arange(start =1, stop = 16).reshape(3,5)\n",
    "x"
   ]
  },
  {
   "attachments": {},
   "cell_type": "markdown",
   "metadata": {},
   "source": [
    "18. Create a 2D array with the numbers 0-30 but with a step of 2."
   ]
  },
  {
   "cell_type": "code",
   "execution_count": null,
   "metadata": {},
   "outputs": [],
   "source": [
    "#SOLUTION\n",
    "\n",
    "np.arange(start = 1, stop = 31, step=2)"
   ]
  },
  {
   "attachments": {},
   "cell_type": "markdown",
   "metadata": {},
   "source": [
    "19. Create a function that takes a 2D array and returns a boolean array with values between -5 and +5 indicating which elements are positive."
   ]
  },
  {
   "cell_type": "code",
   "execution_count": null,
   "metadata": {},
   "outputs": [],
   "source": [
    "#SOLUTION\n",
    "\n",
    "x = np.random.randint(low = -5, high = 5, size=10)\n",
    "print(x)\n",
    "y = np.array([False if nr < 0 else True for nr in x])\n",
    "print(y)"
   ]
  },
  {
   "attachments": {},
   "cell_type": "markdown",
   "metadata": {},
   "source": [
    "20. Create a 3x3 numpy array.\n",
    "- Write a function that takes a 2D array and returns the mean of each row.\n",
    "- Make sure you round the means so that the output are whole numbers."
   ]
  },
  {
   "cell_type": "code",
   "execution_count": null,
   "metadata": {},
   "outputs": [],
   "source": [
    "#SOLUTION\n",
    "\n",
    "an_array = [[678, 890, 342], [567, 345, 261], [78, 89, 93]]\n",
    "\n",
    "def get_mean (an_array):\n",
    "    means = []\n",
    "    for row in an_array:\n",
    "        means.append(round(sum(row)/len(row)))\n",
    "    return means\n",
    "\n",
    "get_mean(an_array)"
   ]
  }
 ],
 "metadata": {
  "kernelspec": {
   "display_name": "base",
   "language": "python",
   "name": "python3"
  },
  "language_info": {
   "codemirror_mode": {
    "name": "ipython",
    "version": 3
   },
   "file_extension": ".py",
   "mimetype": "text/x-python",
   "name": "python",
   "nbconvert_exporter": "python",
   "pygments_lexer": "ipython3",
   "version": "3.9.13"
  },
  "orig_nbformat": 4,
  "vscode": {
   "interpreter": {
    "hash": "96e0a4d32f1918f770291244863a4a1e044b05d1a3b8d455e2e179187e01062a"
   }
  }
 },
 "nbformat": 4,
 "nbformat_minor": 2
}
