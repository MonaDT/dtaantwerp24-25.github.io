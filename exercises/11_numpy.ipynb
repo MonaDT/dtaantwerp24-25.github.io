{
 "cells": [
  {
   "cell_type": "markdown",
   "metadata": {},
   "source": [
    "# Exercises on numpy\n",
    "\n",
    "These are exercises on Numpy.\n",
    "\n",
    "Use this [notebook](https://github.com/dtaantwerp/dtaantwerp.github.io/blob/DTA_Bootcamp_2021_students/notebooks/12_W3_Mon_Numpy.ipynb) for a complete explanation of numpy."
   ]
  },
  {
   "cell_type": "markdown",
   "metadata": {},
   "source": [
    "# 0. How to read a line?!\n",
    "Lines are functions of the form $f(x) = mx + q$, with $m$ and $q$ being the `slope` and `intercept` respectively.\n",
    "\n",
    "If this is still unfamiliar to you, play with [this](https://www.desmos.com/calculator/59qdbtnlzy) for a while. See how changing the slope and intercept affects the shape and behavior of a line. Note that for a line which meets the horizontal and vertical axis at $x_0$ and $y_0$ respectively, $-\\frac{y_0}{x_0}$ is basically the slope!\n"
   ]
  },
  {
   "cell_type": "markdown",
   "metadata": {},
   "source": [
    "# 1. A very very simple (yet crucial) introduction to Machine Learning!\n",
    "One of the main tasks in Machine Learning is Classification: you have some data (x), you have some classes or categories or labels (y), you want the machine to learn which data point belongs to which class. An example in sentiment analysis is that you have some product reviews and you want to classify them into Positive or Negative sentiment. If you can visualize your data, this might be how it looks in 2D, where classes are identified with color; e.g. the blue points are positive reviews and the orange points are the negative ones: \n",
    "\n",
    "<img src=\"https://machinelearningmastery.com/wp-content/uploads/2020/03/Scatter-Plot-of-Binary-Classification-Dataset-With-2D-Feature-Space.png\" width=\"400\" /> \n",
    "\n",
    "Now imagine that for this data, we want to learn a `linear` classifier, i.e. a LINE that is able to separate the two classes in a good (enough) way. This might not be always possible but looking at our data here, it seems like a pretty good choice. \\\n",
    "> Q: Which one of the following lines can be a good candidate for our classifier? \n",
    "\n",
    "* $y = 1.6x + 15$\n",
    "* $y = -15x + 5$\n",
    "* $y = -1.7x + 15$\n",
    "* $y = 5x + 10$"
   ]
  },
  {
   "cell_type": "markdown",
   "metadata": {},
   "source": [
    "# 2. The coordinates of your smile!\n",
    "Any digital image is an array of pixels. For a black&white image (not grayscale!), this array is a binary one, with the values telling us if that pixel should be On (1) or Off (0). Here is the smiley symbol as an 20x20 array of B&W pixels:\n",
    "\n",
    "\n",
    "<img src=\"img/smiley.png\" alt=\"smiley\" style=\"width: 400px;\"/>\n",
    "\n",
    "Let's create this array in Python so that we can play with it! Here is a boring way to do so:"
   ]
  },
  {
   "cell_type": "code",
   "execution_count": 1,
   "metadata": {},
   "outputs": [
    {
     "data": {
      "text/plain": [
       "array([[0, 0, 0, 0, 0, 0, 0, 0, 0, 0, 0, 0, 0, 0, 0, 0, 0, 0, 0, 0],\n",
       "       [0, 0, 0, 0, 0, 0, 0, 0, 0, 0, 0, 0, 0, 0, 0, 0, 0, 0, 0, 0],\n",
       "       [0, 0, 0, 0, 0, 0, 0, 1, 1, 1, 1, 1, 1, 0, 0, 0, 0, 0, 0, 0],\n",
       "       [0, 0, 0, 0, 0, 0, 1, 0, 0, 0, 0, 0, 0, 1, 0, 0, 0, 0, 0, 0],\n",
       "       [0, 0, 0, 0, 1, 1, 0, 0, 0, 0, 0, 0, 0, 0, 1, 1, 0, 0, 0, 0],\n",
       "       [0, 0, 0, 0, 1, 0, 0, 0, 0, 0, 0, 0, 0, 0, 0, 1, 0, 0, 0, 0],\n",
       "       [0, 0, 0, 1, 0, 0, 0, 1, 1, 0, 0, 1, 1, 0, 0, 0, 1, 0, 0, 0],\n",
       "       [0, 0, 1, 0, 0, 0, 0, 1, 1, 0, 0, 1, 1, 0, 0, 0, 0, 1, 0, 0],\n",
       "       [0, 0, 1, 0, 0, 0, 0, 0, 0, 0, 0, 0, 0, 0, 0, 0, 0, 1, 0, 0],\n",
       "       [0, 0, 1, 0, 0, 0, 0, 0, 0, 0, 0, 0, 0, 0, 0, 0, 0, 1, 0, 0],\n",
       "       [0, 0, 1, 0, 0, 0, 0, 0, 0, 0, 0, 0, 0, 0, 0, 0, 0, 1, 0, 0],\n",
       "       [0, 0, 1, 0, 0, 1, 0, 0, 0, 0, 0, 0, 0, 0, 1, 0, 0, 1, 0, 0],\n",
       "       [0, 0, 1, 0, 0, 0, 1, 0, 0, 0, 0, 0, 0, 1, 0, 0, 0, 1, 0, 0],\n",
       "       [0, 0, 0, 1, 0, 0, 0, 1, 1, 1, 1, 1, 1, 0, 0, 0, 1, 0, 0, 0],\n",
       "       [0, 0, 0, 0, 1, 0, 0, 0, 0, 0, 0, 0, 0, 0, 0, 1, 0, 0, 0, 0],\n",
       "       [0, 0, 0, 0, 1, 1, 0, 0, 0, 0, 0, 0, 0, 0, 1, 1, 0, 0, 0, 0],\n",
       "       [0, 0, 0, 0, 0, 0, 1, 0, 0, 0, 0, 0, 0, 1, 0, 0, 0, 0, 0, 0],\n",
       "       [0, 0, 0, 0, 0, 0, 0, 1, 1, 1, 1, 1, 1, 0, 0, 0, 0, 0, 0, 0],\n",
       "       [0, 0, 0, 0, 0, 0, 0, 0, 0, 0, 0, 0, 0, 0, 0, 0, 0, 0, 0, 0],\n",
       "       [0, 0, 0, 0, 0, 0, 0, 0, 0, 0, 0, 0, 0, 0, 0, 0, 0, 0, 0, 0]])"
      ]
     },
     "execution_count": 1,
     "metadata": {},
     "output_type": "execute_result"
    }
   ],
   "source": [
    "# Run the cell\n",
    "import numpy as np\n",
    "\n",
    "a0 = [0]*20\n",
    "a1 = a0\n",
    "a2 = [0]*7 + [1]*6 + [0]*7\n",
    "a3 = [0]*6 + [1] + [0]*6 + [1] + [0]*6\n",
    "a4 = [0]*4 + [1,1] + [0]*8 + [1,1] + [0]*4\n",
    "a5 = [0]*4 + [1] + [0]*10 + [1] + [0]*4\n",
    "a6 = [0]*3 + [1] + [0]*3 + [1,1] + [0,0] + [1,1] + [0]*3 + [1] + [0]*3\n",
    "a7 = [0]*2 + [1] + [0]*4 + [1,1] + [0,0] + [1,1] + [0]*4 + [1] + [0]*2\n",
    "a8 = [0]*2 + [1] + [0]*14 + [1] + [0]*2\n",
    "a9 = [0]*2 + [1] + [0]*14 + [1] + [0]*2\n",
    "a10 = [0]*2 + [1] + [0]*14 + [1] + [0]*2\n",
    "a11 = [0]*2 + [1] + [0]*2 + [1] + [0]*8 + [1] + [0]*2 + [1] + [0]*2\n",
    "a12 = [0]*2 + [1] + [0]*3 + [1] + [0]*6 + [1] + [0]*3 + [1] + [0]*2\n",
    "a13 = [0]*3 + [1] + [0]*3 + [1]*6 + [0]*3 + [1] + [0]*3\n",
    "a14 = [0]*4 + [1] + [0]*10 + [1] + [0]*4\n",
    "a15 = [0]*4 + [1,1] + [0]*8 + [1,1] + [0]*4\n",
    "a16 = [0]*6 + [1] + [0]*6 + [1] + [0]*6\n",
    "a17 = a2\n",
    "a18 = a0\n",
    "a19 = a0\n",
    "\n",
    "smiley = [a0, a1, a2, a3, a4, a5, a6, a7, a8, a9, a10, a11, a12, a13, a14, a15, a16, a17, a18, a19]\n",
    "smiley = np.array(smiley)\n",
    "smiley"
   ]
  },
  {
   "cell_type": "markdown",
   "metadata": {},
   "source": [
    "We can actually display the array as an image using some Python libraries. Here is a way:"
   ]
  },
  {
   "cell_type": "code",
   "execution_count": 2,
   "metadata": {},
   "outputs": [
    {
     "name": "stdout",
     "output_type": "stream",
     "text": [
      "Requirement already satisfied: matplotlib in /opt/anaconda3/lib/python3.9/site-packages (3.5.1)\n",
      "Requirement already satisfied: pillow>=6.2.0 in /opt/anaconda3/lib/python3.9/site-packages (from matplotlib) (9.0.1)\n",
      "Requirement already satisfied: pyparsing>=2.2.1 in /opt/anaconda3/lib/python3.9/site-packages (from matplotlib) (3.0.4)\n",
      "Requirement already satisfied: cycler>=0.10 in /opt/anaconda3/lib/python3.9/site-packages (from matplotlib) (0.11.0)\n",
      "Requirement already satisfied: python-dateutil>=2.7 in /opt/anaconda3/lib/python3.9/site-packages (from matplotlib) (2.8.2)\n",
      "Requirement already satisfied: fonttools>=4.22.0 in /opt/anaconda3/lib/python3.9/site-packages (from matplotlib) (4.25.0)\n",
      "Requirement already satisfied: packaging>=20.0 in /opt/anaconda3/lib/python3.9/site-packages (from matplotlib) (21.3)\n",
      "Requirement already satisfied: kiwisolver>=1.0.1 in /opt/anaconda3/lib/python3.9/site-packages (from matplotlib) (1.4.2)\n",
      "Requirement already satisfied: numpy>=1.17 in /opt/anaconda3/lib/python3.9/site-packages (from matplotlib) (1.21.5)\n",
      "Requirement already satisfied: six>=1.5 in /opt/anaconda3/lib/python3.9/site-packages (from python-dateutil>=2.7->matplotlib) (1.16.0)\n"
     ]
    }
   ],
   "source": [
    "!pip install matplotlib"
   ]
  },
  {
   "cell_type": "code",
   "execution_count": 3,
   "metadata": {},
   "outputs": [
    {
     "data": {
      "image/png": "[encoded data removed]",
      "text/plain": [
       "<Figure size 432x288 with 1 Axes>"
      ]
     },
     "metadata": {
      "needs_background": "light"
     },
     "output_type": "display_data"
    }
   ],
   "source": [
    "from matplotlib import pyplot as plt\n",
    "plt.imshow(smiley, cmap='Greys')\n",
    "plt.xticks(np.arange(0.5, 20.5, 1), labels=[])\n",
    "plt.yticks(np.arange(0.5, 20.5, 1), labels=[])\n",
    "plt.grid(True)\n",
    "plt.show()"
   ]
  },
  {
   "cell_type": "markdown",
   "metadata": {},
   "source": [
    "> Q: Identify the left and right eye of the image as a selection of this array. \\\n",
    "> Q: Imagine a (rectangular) nose for the image. Identify this hypothetical nose as a selection of the array. (you can choose the size or orientation!)"
   ]
  },
  {
   "cell_type": "code",
   "execution_count": null,
   "metadata": {},
   "outputs": [],
   "source": [
    "left_eye = smiley[\"\"\"...your code here...\"\"\"]\n",
    "right_eye = smiley[\"\"\"...your code here...\"\"\"]\n",
    "nose = smiley[\"\"\"...your code here...\"\"\"]"
   ]
  },
  {
   "cell_type": "markdown",
   "metadata": {},
   "source": [
    "Now we can use the array to modify the image. Let's start by removing the left eye! which is equivalent to setting the left-eye pixels to 0.\n",
    "> Q: Do this by turning off the left-eye pixels one-by-one:"
   ]
  },
  {
   "cell_type": "code",
   "execution_count": null,
   "metadata": {},
   "outputs": [],
   "source": [
    "smiley[???,???] = 0\n",
    "smiley[???,???] = 0\n",
    "smiley[???,???] = 0\n",
    "smiley[???,???] = 0"
   ]
  },
  {
   "cell_type": "markdown",
   "metadata": {},
   "source": [
    "Let's see how it looks like now. Since we are going to use the display cell frequently, let's turn it into a function that receives an array and displays it as a B&W image. For simplicity you can just assume that the arrays are always 20x20 so that you don't need to change the grid lines."
   ]
  },
  {
   "cell_type": "code",
   "execution_count": null,
   "metadata": {},
   "outputs": [],
   "source": [
    "def display_array(array):\n",
    "    # your code here\n",
    "    "
   ]
  },
  {
   "cell_type": "markdown",
   "metadata": {},
   "source": [
    "Now we can just call it on our array to see how it looks:"
   ]
  },
  {
   "cell_type": "code",
   "execution_count": null,
   "metadata": {},
   "outputs": [],
   "source": [
    "display_array(smiley)"
   ]
  },
  {
   "cell_type": "markdown",
   "metadata": {},
   "source": [
    "Poor smiley! Let's put the eye back but in a less boring way! \\\n",
    "We can do it all at once, by assigning the whole left-eye area (as a selection of the array) to an array of the same size with values of 1: "
   ]
  },
  {
   "cell_type": "code",
   "execution_count": null,
   "metadata": {},
   "outputs": [],
   "source": [
    "# let's create the eye separately ...\n",
    "eye = np.ones(\"\"\"...your code here...\"\"\")\n",
    "\n",
    "# and then assign it to the left-eye area:\n",
    "smiley[\"\"\"...your code here...\"\"\"] = eye\n",
    "\n",
    "\n",
    "display_array(smiley)"
   ]
  },
  {
   "cell_type": "markdown",
   "metadata": {},
   "source": [
    "Nice! let's add the nose in the same way:"
   ]
  },
  {
   "cell_type": "code",
   "execution_count": null,
   "metadata": {},
   "outputs": [],
   "source": [
    "nose = np.ones(\"\"\"...your code here...\"\"\")\n",
    "\n",
    "smiley[\"\"\"...your code here...\"\"\"] = nose\n",
    "\n",
    "display_array(smiley)"
   ]
  },
  {
   "cell_type": "markdown",
   "metadata": {},
   "source": [
    "Cool! Much faster but it cane be done even more so! \\\n",
    "What do you think the following code do? Would it work or throw an error? Run to see!"
   ]
  },
  {
   "cell_type": "code",
   "execution_count": 3,
   "metadata": {},
   "outputs": [],
   "source": [
    "smiley[6:8, 7:9] = 0"
   ]
  },
  {
   "cell_type": "markdown",
   "metadata": {},
   "source": [
    "Amazing right? \\\n",
    "You probably expected an error because the left side of the '=' is an array while the right side is a number. For example if you try to do something similar with a list, you will get an error:"
   ]
  },
  {
   "cell_type": "code",
   "execution_count": null,
   "metadata": {},
   "outputs": [],
   "source": [
    "a_list = [1, 1, 1, 1]\n",
    "a_list[1:3] = 0"
   ]
  },
  {
   "cell_type": "markdown",
   "metadata": {},
   "source": [
    "But here NumPy takes care of it using a super useful feature called `Broadcasting`. You can read more about it [here](https://numpy.org/devdocs/user/basics.broadcasting.html) if you like but what it basically does is trying to `match` mismatched arrays involved in an operation, by stretching the smaller one through repetition! In our case for example, NumPy converts the `0` into an array with proper size (i.e. np.zeros((2,2))) before doing the '=' operation.  \\\n",
    "> Q: Go back and do what you did before (or more!) using this feature. "
   ]
  },
  {
   "cell_type": "markdown",
   "metadata": {},
   "source": []
  }
 ],
 "metadata": {
  "interpreter": {
   "hash": "5db9622ea32ad59ad8958f78283f4771a508012702d3a535a15489e1434ecdc6"
  },
  "kernelspec": {
   "display_name": "Python 3 (ipykernel)",
   "language": "python",
   "name": "python3"
  },
  "language_info": {
   "codemirror_mode": {
    "name": "ipython",
    "version": 3
   },
   "file_extension": ".py",
   "mimetype": "text/x-python",
   "name": "python",
   "nbconvert_exporter": "python",
   "pygments_lexer": "ipython3",
   "version": "3.9.12"
  }
 },
 "nbformat": 4,
 "nbformat_minor": 4
}
