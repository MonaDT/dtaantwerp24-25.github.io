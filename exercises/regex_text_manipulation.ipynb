{
 "cells": [
  {
   "cell_type": "markdown",
   "metadata": {},
   "source": [
    "## Week 2 Friday Morning\n",
    "### Hammond Chapter 6-7: Regular Expressions, Text Manipulation; comprehensions"
   ]
  },
  {
   "cell_type": "markdown",
   "metadata": {},
   "source": [
    "#### Pattern matching\n",
    "\n",
    "- Check whether a pattern matches a string\n",
    "- Most programming languages have some implementation of this idea \n",
    "\n",
    "Interesting tool for help with constructing and debugging regular expressions: https://regex101.com/\n",
    "\n",
    "Very good tutorial on regex: https://docs.python.org/3.8/howto/regex.html"
   ]
  },
  {
   "cell_type": "code",
   "execution_count": 1,
   "metadata": {},
   "outputs": [
    {
     "data": {
      "text/plain": [
       "True"
      ]
     },
     "execution_count": 1,
     "metadata": {},
     "output_type": "execute_result"
    }
   ],
   "source": [
    "# we already saw some pattern matching\n",
    "\n",
    "'ab' in 'table'"
   ]
  },
  {
   "cell_type": "code",
   "execution_count": 2,
   "metadata": {},
   "outputs": [
    {
     "data": {
      "text/plain": [
       "4"
      ]
     },
     "execution_count": 2,
     "metadata": {},
     "output_type": "execute_result"
    }
   ],
   "source": [
    "'booking'.index('ing')"
   ]
  },
  {
   "cell_type": "code",
   "execution_count": 4,
   "metadata": {},
   "outputs": [],
   "source": [
    "# Does the pattern (x followed by anything followed by y) match a string?\n",
    "\n",
    "def mymatch (x, y, text):\n",
    "    'x followed by y with anything in between'\n",
    "    for letter in text:\n",
    "        if letter == x:\n",
    "            pos = text.index(letter)\n",
    "            for letter in text[pos:]:\n",
    "                if letter == y:\n",
    "                    return True\n",
    "    return False\n"
   ]
  },
  {
   "cell_type": "code",
   "execution_count": 5,
   "metadata": {},
   "outputs": [
    {
     "data": {
      "text/plain": [
       "True"
      ]
     },
     "execution_count": 5,
     "metadata": {},
     "output_type": "execute_result"
    }
   ],
   "source": [
    "mymatch('a', 'b', 'zanzibir')"
   ]
  },
  {
   "cell_type": "code",
   "execution_count": 6,
   "metadata": {},
   "outputs": [
    {
     "data": {
      "text/plain": [
       "<re.Match object; span=(1, 6), match='anzib'>"
      ]
     },
     "execution_count": 6,
     "metadata": {},
     "output_type": "execute_result"
    }
   ],
   "source": [
    "import re\n",
    "\n",
    "result = re.search('a.*b', 'zanzibar')\n",
    "result"
   ]
  },
  {
   "cell_type": "code",
   "execution_count": 7,
   "metadata": {},
   "outputs": [
    {
     "data": {
      "text/plain": [
       "'anzib'"
      ]
     },
     "execution_count": 7,
     "metadata": {},
     "output_type": "execute_result"
    }
   ],
   "source": [
    "result.group()  # group, span, start, end are only available if match succeeds!"
   ]
  },
  {
   "cell_type": "code",
   "execution_count": 8,
   "metadata": {},
   "outputs": [
    {
     "data": {
      "text/plain": [
       "1"
      ]
     },
     "execution_count": 8,
     "metadata": {},
     "output_type": "execute_result"
    }
   ],
   "source": [
    "result.start()"
   ]
  },
  {
   "cell_type": "code",
   "execution_count": 9,
   "metadata": {},
   "outputs": [
    {
     "data": {
      "text/plain": [
       "6"
      ]
     },
     "execution_count": 9,
     "metadata": {},
     "output_type": "execute_result"
    }
   ],
   "source": [
    "result.end() # is index of character AFTER the final char of the match"
   ]
  },
  {
   "cell_type": "code",
   "execution_count": 10,
   "metadata": {},
   "outputs": [
    {
     "data": {
      "text/plain": [
       "(1, 6)"
      ]
     },
     "execution_count": 10,
     "metadata": {},
     "output_type": "execute_result"
    }
   ],
   "source": [
    "result.span()"
   ]
  },
  {
   "cell_type": "markdown",
   "metadata": {},
   "source": [
    "#### search \n",
    "- stops with first match found (has start, end, span, group)\n",
    "- returns None when there is no match\n",
    "\n",
    "#### findall\n",
    "- returns a list of matches (only the strings)\n",
    "- returns empty list when there is no match\n",
    "\n",
    "#### finditer\n",
    "- can be used to loop through matches\n",
    "- each match has span and what is matched\n",
    "\n",
    "#### match\n",
    "- looks at a match from the start of the string\n",
    "- has a span and a match (like group in search)\n",
    "\n",
    "Matching is greedy."
   ]
  },
  {
   "cell_type": "markdown",
   "metadata": {},
   "source": [
    "### Patterns\n",
    "- single symbols ('a', 'f', ...)\n",
    "- concatenation of symbols ('ab', 'bar', ...)\n",
    "- disjunction ('a|b', '(ab)|c', 'a[bc]')  (either or, any of)\n",
    "- sets\n",
    "    - [abc] a b or c\n",
    "    - [^abc] not a, b or c\n",
    "    - [a-z] a character in the range a-z\n",
    "    - [a-zA-Z] a character in the range a-z or A-Z\n",
    "    - [^a-zA-Z] a character NOT in the range a-z or A-Z\n",
    "- any character (.)\n",
    "- start of string ^ and end of string $\n",
    "- a whitespace character \\s\n",
    "- a non-whitespace character \\S\n",
    "- a digit \\d\n",
    "- a non-digit \\D\n",
    "- a word character \\w\n",
    "- a non word character \\W\n",
    "- a word boundary character \\b\n",
    "- a non word boundary character \\B\n",
    "- quantifiers\n",
    "    - a? zero or one 'a'\n",
    "    - a+ one or more 'a'\n",
    "    - a* zero or more 'a'\n",
    "    - a{5} exactly 5 of 'a'"
   ]
  },
  {
   "cell_type": "code",
   "execution_count": 11,
   "metadata": {},
   "outputs": [
    {
     "data": {
      "text/plain": [
       "['bar', 'bar']"
      ]
     },
     "execution_count": 11,
     "metadata": {},
     "output_type": "execute_result"
    }
   ],
   "source": [
    "result = re.findall('bar', 'barbara')\n",
    "result"
   ]
  },
  {
   "cell_type": "code",
   "execution_count": 12,
   "metadata": {},
   "outputs": [
    {
     "data": {
      "text/plain": [
       "<re.Match object; span=(0, 3), match='bar'>"
      ]
     },
     "execution_count": 12,
     "metadata": {},
     "output_type": "execute_result"
    }
   ],
   "source": [
    "result = re.search('bar', 'barbara')\n",
    "result"
   ]
  },
  {
   "cell_type": "code",
   "execution_count": 13,
   "metadata": {},
   "outputs": [
    {
     "data": {
      "text/plain": [
       "<re.Match object; span=(0, 3), match='bar'>"
      ]
     },
     "execution_count": 13,
     "metadata": {},
     "output_type": "execute_result"
    }
   ],
   "source": [
    "result = re.match('bar', 'barbara')\n",
    "result"
   ]
  },
  {
   "cell_type": "code",
   "execution_count": 14,
   "metadata": {},
   "outputs": [
    {
     "data": {
      "text/plain": [
       "<re.Match object; span=(2, 5), match='bar'>"
      ]
     },
     "execution_count": 14,
     "metadata": {},
     "output_type": "execute_result"
    }
   ],
   "source": [
    "result = re.search('bar', 'rabarbara')\n",
    "result"
   ]
  },
  {
   "cell_type": "code",
   "execution_count": 18,
   "metadata": {},
   "outputs": [],
   "source": [
    "result = re.match('bar', 'rabarbara')  # No match because pattern not found at the start\n",
    "result"
   ]
  },
  {
   "cell_type": "code",
   "execution_count": 19,
   "metadata": {},
   "outputs": [
    {
     "data": {
      "text/plain": [
       "['ba', 'ba']"
      ]
     },
     "execution_count": 19,
     "metadata": {},
     "output_type": "execute_result"
    }
   ],
   "source": [
    "result = re.findall('ba', 'zanzibarbar')\n",
    "result"
   ]
  },
  {
   "cell_type": "code",
   "execution_count": 20,
   "metadata": {},
   "outputs": [
    {
     "name": "stdout",
     "output_type": "stream",
     "text": [
      "<re.Match object; span=(5, 8), match='bar'>\n",
      "<re.Match object; span=(8, 11), match='bar'>\n"
     ]
    }
   ],
   "source": [
    "for match in re.finditer('bar', 'zanzibarbar'):\n",
    "    print(match)"
   ]
  },
  {
   "cell_type": "code",
   "execution_count": 21,
   "metadata": {},
   "outputs": [
    {
     "name": "stdout",
     "output_type": "stream",
     "text": [
      "<re.Match object; span=(0, 2), match='12'>\n",
      "<re.Match object; span=(3, 5), match='10'>\n",
      "<re.Match object; span=(6, 10), match='1990'>\n"
     ]
    }
   ],
   "source": [
    "for match in re.finditer('\\d+', '12/10/1990'):\n",
    "    print(match)"
   ]
  },
  {
   "cell_type": "code",
   "execution_count": 22,
   "metadata": {},
   "outputs": [
    {
     "data": {
      "text/plain": [
       "['o', 'o', 'o']"
      ]
     },
     "execution_count": 22,
     "metadata": {},
     "output_type": "execute_result"
    }
   ],
   "source": [
    "re.findall('o', 'www.google.com') # find all o"
   ]
  },
  {
   "cell_type": "code",
   "execution_count": 23,
   "metadata": {},
   "outputs": [
    {
     "data": {
      "text/plain": [
       "<re.Match object; span=(5, 7), match='oo'>"
      ]
     },
     "execution_count": 23,
     "metadata": {},
     "output_type": "execute_result"
    }
   ],
   "source": [
    "re.search('oo', 'www.google.com') # find two consecutive o's"
   ]
  },
  {
   "cell_type": "code",
   "execution_count": 24,
   "metadata": {},
   "outputs": [
    {
     "data": {
      "text/plain": [
       "['www', 'oo', 'o']"
      ]
     },
     "execution_count": 24,
     "metadata": {},
     "output_type": "execute_result"
    }
   ],
   "source": [
    "re.findall('[ow]+', 'www.google.com') # find sequences of 1 or more o or w"
   ]
  },
  {
   "cell_type": "code",
   "execution_count": 25,
   "metadata": {},
   "outputs": [
    {
     "data": {
      "text/plain": [
       "['.', '.']"
      ]
     },
     "execution_count": 25,
     "metadata": {},
     "output_type": "execute_result"
    }
   ],
   "source": [
    "re.findall('\\.', 'www.Google.com') # find sequences of one or more lowercase alphabetic character"
   ]
  },
  {
   "cell_type": "code",
   "execution_count": 26,
   "metadata": {},
   "outputs": [
    {
     "data": {
      "text/plain": [
       "<re.Match object; span=(5, 7), match='oo'>"
      ]
     },
     "execution_count": 26,
     "metadata": {},
     "output_type": "execute_result"
    }
   ],
   "source": [
    "re.search('o{2}', 'www.google.com') # find sequence of exactly 2 o's"
   ]
  },
  {
   "cell_type": "code",
   "execution_count": 27,
   "metadata": {},
   "outputs": [
    {
     "data": {
      "text/plain": [
       "['.', '.']"
      ]
     },
     "execution_count": 27,
     "metadata": {},
     "output_type": "execute_result"
    }
   ],
   "source": [
    "re.findall('\\.', 'www.google.com') # find dots (escape!)"
   ]
  },
  {
   "cell_type": "code",
   "execution_count": 28,
   "metadata": {},
   "outputs": [
    {
     "data": {
      "text/plain": [
       "['w', 'w', 'w', 'g', 'o', 'o', 'g', 'l', 'e', 'c', 'o', 'm']"
      ]
     },
     "execution_count": 28,
     "metadata": {},
     "output_type": "execute_result"
    }
   ],
   "source": [
    "re.findall('\\w', 'www.google.com') # find word characters"
   ]
  },
  {
   "cell_type": "code",
   "execution_count": 29,
   "metadata": {},
   "outputs": [
    {
     "data": {
      "text/plain": [
       "['.', '.']"
      ]
     },
     "execution_count": 29,
     "metadata": {},
     "output_type": "execute_result"
    }
   ],
   "source": [
    "re.findall('\\W', 'www.google.com') # find non-word characters"
   ]
  },
  {
   "cell_type": "code",
   "execution_count": 30,
   "metadata": {},
   "outputs": [
    {
     "name": "stdout",
     "output_type": "stream",
     "text": [
      "www\n",
      "   google\tcom\n"
     ]
    }
   ],
   "source": [
    "print('www\\n   google\\tcom')"
   ]
  },
  {
   "cell_type": "code",
   "execution_count": 31,
   "metadata": {},
   "outputs": [
    {
     "data": {
      "text/plain": [
       "['\\n', ' ', ' ', ' ', '\\t']"
      ]
     },
     "execution_count": 31,
     "metadata": {},
     "output_type": "execute_result"
    }
   ],
   "source": [
    "re.findall('\\s', 'www\\n   google\\tcom') # find whitespace characters"
   ]
  },
  {
   "cell_type": "code",
   "execution_count": 32,
   "metadata": {},
   "outputs": [
    {
     "data": {
      "text/plain": [
       "['12', '6', '1990']"
      ]
     },
     "execution_count": 32,
     "metadata": {},
     "output_type": "execute_result"
    }
   ],
   "source": [
    "re.findall('[0-9]+', '12/6/1990') # find numeric characters"
   ]
  },
  {
   "cell_type": "code",
   "execution_count": 33,
   "metadata": {},
   "outputs": [
    {
     "data": {
      "text/plain": [
       "['12', '10', '1990']"
      ]
     },
     "execution_count": 33,
     "metadata": {},
     "output_type": "execute_result"
    }
   ],
   "source": [
    "re.findall('\\d+', '12/10/1990') # find numeric characters"
   ]
  },
  {
   "cell_type": "code",
   "execution_count": 34,
   "metadata": {},
   "outputs": [
    {
     "data": {
      "text/plain": [
       "['/', '/']"
      ]
     },
     "execution_count": 34,
     "metadata": {},
     "output_type": "execute_result"
    }
   ],
   "source": [
    "re.findall('[^0-9]+', '12/10/1990') # find non-numeric characters"
   ]
  },
  {
   "cell_type": "markdown",
   "metadata": {},
   "source": [
    "### Exercise\n",
    "\n",
    "Find a regular expression that matches time-of-day strings (such as 9:14 am or 08:20PM). Check that the matching is robust to all sorts of variations, such as:\n",
    "\n",
    "  - 9 : 14 AM\n",
    "  - 09:14 pm\n",
    "  - 9: 14 Am\n",
    "  - 9:14PM\n",
    "  - ..."
   ]
  },
  {
   "cell_type": "code",
   "execution_count": 36,
   "metadata": {},
   "outputs": [
    {
     "data": {
      "text/plain": [
       "<re.Match object; span=(24, 33), match='09: 14 Am'>"
      ]
     },
     "execution_count": 36,
     "metadata": {},
     "output_type": "execute_result"
    }
   ],
   "source": [
    "re.search('[0-9]?[0-9]\\s*:\\s*[0-9][0-9]\\s*[aApP][mM]', 'Meet me in Starbucks at 09: 14 Am')"
   ]
  },
  {
   "cell_type": "markdown",
   "metadata": {},
   "source": [
    "## Replacing and backreferences"
   ]
  },
  {
   "cell_type": "code",
   "execution_count": 37,
   "metadata": {},
   "outputs": [
    {
     "data": {
      "text/plain": [
       "'12-10-1990'"
      ]
     },
     "execution_count": 37,
     "metadata": {},
     "output_type": "execute_result"
    }
   ],
   "source": [
    "# re.sub takes a pattern, a replacement, and a string as input and returns a string in which \n",
    "# all instances of the pattern are replaced.\n",
    "\n",
    "re.sub('/', '-', '12/10/1990') # replace the / by hyphen in the date"
   ]
  },
  {
   "cell_type": "code",
   "execution_count": 38,
   "metadata": {},
   "outputs": [
    {
     "data": {
      "text/plain": [
       "'1990-10-12'"
      ]
     },
     "execution_count": 38,
     "metadata": {},
     "output_type": "execute_result"
    }
   ],
   "source": [
    "# By using round brackets, you can define groups in a pattern, these can be accessed by a number preceded \n",
    "# by a slash, which allows you to change the order of the groups.\n",
    "\n",
    "re.sub('([0-9]+)\\/([0-9]+)\\/([0-9]+)', '\\\\3-\\\\2-\\\\1', '12/10/1990') # double \\\\ because \\ has to be 'escaped'"
   ]
  },
  {
   "cell_type": "code",
   "execution_count": 39,
   "metadata": {},
   "outputs": [
    {
     "data": {
      "text/plain": [
       "'et wes e derk end wende neght'"
      ]
     },
     "execution_count": 39,
     "metadata": {},
     "output_type": "execute_result"
    }
   ],
   "source": [
    "re.sub('[aiouy]', 'e', 'it was a dark and windy night') # replace all non-e vowels by e"
   ]
  },
  {
   "cell_type": "code",
   "execution_count": 40,
   "metadata": {},
   "outputs": [
    {
     "data": {
      "text/plain": [
       "'et wes e dark and windy night'"
      ]
     },
     "execution_count": 40,
     "metadata": {},
     "output_type": "execute_result"
    }
   ],
   "source": [
    "re.sub('[aiouy]', 'e', 'it was a dark and windy night', count=3) # stop after 3 replacements"
   ]
  },
  {
   "cell_type": "code",
   "execution_count": 41,
   "metadata": {},
   "outputs": [
    {
     "data": {
      "text/plain": [
       "'Th2 m44n sh4n2 br3ght'"
      ]
     },
     "execution_count": 41,
     "metadata": {},
     "output_type": "execute_result"
    }
   ],
   "source": [
    "# If you are replacing one character by another character, consider .translate() \n",
    "\n",
    "my_table = str.maketrans('aeiou', '12345')\n",
    "\n",
    "s1 = 'The moon shone bright'\n",
    "s1.translate(my_table)"
   ]
  },
  {
   "cell_type": "code",
   "execution_count": 42,
   "metadata": {},
   "outputs": [],
   "source": [
    "# .split() and re.split()\n",
    "# Suppose you get these lines from a csv (comma separated value) file\n",
    "\n",
    "s1 = 'large  , blue'\n",
    "s2 = 'small, red'\n",
    "s3 = 'small  ,orange'\n",
    "s4 = 'large,orange'"
   ]
  },
  {
   "cell_type": "code",
   "execution_count": 43,
   "metadata": {},
   "outputs": [
    {
     "data": {
      "text/plain": [
       "['small  ', 'orange']"
      ]
     },
     "execution_count": 43,
     "metadata": {},
     "output_type": "execute_result"
    }
   ],
   "source": [
    "s3.split(',')"
   ]
  },
  {
   "cell_type": "code",
   "execution_count": 46,
   "metadata": {},
   "outputs": [
    {
     "data": {
      "text/plain": [
       "['small', 'orange']"
      ]
     },
     "execution_count": 46,
     "metadata": {},
     "output_type": "execute_result"
    }
   ],
   "source": [
    "re.split('\\s*,\\s*', s3)"
   ]
  },
  {
   "cell_type": "code",
   "execution_count": 45,
   "metadata": {},
   "outputs": [
    {
     "data": {
      "text/plain": [
       "['How', 'now', 'brown', 'cow']"
      ]
     },
     "execution_count": 45,
     "metadata": {},
     "output_type": "execute_result"
    }
   ],
   "source": [
    "# .join() concatenates strings into a larger string separated by the string it is used on\n",
    "\n",
    "s = 'How now brown cow'\n",
    "l = s.split()\n",
    "l"
   ]
  },
  {
   "cell_type": "code",
   "execution_count": 48,
   "metadata": {},
   "outputs": [
    {
     "data": {
      "text/plain": [
       "'How now brown cow'"
      ]
     },
     "execution_count": 48,
     "metadata": {},
     "output_type": "execute_result"
    }
   ],
   "source": [
    "# now concatenate them together again!\n",
    "\n",
    "\" \".join(l)"
   ]
  },
  {
   "cell_type": "code",
   "execution_count": 49,
   "metadata": {},
   "outputs": [
    {
     "data": {
      "text/plain": [
       "'How,now,brown,cow'"
      ]
     },
     "execution_count": 49,
     "metadata": {},
     "output_type": "execute_result"
    }
   ],
   "source": [
    "# or with a different separator\n",
    "\",\".join(l)"
   ]
  },
  {
   "cell_type": "markdown",
   "metadata": {},
   "source": [
    "### Gaining a bit more efficiency in pattern matching"
   ]
  },
  {
   "cell_type": "code",
   "execution_count": 50,
   "metadata": {},
   "outputs": [
    {
     "data": {
      "text/plain": [
       "['12', '10', '1990']"
      ]
     },
     "execution_count": 50,
     "metadata": {},
     "output_type": "execute_result"
    }
   ],
   "source": [
    "# Compile a regular expression\n",
    "p = re.compile('[0-9]+')\n",
    "p.findall('12/10/1990')"
   ]
  },
  {
   "cell_type": "code",
   "execution_count": 51,
   "metadata": {},
   "outputs": [
    {
     "name": "stdout",
     "output_type": "stream",
     "text": [
      "CPU times: user 2 µs, sys: 0 ns, total: 2 µs\n",
      "Wall time: 4.05 µs\n"
     ]
    }
   ],
   "source": [
    "%time\n",
    "n = 0\n",
    "while n < 1000000:\n",
    "    re.findall('[0-9]+', '12/10/1990')\n",
    "    n += 1"
   ]
  },
  {
   "cell_type": "code",
   "execution_count": 52,
   "metadata": {},
   "outputs": [
    {
     "name": "stdout",
     "output_type": "stream",
     "text": [
      "CPU times: user 2 µs, sys: 1e+03 ns, total: 3 µs\n",
      "Wall time: 4.29 µs\n"
     ]
    }
   ],
   "source": [
    "%time\n",
    "p = re.compile('[0-9]+')\n",
    "n = 0\n",
    "while n < 1000000:\n",
    "    p.findall('12/10/1990')\n",
    "    n += 1\n"
   ]
  },
  {
   "cell_type": "code",
   "execution_count": 53,
   "metadata": {},
   "outputs": [
    {
     "data": {
      "text/plain": [
       "re.compile(r'[0-9]+', re.UNICODE)"
      ]
     },
     "execution_count": 53,
     "metadata": {},
     "output_type": "execute_result"
    }
   ],
   "source": [
    "p"
   ]
  },
  {
   "cell_type": "markdown",
   "metadata": {},
   "source": [
    "## Comprehensions"
   ]
  },
  {
   "cell_type": "code",
   "execution_count": 54,
   "metadata": {},
   "outputs": [],
   "source": [
    "# works for lists, sets, dictionaries"
   ]
  },
  {
   "cell_type": "code",
   "execution_count": 55,
   "metadata": {},
   "outputs": [
    {
     "data": {
      "text/plain": [
       "[1, 4, 9, 16, 25]"
      ]
     },
     "execution_count": 55,
     "metadata": {},
     "output_type": "execute_result"
    }
   ],
   "source": [
    "# given a list of numbers, make a list with the square of each number\n",
    "\n",
    "l = [1, 2, 3, 4, 5]\n",
    "\n",
    "result = []\n",
    "for number in l:\n",
    "    result.append(number**2)\n",
    "    \n",
    "result"
   ]
  },
  {
   "cell_type": "code",
   "execution_count": 57,
   "metadata": {},
   "outputs": [
    {
     "data": {
      "text/plain": [
       "[3, 6, 9, 12, 15]"
      ]
     },
     "execution_count": 57,
     "metadata": {},
     "output_type": "execute_result"
    }
   ],
   "source": [
    "[number*3 for number in l]"
   ]
  },
  {
   "cell_type": "code",
   "execution_count": 58,
   "metadata": {},
   "outputs": [
    {
     "data": {
      "text/plain": [
       "[9, 16, 25]"
      ]
     },
     "execution_count": 58,
     "metadata": {},
     "output_type": "execute_result"
    }
   ],
   "source": [
    "# only the ones larger than 2\n",
    "\n",
    "[x**2 for x in l if x > 2]"
   ]
  },
  {
   "cell_type": "code",
   "execution_count": 59,
   "metadata": {},
   "outputs": [
    {
     "data": {
      "text/plain": [
       "['C', 'V', 'C', 'V', 'C', 'C', 'C', 'V']"
      ]
     },
     "execution_count": 59,
     "metadata": {},
     "output_type": "execute_result"
    }
   ],
   "source": [
    "word = 'banapple'\n",
    "vowels = 'aeiou'\n",
    "\n",
    "['V' if letter in vowels else 'C' for letter in word]"
   ]
  },
  {
   "cell_type": "code",
   "execution_count": 60,
   "metadata": {},
   "outputs": [
    {
     "data": {
      "text/plain": [
       "[5, 6, 7, 8, 10, 12, 14, 16, 15, 18, 21, 24, 20, 24, 28, 32]"
      ]
     },
     "execution_count": 60,
     "metadata": {},
     "output_type": "execute_result"
    }
   ],
   "source": [
    "l1 = [1, 2, 3, 4]\n",
    "l2 = [5, 6, 7, 8]\n",
    "\n",
    "[x*y for x in l1 for y in l2]"
   ]
  },
  {
   "cell_type": "code",
   "execution_count": 62,
   "metadata": {},
   "outputs": [
    {
     "name": "stdout",
     "output_type": "stream",
     "text": [
      "['a1:', 'a1,', 'a1.', 'a2:', 'a2,', 'a2.', 'a3:', 'a3,', 'a3.', 'b1:', 'b1,', 'b1.', 'b2:', 'b2,', 'b2.', 'b3:', 'b3,', 'b3.', 'c1:', 'c1,', 'c1.', 'c2:', 'c2,', 'c2.', 'c3:', 'c3,', 'c3.']\n"
     ]
    }
   ],
   "source": [
    "s1 = 'abc'\n",
    "s2 = '123'\n",
    "s3 = ':,.'\n",
    "\n",
    "print([x+y+z for x in s1 for y in s2 for z in s3])"
   ]
  },
  {
   "cell_type": "code",
   "execution_count": 63,
   "metadata": {},
   "outputs": [
    {
     "name": "stdout",
     "output_type": "stream",
     "text": [
      "['a1:', 'a1,', 'a1.', 'a2:', 'a2,', 'a2.', 'a3:', 'a3,', 'a3.', 'b1:', 'b1,', 'b1.', 'b2:', 'b2,', 'b2.', 'b3:', 'b3,', 'b3.', 'c1:', 'c1,', 'c1.', 'c2:', 'c2,', 'c2.', 'c3:', 'c3,', 'c3.']\n"
     ]
    }
   ],
   "source": [
    "result = []\n",
    "\n",
    "for x in s1:\n",
    "    for y in s2:\n",
    "        for z in s3:\n",
    "            result.append(x+y+z)\n",
    "            \n",
    "print(result)"
   ]
  },
  {
   "cell_type": "code",
   "execution_count": 65,
   "metadata": {},
   "outputs": [
    {
     "data": {
      "text/plain": [
       "[['Linguistics', 'in', 'the', 'courtroom'],\n",
       " ['Literary', 'Detective', 'Work', 'on', 'the', 'Computer']]"
      ]
     },
     "execution_count": 65,
     "metadata": {},
     "output_type": "execute_result"
    }
   ],
   "source": [
    "text = [['Linguistics', 'in', 'the', 'courtroom'], ['Literary', 'Detective', 'Work', 'on', 'the', 'Computer']]\n",
    "text"
   ]
  },
  {
   "cell_type": "code",
   "execution_count": 67,
   "metadata": {},
   "outputs": [
    {
     "data": {
      "text/plain": [
       "23"
      ]
     },
     "execution_count": 67,
     "metadata": {},
     "output_type": "execute_result"
    }
   ],
   "source": [
    "# What does this expression do?\n",
    "\n",
    "len([letter for sentence in text for word in sentence for letter in word if letter in 'aeiou'])\n",
    "\n",
    "# It's a vowelcounter!"
   ]
  },
  {
   "cell_type": "code",
   "execution_count": 68,
   "metadata": {},
   "outputs": [
    {
     "data": {
      "text/plain": [
       "{'Linguistics': 11, 'in': 2, 'the': 3, 'courtroom': 9}"
      ]
     },
     "execution_count": 68,
     "metadata": {},
     "output_type": "execute_result"
    }
   ],
   "source": [
    "# Also works for dictionaries\n",
    "\n",
    "sentence = ['Linguistics', 'in', 'the', 'courtroom']\n",
    "{w: len(w) for w in sentence}"
   ]
  }
 ],
 "metadata": {
  "kernelspec": {
   "display_name": "Python 3",
   "language": "python",
   "name": "python3"
  },
  "language_info": {
   "codemirror_mode": {
    "name": "ipython",
    "version": 3
   },
   "file_extension": ".py",
   "mimetype": "text/x-python",
   "name": "python",
   "nbconvert_exporter": "python",
   "pygments_lexer": "ipython3",
   "version": "3.8.3"
  }
 },
 "nbformat": 4,
 "nbformat_minor": 4
}
