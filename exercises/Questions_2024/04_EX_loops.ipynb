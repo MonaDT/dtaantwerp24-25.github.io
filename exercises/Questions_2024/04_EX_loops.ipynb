{
 "cells": [
  {
   "cell_type": "markdown",
   "metadata": {},
   "source": [
    "# Exercise notebook 4 - Loops"
   ]
  },
  {
   "cell_type": "markdown",
   "metadata": {},
   "source": [
    "This exercise notebook complements the notebook of **Control structures - for and while loops**. <br> Use this [notebook](https://github.com/dtaantwerp/dtaantwerp.github.io/blob/53c91013df4514a943a9fad441fb5f28dc6f6bab/notebooks/05_W1_Fri_Control_Structures_Loops_For_While.ipynb) for a complete explanation of the theory.\n",
    "\n",
    "Try to prepare the <ins>underlined exercises</ins> for the exercise session. "
   ]
  },
  {
   "cell_type": "markdown",
   "metadata": {},
   "source": [
    "1. <ins> Print every element of this list below, using a for-loop."
   ]
  },
  {
   "cell_type": "code",
   "execution_count": 2,
   "metadata": {},
   "outputs": [],
   "source": [
    "fruit = ['apple', 'pear', 'banana', 'kiwi', 'melon']\n",
    "\n",
    "#CODE HERE"
   ]
  },
  {
   "cell_type": "markdown",
   "metadata": {},
   "source": [
    "2. <ins>For each element in the list check if the element contains the letter 'i'."
   ]
  },
  {
   "cell_type": "code",
   "execution_count": 3,
   "metadata": {},
   "outputs": [],
   "source": [
    "words = ['This', 'is', 'a', 'list', 'of', 'words']\n",
    "\n",
    "#CODE HERE"
   ]
  },
  {
   "cell_type": "markdown",
   "metadata": {},
   "source": [
    "3. <ins> Count how many characters the following list of words contains and store this in the variable 'total_words'."
   ]
  },
  {
   "cell_type": "code",
   "execution_count": 5,
   "metadata": {},
   "outputs": [],
   "source": [
    "opening = ['In', 'the', 'beginning', 'the', 'Universe', 'was', 'created,', 'this', 'had', 'made', 'many', 'people', 'very', 'angry', 'and', 'has', 'been', 'widely', 'regarded', 'as', 'a', 'bad', 'move.']\n",
    "total_words = 0\n",
    "\n",
    "#CODE HERE"
   ]
  },
  {
   "cell_type": "markdown",
   "metadata": {},
   "source": [
    "4. <ins>Combine a for-loop with a condition (if-statement): loop over the letters in the list, but only print the letter if it's uppercase."
   ]
  },
  {
   "cell_type": "code",
   "execution_count": 7,
   "metadata": {},
   "outputs": [],
   "source": [
    "letters = ['a', 'n', 'Y', 'e', 'm','M', 'o', 'C', 'n', 'A', 'e']\n",
    "\n",
    "#CODE HERE"
   ]
  },
  {
   "cell_type": "markdown",
   "metadata": {},
   "source": [
    "5. <ins> Loop over the letters again, but this time store all lowercase letters in an empty list. Then print the list to see if it worked."
   ]
  },
  {
   "cell_type": "code",
   "execution_count": 8,
   "metadata": {},
   "outputs": [],
   "source": [
    "letters = ['a', 'n', 'Y', 'e', 'm','M', 'o', 'C', 'n', 'A', 'e']\n",
    "\n",
    "lowercase = []\n",
    "\n",
    "#CODE HERE"
   ]
  },
  {
   "cell_type": "markdown",
   "metadata": {},
   "source": [
    "6. <ins> Print the first letter of each word in the phonetic alphabet."
   ]
  },
  {
   "cell_type": "code",
   "execution_count": 11,
   "metadata": {},
   "outputs": [],
   "source": [
    "phonetic_alphabet = [[\"Alpha\", \"Bravo\", \"Charlie\"],[\"Delta\", \"Echo\", \"Foxtrot\"]]\n",
    "\n",
    "#CODE HERE\n"
   ]
  },
  {
   "cell_type": "markdown",
   "metadata": {},
   "source": [
    "7. <ins> Create a for-loop that checks the length of the word and adds that number of characters to the counter. Use the 'continue' statement so that the for-loop skips words that consist of only one or two letters.\n",
    "\n",
    "If all goes to plan by the end of the for-loop, the counter should be 40. "
   ]
  },
  {
   "cell_type": "code",
   "execution_count": 12,
   "metadata": {},
   "outputs": [],
   "source": [
    "opening = ['I', 'think', 'this', 'is', 'the', 'beginning', 'of', 'a', 'beautiful', 'friendship']\n",
    "counter = 0 \n",
    "\n",
    "#CODE HERE"
   ]
  },
  {
   "cell_type": "markdown",
   "metadata": {},
   "source": [
    "8. <ins>For each word in the list, if the word begins with a vowel, print the word along with the length of that word. <br>\n",
    "**The output should look like this:** \n",
    "- Alpha 5\n",
    "- Echo 4\n",
    "- Indiana 7"
   ]
  },
  {
   "cell_type": "code",
   "execution_count": 13,
   "metadata": {},
   "outputs": [],
   "source": [
    "test = [[\"Alpha\", \"Bravo\", \"Charlie\"],[\"Delta\", \"Echo\", \"Foxtrot\"], [\"Golf\", \"Hotel\", \"Indiana\", \"Juliet\", \"Kilo\"],[\"Lima\", \"November\", \"Mike\"]]\n",
    "\n",
    "#CODE HERE\n"
   ]
  },
  {
   "cell_type": "markdown",
   "metadata": {},
   "source": [
    "9. <ins> Create a while-loop that prints how many letters there are in every item of this list."
   ]
  },
  {
   "cell_type": "code",
   "execution_count": 14,
   "metadata": {},
   "outputs": [],
   "source": [
    "counter = 0\n",
    "a_sentence = [\"I\", 'want', 'to', 'fly']\n",
    "\n",
    "#CODE HERE"
   ]
  },
  {
   "cell_type": "markdown",
   "metadata": {},
   "source": [
    "10. <ins> Create a while-loop that prints a statement while the counter is lower than 10 (increment the counter with + 1 after each loop).\n",
    "<br> Make sure that the while-loop breaks when the counter hits a multiple of five.\n"
   ]
  },
  {
   "cell_type": "code",
   "execution_count": 15,
   "metadata": {},
   "outputs": [],
   "source": [
    "counter = 1\n",
    "\n",
    "#CODE HERE"
   ]
  },
  {
   "cell_type": "markdown",
   "metadata": {},
   "source": [
    "11. <ins> Write a for-loop that prints a statement every time it comes across the letter 's' in de list.\n",
    "- rewrite the for-loop to make sure that the loop stops after it finds the first 's'.\n"
   ]
  },
  {
   "cell_type": "code",
   "execution_count": 16,
   "metadata": {},
   "outputs": [],
   "source": [
    "dwarves = ['happy', 'angry', 'sleepy', 'sneezy', 'dopey', 'bashful', 'doc']\n",
    "\n",
    "#CODE HERE"
   ]
  },
  {
   "cell_type": "markdown",
   "metadata": {},
   "source": [
    "12. There are two groups of dancers, those who like to lead and those who like to follow. Can you create a for-loop that pairs each leader with a follower. Make sure that every leader has danced with every follower."
   ]
  },
  {
   "cell_type": "code",
   "execution_count": 17,
   "metadata": {},
   "outputs": [],
   "source": [
    "leaders = ['Lisa', 'Tom', 'Jane', 'John']\n",
    "followers = ['Fred', 'Nick', 'Layla', 'Samantha']\n",
    "\n",
    "#CODE HERE"
   ]
  },
  {
   "cell_type": "markdown",
   "metadata": {},
   "source": [
    "13. Store the correct Batmen and Catwomen in the correct list of the corresponding director.\n",
    "- Christian Bale and Anne Hathaway should be stored in 'Nolan'\n",
    "- Michael Kaeton and Michelle Pfeiffer should be stored in 'Burton'\n",
    "- Robert Pattinson and Zoë Kravitz should be stored in 'Reeves'\n",
    "\n",
    "the output should look like this: ['Christian Bale', 'Anne Hathaway'] ['Michael Keaton', 'Michelle Pfeiffer'] ['Robert Pattinson', 'Zoë Kravitz']"
   ]
  },
  {
   "cell_type": "code",
   "execution_count": 10,
   "metadata": {},
   "outputs": [
    {
     "name": "stdout",
     "output_type": "stream",
     "text": [
      "['Christian Bale', 'Anne Hathaway'] ['Michael Keaton', 'Michelle Pfeiffer'] ['Robert Pattinson', 'Zoë Kravitz']\n"
     ]
    }
   ],
   "source": [
    "batman = [['Christian Bale', 'Michael Keaton', 'Robert Pattinson'],['Anne Hathaway', 'Michelle Pfeiffer', 'Zoë Kravitz']]\n",
    "\n",
    "Nolan = []\n",
    "Burton = []\n",
    "Reeves = []\n",
    "\n",
    "for actor in batman:\n",
    "    Nolan.append(actor[0])\n",
    "    Burton.append(actor[1])\n",
    "    Reeves.append(actor[2])\n",
    "\n",
    "print(Nolan, Burton, Reeves)\n",
    "#CODE HERE\n",
    "\n",
    "\n"
   ]
  },
  {
   "cell_type": "markdown",
   "metadata": {},
   "source": [
    "14. Combine a for-loop with a condition: for each word in the list, print the word if the first letter of the word is uppercase."
   ]
  },
  {
   "cell_type": "code",
   "execution_count": 9,
   "metadata": {},
   "outputs": [
    {
     "data": {
      "text/plain": [
       "1"
      ]
     },
     "execution_count": 9,
     "metadata": {},
     "output_type": "execute_result"
    }
   ],
   "source": [
    "country = ['pizza', 'Pisa', 'Italy', 'Giovanni', 'wine', 'pasta', 'Rome']\n",
    "\n",
    "country.index('Pisa')\n",
    "#CODE HERE"
   ]
  },
  {
   "cell_type": "markdown",
   "metadata": {},
   "source": [
    "15. Print each letter seperately of the first item of the list using a for loop."
   ]
  },
  {
   "cell_type": "code",
   "execution_count": 11,
   "metadata": {},
   "outputs": [
    {
     "name": "stdout",
     "output_type": "stream",
     "text": [
      "a\n",
      "p\n",
      "p\n",
      "l\n",
      "e\n",
      "['a', 'p', 'p', 'l', 'e']\n"
     ]
    }
   ],
   "source": [
    "fruit = ['apple', 'pear', 'banana', 'kiwi', 'melon']\n",
    "\n",
    "lisst = []\n",
    "\n",
    "for l in fruit[0]:\n",
    "    print(l)\n",
    "    lisst.append(l)\n",
    "print(lisst)\n",
    "\n",
    "#CODE HERE"
   ]
  },
  {
   "cell_type": "markdown",
   "metadata": {},
   "source": [
    "16. Below you will find a shopping list\n",
    "- Loop over the ingredients in the shopping list\n",
    "- Print \"Add {ingredient} to bowl\"\n",
    "- Skip the milk for now using \"continue\""
   ]
  },
  {
   "cell_type": "code",
   "execution_count": 26,
   "metadata": {},
   "outputs": [],
   "source": [
    "shopping_list = ['flour', 'sugar', 'eggs', 'milk', 'butter', 'vanilla']\n",
    "\n",
    "#CODE HERE"
   ]
  },
  {
   "cell_type": "markdown",
   "metadata": {},
   "source": [
    "17. Add the milk in steps of 100ml\n",
    "- First create a variable that says how much ml you added (starting with 0)\n",
    "- Initiate a loop that stops if you added 450ml of milk or more\n",
    "- Use the loop to add milk in steps of 100ml\n",
    "- At each step, test whether you used more than 450ml in total\n",
    "- Break the loop if this is the case and print \"You used too much milk!\""
   ]
  },
  {
   "cell_type": "code",
   "execution_count": 13,
   "metadata": {},
   "outputs": [
    {
     "name": "stdout",
     "output_type": "stream",
     "text": [
      "add more milk 100\n",
      "add more milk 200\n",
      "add more milk 300\n",
      "add more milk 400\n",
      "you used too much milk!\n"
     ]
    }
   ],
   "source": [
    "ml = 0\n",
    "\n",
    "while True:\n",
    "    ml += 100\n",
    "    if ml > 450:\n",
    "        print('you used too much milk!')\n",
    "        break\n",
    "    else:\n",
    "        print('add more milk', ml)\n",
    "\n",
    "#CODE HERE"
   ]
  },
  {
   "cell_type": "markdown",
   "metadata": {},
   "source": [
    "18. Turn this sentence into a list of words using the .split() method. "
   ]
  },
  {
   "cell_type": "code",
   "execution_count": 16,
   "metadata": {},
   "outputs": [],
   "source": [
    "paragraph = '''October arrived, spreading a damp chill over the grounds and into the castle. \n",
    "    Madam Pomfrey, the nurse, was kept busy by a sudden spate of colds among the staff and students. \n",
    "    Her Pepperup potion worked instantly, though it left the drinker smoking at the ears for several \n",
    "    hours afterward. Ginny Weasley, who had been looking pale, was bullied into taking some by Percy. \n",
    "    The steam pouring from under her vivid hair gave the impression that her whole head was on fire.'''"
   ]
  },
  {
   "cell_type": "code",
   "execution_count": 17,
   "metadata": {},
   "outputs": [],
   "source": [
    "# CODE HERE\n",
    "lst = paragraph.split()"
   ]
  },
  {
   "cell_type": "markdown",
   "metadata": {},
   "source": [
    "19. Calculate the average wordlength of the paragraph of the previous exercise."
   ]
  },
  {
   "cell_type": "code",
   "execution_count": 18,
   "metadata": {},
   "outputs": [
    {
     "name": "stdout",
     "output_type": "stream",
     "text": [
      "4.765432098765432\n"
     ]
    }
   ],
   "source": [
    "total_letters = len(lst)\n",
    "\n",
    "total_length = 0\n",
    "\n",
    "for word in lst:\n",
    "    total_length += len(word)\n",
    "\n",
    "print(total_length/total_letters)\n",
    "\n",
    "\n",
    "#CODE HERE\n"
   ]
  },
  {
   "cell_type": "code",
   "execution_count": 20,
   "metadata": {},
   "outputs": [
    {
     "name": "stdout",
     "output_type": "stream",
     "text": [
      "4.765432098765432\n"
     ]
    }
   ],
   "source": [
    "total_letters = 0\n",
    "\n",
    "for word in lst:\n",
    "    total_letters += len(word)\n",
    "    \n",
    "print(total_letters/len(lst))"
   ]
  },
  {
   "cell_type": "code",
   "execution_count": null,
   "metadata": {},
   "outputs": [],
   "source": []
  }
 ],
 "metadata": {
  "kernelspec": {
   "display_name": "Python 3 (ipykernel)",
   "language": "python",
   "name": "python3"
  },
  "language_info": {
   "codemirror_mode": {
    "name": "ipython",
    "version": 3
   },
   "file_extension": ".py",
   "mimetype": "text/x-python",
   "name": "python",
   "nbconvert_exporter": "python",
   "pygments_lexer": "ipython3",
   "version": "3.9.13"
  },
  "vscode": {
   "interpreter": {
    "hash": "96e0a4d32f1918f770291244863a4a1e044b05d1a3b8d455e2e179187e01062a"
   }
  }
 },
 "nbformat": 4,
 "nbformat_minor": 2
}
