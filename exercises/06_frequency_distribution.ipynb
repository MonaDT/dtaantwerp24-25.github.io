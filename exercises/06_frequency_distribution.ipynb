{
 "cells": [
  {
   "cell_type": "markdown",
   "metadata": {},
   "source": [
    "# Exercises on Frequency Distribution\n",
    "\n",
    "Use this [notebook](https://github.com/dtaantwerp/dtaantwerp.github.io/blob/DTA_Bootcamp_2021_students/notebooks/07_W2_Mon_Frequency_Distribution_in_Python_Counting_Text.ipynb) for a complete explanation of Frequency Distribution."
   ]
  },
  {
   "cell_type": "markdown",
   "metadata": {},
   "source": [
    "##### 1. Calculate the frequency of special characters in the text (without the help of Counter)\n",
    "\n",
    "Input variable: 1. text: str, 2. special_char: list  \n",
    "Output variable: 3. frequency: dict\n",
    "\n",
    "To-do:\n",
    "1. Initialize frequency dictionary;\n",
    "2. Iterate over special_char;\n",
    "3. Count the occurrence of each character in the text;\n",
    "4. Store count in the frequency variable;\n",
    "5. Print frequencies."
   ]
  },
  {
   "cell_type": "code",
   "execution_count": null,
   "metadata": {},
   "outputs": [],
   "source": [
    "text = '''And for this reason, I said, money and honour have no attraction for them; good men do not wish to be openly demanding payment for governing and so to get the name of hirelings, nor by secretly helping themselves out of the public revenues to get the name of thieves. And not being ambitious they do not care about honour. Wherefore necessity must be laid upon them, and they must be induced to serve from the fear of punishment. And this, as I imagine, is the reason why the forwardness to take office, instead of waiting to be compelled, has been deemed dishonourable. Now the worst part of the punishment is that he who refuses to rule is liable to be ruled by one who is worse than himself. And the fear of this, as I conceive, induces the good to take office, not because they would, but because they cannot help --not under the idea that they are going to have any benefit or enjoyment themselves, but as a necessity, and because they are not able to commit the task of ruling to any one who is better than themselves, or indeed as good. For there is reason to think that if a city were composed entirely of good men, then to avoid office would be as much an object of contention as to obtain office is at present; then we should have plain proof that the true ruler is not meant by nature to regard his own interest, but that of his subjects; and every one who knew this would choose rather to receive a benefit from another than to have the trouble of conferring one. So far am I from agreeing with Thrasymachus that justice is the interest of the stronger. This latter question need not be further discussed at present; but when Thrasymachus says that the life of the unjust is more advantageous than that of the just, his new statement appears to me to be of a far more serious character. Which of us has spoken truly? And which sort of life, Glaucon, do you prefer?'''"
   ]
  },
  {
   "cell_type": "code",
   "execution_count": null,
   "metadata": {},
   "outputs": [],
   "source": [
    "# Your code here:\n"
   ]
  },
  {
   "cell_type": "markdown",
   "metadata": {},
   "source": [
    "##### 2. Update script from 1.1 to exclude characters that do not occur in the text \n",
    "\n",
    "To-do: \n",
    "\n",
    "1. Add condition in the loop to exclude characters with count 0;\n",
    "2. Print frequency."
   ]
  },
  {
   "cell_type": "code",
   "execution_count": 1,
   "metadata": {},
   "outputs": [],
   "source": [
    "# Your code here:\n"
   ]
  },
  {
   "cell_type": "markdown",
   "metadata": {},
   "source": [
    "##### 3. Calculate the frequency of all characters in the text (without the help of Counter)\n",
    "\n",
    "Input variable: 1. text: str  \n",
    "Output variable: 2. frequency: dict\n",
    "\n",
    "To-do:\n",
    "1. Initialize frequency dictionary;\n",
    "2. Lower-case text;\n",
    "3. Obtain a list of unique characters (use a combination of list and set data types)\n",
    "4. Sort list;\n",
    "5. Iterate over a list of unique characters;\n",
    "6. Count the occurrence of each character in the text;\n",
    "7. Store count in the frequency variable;\n",
    "8. Print frequencies."
   ]
  },
  {
   "cell_type": "code",
   "execution_count": 2,
   "metadata": {
    "scrolled": true
   },
   "outputs": [],
   "source": [
    "# Your code here:\n"
   ]
  },
  {
   "cell_type": "markdown",
   "metadata": {},
   "source": [
    "##### 4. Another way to calculate the frequency of all characters in the text (without using Counter)\n",
    "\n",
    "Input variable: 1. text: str  \n",
    "Output variable: 2. frequency: dict\n",
    "\n",
    "To-do:\n",
    "1. Initialize frequency dictionary;\n",
    "2. Lower-case text;\n",
    "3. Iterate over characters in text;\n",
    "4. Check whether a character is in a dictionary: update counts;\n",
    "5. Print frequencies."
   ]
  },
  {
   "cell_type": "code",
   "execution_count": 3,
   "metadata": {},
   "outputs": [],
   "source": [
    "# Your code here:\n"
   ]
  },
  {
   "cell_type": "markdown",
   "metadata": {},
   "source": [
    "##### 5. Sort frequency dictionary from 4 task\n",
    "\n",
    "Sort by characters (smallest to largest)\n",
    "\n",
    "a. To-do:\n",
    "1. Obtain a list of characters from the frequency dictionary;\n",
    "2. Sort list of characters;\n",
    "3. Initialize new frequency dictionary (e.g. frequency_sorted);\n",
    "4. Iterate over list of characters;\n",
    "5. Retrieve frequency value for a character;\n",
    "6. Store value in sorted frequency dictionary;\n",
    "7. Print frequencies.\n",
    "\n",
    "Sort by count (largest to smallest)  \n",
    "\n",
    "b. To-do:\n",
    "1. Modify the previous script to sort by count\n",
    "2. To obtain a sorted list of characters by value, use the following script: characters = sorted(frequency, key=frequency.get, reverse = True)"
   ]
  },
  {
   "cell_type": "code",
   "execution_count": 4,
   "metadata": {},
   "outputs": [],
   "source": [
    "# Your code for a. here:\n",
    "\n"
   ]
  },
  {
   "cell_type": "code",
   "execution_count": 5,
   "metadata": {},
   "outputs": [],
   "source": [
    "# Your code for b. here:\n",
    "\n"
   ]
  },
  {
   "cell_type": "markdown",
   "metadata": {},
   "source": [
    "##### 6. Calculate the frequency of all characters in the text (with the help of Counter)\n",
    "\n",
    "Input variable: 1. text: str  \n",
    "Output variable: 2. frequency: dict\n",
    "\n",
    "To-do:\n",
    "1. Import Counter form collections\n",
    "2. Initialize Counter object;\n",
    "3. Lower-case text;\n",
    "4. Update counts;\n",
    "5. Print top 10 frequencies."
   ]
  },
  {
   "cell_type": "code",
   "execution_count": 6,
   "metadata": {},
   "outputs": [],
   "source": [
    "# Your code here:\n",
    "\n"
   ]
  },
  {
   "cell_type": "markdown",
   "metadata": {},
   "source": [
    "##### 7. Convert frequency dictionary to relative frequency dictionary\n",
    "\n",
    "Input variable: 1. frequency: dict  \n",
    "Output variable: 2. relative_frequency: dict\n",
    "\n",
    "To-do:\n",
    "1. Make a copy of the frequency dictionary. Use copy() method; \n",
    "2. Calculate the number of all characters in the text;\n",
    "3. Iterate over the copy frequency dictionary to update a count to relative frequency;\n",
    "4. Print relative frequency."
   ]
  },
  {
   "cell_type": "code",
   "execution_count": 7,
   "metadata": {},
   "outputs": [],
   "source": [
    "# Your code here:\n"
   ]
  },
  {
   "cell_type": "markdown",
   "metadata": {},
   "source": [
    "##### 8. Remove from the frequency dictionary all non-alphabetical characters \n",
    "\n",
    "Input variable: 1. frequency: dict  \n",
    "Output variable: 2. alpha_frequency: dict\n",
    "\n",
    "To-do:\n",
    "1. Initialize alpha_frequency Counter object;\n",
    "2. Obtain a list of alphabetical characters; use the following script - alpha_char = [chr(i) for i in range(97, 123, 1)]\n",
    "3. Iterate over the list of alphabetical characters;\n",
    "4. Retrieve frequency value for a character;\n",
    "5. Store value in alpha_frequency dictionary;\n",
    "4. Print 10 least common characters."
   ]
  },
  {
   "cell_type": "code",
   "execution_count": 8,
   "metadata": {},
   "outputs": [],
   "source": [
    "# Your code here:\n"
   ]
  },
  {
   "cell_type": "code",
   "execution_count": null,
   "metadata": {},
   "outputs": [],
   "source": []
  }
 ],
 "metadata": {
  "kernelspec": {
   "display_name": "Python 3",
   "language": "python",
   "name": "python3"
  },
  "language_info": {
   "codemirror_mode": {
    "name": "ipython",
    "version": 3
   },
   "file_extension": ".py",
   "mimetype": "text/x-python",
   "name": "python",
   "nbconvert_exporter": "python",
   "pygments_lexer": "ipython3",
   "version": "3.8.8"
  }
 },
 "nbformat": 4,
 "nbformat_minor": 4
}
