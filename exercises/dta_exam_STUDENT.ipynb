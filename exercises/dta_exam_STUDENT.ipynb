{
 "cells": [
  {
   "cell_type": "markdown",
   "metadata": {
    "id": "rygzzfx_2-xY"
   },
   "source": [
    "# 2020 Digital Text Analysis Bootcamp : Practical Exam \n",
    "\n",
    "Welcome to the practical exam. Below are a number of questions that test the skills you've learnt during the bootcamp. The \n",
    "\n",
    "Guidelines:\n",
    "\n",
    "- You have **2 hours** to complete the exam.\n",
    "- This is an **open book exam**. You may use the web or any other resources to assist you. \n",
    "- This exam will be followed by a one-to-one interview, where you will be given the chance to show your understanding of python. \n",
    "\n",
    "Marking:\n",
    "\n",
    "- *basic*: you should be able to solve these entirely.(1 points)\n",
    "- *intermediate*: you should be able to solve these to a reasonable extent (i.e. at least make a start) (2 points)\n",
    "- *hard*: you might not even reach these, but this is where you can get extra points. (3 points)\n",
    "- Points can be gained for **partial answers**.\n",
    "\n",
    "Tips:\n",
    "\n",
    "- This exam does not ask you to show skills that you have not learn during the bootcamp. Keep it simple, keep it familiar. \n",
    "- Use notes to plan your answers.\n",
    "- Use `print` statements to explore the data and debug your code.\n",
    "- Show us the steps of the process that you **do** understand, even if you can't complete the process fully.\n",
    "- In python there is no `NoCodeError`, so don't stare at empty cells"
   ]
  },
  {
   "cell_type": "markdown",
   "metadata": {
    "id": "vLnS-l0d2-xa"
   },
   "source": [
    "# 0. Importing Packages\n",
    "\n",
    "Repair the import statements so that all the packages can be appropriately imported and used in the following cell.\n",
    "\n",
    "N.B. The second cell should print`True` twice. You should only alter the first cell.\n",
    "\n",
    "Basic: 1 point\n",
    "\n",
    "Expected Output:\n",
    "```\n",
    "True\n",
    "True\n",
    "```"
   ]
  },
  {
   "cell_type": "code",
   "execution_count": null,
   "metadata": {
    "colab": {
     "base_uri": "https://localhost:8080/",
     "height": 132
    },
    "id": "AEpdtFsR2-xc",
    "outputId": "6c4befb9-7fd6-4212-feba-fdfe98f7348e"
   },
   "outputs": [],
   "source": [
    "# fix this code\n",
    "import mean from numpy as np\n",
    "from pandas import pd # 1 point"
   ]
  },
  {
   "cell_type": "code",
   "execution_count": null,
   "metadata": {
    "colab": {
     "base_uri": "https://localhost:8080/",
     "height": 219
    },
    "id": "-6i5w26A2-xq",
    "outputId": "d281ae9b-ec0b-42da-e62e-6747e9e86599"
   },
   "outputs": [],
   "source": [
    "# You do not need to edit this code\n",
    "print(4 == np.mean([3,5]))\n",
    "print(read_csv('data/titanic.csv').iloc[0]['PassengerId'] == 1)\n",
    "# If the packages above are imported correctly, this cell will print True twice."
   ]
  },
  {
   "cell_type": "markdown",
   "metadata": {
    "id": "ESioKEpcFy5f"
   },
   "source": [
    "# 1. For loops\n",
    "\n",
    "Use a for loop to remove the odd numbers from this list of numbers.\n",
    "Use function decomposition where possible for extra marks.\n",
    "\n",
    "Basic: 1 point\n",
    "\n",
    "Expected outpput:\n",
    "\n",
    "```\n",
    "[2, 4]\n",
    "```"
   ]
  },
  {
   "cell_type": "code",
   "execution_count": null,
   "metadata": {
    "colab": {
     "base_uri": "https://localhost:8080/",
     "height": 34
    },
    "id": "OYiOYvaeFLbM",
    "outputId": "84e80777-af9d-434f-cbec-36b463155d5d"
   },
   "outputs": [
    {
     "data": {
      "text/plain": [
       "[2, 4]"
      ]
     },
     "execution_count": 56,
     "metadata": {
      "tags": []
     },
     "output_type": "execute_result"
    }
   ],
   "source": [
    "numbers = [1,2,3,4,5]\n",
    "\n",
    "# code here\n",
    "\n",
    "\n"
   ]
  },
  {
   "cell_type": "markdown",
   "metadata": {
    "id": "6GILTP8ZFB-O"
   },
   "source": [
    "# 2. Regular Expressions\n",
    "\n",
    "Write a regular expression that extracts consecutive sequences of 2 or more **capitalized words** from a sentence. Use the method `re.finditer`\n",
    "\n",
    "Intermediate: 2 points\n",
    "\n",
    "Example Output:\n",
    "```\n",
    "<_sre.SRE_Match object; span=(22, 34), match='Mike Hammond'>\n",
    "<_sre.SRE_Match object; span=(58, 77), match='Tilia Maria Cordata'>\n",
    "```"
   ]
  },
  {
   "cell_type": "code",
   "execution_count": 11,
   "metadata": {
    "colab": {
     "base_uri": "https://localhost:8080/",
     "height": 52
    },
    "id": "BBQWJNmxE0gg",
    "outputId": "664860ed-559a-46e2-d936-30a283f3f03d"
   },
   "outputs": [],
   "source": [
    "import re\n",
    "text = 'The first speaker was Mike Hammond. He was interrupted by Tilia Maria Cordata from FWO'\n",
    "\n",
    "# code here \n",
    "\n"
   ]
  },
  {
   "cell_type": "markdown",
   "metadata": {
    "id": "nYg6jK9WBgCU"
   },
   "source": [
    "# 3. Strings\n",
    "Write a cell that counts the number of a times one string `'na'` appears in another string `'banana'` and prints the result: `The string 'banana' contains 'na' 2 times!`. Use the `string.count()` method and `string.format()` method.\n",
    "\n",
    "Basic : 1 point\n",
    "\n",
    "Example Output:\n",
    "\n",
    "```\n",
    "The string 'banana' contains 'na' 2 times!\n",
    "\n",
    "```"
   ]
  },
  {
   "cell_type": "code",
   "execution_count": null,
   "metadata": {
    "id": "uLuy3FnLBgLZ"
   },
   "outputs": [],
   "source": [
    "s = \"banana\"\n",
    "sub_s = \"na\"\n",
    "\n",
    "# code here"
   ]
  },
  {
   "cell_type": "markdown",
   "metadata": {
    "id": "Vp2Ok7fq2-xz"
   },
   "source": [
    "# 4. While loops\n",
    "\n",
    "Use a `while` loop to build a 'text reader' for `alice.txt`. Your code should open the file, record the position, and print one line of the file every time the user inputs 'y'. If the user inputs anything else, the reader should stop.\n",
    "\n",
    "You should use the functions : `open`, `readlines`, and `input`.\n",
    "\n",
    "Basic : 1 point\n",
    "\n",
    "Example output:\n",
    "\n",
    "```\n",
    "More text?y\n",
    "*This 30th edition should be labeled alice30.txt or alice30.zip.\n",
    "\n",
    "More text?n\n",
    "\n",
    "```"
   ]
  },
  {
   "cell_type": "code",
   "execution_count": 10,
   "metadata": {
    "colab": {
     "base_uri": "https://localhost:8080/",
     "height": 86
    },
    "id": "QDBVtERu2-x1",
    "outputId": "dea6fd1d-b08b-4aa7-af3b-b7722d231d50"
   },
   "outputs": [],
   "source": [
    "with open('data/alice.txt', 'r') as f:\n",
    "    text = f.readlines()\n",
    "\n",
    "pos = 0\n",
    "\n",
    "# code here \n",
    "\n"
   ]
  },
  {
   "cell_type": "markdown",
   "metadata": {
    "id": "yrLEOo_s2-x7"
   },
   "source": [
    "# 5. Word Frequency\n",
    "\n",
    "1. Read in the file `data/oliver.txt` and produce a character-level frequency dictionary that only consists of the punctuation symbols defined in the `string` module method `string.punctuation` (https://docs.python.org/3/library/string.html).\n",
    "\n",
    "2. Write away the results (i.e. word-frequency pairs) to a file called `freqs.tsv` (a tab-separated file; see output below). You should use a tab (`\\t`) character to separate values. \n",
    "\n",
    "You should use the functions/ methods: `open` and `string.punctuation`.\n",
    "\n",
    "tip. Remember to open the file in 'write' mode, when you want to write to it. i.e. `open('freqs.tsv', 'w')`\n",
    "\n",
    "Basic : 1 point"
   ]
  },
  {
   "cell_type": "code",
   "execution_count": null,
   "metadata": {
    "id": "FlytxpSK2-x8"
   },
   "outputs": [],
   "source": [
    "import string\n",
    "\n",
    "punct = string.punctuation\n",
    "\n",
    "# code here"
   ]
  },
  {
   "cell_type": "markdown",
   "metadata": {
    "id": "JxumPFba2-yE"
   },
   "source": [
    "No inverse sorting:"
   ]
  },
  {
   "cell_type": "markdown",
   "metadata": {
    "id": "6JD0ZBFa2-yF"
   },
   "source": [
    "```text\n",
    ",\t16110\n",
    "'\t11236\n",
    ".\t8053\n",
    ";\t2635\n",
    "-\t2620\n",
    "!\t1447\n",
    "?\t1014\n",
    ":\t644\n",
    "_\t228\n",
    "\"\t90\n",
    "(\t75\n",
    ")\t75\n",
    "*\t15\n",
    "[\t1\n",
    "]\t1\n",
    "```"
   ]
  },
  {
   "cell_type": "markdown",
   "metadata": {
    "id": "IkcoorIP2-yW"
   },
   "source": [
    "# 6. Advanced String Manipulation"
   ]
  },
  {
   "cell_type": "markdown",
   "metadata": {
    "id": "Eua6gFAm2-yY"
   },
   "source": [
    "The file `data/oeuvre.csv` contains bibliographic data in a comma-separated format. The first line is a header which contains the names for all columns:\n",
    "1. The file contains two **syntactic errors** against the CSV conventions: identify and correct these before moving forward. The errors will need to be edited in the `csv` file itself using your operating system's text-editor.\n",
    "2. Load the lines from the file but ignore the header in the first line.\n",
    "3. Create a list (called `data`) consisting of dictionaries for each row of the csv. Each `dict` should contain key:value pairs that map the column name to the corresponding cell value in that row. Below, we print what the resulting list of dictionaries should look like.\n",
    "\n",
    "Hard! : 3 points\n",
    "\n",
    "Example output:\n",
    "\n",
    "```json\n",
    "[{'title': \"Harry Potter and the Philosopher's Stone\",\n",
    "  'year': '1997',\n",
    "  'series': 'Harry Potter',\n",
    "  'author': 'J.K. Rowling'},\n",
    " {'title': 'Harry Potter and the Chamber of Secrets',\n",
    "  'year': '1998',\n",
    "  'series': 'Harry Potter',\n",
    "  'author': 'J.K. Rowling'},\n",
    " {'title': 'Harry Potter and the Prisoner of Azkaban',\n",
    "  'year': '1999',\n",
    "  'series': 'Harry Potter',\n",
    "  'author': 'J.K. Rowling'},\n",
    " {'title': 'Harry Potter and the Goblet of Fire',\n",
    "  'year': '2000',\n",
    "  'series': 'Harry Potter',\n",
    "  'author': 'J.K. Rowling'},\n",
    " {'title': 'Harry Potter and the Order of the Phoenix',\n",
    "  'year': '2003',\n",
    "  'series': 'Harry Potter',\n",
    "  'author': 'J.K. Rowling'},\n",
    " {'title': 'Harry Potter and the Half-Blood Prince',\n",
    "  'year': '2005',\n",
    "  'series': 'Harry Potter',\n",
    "  'author': 'J.K. Rowling'},\n",
    " {'title': 'Harry Potter and the Deathly Hallows',\n",
    "  'year': '2007',\n",
    "  'series': 'Harry Potter',\n",
    "  'author': 'J.K.'},\n",
    " {'title': \"The Cuckoo's Calling\",\n",
    "  'year': '2013',\n",
    "  'series': 'Cormoran Strike',\n",
    "  'author': 'Robert Galbraith'},\n",
    " {'title': 'The Silkworm',\n",
    "  'year': '2014',\n",
    "  'series': 'Cormoran Strike',\n",
    "  'author': 'Robert Galbraith'},\n",
    " {'title': 'Career of Evil',\n",
    "  'year': '2015',\n",
    "  'series': 'Cormoran Strike',\n",
    "  'author': 'Robert Galbraith'},\n",
    " {'title': 'Lethal White',\n",
    "  'year': '2018',\n",
    "  'series': 'Cormoran Strike',\n",
    "  'author': 'Robert Galbraith'},\n",
    " {'title': 'Troubled Blood',\n",
    "  'year': '2020',\n",
    "  'series': 'Cormoran Strike',\n",
    "  'author': 'Robert Galbraith'}]\n",
    "```"
   ]
  },
  {
   "cell_type": "code",
   "execution_count": null,
   "metadata": {
    "id": "TqTI0TdK2-yY"
   },
   "outputs": [],
   "source": [
    "# code here\n",
    "\n",
    "\n"
   ]
  },
  {
   "cell_type": "markdown",
   "metadata": {
    "id": "xqUjSRs7ZctX"
   },
   "source": [
    "# 7. Dictionaries \n",
    "Use the dictionary of emoticons to detect the sentiment in the tweets text.\n",
    "\n",
    "1. Instantialize a dictionary that maps emoticons :), :(, :>, :') to sentiment values 1, -1, 1, -1. \n",
    "2. Load the data from the file \"tweets.txt\" which contains a (fake) tweet on every line.\n",
    "3. Write a function that takes a line from the file (tweet) and the emoticon dictionary as parameters and returns the average sentiment in the tweet\n",
    "\n",
    "Intermediate: 2 points\n",
    "\n",
    "example output:\n",
    "\n",
    "```\n",
    "-1.0\n",
    "1.0\n",
    "-1.0\n",
    "1.0\n",
    "0\n",
    "-1.0\n",
    "1.0\n",
    "1.0\n",
    "-1.0\n",
    "-1.0\n",
    "```\n"
   ]
  },
  {
   "cell_type": "code",
   "execution_count": 1,
   "metadata": {
    "colab": {
     "base_uri": "https://localhost:8080/",
     "height": 191
    },
    "id": "9t_hzIWpZc6N",
    "outputId": "fb8d9ade-8f32-49f5-ca31-08bf67b2b9c9"
   },
   "outputs": [],
   "source": [
    "sentiment = {\":)\": 1, \":(\": -1, \":>\": 1, \":')\": -1}\n",
    "\n",
    "# code here\n",
    "\n"
   ]
  },
  {
   "cell_type": "markdown",
   "metadata": {
    "id": "6ZTW43mH2-yk"
   },
   "source": [
    "# 8. Data Structures with pandas\n",
    "\n",
    "Use the pandas package to adapt the `oeuvre` list.\n",
    "1. Convert the list into a Dataframe.\n",
    "2. Remove 'Harry Potter and the ' from all of the titles using the method `pd.Series.str.replace`.\n",
    "\n",
    "Example Output:\n",
    "\n",
    "```\n",
    "                   title  year           series            author\n",
    "0    Philosopher's Stone  1997     Harry Potter      J.K. Rowling\n",
    "1     Chamber of Secrets  1998     Harry Potter      J.K. Rowling\n",
    "2    Prisoner of Azkaban  1999     Harry Potter      J.K. Rowling\n",
    "3         Goblet of Fire  2000     Harry Potter      J.K. Rowling\n",
    "4   Order of the Phoenix  2003     Harry Potter      J.K. Rowling\n",
    "5      Half-Blood Prince  2005     Harry Potter      J.K. Rowling\n",
    "6        Deathly Hallows  2007     Harry Potter      J.K. Rowling\n",
    "7   The Cuckoo's Calling  2013  Cormoran Strike  Robert Galbraith\n",
    "8           The Silkworm  2014  Cormoran Strike  Robert Galbraith\n",
    "9         Career of Evil  2015  Cormoran Strike  Robert Galbraith\n",
    "10          Lethal White  2018  Cormoran Strike  Robert Galbraith\n",
    "11        Troubled Blood  2020  Cormoran Strike  Robert Galbraith\n",
    "```\n",
    "\n",
    "Show the duration of each series in the Dataframe.\n",
    "1. Convert the year column to an integer using the `Series.apply` method and the `int` function.\n",
    "2. Group the Dataframe based on years using the `df.groupby` function.\n",
    "3. Calculate the duration of the series column by using the `Series.min' and `Series.max' methods. \n",
    "\n",
    "Example Output:\n",
    "\n",
    "```\n",
    "Cormoran Strike     7\n",
    "Harry Potter       10\n",
    "```\n",
    "\n",
    "Hard 3 points"
   ]
  },
  {
   "cell_type": "code",
   "execution_count": 9,
   "metadata": {
    "id": "W36j3GYv2-yl"
   },
   "outputs": [
    {
     "data": {
      "text/plain": [
       "series\n",
       "Cormoran Strike     7\n",
       "Harry Potter       10\n",
       "Name: year, dtype: int64"
      ]
     },
     "execution_count": 9,
     "metadata": {},
     "output_type": "execute_result"
    }
   ],
   "source": [
    "import pandas as pd\n",
    "oeuvre = [{'title': \"Harry Potter and the Philosopher's Stone\",\n",
    "  'year': '1997',\n",
    "  'series': 'Harry Potter',\n",
    "  'author': 'J.K. Rowling'},\n",
    " {'title': 'Harry Potter and the Chamber of Secrets',\n",
    "  'year': '1998',\n",
    "  'series': 'Harry Potter',\n",
    "  'author': 'J.K. Rowling'},\n",
    " {'title': 'Harry Potter and the Prisoner of Azkaban',\n",
    "  'year': '1999',\n",
    "  'series': 'Harry Potter',\n",
    "  'author': 'J.K. Rowling'},\n",
    " {'title': 'Harry Potter and the Goblet of Fire',\n",
    "  'year': '2000',\n",
    "  'series': 'Harry Potter',\n",
    "  'author': 'J.K. Rowling'},\n",
    " {'title': 'Harry Potter and the Order of the Phoenix',\n",
    "  'year': '2003',\n",
    "  'series': 'Harry Potter',\n",
    "  'author': 'J.K. Rowling'},\n",
    " {'title': 'Harry Potter and the Half-Blood Prince',\n",
    "  'year': '2005',\n",
    "  'series': 'Harry Potter',\n",
    "  'author': 'J.K. Rowling'},\n",
    " {'title': 'Harry Potter and the Deathly Hallows',\n",
    "  'year': '2007',\n",
    "  'series': 'Harry Potter',\n",
    "  'author': 'J.K. Rowling'},\n",
    " {'title': \"The Cuckoo's Calling\",\n",
    "  'year': '2013',\n",
    "  'series': 'Cormoran Strike',\n",
    "  'author': 'Robert Galbraith'},\n",
    " {'title': 'The Silkworm',\n",
    "  'year': '2014',\n",
    "  'series': 'Cormoran Strike',\n",
    "  'author': 'Robert Galbraith'},\n",
    " {'title': 'Career of Evil',\n",
    "  'year': '2015',\n",
    "  'series': 'Cormoran Strike',\n",
    "  'author': 'Robert Galbraith'},\n",
    " {'title': 'Lethal White',\n",
    "  'year': '2018',\n",
    "  'series': 'Cormoran Strike',\n",
    "  'author': 'Robert Galbraith'},\n",
    " {'title': 'Troubled Blood',\n",
    "  'year': '2020',\n",
    "  'series': 'Cormoran Strike',\n",
    "  'author': 'Robert Galbraith'}]\n",
    "# code here\n",
    "\n"
   ]
  },
  {
   "cell_type": "markdown",
   "metadata": {
    "id": "_S4rk0Ap2-zC"
   },
   "source": [
    "# 8. Web Scraping\n",
    "\n",
    "Use the `urlib.request.urlopen` method to open the webpage 'https://en.wikipedia.org/wiki/Antwerp', and the `BeautifulSoup` package to parse the headings `['h1','h2','h3','h4','h5']` from the page. Your code should record all the headings in a `list`.\n",
    "\n",
    "You will need to use the functions/ methods : `request.urlopen`, `find_all`, `append`\n",
    "\n",
    "\n",
    "tip. Remember that you can give multiple tags to `find_all` e.g. `bs.find_all(['h1','h2','h3','h4','h5'])`\n",
    "\n",
    "Intermediate : 2 points\n",
    "\n",
    "Example output :\n",
    "\n",
    "```\n",
    "First ten headings:\n",
    "Antwerp\n",
    "Contents\n",
    "History[edit]\n",
    "Origin of the name[edit]\n",
    "Pre-1500[edit]\n",
    "16th century[edit]\n",
    "Reformation era[edit]\n",
    "Dutch revolt[edit]\n",
    "17th–19th centuries[edit]\n",
    "20th century[edit]\n",
    "```"
   ]
  },
  {
   "cell_type": "code",
   "execution_count": 2,
   "metadata": {
    "colab": {
     "base_uri": "https://localhost:8080/",
     "height": 208
    },
    "id": "IxHY_ZeW2-zD",
    "outputId": "52d4002e-507f-4b25-ed51-fa5beb26c4ba"
   },
   "outputs": [],
   "source": [
    "from bs4 import BeautifulSoup\n",
    "from urllib import request\n",
    "\n",
    "html = request.urlopen('https://en.wikipedia.org/wiki/Antwerp')\n",
    "\n",
    "# code here \n",
    "\n",
    "\n"
   ]
  },
  {
   "cell_type": "markdown",
   "metadata": {
    "id": "rtd3zJfm2-zI"
   },
   "source": [
    "# 9. Data Visualisation\n",
    "\n",
    "Use the pandas package to create a bar plot of the average age for each class. Your code should use the functions/methods `read_csv`,`groupby`,`mean`, and `plot`. You will need to specify `kind`\n",
    "\n",
    "Intermediate : 2 points\n",
    "\n",
    "![average age plot](data:image/png;base64,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)"
   ]
  },
  {
   "cell_type": "code",
   "execution_count": 3,
   "metadata": {
    "colab": {
     "base_uri": "https://localhost:8080/",
     "height": 296
    },
    "id": "T-1HM1Dl2-zJ",
    "outputId": "0efb3daa-1166-4513-e8f8-8d55101d3eb9"
   },
   "outputs": [],
   "source": [
    "# code here \n",
    "\n",
    "\n"
   ]
  },
  {
   "cell_type": "markdown",
   "metadata": {
    "id": "V-3LtscD2-zO"
   },
   "source": [
    "# Bonus Question for the Boffins\n",
    "\n",
    "This question will not be marked, but if you wish to test out your numpy, give it a try:"
   ]
  },
  {
   "cell_type": "markdown",
   "metadata": {
    "id": "1eL4V1ob5Yjd",
    "outputId": "3d3b703c-8b3a-42df-9b47-f4985e046718"
   },
   "source": [
    "Suppose there are two supermarkets in the neighbourhood: Delhaize and Lidl. We would like to buy two different sets of products: \n",
    "\n",
    "- set 1: 1kg of potatoes, 2kg of carrots, 3kg of apples, 2kg of tomatoes\n",
    "- set 2: 3kg of potatoes, 4kg of carrots, 1kg of apples, 1kg of tomatoes\n",
    "- Prices in Delhaize: potatoes = 2.1 €/kg, carrots = 1.0 €/kg, apples = 3.0 €/kg, tomatoes = 5.0 €/kg\n",
    "- Prices in Lidl: potatoes = 1.9 €/kg, carrots = 2.0 €/kg, apples = 2.5 €/kg, tomatoes = 3.0 €/kg\n",
    "\n",
    "Using the numpy package, create two matrices and use a dot product to calculate the cost of each set of products in each supermarket."
   ]
  },
  {
   "cell_type": "code",
   "execution_count": null,
   "metadata": {
    "colab": {
     "base_uri": "https://localhost:8080/",
     "height": 52
    },
    "id": "_ALWk--I2-zP",
    "outputId": "12a685bf-70fa-46a7-d056-ff07ab9f6689"
   },
   "outputs": [
    {
     "name": "stdout",
     "output_type": "stream",
     "text": [
      "[[23.1 19.4]\n",
      " [18.3 19.2]]\n"
     ]
    }
   ],
   "source": [
    "import numpy as np\n",
    "set_1 = [1, 2, 3, 2]\n",
    "set_2 = [3, 4, 1, 1]\n",
    "potatoes = [2.1, 1.9]\n",
    "carrots = [1.0, 2.0]\n",
    "apples = [3.0, 2.5]\n",
    "tomatoes = [5.0, 3.0]\n",
    "\n",
    "# code here"
   ]
  },
  {
   "cell_type": "markdown",
   "metadata": {
    "id": "6FWO5dFE2-zT"
   },
   "source": [
    "In which supermarket set 1 is cheaper?"
   ]
  },
  {
   "cell_type": "code",
   "execution_count": null,
   "metadata": {
    "id": "H6U9F3zh2-zW"
   },
   "outputs": [],
   "source": []
  },
  {
   "cell_type": "markdown",
   "metadata": {
    "id": "7gF0TSMC2-zb"
   },
   "source": [
    "In which supermarket set 2 is cheaper?"
   ]
  },
  {
   "cell_type": "code",
   "execution_count": null,
   "metadata": {
    "id": "dYoL69wI2-zc"
   },
   "outputs": [],
   "source": []
  }
 ],
 "metadata": {
  "colab": {
   "collapsed_sections": [],
   "name": "dta_exam_draft_WITH_SOLUTIONS",
   "provenance": []
  },
  "kernelspec": {
   "display_name": "Python 3",
   "language": "python",
   "name": "python3"
  },
  "language_info": {
   "codemirror_mode": {
    "name": "ipython",
    "version": 3
   },
   "file_extension": ".py",
   "mimetype": "text/x-python",
   "name": "python",
   "nbconvert_exporter": "python",
   "pygments_lexer": "ipython3",
   "version": "3.7.4"
  }
 },
 "nbformat": 4,
 "nbformat_minor": 4
}
