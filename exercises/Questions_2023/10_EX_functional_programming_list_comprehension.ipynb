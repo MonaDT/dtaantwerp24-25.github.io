{
 "cells": [
  {
   "attachments": {},
   "cell_type": "markdown",
   "metadata": {},
   "source": [
    "# Exercise notebook 10 - Functional programming and list comprehension"
   ]
  },
  {
   "attachments": {},
   "cell_type": "markdown",
   "metadata": {},
   "source": [
    "This exercise notebook complements the notebook of **functional programming and list comprehension**. <br> Use this [notebook](https://github.com/dtaantwerp/dtaantwerp.github.io/blob/53c91013df4514a943a9fad441fb5f28dc6f6bab/notebooks/11_W2_Fri_Functional_Programming_List_Comprehensions.ipynb) for a complete explanation of the theory.\n",
    "\n",
    "Try to prepare the <ins>underlined exercises</ins> for the exercise session. \n",
    "\n",
    "==============================================================================="
   ]
  },
  {
   "attachments": {},
   "cell_type": "markdown",
   "metadata": {},
   "source": [
    "## Recursive functions"
   ]
  },
  {
   "attachments": {},
   "cell_type": "markdown",
   "metadata": {},
   "source": [
    "1. <ins> Write a recursive function counts down from an integer (input) to zero and prints \"Happy new year!\" instead of 0."
   ]
  },
  {
   "cell_type": "code",
   "execution_count": null,
   "metadata": {},
   "outputs": [],
   "source": [
    "#CODE HERE"
   ]
  },
  {
   "attachments": {},
   "cell_type": "markdown",
   "metadata": {},
   "source": [
    "1. <ins> Create a recursive function that immitates a factorial !  <br>\n",
    "e.g. the factorial of 5 = 1 * 2 * 3 * 4 * 5 = 120"
   ]
  },
  {
   "cell_type": "code",
   "execution_count": null,
   "metadata": {},
   "outputs": [],
   "source": [
    "#CODE HERE"
   ]
  },
  {
   "attachments": {},
   "cell_type": "markdown",
   "metadata": {},
   "source": [
    "## List comprehension\n",
    "**Try to solve all the exercises by making use of list comprehensions!**"
   ]
  },
  {
   "attachments": {},
   "cell_type": "markdown",
   "metadata": {},
   "source": [
    "3. Create a list of numbers from 1 to 20. The result should be a list."
   ]
  },
  {
   "cell_type": "code",
   "execution_count": null,
   "metadata": {},
   "outputs": [],
   "source": [
    "#CODE HERE"
   ]
  },
  {
   "attachments": {},
   "cell_type": "markdown",
   "metadata": {},
   "source": [
    "4. Split a sentence into tokens and uppercase the first letter of each word, result is a list"
   ]
  },
  {
   "cell_type": "code",
   "execution_count": null,
   "metadata": {},
   "outputs": [],
   "source": [
    "sentence = 'A person who was invisible wouldn’t be able to see anything'\n",
    "\n",
    "#CODE HERE"
   ]
  },
  {
   "attachments": {},
   "cell_type": "markdown",
   "metadata": {},
   "source": [
    "5. <ins> Tokenize a corpus, but keep only words longer than 3 characters, result is a list of tokens."
   ]
  },
  {
   "cell_type": "code",
   "execution_count": null,
   "metadata": {},
   "outputs": [],
   "source": [
    "sentences = [\"This is a sentence .\", \"This is another sentence .\", \"This is the final sentence .\"]\n",
    "\n",
    "#CODE HERE"
   ]
  },
  {
   "attachments": {},
   "cell_type": "markdown",
   "metadata": {},
   "source": [
    "6. <ins>Tokenize a corpus, but keep only words longer than 3 characters. Tokens that are not longer than 3 characters should be replaced with the string 'stop_word'. <br> Result is a list of tokens"
   ]
  },
  {
   "cell_type": "code",
   "execution_count": null,
   "metadata": {},
   "outputs": [],
   "source": [
    "sentences = [\"This is a sentence .\", \"This is another sentence .\", \"This is the final sentence .\"]\n",
    "\n",
    "#CODE HERE"
   ]
  },
  {
   "attachments": {},
   "cell_type": "markdown",
   "metadata": {},
   "source": [
    "7. Split a sentence into tokens and map them to position indices, result is a dictionary with indices as keys and tokens as values.\n",
    "\n"
   ]
  },
  {
   "cell_type": "code",
   "execution_count": null,
   "metadata": {},
   "outputs": [],
   "source": [
    "a_string = 'In the 19th century it was fashionable in New York City for women to wear live lizards as brooches.'\n",
    "\n",
    "#CODE HERE"
   ]
  },
  {
   "attachments": {},
   "cell_type": "markdown",
   "metadata": {},
   "source": [
    "8. Zip a list of even numbers and a list of odd numbers from 0 to 100\n",
    "- First create a list of even numbers between 0 and 100 using range() in a list comprehension\n",
    "- Then do the same for odd numbers\n",
    "- Finally, create a new list that contains the sum of the zipped numbers in the two lists created above, but only if that sum is divisible by 3"
   ]
  },
  {
   "cell_type": "code",
   "execution_count": null,
   "metadata": {},
   "outputs": [],
   "source": [
    "#CODE HERE"
   ]
  },
  {
   "attachments": {},
   "cell_type": "markdown",
   "metadata": {},
   "source": [
    "## Functions as function arguments"
   ]
  },
  {
   "attachments": {},
   "cell_type": "markdown",
   "metadata": {},
   "source": [
    "9. Write a function that takes a numpy array of numbers and a mathematical function (multiply or divide) as its arguments\n",
    "- Import numpy and create an array to test the function on\n",
    "- Ask the user the question \"Would you like to multiply or divide the input numbers?\"\n",
    "- Ask the user the question \"By which number?\"\n",
    "- Write three functions\n",
    "    - \"Divide\", which prints the array divided by the input number\n",
    "    - \"Multiply\", which prints the array multiplied by the input number\n",
    "    - \"Calculate\", that takes an array as input and asks the user which operation the function should perform (multiply or divide) an by which number. Use booleans and conditional statements to determine which function this should be."
   ]
  },
  {
   "cell_type": "code",
   "execution_count": null,
   "metadata": {},
   "outputs": [],
   "source": [
    "#Import numpy and create an array"
   ]
  },
  {
   "cell_type": "code",
   "execution_count": null,
   "metadata": {},
   "outputs": [],
   "source": [
    "#CODE HERE"
   ]
  },
  {
   "attachments": {},
   "cell_type": "markdown",
   "metadata": {},
   "source": [
    "10. Make a filter that extracts all vowels from a string by making use of the predifined `filter()` function.\n",
    "- first create a function that checks if a letter is a vowel (using list comprehension).\n",
    "- Then create a filter that extracts the vowels from a string"
   ]
  },
  {
   "cell_type": "code",
   "execution_count": null,
   "metadata": {},
   "outputs": [],
   "source": [
    "x = 'Antidisestablishmentarianism'\n",
    "\n",
    "#CODE HERE\n"
   ]
  },
  {
   "attachments": {},
   "cell_type": "markdown",
   "metadata": {},
   "source": [
    "11. Make a filter that extracts all words longer than five characters from a list of tokens."
   ]
  },
  {
   "cell_type": "code",
   "execution_count": null,
   "metadata": {},
   "outputs": [],
   "source": [
    "nouns = ['Car', 'Tree', 'Elephant', 'House', 'Guitar', 'Mountain', 'Computer', 'Book', 'River', 'Bicycle']\n",
    "\n",
    "#CODE HERE"
   ]
  },
  {
   "attachments": {},
   "cell_type": "markdown",
   "metadata": {},
   "source": [
    "12. Create a function that takes a number as argument and returns the square of that number. Use that function to map a list of numbers to a list of the square of those numbers using the `map()` function."
   ]
  },
  {
   "cell_type": "code",
   "execution_count": null,
   "metadata": {},
   "outputs": [],
   "source": [
    "numbers = [4, 2, 5, 3, 9]\n",
    "\n",
    "#CODE HERE"
   ]
  },
  {
   "attachments": {},
   "cell_type": "markdown",
   "metadata": {},
   "source": [
    "13. Create a function that takes a string as argument and returns its length. Use that function to map a list of strings to a list of the lengths of those strings."
   ]
  },
  {
   "cell_type": "code",
   "execution_count": null,
   "metadata": {},
   "outputs": [],
   "source": [
    "nouns = ['Car', 'Tree', 'Elephant', 'House', 'Guitar', 'Mountain', 'Computer', 'Book', 'River', 'Bicycle']\n",
    "\n",
    "#CODE HERE"
   ]
  },
  {
   "attachments": {},
   "cell_type": "markdown",
   "metadata": {},
   "source": [
    "14. Create a lambda function that accepts two integers as input and returns the product of those integers."
   ]
  },
  {
   "cell_type": "code",
   "execution_count": null,
   "metadata": {},
   "outputs": [],
   "source": [
    "#CODE HERE"
   ]
  },
  {
   "attachments": {},
   "cell_type": "markdown",
   "metadata": {},
   "source": [
    "15. Write a lambda function that takes a list of tuples as an argument, where each tuple contains two numbers, and returns a new list containing the result of adding the two numbers in each tuple. Use a list comprehension to solve this."
   ]
  },
  {
   "cell_type": "code",
   "execution_count": null,
   "metadata": {},
   "outputs": [],
   "source": [
    "x = [(8,9), (8, 2), (7, 4), (7, 5)]\n",
    "\n",
    "#CODE HERE"
   ]
  },
  {
   "attachments": {},
   "cell_type": "markdown",
   "metadata": {},
   "source": [
    "16. Create a filter that accepts a lambda function and a list of numers as input and that returns all even numbers."
   ]
  },
  {
   "cell_type": "code",
   "execution_count": null,
   "metadata": {},
   "outputs": [],
   "source": [
    "nrs = [4, 907, 53, 986, 78, 4523, 9]\n",
    "\n",
    "#CODE HERE"
   ]
  },
  {
   "attachments": {},
   "cell_type": "markdown",
   "metadata": {},
   "source": [
    "17. Create a list of all the palindromic numbers between 1 and 1000 using list comprehension (e.g. 11, 22, 33 )<br>\n",
    "- Make sure you exclude numbers that only have one digit."
   ]
  },
  {
   "cell_type": "code",
   "execution_count": null,
   "metadata": {},
   "outputs": [],
   "source": [
    "#CODE HERE"
   ]
  },
  {
   "attachments": {},
   "cell_type": "markdown",
   "metadata": {},
   "source": [
    "18. Define two functions: one that multiplies and one that adds. \n",
    "- Define a third function that takes three numbers as an argument. The function should first multiply the two numbers and then add the third number to the product"
   ]
  },
  {
   "cell_type": "code",
   "execution_count": null,
   "metadata": {},
   "outputs": [],
   "source": [
    "#CODE HERE"
   ]
  },
  {
   "attachments": {},
   "cell_type": "markdown",
   "metadata": {},
   "source": [
    "19. Create a function that takes a booleaon and a string as a value.\n",
    "- Make sure that the function counts all the vowels of the string if the boolean is True.\n",
    "- Make sure that the function counts all the consonants of the string if the boolan is False."
   ]
  },
  {
   "cell_type": "code",
   "execution_count": null,
   "metadata": {},
   "outputs": [],
   "source": [
    "#CODE HERE"
   ]
  },
  {
   "attachments": {},
   "cell_type": "markdown",
   "metadata": {},
   "source": [
    "20. Create a function that takes a list of strings as input and returns the lenght of each string, without using a for-loop."
   ]
  },
  {
   "cell_type": "code",
   "execution_count": null,
   "metadata": {},
   "outputs": [],
   "source": [
    "nouns = ['Car', 'Tree', 'Elephant', 'House', 'Guitar', 'Mountain', 'Computer', 'Book', 'River', 'Bicycle']\n",
    "\n",
    "#CODE HERE"
   ]
  }
 ],
 "metadata": {
  "kernelspec": {
   "display_name": "base",
   "language": "python",
   "name": "python3"
  },
  "language_info": {
   "codemirror_mode": {
    "name": "ipython",
    "version": 3
   },
   "file_extension": ".py",
   "mimetype": "text/x-python",
   "name": "python",
   "nbconvert_exporter": "python",
   "pygments_lexer": "ipython3",
   "version": "3.9.13"
  },
  "orig_nbformat": 4,
  "vscode": {
   "interpreter": {
    "hash": "96e0a4d32f1918f770291244863a4a1e044b05d1a3b8d455e2e179187e01062a"
   }
  }
 },
 "nbformat": 4,
 "nbformat_minor": 2
}
