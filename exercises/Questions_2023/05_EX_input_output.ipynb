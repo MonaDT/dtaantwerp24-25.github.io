{
 "cells": [
  {
   "cell_type": "markdown",
   "metadata": {},
   "source": [
    "# Exercise notebook 5 - Input and output files"
   ]
  },
  {
   "cell_type": "markdown",
   "metadata": {},
   "source": [
    "This exercise notebook complements the notebook of **input and output files**. <br> Use this [notebook](https://github.com/dtaantwerp/dtaantwerp.github.io/blob/53c91013df4514a943a9fad441fb5f28dc6f6bab/notebooks/06_W2_Mon_Input_Output_Files.ipynb) for a complete explanation of the theory.\n",
    "\n",
    "Try to prepare the <ins>underlined exercises</ins> for the exercise session. "
   ]
  },
  {
   "cell_type": "markdown",
   "metadata": {},
   "source": [
    "1. <ins> Remember the user input()? Write a piece of code that asks the user to give two numbers and then returns the largest of the two numbers. </ins> <br> <br> Make sure that the numbers of the user input are interpreted as integers."
   ]
  },
  {
   "cell_type": "code",
   "execution_count": null,
   "metadata": {},
   "outputs": [],
   "source": [
    "#CODE HERE"
   ]
  },
  {
   "cell_type": "markdown",
   "metadata": {},
   "source": [
    "2. <ins> Write a piece of code that stores a random number between one and five into the variable 'random_number'. <br>\n",
    "</ins> <br>Hint: you first need to import something for this."
   ]
  },
  {
   "cell_type": "code",
   "execution_count": null,
   "metadata": {},
   "outputs": [],
   "source": [
    "#CODE HERE\n"
   ]
  },
  {
   "cell_type": "markdown",
   "metadata": {},
   "source": [
    "3. <ins> Create a guessing game based on random numbers:\n",
    "- Similar to the previous exercise, store a random number (between one and five) in a variable marked as 'correct_number'.\n",
    "- Create a counter variable and set it to 0.\n",
    "- Ask the user to guess the right number by making use of the input() function, make sure that the input is interpreted as an integer.\n",
    "- If the number is the correct number print \"you have won!\" and stop the game.\n",
    "- If it is not correct, increment the counter with +1.\n",
    "- Make sure that the game breaks once the counter hits 3."
   ]
  },
  {
   "cell_type": "code",
   "execution_count": null,
   "metadata": {},
   "outputs": [],
   "source": [
    "#CODE HERE\n"
   ]
  },
  {
   "cell_type": "markdown",
   "metadata": {},
   "source": [
    "4. <ins> Download _The Adventures of Sherlock Holmes_ by Arthur Conan Doyle from Project Gutenberg: https://www.gutenberg.org/ebooks/1661 <br>\n",
    " and load the text."
   ]
  },
  {
   "cell_type": "code",
   "execution_count": null,
   "metadata": {},
   "outputs": [],
   "source": [
    "#CODE HERE"
   ]
  },
  {
   "cell_type": "markdown",
   "metadata": {},
   "source": [
    "5. <ins> Split the text on the newline characters (\\n) in order to obtain the lines. \n",
    "- Print the first line. \n",
    "- How many lines are there in the novel?"
   ]
  },
  {
   "cell_type": "code",
   "execution_count": null,
   "metadata": {},
   "outputs": [],
   "source": [
    "#CODE HERE"
   ]
  },
  {
   "cell_type": "markdown",
   "metadata": {},
   "source": [
    "6. <ins> Print the first ten lines. You'll notice that there are some empty lines, remove those from the list using the .remove() method. How many lines remain?"
   ]
  },
  {
   "cell_type": "code",
   "execution_count": null,
   "metadata": {},
   "outputs": [],
   "source": [
    "#CODE HERE"
   ]
  },
  {
   "cell_type": "markdown",
   "metadata": {},
   "source": [
    "7. <ins> Write a piece of code that lowercases the entire text."
   ]
  },
  {
   "cell_type": "code",
   "execution_count": null,
   "metadata": {},
   "outputs": [],
   "source": [
    "#CODE HERE"
   ]
  },
  {
   "cell_type": "markdown",
   "metadata": {},
   "source": [
    "8. <ins> Count how often the name 'Sherlock' is mentioned in the text."
   ]
  },
  {
   "cell_type": "code",
   "execution_count": null,
   "metadata": {},
   "outputs": [],
   "source": [
    "#CODE HERE"
   ]
  },
  {
   "cell_type": "markdown",
   "metadata": {},
   "source": [
    "9. <ins>Write a piece of code that removes the punctuation of the string below."
   ]
  },
  {
   "cell_type": "code",
   "execution_count": null,
   "metadata": {},
   "outputs": [],
   "source": [
    "punc = '''!()-[]{};:'\"\\,<>./?@#$%^&*”_~“'''\n",
    "\n",
    "opening = \"\"\"Alice was beginning to get very tired of sitting by her sister on the bank, \n",
    "        and of having nothing to do: once or twice she had peeped into the book her \n",
    "        sister was reading, but it had no pictures or conversations in it, “and what is \n",
    "        the use of a book,” thought Alice, “without pictures or conversation?”\"\"\"\n",
    "\n",
    "#CODE HERE        \n"
   ]
  },
  {
   "cell_type": "markdown",
   "metadata": {},
   "source": [
    "10. Create a rock-paper-scissors game.\n",
    "- Make the computer choose a random move (either rock, paper or scissors).\n",
    "- Store the choice of the user in a variable (by  using the input() function).\n",
    "- Remember the rules:\n",
    "    - Rock beats scissors\n",
    "    - Scissors beats paper\n",
    "    - Paper beats rock\n",
    "- Make sure that there are three possible outcomes in the game:\n",
    "    - The user wins.\n",
    "    - The computer wins.\n",
    "    - It's a tie!"
   ]
  },
  {
   "cell_type": "code",
   "execution_count": 2,
   "metadata": {},
   "outputs": [
    {
     "ename": "SyntaxError",
     "evalue": "'break' outside loop (373677299.py, line 6)",
     "output_type": "error",
     "traceback": [
      "\u001b[1;36m  File \u001b[1;32m\"C:\\Users\\monaa\\AppData\\Local\\Temp\\ipykernel_41808\\373677299.py\"\u001b[1;36m, line \u001b[1;32m6\u001b[0m\n\u001b[1;33m    break\u001b[0m\n\u001b[1;37m    ^\u001b[0m\n\u001b[1;31mSyntaxError\u001b[0m\u001b[1;31m:\u001b[0m 'break' outside loop\n"
     ]
    }
   ],
   "source": [
    "#CODE HERE\n",
    "\n",
    "move = 'rocl'\n",
    "\n",
    "\n",
    "if move not in ['rock', 'paper', 'scissors']:\n",
    "    \n"
   ]
  },
  {
   "cell_type": "markdown",
   "metadata": {},
   "source": [
    "11. Iterate over the lines of the Sherlock novel. If the line starts with 'Sherlock', store the line in a new txt-file. <br>\n",
    "Make sure you close te file when the loop has finished.\n",
    "\n",
    "Hint: make sure that the empty lines in the Sherlock file are removed."
   ]
  },
  {
   "cell_type": "code",
   "execution_count": null,
   "metadata": {},
   "outputs": [],
   "source": [
    "#CODE HERE"
   ]
  },
  {
   "cell_type": "markdown",
   "metadata": {},
   "source": [
    "12. Look up online what the round() function does. Can you round the float below to 2 decimals?"
   ]
  },
  {
   "cell_type": "code",
   "execution_count": null,
   "metadata": {},
   "outputs": [],
   "source": [
    "number = 7.983862\n",
    "\n",
    "#CODE HERE"
   ]
  },
  {
   "cell_type": "markdown",
   "metadata": {},
   "source": [
    "13. In the cell below, we created a frequency dictionary (more of that in the next notebook). It is a dictionary that keeps track how often each word occurs in the Sherlock.txt. \n",
    "- Create a list called 'common_words' in which you store all the words that occur more than 1000 times. \n",
    "- You will need to iterate over the frequency dictionary in order to do this.\n",
    "- if the **value** of an item in the dictionary is higher or equal to 1000,\n",
    "- You need to store the **key** in the list of 'common_words'."
   ]
  },
  {
   "cell_type": "code",
   "execution_count": null,
   "metadata": {},
   "outputs": [],
   "source": [
    "freq_dic = {} # we create the frequency dictionary in the lines below\n",
    "for word in text.split():\n",
    "    if word in freq_dic:\n",
    "        freq_dic[word] += 1\n",
    "    else:\n",
    "        freq_dic[word] = 1\n",
    "\n",
    "common_words = [] #store the most common words in this list.\n",
    "\n",
    "#CODE HERE"
   ]
  },
  {
   "cell_type": "markdown",
   "metadata": {},
   "source": [
    "14. Check if the file MT.txt is empty."
   ]
  },
  {
   "cell_type": "code",
   "execution_count": null,
   "metadata": {},
   "outputs": [],
   "source": [
    "#CODE HERE\n"
   ]
  },
  {
   "cell_type": "markdown",
   "metadata": {},
   "source": [
    "15. Check if the following words are in the txt-file:\n",
    "- storm\n",
    "- perfect\n",
    "- trooper\n",
    "<br><br>Keep in mind that some of the words in the text can be uppercase."
   ]
  },
  {
   "cell_type": "code",
   "execution_count": null,
   "metadata": {},
   "outputs": [],
   "source": [
    "#CODE HERE"
   ]
  },
  {
   "cell_type": "markdown",
   "metadata": {},
   "source": [
    "16. Count how many lines there are in the text."
   ]
  },
  {
   "cell_type": "code",
   "execution_count": null,
   "metadata": {},
   "outputs": [],
   "source": [
    "#CODE HERE"
   ]
  },
  {
   "cell_type": "markdown",
   "metadata": {},
   "source": [
    "17. Create a list of all the unique words in the text."
   ]
  },
  {
   "cell_type": "code",
   "execution_count": null,
   "metadata": {},
   "outputs": [],
   "source": [
    "#CODE HERE"
   ]
  },
  {
   "cell_type": "markdown",
   "metadata": {},
   "source": [
    "18. Accept two input values from the user in one input() call."
   ]
  },
  {
   "cell_type": "code",
   "execution_count": null,
   "metadata": {},
   "outputs": [],
   "source": [
    "#CODE HERE"
   ]
  }
 ],
 "metadata": {
  "kernelspec": {
   "display_name": "Python 3 (ipykernel)",
   "language": "python",
   "name": "python3"
  },
  "language_info": {
   "codemirror_mode": {
    "name": "ipython",
    "version": 3
   },
   "file_extension": ".py",
   "mimetype": "text/x-python",
   "name": "python",
   "nbconvert_exporter": "python",
   "pygments_lexer": "ipython3",
   "version": "3.9.13"
  },
  "vscode": {
   "interpreter": {
    "hash": "96e0a4d32f1918f770291244863a4a1e044b05d1a3b8d455e2e179187e01062a"
   }
  }
 },
 "nbformat": 4,
 "nbformat_minor": 2
}
