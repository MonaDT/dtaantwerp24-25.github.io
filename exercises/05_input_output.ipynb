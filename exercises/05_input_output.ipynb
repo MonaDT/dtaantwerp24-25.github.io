{
 "cells": [
  {
   "cell_type": "markdown",
   "metadata": {},
   "source": [
    "# Exercises on Input/Output\n",
    "\n",
    "These are 4 short exercises on Input/Output.\n",
    "\n",
    "Use this [notebook](https://github.com/dtaantwerp/dtaantwerp.github.io/blob/DTA_Bootcamp_2021_students/notebooks/06_W2_Mon_Input_Output_Files.ipynb) for a complete explanation of Python and Input/Output."
   ]
  },
  {
   "cell_type": "markdown",
   "metadata": {},
   "source": [
    "1. Create a program that asks the user to enter their name and their age. Print out a message addressed to them that tells them the year that they will turn 100 years old.\n",
    "\n",
    "#### 1) First, let's get some accurate information on the current year:\n",
    "- import the useful `datatime` package, which can be used to get current timestamps\n",
    "- store the current `year` in a variable"
   ]
  },
  {
   "cell_type": "code",
   "execution_count": 122,
   "metadata": {},
   "outputs": [],
   "source": [
    "# [code here]"
   ]
  },
  {
   "cell_type": "markdown",
   "metadata": {},
   "source": [
    "### 2) Next, ask the user for input (both name and age):\n",
    "- store the information in two variables: `name` and `age`"
   ]
  },
  {
   "cell_type": "code",
   "execution_count": 123,
   "metadata": {},
   "outputs": [],
   "source": [
    "# [code here]"
   ]
  },
  {
   "cell_type": "markdown",
   "metadata": {},
   "source": [
    "### 3) Finally, perform the actual calculation and write up the message informing the user:"
   ]
  },
  {
   "cell_type": "code",
   "execution_count": 124,
   "metadata": {},
   "outputs": [],
   "source": [
    "# [code here]"
   ]
  },
  {
   "cell_type": "markdown",
   "metadata": {},
   "source": [
    "2. Play a game of Rock Paper Scissors in Python\n",
    "\n",
    "Challenge the computer in a game of rock paper scissors! In this game, the user is asked to pick one of the following options: rock, paper or scissors. The computer also has to - randomly! - select one of these options. A statement is printed revealing the computer's choice and judged against the user's choice. The winner is declared in accordance with these rules:\n",
    "\n",
    "- Rock vs. paper -> paper wins\n",
    "- Rock vs. scissors -> rock wins\n",
    "- Paper vs. scissors -> scissors win\n",
    "\n",
    "<img src=\"https://upload.wikimedia.org/wikipedia/commons/6/67/Rock-paper-scissors.svg\" height=\"300\" alt=\"Rock Paper Scissor Rules\" align=\"center\"/>\n",
    " "
   ]
  },
  {
   "cell_type": "markdown",
   "metadata": {},
   "source": [
    "### 1) Ask the user what they would like to choose as an action. Make use of the pre-defined variables `r` (rock), `p` (paper), and `s` (scissors):"
   ]
  },
  {
   "cell_type": "code",
   "execution_count": 129,
   "metadata": {},
   "outputs": [],
   "source": [
    "# r = 'rock'\n",
    "# p = 'paper'\n",
    "# s = 'scissors'\n",
    "\n",
    "# [code here]"
   ]
  },
  {
   "cell_type": "markdown",
   "metadata": {},
   "source": [
    "### 2) Have the computer select a random action:"
   ]
  },
  {
   "cell_type": "code",
   "execution_count": 130,
   "metadata": {},
   "outputs": [],
   "source": [
    "# [code here]"
   ]
  },
  {
   "cell_type": "markdown",
   "metadata": {},
   "source": [
    "### 3) Print a single statement, revealing the choices that the user and the computer made:"
   ]
  },
  {
   "cell_type": "code",
   "execution_count": 131,
   "metadata": {},
   "outputs": [],
   "source": [
    "# [code here]"
   ]
  },
  {
   "cell_type": "markdown",
   "metadata": {},
   "source": [
    "### 4) Using `if`, `elif`, and `else`, compare both players’ choices and determine a winner:"
   ]
  },
  {
   "cell_type": "code",
   "execution_count": 132,
   "metadata": {},
   "outputs": [],
   "source": [
    "# [code here]"
   ]
  },
  {
   "cell_type": "markdown",
   "metadata": {},
   "source": [
    "3. Come up with an answer to the following question: why is `eval()` a dangerous function?"
   ]
  },
  {
   "cell_type": "markdown",
   "metadata": {},
   "source": [
    "[textual answer here]"
   ]
  },
  {
   "cell_type": "markdown",
   "metadata": {},
   "source": [
    "4. Write a Python program to count the frequency of certain words in a file."
   ]
  },
  {
   "cell_type": "markdown",
   "metadata": {},
   "source": [
    "### 1) Download _The Adventures of Sherlock Holmes_ by Arthur Conan Doyle from Project Gutenberg: https://www.gutenberg.org/ebooks/1661"
   ]
  },
  {
   "cell_type": "markdown",
   "metadata": {},
   "source": [
    "### 2) Load the txt-file. This can be done in several ways. Choose the way you prefer and explain why:"
   ]
  },
  {
   "cell_type": "code",
   "execution_count": 1,
   "metadata": {},
   "outputs": [],
   "source": [
    "# [code here]"
   ]
  },
  {
   "cell_type": "markdown",
   "metadata": {},
   "source": [
    "### 3) Perform some pre-processing: remove all punctuation, and lowercase all the words:"
   ]
  },
  {
   "cell_type": "code",
   "execution_count": 2,
   "metadata": {},
   "outputs": [],
   "source": [
    "# [code here]"
   ]
  },
  {
   "cell_type": "markdown",
   "metadata": {},
   "source": [
    "### 4) Calculate word frequencies:"
   ]
  },
  {
   "cell_type": "code",
   "execution_count": 3,
   "metadata": {},
   "outputs": [],
   "source": [
    "# [code here]"
   ]
  },
  {
   "cell_type": "markdown",
   "metadata": {},
   "source": [
    "### 5) Create a new txt-file - `sherlockholmes_report.txt`, containing a list of words that occur more than 1000 times in the novel. Mention also in the report how often the lowercased names 'holmes', 'sherlock', 'watson', and 'irene' occur."
   ]
  },
  {
   "cell_type": "code",
   "execution_count": 4,
   "metadata": {},
   "outputs": [],
   "source": [
    "# [code here]"
   ]
  },
  {
   "cell_type": "code",
   "execution_count": null,
   "metadata": {},
   "outputs": [],
   "source": []
  }
 ],
 "metadata": {
  "kernelspec": {
   "display_name": "Python 3",
   "language": "python",
   "name": "python3"
  },
  "language_info": {
   "codemirror_mode": {
    "name": "ipython",
    "version": 3
   },
   "file_extension": ".py",
   "mimetype": "text/x-python",
   "name": "python",
   "nbconvert_exporter": "python",
   "pygments_lexer": "ipython3",
   "version": "3.7.4"
  }
 },
 "nbformat": 4,
 "nbformat_minor": 4
}
