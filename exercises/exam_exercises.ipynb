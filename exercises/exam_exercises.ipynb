{
 "cells": [
  {
   "cell_type": "markdown",
   "metadata": {},
   "source": [
    "### Exercise 1\n",
    "\n",
    "Write a function that composes two other functions. That is, it takes two\n",
    "functions as arguments and returns a function that applies the first func-\n",
    "tion and then the second function to its argument. The two functions\n",
    "should each take a single argument. (To be clear, your function should\n",
    "return the composed function, not the result of the composition.)"
   ]
  },
  {
   "cell_type": "code",
   "execution_count": 47,
   "metadata": {},
   "outputs": [],
   "source": [
    "# code here\n",
    "\n"
   ]
  },
  {
   "cell_type": "markdown",
   "metadata": {},
   "source": [
    "Click here for the answer\n",
    "\n",
    "<!---\n",
    "def add_10(x):\n",
    "    return x + 10\n",
    "\n",
    "def mult_10(x):\n",
    "    return x * 10\n",
    "\n",
    "def composer(f_1,f_2):\n",
    "    def c_f(x):\n",
    "        return f_1(f_2(x))\n",
    "    return c_f\n",
    "\n",
    "add_mult = composer(add_10,mult_10)\n",
    "add_mult(5)\n",
    "-->"
   ]
  },
  {
   "cell_type": "markdown",
   "metadata": {},
   "source": [
    "### Exercise 2\n",
    "\n",
    "Use functions to produce a python program that retrieves email addresses from the below string."
   ]
  },
  {
   "cell_type": "code",
   "execution_count": 95,
   "metadata": {},
   "outputs": [],
   "source": [
    "# code here\n",
    "\n"
   ]
  },
  {
   "cell_type": "markdown",
   "metadata": {},
   "source": [
    "\n",
    "\n",
    "Click here for the regex pattern\n",
    "\n",
    "<!--\n",
    "pattern = '\\w+@\\w+\\.\\w{1,3}'\n",
    "-->"
   ]
  },
  {
   "cell_type": "markdown",
   "metadata": {},
   "source": [
    "Click here for the answer\n",
    "<!--\n",
    "import re \n",
    "\n",
    "message = \"\"\"\n",
    "So i've already this guy guy@gmail.com, but he hasn't replied. Do you know if he has a new email address. \n",
    "\n",
    "Yeah he does: new_email@hotmail.com\n",
    "\"\"\"\n",
    "\n",
    "pattern = '\\w+@\\w+\\.\\w{1,3}'\n",
    "\n",
    "re.findall(pattern,message)\n",
    "-->"
   ]
  },
  {
   "cell_type": "markdown",
   "metadata": {},
   "source": [
    "### Exercise 3\n",
    "\n",
    "Search `alice.txt` for pronouns, and create a frequency distribution."
   ]
  },
  {
   "cell_type": "code",
   "execution_count": 97,
   "metadata": {},
   "outputs": [],
   "source": [
    "pronouns = [\"I\", \"me\", \"he\", \"she\", \"herself\", \"you\", \"it\", \"that\", \"they\", \"each\", \"few\", \"many\", \"who\", \"whoever\", \"whose\", \"someone\", \"everybody\"]\n",
    "\n",
    "# code here\n",
    "\n"
   ]
  },
  {
   "cell_type": "markdown",
   "metadata": {},
   "source": [
    "\n",
    "Click here for the answer\n",
    "\n",
    "<!--\n",
    "pronouns = [\"I\", \"me\", \"he\", \"she\", \"herself\", \"you\", \"it\", \"that\", \"they\", \"each\", \"few\", \"many\", \"who\", \"whoever\", \"whose\", \"someone\", \"everybody\"]\n",
    "\n",
    "with open('alice.txt') as f:\n",
    "    alice_text = f.read()\n",
    "\n",
    "pro_dict = {}\n",
    "    \n",
    "for word in alice_text.split(' '):\n",
    "    if word.lower() in pronouns:\n",
    "        try:\n",
    "            pro_dict[word] += 1\n",
    "        except KeyError:\n",
    "            pro_dict[word] = 1\n",
    "        \n",
    "\n",
    "-->"
   ]
  },
  {
   "cell_type": "markdown",
   "metadata": {},
   "source": [
    "### Exercise 4\n",
    "\n",
    "The method `' '.count` can be used to count the frequency of a string in another string. Using a `while` structure reimplement the method, to perform the same task.\n",
    "\n",
    "Example:\n",
    "\n",
    "```python\n",
    "'HelloWorldHelloWorldHelloWorldHelloWorldHelloWorldHelloWorld'.count('HelloWorld')\n",
    "```"
   ]
  },
  {
   "cell_type": "code",
   "execution_count": 94,
   "metadata": {},
   "outputs": [
    {
     "name": "stdout",
     "output_type": "stream",
     "text": [
      "6\n"
     ]
    }
   ],
   "source": [
    "string = 'HelloWorldHelloWorldHelloWorldHelloWorldHelloWorldHelloWorld'\n",
    "substring = 'HelloWorld'\n",
    "\n",
    "# code here\n"
   ]
  },
  {
   "cell_type": "markdown",
   "metadata": {},
   "source": [
    "Click here for the answer\n",
    "<!--\n",
    "\n",
    "cnt = 0\n",
    "pos = 0\n",
    "\n",
    "while pos < len(string):\n",
    "    if string[pos:pos+len(substring)] == substring:\n",
    "        cnt += 1\n",
    "    pos +=1\n",
    "    \n",
    "print(cnt)\n",
    "-->"
   ]
  },
  {
   "cell_type": "markdown",
   "metadata": {},
   "source": [
    "### Exercise 5\n",
    "\n",
    "Given a list of number count how many time two identical numbers apear one after the other."
   ]
  },
  {
   "cell_type": "code",
   "execution_count": 98,
   "metadata": {},
   "outputs": [],
   "source": [
    "# code here\n",
    "\n"
   ]
  },
  {
   "cell_type": "markdown",
   "metadata": {},
   "source": [
    "click here for the answer\n",
    "\n",
    "<!--\n",
    "list_of_numbers = [8,4,6,6,7,9,3,1,1,5,6,7]\n",
    "previous_number = None\n",
    "cnt = 0 \n",
    "\n",
    "for n in list_of_numbers:\n",
    "    if n == previous_number:\n",
    "        cnt += 1\n",
    "    previous_number = n\n",
    "\n",
    "print(cnt)\n",
    "-->"
   ]
  },
  {
   "cell_type": "code",
   "execution_count": null,
   "metadata": {},
   "outputs": [],
   "source": []
  }
 ],
 "metadata": {
  "kernelspec": {
   "display_name": "Python 3",
   "language": "python",
   "name": "python3"
  },
  "language_info": {
   "codemirror_mode": {
    "name": "ipython",
    "version": 3
   },
   "file_extension": ".py",
   "mimetype": "text/x-python",
   "name": "python",
   "nbconvert_exporter": "python",
   "pygments_lexer": "ipython3",
   "version": "3.7.4"
  }
 },
 "nbformat": 4,
 "nbformat_minor": 4
}
