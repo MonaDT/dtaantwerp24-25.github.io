{
 "cells": [
  {
   "cell_type": "markdown",
   "metadata": {},
   "source": [
    "# Exercises on Frequency Distribution\n",
    "\n",
    "Use this [notebook](https://github.com/dtaantwerp/dtaantwerp.github.io/blob/master/notebooks2021/7_Week1_Friday_Frequency_distribution_in_python__counting__text.ipynb) for a complete explanation of Frequency Distribution."
   ]
  },
  {
   "cell_type": "markdown",
   "metadata": {},
   "source": [
    "##### 1. Calculate the frequency of special characters in the text (without the help of Counter)\n",
    "\n",
    "Input variable: 1. text: str, 2. special_char: list  \n",
    "Output variable: 3. frequency: dict\n",
    "\n",
    "To-do:\n",
    "1. Initialize frequency dictionary;\n",
    "2. Iterate over special_char;\n",
    "3. Count the occurrence of each character in the text;\n",
    "4. Store count in the frequency variable;\n",
    "5. Print frequencies."
   ]
  },
  {
   "cell_type": "code",
   "execution_count": null,
   "metadata": {},
   "outputs": [],
   "source": [
    "# Your code here:\n"
   ]
  },
  {
   "cell_type": "markdown",
   "metadata": {},
   "source": [
    "##### 2. Update script from 1.1 to exclude characters that do not occur in the text \n",
    "\n",
    "To-do: \n",
    "\n",
    "1. Add condition in the loop to exclude characters with count 0;\n",
    "2. Print frequency."
   ]
  },
  {
   "cell_type": "code",
   "execution_count": 1,
   "metadata": {},
   "outputs": [],
   "source": [
    "# Your code here:\n"
   ]
  },
  {
   "cell_type": "markdown",
   "metadata": {},
   "source": [
    "##### 3. Calculate the frequency of all characters in the text (without the help of Counter)\n",
    "\n",
    "Input variable: 1. text: str  \n",
    "Output variable: 2. frequency: dict\n",
    "\n",
    "To-do:\n",
    "1. Initialize frequency dictionary;\n",
    "2. Lower-case text;\n",
    "3. Obtain a list of unique characters (use a combination of list and set data types)\n",
    "4. Sort list;\n",
    "5. Iterate over a list of unique characters;\n",
    "6. Count the occurrence of each character in the text;\n",
    "7. Store count in the frequency variable;\n",
    "8. Print frequencies."
   ]
  },
  {
   "cell_type": "code",
   "execution_count": 2,
   "metadata": {
    "scrolled": true
   },
   "outputs": [],
   "source": [
    "# Your code here:\n"
   ]
  },
  {
   "cell_type": "markdown",
   "metadata": {},
   "source": [
    "##### 4. Another way to calculate the frequency of all characters in the text (without using Counter)\n",
    "\n",
    "Input variable: 1. text: str  \n",
    "Output variable: 2. frequency: dict\n",
    "\n",
    "To-do:\n",
    "1. Initialize frequency dictionary;\n",
    "2. Lower-case text;\n",
    "3. Iterate over characters in text;\n",
    "4. Check whether a character is in a dictionary: update counts;\n",
    "5. Print frequencies."
   ]
  },
  {
   "cell_type": "code",
   "execution_count": 3,
   "metadata": {},
   "outputs": [],
   "source": [
    "# Your code here:\n"
   ]
  },
  {
   "cell_type": "markdown",
   "metadata": {},
   "source": [
    "##### 5. Sort frequency dictionary from 4 task\n",
    "\n",
    "Sort by characters (smallest to largest)\n",
    "\n",
    "a. To-do:\n",
    "1. Obtain a list of characters from the frequency dictionary;\n",
    "2. Sort list of characters;\n",
    "3. Initialize new frequency dictionary (e.g. frequency_sorted);\n",
    "4. Iterate over list of characters;\n",
    "5. Retrieve frequency value for a character;\n",
    "6. Store value in sorted frequency dictionary;\n",
    "7. Print frequencies.\n",
    "\n",
    "Sort by count (largest to smallest)  \n",
    "\n",
    "b. To-do:\n",
    "1. Modify the previous script to sort by count\n",
    "2. To obtain a sorted list of characters by value, use the following script: characters = sorted(frequency, key=frequency.get, reverse = True)"
   ]
  },
  {
   "cell_type": "code",
   "execution_count": 4,
   "metadata": {},
   "outputs": [],
   "source": [
    "# Your code for a. here:\n",
    "\n"
   ]
  },
  {
   "cell_type": "code",
   "execution_count": 5,
   "metadata": {},
   "outputs": [],
   "source": [
    "# Your code for b. here:\n",
    "\n"
   ]
  },
  {
   "cell_type": "markdown",
   "metadata": {},
   "source": [
    "##### 6. Calculate the frequency of all characters in the text (with the help of Counter)\n",
    "\n",
    "Input variable: 1. text: str  \n",
    "Output variable: 2. frequency: dict\n",
    "\n",
    "To-do:\n",
    "1. Import Counter form collections\n",
    "2. Initialize Counter object;\n",
    "3. Lower-case text;\n",
    "4. Update counts;\n",
    "5. Print top 10 frequencies."
   ]
  },
  {
   "cell_type": "code",
   "execution_count": 6,
   "metadata": {},
   "outputs": [],
   "source": [
    "# Your code here:\n",
    "\n"
   ]
  },
  {
   "cell_type": "markdown",
   "metadata": {},
   "source": [
    "##### 7. Convert frequency dictionary to relative frequency dictionary\n",
    "\n",
    "Input variable: 1. frequency: dict  \n",
    "Output variable: 2. relative_frequency: dict\n",
    "\n",
    "To-do:\n",
    "1. Make a copy of the frequency dictionary. Use copy() method; \n",
    "2. Calculate the number of all characters in the text;\n",
    "3. Iterate over the copy frequency dictionary to update a count to relative frequency;\n",
    "4. Print relative frequency."
   ]
  },
  {
   "cell_type": "code",
   "execution_count": 7,
   "metadata": {},
   "outputs": [],
   "source": [
    "# Your code here:\n"
   ]
  },
  {
   "cell_type": "markdown",
   "metadata": {},
   "source": [
    "##### 8. Remove from the frequency dictionary all non-alphabetical characters \n",
    "\n",
    "Input variable: 1. frequency: dict  \n",
    "Output variable: 2. alpha_frequency: dict\n",
    "\n",
    "To-do:\n",
    "1. Initialize alpha_frequency Counter object;\n",
    "2. Obtain a list of alphabetical characters; use the following script - alpha_char = [chr(i) for i in range(97, 123, 1)]\n",
    "3. Iterate over the list of alphabetical characters;\n",
    "4. Retrieve frequency value for a character;\n",
    "5. Store value in alpha_frequency dictionary;\n",
    "4. Print 10 least common characters."
   ]
  },
  {
   "cell_type": "code",
   "execution_count": 8,
   "metadata": {},
   "outputs": [],
   "source": [
    "# Your code here:\n"
   ]
  },
  {
   "cell_type": "code",
   "execution_count": null,
   "metadata": {},
   "outputs": [],
   "source": []
  }
 ],
 "metadata": {
  "kernelspec": {
   "display_name": "Python 3",
   "language": "python",
   "name": "python3"
  },
  "language_info": {
   "codemirror_mode": {
    "name": "ipython",
    "version": 3
   },
   "file_extension": ".py",
   "mimetype": "text/x-python",
   "name": "python",
   "nbconvert_exporter": "python",
   "pygments_lexer": "ipython3",
   "version": "3.7.4"
  }
 },
 "nbformat": 4,
 "nbformat_minor": 4
}
