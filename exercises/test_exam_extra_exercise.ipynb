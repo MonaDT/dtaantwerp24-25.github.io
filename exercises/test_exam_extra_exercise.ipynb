{
 "cells": [
  {
   "cell_type": "markdown",
   "metadata": {},
   "source": [
    "## Exercise 01 - Rats, cats, and a jar of rum  (3 Points)\n",
    "\n",
    "\n",
    "A palindrome is a word, phrase, or sentence that can be read both forwards and backwards. The list ``palindromes`` contains examples for palindromes of different qualities:\n",
    "- Good palindromes are identical when reversed.\n",
    "- Bad palindromes need minor corrections (e.g. whitespaces) when reversed. In this case, the string and the reversed string are not identical. \n",
    "\n",
    "Write a cell to distinguish good palindromes from bad palindromes: \n",
    "- Iterate over ``palindromes`` with a for loop. \n",
    "- Reverse each palindrome (e.g. using string slicing)\n",
    "- Test whether it is a good or a bad palindrome and \n",
    "- Print the result as shown below. The output should include the original palindrome, the reverse palindrome, and a statement on whether it is a good or a bad one.\n",
    "\n",
    "Example Output:\n",
    "\n",
    "```\n",
    "'step on no pets' reversed is 'step on no pets'. It is a good palindrome.\n",
    "'murder for a jar of red rum' reversed is 'mur der fo raj a rof redrum'. It is a bad palindrome.\n",
    "'live on time , emit no evil' reversed is 'live on time , emit no evil'. It is a good palindrome.\n",
    "'rats live on no evil star' reversed is 'rats live on no evil star'. It is a good palindrome.\n",
    "'was it a car or a cat I saw?' reversed is '?was I tac a ro rac a ti saw'. It is a bad palindrome.\n",
    "```\n"
   ]
  },
  {
   "cell_type": "code",
   "execution_count": 1,
   "metadata": {},
   "outputs": [],
   "source": [
    "palindromes = [\"step on no pets\",\n",
    "               \"murder for a jar of red rum\",\n",
    "               \"live on time , emit no evil\",\n",
    "               \"rats live on no evil star\",\n",
    "               \"was it a car or a cat I saw?\"]\n",
    "\n",
    "# Your code here:\n"
   ]
  }
 ],
 "metadata": {
  "kernelspec": {
   "display_name": "Python 3",
   "language": "python",
   "name": "python3"
  },
  "language_info": {
   "codemirror_mode": {
    "name": "ipython",
    "version": 3
   },
   "file_extension": ".py",
   "mimetype": "text/x-python",
   "name": "python",
   "nbconvert_exporter": "python",
   "pygments_lexer": "ipython3",
   "version": "3.8.3"
  }
 },
 "nbformat": 4,
 "nbformat_minor": 5
}
