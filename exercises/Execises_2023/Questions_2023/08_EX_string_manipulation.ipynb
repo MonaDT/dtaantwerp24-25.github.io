{
 "cells": [
  {
   "attachments": {},
   "cell_type": "markdown",
   "metadata": {},
   "source": [
    "# Exercise notebook 8 - String manipulations"
   ]
  },
  {
   "attachments": {},
   "cell_type": "markdown",
   "metadata": {},
   "source": [
    "This exercise notebook complements the notebook of **string manipulations**. <br> Use this [notebook](notebooks\\09_W2_Wed_String_Manipulation.ipynb) for a complete explanation of the theory.\n",
    "\n",
    "#\n",
    "\n",
    "Try to prepare the <ins>underlined exercises</ins> for the exercise session. \n",
    "\n",
    "==============================================================================="
   ]
  },
  {
   "attachments": {},
   "cell_type": "markdown",
   "metadata": {},
   "source": [
    "1. <ins> Create a function that takes two strings as input and concatenates them."
   ]
  },
  {
   "cell_type": "code",
   "execution_count": null,
   "metadata": {},
   "outputs": [],
   "source": [
    "#CODE HERE"
   ]
  },
  {
   "attachments": {},
   "cell_type": "markdown",
   "metadata": {},
   "source": [
    "2. <ins>Think of the output before running the cell. What is the difference between print and return?"
   ]
  },
  {
   "cell_type": "code",
   "execution_count": null,
   "metadata": {},
   "outputs": [],
   "source": [
    "def I_print(statement):\n",
    "    print(statement)\n",
    "\n",
    "def I_return(statement):\n",
    "    return statement\n",
    "\n",
    "I_print(\"Hey,\\nI printed\")\n",
    "I_return(\"Hey,\\nI returned\")\n"
   ]
  },
  {
   "attachments": {},
   "cell_type": "markdown",
   "metadata": {},
   "source": [
    "3. <ins> Change the function so that the concatenated string is printed 4 times, seperated by a newline."
   ]
  },
  {
   "cell_type": "code",
   "execution_count": null,
   "metadata": {},
   "outputs": [],
   "source": [
    "def my_function(s1, s2):\n",
    "    new_string = (s1 + ' ' + s2 + '\\n') *4\n",
    "    print(new_string)\n",
    "\n",
    "my_function('a string', 'and another one')\n",
    "\n",
    "#You will have to use print here rather than return."
   ]
  },
  {
   "attachments": {},
   "cell_type": "markdown",
   "metadata": {},
   "source": [
    "4. <ins> Without using a for-loop, count how often 'b' appears in the string below"
   ]
  },
  {
   "cell_type": "code",
   "execution_count": null,
   "metadata": {},
   "outputs": [],
   "source": [
    "sentence = '''For those who love solitude, a walk in the early morning is equivalent\n",
    "to a stroll by night, with the cheerfulness of nature added. The\n",
    "streets are deserted and the birds are singing. Cosette, a bird\n",
    "herself, liked to rise early. These matutinal excursions were planned\n",
    "on the preceding evening. He proposed, and she agreed. It was arranged\n",
    "like a plot, they set out before daybreak, and these trips were so many\n",
    "small delights for Cosette. These innocent eccentricities please young\n",
    "people.'''\n",
    "\n",
    "#CODE HERE"
   ]
  },
  {
   "attachments": {},
   "cell_type": "markdown",
   "metadata": {},
   "source": [
    "5. <ins>Write a function that takes a string as input and removes all the whitespace characters from the string. <br>\n",
    "*Hint: the .join() method could help you with this one*"
   ]
  },
  {
   "cell_type": "code",
   "execution_count": null,
   "metadata": {},
   "outputs": [],
   "source": [
    "#CODE HERE"
   ]
  },
  {
   "cell_type": "code",
   "execution_count": null,
   "metadata": {},
   "outputs": [],
   "source": [
    "#SOLUTION 2\n",
    "#This one will only remove whitespaces, no tabs or linebreaks.\n",
    "def whitespace_gone (text):\n",
    "    output = ''\n",
    "    for char in text:\n",
    "        if char == ' ':\n",
    "            continue\n",
    "        else:\n",
    "            output+= char\n",
    "    return output\n",
    "\n",
    "whitespace_gone(sentence)"
   ]
  },
  {
   "attachments": {},
   "cell_type": "markdown",
   "metadata": {},
   "source": [
    "6. <ins>Write a function that takes a string as input and replaces all the occurrences of a given character with another character."
   ]
  },
  {
   "cell_type": "code",
   "execution_count": null,
   "metadata": {},
   "outputs": [],
   "source": [
    "#CODE HERE"
   ]
  },
  {
   "attachments": {},
   "cell_type": "markdown",
   "metadata": {},
   "source": [
    "7. <ins> Create a function that takes a list of strings as input, and prints out a message for each string using string formatting. The message should include the string's index in the list.\n",
    "\n",
    "<br>*Hint: the `enumerate()` function might come in handy with this one. It allows you to iterate over a sequence (like a list or tuple) while keeping track of the index of each element in the sequence. It generates pairs of (index, element) tuples for each element in the sequence.*\n",
    "\n",
    "<br>\n",
    "Example input:\n",
    "<br> [\"apple\", \"banana\", \"orange\"]<br>\n",
    "<br>\n",
    "Example output:\n",
    "<br>\n",
    "\"String 0 is apple.\" <br>\n",
    "\"String 1 is banana.\"<br>\n",
    "\"String 2 is orange.<br>"
   ]
  },
  {
   "cell_type": "code",
   "execution_count": null,
   "metadata": {},
   "outputs": [],
   "source": [
    "fruits =  [\"apple\", \"banana\", \"orange\"]\n",
    "\n",
    "#CODE HERE"
   ]
  },
  {
   "attachments": {},
   "cell_type": "markdown",
   "metadata": {},
   "source": [
    "8. Write a function that takes two strings as input and checks whether one string is an anagram of the other string."
   ]
  },
  {
   "cell_type": "code",
   "execution_count": null,
   "metadata": {},
   "outputs": [],
   "source": [
    "#CODE HERE"
   ]
  },
  {
   "attachments": {},
   "cell_type": "markdown",
   "metadata": {},
   "source": [
    "9. Write a function that capitalizes the first letter of each word in a sentence."
   ]
  },
  {
   "cell_type": "code",
   "execution_count": null,
   "metadata": {},
   "outputs": [],
   "source": [
    "#CODE HERE"
   ]
  },
  {
   "attachments": {},
   "cell_type": "markdown",
   "metadata": {},
   "source": [
    "10. Replace all occurrences of Alice with your own name in the string below."
   ]
  },
  {
   "cell_type": "code",
   "execution_count": null,
   "metadata": {},
   "outputs": [],
   "source": [
    "sub = '''Alice started to her feet, for it flashed across her mind that she\n",
    "had never before seen a rabbit with either a waistcoat-pocket, or a\n",
    "watch to take out of it, and burning with curiosity, she ran across the\n",
    "field after it, and fortunately was just in time to see it pop down a\n",
    "large rabbit-hole under the hedge. In another moment down went Alice after it, never once considering how\n",
    "in the world she was to get out again. The rabbit-hole went straight on like a tunnel for some way, and then\n",
    "dipped suddenly down, so suddenly that Alice had not a moment to think\n",
    "about stopping herself before she found herself falling down a very\n",
    "deep well. '''\n",
    "\n",
    "#CODE HERE"
   ]
  },
  {
   "attachments": {},
   "cell_type": "markdown",
   "metadata": {},
   "source": [
    "11. Write a Python program to find the longest palindrome in a sentence."
   ]
  },
  {
   "cell_type": "code",
   "execution_count": null,
   "metadata": {},
   "outputs": [],
   "source": [
    "#CODE HERE"
   ]
  },
  {
   "attachments": {},
   "cell_type": "markdown",
   "metadata": {},
   "source": [
    "12. Write a Python program to check if a string contains only digits."
   ]
  },
  {
   "cell_type": "code",
   "execution_count": null,
   "metadata": {},
   "outputs": [],
   "source": [
    "#CODE HERE"
   ]
  },
  {
   "attachments": {},
   "cell_type": "markdown",
   "metadata": {},
   "source": [
    "13. Write a Python program to find words that end and start with the same letter. \n",
    "- Make sure you exclude one-letter words.\n"
   ]
  },
  {
   "cell_type": "code",
   "execution_count": null,
   "metadata": {},
   "outputs": [],
   "source": [
    "#CODE HERE\n"
   ]
  },
  {
   "attachments": {},
   "cell_type": "markdown",
   "metadata": {},
   "source": [
    "14. Write a python function that takes a list of strings as input and returns the last letter of the last item of the string, without using a for-loop. "
   ]
  },
  {
   "cell_type": "code",
   "execution_count": null,
   "metadata": {},
   "outputs": [],
   "source": [
    "#CODE HERE"
   ]
  },
  {
   "attachments": {},
   "cell_type": "markdown",
   "metadata": {},
   "source": [
    "15. Write a Python program to remove the nth index character from a string using slicing. For example, if the string is \"Hello, World!\" and n is 7, the output should be \"Hello, orld!\"."
   ]
  },
  {
   "cell_type": "code",
   "execution_count": null,
   "metadata": {},
   "outputs": [],
   "source": [
    "#CODE HERE"
   ]
  },
  {
   "attachments": {},
   "cell_type": "markdown",
   "metadata": {},
   "source": [
    "16. Create a function that takes a list of tuples containing a person's name and age, and prints out a message for each person using string formatting. <br> \n",
    "\n",
    "Example input: <br>\n",
    "[(\"Rex\", 25), (\"Jane\", 30), (\"Bob\", 40)]\n",
    "<br>\n",
    "\n",
    "Example output:<br>\n",
    "<br>\"Hello, Rex! You are 25 years old.\"\n",
    "<br>\"Hello, Jane! You are 30 years old.\"\n",
    "<br>\"Hello, Bob! You are 40 years old.\""
   ]
  },
  {
   "cell_type": "code",
   "execution_count": null,
   "metadata": {},
   "outputs": [],
   "source": [
    "names = [(\"Rex\", 25), (\"Jane\", 30), (\"Bob\", 40)]\n",
    "\n",
    "#CODE HERE"
   ]
  },
  {
   "attachments": {},
   "cell_type": "markdown",
   "metadata": {},
   "source": [
    "17. Create a function that capitalises every first letter from every word in a sentence."
   ]
  },
  {
   "cell_type": "code",
   "execution_count": null,
   "metadata": {},
   "outputs": [],
   "source": [
    "sentence = 'do androids dream of electric sheep?'\n",
    "\n",
    "#CODE HERE"
   ]
  },
  {
   "attachments": {},
   "cell_type": "markdown",
   "metadata": {},
   "source": [
    "18. Create a function that swaps the casing of a string, without using `.swapcase()`."
   ]
  },
  {
   "cell_type": "code",
   "execution_count": null,
   "metadata": {},
   "outputs": [],
   "source": [
    "#CODE HERE\n",
    "\n",
    "\n",
    "#Let's try it out\n",
    "my_swapcase('Do Androids Dream Of Electric Sheep?')"
   ]
  },
  {
   "attachments": {},
   "cell_type": "markdown",
   "metadata": {},
   "source": [
    "19. Create a function that adds leading zeroes to a list of integers so that all the numbers are as long as the longest number."
   ]
  },
  {
   "cell_type": "code",
   "execution_count": null,
   "metadata": {},
   "outputs": [],
   "source": [
    "nrs = [678, 345678, 90867456, 6790, 8, 3543, 5677536, 46738]\n",
    "\n",
    "#CODE HERE"
   ]
  },
  {
   "attachments": {},
   "cell_type": "markdown",
   "metadata": {},
   "source": [
    "20. Upgrade the echo() function below to reduce the number of characters in a text after each repetition\n",
    "\n",
    "Input parameters: text: str, times: int, reduction_rate: float   \n",
    "Output parameters: text: str\n",
    "\n",
    "Format the output text in such a way that a given text always starts from a new line.  \n",
    "\n",
    "To-do:\n",
    "1. Modify the function definition to take as an input a new parameter ('reduction_rate');\n",
    "2. Initialize 'new_text' variable that will accumulate reduced texts;\n",
    "3. Implement 'for loop' to iterate over the number of repetitions;\n",
    "4. Calculate the length of text after each reduction (e.g. text lenght=100, reduction_rate=0.7, new length after reduction = 70 (100*0.7);\n",
    "5. Cast the calculated length to an integer;\n",
    "6. Reduce the number of characters to a given length;  \n",
    "7. Add reduced text with a new line character to the variable that accumulates reduced texts; \n",
    "8. Print output of the function for a given 'text', 'times', and 'reduction_rate' variables.\n",
    "\n",
    "<br>The output should look like this:<br>\n",
    "\n",
    "Around the world, the<br>\n",
    "Around the world<br>\n",
    "Around the w<br>\n",
    "Around th<br>\n",
    "Around <br>\n",
    "Aroun<br>\n",
    "Arou<br>\n",
    "Aro<br>\n",
    "Ar<br>\n",
    "A"
   ]
  },
  {
   "cell_type": "code",
   "execution_count": null,
   "metadata": {},
   "outputs": [],
   "source": [
    "def echo(text, times):\n",
    "    text = text+'\\n'\n",
    "    text = text*times\n",
    "    \n",
    "    print(text)\n",
    "\n",
    "echo('Around the world, the world', 10)"
   ]
  },
  {
   "cell_type": "code",
   "execution_count": null,
   "metadata": {},
   "outputs": [],
   "source": [
    "#CODE HERE"
   ]
  }
 ],
 "metadata": {
  "kernelspec": {
   "display_name": "base",
   "language": "python",
   "name": "python3"
  },
  "language_info": {
   "codemirror_mode": {
    "name": "ipython",
    "version": 3
   },
   "file_extension": ".py",
   "mimetype": "text/x-python",
   "name": "python",
   "nbconvert_exporter": "python",
   "pygments_lexer": "ipython3",
   "version": "3.9.13"
  },
  "orig_nbformat": 4,
  "vscode": {
   "interpreter": {
    "hash": "96e0a4d32f1918f770291244863a4a1e044b05d1a3b8d455e2e179187e01062a"
   }
  }
 },
 "nbformat": 4,
 "nbformat_minor": 2
}
