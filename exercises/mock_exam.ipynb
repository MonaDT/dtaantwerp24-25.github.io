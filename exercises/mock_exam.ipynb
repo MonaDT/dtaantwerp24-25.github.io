{
 "cells": [
  {
   "cell_type": "markdown",
   "metadata": {},
   "source": [
    "# DTA Bootcamp Mock Exam\n",
    "\n",
    "- You should be able to answer all of these questions within 2 hours.\n",
    "- We will go through the answers in class, you do not need to submit your answers. \n",
    "- Please try not to use google and stackoverflow, and wait for the results in class.\n",
    "- The purpose of this test is to give you a realistic idea of your current level in the context of an exam."
   ]
  },
  {
   "cell_type": "markdown",
   "metadata": {},
   "source": [
    "# 1. \n",
    "\n",
    "Produce Python code that sets up a naive authentication system for e.g. a website. Implement the following functionality:\n",
    "\n",
    "\\(A) Ask the user (via th `input()` command) for an email address (as a proxy for a user name) and a password. Store this information in a suitable data\n",
    "structure.\n",
    "\n",
    "\\(B) Ask the user (via th `input()` command) to login with her/his credentials. In your code, the following information should be printed under the appropriate conditions:\n",
    "\n",
    "NB: Whenever you ask the user to \"try again\", you have to make sure\n",
    "that the system keeps on asking for the relevant information over and\n",
    "over until the correct conditions are met."
   ]
  },
  {
   "cell_type": "code",
   "execution_count": null,
   "metadata": {},
   "outputs": [],
   "source": [
    "# (A) code here\n",
    "\n",
    "# Use these strings\n",
    "\n",
    "\"Account successfully created!\"\n",
    "\"An email address without an '@ symbol is not valid. Try again.\"\n",
    "\"That user name has already been taken. Try again.\""
   ]
  },
  {
   "cell_type": "code",
   "execution_count": null,
   "metadata": {},
   "outputs": [],
   "source": [
    "# (B) code here\n",
    "\n",
    "# use these strings\n",
    "\n",
    "\"Successfully logged in.\"\n",
    "\"This email address does not exist in our database. Try again.\"\n",
    "\"You email address exists, but your password is incorrect. Try again.\""
   ]
  },
  {
   "cell_type": "markdown",
   "metadata": {},
   "source": [
    "Whenever you ask the user to \"try again\", you have to make sure\n",
    "that the system keeps on asking for the relevant information over and\n",
    "over until the correct conditions are met."
   ]
  },
  {
   "cell_type": "markdown",
   "metadata": {},
   "source": [
    "# 2. \n",
    "Consider the following string `s`:"
   ]
  },
  {
   "cell_type": "code",
   "execution_count": null,
   "metadata": {},
   "outputs": [],
   "source": [
    "s = \"\"\"Born in Salzburg, Mozart showed prodigious ability from his\n",
    "earliest childhood. Already competent on keyboard and violin, he\n",
    "composed from the age of five and performed before European royalty. At\n",
    "17, Mozart was engaged as a musician at the Salzburg court but grew\n",
    "restless and traveled in search of a better position.\\\"\"\""
   ]
  },
  {
   "cell_type": "markdown",
   "metadata": {},
   "source": [
    "Using slicing indices in square brackets (s\\[\\...\\]) we are able to\n",
    "access slices of the original string. Which expressions do we need to\n",
    "use as indices to extract the sub-strings below?"
   ]
  },
  {
   "cell_type": "markdown",
   "metadata": {},
   "source": [
    "1. `B` (at the beginning)"
   ]
  },
  {
   "cell_type": "code",
   "execution_count": null,
   "metadata": {},
   "outputs": [],
   "source": []
  },
  {
   "cell_type": "markdown",
   "metadata": {},
   "source": [
    "2. `.` (at the end)"
   ]
  },
  {
   "cell_type": "code",
   "execution_count": null,
   "metadata": {},
   "outputs": [],
   "source": []
  },
  {
   "cell_type": "markdown",
   "metadata": {},
   "source": [
    "3. `better position`"
   ]
  },
  {
   "cell_type": "code",
   "execution_count": null,
   "metadata": {},
   "outputs": [],
   "source": []
  },
  {
   "cell_type": "markdown",
   "metadata": {},
   "source": [
    "4. `.noitisop retteb a fo hcraes ni delevart dna sseltser werg tub\n",
    "truoc grubzlaS eht ta naicisum a sa degagne saw trazoM ,71 tA .ytlayor\n",
    "naeporuE erofeb demrofrep dna evif fo ega eht morf desopmoc eh ,niloiv\n",
    "dna draobyek no tnetepmoc ydaerlA .doohdlihc tseilrae sih morf ytiliba\n",
    "suoigidorp dewohs trazoM ,grubzlaS ni nroB\\`"
   ]
  },
  {
   "cell_type": "code",
   "execution_count": null,
   "metadata": {},
   "outputs": [],
   "source": []
  },
  {
   "cell_type": "markdown",
   "metadata": {},
   "source": [
    "5. `Br nSlbr,Mzr hwdpoiiu blt rmhseris hlho.Araycmeeto ebadadvoi,h\n",
    "opsdfo h g ffv n efre eoeErpa oat.A 7 oatwseggda uiina h azugcutbtge\n",
    "etesadtaee nsac fabte oiin`"
   ]
  },
  {
   "cell_type": "code",
   "execution_count": null,
   "metadata": {},
   "outputs": [],
   "source": []
  },
  {
   "cell_type": "markdown",
   "metadata": {},
   "source": [
    "6. `BnnabgMa odrio itfmielsclo.la mttneodnvl,eoodr egofenpfm\n",
    "feupnol.t7Ma sng miaat lu u tr se drednecoaee`"
   ]
  },
  {
   "cell_type": "code",
   "execution_count": null,
   "metadata": {},
   "outputs": [],
   "source": []
  },
  {
   "cell_type": "markdown",
   "metadata": {},
   "source": [
    "# 3.\n",
    "\n",
    "Define a function preprocess\\_text() that takes a string as first\n",
    "argument, as well as an optional boolean keyword argument lowercase\n",
    "(that should default to False). This function should (a) remove all\n",
    "numeric characters and all punctuation, (b) lowercase all characters (if\n",
    "the lowercase argument evaluates to True), and (c) split the text into\n",
    "tokens along whitespace. If there is more than one token in the result,\n",
    "the tokens are returned by the function; else, the function returns\n",
    "None. You should use regular expressions at least once in this function.\n",
    "(Do not forget to import the relevant module from the Python Standard\n",
    "Library.)\n",
    "\n",
    "Example:\n",
    "``` python\n",
    "s = 'At 17, Mozart was engaged as a musician at the Salzburg court but grew restless and traveled in search of a better position.'\n",
    "\n",
    "print(preprocess_text(s))\n",
    "```\n",
    "\n",
    "```bash\n",
    "['At', 'Mozart', 'was', 'engaged', 'as', 'a', 'musician', 'at', 'the', 'Salzburg', 'court', 'but', 'grew', 'restless', 'and', 'traveled', 'in', 'search', 'of', 'a', 'better', 'position']\n",
    "```\n",
    "```python\n",
    "print(preprocess_text(s, lowercase=True))\n",
    "```\n",
    "```bash\n",
    "['at', 'mozart', 'was', 'engaged', 'as', 'a', 'musician', 'at', 'the', 'salzburg', 'court', 'but', 'grew', 'restless', 'and', 'traveled', 'in', 'search', 'of', 'a', 'better', 'position']\n",
    "```"
   ]
  },
  {
   "cell_type": "markdown",
   "metadata": {},
   "source": [
    "# 4.\n",
    "\n",
    "Write a function min_max() that accepts a list of numbers as\n",
    "argument and returns the lowest and highest numbers as a tuple. You\n",
    "cannot use the built-in functions min() and max() or import similar\n",
    "functionality from external libraries.\n",
    "\n",
    "It should return `(1,21)`"
   ]
  },
  {
   "cell_type": "code",
   "execution_count": null,
   "metadata": {},
   "outputs": [],
   "source": [
    "l = [21, 3, 5, 2, 1, 19]\n",
    "\n",
    "# code here\n",
    "\n",
    "print(min_max(l))"
   ]
  },
  {
   "cell_type": "markdown",
   "metadata": {},
   "source": [
    "# 5. \n",
    "\n",
    "Consider the following Python code which (amongst other things) will\n",
    "print a series of 4 variable types when it is executed:\n",
    "\n",
    "```python\n",
    "\n",
    "x, f, d = '17', 1, False\n",
    "\n",
    "def f1(x, y):\n",
    "\n",
    "return x + y\n",
    "\n",
    "def f2(x):\n",
    "\n",
    "print(x)\n",
    "\n",
    "h = f1(int(x), f)\n",
    "\n",
    "print(type(h))\n",
    "\n",
    "h = f1(int(x), d)\n",
    "\n",
    "print(type(h))\n",
    "\n",
    "h = f1(f1(x, str(f)), x)\n",
    "\n",
    "print(type(h))\n",
    "\n",
    "d = f2(int(d))\n",
    "\n",
    "print(type(d))\n",
    "```"
   ]
  },
  {
   "cell_type": "markdown",
   "metadata": {},
   "source": [
    "Which [4 types]{.underline} will be printed when this code is executed\n",
    "(in the correct order)? (Note: Your answer can be approximately correct:\n",
    "e.g. if \\\"\\<class \\'str\\'\\>\\\" will be printed, you can simply state:\n",
    "\\'string\\'.)"
   ]
  },
  {
   "cell_type": "markdown",
   "metadata": {},
   "source": [
    "\\(1) "
   ]
  },
  {
   "cell_type": "markdown",
   "metadata": {},
   "source": [
    "\\(2) ................................"
   ]
  },
  {
   "cell_type": "markdown",
   "metadata": {},
   "source": [
    "\\(3) ................................"
   ]
  },
  {
   "cell_type": "markdown",
   "metadata": {},
   "source": [
    "\\(4) ................................"
   ]
  },
  {
   "cell_type": "markdown",
   "metadata": {},
   "source": [
    "# 6. \n",
    "\n",
    "What is the output of the following single-line statements with logical expressions, given the variable initializations in the first lines immediately below?\n",
    "\n",
    "```python\n",
    "\n",
    "night = True\n",
    "day = False\n",
    "\n",
    "#1\n",
    "print(not day or not night)\n",
    "\n",
    "#2\n",
    "print(night and day and night)\n",
    "\n",
    "#3\n",
    "print(night and not day)\n",
    "\n",
    "#4\n",
    "print(night and not day)\n",
    "\n",
    "#5\n",
    "if 'day': print(True)\n",
    "\n",
    "#6    \n",
    "if night and '': print(False)\n",
    " \n",
    "```"
   ]
  },
  {
   "cell_type": "code",
   "execution_count": null,
   "metadata": {},
   "outputs": [],
   "source": []
  },
  {
   "cell_type": "code",
   "execution_count": null,
   "metadata": {},
   "outputs": [],
   "source": []
  },
  {
   "cell_type": "code",
   "execution_count": null,
   "metadata": {},
   "outputs": [],
   "source": []
  },
  {
   "cell_type": "code",
   "execution_count": null,
   "metadata": {},
   "outputs": [],
   "source": []
  },
  {
   "cell_type": "code",
   "execution_count": null,
   "metadata": {},
   "outputs": [],
   "source": []
  },
  {
   "cell_type": "code",
   "execution_count": null,
   "metadata": {},
   "outputs": [],
   "source": []
  },
  {
   "cell_type": "code",
   "execution_count": null,
   "metadata": {},
   "outputs": [],
   "source": []
  }
 ],
 "metadata": {
  "kernelspec": {
   "display_name": "Python 3",
   "language": "python",
   "name": "python3"
  },
  "language_info": {
   "codemirror_mode": {
    "name": "ipython",
    "version": 3
   },
   "file_extension": ".py",
   "mimetype": "text/x-python",
   "name": "python",
   "nbconvert_exporter": "python",
   "pygments_lexer": "ipython3",
   "version": "3.7.4"
  }
 },
 "nbformat": 4,
 "nbformat_minor": 4
}
