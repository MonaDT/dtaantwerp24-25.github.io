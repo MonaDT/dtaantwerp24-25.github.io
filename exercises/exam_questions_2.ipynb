{
 "cells": [
  {
   "cell_type": "markdown",
   "metadata": {},
   "source": [
    "# Question 1\n",
    "\n",
    "Implement a python function that uses regex to retrieve sequences of one upper case letter followed by lower case letters."
   ]
  },
  {
   "cell_type": "code",
   "execution_count": null,
   "metadata": {},
   "outputs": [],
   "source": [
    "# code here\n",
    "\n",
    "\n"
   ]
  },
  {
   "cell_type": "markdown",
   "metadata": {},
   "source": [
    "Click here for the Regex pattern\n",
    "\n",
    "<!--\n",
    "'^[a-z]+_[a-z]+$'\n",
    "-->"
   ]
  },
  {
   "cell_type": "markdown",
   "metadata": {},
   "source": [
    "Click here for the answer\n",
    "<!--\n",
    "import re\n",
    "def text_match(text):\n",
    "        patterns = '^[a-z]+_[a-z]+$'\n",
    "        if not re.search(patterns,  text):\n",
    "                return 'Found a match!'\n",
    "        else:\n",
    "                return('Not matched!')\n",
    "\n",
    "print(text_match(\"aab_cbbbc\"))\n",
    "print(text_match(\"aab_Abbbc\"))\n",
    "print(text_match(\"Aaab_abbbc\"))\n",
    "-->"
   ]
  },
  {
   "cell_type": "markdown",
   "metadata": {},
   "source": [
    "# Question 2\n",
    "\n",
    "Open a the text file, create a frequency distribution, and plot it using `pandas`.\n",
    "\n",
    "You should use the functions:\n",
    "\n",
    "- `open`\n",
    "- `pd.Series`\n",
    "- `plot`"
   ]
  },
  {
   "cell_type": "code",
   "execution_count": 27,
   "metadata": {},
   "outputs": [
    {
     "data": {
      "text/plain": [
       "<matplotlib.axes._subplots.AxesSubplot at 0x7f5842ffe590>"
      ]
     },
     "execution_count": 27,
     "metadata": {},
     "output_type": "execute_result"
    },
    {
     "data": {
      "image/png": "[encoded data removed]",
      "text/plain": [
       "<Figure size 432x288 with 1 Axes>"
      ]
     },
     "metadata": {
      "needs_background": "light"
     },
     "output_type": "display_data"
    }
   ],
   "source": [
    "import pandas as pd\n",
    "import matplotlib as mpl\n",
    "\n",
    "# code here\n"
   ]
  },
  {
   "cell_type": "markdown",
   "metadata": {},
   "source": [
    "click here for the answer\n",
    "\n",
    "<!--\n",
    "\n",
    "# make an empty dict\n",
    "d = {}\n",
    "\n",
    "# open a file\n",
    "with open('alice.txt', 'r') as f:\n",
    "    text = f.read()\n",
    "\n",
    "# iterate over the text in words\n",
    "for word in text.split(' '):\n",
    "    try:\n",
    "        d[word] += 1\n",
    "    except KeyError:\n",
    "        d[word] = 1\n",
    "\n",
    "pd.Series(d).sort_values(ascending=False)[:10].plot(kind='bar')\n",
    "-->"
   ]
  },
  {
   "cell_type": "markdown",
   "metadata": {},
   "source": [
    "# Question 3\n",
    "\n",
    "Annonamise the string for the names in the list."
   ]
  },
  {
   "cell_type": "code",
   "execution_count": 24,
   "metadata": {},
   "outputs": [
    {
     "name": "stdout",
     "output_type": "stream",
     "text": [
      "\n",
      "Dear _____\n",
      "\n",
      "I had a really great time last night, \n",
      "but _____ was a real pain in the A. \n",
      "Next time let's go round to _____'s house.\n",
      "\n",
      "speak soon, _____\n",
      "\n",
      "\n"
     ]
    }
   ],
   "source": [
    "message = '''\n",
    "Dear Patrick\n",
    "\n",
    "I had a really great time last night, \n",
    "but Ben was a real pain in the A. \n",
    "Next time let's go round to Mike's house.\n",
    "\n",
    "speak soon, Walter\n",
    "\n",
    "'''\n",
    "names = ['Ben','Mike','Walter', 'Patrick']\n",
    "\n",
    "# code here\n",
    "\n"
   ]
  },
  {
   "cell_type": "markdown",
   "metadata": {},
   "source": [
    "click here for the answer\n",
    "\n",
    "<!--\n",
    "for name in names:\n",
    "    message = message.replace(name, '_____')\n",
    "\n",
    "print(message)\n",
    "-->"
   ]
  },
  {
   "cell_type": "markdown",
   "metadata": {},
   "source": [
    "# Question 4\n",
    "\n",
    "Use the `urlib.request.urlopen` method to open the webpage 'example.com', and the `BeautifulSoup` package to parse the frist heading (`h1`).\n"
   ]
  },
  {
   "cell_type": "code",
   "execution_count": 6,
   "metadata": {},
   "outputs": [],
   "source": [
    "from bs4 import BeautifulSoup\n",
    "from urllib import request\n",
    "# Code here\n",
    "\n",
    "\n"
   ]
  },
  {
   "cell_type": "markdown",
   "metadata": {},
   "source": [
    "click here for the answer\n",
    "\n",
    "<!--\n",
    "\n",
    "with request.urlopen('http://example.com') as w:\n",
    "    webpage = w.read()\n",
    "    \n",
    "soup = BeautifulSoup(webpage)\n",
    "    \n",
    "print(soup.h1)\n",
    "-->"
   ]
  },
  {
   "cell_type": "markdown",
   "metadata": {},
   "source": [
    "# Question 5\n",
    "\n",
    "Merge two python dictionaries"
   ]
  },
  {
   "cell_type": "code",
   "execution_count": 8,
   "metadata": {},
   "outputs": [
    {
     "name": "stdout",
     "output_type": "stream",
     "text": [
      "{'a': 100, 'b': 200, 'x': 300, 'y': 200}\n"
     ]
    }
   ],
   "source": [
    "d1 = {'a': 100, 'b': 200}\n",
    "d2 = {'x': 300, 'y': 200}\n",
    "\n",
    "# code here\n",
    "\n",
    "\n"
   ]
  },
  {
   "cell_type": "markdown",
   "metadata": {},
   "source": [
    "click here for the answer.\n",
    "\n",
    "<!--\n",
    "d1.update(d2)\n",
    "print(d1)\n",
    "-->"
   ]
  }
 ],
 "metadata": {
  "kernelspec": {
   "display_name": "Python 3",
   "language": "python",
   "name": "python3"
  },
  "language_info": {
   "codemirror_mode": {
    "name": "ipython",
    "version": 3
   },
   "file_extension": ".py",
   "mimetype": "text/x-python",
   "name": "python",
   "nbconvert_exporter": "python",
   "pygments_lexer": "ipython3",
   "version": "3.7.4"
  }
 },
 "nbformat": 4,
 "nbformat_minor": 4
}
