{
 "cells": [
  {
   "cell_type": "markdown",
   "metadata": {},
   "source": [
    "# DTA Bootcamp Mock Exam\n",
    "\n",
    "- You should be able to answer all of these questions within 2 hours.\n",
    "- We will go through the answers in class, you do not need to submit your answers. \n",
    "- Please try not to use google and stackoverflow, and wait for the results in class.\n",
    "- The purpose of this test is to give you a realistic idea of your current level in the context of an exam."
   ]
  },
  {
   "cell_type": "markdown",
   "metadata": {},
   "source": [
    "# 1. \n",
    "\n",
    "Produce Python code that sets up a naive authentication system for e.g. a website. Implement the following functionality:\n",
    "\n",
    "\\(A) Ask the user (via th `input()` command) for an email address (as a proxy for a user name) and a password. Store this information in a suitable data\n",
    "structure.\n",
    "\n",
    "\\(B) Ask the user (via th `input()` command) to login with her/his credentials. In your code, the following information should be printed under the appropriate conditions:\n",
    "\n",
    "- \"Account successfully created!\"\n",
    "- \"An email address without an '@ symbol is not valid. Try again.\"\n",
    "- \"That user name has already been taken. Try again.\"\n",
    "\n",
    "NB: Whenever you ask the user to \"try again\", you have to make sure\n",
    "that the system keeps on asking for the relevant information over and\n",
    "over until the correct conditions are met."
   ]
  },
  {
   "cell_type": "code",
   "execution_count": 2,
   "metadata": {},
   "outputs": [],
   "source": [
    "# (A) code here\n",
    "\n",
    "# Store this information in a suitable data structure\n",
    "user_database = {}"
   ]
  },
  {
   "cell_type": "code",
   "execution_count": 3,
   "metadata": {},
   "outputs": [],
   "source": [
    "def registration ():\n",
    "    print('Provide an e-mail address as username and a password:')\n",
    "    username = check_username()\n",
    "    passwd = input('Choose a password: ')\n",
    "    user_database[username] = passwd\n",
    "    print(\"Account successfully created!\")\n",
    "    \n",
    "def check_username ():\n",
    "    retry = True\n",
    "    while retry:\n",
    "        username = input('Username (e-mail): ')\n",
    "        if not '@' in username:\n",
    "            print(\"An email address without an '@' symbol is not valid. Try again.\")\n",
    "        elif username in user_database:\n",
    "            print('That username has already been taken. Try again.')\n",
    "        else: retry = False\n",
    "    return username\n",
    "\n",
    "# (B) code here\n",
    "\n",
    "def login ():\n",
    "    username = input('Username (e-mail): ')\n",
    "    if username not in user_database:\n",
    "        print('Unknown username, please register first!')\n",
    "        return True # consider a call to registration()\n",
    "    stored_passwd = user_database[username]\n",
    "    tries = 1\n",
    "    while tries < 4:\n",
    "        passwd = input('Password: >{}'.format(tries))\n",
    "        if passwd != stored_passwd:\n",
    "            tries += 1\n",
    "            print(\"Wrong password!\")\n",
    "        else: return 'Welcome!'\n",
    "    print('We don\\'t trust you')"
   ]
  },
  {
   "cell_type": "code",
   "execution_count": 4,
   "metadata": {},
   "outputs": [
    {
     "data": {
      "text/plain": [
       "{}"
      ]
     },
     "execution_count": 4,
     "metadata": {},
     "output_type": "execute_result"
    }
   ],
   "source": [
    "user_database"
   ]
  },
  {
   "cell_type": "code",
   "execution_count": 5,
   "metadata": {},
   "outputs": [
    {
     "name": "stdout",
     "output_type": "stream",
     "text": [
      "Provide an e-mail address as username and a password:\n"
     ]
    },
    {
     "name": "stdin",
     "output_type": "stream",
     "text": [
      "Username (e-mail):  trump@whitehouse.gov\n",
      "Choose a password:  ilovenuggets\n"
     ]
    },
    {
     "name": "stdout",
     "output_type": "stream",
     "text": [
      "Account successfully created!\n"
     ]
    }
   ],
   "source": [
    "registration()"
   ]
  },
  {
   "cell_type": "code",
   "execution_count": 6,
   "metadata": {},
   "outputs": [
    {
     "data": {
      "text/plain": [
       "{'trump@whitehouse.gov': 'ilovenuggets'}"
      ]
     },
     "execution_count": 6,
     "metadata": {},
     "output_type": "execute_result"
    }
   ],
   "source": [
    "user_database"
   ]
  },
  {
   "cell_type": "code",
   "execution_count": 7,
   "metadata": {},
   "outputs": [
    {
     "name": "stdin",
     "output_type": "stream",
     "text": [
      "Username (e-mail):  melania@whitehouse.gov\n"
     ]
    },
    {
     "name": "stdout",
     "output_type": "stream",
     "text": [
      "Unknown username, please register first!\n"
     ]
    },
    {
     "data": {
      "text/plain": [
       "True"
      ]
     },
     "execution_count": 7,
     "metadata": {},
     "output_type": "execute_result"
    }
   ],
   "source": [
    "login()"
   ]
  },
  {
   "cell_type": "code",
   "execution_count": 8,
   "metadata": {},
   "outputs": [
    {
     "name": "stdin",
     "output_type": "stream",
     "text": [
      "Username (e-mail):  trump@whitehouse.gov\n",
      "Password: >1 ilovehamburgers\n"
     ]
    },
    {
     "name": "stdout",
     "output_type": "stream",
     "text": [
      "Wrong password!\n"
     ]
    },
    {
     "name": "stdin",
     "output_type": "stream",
     "text": [
      "Password: >2 ilovenuggets\n"
     ]
    },
    {
     "data": {
      "text/plain": [
       "'Welcome!'"
      ]
     },
     "execution_count": 8,
     "metadata": {},
     "output_type": "execute_result"
    }
   ],
   "source": [
    "login()"
   ]
  },
  {
   "cell_type": "markdown",
   "metadata": {},
   "source": [
    "# 2. \n",
    "Consider the following string `s`:"
   ]
  },
  {
   "cell_type": "code",
   "execution_count": 17,
   "metadata": {},
   "outputs": [],
   "source": [
    "s = \"\"\"Born in Salzburg, Mozart showed prodigious ability from his \n",
    "earliest childhood. Already competent on keyboard and violin, he\n",
    "composed from the age of five and performed before European royalty. At\n",
    "17, Mozart was engaged as a musician at the Salzburg court but grew\n",
    "restless and traveled in search of a better position.\"\"\""
   ]
  },
  {
   "cell_type": "markdown",
   "metadata": {},
   "source": [
    "Using slicing indices in square brackets (s\\[\\...\\]) we are able to\n",
    "access slices of the original string. Which expressions do we need to\n",
    "use as indices to extract the sub-strings below?"
   ]
  },
  {
   "cell_type": "markdown",
   "metadata": {},
   "source": [
    "1. `B` (at the beginning)"
   ]
  },
  {
   "cell_type": "code",
   "execution_count": 18,
   "metadata": {},
   "outputs": [
    {
     "data": {
      "text/plain": [
       "'B'"
      ]
     },
     "execution_count": 18,
     "metadata": {},
     "output_type": "execute_result"
    }
   ],
   "source": [
    "s[0]"
   ]
  },
  {
   "cell_type": "markdown",
   "metadata": {},
   "source": [
    "2. `.` (at the end)"
   ]
  },
  {
   "cell_type": "code",
   "execution_count": 19,
   "metadata": {},
   "outputs": [
    {
     "data": {
      "text/plain": [
       "'.'"
      ]
     },
     "execution_count": 19,
     "metadata": {},
     "output_type": "execute_result"
    }
   ],
   "source": [
    "s[-1]"
   ]
  },
  {
   "cell_type": "markdown",
   "metadata": {},
   "source": [
    "3. `better position`"
   ]
  },
  {
   "cell_type": "code",
   "execution_count": 20,
   "metadata": {},
   "outputs": [
    {
     "data": {
      "text/plain": [
       "'better position'"
      ]
     },
     "execution_count": 20,
     "metadata": {},
     "output_type": "execute_result"
    }
   ],
   "source": [
    "s[-16:-1]"
   ]
  },
  {
   "cell_type": "markdown",
   "metadata": {},
   "source": [
    "4. `.noitisop retteb a fo hcraes ni delevart dna sseltser\n",
    "werg tub truoc grubzlaS eht ta naicisum a sa degagne saw trazoM ,71\n",
    "tA .ytlayor naeporuE erofeb demrofrep dna evif fo ega eht morf desopmoc\n",
    "eh ,niloiv dna draobyek no tnetepmoc ydaerlA .doohdlihc tseilrae\n",
    " sih morf ytiliba suoigidorp dewohs trazoM ,grubzlaS ni nroB`"
   ]
  },
  {
   "cell_type": "code",
   "execution_count": 21,
   "metadata": {},
   "outputs": [
    {
     "name": "stdout",
     "output_type": "stream",
     "text": [
      ".noitisop retteb a fo hcraes ni delevart dna sseltser\n",
      "werg tub truoc grubzlaS eht ta naicisum a sa degagne saw trazoM ,71\n",
      "tA .ytlayor naeporuE erofeb demrofrep dna evif fo ega eht morf desopmoc\n",
      "eh ,niloiv dna draobyek no tnetepmoc ydaerlA .doohdlihc tseilrae\n",
      " sih morf ytiliba suoigidorp dewohs trazoM ,grubzlaS ni nroB\n"
     ]
    }
   ],
   "source": [
    "print(s[::-1])"
   ]
  },
  {
   "cell_type": "markdown",
   "metadata": {},
   "source": [
    "5. `Br nSlbr,Mzr hwdpoiiu blt rmhs\n",
    "aletcidod led optn nkyor n iln ecmoe rmteaeo ieadpromdbfr uoenryly t1,Mzr a nae samsca tteSlbr or u rwrsls n rvldi erho  etrpsto.`"
   ]
  },
  {
   "cell_type": "code",
   "execution_count": 29,
   "metadata": {},
   "outputs": [
    {
     "name": "stdout",
     "output_type": "stream",
     "text": [
      "Br nSlbr,Mzr hwdpoiiu blt rmhs\n",
      "aletcidod led optn nkyor n iln ecmoe rmteaeo ieadpromdbfr uoenryly t1,Mzr a nae samsca tteSlbr or u rwrsls n rvldi erho  etrpsto.\n"
     ]
    }
   ],
   "source": [
    "print(s[::2])"
   ]
  },
  {
   "cell_type": "markdown",
   "metadata": {},
   "source": [
    "6. `BnnabgMa odrio itfmi\n",
    "re ihdAeyoenokbra onhcpefmha  va rrderEoarayA1 ztaeads si  eabgotugwelsntveisr  bt`"
   ]
  },
  {
   "cell_type": "code",
   "execution_count": 33,
   "metadata": {},
   "outputs": [
    {
     "name": "stdout",
     "output_type": "stream",
     "text": [
      "BnnabgMa odrio itfmi\n",
      "re ihdAeyoenokbra onhcpefmha  va rrderEoarayA1 ztaeads si  eabgotugwelsntveisr  bt\n"
     ]
    }
   ],
   "source": [
    "print(s[:-10:3])"
   ]
  },
  {
   "cell_type": "markdown",
   "metadata": {},
   "source": [
    "# 3.\n",
    "\n",
    "Define a function preprocess\\_text() that takes a string as first\n",
    "argument, as well as an optional boolean keyword argument lowercase\n",
    "(that should default to False). This function should (a) remove all\n",
    "numeric characters and all punctuation, (b) lowercase all characters (if\n",
    "the lowercase argument evaluates to True), and (c) split the text into\n",
    "tokens along whitespace. If there is more than one token in the result,\n",
    "the tokens are returned by the function; else, the function returns\n",
    "None. You should use regular expressions at least once in this function.\n",
    "(Do not forget to import the relevant module from the Python Standard\n",
    "Library.)\n",
    "\n",
    "Example:\n",
    "``` python\n",
    "s = 'At 17, Mozart was engaged as a musician at the Salzburg court but grew restless and traveled in search of a better position.'\n",
    "\n",
    "print(preprocess_text(s))\n",
    "```\n",
    "\n",
    "```bash\n",
    "['At', 'Mozart', 'was', 'engaged', 'as', 'a', 'musician', 'at', 'the', 'Salzburg', 'court', 'but', 'grew', 'restless', 'and', 'traveled', 'in', 'search', 'of', 'a', 'better', 'position']\n",
    "```\n",
    "```python\n",
    "print(preprocess_text(s, lowercase=True))\n",
    "```\n",
    "```bash\n",
    "['at', 'mozart', 'was', 'engaged', 'as', 'a', 'musician', 'at', 'the', 'salzburg', 'court', 'but', 'grew', 'restless', 'and', 'traveled', 'in', 'search', 'of', 'a', 'better', 'position']\n",
    "```"
   ]
  },
  {
   "cell_type": "code",
   "execution_count": 34,
   "metadata": {},
   "outputs": [],
   "source": [
    "import re\n",
    "\n",
    "def preprocess_text (s, lowercase=False):\n",
    "    if lowercase:\n",
    "        s = s.lower()\n",
    "    result = re.findall('[^\\W\\d]+', s)\n",
    "    return result\n",
    "    "
   ]
  },
  {
   "cell_type": "code",
   "execution_count": 35,
   "metadata": {},
   "outputs": [],
   "source": [
    "s = 'At 17, Mozart was engaged as a musician at the Salzburg court but grew restless and traveled in search of a better position.'"
   ]
  },
  {
   "cell_type": "code",
   "execution_count": 36,
   "metadata": {},
   "outputs": [
    {
     "name": "stdout",
     "output_type": "stream",
     "text": [
      "['At', 'Mozart', 'was', 'engaged', 'as', 'a', 'musician', 'at', 'the', 'Salzburg', 'court', 'but', 'grew', 'restless', 'and', 'traveled', 'in', 'search', 'of', 'a', 'better', 'position']\n"
     ]
    }
   ],
   "source": [
    "print(preprocess_text(s))"
   ]
  },
  {
   "cell_type": "code",
   "execution_count": 37,
   "metadata": {},
   "outputs": [
    {
     "name": "stdout",
     "output_type": "stream",
     "text": [
      "['at', 'mozart', 'was', 'engaged', 'as', 'a', 'musician', 'at', 'the', 'salzburg', 'court', 'but', 'grew', 'restless', 'and', 'traveled', 'in', 'search', 'of', 'a', 'better', 'position']\n"
     ]
    }
   ],
   "source": [
    "print(preprocess_text(s, lowercase=True))"
   ]
  },
  {
   "cell_type": "markdown",
   "metadata": {},
   "source": [
    "# 4.\n",
    "\n",
    "Write a function min_max() that accepts a list of numbers as\n",
    "argument and returns the lowest and highest numbers as a tuple. You\n",
    "cannot use the built-in functions min() and max() or import similar\n",
    "functionality from external libraries.\n",
    "\n",
    "It should return `(1,21)`"
   ]
  },
  {
   "cell_type": "code",
   "execution_count": 38,
   "metadata": {},
   "outputs": [
    {
     "name": "stdout",
     "output_type": "stream",
     "text": [
      "(1, 21)\n"
     ]
    }
   ],
   "source": [
    "l = [21, 3, 5, 2, 1, 19]\n",
    "\n",
    "# code here\n",
    "def min_max(list_of_numbers):\n",
    "    if len(list_of_numbers) == 0:\n",
    "        return []\n",
    "    min = list_of_numbers[0]\n",
    "    max = list_of_numbers[0]\n",
    "    for number in list_of_numbers[1:]:\n",
    "        if number < min:\n",
    "            min = number\n",
    "        if number > max:\n",
    "            max = number\n",
    "    return min, max\n",
    "\n",
    "print(min_max(l))"
   ]
  },
  {
   "cell_type": "code",
   "execution_count": 39,
   "metadata": {},
   "outputs": [
    {
     "name": "stdout",
     "output_type": "stream",
     "text": [
      "[]\n"
     ]
    }
   ],
   "source": [
    "l = []\n",
    "print(min_max(l))"
   ]
  },
  {
   "cell_type": "code",
   "execution_count": 48,
   "metadata": {},
   "outputs": [
    {
     "data": {
      "text/plain": [
       "[1, 21]"
      ]
     },
     "execution_count": 48,
     "metadata": {},
     "output_type": "execute_result"
    }
   ],
   "source": [
    "l = [21, 3, 5, 2, 1, 19]\n",
    "sorted_l = sorted(l)\n",
    "[sorted_l[0], sorted_l[-1]]"
   ]
  },
  {
   "cell_type": "markdown",
   "metadata": {},
   "source": [
    "# 5. \n",
    "\n",
    "Consider the following Python code which (amongst other things) will\n",
    "print a series of 4 variable types when it is executed:\n",
    "\n"
   ]
  },
  {
   "cell_type": "markdown",
   "metadata": {},
   "source": [
    "Which [4 types] will be printed when this code is executed\n",
    "(in the correct order)? (Note: Your answer can be approximately correct:\n",
    "e.g. if \\\"\\<class \\'str\\'\\>\\\" will be printed, you can simply state:\n",
    "\\'string\\'.)"
   ]
  },
  {
   "cell_type": "code",
   "execution_count": 49,
   "metadata": {},
   "outputs": [],
   "source": [
    "x, f, d = '17', 1, False"
   ]
  },
  {
   "cell_type": "code",
   "execution_count": 50,
   "metadata": {},
   "outputs": [],
   "source": [
    "def f1(x, y):\n",
    "    return x + y\n",
    "\n",
    "def f2(x):\n",
    "    print(x)"
   ]
  },
  {
   "cell_type": "code",
   "execution_count": 51,
   "metadata": {},
   "outputs": [
    {
     "name": "stdout",
     "output_type": "stream",
     "text": [
      "<class 'int'>\n"
     ]
    }
   ],
   "source": [
    "h = f1(int(x), f)\n",
    "\n",
    "print(type(h))"
   ]
  },
  {
   "cell_type": "code",
   "execution_count": 52,
   "metadata": {},
   "outputs": [
    {
     "name": "stdout",
     "output_type": "stream",
     "text": [
      "17\n",
      "<class 'int'>\n"
     ]
    }
   ],
   "source": [
    "h = f1(int(x), d)\n",
    "print(h)\n",
    "print(type(h))"
   ]
  },
  {
   "cell_type": "code",
   "execution_count": 53,
   "metadata": {},
   "outputs": [
    {
     "name": "stdout",
     "output_type": "stream",
     "text": [
      "17117\n",
      "<class 'str'>\n"
     ]
    }
   ],
   "source": [
    "h = f1(f1(x, str(f)), x)\n",
    "print(h)\n",
    "print(type(h))"
   ]
  },
  {
   "cell_type": "code",
   "execution_count": 54,
   "metadata": {},
   "outputs": [
    {
     "name": "stdout",
     "output_type": "stream",
     "text": [
      "0\n"
     ]
    },
    {
     "data": {
      "text/plain": [
       "NoneType"
      ]
     },
     "execution_count": 54,
     "metadata": {},
     "output_type": "execute_result"
    }
   ],
   "source": [
    "d = f2(int(d))\n",
    "\n",
    "type(d)"
   ]
  },
  {
   "cell_type": "markdown",
   "metadata": {},
   "source": [
    "# 6. \n",
    "\n",
    "What is the output of the following single-line statements with logical expressions, given the variable initializations in the first lines immediately below?\n",
    "\n",
    "```python\n",
    "\n",
    "night = True\n",
    "day = False\n",
    "\n",
    "#1\n",
    "print(not day or not night)\n",
    "\n",
    "#2\n",
    "print(night and day and night)\n",
    "\n",
    "#3\n",
    "print(night and not day)\n",
    "\n",
    "#4\n",
    "print(night and not day)\n",
    "\n",
    "#5\n",
    "if 'day': print(True)\n",
    "\n",
    "#6    \n",
    "if night and '': print(False)\n",
    " \n",
    "```"
   ]
  },
  {
   "cell_type": "code",
   "execution_count": 56,
   "metadata": {},
   "outputs": [],
   "source": [
    "night = True\n",
    "day = False"
   ]
  },
  {
   "cell_type": "code",
   "execution_count": 57,
   "metadata": {},
   "outputs": [
    {
     "data": {
      "text/plain": [
       "True"
      ]
     },
     "execution_count": 57,
     "metadata": {},
     "output_type": "execute_result"
    }
   ],
   "source": [
    "not day or not night"
   ]
  },
  {
   "cell_type": "code",
   "execution_count": 58,
   "metadata": {},
   "outputs": [
    {
     "data": {
      "text/plain": [
       "False"
      ]
     },
     "execution_count": 58,
     "metadata": {},
     "output_type": "execute_result"
    }
   ],
   "source": [
    "night and day and night"
   ]
  },
  {
   "cell_type": "code",
   "execution_count": 59,
   "metadata": {},
   "outputs": [
    {
     "data": {
      "text/plain": [
       "True"
      ]
     },
     "execution_count": 59,
     "metadata": {},
     "output_type": "execute_result"
    }
   ],
   "source": [
    "night and not day"
   ]
  },
  {
   "cell_type": "code",
   "execution_count": 60,
   "metadata": {},
   "outputs": [
    {
     "data": {
      "text/plain": [
       "True"
      ]
     },
     "execution_count": 60,
     "metadata": {},
     "output_type": "execute_result"
    }
   ],
   "source": [
    "night and not day"
   ]
  },
  {
   "cell_type": "code",
   "execution_count": 61,
   "metadata": {},
   "outputs": [
    {
     "name": "stdout",
     "output_type": "stream",
     "text": [
      "True\n"
     ]
    }
   ],
   "source": [
    "if 'day': print(True)"
   ]
  },
  {
   "cell_type": "code",
   "execution_count": 62,
   "metadata": {},
   "outputs": [],
   "source": [
    "if night and '': print(False)"
   ]
  }
 ],
 "metadata": {
  "kernelspec": {
   "display_name": "Python 3",
   "language": "python",
   "name": "python3"
  },
  "language_info": {
   "codemirror_mode": {
    "name": "ipython",
    "version": 3
   },
   "file_extension": ".py",
   "mimetype": "text/x-python",
   "name": "python",
   "nbconvert_exporter": "python",
   "pygments_lexer": "ipython3",
   "version": "3.8.3"
  }
 },
 "nbformat": 4,
 "nbformat_minor": 4
}
