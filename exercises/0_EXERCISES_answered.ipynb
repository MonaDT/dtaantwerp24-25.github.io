{
 "cells": [
  {
   "cell_type": "markdown",
   "metadata": {},
   "source": [
    "# Logical Expressions\n",
    "\n",
    "- Date : 22/9/20\n",
    "- Notebook : `1_week1_tuesday.ipynb`"
   ]
  },
  {
   "cell_type": "code",
   "execution_count": null,
   "metadata": {},
   "outputs": [],
   "source": [
    "True == False"
   ]
  },
  {
   "cell_type": "code",
   "execution_count": null,
   "metadata": {},
   "outputs": [],
   "source": [
    "True = False"
   ]
  },
  {
   "cell_type": "code",
   "execution_count": null,
   "metadata": {},
   "outputs": [],
   "source": [
    "True and not (False and True)"
   ]
  },
  {
   "cell_type": "code",
   "execution_count": null,
   "metadata": {},
   "outputs": [],
   "source": [
    "True or not True"
   ]
  },
  {
   "cell_type": "code",
   "execution_count": null,
   "metadata": {},
   "outputs": [],
   "source": [
    "banana"
   ]
  },
  {
   "cell_type": "code",
   "execution_count": null,
   "metadata": {},
   "outputs": [],
   "source": [
    "25 or banana"
   ]
  },
  {
   "cell_type": "code",
   "execution_count": null,
   "metadata": {},
   "outputs": [],
   "source": [
    "25 and banana"
   ]
  },
  {
   "cell_type": "code",
   "execution_count": null,
   "metadata": {},
   "outputs": [],
   "source": [
    "x = 2\n",
    "3 != 5 - x or not(bool(0)) or len(\"Bootcamp\") == x * 4"
   ]
  },
  {
   "cell_type": "code",
   "execution_count": null,
   "metadata": {},
   "outputs": [],
   "source": [
    "x < 5 and x > 1"
   ]
  },
  {
   "cell_type": "code",
   "execution_count": null,
   "metadata": {},
   "outputs": [],
   "source": [
    "'cat' < 'dog'  "
   ]
  },
  {
   "cell_type": "code",
   "execution_count": null,
   "metadata": {},
   "outputs": [],
   "source": [
    "'inside' > 'insight'"
   ]
  },
  {
   "cell_type": "markdown",
   "metadata": {},
   "source": [
    "### isinstance (x, y) ###"
   ]
  },
  {
   "cell_type": "code",
   "execution_count": null,
   "metadata": {},
   "outputs": [],
   "source": [
    "type(\"apple\")"
   ]
  },
  {
   "cell_type": "code",
   "execution_count": null,
   "metadata": {},
   "outputs": [],
   "source": [
    "isinstance(\"apple\", str)"
   ]
  },
  {
   "cell_type": "markdown",
   "metadata": {},
   "source": [
    "# Loop & Test\n",
    "\n",
    "- Date : 23/9/20\n",
    "- Notebook : `2_week1_wednesday.ipynb`"
   ]
  },
  {
   "cell_type": "code",
   "execution_count": null,
   "metadata": {},
   "outputs": [],
   "source": [
    "# Count the number of vowels in a word string\n",
    "\n",
    "vowels = \"aeiou\"\n",
    "word = \"fictitious\""
   ]
  },
  {
   "cell_type": "code",
   "execution_count": null,
   "metadata": {},
   "outputs": [],
   "source": [
    "# Embedded loops and ifs\n",
    "\n",
    "# For each word in a list, check whether it is longer than 5 letters and if so, count the number of vowels\n",
    "\n",
    "words = ['I', 'like', 'the', 'words', 'serendipitous', 'and', 'fictitious']\n"
   ]
  },
  {
   "cell_type": "code",
   "execution_count": null,
   "metadata": {},
   "outputs": [],
   "source": [
    "# Important programming clichés are the filter, the counter, and the transfomation\n",
    "\n",
    "# Make a filter fo words starting with an 'a'\n",
    "# Input: a list of words, output: the words that start with the letter a\n",
    "\n",
    "words = ['apple', 'google', 'microsoft', 'facebook', 'amazon', 'oracle']"
   ]
  },
  {
   "cell_type": "code",
   "execution_count": null,
   "metadata": {},
   "outputs": [],
   "source": [
    "# make a filter for palindromes. Input: list of words, output a list of the input words that are palindromes\n",
    "\n",
    "words = ['abba', 'point', 'madam', 'feline', 'level']"
   ]
  },
  {
   "cell_type": "code",
   "execution_count": null,
   "metadata": {},
   "outputs": [],
   "source": [
    "# make a counter for 5-letter words. Input: a list of words, output: the number of words 5 letters long\n",
    "\n",
    "words = ['abba', 'point', 'madam', 'feline', 'level', 'apple', 'google', 'microsoft', 'facebook', 'amazon', 'oracle']"
   ]
  },
  {
   "cell_type": "code",
   "execution_count": null,
   "metadata": {},
   "outputs": [],
   "source": [
    "# make a transformer that translates a word string to a list where each letter in a word is represented by its number \n",
    "# in the alphabet (a = 1, .... z = 26)\n",
    "# Input \"bootcamp\"  -> output: [2, 15, 15, 20, 3, 1, 13, 16]\n",
    "\n",
    "alphabet = 'abcdefghijklmnopqrstuvwxyz'\n",
    "word = 'bootcamp'"
   ]
  },
  {
   "cell_type": "code",
   "execution_count": null,
   "metadata": {},
   "outputs": [],
   "source": [
    "# what if .index() would not exist?\n",
    "\n"
   ]
  },
  {
   "cell_type": "code",
   "execution_count": null,
   "metadata": {},
   "outputs": [],
   "source": [
    "# Make a filter that takes a word string as input and returns two lists: one with the vowels and one with the consonants.\n",
    "# Input: 'probabilistic', Output: [['p', 'r', 'b'. 'b', 'l', 's', 't', 'c']['o', 'a', 'i', 'i', 'i']]\n",
    "# Adapt the code in such a way that each letter occurs only once in vowels and consonants\n",
    "# Output: [['p', 'r', 'b', 'l', 's', 't', 'c']['o', 'a', 'i']]\n",
    "# Adapt the code in such a way that the letters occur only once and in alphabetic order\n",
    "# Output: [['b', 'c', 'l', 'p', 'r', 's', 't']['a', 'i', 'o']]\n"
   ]
  },
  {
   "cell_type": "code",
   "execution_count": null,
   "metadata": {},
   "outputs": [],
   "source": [
    "# Make a transformation that takes a word string as input\n",
    "# the output consists of the first letter, the consonants in the order in which they occur in the word, and the length of the word.\n",
    "# Input: \"Bootcamp\", Output: \"Btcmp8\""
   ]
  },
  {
   "cell_type": "markdown",
   "metadata": {},
   "source": [
    "# While\n",
    "\n",
    "\n",
    "- Date : 25/9/20\n",
    "- Notebook : `3_control_structures_2.ipynb`\n",
    "\n",
    "Excercises from the book (p. 54-55)"
   ]
  },
  {
   "cell_type": "markdown",
   "metadata": {},
   "source": [
    "3.1. Why does this fail? (*Easy: the error is your friend and will tell you!*)"
   ]
  },
  {
   "cell_type": "code",
   "execution_count": 26,
   "metadata": {},
   "outputs": [
    {
     "ename": "IndentationError",
     "evalue": "expected an indented block (<ipython-input-26-7fc6c32bbe58>, line 2)",
     "output_type": "error",
     "traceback": [
      "\u001b[0;36m  File \u001b[0;32m\"<ipython-input-26-7fc6c32bbe58>\"\u001b[0;36m, line \u001b[0;32m2\u001b[0m\n\u001b[0;31m    print('that shouldn't happen')\u001b[0m\n\u001b[0m        ^\u001b[0m\n\u001b[0;31mIndentationError\u001b[0m\u001b[0;31m:\u001b[0m expected an indented block\n"
     ]
    }
   ],
   "source": [
    "if 2 + 2 == 5:\n",
    "print('that shouldn't happen')\n",
    "    print('or this....')"
   ]
  },
  {
   "cell_type": "code",
   "execution_count": 67,
   "metadata": {},
   "outputs": [],
   "source": [
    "# The indentation is wrong"
   ]
  },
  {
   "cell_type": "markdown",
   "metadata": {},
   "source": [
    "3.2 Augment the recursive prefixation example on page 38 to handle three distinct prefixes. Assume that only identical prefixes can cooccur. (*Let us start this as a code reading exercise! What does this do?*)"
   ]
  },
  {
   "cell_type": "code",
   "execution_count": 52,
   "metadata": {},
   "outputs": [
    {
     "name": "stdout",
     "output_type": "stream",
     "text": [
      "missile\n",
      "anti-missile\n",
      "anti-anti-missile\n",
      "anti-anti-anti-missile\n",
      "racism\n",
      "anti-racism\n",
      "anti-anti-racism\n",
      "anti-anti-anti-racism\n",
      "music\n",
      "anti-music\n",
      "anti-anti-music\n",
      "anti-anti-anti-music\n"
     ]
    }
   ],
   "source": [
    "prefix = 'anti'\n",
    "words = ['missile', 'racism', 'music']\n",
    "\n",
    "for word in words:\n",
    "    print(word)\n",
    "    for i in range(3):\n",
    "        word = prefix + '-' + word\n",
    "        print(word)"
   ]
  },
  {
   "cell_type": "markdown",
   "metadata": {},
   "source": [
    "Now, let's make this work for three prefixes at once (instead of one): 'anti-', 'infra-' and 'counter-'."
   ]
  },
  {
   "cell_type": "markdown",
   "metadata": {},
   "source": [
    "3.3. Augment the recursive prefixation example above to handle three distinct\n",
    "prefixes. Assume that all prefixes can cooccur and any word can have up\n",
    "to three prefixes."
   ]
  },
  {
   "cell_type": "code",
   "execution_count": null,
   "metadata": {},
   "outputs": [],
   "source": [
    "# code here"
   ]
  },
  {
   "cell_type": "markdown",
   "metadata": {},
   "source": [
    "3.4. What’s wrong with the following code snippet?"
   ]
  },
  {
   "cell_type": "code",
   "execution_count": null,
   "metadata": {},
   "outputs": [],
   "source": [
    "count = 0\n",
    "while count < 3:\n",
    "    print(count)\n",
    "    count -= 1"
   ]
  },
  {
   "cell_type": "markdown",
   "metadata": {},
   "source": [
    "3.5. Make a chart that shows how the following would work step by step if we define word to be 'cat'."
   ]
  },
  {
   "cell_type": "code",
   "execution_count": 37,
   "metadata": {},
   "outputs": [
    {
     "name": "stdout",
     "output_type": "stream",
     "text": [
      "c\n",
      "a\n",
      "t\n",
      "\t c\n",
      "\t ca\n",
      "\t cat\n"
     ]
    }
   ],
   "source": [
    "word = 'cat'\n",
    "count = 0\n",
    "\n",
    "while count < len(word):\n",
    "    print(word[count])\n",
    "    count += 1\n",
    "\n",
    "othercount = 1 \n",
    "while othercount < (count + 1):\n",
    "    print('\\t', word[0 : othercount]) # the \\t might be new to you?\n",
    "    othercount += 1"
   ]
  },
  {
   "cell_type": "markdown",
   "metadata": {},
   "source": [
    "3.6. Why does the following code fail?"
   ]
  },
  {
   "cell_type": "code",
   "execution_count": 79,
   "metadata": {},
   "outputs": [
    {
     "ename": "KeyboardInterrupt",
     "evalue": "",
     "output_type": "error",
     "traceback": [
      "\u001b[0;31m---------------------------------------------------------------------------\u001b[0m",
      "\u001b[0;31mKeyboardInterrupt\u001b[0m                         Traceback (most recent call last)",
      "\u001b[0;32m<ipython-input-79-d85e3f3042f7>\u001b[0m in \u001b[0;36m<module>\u001b[0;34m\u001b[0m\n\u001b[1;32m      3\u001b[0m \u001b[0mcount\u001b[0m \u001b[0;34m=\u001b[0m \u001b[0;36m0\u001b[0m\u001b[0;34m\u001b[0m\u001b[0;34m\u001b[0m\u001b[0m\n\u001b[1;32m      4\u001b[0m \u001b[0;34m\u001b[0m\u001b[0m\n\u001b[0;32m----> 5\u001b[0;31m \u001b[0;32mwhile\u001b[0m \u001b[0mcount\u001b[0m \u001b[0;34m<\u001b[0m \u001b[0mlen\u001b[0m\u001b[0;34m(\u001b[0m\u001b[0mword\u001b[0m\u001b[0;34m)\u001b[0m\u001b[0;34m:\u001b[0m\u001b[0;34m\u001b[0m\u001b[0;34m\u001b[0m\u001b[0m\n\u001b[0m\u001b[1;32m      6\u001b[0m     \u001b[0mletter\u001b[0m \u001b[0;34m=\u001b[0m \u001b[0mword\u001b[0m\u001b[0;34m[\u001b[0m\u001b[0mcount\u001b[0m\u001b[0;34m]\u001b[0m\u001b[0;34m\u001b[0m\u001b[0;34m\u001b[0m\u001b[0m\n\u001b[1;32m      7\u001b[0m     \u001b[0;32mif\u001b[0m \u001b[0mletter\u001b[0m \u001b[0;32mnot\u001b[0m \u001b[0;32min\u001b[0m \u001b[0mvowels\u001b[0m\u001b[0;34m:\u001b[0m\u001b[0;34m\u001b[0m\u001b[0;34m\u001b[0m\u001b[0m\n",
      "\u001b[0;31mKeyboardInterrupt\u001b[0m: "
     ]
    }
   ],
   "source": [
    "word = 'alphabet'\n",
    "vowels = 'aeiou'\n",
    "count = 0\n",
    "\n",
    "while count < len(word):\n",
    "    letter = word[count]\n",
    "    if letter not in vowels:\n",
    "        print(letter)\n",
    "        count += 1"
   ]
  },
  {
   "cell_type": "markdown",
   "metadata": {},
   "source": [
    "3.7. Consider the snippet below. What happens if the `word` variable has no vowels?"
   ]
  },
  {
   "cell_type": "code",
   "execution_count": 45,
   "metadata": {},
   "outputs": [
    {
     "name": "stdout",
     "output_type": "stream",
     "text": [
      "l\n",
      "p\n",
      "h\n",
      "b\n",
      "t\n"
     ]
    }
   ],
   "source": [
    "word = 'alphabet'\n",
    "vowels = 'aeiou'\n",
    "count = 0\n",
    "\n",
    "while count < len(word):\n",
    "    letter = word[count]\n",
    "    if letter not in vowels:\n",
    "        print(letter)\n",
    "    count += 1"
   ]
  },
  {
   "cell_type": "markdown",
   "metadata": {},
   "source": [
    "3.8. This snippet uses a `continue` statement. Using a `break` instead would be wrong; why?"
   ]
  },
  {
   "cell_type": "markdown",
   "metadata": {},
   "source": [
    "# in / out\n",
    "\n",
    "- Date : 25/9/20\n",
    "- Notebook : `4_Chapter 4 - Input-Output.ipynb`"
   ]
  },
  {
   "cell_type": "markdown",
   "metadata": {},
   "source": [
    "Make a script (`count.py`) that can take two arguments: a path leading to a text file and a (single) vowel. The script should count how often the specified character occurs in the file and print it to screen."
   ]
  },
  {
   "cell_type": "code",
   "execution_count": null,
   "metadata": {},
   "outputs": [],
   "source": []
  },
  {
   "cell_type": "markdown",
   "metadata": {},
   "source": [
    "Download your favorite book from Project Gutenberg as plain text (mind the `.txt` extension). Write a code cell and create a frequency dictionary for all the characters occuring in the text. Don't forget to lowercase the text, before you start looping over it.\n",
    "\n",
    "For example, this is the link to Alice in Wonderland: http://www.gutenberg.org/cache/epub/19033/pg19033.txt"
   ]
  },
  {
   "cell_type": "code",
   "execution_count": null,
   "metadata": {},
   "outputs": [],
   "source": []
  },
  {
   "cell_type": "markdown",
   "metadata": {},
   "source": [
    "Same as above, but exclude punctuation marks."
   ]
  },
  {
   "cell_type": "code",
   "execution_count": null,
   "metadata": {},
   "outputs": [],
   "source": []
  },
  {
   "cell_type": "markdown",
   "metadata": {},
   "source": [
    "Same as above, but this time for the words (or tokens) in the text."
   ]
  },
  {
   "cell_type": "code",
   "execution_count": null,
   "metadata": {},
   "outputs": [],
   "source": []
  },
  {
   "cell_type": "markdown",
   "metadata": {},
   "source": [
    "Sort the resulting word frequency dictionary by value to find out which word is the most frequent in the text."
   ]
  },
  {
   "cell_type": "code",
   "execution_count": null,
   "metadata": {},
   "outputs": [],
   "source": []
  },
  {
   "cell_type": "markdown",
   "metadata": {},
   "source": [
    "Write the resulting, ordered frequency dictionary away to a file called `frequencies.txt`. Format it as follows, using a tab character (`\\t`) in between the key and value on each line:\n",
    "    \n",
    "```text\n",
    "the\t808\n",
    "and\t404\n",
    "a\t328\n",
    "to\t327\n",
    "of\t318\n",
    "she\t238\n",
    "in\t227\n",
    "it\t183\n",
    "you\t171\n",
    "alice\t168\n",
    "was\t168\n",
    "said\t144\n",
    "i\t127\n",
    "```"
   ]
  },
  {
   "cell_type": "code",
   "execution_count": null,
   "metadata": {},
   "outputs": [],
   "source": []
  },
  {
   "cell_type": "markdown",
   "metadata": {},
   "source": [
    "Continue working on the file which you just downloaded. Load the file again and replace the protagonist's name with your own name. (Hint: you can use: `replace()` for this. Look up online how to use this function.) Create a new file to save the adapted text, and make sure that the new filename has your name in it (e.g. \", starring Enrique\"). Make sure to keep the right extension!"
   ]
  },
  {
   "cell_type": "code",
   "execution_count": null,
   "metadata": {},
   "outputs": [],
   "source": []
  },
  {
   "cell_type": "markdown",
   "metadata": {},
   "source": [
    "# Functions\n",
    "\n",
    " - Date : 28/9/20\n",
    " - Notebook : `5_week_2_functions.ipynb`"
   ]
  },
  {
   "cell_type": "markdown",
   "metadata": {},
   "source": [
    " - Read in a text file (given on the google drive as poirot.txt)"
   ]
  },
  {
   "cell_type": "code",
   "execution_count": null,
   "metadata": {},
   "outputs": [],
   "source": []
  },
  {
   "cell_type": "markdown",
   "metadata": {},
   "source": [
    "- Clean up the text to get rid of punctuation \n",
    "    - take a look at the Python methods .strip() and .isalpha()"
   ]
  },
  {
   "cell_type": "code",
   "execution_count": null,
   "metadata": {},
   "outputs": [],
   "source": []
  },
  {
   "cell_type": "markdown",
   "metadata": {},
   "source": [
    "- Make a frequency dictionary of vowel-consonant templates of words: e.g. C, V, CV, CVC, etc."
   ]
  },
  {
   "cell_type": "code",
   "execution_count": null,
   "metadata": {},
   "outputs": [],
   "source": []
  },
  {
   "cell_type": "markdown",
   "metadata": {},
   "source": [
    "- Print the dictionary out to a file"
   ]
  },
  {
   "cell_type": "code",
   "execution_count": null,
   "metadata": {},
   "outputs": [],
   "source": []
  },
  {
   "cell_type": "markdown",
   "metadata": {},
   "source": [
    "- Make optimal use of decomposition!"
   ]
  },
  {
   "cell_type": "code",
   "execution_count": null,
   "metadata": {},
   "outputs": [],
   "source": []
  }
 ],
 "metadata": {
  "kernelspec": {
   "display_name": "Python 3",
   "language": "python",
   "name": "python3"
  },
  "language_info": {
   "codemirror_mode": {
    "name": "ipython",
    "version": 3
   },
   "file_extension": ".py",
   "mimetype": "text/x-python",
   "name": "python",
   "nbconvert_exporter": "python",
   "pygments_lexer": "ipython3",
   "version": "3.7.4"
  }
 },
 "nbformat": 4,
 "nbformat_minor": 4
}
