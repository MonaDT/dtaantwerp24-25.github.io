{
 "cells": [
  {
   "cell_type": "markdown",
   "metadata": {},
   "source": [
    "# Exercise notebook 1 - Python and variables"
   ]
  },
  {
   "cell_type": "markdown",
   "metadata": {},
   "source": [
    "This Exercise notebook complements the Chapter on *python and variables*. <br>\n",
    "Try to prepare the <ins>underlined exercises </ins> for the exercise sessions.\n",
    "\n"
   ]
  },
  {
   "cell_type": "markdown",
   "metadata": {},
   "source": [
    "1. <ins>create a variable called first_name, and put your own name as value. "
   ]
  },
  {
   "cell_type": "code",
   "execution_count": 2,
   "metadata": {},
   "outputs": [],
   "source": [
    "first_name = 'Mona'"
   ]
  },
  {
   "cell_type": "markdown",
   "metadata": {},
   "source": [
    "2. <ins> Print the variable 'first_name' using the print function. </ins>"
   ]
  },
  {
   "cell_type": "code",
   "execution_count": 3,
   "metadata": {},
   "outputs": [
    {
     "name": "stdout",
     "output_type": "stream",
     "text": [
      "Mona\n"
     ]
    }
   ],
   "source": [
    "print(first_name)"
   ]
  },
  {
   "cell_type": "markdown",
   "metadata": {},
   "source": [
    "3. <ins>Create another variable 'last_name' and add your surname as a value. Concatenate the two strings and add this to a variable 'full_name'. <br> *Make sure that your first name and surname are divided by a whitespace* </ins>"
   ]
  },
  {
   "cell_type": "code",
   "execution_count": 92,
   "metadata": {},
   "outputs": [
    {
     "name": "stdout",
     "output_type": "stream",
     "text": [
      "Mona Allaert\n"
     ]
    }
   ],
   "source": [
    "last_name = 'Allaert'\n",
    "full_name = first_name + ' ' + last_name\n",
    "print(full_name)"
   ]
  },
  {
   "cell_type": "markdown",
   "metadata": {},
   "source": [
    "4. <ins> Create two more variables 'x' and 'y' and assign a number to each variable. </ins>"
   ]
  },
  {
   "cell_type": "code",
   "execution_count": 93,
   "metadata": {},
   "outputs": [],
   "source": [
    "x = 3\n",
    "y = 9"
   ]
  },
  {
   "cell_type": "markdown",
   "metadata": {},
   "source": [
    "5. <ins>Multiply the above two numbers together using their variables and store the result into a new variable. <br>Print the new variable to check if the multiplication worked.</ins>"
   ]
  },
  {
   "cell_type": "code",
   "execution_count": 94,
   "metadata": {},
   "outputs": [
    {
     "name": "stdout",
     "output_type": "stream",
     "text": [
      "27\n"
     ]
    }
   ],
   "source": [
    "a = x * y\n",
    "print(a)"
   ]
  },
  {
   "cell_type": "markdown",
   "metadata": {},
   "source": [
    "6. <ins> Use the same multiplication method to repeat *a string* several times.</ins>"
   ]
  },
  {
   "cell_type": "code",
   "execution_count": 1,
   "metadata": {},
   "outputs": [
    {
     "name": "stdout",
     "output_type": "stream",
     "text": [
      "repeat_repeat_repeat_repeat_repeat_\n"
     ]
    }
   ],
   "source": [
    "print('repeat_' * 5)"
   ]
  },
  {
   "cell_type": "markdown",
   "metadata": {},
   "source": [
    "7. <ins>Change the cell so that output will be 'True'"
   ]
  },
  {
   "cell_type": "code",
   "execution_count": 3,
   "metadata": {},
   "outputs": [
    {
     "data": {
      "text/plain": [
       "True"
      ]
     },
     "execution_count": 3,
     "metadata": {},
     "output_type": "execute_result"
    }
   ],
   "source": [
    "x = 12\n",
    "y = 3*4\n",
    "x == y"
   ]
  },
  {
   "cell_type": "markdown",
   "metadata": {},
   "source": [
    "8. <ins> Can you explain why an error occurs when running the cell below and fix the error(s)? </ins>"
   ]
  },
  {
   "cell_type": "code",
   "execution_count": 97,
   "metadata": {},
   "outputs": [
    {
     "ename": "SyntaxError",
     "evalue": "cannot assign to operator (1907164666.py, line 1)",
     "output_type": "error",
     "traceback": [
      "\u001b[1;36m  File \u001b[1;32m\"C:\\Users\\monaa\\AppData\\Local\\Temp\\ipykernel_16916\\1907164666.py\"\u001b[1;36m, line \u001b[1;32m1\u001b[0m\n\u001b[1;33m    my-name = 'Tommy'\u001b[0m\n\u001b[1;37m    ^\u001b[0m\n\u001b[1;31mSyntaxError\u001b[0m\u001b[1;31m:\u001b[0m cannot assign to operator\n"
     ]
    }
   ],
   "source": [
    "my-name = 'Tommy' #you cannot use hyphens in variable-names. Only underscores -> my_name\n",
    "river_fish_ = 'herring' #this one is fine\n",
    "300 = 'number of Spartans' #the variable name cannot begin with an integer -> nr300 would work\n",
    "Equals10 = 15 #This one is fine\n",
    "\"age\" = 46 #The variable name should not be between quotation marks\n",
    "Time = 'Noon\" #change the quotation marks so that they are either both double quotations, or both single quotations.\n",
    "Cruise = Hardy = Hanks = 'Tom' #this one is fine"
   ]
  },
  {
   "cell_type": "markdown",
   "metadata": {},
   "source": [
    "9. <ins> There are 94 taken seats in the cinema. 46 of the seats are taken by students, who only have to pay 8,5 euros entry. <br>The rest has to pay 10.50 euros. How much would it cost to pay for everyone's ticket? <ins>"
   ]
  },
  {
   "cell_type": "code",
   "execution_count": 98,
   "metadata": {},
   "outputs": [
    {
     "name": "stdout",
     "output_type": "stream",
     "text": [
      "895.0\n"
     ]
    }
   ],
   "source": [
    "total_seats = 94\n",
    "student_seats = 46\n",
    "student_price = 8.5\n",
    "adult_price = 10.5\n",
    "\n",
    "\n",
    "result = (students_seat * student_price) + ((total_seats - students_seat) * adult_price)\n",
    "print(result)"
   ]
  },
  {
   "cell_type": "markdown",
   "metadata": {},
   "source": [
    "## Additional exercises"
   ]
  },
  {
   "cell_type": "markdown",
   "metadata": {},
   "source": [
    "These are extra. You do not need to prepare them for the exercise session."
   ]
  },
  {
   "cell_type": "markdown",
   "metadata": {},
   "source": [
    "10. Suppose the cover price of a book is 24.95 EUR, but bookstores get a 40 percent discount. Shipping costs 3 EUR for the first copy and 75 cents for each additional copy. What is the total wholesale cost for 60 copies? Print the result in a pretty fashion, using casting where necessary!"
   ]
  },
  {
   "cell_type": "code",
   "execution_count": 99,
   "metadata": {},
   "outputs": [
    {
     "name": "stdout",
     "output_type": "stream",
     "text": [
      "945.4499999999999\n"
     ]
    }
   ],
   "source": [
    "cover_price = 24.95\n",
    "discount = cover_price - (cover_price/100 * 40)\n",
    "first_shipping = 3\n",
    "shipping = 0.75\n",
    "copies = 60\n",
    "\n",
    "cost = discount + first_shipping + (59*(discount + shipping))\n",
    "print(cost)"
   ]
  },
  {
   "cell_type": "markdown",
   "metadata": {},
   "source": [
    "11. Can you identify and explain the errors in the following lines of code? Correct them please!"
   ]
  },
  {
   "cell_type": "code",
   "execution_count": 100,
   "metadata": {},
   "outputs": [
    {
     "ename": "SyntaxError",
     "evalue": "invalid syntax (3842681979.py, line 1)",
     "output_type": "error",
     "traceback": [
      "\u001b[1;36m  File \u001b[1;32m\"C:\\Users\\monaa\\AppData\\Local\\Temp\\ipykernel_16916\\3842681979.py\"\u001b[1;36m, line \u001b[1;32m1\u001b[0m\n\u001b[1;33m    print(\"A message\"). # the dot at the end doesn't serve a function\u001b[0m\n\u001b[1;37m                        ^\u001b[0m\n\u001b[1;31mSyntaxError\u001b[0m\u001b[1;31m:\u001b[0m invalid syntax\n"
     ]
    }
   ],
   "source": [
    "print(\"A message\"). # the dot at the end doesn't serve a function\n",
    "print(\"A message'')  # the quotation marks that enclose the string don't match (single vs. double)\n",
    "print('A message\"') # nothing is actually wrong with this: you can use double quotes inside single quotes and vice versa."
   ]
  },
  {
   "cell_type": "markdown",
   "metadata": {},
   "source": [
    "12. Calculate the surface of a circle with a radius of 6. The formula is radius times radius times pi (3.14159)."
   ]
  },
  {
   "cell_type": "code",
   "execution_count": 101,
   "metadata": {},
   "outputs": [
    {
     "data": {
      "text/plain": [
       "113.09724"
      ]
     },
     "execution_count": 101,
     "metadata": {},
     "output_type": "execute_result"
    }
   ],
   "source": [
    "radius = 6\n",
    "pi = 3.14159\n",
    "\n",
    "surface = radius * radius * pi\n",
    "surface"
   ]
  },
  {
   "cell_type": "markdown",
   "metadata": {},
   "source": [
    "13. Use Python as a calculator to calculate the number of seconds in seven years (in one line of code). Assign the output to a variable with a clear variable name. Print the result"
   ]
  },
  {
   "cell_type": "code",
   "execution_count": 102,
   "metadata": {},
   "outputs": [
    {
     "data": {
      "text/plain": [
       "220752000"
      ]
     },
     "execution_count": 102,
     "metadata": {},
     "output_type": "execute_result"
    }
   ],
   "source": [
    "seconds_in_seven_years = (60 * 60 * 24) * 365 * 7\n",
    "seconds_in_seven_years"
   ]
  },
  {
   "cell_type": "markdown",
   "metadata": {},
   "source": [
    "14. Assign a number to the variable 'temperature'. Make sure you can print the statement \"it is ? degrees today\" using the variable.\n"
   ]
  },
  {
   "cell_type": "code",
   "execution_count": 103,
   "metadata": {},
   "outputs": [
    {
     "name": "stdout",
     "output_type": "stream",
     "text": [
      "it is 9 degrees today\n"
     ]
    }
   ],
   "source": [
    "temperature = 9\n",
    "\n",
    "print('it is', temperature, 'degrees today')"
   ]
  },
  {
   "cell_type": "markdown",
   "metadata": {},
   "source": [
    "15. Can you write some code that swaps the values of these two variables? Hint: create an extra variable."
   ]
  },
  {
   "cell_type": "code",
   "execution_count": 104,
   "metadata": {},
   "outputs": [],
   "source": [
    "first_number = 3\n",
    "second_number = 5\n",
    "\n",
    "temp = second_number\n",
    "second_number = first_number\n",
    "first_number = temp\n"
   ]
  },
  {
   "cell_type": "markdown",
   "metadata": {},
   "source": [
    "16. Can you explain why the first cell below runs, and the second doesn't. Change the cells to make sure the error no longer occurs.\n"
   ]
  },
  {
   "cell_type": "code",
   "execution_count": 105,
   "metadata": {},
   "outputs": [
    {
     "data": {
      "text/plain": [
       "'Hansel Gretel'"
      ]
     },
     "execution_count": 105,
     "metadata": {},
     "output_type": "execute_result"
    }
   ],
   "source": [
    "brother = 'Hansel '\n",
    "sister = 'Gretel'\n",
    "siblings = brother + sister\n",
    "siblings"
   ]
  },
  {
   "cell_type": "code",
   "execution_count": 88,
   "metadata": {},
   "outputs": [
    {
     "ename": "TypeError",
     "evalue": "unsupported operand type(s) for +: 'int' and 'str'",
     "output_type": "error",
     "traceback": [
      "\u001b[1;31m---------------------------------------------------------------------------\u001b[0m",
      "\u001b[1;31mTypeError\u001b[0m                                 Traceback (most recent call last)",
      "\u001b[1;32m~\\AppData\\Local\\Temp\\ipykernel_16916\\3198475522.py\u001b[0m in \u001b[0;36m<module>\u001b[1;34m\u001b[0m\n\u001b[0;32m      1\u001b[0m \u001b[0mamount\u001b[0m \u001b[1;33m=\u001b[0m \u001b[1;36m12\u001b[0m\u001b[1;33m\u001b[0m\u001b[1;33m\u001b[0m\u001b[0m\n\u001b[0;32m      2\u001b[0m \u001b[0manimals\u001b[0m \u001b[1;33m=\u001b[0m \u001b[1;34m' monkeys'\u001b[0m\u001b[1;33m\u001b[0m\u001b[1;33m\u001b[0m\u001b[0m\n\u001b[1;32m----> 3\u001b[1;33m \u001b[0mmovie_title\u001b[0m \u001b[1;33m=\u001b[0m \u001b[0mamount\u001b[0m \u001b[1;33m+\u001b[0m \u001b[0manimals\u001b[0m\u001b[1;33m\u001b[0m\u001b[1;33m\u001b[0m\u001b[0m\n\u001b[0m\u001b[0;32m      4\u001b[0m \u001b[0mmovie_title\u001b[0m\u001b[1;33m\u001b[0m\u001b[1;33m\u001b[0m\u001b[0m\n",
      "\u001b[1;31mTypeError\u001b[0m: unsupported operand type(s) for +: 'int' and 'str'"
     ]
    }
   ],
   "source": [
    "amount = 12\n",
    "animals = ' monkeys'\n",
    "movie_title = amount + animals\n",
    "movie_title"
   ]
  },
  {
   "cell_type": "markdown",
   "metadata": {},
   "source": [
    "17. Print the first_name and last_name variables you created in an earlier exercise using only one print statement."
   ]
  },
  {
   "cell_type": "code",
   "execution_count": 106,
   "metadata": {},
   "outputs": [
    {
     "name": "stdout",
     "output_type": "stream",
     "text": [
      "Mona Allaert\n"
     ]
    }
   ],
   "source": [
    "print(first_name, last_name)"
   ]
  },
  {
   "cell_type": "markdown",
   "metadata": {},
   "source": [
    "18. Think about the output before running it. What do you think this cell will return?"
   ]
  },
  {
   "cell_type": "code",
   "execution_count": 5,
   "metadata": {},
   "outputs": [
    {
     "name": "stdout",
     "output_type": "stream",
     "text": [
      "15\n",
      "3\n",
      "14\n"
     ]
    }
   ],
   "source": [
    "x = 3\n",
    "y = 15\n",
    "\n",
    "b = y\n",
    "y = x\n",
    "x = b - 1\n",
    "\n",
    "print(b)\n",
    "print(y)\n",
    "print(x)"
   ]
  },
  {
   "cell_type": "markdown",
   "metadata": {},
   "source": [
    "19. A bit of math. Add brackets to change the value of x so that the statement returns True."
   ]
  },
  {
   "cell_type": "code",
   "execution_count": 5,
   "metadata": {},
   "outputs": [
    {
     "data": {
      "text/plain": [
       "True"
      ]
     },
     "execution_count": 5,
     "metadata": {},
     "output_type": "execute_result"
    }
   ],
   "source": [
    "x = 15 - 6 * 2 - (1 + 2)\n",
    "\n",
    "x == 0"
   ]
  },
  {
   "cell_type": "markdown",
   "metadata": {},
   "source": [
    "20. There are 10 books that will be evenly divided among 3 students. Can you create a python cell to in which you calculate how many books will be left after the even division. TIP: look online to check what the % -operator does."
   ]
  },
  {
   "cell_type": "code",
   "execution_count": 6,
   "metadata": {},
   "outputs": [
    {
     "data": {
      "text/plain": [
       "1"
      ]
     },
     "execution_count": 6,
     "metadata": {},
     "output_type": "execute_result"
    }
   ],
   "source": [
    "books = 10\n",
    "students = 3\n",
    "result = books % students\n",
    "result\n"
   ]
  },
  {
   "cell_type": "markdown",
   "metadata": {},
   "source": [
    "Bonus: can you try to recreate the previous exercise, without using the %-operator? Change the number of books to check if it worked."
   ]
  },
  {
   "cell_type": "code",
   "execution_count": 7,
   "metadata": {},
   "outputs": [
    {
     "data": {
      "text/plain": [
       "1"
      ]
     },
     "execution_count": 7,
     "metadata": {},
     "output_type": "execute_result"
    }
   ],
   "source": [
    "result = books - (int(books/students) * students)\n",
    "result"
   ]
  }
 ],
 "metadata": {
  "kernelspec": {
   "display_name": "Python 3 (ipykernel)",
   "language": "python",
   "name": "python3"
  },
  "language_info": {
   "codemirror_mode": {
    "name": "ipython",
    "version": 3
   },
   "file_extension": ".py",
   "mimetype": "text/x-python",
   "name": "python",
   "nbconvert_exporter": "python",
   "pygments_lexer": "ipython3",
   "version": "3.9.13"
  },
  "vscode": {
   "interpreter": {
    "hash": "96e0a4d32f1918f770291244863a4a1e044b05d1a3b8d455e2e179187e01062a"
   }
  }
 },
 "nbformat": 4,
 "nbformat_minor": 2
}
