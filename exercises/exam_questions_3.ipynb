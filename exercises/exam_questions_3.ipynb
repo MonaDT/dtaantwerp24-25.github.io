{
 "cells": [
  {
   "cell_type": "markdown",
   "metadata": {},
   "source": [
    "# Question 1\n",
    "\n",
    "Using the `countries` dictionary, create a `DataFrame` and plot the population, with the country names as x axis labels."
   ]
  },
  {
   "cell_type": "code",
   "execution_count": 9,
   "metadata": {},
   "outputs": [
    {
     "data": {
      "text/plain": [
       "<matplotlib.axes._subplots.AxesSubplot at 0x7feaf1027150>"
      ]
     },
     "execution_count": 9,
     "metadata": {},
     "output_type": "execute_result"
    },
    {
     "data": {
      "image/png": "[encoded data removed]",
      "text/plain": [
       "<Figure size 432x288 with 1 Axes>"
      ]
     },
     "metadata": {
      "needs_background": "light"
     },
     "output_type": "display_data"
    }
   ],
   "source": [
    "import pandas as pd\n",
    "\n",
    "countries = {\n",
    "'country': ['Belgium', 'France', 'Germany', 'Netherlands', 'United Kingdom'],\n",
    "'population': [11.3, 64.3, 81.3, 16.9, 64.9],\n",
    "'area': [30510, 671308, 357050, 41526, 244820],\n",
    "'capital': ['Brussels', 'Paris', 'Berlin', 'Amsterdam', 'London']}\n",
    "\n",
    "# code here\n",
    "\n",
    "\n"
   ]
  },
  {
   "cell_type": "markdown",
   "metadata": {},
   "source": [
    "Click here for the answer.\n",
    "<!--\n",
    "df = pd.DataFrame(countries)\n",
    "df.set_index('country')['population'].plot(kind='bar')\n",
    "-->"
   ]
  },
  {
   "cell_type": "markdown",
   "metadata": {},
   "source": [
    "# Question 2\n",
    "\n",
    "Use the `regex` package to create a dialogue dictionary of the below conversation. The dictionary should contain lists of messages, under a key for each name."
   ]
  },
  {
   "cell_type": "code",
   "execution_count": 16,
   "metadata": {},
   "outputs": [
    {
     "name": "stdout",
     "output_type": "stream",
     "text": [
      "{'Ben ': [\" How's it going?\", \" I don't believe...\"], 'Mike ': [\" I'm good\", ' Oh come on', ' do one']}\n"
     ]
    }
   ],
   "source": [
    "import re \n",
    "\n",
    "conv = '''\n",
    "Ben : Hey\n",
    "Mike : Hi\n",
    "Ben : How's it going?\n",
    "Mike : I'm good\n",
    "Ben : I don't believe...\n",
    "Mike : Oh come on\n",
    "Mike : do one\n",
    "'''\n",
    "\n",
    "matches = re.findall('(.+):(.+)', conv)\n",
    "\n",
    "d = {}\n",
    "\n",
    "# code here\n"
   ]
  },
  {
   "cell_type": "markdown",
   "metadata": {},
   "source": [
    "click here for the answer\n",
    "<!--\n",
    "for m in matches:\n",
    "    try:\n",
    "        d[m[0]].append(m[1])\n",
    "    except KeyError:\n",
    "        d[m[0]] = []\n",
    "\n",
    "print(d)\n",
    "-->"
   ]
  },
  {
   "cell_type": "markdown",
   "metadata": {},
   "source": [
    "# Question 3\n",
    "\n",
    "Open the file `films.csv` as a pandas dataframe, and plot the average duration of each category."
   ]
  },
  {
   "cell_type": "code",
   "execution_count": 60,
   "metadata": {},
   "outputs": [
    {
     "data": {
      "text/plain": [
       "<matplotlib.axes._subplots.AxesSubplot at 0x7feaf0c54a10>"
      ]
     },
     "execution_count": 60,
     "metadata": {},
     "output_type": "execute_result"
    },
    {
     "data": {
      "image/png": "[encoded data removed]",
      "text/plain": [
       "<Figure size 432x288 with 1 Axes>"
      ]
     },
     "metadata": {
      "needs_background": "light"
     },
     "output_type": "display_data"
    }
   ],
   "source": [
    "# code here \n",
    "\n"
   ]
  },
  {
   "cell_type": "markdown",
   "metadata": {},
   "source": [
    "click here for the answer\n",
    "<!--\n",
    "df = pd.read_csv('films.csv', index_col=0)\n",
    "df.groupby('genres').mean().plot(kind='bar')\n",
    "-->"
   ]
  },
  {
   "cell_type": "markdown",
   "metadata": {},
   "source": [
    "# Question 4\n",
    "\n",
    "Use a while loop to create water boiling monitor system that prints `water boiling` and `water boild` during and at the end of task."
   ]
  },
  {
   "cell_type": "code",
   "execution_count": 59,
   "metadata": {},
   "outputs": [
    {
     "name": "stdout",
     "output_type": "stream",
     "text": [
      "Boilin' the water\n",
      "Boilin' the water\n",
      "Boilin' the water\n",
      "Boilin' the water\n",
      "Boilin' the water\n",
      "Boilin' the water\n",
      "Boilin' the water\n",
      "Boilin' the water\n",
      "Boilin' the water\n",
      "Boilin' the water\n",
      "Water boiled\n"
     ]
    }
   ],
   "source": [
    "# code here\n",
    "\n",
    "\n"
   ]
  },
  {
   "cell_type": "markdown",
   "metadata": {},
   "source": [
    "click here for the answer\n",
    "<!--\n",
    "temp = 0 \n",
    "\n",
    "while True:\n",
    "    print('Boilin\\' the water')\n",
    "    temp += 10\n",
    "    if temp >= 100:\n",
    "        print('Water boiled')\n",
    "        break\n",
    "-->"
   ]
  },
  {
   "cell_type": "code",
   "execution_count": null,
   "metadata": {},
   "outputs": [],
   "source": []
  }
 ],
 "metadata": {
  "kernelspec": {
   "display_name": "Python 3",
   "language": "python",
   "name": "python3"
  },
  "language_info": {
   "codemirror_mode": {
    "name": "ipython",
    "version": 3
   },
   "file_extension": ".py",
   "mimetype": "text/x-python",
   "name": "python",
   "nbconvert_exporter": "python",
   "pygments_lexer": "ipython3",
   "version": "3.7.4"
  }
 },
 "nbformat": 4,
 "nbformat_minor": 4
}
