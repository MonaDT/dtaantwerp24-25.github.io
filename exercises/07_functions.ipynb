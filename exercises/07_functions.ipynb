{
 "cells": [
  {
   "cell_type": "markdown",
   "metadata": {},
   "source": [
    "# Functions"
   ]
  },
  {
   "cell_type": "markdown",
   "metadata": {},
   "source": [
    "**Staff**: Jens Lemmens\n",
    "\n",
    "**Support material**: Class [notebook](https://github.com/dtaantwerp/dtaantwerp.github.io/blob/master/notebooks2021/11_Week2_Wednesday_Functions.ipynb)"
   ]
  },
  {
   "cell_type": "markdown",
   "metadata": {},
   "source": [
    "#### Exercise 1: Replicate the \"len()\" function\n",
    "The function `my_len(iterable)` should take an iterable as its only argument and return the length of that iterable (without using \"len()\"). Test whether your function works by applying it to a string, list, dictionary and tuple."
   ]
  },
  {
   "cell_type": "code",
   "execution_count": null,
   "metadata": {},
   "outputs": [],
   "source": [
    "# Your code here:\n"
   ]
  },
  {
   "cell_type": "code",
   "execution_count": null,
   "metadata": {},
   "outputs": [],
   "source": [
    "# Test your function here\n",
    "print(my_len('word'))\n",
    "print(my_len(['this', 'is', 'a', 'tokenized', 'sentence']))\n",
    "print(my_len({0: 'this', 1: 'is', 2: 'a', 3: 'tokenized', 4: 'sentence', 5: 'with', 6:'token', 7:'positions'}))\n",
    "print(my_len(('this', 'is', 'a', 'tuple')))"
   ]
  },
  {
   "cell_type": "markdown",
   "metadata": {},
   "source": [
    "#### Exercise 2.a: Replicate the \"sum()\" function\n",
    "Define a function that takes a list of numbers as its only argument and that returns the sum of the numbers in that list (do not use \"sum()\" itself)"
   ]
  },
  {
   "cell_type": "code",
   "execution_count": null,
   "metadata": {},
   "outputs": [],
   "source": [
    "def my_sum(lst):\n",
    "    # your code here:\n",
    "    "
   ]
  },
  {
   "cell_type": "code",
   "execution_count": null,
   "metadata": {},
   "outputs": [],
   "source": [
    "# test your function here\n",
    "my_sum([1, 2, 3, 4, 5]) "
   ]
  },
  {
   "cell_type": "markdown",
   "metadata": {},
   "source": [
    "#### Exercise 2.b: Replicate the \"sum()\" function\n",
    "Same as 2.a, but instead of a list, use any number of integers or floats as input"
   ]
  },
  {
   "cell_type": "code",
   "execution_count": null,
   "metadata": {},
   "outputs": [],
   "source": [
    "def my_sum(*nums):\n",
    "    # your code here:\n",
    "    "
   ]
  },
  {
   "cell_type": "code",
   "execution_count": null,
   "metadata": {},
   "outputs": [],
   "source": [
    "#test your function here\n",
    "my_sum(1, 2, 3, 4, 5)"
   ]
  },
  {
   "cell_type": "markdown",
   "metadata": {},
   "source": [
    "#### Exercise 3.a: Write a function that takes two numbers as input and returns the largest number (without using \"max()\")"
   ]
  },
  {
   "cell_type": "code",
   "execution_count": null,
   "metadata": {},
   "outputs": [],
   "source": [
    "def my_max(n1, n2):\n",
    "    # your code here:\n",
    "    \n",
    "    "
   ]
  },
  {
   "cell_type": "code",
   "execution_count": null,
   "metadata": {},
   "outputs": [],
   "source": [
    "#test your function here\n",
    "my_max(10,20)"
   ]
  },
  {
   "cell_type": "markdown",
   "metadata": {},
   "source": [
    "#### Exercise 3.b: Write a function that takes three numbers as input and returns the largest of those number (without using \"max()\")"
   ]
  },
  {
   "cell_type": "code",
   "execution_count": null,
   "metadata": {},
   "outputs": [],
   "source": [
    "def my_max(n1, n2, n3):\n",
    "    # your code here:\n",
    "    \n",
    "    "
   ]
  },
  {
   "cell_type": "code",
   "execution_count": null,
   "metadata": {},
   "outputs": [],
   "source": [
    "#test your function here\n",
    "my_max(10, 20, 30)"
   ]
  },
  {
   "cell_type": "markdown",
   "metadata": {},
   "source": [
    "#### Exercise 3.c: Write a function that takes any number of integers or floats as its arguments and that  returns the largest of those numbers. If less than two arguments are given as input, return \"Please provide at least two numbers\""
   ]
  },
  {
   "cell_type": "code",
   "execution_count": null,
   "metadata": {},
   "outputs": [],
   "source": [
    "def my_max(*args):\n",
    "    # your code here:\n"
   ]
  },
  {
   "cell_type": "code",
   "execution_count": null,
   "metadata": {},
   "outputs": [],
   "source": [
    "#test your function here\n",
    "my_max(1, -500)"
   ]
  },
  {
   "cell_type": "markdown",
   "metadata": {},
   "source": [
    "#### Exercise 4: Create a function that behaves similarly to the .pop() list method\n",
    "- Define a function that takes a list and an index (-1 by default) as input\n",
    "- Modify the list so that the item at the position of the index is removed (without using \"pop()\")\n",
    "- Return a tuple containing the modified list and the deleted element"
   ]
  },
  {
   "cell_type": "code",
   "execution_count": null,
   "metadata": {},
   "outputs": [],
   "source": [
    "# your code here (name your function my_pop):\n"
   ]
  },
  {
   "cell_type": "code",
   "execution_count": null,
   "metadata": {},
   "outputs": [],
   "source": [
    "#test your function here\n",
    "x = [1, 2, 3, 4, 5, 6]\n",
    "my_pop(x)"
   ]
  },
  {
   "cell_type": "markdown",
   "metadata": {},
   "source": [
    "#### Exercise 5: Write a function you can use to greet any number of people by printing \"Hello {name}\""
   ]
  },
  {
   "cell_type": "code",
   "execution_count": null,
   "metadata": {},
   "outputs": [],
   "source": [
    "# your code here (name your function greet):\n"
   ]
  },
  {
   "cell_type": "code",
   "execution_count": null,
   "metadata": {},
   "outputs": [],
   "source": [
    "#test your function\n",
    "greet(\"Walter\", \"Mike\", \"Jens\", \"Ilia\", \"Ben\")"
   ]
  },
  {
   "cell_type": "markdown",
   "metadata": {},
   "source": [
    "#### Exercise 6: Brag with movie knowledge\n",
    "- Write a function that accepts everything you know about a movie as positional arguments, e.g. (title='Forrest Gump', year='1994', etc.)\n",
    "- The function should return a dictionary in the style of {'title': 'Forrest Gump', ...} \n",
    "- To test if the function works: assign a variable name to the generated dictionary and print it (do this for a few of your favorite movies)"
   ]
  },
  {
   "cell_type": "code",
   "execution_count": null,
   "metadata": {},
   "outputs": [],
   "source": [
    "# your function (name it movie_knowledge) here:\n"
   ]
  },
  {
   "cell_type": "code",
   "execution_count": null,
   "metadata": {},
   "outputs": [],
   "source": [
    "forrest_gump = movie_knowledge(title='Forrest Gump', year='1994', main_actor='Tom Hanks')\n",
    "green_mile = movie_knowledge(title='The Green Mile', year='1999', main_actor='Tom Hanks')\n",
    "dark_knight = movie_knowledge(title='The Dark Knight', year='2008', main_actor='Christian Bale', main_character='Batman', villain='Joker')\n",
    "# your own movies here:\n"
   ]
  },
  {
   "cell_type": "code",
   "execution_count": null,
   "metadata": {},
   "outputs": [],
   "source": [
    "# test function here\n",
    "print(forrest_gump)\n",
    "print(green_mile)\n",
    "print(dark_knight)\n",
    "# your own movies here:\n"
   ]
  },
  {
   "cell_type": "markdown",
   "metadata": {},
   "source": [
    "#### Exercise 7: Preprocess text data using decomposition and functions within functions\n",
    "#### Assume you want to preprocess a corpus of text. Below, you can find the first lines of the first Harry Potter novel to experiment.\n",
    "- Create a function that accepts a sentence as input and returns a tokenized sentence (split across whitespace)\n",
    "- Create a function that accepts a sentence as input and returns a lowercased sentence\n",
    "- Create a function that accepts a list of sentences as input and that returns a list of preprocessed sentences (use the functions created in step 1 and 2)\n",
    "- The preprocessing function should allow you to pass arguments that determine whether you want to lowercase and/or tokenize (or not)\n",
    "- Make sure to include a description of your function so that \"help(your_function)\" displays information about how your function works"
   ]
  },
  {
   "cell_type": "code",
   "execution_count": null,
   "metadata": {},
   "outputs": [],
   "source": [
    "corpus = [\"\"\"Mr. and Mrs. Dursley, of number four, Privet Drive, were proud to say that they were perfectly normal, \n",
    "thank you very much.\"\"\", \"\"\"They were the last people you’d expect to be involved in anything strange or mysterious,\n",
    "because they just didn’t hold with such nonsense.\"\"\", \"\"\"Mr. Dursley was the director of a firm called Grunnings,\n",
    "which made drills.\"\"\", \"\"\"He was a big, beefy man with hardly any neck, although he did have a very large mustache.\"\"\",\n",
    "\"\"\"Mrs. Dursley was thin and blonde and had nearly twice the usual amount of neck, \n",
    "which came in very useful as she spent so much of hertime craning over garden fences, spying on the neighbors.\"\"\", \n",
    "\"\"\"The Dursleys had a small son called Dudley and in their opinion there was no finer boy anywhere.\"\"\"]"
   ]
  },
  {
   "cell_type": "code",
   "execution_count": null,
   "metadata": {},
   "outputs": [],
   "source": [
    "# Your code here:"
   ]
  },
  {
   "cell_type": "code",
   "execution_count": null,
   "metadata": {},
   "outputs": [],
   "source": [
    "# test preprocessing function here\n",
    "preprocess(corpus)"
   ]
  },
  {
   "cell_type": "code",
   "execution_count": null,
   "metadata": {},
   "outputs": [],
   "source": [
    "# test \"help(your_function)\"\" here\n",
    "help(preprocess)"
   ]
  },
  {
   "cell_type": "markdown",
   "metadata": {},
   "source": [
    "#### Exercise 8: Google what the following existing functions do and what arguments they take\n",
    "- random.random()\n",
    "- random.randint()\n",
    "- random.shuffle()\n",
    "- random.sample()\n",
    "- math.sqrt()\n",
    "- math.pow()\n",
    "- round()\n",
    "- help()"
   ]
  },
  {
   "cell_type": "code",
   "execution_count": null,
   "metadata": {},
   "outputs": [],
   "source": [
    "import random\n",
    "import math\n",
    "# experiment with these functions here:\n",
    "\n"
   ]
  },
  {
   "cell_type": "code",
   "execution_count": null,
   "metadata": {},
   "outputs": [],
   "source": []
  }
 ],
 "metadata": {
  "kernelspec": {
   "display_name": "Python 3",
   "language": "python",
   "name": "python3"
  },
  "language_info": {
   "codemirror_mode": {
    "name": "ipython",
    "version": 3
   },
   "file_extension": ".py",
   "mimetype": "text/x-python",
   "name": "python",
   "nbconvert_exporter": "python",
   "pygments_lexer": "ipython3",
   "version": "3.7.4"
  }
 },
 "nbformat": 4,
 "nbformat_minor": 5
}
